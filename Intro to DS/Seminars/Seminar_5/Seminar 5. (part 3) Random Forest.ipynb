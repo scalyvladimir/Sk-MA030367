{
 "cells": [
  {
   "cell_type": "markdown",
   "metadata": {},
   "source": [
    "Video link https://youtu.be/Biz4coBaiwQ\n",
    "\n",
    "# Ensembling idea.\n",
    "\n",
    "\n",
    "\n",
    "![ensemble_idea](https://downloader.disk.yandex.ru/preview/a86064c946211caf33a12af4e10641f5a8d4759dc7dc8157c722f7d9869d6e4b/5f68ebed/5SYR9-AY_huKpOdAV-UM2N1c6gfVSabAbt7Ic24vUMfCRPJJDIAgbw_0WbH5S0KfuDrrjCo3BR4z37iLKLcVvw==?uid=0&filename=Screenshot+from+2020-09-21+17-05-11.png&disposition=inline&hash=&limit=0&content_type=image%2Fpng&tknv=v2&owner_uid=159868851&size=2048x2048)\n",
    "\n",
    "picture link https://yadi.sk/i/Ku4Nsv4RcjNVrg"
   ]
  },
  {
   "cell_type": "code",
   "execution_count": null,
   "metadata": {},
   "outputs": [],
   "source": []
  },
  {
   "cell_type": "code",
   "execution_count": 1,
   "metadata": {},
   "outputs": [],
   "source": [
    "from sklearn.tree import DecisionTreeClassifier\n",
    "from sklearn.metrics import accuracy_score\n",
    "from sklearn.datasets import load_digits\n",
    "from sklearn.model_selection import train_test_split\n",
    "from tqdm import tqdm_notebook\n",
    "import numpy as np\n",
    "\n",
    "import warnings\n",
    "warnings.filterwarnings('ignore')\n",
    "\n",
    "import matplotlib.pyplot as plt\n",
    "%matplotlib inline"
   ]
  },
  {
   "cell_type": "code",
   "execution_count": 2,
   "metadata": {},
   "outputs": [],
   "source": [
    "X, y = load_digits(n_class=10, return_X_y=True)"
   ]
  },
  {
   "cell_type": "code",
   "execution_count": 3,
   "metadata": {},
   "outputs": [
    {
     "data": {
      "text/plain": [
       "(1797, 64)"
      ]
     },
     "execution_count": 3,
     "metadata": {},
     "output_type": "execute_result"
    }
   ],
   "source": [
    "X.shape"
   ]
  },
  {
   "cell_type": "code",
   "execution_count": 4,
   "metadata": {},
   "outputs": [
    {
     "name": "stdout",
     "output_type": "stream",
     "text": [
      "[ 0.  0.  5. 13.  9.  1.  0.  0.  0.  0. 13. 15. 10. 15.  5.  0.  0.  3.\n",
      " 15.  2.  0. 11.  8.  0.  0.  4. 12.  0.  0.  8.  8.  0.  0.  5.  8.  0.\n",
      "  0.  9.  8.  0.  0.  4. 11.  0.  1. 12.  7.  0.  0.  2. 14.  5. 10. 12.\n",
      "  0.  0.  0.  0.  6. 13. 10.  0.  0.  0.]\n"
     ]
    }
   ],
   "source": [
    "print(X[0])"
   ]
  },
  {
   "cell_type": "code",
   "execution_count": 5,
   "metadata": {},
   "outputs": [
    {
     "name": "stdout",
     "output_type": "stream",
     "text": [
      "[[ 0.  0.  5. 13.  9.  1.  0.  0.]\n",
      " [ 0.  0. 13. 15. 10. 15.  5.  0.]\n",
      " [ 0.  3. 15.  2.  0. 11.  8.  0.]\n",
      " [ 0.  4. 12.  0.  0.  8.  8.  0.]\n",
      " [ 0.  5.  8.  0.  0.  9.  8.  0.]\n",
      " [ 0.  4. 11.  0.  1. 12.  7.  0.]\n",
      " [ 0.  2. 14.  5. 10. 12.  0.  0.]\n",
      " [ 0.  0.  6. 13. 10.  0.  0.  0.]]\n"
     ]
    }
   ],
   "source": [
    "print(X[0].reshape(8,8))"
   ]
  },
  {
   "cell_type": "code",
   "execution_count": 6,
   "metadata": {},
   "outputs": [
    {
     "data": {
      "image/png": "[encoded data removed]",
      "text/plain": [
       "<Figure size 432x288 with 1 Axes>"
      ]
     },
     "metadata": {
      "needs_background": "light"
     },
     "output_type": "display_data"
    }
   ],
   "source": [
    "plt.imshow(X[0].reshape(8,8));"
   ]
  },
  {
   "cell_type": "code",
   "execution_count": 7,
   "metadata": {},
   "outputs": [
    {
     "data": {
      "text/plain": [
       "0"
      ]
     },
     "execution_count": 7,
     "metadata": {},
     "output_type": "execute_result"
    }
   ],
   "source": [
    "y[0]"
   ]
  },
  {
   "cell_type": "code",
   "execution_count": 8,
   "metadata": {},
   "outputs": [
    {
     "data": {
      "image/png": "[encoded data removed]",
      "text/plain": [
       "<Figure size 432x288 with 1 Axes>"
      ]
     },
     "metadata": {
      "needs_background": "light"
     },
     "output_type": "display_data"
    }
   ],
   "source": [
    "plt.imshow(X[1].reshape(8,8));"
   ]
  },
  {
   "cell_type": "code",
   "execution_count": 9,
   "metadata": {},
   "outputs": [
    {
     "data": {
      "text/plain": [
       "1"
      ]
     },
     "execution_count": 9,
     "metadata": {},
     "output_type": "execute_result"
    }
   ],
   "source": [
    "y[1]"
   ]
  },
  {
   "cell_type": "code",
   "execution_count": 10,
   "metadata": {},
   "outputs": [
    {
     "data": {
      "image/png": "[encoded data removed]",
      "text/plain": [
       "<Figure size 432x288 with 1 Axes>"
      ]
     },
     "metadata": {
      "needs_background": "light"
     },
     "output_type": "display_data"
    }
   ],
   "source": [
    "plt.imshow(X[50].reshape(8,8));"
   ]
  },
  {
   "cell_type": "code",
   "execution_count": 11,
   "metadata": {},
   "outputs": [
    {
     "data": {
      "text/plain": [
       "2"
      ]
     },
     "execution_count": 11,
     "metadata": {},
     "output_type": "execute_result"
    }
   ],
   "source": [
    "y[50]"
   ]
  },
  {
   "cell_type": "code",
   "execution_count": 12,
   "metadata": {},
   "outputs": [],
   "source": [
    "X_train, X_test, y_train, y_test = train_test_split(X, y, test_size=0.33, random_state=1)"
   ]
  },
  {
   "cell_type": "markdown",
   "metadata": {},
   "source": [
    "---\n",
    "### We need many `stupid` classifiers which make `errors in different parts` of the feature space.\n",
    "\n",
    "# 1. Random `features` sampling"
   ]
  },
  {
   "cell_type": "code",
   "execution_count": 13,
   "metadata": {},
   "outputs": [
    {
     "name": "stdout",
     "output_type": "stream",
     "text": [
      "Test accuracy: 0.313\n",
      "Features used for splitting: (array([10, 33, 43]),)\n",
      "\n",
      "-------\n",
      "\n",
      "Test accuracy: 0.340\n",
      "Features used for splitting: (array([21, 50, 54]),)\n",
      "\n",
      "-------\n",
      "\n",
      "Test accuracy: 0.337\n",
      "Features used for splitting: (array([ 2, 25, 44]),)\n",
      "\n",
      "-------\n",
      "\n",
      "Test accuracy: 0.301\n",
      "Features used for splitting: (array([10, 28, 61]),)\n",
      "\n",
      "-------\n",
      "\n",
      "Test accuracy: 0.274\n",
      "Features used for splitting: (array([36, 43, 58]),)\n",
      "\n",
      "-------\n",
      "\n"
     ]
    }
   ],
   "source": [
    "predict_proba_models = []\n",
    "\n",
    "for state in range(5):\n",
    "    \n",
    "    model = DecisionTreeClassifier(max_features=4, max_depth=2, random_state=state)\n",
    "    model.fit(X_train, y_train)\n",
    "    \n",
    "    y_pred_proba = model.predict_proba(X_test)\n",
    "    predict_proba_models.append(y_pred_proba)\n",
    "    y_pred = model.predict(X_test)\n",
    "\n",
    "    print('Test accuracy: {:.3f}'.format(accuracy_score(y_test, y_pred)))\n",
    "    print('Features used for splitting: {}'.format(np.nonzero(model.feature_importances_)))\n",
    "    print('\\n-------\\n')\n",
    "    \n",
    "predict_proba_models = np.array(predict_proba_models)"
   ]
  },
  {
   "cell_type": "code",
   "execution_count": 14,
   "metadata": {},
   "outputs": [
    {
     "data": {
      "text/plain": [
       "<matplotlib.image.AxesImage at 0x7f164ef13310>"
      ]
     },
     "execution_count": 14,
     "metadata": {},
     "output_type": "execute_result"
    },
    {
     "data": {
      "image/png": "[encoded data removed]",
      "text/plain": [
       "<Figure size 432x288 with 1 Axes>"
      ]
     },
     "metadata": {
      "needs_background": "light"
     },
     "output_type": "display_data"
    }
   ],
   "source": [
    "plt.imshow(X_test[0].reshape(8,8))"
   ]
  },
  {
   "cell_type": "code",
   "execution_count": 15,
   "metadata": {},
   "outputs": [
    {
     "data": {
      "text/plain": [
       "array([0.01623377, 0.08116883, 0.31493506, 0.01623377, 0.03571429,\n",
       "       0.11038961, 0.03246753, 0.24675325, 0.13636364, 0.00974026])"
      ]
     },
     "execution_count": 15,
     "metadata": {},
     "output_type": "execute_result"
    }
   ],
   "source": [
    "y_pred_proba[0]"
   ]
  },
  {
   "cell_type": "code",
   "execution_count": 16,
   "metadata": {},
   "outputs": [
    {
     "name": "stdout",
     "output_type": "stream",
     "text": [
      "(5, 594, 10)\n"
     ]
    }
   ],
   "source": [
    "print(predict_proba_models.shape)"
   ]
  },
  {
   "cell_type": "markdown",
   "metadata": {},
   "source": [
    "## Average prediction of 5 Decision Trees on a same `test set`"
   ]
  },
  {
   "cell_type": "code",
   "execution_count": 17,
   "metadata": {},
   "outputs": [
    {
     "name": "stdout",
     "output_type": "stream",
     "text": [
      "[[0.0654304  0.1205001  0.16681479 0.07728058 0.06610051 0.082567\n",
      "  0.07777743 0.12617845 0.15818692 0.05916383]\n",
      " [0.1379642  0.03741738 0.1759389  0.06424896 0.03936326 0.22055686\n",
      "  0.07853665 0.09506412 0.09661923 0.05429043]\n",
      " [0.26136477 0.03545851 0.16843784 0.02809811 0.01685853 0.12744408\n",
      "  0.08258417 0.09067697 0.12967333 0.0594037 ]]\n"
     ]
    }
   ],
   "source": [
    "mean_predict_proba = predict_proba_models.mean(axis=0)\n",
    "print(mean_predict_proba[:3])"
   ]
  },
  {
   "cell_type": "code",
   "execution_count": 18,
   "metadata": {},
   "outputs": [
    {
     "name": "stdout",
     "output_type": "stream",
     "text": [
      "[2 5 0]\n"
     ]
    }
   ],
   "source": [
    "mean_predict = np.argmax(mean_predict_proba, axis=1)\n",
    "print(mean_predict[:3])"
   ]
  },
  {
   "cell_type": "code",
   "execution_count": 19,
   "metadata": {},
   "outputs": [
    {
     "name": "stdout",
     "output_type": "stream",
     "text": [
      "0.6430976430976431\n"
     ]
    }
   ],
   "source": [
    "print(accuracy_score(y_test, mean_predict))"
   ]
  },
  {
   "cell_type": "code",
   "execution_count": null,
   "metadata": {},
   "outputs": [],
   "source": []
  },
  {
   "cell_type": "markdown",
   "metadata": {},
   "source": [
    "# 2. Random `observations` sample"
   ]
  },
  {
   "cell_type": "code",
   "execution_count": 21,
   "metadata": {},
   "outputs": [],
   "source": [
    "def bootstrap_indices(random_state, n_samples):\n",
    "    \"\"\"Return random indices with repetition (bootstrap).\"\"\"\n",
    "    rs = np.random.RandomState(random_state)\n",
    "    sample_indices = rs.randint(low=0, high=n_samples, size=n_samples)\n",
    "    return sample_indices"
   ]
  },
  {
   "cell_type": "code",
   "execution_count": 22,
   "metadata": {},
   "outputs": [
    {
     "data": {
      "text/plain": [
       "array([5, 8, 9, 5, 0, 0, 1, 7, 6, 9])"
      ]
     },
     "execution_count": 22,
     "metadata": {},
     "output_type": "execute_result"
    }
   ],
   "source": [
    "bootstrap_indices(1, 10)"
   ]
  },
  {
   "cell_type": "code",
   "execution_count": 23,
   "metadata": {},
   "outputs": [
    {
     "data": {
      "text/plain": [
       "(1203, 64)"
      ]
     },
     "execution_count": 23,
     "metadata": {},
     "output_type": "execute_result"
    }
   ],
   "source": [
    "X_train.shape"
   ]
  },
  {
   "cell_type": "code",
   "execution_count": 24,
   "metadata": {},
   "outputs": [
    {
     "name": "stdout",
     "output_type": "stream",
     "text": [
      "Accuracy: 0.242\n",
      "Features used for splitting: (array([1, 2, 3]),)\n",
      "\n",
      "-------\n",
      "\n",
      "Accuracy: 0.279\n",
      "Features used for splitting: (array([0, 2, 3]),)\n",
      "\n",
      "-------\n",
      "\n",
      "Accuracy: 0.311\n",
      "Features used for splitting: (array([0, 2, 3]),)\n",
      "\n",
      "-------\n",
      "\n",
      "Accuracy: 0.295\n",
      "Features used for splitting: (array([0, 2, 3]),)\n",
      "\n",
      "-------\n",
      "\n",
      "Accuracy: 0.279\n",
      "Features used for splitting: (array([0, 2, 3]),)\n",
      "\n",
      "-------\n",
      "\n"
     ]
    }
   ],
   "source": [
    "predict_proba_models = []\n",
    "\n",
    "features = [2, 19, 25, 44]\n",
    "\n",
    "for state in range(5):\n",
    "   \n",
    "    ind = bootstrap_indices(state, X_train.shape[0])\n",
    "    X_train_, y_train_ =  X_train[ind, :][:, features], y_train[ind]\n",
    "    \n",
    "    model = DecisionTreeClassifier(max_features=4, max_depth=2, random_state=2)\n",
    "\n",
    "    model.fit(X_train_, y_train_)\n",
    "    y_pred_proba = model.predict_proba(X_test[:, features])\n",
    "    predict_proba_models.append(y_pred_proba)\n",
    "    \n",
    "    y_pred = np.argmax(y_pred_proba, axis=1)\n",
    "    print('Accuracy: {:.3f}'.format(accuracy_score(y_test, y_pred)))\n",
    "    print('Features used for splitting: {}'.format(np.nonzero(model.feature_importances_)))\n",
    "    print('\\n-------\\n')\n",
    "\n",
    "predict_proba_models = np.array(predict_proba_models)"
   ]
  },
  {
   "cell_type": "code",
   "execution_count": 25,
   "metadata": {},
   "outputs": [
    {
     "name": "stdout",
     "output_type": "stream",
     "text": [
      "0.3956228956228956\n"
     ]
    }
   ],
   "source": [
    "mean_predict_proba = predict_proba_models.sum(axis=0) / 5\n",
    "mean_predict = np.argmax(mean_predict_proba, axis=1)\n",
    "\n",
    "print(accuracy_score(y_test, mean_predict))"
   ]
  },
  {
   "cell_type": "code",
   "execution_count": null,
   "metadata": {},
   "outputs": [],
   "source": []
  },
  {
   "cell_type": "markdown",
   "metadata": {},
   "source": [
    "# 3. `Features` and `observations` sampling"
   ]
  },
  {
   "cell_type": "code",
   "execution_count": 30,
   "metadata": {},
   "outputs": [
    {
     "name": "stdout",
     "output_type": "stream",
     "text": [
      "Accuracy: 0.276\n",
      "Accuracy: 0.320\n",
      "Accuracy: 0.278\n",
      "Accuracy: 0.273\n",
      "Accuracy: 0.311\n",
      "(5, 594, 10)\n",
      "Random Forest Accuracy: 0.5909090909090909\n"
     ]
    }
   ],
   "source": [
    "# TRAINING\n",
    "\n",
    "models = []\n",
    "rs = [1791095845, 2135392491, 946286476, 1857819720, 491263] # list(range(5))\n",
    "\n",
    "for state in rs:\n",
    "    \n",
    "    ind = bootstrap_indices(state, X_train.shape[0])\n",
    "    X_train_, y_train_ = X_train[ind], y_train[ind]\n",
    "    \n",
    "    model = DecisionTreeClassifier(max_features=6, max_depth=2, random_state=state)\n",
    "\n",
    "    model.fit(X_train_, y_train_)    \n",
    "    models.append(model)  # Save trained model\n",
    "\n",
    "# PREDICTION\n",
    "\n",
    "predict_proba_models = []\n",
    "\n",
    "for model in models:\n",
    "\n",
    "    y_pred_proba = model.predict_proba(X_test)\n",
    "    predict_proba_models.append(y_pred_proba)\n",
    "    y_pred = np.argmax(y_pred_proba, axis=1)\n",
    "\n",
    "    print('Accuracy: {:.3f}'.format(accuracy_score(y_test, y_pred)))\n",
    "    \n",
    "    \n",
    "predict_proba_models = np.array(predict_proba_models)\n",
    "\n",
    "print(predict_proba_models.shape)\n",
    "\n",
    "mean_predict_proba = predict_proba_models.mean(axis=0)\n",
    "mean_predict = np.argmax(mean_predict_proba, axis=1)\n",
    "\n",
    "print('Random Forest Accuracy:', accuracy_score(y_test, mean_predict))"
   ]
  },
  {
   "cell_type": "code",
   "execution_count": null,
   "metadata": {},
   "outputs": [],
   "source": []
  },
  {
   "cell_type": "code",
   "execution_count": null,
   "metadata": {},
   "outputs": [],
   "source": []
  },
  {
   "cell_type": "markdown",
   "metadata": {},
   "source": [
    "# 4. Random Forest"
   ]
  },
  {
   "cell_type": "code",
   "execution_count": 27,
   "metadata": {},
   "outputs": [],
   "source": [
    "from sklearn.ensemble import RandomForestClassifier"
   ]
  },
  {
   "cell_type": "code",
   "execution_count": 28,
   "metadata": {},
   "outputs": [
    {
     "name": "stdout",
     "output_type": "stream",
     "text": [
      "0.5909090909090909\n"
     ]
    }
   ],
   "source": [
    "model = RandomForestClassifier(n_estimators=5, max_features=6, max_depth=2, random_state=1) \n",
    "\n",
    "model.fit(X_train, y_train)\n",
    "y_pred = model.predict(X_test)\n",
    "\n",
    "print(accuracy_score(y_test, y_pred))"
   ]
  },
  {
   "cell_type": "code",
   "execution_count": 29,
   "metadata": {},
   "outputs": [
    {
     "name": "stdout",
     "output_type": "stream",
     "text": [
      "[1791095845, 2135392491, 946286476, 1857819720, 491263]\n"
     ]
    }
   ],
   "source": [
    "rs = []\n",
    "for m in model.estimators_:\n",
    "    rs.append(m.random_state)\n",
    "    \n",
    "print(rs)"
   ]
  },
  {
   "cell_type": "code",
   "execution_count": null,
   "metadata": {},
   "outputs": [],
   "source": []
  },
  {
   "cell_type": "code",
   "execution_count": 31,
   "metadata": {},
   "outputs": [],
   "source": [
    "def rf_train_test_accuracy(param_name, param_grid, **params):\n",
    "    \"\"\"Returns train and test perfomance of a RandomForest for\n",
    "    different values (param_grid) of a hyperparameter (param_name).\"\"\"\n",
    "    \n",
    "    train_score, test_score = [], []\n",
    "    clf = RandomForestClassifier(n_estimators=5, max_features=8, max_depth=6, random_state=1, n_jobs=-1)\n",
    "    if params:\n",
    "        clf.set_params(**params)\n",
    "    \n",
    "    for param_value in tqdm_notebook(param_grid):\n",
    "        clf.set_params(**{param_name: param_value})\n",
    "        clf.fit(X_train, y_train)\n",
    "\n",
    "        train_score.append(accuracy_score(y_train, clf.predict(X_train)))\n",
    "        test_score.append(accuracy_score(y_test, clf.predict(X_test)))\n",
    "    return train_score, test_score"
   ]
  },
  {
   "cell_type": "markdown",
   "metadata": {},
   "source": [
    "## 4.1 Random Forest. Number of trees"
   ]
  },
  {
   "cell_type": "code",
   "execution_count": 32,
   "metadata": {},
   "outputs": [
    {
     "data": {
      "application/vnd.jupyter.widget-view+json": {
       "model_id": "c715b5b5e397403b877d8a1a27d7c27a",
       "version_major": 2,
       "version_minor": 0
      },
      "text/plain": [
       "HBox(children=(FloatProgress(value=0.0, max=25.0), HTML(value='')))"
      ]
     },
     "metadata": {},
     "output_type": "display_data"
    },
    {
     "name": "stdout",
     "output_type": "stream",
     "text": [
      "\n"
     ]
    }
   ],
   "source": [
    "train_accuracy, test_accuracy = rf_train_test_accuracy('n_estimators', range(1, 50, 2))"
   ]
  },
  {
   "cell_type": "code",
   "execution_count": 33,
   "metadata": {},
   "outputs": [
    {
     "data": {
      "image/png": "[encoded data removed]",
      "text/plain": [
       "<Figure size 720x360 with 1 Axes>"
      ]
     },
     "metadata": {
      "needs_background": "light"
     },
     "output_type": "display_data"
    }
   ],
   "source": [
    "plt.figure(figsize=(10,5))\n",
    "plt.plot(list(range(1,50,2)), 1-np.array(train_accuracy), c='r', label='Train error')\n",
    "plt.plot(list(range(1,50,2)), 1-np.array(test_accuracy), c='b', label='Test error')\n",
    "plt.xlabel('Number of trees in the forest')\n",
    "plt.ylabel('Classification error (1 - accuracy).')\n",
    "plt.legend();"
   ]
  },
  {
   "cell_type": "markdown",
   "metadata": {},
   "source": [
    "## 4.2 Random Forest. Tree depth"
   ]
  },
  {
   "cell_type": "code",
   "execution_count": 34,
   "metadata": {},
   "outputs": [
    {
     "data": {
      "application/vnd.jupyter.widget-view+json": {
       "model_id": "ae1b5ee9f0c340039ee5cb30f55b32c2",
       "version_major": 2,
       "version_minor": 0
      },
      "text/plain": [
       "HBox(children=(FloatProgress(value=0.0, max=29.0), HTML(value='')))"
      ]
     },
     "metadata": {},
     "output_type": "display_data"
    },
    {
     "name": "stdout",
     "output_type": "stream",
     "text": [
      "\n"
     ]
    }
   ],
   "source": [
    "train_accuracy, test_accuracy = rf_train_test_accuracy('max_depth', range(1, 30))"
   ]
  },
  {
   "cell_type": "code",
   "execution_count": 35,
   "metadata": {},
   "outputs": [
    {
     "data": {
      "image/png": "[encoded data removed]",
      "text/plain": [
       "<Figure size 720x360 with 1 Axes>"
      ]
     },
     "metadata": {
      "needs_background": "light"
     },
     "output_type": "display_data"
    }
   ],
   "source": [
    "plt.figure(figsize=(10,5))\n",
    "plt.plot(list(range(1,30)), 1-np.array(train_accuracy), c='r', label='Train error')\n",
    "plt.plot(list(range(1,30)), 1-np.array(test_accuracy), c='b', label='Test error')\n",
    "plt.xlabel('Tree depth')\n",
    "plt.ylabel('Classification error (1 - accuracy).')\n",
    "plt.legend();"
   ]
  },
  {
   "cell_type": "code",
   "execution_count": null,
   "metadata": {},
   "outputs": [],
   "source": []
  },
  {
   "cell_type": "markdown",
   "metadata": {},
   "source": [
    "## 4.3 Random Forest. Number of max features"
   ]
  },
  {
   "cell_type": "code",
   "execution_count": 36,
   "metadata": {},
   "outputs": [
    {
     "data": {
      "application/vnd.jupyter.widget-view+json": {
       "model_id": "095af42e4ff748a18852d7202ba33d55",
       "version_major": 2,
       "version_minor": 0
      },
      "text/plain": [
       "HBox(children=(FloatProgress(value=0.0, max=63.0), HTML(value='')))"
      ]
     },
     "metadata": {},
     "output_type": "display_data"
    },
    {
     "name": "stdout",
     "output_type": "stream",
     "text": [
      "\n"
     ]
    }
   ],
   "source": [
    "train_accuracy, test_accuracy = rf_train_test_accuracy('max_features', range(1, 64))"
   ]
  },
  {
   "cell_type": "code",
   "execution_count": 37,
   "metadata": {},
   "outputs": [
    {
     "data": {
      "image/png": "[encoded data removed]",
      "text/plain": [
       "<Figure size 720x360 with 1 Axes>"
      ]
     },
     "metadata": {
      "needs_background": "light"
     },
     "output_type": "display_data"
    }
   ],
   "source": [
    "plt.figure(figsize=(10,5))\n",
    "plt.plot(list(range(1, 64)), 1-np.array(train_accuracy), c='r', label='Train error')\n",
    "plt.plot(list(range(1, 64)), 1-np.array(test_accuracy), c='b', label='Test error')\n",
    "plt.xlabel('Max features to consider for split')\n",
    "plt.ylabel('Classification error (1 - accuracy).')\n",
    "plt.legend();"
   ]
  },
  {
   "cell_type": "code",
   "execution_count": 38,
   "metadata": {},
   "outputs": [
    {
     "data": {
      "application/vnd.jupyter.widget-view+json": {
       "model_id": "56e487872a804a3b8dc6135223766466",
       "version_major": 2,
       "version_minor": 0
      },
      "text/plain": [
       "HBox(children=(FloatProgress(value=0.0, max=63.0), HTML(value='')))"
      ]
     },
     "metadata": {},
     "output_type": "display_data"
    },
    {
     "name": "stdout",
     "output_type": "stream",
     "text": [
      "\n"
     ]
    }
   ],
   "source": [
    "params = {\n",
    "    'n_estimators': 20,\n",
    "    'max_depth': 10\n",
    "}\n",
    "train_accuracy, test_accuracy = rf_train_test_accuracy('max_features', range(1, 64), **params)"
   ]
  },
  {
   "cell_type": "code",
   "execution_count": 39,
   "metadata": {},
   "outputs": [
    {
     "data": {
      "image/png": "[encoded data removed]",
      "text/plain": [
       "<Figure size 720x360 with 1 Axes>"
      ]
     },
     "metadata": {
      "needs_background": "light"
     },
     "output_type": "display_data"
    }
   ],
   "source": [
    "plt.figure(figsize=(10,5))\n",
    "plt.plot(list(range(1, 64)), 1-np.array(train_accuracy), c='r', label='Train error')\n",
    "plt.plot(list(range(1, 64)), 1-np.array(test_accuracy), c='b', label='Test error')\n",
    "plt.xlabel('Max features to consider for split')\n",
    "plt.ylabel('Classification error (1 - accuracy).')\n",
    "plt.legend();"
   ]
  },
  {
   "cell_type": "code",
   "execution_count": null,
   "metadata": {},
   "outputs": [],
   "source": [
    "# Typically something between log2(k) and sqrt(k) will work as a max_features"
   ]
  }
 ],
 "metadata": {
  "kernelspec": {
   "display_name": "Python 3 (ipykernel)",
   "language": "python",
   "name": "python3"
  },
  "language_info": {
   "codemirror_mode": {
    "name": "ipython",
    "version": 3
   },
   "file_extension": ".py",
   "mimetype": "text/x-python",
   "name": "python",
   "nbconvert_exporter": "python",
   "pygments_lexer": "ipython3",
   "version": "3.7.6"
  }
 },
 "nbformat": 4,
 "nbformat_minor": 4
}
