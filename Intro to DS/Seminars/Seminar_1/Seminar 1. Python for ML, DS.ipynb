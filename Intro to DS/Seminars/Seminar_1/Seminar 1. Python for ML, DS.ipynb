{
 "cells": [
  {
   "cell_type": "markdown",
   "metadata": {},
   "source": [
    "# Load the data"
   ]
  },
  {
   "cell_type": "code",
   "execution_count": 97,
   "metadata": {},
   "outputs": [
    {
     "name": "stdout",
     "output_type": "stream",
     "text": [
      "1 1\n",
      "1 1\n",
      "1 1\n",
      "1 1\n",
      "1 1\n",
      "0 1\n",
      "0 1\n",
      "0 1\n",
      "0 1\n",
      "0 1\n"
     ]
    }
   ],
   "source": [
    "y_true = [1,1,1,1,1,0,0,0,0,0]\n",
    "y_pred = [0,0,0,1,1,0,1,1,1,0]\n",
    "\n",
    "for y1, y2 in zip(y_true, y_pred):\n",
    "    print(y1, y2)"
   ]
  },
  {
   "cell_type": "code",
   "execution_count": 99,
   "metadata": {},
   "outputs": [
    {
     "data": {
      "text/plain": [
       "0.4"
      ]
     },
     "execution_count": 99,
     "metadata": {},
     "output_type": "execute_result"
    }
   ],
   "source": [
    "4 / 10"
   ]
  },
  {
   "cell_type": "code",
   "execution_count": null,
   "metadata": {},
   "outputs": [],
   "source": []
  },
  {
   "cell_type": "code",
   "execution_count": null,
   "metadata": {},
   "outputs": [],
   "source": []
  },
  {
   "cell_type": "code",
   "execution_count": null,
   "metadata": {},
   "outputs": [],
   "source": []
  },
  {
   "cell_type": "code",
   "execution_count": 1,
   "metadata": {},
   "outputs": [],
   "source": [
    "import pandas as pd"
   ]
  },
  {
   "cell_type": "code",
   "execution_count": 2,
   "metadata": {},
   "outputs": [
    {
     "name": "stdout",
     "output_type": "stream",
     "text": [
      " ml_in_python_intro.ipynb  'Seminar 1. Python for ML, DS.ipynb'\r\n",
      " python_basics.ipynb\t    titanic_data.csv\r\n"
     ]
    }
   ],
   "source": [
    "!ls"
   ]
  },
  {
   "cell_type": "code",
   "execution_count": 3,
   "metadata": {},
   "outputs": [],
   "source": [
    "df = pd.read_csv('/home/anvar/work/courses/Skoltech/ml\\ds/titanic_data.csv')"
   ]
  },
  {
   "cell_type": "code",
   "execution_count": 4,
   "metadata": {},
   "outputs": [
    {
     "data": {
      "text/html": [
       "<div>\n",
       "<style scoped>\n",
       "    .dataframe tbody tr th:only-of-type {\n",
       "        vertical-align: middle;\n",
       "    }\n",
       "\n",
       "    .dataframe tbody tr th {\n",
       "        vertical-align: top;\n",
       "    }\n",
       "\n",
       "    .dataframe thead th {\n",
       "        text-align: right;\n",
       "    }\n",
       "</style>\n",
       "<table border=\"1\" class=\"dataframe\">\n",
       "  <thead>\n",
       "    <tr style=\"text-align: right;\">\n",
       "      <th></th>\n",
       "      <th>Passenger Class</th>\n",
       "      <th>Name</th>\n",
       "      <th>Sex</th>\n",
       "      <th>Age</th>\n",
       "      <th>No of Siblings or Spouses on Board</th>\n",
       "      <th>No of Parents or Children on Board</th>\n",
       "      <th>Ticket Number</th>\n",
       "      <th>Passenger Fare</th>\n",
       "      <th>Cabin</th>\n",
       "      <th>Port of Embarkation</th>\n",
       "      <th>Life Boat</th>\n",
       "      <th>Survived</th>\n",
       "    </tr>\n",
       "  </thead>\n",
       "  <tbody>\n",
       "    <tr>\n",
       "      <th>0</th>\n",
       "      <td>First</td>\n",
       "      <td>Allen, Miss. Elisabeth Walton</td>\n",
       "      <td>Female</td>\n",
       "      <td>29.0000</td>\n",
       "      <td>0</td>\n",
       "      <td>0</td>\n",
       "      <td>24160</td>\n",
       "      <td>211.3375</td>\n",
       "      <td>B5</td>\n",
       "      <td>Southampton</td>\n",
       "      <td>2</td>\n",
       "      <td>Yes</td>\n",
       "    </tr>\n",
       "    <tr>\n",
       "      <th>1</th>\n",
       "      <td>First</td>\n",
       "      <td>Allison, Master. Hudson Trevor</td>\n",
       "      <td>Male</td>\n",
       "      <td>0.9167</td>\n",
       "      <td>1</td>\n",
       "      <td>2</td>\n",
       "      <td>113781</td>\n",
       "      <td>151.5500</td>\n",
       "      <td>C22 C26</td>\n",
       "      <td>Southampton</td>\n",
       "      <td>11</td>\n",
       "      <td>Yes</td>\n",
       "    </tr>\n",
       "    <tr>\n",
       "      <th>2</th>\n",
       "      <td>First</td>\n",
       "      <td>Allison, Miss. Helen Loraine</td>\n",
       "      <td>Female</td>\n",
       "      <td>2.0000</td>\n",
       "      <td>1</td>\n",
       "      <td>2</td>\n",
       "      <td>113781</td>\n",
       "      <td>151.5500</td>\n",
       "      <td>C22 C26</td>\n",
       "      <td>Southampton</td>\n",
       "      <td>NaN</td>\n",
       "      <td>No</td>\n",
       "    </tr>\n",
       "  </tbody>\n",
       "</table>\n",
       "</div>"
      ],
      "text/plain": [
       "  Passenger Class                            Name     Sex      Age  \\\n",
       "0           First   Allen, Miss. Elisabeth Walton  Female  29.0000   \n",
       "1           First  Allison, Master. Hudson Trevor    Male   0.9167   \n",
       "2           First    Allison, Miss. Helen Loraine  Female   2.0000   \n",
       "\n",
       "   No of Siblings or Spouses on Board  No of Parents or Children on Board  \\\n",
       "0                                   0                                   0   \n",
       "1                                   1                                   2   \n",
       "2                                   1                                   2   \n",
       "\n",
       "  Ticket Number  Passenger Fare    Cabin Port of Embarkation Life Boat  \\\n",
       "0         24160        211.3375       B5         Southampton         2   \n",
       "1        113781        151.5500  C22 C26         Southampton        11   \n",
       "2        113781        151.5500  C22 C26         Southampton       NaN   \n",
       "\n",
       "  Survived  \n",
       "0      Yes  \n",
       "1      Yes  \n",
       "2       No  "
      ]
     },
     "execution_count": 4,
     "metadata": {},
     "output_type": "execute_result"
    }
   ],
   "source": [
    "df.head(3)"
   ]
  },
  {
   "cell_type": "code",
   "execution_count": 5,
   "metadata": {},
   "outputs": [
    {
     "data": {
      "text/html": [
       "<div>\n",
       "<style scoped>\n",
       "    .dataframe tbody tr th:only-of-type {\n",
       "        vertical-align: middle;\n",
       "    }\n",
       "\n",
       "    .dataframe tbody tr th {\n",
       "        vertical-align: top;\n",
       "    }\n",
       "\n",
       "    .dataframe thead th {\n",
       "        text-align: right;\n",
       "    }\n",
       "</style>\n",
       "<table border=\"1\" class=\"dataframe\">\n",
       "  <thead>\n",
       "    <tr style=\"text-align: right;\">\n",
       "      <th></th>\n",
       "      <th>Sex</th>\n",
       "      <th>Age</th>\n",
       "      <th>No of Siblings or Spouses on Board</th>\n",
       "      <th>Survived</th>\n",
       "    </tr>\n",
       "  </thead>\n",
       "  <tbody>\n",
       "    <tr>\n",
       "      <th>0</th>\n",
       "      <td>Female</td>\n",
       "      <td>29.0000</td>\n",
       "      <td>0</td>\n",
       "      <td>Yes</td>\n",
       "    </tr>\n",
       "    <tr>\n",
       "      <th>1</th>\n",
       "      <td>Male</td>\n",
       "      <td>0.9167</td>\n",
       "      <td>1</td>\n",
       "      <td>Yes</td>\n",
       "    </tr>\n",
       "  </tbody>\n",
       "</table>\n",
       "</div>"
      ],
      "text/plain": [
       "      Sex      Age  No of Siblings or Spouses on Board Survived\n",
       "0  Female  29.0000                                   0      Yes\n",
       "1    Male   0.9167                                   1      Yes"
      ]
     },
     "execution_count": 5,
     "metadata": {},
     "output_type": "execute_result"
    }
   ],
   "source": [
    "df[['Sex',\n",
    "    'Age',\n",
    "    'No of Siblings or Spouses on Board',\n",
    "    'Survived']].head(2)"
   ]
  },
  {
   "cell_type": "code",
   "execution_count": null,
   "metadata": {},
   "outputs": [],
   "source": []
  },
  {
   "cell_type": "code",
   "execution_count": null,
   "metadata": {},
   "outputs": [],
   "source": []
  },
  {
   "cell_type": "code",
   "execution_count": null,
   "metadata": {},
   "outputs": [],
   "source": []
  },
  {
   "cell_type": "code",
   "execution_count": 6,
   "metadata": {},
   "outputs": [
    {
     "data": {
      "text/plain": [
       "Index(['Passenger Class', 'Name', 'Sex', 'Age',\n",
       "       'No of Siblings or Spouses on Board',\n",
       "       'No of Parents or Children on Board', 'Ticket Number', 'Passenger Fare',\n",
       "       'Cabin', 'Port of Embarkation', 'Life Boat', 'Survived'],\n",
       "      dtype='object')"
      ]
     },
     "execution_count": 6,
     "metadata": {},
     "output_type": "execute_result"
    }
   ],
   "source": [
    "df.columns"
   ]
  },
  {
   "cell_type": "code",
   "execution_count": 7,
   "metadata": {},
   "outputs": [],
   "source": [
    "columns = df.columns"
   ]
  },
  {
   "cell_type": "code",
   "execution_count": 8,
   "metadata": {},
   "outputs": [
    {
     "name": "stdout",
     "output_type": "stream",
     "text": [
      "Index(['Passenger Class', 'Name', 'Sex', 'Age',\n",
      "       'No of Siblings or Spouses on Board',\n",
      "       'No of Parents or Children on Board', 'Ticket Number', 'Passenger Fare',\n",
      "       'Cabin', 'Port of Embarkation', 'Life Boat', 'Survived'],\n",
      "      dtype='object')\n"
     ]
    }
   ],
   "source": [
    "print(columns)"
   ]
  },
  {
   "cell_type": "code",
   "execution_count": 9,
   "metadata": {},
   "outputs": [],
   "source": [
    "df.columns;"
   ]
  },
  {
   "cell_type": "code",
   "execution_count": 10,
   "metadata": {},
   "outputs": [
    {
     "data": {
      "text/plain": [
       "(1309, 12)"
      ]
     },
     "execution_count": 10,
     "metadata": {},
     "output_type": "execute_result"
    }
   ],
   "source": [
    "df.shape"
   ]
  },
  {
   "cell_type": "code",
   "execution_count": 11,
   "metadata": {},
   "outputs": [
    {
     "data": {
      "text/plain": [
       "Passenger Class                       1309\n",
       "Name                                  1309\n",
       "Sex                                   1309\n",
       "Age                                   1046\n",
       "No of Siblings or Spouses on Board    1309\n",
       "No of Parents or Children on Board    1309\n",
       "Ticket Number                         1309\n",
       "Passenger Fare                        1308\n",
       "Cabin                                  295\n",
       "Port of Embarkation                   1307\n",
       "Life Boat                              486\n",
       "Survived                              1309\n",
       "dtype: int64"
      ]
     },
     "execution_count": 11,
     "metadata": {},
     "output_type": "execute_result"
    }
   ],
   "source": [
    "df.count()"
   ]
  },
  {
   "cell_type": "code",
   "execution_count": 12,
   "metadata": {},
   "outputs": [
    {
     "data": {
      "text/html": [
       "<div>\n",
       "<style scoped>\n",
       "    .dataframe tbody tr th:only-of-type {\n",
       "        vertical-align: middle;\n",
       "    }\n",
       "\n",
       "    .dataframe tbody tr th {\n",
       "        vertical-align: top;\n",
       "    }\n",
       "\n",
       "    .dataframe thead th {\n",
       "        text-align: right;\n",
       "    }\n",
       "</style>\n",
       "<table border=\"1\" class=\"dataframe\">\n",
       "  <thead>\n",
       "    <tr style=\"text-align: right;\">\n",
       "      <th></th>\n",
       "      <th>Passenger Class</th>\n",
       "      <th>Name</th>\n",
       "      <th>Sex</th>\n",
       "      <th>Age</th>\n",
       "      <th>No of Siblings or Spouses on Board</th>\n",
       "      <th>No of Parents or Children on Board</th>\n",
       "      <th>Ticket Number</th>\n",
       "      <th>Passenger Fare</th>\n",
       "      <th>Cabin</th>\n",
       "      <th>Port of Embarkation</th>\n",
       "      <th>Life Boat</th>\n",
       "      <th>Survived</th>\n",
       "    </tr>\n",
       "  </thead>\n",
       "  <tbody>\n",
       "    <tr>\n",
       "      <th>1299</th>\n",
       "      <td>Third</td>\n",
       "      <td>Yasbeck, Mr. Antoni</td>\n",
       "      <td>Male</td>\n",
       "      <td>27.0</td>\n",
       "      <td>1</td>\n",
       "      <td>0</td>\n",
       "      <td>2659</td>\n",
       "      <td>14.4542</td>\n",
       "      <td>NaN</td>\n",
       "      <td>Cherbourg</td>\n",
       "      <td>C</td>\n",
       "      <td>No</td>\n",
       "    </tr>\n",
       "    <tr>\n",
       "      <th>1300</th>\n",
       "      <td>Third</td>\n",
       "      <td>Yasbeck, Mrs. Antoni (Selini Alexander)</td>\n",
       "      <td>Female</td>\n",
       "      <td>15.0</td>\n",
       "      <td>1</td>\n",
       "      <td>0</td>\n",
       "      <td>2659</td>\n",
       "      <td>14.4542</td>\n",
       "      <td>NaN</td>\n",
       "      <td>Cherbourg</td>\n",
       "      <td>NaN</td>\n",
       "      <td>Yes</td>\n",
       "    </tr>\n",
       "    <tr>\n",
       "      <th>1301</th>\n",
       "      <td>Third</td>\n",
       "      <td>Youseff, Mr. Gerious</td>\n",
       "      <td>Male</td>\n",
       "      <td>45.5</td>\n",
       "      <td>0</td>\n",
       "      <td>0</td>\n",
       "      <td>2628</td>\n",
       "      <td>7.2250</td>\n",
       "      <td>NaN</td>\n",
       "      <td>Cherbourg</td>\n",
       "      <td>NaN</td>\n",
       "      <td>No</td>\n",
       "    </tr>\n",
       "    <tr>\n",
       "      <th>1302</th>\n",
       "      <td>Third</td>\n",
       "      <td>Yousif, Mr. Wazli</td>\n",
       "      <td>Male</td>\n",
       "      <td>NaN</td>\n",
       "      <td>0</td>\n",
       "      <td>0</td>\n",
       "      <td>2647</td>\n",
       "      <td>7.2250</td>\n",
       "      <td>NaN</td>\n",
       "      <td>Cherbourg</td>\n",
       "      <td>NaN</td>\n",
       "      <td>No</td>\n",
       "    </tr>\n",
       "    <tr>\n",
       "      <th>1303</th>\n",
       "      <td>Third</td>\n",
       "      <td>Yousseff, Mr. Gerious</td>\n",
       "      <td>Male</td>\n",
       "      <td>NaN</td>\n",
       "      <td>0</td>\n",
       "      <td>0</td>\n",
       "      <td>2627</td>\n",
       "      <td>14.4583</td>\n",
       "      <td>NaN</td>\n",
       "      <td>Cherbourg</td>\n",
       "      <td>NaN</td>\n",
       "      <td>No</td>\n",
       "    </tr>\n",
       "    <tr>\n",
       "      <th>1304</th>\n",
       "      <td>Third</td>\n",
       "      <td>Zabour, Miss. Hileni</td>\n",
       "      <td>Female</td>\n",
       "      <td>14.5</td>\n",
       "      <td>1</td>\n",
       "      <td>0</td>\n",
       "      <td>2665</td>\n",
       "      <td>14.4542</td>\n",
       "      <td>NaN</td>\n",
       "      <td>Cherbourg</td>\n",
       "      <td>NaN</td>\n",
       "      <td>No</td>\n",
       "    </tr>\n",
       "    <tr>\n",
       "      <th>1305</th>\n",
       "      <td>Third</td>\n",
       "      <td>Zabour, Miss. Thamine</td>\n",
       "      <td>Female</td>\n",
       "      <td>NaN</td>\n",
       "      <td>1</td>\n",
       "      <td>0</td>\n",
       "      <td>2665</td>\n",
       "      <td>14.4542</td>\n",
       "      <td>NaN</td>\n",
       "      <td>Cherbourg</td>\n",
       "      <td>NaN</td>\n",
       "      <td>No</td>\n",
       "    </tr>\n",
       "    <tr>\n",
       "      <th>1306</th>\n",
       "      <td>Third</td>\n",
       "      <td>Zakarian, Mr. Mapriededer</td>\n",
       "      <td>Male</td>\n",
       "      <td>26.5</td>\n",
       "      <td>0</td>\n",
       "      <td>0</td>\n",
       "      <td>2656</td>\n",
       "      <td>7.2250</td>\n",
       "      <td>NaN</td>\n",
       "      <td>Cherbourg</td>\n",
       "      <td>NaN</td>\n",
       "      <td>No</td>\n",
       "    </tr>\n",
       "    <tr>\n",
       "      <th>1307</th>\n",
       "      <td>Third</td>\n",
       "      <td>Zakarian, Mr. Ortin</td>\n",
       "      <td>Male</td>\n",
       "      <td>27.0</td>\n",
       "      <td>0</td>\n",
       "      <td>0</td>\n",
       "      <td>2670</td>\n",
       "      <td>7.2250</td>\n",
       "      <td>NaN</td>\n",
       "      <td>Cherbourg</td>\n",
       "      <td>NaN</td>\n",
       "      <td>No</td>\n",
       "    </tr>\n",
       "    <tr>\n",
       "      <th>1308</th>\n",
       "      <td>Third</td>\n",
       "      <td>Zimmerman, Mr. Leo</td>\n",
       "      <td>Male</td>\n",
       "      <td>29.0</td>\n",
       "      <td>0</td>\n",
       "      <td>0</td>\n",
       "      <td>315082</td>\n",
       "      <td>7.8750</td>\n",
       "      <td>NaN</td>\n",
       "      <td>Southampton</td>\n",
       "      <td>NaN</td>\n",
       "      <td>No</td>\n",
       "    </tr>\n",
       "  </tbody>\n",
       "</table>\n",
       "</div>"
      ],
      "text/plain": [
       "     Passenger Class                                     Name     Sex   Age  \\\n",
       "1299           Third                      Yasbeck, Mr. Antoni    Male  27.0   \n",
       "1300           Third  Yasbeck, Mrs. Antoni (Selini Alexander)  Female  15.0   \n",
       "1301           Third                     Youseff, Mr. Gerious    Male  45.5   \n",
       "1302           Third                        Yousif, Mr. Wazli    Male   NaN   \n",
       "1303           Third                    Yousseff, Mr. Gerious    Male   NaN   \n",
       "1304           Third                     Zabour, Miss. Hileni  Female  14.5   \n",
       "1305           Third                    Zabour, Miss. Thamine  Female   NaN   \n",
       "1306           Third                Zakarian, Mr. Mapriededer    Male  26.5   \n",
       "1307           Third                      Zakarian, Mr. Ortin    Male  27.0   \n",
       "1308           Third                       Zimmerman, Mr. Leo    Male  29.0   \n",
       "\n",
       "      No of Siblings or Spouses on Board  No of Parents or Children on Board  \\\n",
       "1299                                   1                                   0   \n",
       "1300                                   1                                   0   \n",
       "1301                                   0                                   0   \n",
       "1302                                   0                                   0   \n",
       "1303                                   0                                   0   \n",
       "1304                                   1                                   0   \n",
       "1305                                   1                                   0   \n",
       "1306                                   0                                   0   \n",
       "1307                                   0                                   0   \n",
       "1308                                   0                                   0   \n",
       "\n",
       "     Ticket Number  Passenger Fare Cabin Port of Embarkation Life Boat  \\\n",
       "1299          2659         14.4542   NaN           Cherbourg         C   \n",
       "1300          2659         14.4542   NaN           Cherbourg       NaN   \n",
       "1301          2628          7.2250   NaN           Cherbourg       NaN   \n",
       "1302          2647          7.2250   NaN           Cherbourg       NaN   \n",
       "1303          2627         14.4583   NaN           Cherbourg       NaN   \n",
       "1304          2665         14.4542   NaN           Cherbourg       NaN   \n",
       "1305          2665         14.4542   NaN           Cherbourg       NaN   \n",
       "1306          2656          7.2250   NaN           Cherbourg       NaN   \n",
       "1307          2670          7.2250   NaN           Cherbourg       NaN   \n",
       "1308        315082          7.8750   NaN         Southampton       NaN   \n",
       "\n",
       "     Survived  \n",
       "1299       No  \n",
       "1300      Yes  \n",
       "1301       No  \n",
       "1302       No  \n",
       "1303       No  \n",
       "1304       No  \n",
       "1305       No  \n",
       "1306       No  \n",
       "1307       No  \n",
       "1308       No  "
      ]
     },
     "execution_count": 12,
     "metadata": {},
     "output_type": "execute_result"
    }
   ],
   "source": [
    "df.tail(10)"
   ]
  },
  {
   "cell_type": "code",
   "execution_count": 13,
   "metadata": {},
   "outputs": [
    {
     "data": {
      "text/plain": [
       "0       Female\n",
       "1         Male\n",
       "2       Female\n",
       "3         Male\n",
       "4       Female\n",
       "         ...  \n",
       "1304    Female\n",
       "1305    Female\n",
       "1306      Male\n",
       "1307      Male\n",
       "1308      Male\n",
       "Name: Sex, Length: 1309, dtype: object"
      ]
     },
     "execution_count": 13,
     "metadata": {},
     "output_type": "execute_result"
    }
   ],
   "source": [
    "df.Sex"
   ]
  },
  {
   "cell_type": "code",
   "execution_count": 14,
   "metadata": {},
   "outputs": [
    {
     "data": {
      "text/plain": [
       "0       Female\n",
       "1         Male\n",
       "2       Female\n",
       "3         Male\n",
       "4       Female\n",
       "         ...  \n",
       "1304    Female\n",
       "1305    Female\n",
       "1306      Male\n",
       "1307      Male\n",
       "1308      Male\n",
       "Name: Sex, Length: 1309, dtype: object"
      ]
     },
     "execution_count": 14,
     "metadata": {},
     "output_type": "execute_result"
    }
   ],
   "source": [
    "df['Sex']"
   ]
  },
  {
   "cell_type": "code",
   "execution_count": 15,
   "metadata": {},
   "outputs": [
    {
     "data": {
      "text/plain": [
       "0       First\n",
       "1       First\n",
       "2       First\n",
       "3       First\n",
       "4       First\n",
       "        ...  \n",
       "1304    Third\n",
       "1305    Third\n",
       "1306    Third\n",
       "1307    Third\n",
       "1308    Third\n",
       "Name: Passenger Class, Length: 1309, dtype: object"
      ]
     },
     "execution_count": 15,
     "metadata": {},
     "output_type": "execute_result"
    }
   ],
   "source": [
    "df['Passenger Class']"
   ]
  },
  {
   "cell_type": "code",
   "execution_count": 16,
   "metadata": {},
   "outputs": [
    {
     "data": {
      "text/plain": [
       "Passenger Class                                               First\n",
       "Name                                  Allen, Miss. Elisabeth Walton\n",
       "Sex                                                          Female\n",
       "Age                                                              29\n",
       "No of Siblings or Spouses on Board                                0\n",
       "No of Parents or Children on Board                                0\n",
       "Ticket Number                                                 24160\n",
       "Passenger Fare                                              211.338\n",
       "Cabin                                                            B5\n",
       "Port of Embarkation                                     Southampton\n",
       "Life Boat                                                         2\n",
       "Survived                                                        Yes\n",
       "Name: 0, dtype: object"
      ]
     },
     "execution_count": 16,
     "metadata": {},
     "output_type": "execute_result"
    }
   ],
   "source": [
    "df.iloc[0]"
   ]
  },
  {
   "cell_type": "code",
   "execution_count": 17,
   "metadata": {},
   "outputs": [
    {
     "data": {
      "text/html": [
       "<div>\n",
       "<style scoped>\n",
       "    .dataframe tbody tr th:only-of-type {\n",
       "        vertical-align: middle;\n",
       "    }\n",
       "\n",
       "    .dataframe tbody tr th {\n",
       "        vertical-align: top;\n",
       "    }\n",
       "\n",
       "    .dataframe thead th {\n",
       "        text-align: right;\n",
       "    }\n",
       "</style>\n",
       "<table border=\"1\" class=\"dataframe\">\n",
       "  <thead>\n",
       "    <tr style=\"text-align: right;\">\n",
       "      <th></th>\n",
       "      <th>Passenger Class</th>\n",
       "      <th>Name</th>\n",
       "      <th>Sex</th>\n",
       "      <th>Age</th>\n",
       "      <th>No of Siblings or Spouses on Board</th>\n",
       "      <th>No of Parents or Children on Board</th>\n",
       "      <th>Ticket Number</th>\n",
       "      <th>Passenger Fare</th>\n",
       "      <th>Cabin</th>\n",
       "      <th>Port of Embarkation</th>\n",
       "      <th>Life Boat</th>\n",
       "      <th>Survived</th>\n",
       "    </tr>\n",
       "  </thead>\n",
       "  <tbody>\n",
       "    <tr>\n",
       "      <th>10</th>\n",
       "      <td>First</td>\n",
       "      <td>Astor, Col. John Jacob</td>\n",
       "      <td>Male</td>\n",
       "      <td>47.0</td>\n",
       "      <td>1</td>\n",
       "      <td>0</td>\n",
       "      <td>PC 17757</td>\n",
       "      <td>227.5250</td>\n",
       "      <td>C62 C64</td>\n",
       "      <td>Cherbourg</td>\n",
       "      <td>NaN</td>\n",
       "      <td>No</td>\n",
       "    </tr>\n",
       "    <tr>\n",
       "      <th>11</th>\n",
       "      <td>First</td>\n",
       "      <td>Astor, Mrs. John Jacob (Madeleine Talmadge Force)</td>\n",
       "      <td>Female</td>\n",
       "      <td>18.0</td>\n",
       "      <td>1</td>\n",
       "      <td>0</td>\n",
       "      <td>PC 17757</td>\n",
       "      <td>227.5250</td>\n",
       "      <td>C62 C64</td>\n",
       "      <td>Cherbourg</td>\n",
       "      <td>4</td>\n",
       "      <td>Yes</td>\n",
       "    </tr>\n",
       "    <tr>\n",
       "      <th>12</th>\n",
       "      <td>First</td>\n",
       "      <td>Aubart, Mme. Leontine Pauline</td>\n",
       "      <td>Female</td>\n",
       "      <td>24.0</td>\n",
       "      <td>0</td>\n",
       "      <td>0</td>\n",
       "      <td>PC 17477</td>\n",
       "      <td>69.3000</td>\n",
       "      <td>B35</td>\n",
       "      <td>Cherbourg</td>\n",
       "      <td>9</td>\n",
       "      <td>Yes</td>\n",
       "    </tr>\n",
       "    <tr>\n",
       "      <th>13</th>\n",
       "      <td>First</td>\n",
       "      <td>Barber, Miss. Ellen 'Nellie'</td>\n",
       "      <td>Female</td>\n",
       "      <td>26.0</td>\n",
       "      <td>0</td>\n",
       "      <td>0</td>\n",
       "      <td>19877</td>\n",
       "      <td>78.8500</td>\n",
       "      <td>NaN</td>\n",
       "      <td>Southampton</td>\n",
       "      <td>6</td>\n",
       "      <td>Yes</td>\n",
       "    </tr>\n",
       "    <tr>\n",
       "      <th>14</th>\n",
       "      <td>First</td>\n",
       "      <td>Barkworth, Mr. Algernon Henry Wilson</td>\n",
       "      <td>Male</td>\n",
       "      <td>80.0</td>\n",
       "      <td>0</td>\n",
       "      <td>0</td>\n",
       "      <td>27042</td>\n",
       "      <td>30.0000</td>\n",
       "      <td>A23</td>\n",
       "      <td>Southampton</td>\n",
       "      <td>B</td>\n",
       "      <td>Yes</td>\n",
       "    </tr>\n",
       "    <tr>\n",
       "      <th>15</th>\n",
       "      <td>First</td>\n",
       "      <td>Baumann, Mr. John D</td>\n",
       "      <td>Male</td>\n",
       "      <td>NaN</td>\n",
       "      <td>0</td>\n",
       "      <td>0</td>\n",
       "      <td>PC 17318</td>\n",
       "      <td>25.9250</td>\n",
       "      <td>NaN</td>\n",
       "      <td>Southampton</td>\n",
       "      <td>NaN</td>\n",
       "      <td>No</td>\n",
       "    </tr>\n",
       "    <tr>\n",
       "      <th>16</th>\n",
       "      <td>First</td>\n",
       "      <td>Baxter, Mr. Quigg Edmond</td>\n",
       "      <td>Male</td>\n",
       "      <td>24.0</td>\n",
       "      <td>0</td>\n",
       "      <td>1</td>\n",
       "      <td>PC 17558</td>\n",
       "      <td>247.5208</td>\n",
       "      <td>B58 B60</td>\n",
       "      <td>Cherbourg</td>\n",
       "      <td>NaN</td>\n",
       "      <td>No</td>\n",
       "    </tr>\n",
       "    <tr>\n",
       "      <th>17</th>\n",
       "      <td>First</td>\n",
       "      <td>Baxter, Mrs. James (Helene DeLaudeniere Chaput)</td>\n",
       "      <td>Female</td>\n",
       "      <td>50.0</td>\n",
       "      <td>0</td>\n",
       "      <td>1</td>\n",
       "      <td>PC 17558</td>\n",
       "      <td>247.5208</td>\n",
       "      <td>B58 B60</td>\n",
       "      <td>Cherbourg</td>\n",
       "      <td>6</td>\n",
       "      <td>Yes</td>\n",
       "    </tr>\n",
       "    <tr>\n",
       "      <th>18</th>\n",
       "      <td>First</td>\n",
       "      <td>Bazzani, Miss. Albina</td>\n",
       "      <td>Female</td>\n",
       "      <td>32.0</td>\n",
       "      <td>0</td>\n",
       "      <td>0</td>\n",
       "      <td>11813</td>\n",
       "      <td>76.2917</td>\n",
       "      <td>D15</td>\n",
       "      <td>Cherbourg</td>\n",
       "      <td>8</td>\n",
       "      <td>Yes</td>\n",
       "    </tr>\n",
       "    <tr>\n",
       "      <th>19</th>\n",
       "      <td>First</td>\n",
       "      <td>Beattie, Mr. Thomson</td>\n",
       "      <td>Male</td>\n",
       "      <td>36.0</td>\n",
       "      <td>0</td>\n",
       "      <td>0</td>\n",
       "      <td>13050</td>\n",
       "      <td>75.2417</td>\n",
       "      <td>C6</td>\n",
       "      <td>Cherbourg</td>\n",
       "      <td>A</td>\n",
       "      <td>No</td>\n",
       "    </tr>\n",
       "  </tbody>\n",
       "</table>\n",
       "</div>"
      ],
      "text/plain": [
       "   Passenger Class                                               Name     Sex  \\\n",
       "10           First                             Astor, Col. John Jacob    Male   \n",
       "11           First  Astor, Mrs. John Jacob (Madeleine Talmadge Force)  Female   \n",
       "12           First                      Aubart, Mme. Leontine Pauline  Female   \n",
       "13           First                       Barber, Miss. Ellen 'Nellie'  Female   \n",
       "14           First               Barkworth, Mr. Algernon Henry Wilson    Male   \n",
       "15           First                                Baumann, Mr. John D    Male   \n",
       "16           First                           Baxter, Mr. Quigg Edmond    Male   \n",
       "17           First    Baxter, Mrs. James (Helene DeLaudeniere Chaput)  Female   \n",
       "18           First                              Bazzani, Miss. Albina  Female   \n",
       "19           First                               Beattie, Mr. Thomson    Male   \n",
       "\n",
       "     Age  No of Siblings or Spouses on Board  \\\n",
       "10  47.0                                   1   \n",
       "11  18.0                                   1   \n",
       "12  24.0                                   0   \n",
       "13  26.0                                   0   \n",
       "14  80.0                                   0   \n",
       "15   NaN                                   0   \n",
       "16  24.0                                   0   \n",
       "17  50.0                                   0   \n",
       "18  32.0                                   0   \n",
       "19  36.0                                   0   \n",
       "\n",
       "    No of Parents or Children on Board Ticket Number  Passenger Fare    Cabin  \\\n",
       "10                                   0      PC 17757        227.5250  C62 C64   \n",
       "11                                   0      PC 17757        227.5250  C62 C64   \n",
       "12                                   0      PC 17477         69.3000      B35   \n",
       "13                                   0         19877         78.8500      NaN   \n",
       "14                                   0         27042         30.0000      A23   \n",
       "15                                   0      PC 17318         25.9250      NaN   \n",
       "16                                   1      PC 17558        247.5208  B58 B60   \n",
       "17                                   1      PC 17558        247.5208  B58 B60   \n",
       "18                                   0         11813         76.2917      D15   \n",
       "19                                   0         13050         75.2417       C6   \n",
       "\n",
       "   Port of Embarkation Life Boat Survived  \n",
       "10           Cherbourg       NaN       No  \n",
       "11           Cherbourg         4      Yes  \n",
       "12           Cherbourg         9      Yes  \n",
       "13         Southampton         6      Yes  \n",
       "14         Southampton         B      Yes  \n",
       "15         Southampton       NaN       No  \n",
       "16           Cherbourg       NaN       No  \n",
       "17           Cherbourg         6      Yes  \n",
       "18           Cherbourg         8      Yes  \n",
       "19           Cherbourg         A       No  "
      ]
     },
     "execution_count": 17,
     "metadata": {},
     "output_type": "execute_result"
    }
   ],
   "source": [
    "df.iloc[10:20]"
   ]
  },
  {
   "cell_type": "markdown",
   "metadata": {},
   "source": [
    "# Build a baseline model"
   ]
  },
  {
   "cell_type": "code",
   "execution_count": 18,
   "metadata": {},
   "outputs": [
    {
     "data": {
      "text/html": [
       "<div>\n",
       "<style scoped>\n",
       "    .dataframe tbody tr th:only-of-type {\n",
       "        vertical-align: middle;\n",
       "    }\n",
       "\n",
       "    .dataframe tbody tr th {\n",
       "        vertical-align: top;\n",
       "    }\n",
       "\n",
       "    .dataframe thead th {\n",
       "        text-align: right;\n",
       "    }\n",
       "</style>\n",
       "<table border=\"1\" class=\"dataframe\">\n",
       "  <thead>\n",
       "    <tr style=\"text-align: right;\">\n",
       "      <th></th>\n",
       "      <th>Passenger Class</th>\n",
       "      <th>Name</th>\n",
       "      <th>Sex</th>\n",
       "      <th>Age</th>\n",
       "      <th>No of Siblings or Spouses on Board</th>\n",
       "      <th>No of Parents or Children on Board</th>\n",
       "      <th>Ticket Number</th>\n",
       "      <th>Passenger Fare</th>\n",
       "      <th>Cabin</th>\n",
       "      <th>Port of Embarkation</th>\n",
       "      <th>Life Boat</th>\n",
       "      <th>Survived</th>\n",
       "    </tr>\n",
       "  </thead>\n",
       "  <tbody>\n",
       "    <tr>\n",
       "      <th>0</th>\n",
       "      <td>First</td>\n",
       "      <td>Allen, Miss. Elisabeth Walton</td>\n",
       "      <td>Female</td>\n",
       "      <td>29.0000</td>\n",
       "      <td>0</td>\n",
       "      <td>0</td>\n",
       "      <td>24160</td>\n",
       "      <td>211.3375</td>\n",
       "      <td>B5</td>\n",
       "      <td>Southampton</td>\n",
       "      <td>2</td>\n",
       "      <td>Yes</td>\n",
       "    </tr>\n",
       "    <tr>\n",
       "      <th>1</th>\n",
       "      <td>First</td>\n",
       "      <td>Allison, Master. Hudson Trevor</td>\n",
       "      <td>Male</td>\n",
       "      <td>0.9167</td>\n",
       "      <td>1</td>\n",
       "      <td>2</td>\n",
       "      <td>113781</td>\n",
       "      <td>151.5500</td>\n",
       "      <td>C22 C26</td>\n",
       "      <td>Southampton</td>\n",
       "      <td>11</td>\n",
       "      <td>Yes</td>\n",
       "    </tr>\n",
       "    <tr>\n",
       "      <th>2</th>\n",
       "      <td>First</td>\n",
       "      <td>Allison, Miss. Helen Loraine</td>\n",
       "      <td>Female</td>\n",
       "      <td>2.0000</td>\n",
       "      <td>1</td>\n",
       "      <td>2</td>\n",
       "      <td>113781</td>\n",
       "      <td>151.5500</td>\n",
       "      <td>C22 C26</td>\n",
       "      <td>Southampton</td>\n",
       "      <td>NaN</td>\n",
       "      <td>No</td>\n",
       "    </tr>\n",
       "    <tr>\n",
       "      <th>3</th>\n",
       "      <td>First</td>\n",
       "      <td>Allison, Mr. Hudson Joshua Creighton</td>\n",
       "      <td>Male</td>\n",
       "      <td>30.0000</td>\n",
       "      <td>1</td>\n",
       "      <td>2</td>\n",
       "      <td>113781</td>\n",
       "      <td>151.5500</td>\n",
       "      <td>C22 C26</td>\n",
       "      <td>Southampton</td>\n",
       "      <td>NaN</td>\n",
       "      <td>No</td>\n",
       "    </tr>\n",
       "    <tr>\n",
       "      <th>4</th>\n",
       "      <td>First</td>\n",
       "      <td>Allison, Mrs. Hudson J C (Bessie Waldo Daniels)</td>\n",
       "      <td>Female</td>\n",
       "      <td>25.0000</td>\n",
       "      <td>1</td>\n",
       "      <td>2</td>\n",
       "      <td>113781</td>\n",
       "      <td>151.5500</td>\n",
       "      <td>C22 C26</td>\n",
       "      <td>Southampton</td>\n",
       "      <td>NaN</td>\n",
       "      <td>No</td>\n",
       "    </tr>\n",
       "  </tbody>\n",
       "</table>\n",
       "</div>"
      ],
      "text/plain": [
       "  Passenger Class                                             Name     Sex  \\\n",
       "0           First                    Allen, Miss. Elisabeth Walton  Female   \n",
       "1           First                   Allison, Master. Hudson Trevor    Male   \n",
       "2           First                     Allison, Miss. Helen Loraine  Female   \n",
       "3           First             Allison, Mr. Hudson Joshua Creighton    Male   \n",
       "4           First  Allison, Mrs. Hudson J C (Bessie Waldo Daniels)  Female   \n",
       "\n",
       "       Age  No of Siblings or Spouses on Board  \\\n",
       "0  29.0000                                   0   \n",
       "1   0.9167                                   1   \n",
       "2   2.0000                                   1   \n",
       "3  30.0000                                   1   \n",
       "4  25.0000                                   1   \n",
       "\n",
       "   No of Parents or Children on Board Ticket Number  Passenger Fare    Cabin  \\\n",
       "0                                   0         24160        211.3375       B5   \n",
       "1                                   2        113781        151.5500  C22 C26   \n",
       "2                                   2        113781        151.5500  C22 C26   \n",
       "3                                   2        113781        151.5500  C22 C26   \n",
       "4                                   2        113781        151.5500  C22 C26   \n",
       "\n",
       "  Port of Embarkation Life Boat Survived  \n",
       "0         Southampton         2      Yes  \n",
       "1         Southampton        11      Yes  \n",
       "2         Southampton       NaN       No  \n",
       "3         Southampton       NaN       No  \n",
       "4         Southampton       NaN       No  "
      ]
     },
     "execution_count": 18,
     "metadata": {},
     "output_type": "execute_result"
    }
   ],
   "source": [
    "df.head()"
   ]
  },
  {
   "cell_type": "code",
   "execution_count": 19,
   "metadata": {},
   "outputs": [
    {
     "data": {
      "text/plain": [
       "Passenger Class                        object\n",
       "Name                                   object\n",
       "Sex                                    object\n",
       "Age                                   float64\n",
       "No of Siblings or Spouses on Board      int64\n",
       "No of Parents or Children on Board      int64\n",
       "Ticket Number                          object\n",
       "Passenger Fare                        float64\n",
       "Cabin                                  object\n",
       "Port of Embarkation                    object\n",
       "Life Boat                              object\n",
       "Survived                               object\n",
       "dtype: object"
      ]
     },
     "execution_count": 19,
     "metadata": {},
     "output_type": "execute_result"
    }
   ],
   "source": [
    "df.dtypes"
   ]
  },
  {
   "cell_type": "code",
   "execution_count": 20,
   "metadata": {},
   "outputs": [
    {
     "data": {
      "text/html": [
       "<div>\n",
       "<style scoped>\n",
       "    .dataframe tbody tr th:only-of-type {\n",
       "        vertical-align: middle;\n",
       "    }\n",
       "\n",
       "    .dataframe tbody tr th {\n",
       "        vertical-align: top;\n",
       "    }\n",
       "\n",
       "    .dataframe thead th {\n",
       "        text-align: right;\n",
       "    }\n",
       "</style>\n",
       "<table border=\"1\" class=\"dataframe\">\n",
       "  <thead>\n",
       "    <tr style=\"text-align: right;\">\n",
       "      <th></th>\n",
       "      <th>Age</th>\n",
       "      <th>No of Siblings or Spouses on Board</th>\n",
       "      <th>No of Parents or Children on Board</th>\n",
       "      <th>Passenger Fare</th>\n",
       "    </tr>\n",
       "  </thead>\n",
       "  <tbody>\n",
       "    <tr>\n",
       "      <th>0</th>\n",
       "      <td>29.0000</td>\n",
       "      <td>0</td>\n",
       "      <td>0</td>\n",
       "      <td>211.3375</td>\n",
       "    </tr>\n",
       "    <tr>\n",
       "      <th>1</th>\n",
       "      <td>0.9167</td>\n",
       "      <td>1</td>\n",
       "      <td>2</td>\n",
       "      <td>151.5500</td>\n",
       "    </tr>\n",
       "    <tr>\n",
       "      <th>2</th>\n",
       "      <td>2.0000</td>\n",
       "      <td>1</td>\n",
       "      <td>2</td>\n",
       "      <td>151.5500</td>\n",
       "    </tr>\n",
       "    <tr>\n",
       "      <th>3</th>\n",
       "      <td>30.0000</td>\n",
       "      <td>1</td>\n",
       "      <td>2</td>\n",
       "      <td>151.5500</td>\n",
       "    </tr>\n",
       "    <tr>\n",
       "      <th>4</th>\n",
       "      <td>25.0000</td>\n",
       "      <td>1</td>\n",
       "      <td>2</td>\n",
       "      <td>151.5500</td>\n",
       "    </tr>\n",
       "    <tr>\n",
       "      <th>...</th>\n",
       "      <td>...</td>\n",
       "      <td>...</td>\n",
       "      <td>...</td>\n",
       "      <td>...</td>\n",
       "    </tr>\n",
       "    <tr>\n",
       "      <th>1304</th>\n",
       "      <td>14.5000</td>\n",
       "      <td>1</td>\n",
       "      <td>0</td>\n",
       "      <td>14.4542</td>\n",
       "    </tr>\n",
       "    <tr>\n",
       "      <th>1305</th>\n",
       "      <td>NaN</td>\n",
       "      <td>1</td>\n",
       "      <td>0</td>\n",
       "      <td>14.4542</td>\n",
       "    </tr>\n",
       "    <tr>\n",
       "      <th>1306</th>\n",
       "      <td>26.5000</td>\n",
       "      <td>0</td>\n",
       "      <td>0</td>\n",
       "      <td>7.2250</td>\n",
       "    </tr>\n",
       "    <tr>\n",
       "      <th>1307</th>\n",
       "      <td>27.0000</td>\n",
       "      <td>0</td>\n",
       "      <td>0</td>\n",
       "      <td>7.2250</td>\n",
       "    </tr>\n",
       "    <tr>\n",
       "      <th>1308</th>\n",
       "      <td>29.0000</td>\n",
       "      <td>0</td>\n",
       "      <td>0</td>\n",
       "      <td>7.8750</td>\n",
       "    </tr>\n",
       "  </tbody>\n",
       "</table>\n",
       "<p>1309 rows × 4 columns</p>\n",
       "</div>"
      ],
      "text/plain": [
       "          Age  No of Siblings or Spouses on Board  \\\n",
       "0     29.0000                                   0   \n",
       "1      0.9167                                   1   \n",
       "2      2.0000                                   1   \n",
       "3     30.0000                                   1   \n",
       "4     25.0000                                   1   \n",
       "...       ...                                 ...   \n",
       "1304  14.5000                                   1   \n",
       "1305      NaN                                   1   \n",
       "1306  26.5000                                   0   \n",
       "1307  27.0000                                   0   \n",
       "1308  29.0000                                   0   \n",
       "\n",
       "      No of Parents or Children on Board  Passenger Fare  \n",
       "0                                      0        211.3375  \n",
       "1                                      2        151.5500  \n",
       "2                                      2        151.5500  \n",
       "3                                      2        151.5500  \n",
       "4                                      2        151.5500  \n",
       "...                                  ...             ...  \n",
       "1304                                   0         14.4542  \n",
       "1305                                   0         14.4542  \n",
       "1306                                   0          7.2250  \n",
       "1307                                   0          7.2250  \n",
       "1308                                   0          7.8750  \n",
       "\n",
       "[1309 rows x 4 columns]"
      ]
     },
     "execution_count": 20,
     "metadata": {},
     "output_type": "execute_result"
    }
   ],
   "source": [
    "num_columns = ['Age', 'No of Siblings or Spouses on Board', 'No of Parents or Children on Board',\n",
    "              'Passenger Fare']\n",
    "\n",
    "df[num_columns]"
   ]
  },
  {
   "cell_type": "code",
   "execution_count": 21,
   "metadata": {},
   "outputs": [
    {
     "data": {
      "text/plain": [
       "0       Yes\n",
       "1       Yes\n",
       "2        No\n",
       "3        No\n",
       "4        No\n",
       "       ... \n",
       "1304     No\n",
       "1305     No\n",
       "1306     No\n",
       "1307     No\n",
       "1308     No\n",
       "Name: Survived, Length: 1309, dtype: object"
      ]
     },
     "execution_count": 21,
     "metadata": {},
     "output_type": "execute_result"
    }
   ],
   "source": [
    "df.Survived"
   ]
  },
  {
   "cell_type": "code",
   "execution_count": 22,
   "metadata": {},
   "outputs": [],
   "source": [
    "from sklearn.tree import DecisionTreeClassifier\n",
    "from sklearn.model_selection import train_test_split"
   ]
  },
  {
   "cell_type": "code",
   "execution_count": 23,
   "metadata": {},
   "outputs": [],
   "source": [
    "X_train, X_test, y_train, y_test = train_test_split(df[num_columns], df.Survived, train_size=0.66, random_state=5)"
   ]
  },
  {
   "cell_type": "code",
   "execution_count": 24,
   "metadata": {},
   "outputs": [
    {
     "data": {
      "text/html": [
       "<div>\n",
       "<style scoped>\n",
       "    .dataframe tbody tr th:only-of-type {\n",
       "        vertical-align: middle;\n",
       "    }\n",
       "\n",
       "    .dataframe tbody tr th {\n",
       "        vertical-align: top;\n",
       "    }\n",
       "\n",
       "    .dataframe thead th {\n",
       "        text-align: right;\n",
       "    }\n",
       "</style>\n",
       "<table border=\"1\" class=\"dataframe\">\n",
       "  <thead>\n",
       "    <tr style=\"text-align: right;\">\n",
       "      <th></th>\n",
       "      <th>Age</th>\n",
       "      <th>No of Siblings or Spouses on Board</th>\n",
       "      <th>No of Parents or Children on Board</th>\n",
       "      <th>Passenger Fare</th>\n",
       "    </tr>\n",
       "  </thead>\n",
       "  <tbody>\n",
       "    <tr>\n",
       "      <th>615</th>\n",
       "      <td>20.0</td>\n",
       "      <td>0</td>\n",
       "      <td>0</td>\n",
       "      <td>7.9250</td>\n",
       "    </tr>\n",
       "    <tr>\n",
       "      <th>287</th>\n",
       "      <td>61.0</td>\n",
       "      <td>0</td>\n",
       "      <td>0</td>\n",
       "      <td>32.3208</td>\n",
       "    </tr>\n",
       "    <tr>\n",
       "      <th>720</th>\n",
       "      <td>24.0</td>\n",
       "      <td>0</td>\n",
       "      <td>0</td>\n",
       "      <td>7.2500</td>\n",
       "    </tr>\n",
       "    <tr>\n",
       "      <th>222</th>\n",
       "      <td>28.5</td>\n",
       "      <td>0</td>\n",
       "      <td>0</td>\n",
       "      <td>27.7208</td>\n",
       "    </tr>\n",
       "    <tr>\n",
       "      <th>244</th>\n",
       "      <td>36.0</td>\n",
       "      <td>0</td>\n",
       "      <td>0</td>\n",
       "      <td>40.1250</td>\n",
       "    </tr>\n",
       "  </tbody>\n",
       "</table>\n",
       "</div>"
      ],
      "text/plain": [
       "      Age  No of Siblings or Spouses on Board  \\\n",
       "615  20.0                                   0   \n",
       "287  61.0                                   0   \n",
       "720  24.0                                   0   \n",
       "222  28.5                                   0   \n",
       "244  36.0                                   0   \n",
       "\n",
       "     No of Parents or Children on Board  Passenger Fare  \n",
       "615                                   0          7.9250  \n",
       "287                                   0         32.3208  \n",
       "720                                   0          7.2500  \n",
       "222                                   0         27.7208  \n",
       "244                                   0         40.1250  "
      ]
     },
     "execution_count": 24,
     "metadata": {},
     "output_type": "execute_result"
    }
   ],
   "source": [
    "X_train.head()"
   ]
  },
  {
   "cell_type": "code",
   "execution_count": 25,
   "metadata": {},
   "outputs": [
    {
     "data": {
      "text/plain": [
       "(863, 4)"
      ]
     },
     "execution_count": 25,
     "metadata": {},
     "output_type": "execute_result"
    }
   ],
   "source": [
    "X_train.shape"
   ]
  },
  {
   "cell_type": "code",
   "execution_count": 26,
   "metadata": {},
   "outputs": [
    {
     "data": {
      "text/plain": [
       "(446, 4)"
      ]
     },
     "execution_count": 26,
     "metadata": {},
     "output_type": "execute_result"
    }
   ],
   "source": [
    "X_test.shape"
   ]
  },
  {
   "cell_type": "code",
   "execution_count": 27,
   "metadata": {},
   "outputs": [
    {
     "data": {
      "text/plain": [
       "615      No\n",
       "287      No\n",
       "720      No\n",
       "222      No\n",
       "244      No\n",
       "       ... \n",
       "73      Yes\n",
       "1142     No\n",
       "998      No\n",
       "206      No\n",
       "867     Yes\n",
       "Name: Survived, Length: 863, dtype: object"
      ]
     },
     "execution_count": 27,
     "metadata": {},
     "output_type": "execute_result"
    }
   ],
   "source": [
    "y_train"
   ]
  },
  {
   "cell_type": "code",
   "execution_count": 28,
   "metadata": {},
   "outputs": [
    {
     "data": {
      "text/plain": [
       "(446,)"
      ]
     },
     "execution_count": 28,
     "metadata": {},
     "output_type": "execute_result"
    }
   ],
   "source": [
    "y_test.shape"
   ]
  },
  {
   "cell_type": "code",
   "execution_count": 29,
   "metadata": {},
   "outputs": [],
   "source": [
    "clf = DecisionTreeClassifier(max_depth=5)"
   ]
  },
  {
   "cell_type": "code",
   "execution_count": 30,
   "metadata": {},
   "outputs": [
    {
     "data": {
      "text/plain": [
       "Age                                   350\n",
       "No of Siblings or Spouses on Board    446\n",
       "No of Parents or Children on Board    446\n",
       "Passenger Fare                        445\n",
       "dtype: int64"
      ]
     },
     "execution_count": 30,
     "metadata": {},
     "output_type": "execute_result"
    }
   ],
   "source": [
    "X_test.count()"
   ]
  },
  {
   "cell_type": "code",
   "execution_count": 31,
   "metadata": {},
   "outputs": [],
   "source": [
    "mean_age = X_train['Age'].mean()\n",
    "\n",
    "X_train['Age'] = X_train['Age'].fillna(value=mean_age)\n",
    "\n",
    "mean_fare = X_train['Passenger Fare'].mean()\n",
    "\n",
    "X_train['Passenger Fare'] = X_train['Passenger Fare'].fillna(value=mean_fare)"
   ]
  },
  {
   "cell_type": "code",
   "execution_count": 32,
   "metadata": {},
   "outputs": [
    {
     "data": {
      "text/plain": [
       "DecisionTreeClassifier(ccp_alpha=0.0, class_weight=None, criterion='gini',\n",
       "                       max_depth=5, max_features=None, max_leaf_nodes=None,\n",
       "                       min_impurity_decrease=0.0, min_impurity_split=None,\n",
       "                       min_samples_leaf=1, min_samples_split=2,\n",
       "                       min_weight_fraction_leaf=0.0, presort='deprecated',\n",
       "                       random_state=None, splitter='best')"
      ]
     },
     "execution_count": 32,
     "metadata": {},
     "output_type": "execute_result"
    }
   ],
   "source": [
    "clf.fit(X_train, y_train)"
   ]
  },
  {
   "cell_type": "code",
   "execution_count": 33,
   "metadata": {},
   "outputs": [],
   "source": [
    "X_test['Age'] = X_test['Age'].fillna(value=mean_age)\n",
    "X_test['Passenger Fare'] = X_test['Passenger Fare'].fillna(value=mean_fare)"
   ]
  },
  {
   "cell_type": "code",
   "execution_count": 34,
   "metadata": {},
   "outputs": [],
   "source": [
    "y_pred = clf.predict(X_test)"
   ]
  },
  {
   "cell_type": "code",
   "execution_count": 35,
   "metadata": {},
   "outputs": [
    {
     "name": "stdout",
     "output_type": "stream",
     "text": [
      "No No\n",
      "Yes No\n",
      "No No\n",
      "No No\n",
      "Yes No\n",
      "Yes No\n",
      "No No\n",
      "No Yes\n",
      "Yes Yes\n",
      "No No\n",
      "No No\n",
      "No No\n",
      "No No\n",
      "No Yes\n",
      "Yes No\n",
      "Yes Yes\n",
      "No No\n",
      "No No\n",
      "Yes No\n",
      "No No\n",
      "No No\n",
      "Yes No\n",
      "No No\n",
      "Yes No\n",
      "Yes No\n",
      "No No\n",
      "No Yes\n",
      "No No\n",
      "No No\n",
      "No No\n",
      "No No\n",
      "No No\n",
      "Yes No\n",
      "No Yes\n",
      "No No\n",
      "Yes No\n",
      "No No\n",
      "No No\n",
      "No Yes\n",
      "Yes Yes\n",
      "Yes No\n",
      "Yes Yes\n",
      "Yes No\n",
      "No No\n",
      "Yes Yes\n",
      "No No\n",
      "Yes Yes\n",
      "No No\n",
      "Yes Yes\n",
      "No No\n",
      "Yes No\n",
      "No No\n",
      "No No\n",
      "No No\n",
      "No Yes\n",
      "Yes Yes\n",
      "Yes Yes\n",
      "No Yes\n",
      "Yes Yes\n",
      "No Yes\n",
      "Yes No\n",
      "Yes Yes\n",
      "No No\n",
      "No No\n",
      "No No\n",
      "Yes Yes\n",
      "Yes No\n",
      "No No\n",
      "Yes No\n",
      "No No\n",
      "No No\n",
      "No No\n",
      "Yes Yes\n",
      "No No\n",
      "No No\n",
      "No Yes\n",
      "No Yes\n",
      "No No\n",
      "No No\n",
      "Yes Yes\n",
      "Yes No\n",
      "Yes Yes\n",
      "No Yes\n",
      "Yes No\n",
      "Yes Yes\n",
      "No No\n",
      "No No\n",
      "No No\n",
      "Yes No\n",
      "Yes No\n",
      "No No\n",
      "Yes No\n",
      "No No\n",
      "No No\n",
      "No No\n",
      "Yes Yes\n",
      "No No\n",
      "No No\n",
      "No No\n",
      "No No\n",
      "No No\n",
      "No No\n",
      "No No\n",
      "No Yes\n",
      "No No\n",
      "No No\n",
      "No No\n",
      "No Yes\n",
      "Yes No\n",
      "Yes Yes\n",
      "No Yes\n",
      "No No\n",
      "No No\n",
      "No Yes\n",
      "Yes No\n",
      "No No\n",
      "Yes No\n",
      "Yes Yes\n",
      "Yes No\n",
      "No No\n",
      "No No\n",
      "No No\n",
      "No No\n",
      "No No\n",
      "Yes No\n",
      "No No\n",
      "No No\n",
      "No Yes\n",
      "No No\n",
      "Yes Yes\n",
      "Yes Yes\n",
      "No No\n",
      "Yes No\n",
      "No No\n",
      "Yes Yes\n",
      "No No\n",
      "Yes Yes\n",
      "No No\n",
      "No No\n",
      "No Yes\n",
      "Yes No\n",
      "No Yes\n",
      "No No\n",
      "Yes Yes\n",
      "No No\n",
      "No Yes\n",
      "No Yes\n",
      "No Yes\n",
      "No No\n",
      "No No\n",
      "No No\n",
      "No No\n",
      "No No\n",
      "No No\n",
      "No Yes\n",
      "No No\n",
      "Yes Yes\n",
      "Yes No\n",
      "No No\n",
      "Yes Yes\n",
      "Yes No\n",
      "No No\n",
      "No No\n",
      "Yes Yes\n",
      "No No\n",
      "No No\n",
      "No No\n",
      "Yes Yes\n",
      "Yes No\n",
      "No No\n",
      "No No\n",
      "No No\n",
      "Yes No\n",
      "No No\n",
      "No No\n",
      "No Yes\n",
      "No No\n",
      "Yes Yes\n",
      "Yes No\n",
      "No No\n",
      "No No\n",
      "No Yes\n",
      "No No\n",
      "No No\n",
      "Yes Yes\n",
      "No No\n",
      "Yes No\n",
      "Yes Yes\n",
      "Yes Yes\n",
      "No No\n",
      "Yes No\n",
      "No Yes\n",
      "No No\n",
      "Yes No\n",
      "Yes No\n",
      "No No\n",
      "Yes Yes\n",
      "No No\n",
      "Yes No\n",
      "Yes Yes\n",
      "Yes Yes\n",
      "No Yes\n",
      "No No\n",
      "Yes Yes\n",
      "No No\n",
      "Yes No\n",
      "Yes No\n",
      "No No\n",
      "No No\n",
      "Yes Yes\n",
      "Yes Yes\n",
      "No No\n",
      "No No\n",
      "No No\n",
      "Yes Yes\n",
      "Yes Yes\n",
      "Yes No\n",
      "Yes No\n",
      "No Yes\n",
      "No No\n",
      "Yes No\n",
      "Yes No\n",
      "Yes Yes\n",
      "Yes No\n",
      "No No\n",
      "No Yes\n",
      "Yes Yes\n",
      "No No\n",
      "No No\n",
      "No No\n",
      "Yes No\n",
      "No Yes\n",
      "Yes No\n",
      "Yes No\n",
      "No No\n",
      "No Yes\n",
      "Yes No\n",
      "No No\n",
      "Yes No\n",
      "Yes No\n",
      "No No\n",
      "Yes Yes\n",
      "Yes Yes\n",
      "No No\n",
      "No No\n",
      "No No\n",
      "Yes Yes\n",
      "No No\n",
      "No Yes\n",
      "No No\n",
      "No No\n",
      "No No\n",
      "No No\n",
      "Yes No\n",
      "No No\n",
      "Yes No\n",
      "Yes No\n",
      "No No\n",
      "No Yes\n",
      "No No\n",
      "Yes No\n",
      "No No\n",
      "No No\n",
      "No No\n",
      "No No\n",
      "Yes No\n",
      "No No\n",
      "Yes No\n",
      "Yes No\n",
      "No Yes\n",
      "No Yes\n",
      "No No\n",
      "No No\n",
      "Yes Yes\n",
      "Yes Yes\n",
      "Yes No\n",
      "No No\n",
      "No No\n",
      "No No\n",
      "No No\n",
      "Yes No\n",
      "Yes No\n",
      "Yes Yes\n",
      "No No\n",
      "No No\n",
      "Yes No\n",
      "Yes No\n",
      "No No\n",
      "No No\n",
      "Yes Yes\n",
      "No No\n",
      "No Yes\n",
      "Yes No\n",
      "No No\n",
      "No No\n",
      "Yes No\n",
      "No No\n",
      "Yes Yes\n",
      "No No\n",
      "No No\n",
      "No No\n",
      "No No\n",
      "No Yes\n",
      "No Yes\n",
      "Yes Yes\n",
      "No No\n",
      "Yes Yes\n",
      "No No\n",
      "No No\n",
      "No No\n",
      "Yes No\n",
      "Yes Yes\n",
      "No No\n",
      "No No\n",
      "Yes Yes\n",
      "No Yes\n",
      "No No\n",
      "No Yes\n",
      "No No\n",
      "No No\n",
      "No No\n",
      "No Yes\n",
      "Yes Yes\n",
      "No No\n",
      "Yes No\n",
      "Yes No\n",
      "No No\n",
      "No No\n",
      "Yes No\n",
      "Yes No\n",
      "No No\n",
      "No Yes\n",
      "No Yes\n",
      "Yes No\n",
      "Yes Yes\n",
      "Yes No\n",
      "Yes No\n",
      "Yes No\n",
      "No No\n",
      "Yes No\n",
      "Yes No\n",
      "No Yes\n",
      "No No\n",
      "No No\n",
      "No No\n",
      "Yes No\n",
      "No Yes\n",
      "No Yes\n",
      "No No\n",
      "No No\n",
      "No No\n",
      "No No\n",
      "No No\n",
      "No No\n",
      "No No\n",
      "Yes No\n",
      "Yes Yes\n",
      "Yes No\n",
      "No No\n",
      "No No\n",
      "No No\n",
      "Yes No\n",
      "Yes No\n",
      "No No\n",
      "No No\n",
      "No Yes\n",
      "No No\n",
      "Yes Yes\n",
      "No No\n",
      "No No\n",
      "Yes No\n",
      "No Yes\n",
      "Yes No\n",
      "Yes Yes\n",
      "Yes No\n",
      "No No\n",
      "Yes Yes\n",
      "No No\n",
      "No No\n",
      "No No\n",
      "No No\n",
      "Yes Yes\n",
      "No No\n",
      "No No\n",
      "No Yes\n",
      "No No\n",
      "No No\n",
      "Yes No\n",
      "Yes Yes\n",
      "No No\n",
      "No Yes\n",
      "No No\n",
      "No No\n",
      "Yes Yes\n",
      "No No\n",
      "No Yes\n",
      "No No\n",
      "Yes Yes\n",
      "No Yes\n",
      "Yes No\n",
      "No No\n",
      "No No\n",
      "No No\n",
      "Yes No\n",
      "No No\n",
      "Yes Yes\n",
      "No No\n",
      "No No\n",
      "No Yes\n",
      "Yes No\n",
      "No No\n",
      "No No\n",
      "Yes No\n",
      "No Yes\n",
      "Yes Yes\n",
      "Yes Yes\n",
      "No Yes\n",
      "Yes Yes\n",
      "No No\n",
      "No No\n",
      "No No\n",
      "Yes No\n",
      "No No\n",
      "Yes Yes\n",
      "Yes Yes\n",
      "Yes Yes\n",
      "Yes Yes\n",
      "Yes No\n",
      "No No\n",
      "No No\n",
      "No No\n",
      "Yes No\n",
      "No No\n",
      "Yes Yes\n",
      "No No\n",
      "No No\n",
      "Yes No\n",
      "No No\n",
      "No No\n",
      "No No\n",
      "No No\n",
      "Yes Yes\n",
      "Yes No\n",
      "No No\n",
      "No No\n",
      "No No\n"
     ]
    }
   ],
   "source": [
    "for true, predicted in zip(y_test, y_pred):\n",
    "    print(true, predicted)"
   ]
  },
  {
   "cell_type": "code",
   "execution_count": 36,
   "metadata": {},
   "outputs": [],
   "source": [
    "from sklearn.metrics import accuracy_score"
   ]
  },
  {
   "cell_type": "code",
   "execution_count": 37,
   "metadata": {},
   "outputs": [
    {
     "data": {
      "text/plain": [
       "0.6681614349775785"
      ]
     },
     "execution_count": 37,
     "metadata": {},
     "output_type": "execute_result"
    }
   ],
   "source": [
    "accuracy_score(y_test, y_pred)"
   ]
  },
  {
   "cell_type": "code",
   "execution_count": 38,
   "metadata": {},
   "outputs": [
    {
     "data": {
      "text/plain": [
       "No     278\n",
       "Yes    168\n",
       "Name: Survived, dtype: int64"
      ]
     },
     "execution_count": 38,
     "metadata": {},
     "output_type": "execute_result"
    }
   ],
   "source": [
    "y_test.value_counts()"
   ]
  },
  {
   "cell_type": "code",
   "execution_count": 39,
   "metadata": {},
   "outputs": [
    {
     "data": {
      "text/plain": [
       "(446,)"
      ]
     },
     "execution_count": 39,
     "metadata": {},
     "output_type": "execute_result"
    }
   ],
   "source": [
    "y_test.shape"
   ]
  },
  {
   "cell_type": "code",
   "execution_count": 40,
   "metadata": {},
   "outputs": [
    {
     "data": {
      "text/plain": [
       "No     809\n",
       "Yes    500\n",
       "Name: Survived, dtype: int64"
      ]
     },
     "execution_count": 40,
     "metadata": {},
     "output_type": "execute_result"
    }
   ],
   "source": [
    "df.Survived.value_counts()"
   ]
  },
  {
   "cell_type": "code",
   "execution_count": 41,
   "metadata": {},
   "outputs": [],
   "source": [
    "y_pred_const = ['No']*446"
   ]
  },
  {
   "cell_type": "code",
   "execution_count": 42,
   "metadata": {},
   "outputs": [
    {
     "data": {
      "text/plain": [
       "0.6233183856502242"
      ]
     },
     "execution_count": 42,
     "metadata": {},
     "output_type": "execute_result"
    }
   ],
   "source": [
    "accuracy_score(y_test, y_pred_const)"
   ]
  },
  {
   "cell_type": "markdown",
   "metadata": {},
   "source": [
    "# Exploratory data analysis (EDA)"
   ]
  },
  {
   "cell_type": "code",
   "execution_count": 43,
   "metadata": {},
   "outputs": [],
   "source": [
    "import seaborn as sns"
   ]
  },
  {
   "cell_type": "code",
   "execution_count": 44,
   "metadata": {},
   "outputs": [
    {
     "data": {
      "image/png": "[encoded data removed]",
      "text/plain": [
       "<Figure size 432x288 with 1 Axes>"
      ]
     },
     "metadata": {
      "needs_background": "light"
     },
     "output_type": "display_data"
    }
   ],
   "source": [
    "sns.countplot('Survived', data=df);"
   ]
  },
  {
   "cell_type": "code",
   "execution_count": 45,
   "metadata": {},
   "outputs": [
    {
     "data": {
      "text/html": [
       "<div>\n",
       "<style scoped>\n",
       "    .dataframe tbody tr th:only-of-type {\n",
       "        vertical-align: middle;\n",
       "    }\n",
       "\n",
       "    .dataframe tbody tr th {\n",
       "        vertical-align: top;\n",
       "    }\n",
       "\n",
       "    .dataframe thead th {\n",
       "        text-align: right;\n",
       "    }\n",
       "</style>\n",
       "<table border=\"1\" class=\"dataframe\">\n",
       "  <thead>\n",
       "    <tr style=\"text-align: right;\">\n",
       "      <th></th>\n",
       "      <th>Passenger Class</th>\n",
       "      <th>Name</th>\n",
       "      <th>Sex</th>\n",
       "      <th>Age</th>\n",
       "      <th>No of Siblings or Spouses on Board</th>\n",
       "      <th>No of Parents or Children on Board</th>\n",
       "      <th>Ticket Number</th>\n",
       "      <th>Passenger Fare</th>\n",
       "      <th>Cabin</th>\n",
       "      <th>Port of Embarkation</th>\n",
       "      <th>Life Boat</th>\n",
       "      <th>Survived</th>\n",
       "    </tr>\n",
       "  </thead>\n",
       "  <tbody>\n",
       "    <tr>\n",
       "      <th>0</th>\n",
       "      <td>First</td>\n",
       "      <td>Allen, Miss. Elisabeth Walton</td>\n",
       "      <td>Female</td>\n",
       "      <td>29.0000</td>\n",
       "      <td>0</td>\n",
       "      <td>0</td>\n",
       "      <td>24160</td>\n",
       "      <td>211.3375</td>\n",
       "      <td>B5</td>\n",
       "      <td>Southampton</td>\n",
       "      <td>2</td>\n",
       "      <td>Yes</td>\n",
       "    </tr>\n",
       "    <tr>\n",
       "      <th>1</th>\n",
       "      <td>First</td>\n",
       "      <td>Allison, Master. Hudson Trevor</td>\n",
       "      <td>Male</td>\n",
       "      <td>0.9167</td>\n",
       "      <td>1</td>\n",
       "      <td>2</td>\n",
       "      <td>113781</td>\n",
       "      <td>151.5500</td>\n",
       "      <td>C22 C26</td>\n",
       "      <td>Southampton</td>\n",
       "      <td>11</td>\n",
       "      <td>Yes</td>\n",
       "    </tr>\n",
       "    <tr>\n",
       "      <th>2</th>\n",
       "      <td>First</td>\n",
       "      <td>Allison, Miss. Helen Loraine</td>\n",
       "      <td>Female</td>\n",
       "      <td>2.0000</td>\n",
       "      <td>1</td>\n",
       "      <td>2</td>\n",
       "      <td>113781</td>\n",
       "      <td>151.5500</td>\n",
       "      <td>C22 C26</td>\n",
       "      <td>Southampton</td>\n",
       "      <td>NaN</td>\n",
       "      <td>No</td>\n",
       "    </tr>\n",
       "  </tbody>\n",
       "</table>\n",
       "</div>"
      ],
      "text/plain": [
       "  Passenger Class                            Name     Sex      Age  \\\n",
       "0           First   Allen, Miss. Elisabeth Walton  Female  29.0000   \n",
       "1           First  Allison, Master. Hudson Trevor    Male   0.9167   \n",
       "2           First    Allison, Miss. Helen Loraine  Female   2.0000   \n",
       "\n",
       "   No of Siblings or Spouses on Board  No of Parents or Children on Board  \\\n",
       "0                                   0                                   0   \n",
       "1                                   1                                   2   \n",
       "2                                   1                                   2   \n",
       "\n",
       "  Ticket Number  Passenger Fare    Cabin Port of Embarkation Life Boat  \\\n",
       "0         24160        211.3375       B5         Southampton         2   \n",
       "1        113781        151.5500  C22 C26         Southampton        11   \n",
       "2        113781        151.5500  C22 C26         Southampton       NaN   \n",
       "\n",
       "  Survived  \n",
       "0      Yes  \n",
       "1      Yes  \n",
       "2       No  "
      ]
     },
     "execution_count": 45,
     "metadata": {},
     "output_type": "execute_result"
    }
   ],
   "source": [
    "df.head(3)"
   ]
  },
  {
   "cell_type": "code",
   "execution_count": 46,
   "metadata": {},
   "outputs": [
    {
     "data": {
      "text/plain": [
       "No     809\n",
       "Yes    500\n",
       "Name: Survived, dtype: int64"
      ]
     },
     "execution_count": 46,
     "metadata": {},
     "output_type": "execute_result"
    }
   ],
   "source": [
    "df.Survived.value_counts()"
   ]
  },
  {
   "cell_type": "code",
   "execution_count": 47,
   "metadata": {},
   "outputs": [
    {
     "data": {
      "image/png": "[encoded data removed]",
      "text/plain": [
       "<Figure size 432x288 with 1 Axes>"
      ]
     },
     "metadata": {
      "needs_background": "light"
     },
     "output_type": "display_data"
    }
   ],
   "source": [
    "sns.countplot('Sex', data=df);"
   ]
  },
  {
   "cell_type": "code",
   "execution_count": 48,
   "metadata": {},
   "outputs": [
    {
     "data": {
      "image/png": "[encoded data removed]",
      "text/plain": [
       "<Figure size 720x360 with 2 Axes>"
      ]
     },
     "metadata": {
      "needs_background": "light"
     },
     "output_type": "display_data"
    }
   ],
   "source": [
    "sns.catplot(x='Survived', col='Sex', kind='count', data=df);"
   ]
  },
  {
   "cell_type": "code",
   "execution_count": 49,
   "metadata": {},
   "outputs": [
    {
     "data": {
      "image/png": "[encoded data removed]",
      "text/plain": [
       "<Figure size 432x288 with 1 Axes>"
      ]
     },
     "metadata": {
      "needs_background": "light"
     },
     "output_type": "display_data"
    }
   ],
   "source": [
    "sns.countplot('Survived', data=df);"
   ]
  },
  {
   "cell_type": "code",
   "execution_count": 50,
   "metadata": {},
   "outputs": [],
   "source": [
    "# p(Survived = Yes)"
   ]
  },
  {
   "cell_type": "code",
   "execution_count": 51,
   "metadata": {},
   "outputs": [],
   "source": [
    "# p(Survived = Yes | Sex = Female)"
   ]
  },
  {
   "cell_type": "code",
   "execution_count": 52,
   "metadata": {},
   "outputs": [
    {
     "data": {
      "text/html": [
       "<div>\n",
       "<style scoped>\n",
       "    .dataframe tbody tr th:only-of-type {\n",
       "        vertical-align: middle;\n",
       "    }\n",
       "\n",
       "    .dataframe tbody tr th {\n",
       "        vertical-align: top;\n",
       "    }\n",
       "\n",
       "    .dataframe thead th {\n",
       "        text-align: right;\n",
       "    }\n",
       "</style>\n",
       "<table border=\"1\" class=\"dataframe\">\n",
       "  <thead>\n",
       "    <tr style=\"text-align: right;\">\n",
       "      <th></th>\n",
       "      <th>Passenger Class</th>\n",
       "      <th>Name</th>\n",
       "      <th>Sex</th>\n",
       "      <th>Age</th>\n",
       "      <th>No of Siblings or Spouses on Board</th>\n",
       "      <th>No of Parents or Children on Board</th>\n",
       "      <th>Ticket Number</th>\n",
       "      <th>Passenger Fare</th>\n",
       "      <th>Cabin</th>\n",
       "      <th>Port of Embarkation</th>\n",
       "      <th>Life Boat</th>\n",
       "      <th>Survived</th>\n",
       "    </tr>\n",
       "  </thead>\n",
       "  <tbody>\n",
       "    <tr>\n",
       "      <th>0</th>\n",
       "      <td>First</td>\n",
       "      <td>Allen, Miss. Elisabeth Walton</td>\n",
       "      <td>Female</td>\n",
       "      <td>29.0000</td>\n",
       "      <td>0</td>\n",
       "      <td>0</td>\n",
       "      <td>24160</td>\n",
       "      <td>211.3375</td>\n",
       "      <td>B5</td>\n",
       "      <td>Southampton</td>\n",
       "      <td>2</td>\n",
       "      <td>Yes</td>\n",
       "    </tr>\n",
       "    <tr>\n",
       "      <th>1</th>\n",
       "      <td>First</td>\n",
       "      <td>Allison, Master. Hudson Trevor</td>\n",
       "      <td>Male</td>\n",
       "      <td>0.9167</td>\n",
       "      <td>1</td>\n",
       "      <td>2</td>\n",
       "      <td>113781</td>\n",
       "      <td>151.5500</td>\n",
       "      <td>C22 C26</td>\n",
       "      <td>Southampton</td>\n",
       "      <td>11</td>\n",
       "      <td>Yes</td>\n",
       "    </tr>\n",
       "    <tr>\n",
       "      <th>2</th>\n",
       "      <td>First</td>\n",
       "      <td>Allison, Miss. Helen Loraine</td>\n",
       "      <td>Female</td>\n",
       "      <td>2.0000</td>\n",
       "      <td>1</td>\n",
       "      <td>2</td>\n",
       "      <td>113781</td>\n",
       "      <td>151.5500</td>\n",
       "      <td>C22 C26</td>\n",
       "      <td>Southampton</td>\n",
       "      <td>NaN</td>\n",
       "      <td>No</td>\n",
       "    </tr>\n",
       "    <tr>\n",
       "      <th>3</th>\n",
       "      <td>First</td>\n",
       "      <td>Allison, Mr. Hudson Joshua Creighton</td>\n",
       "      <td>Male</td>\n",
       "      <td>30.0000</td>\n",
       "      <td>1</td>\n",
       "      <td>2</td>\n",
       "      <td>113781</td>\n",
       "      <td>151.5500</td>\n",
       "      <td>C22 C26</td>\n",
       "      <td>Southampton</td>\n",
       "      <td>NaN</td>\n",
       "      <td>No</td>\n",
       "    </tr>\n",
       "    <tr>\n",
       "      <th>4</th>\n",
       "      <td>First</td>\n",
       "      <td>Allison, Mrs. Hudson J C (Bessie Waldo Daniels)</td>\n",
       "      <td>Female</td>\n",
       "      <td>25.0000</td>\n",
       "      <td>1</td>\n",
       "      <td>2</td>\n",
       "      <td>113781</td>\n",
       "      <td>151.5500</td>\n",
       "      <td>C22 C26</td>\n",
       "      <td>Southampton</td>\n",
       "      <td>NaN</td>\n",
       "      <td>No</td>\n",
       "    </tr>\n",
       "    <tr>\n",
       "      <th>...</th>\n",
       "      <td>...</td>\n",
       "      <td>...</td>\n",
       "      <td>...</td>\n",
       "      <td>...</td>\n",
       "      <td>...</td>\n",
       "      <td>...</td>\n",
       "      <td>...</td>\n",
       "      <td>...</td>\n",
       "      <td>...</td>\n",
       "      <td>...</td>\n",
       "      <td>...</td>\n",
       "      <td>...</td>\n",
       "    </tr>\n",
       "    <tr>\n",
       "      <th>1304</th>\n",
       "      <td>Third</td>\n",
       "      <td>Zabour, Miss. Hileni</td>\n",
       "      <td>Female</td>\n",
       "      <td>14.5000</td>\n",
       "      <td>1</td>\n",
       "      <td>0</td>\n",
       "      <td>2665</td>\n",
       "      <td>14.4542</td>\n",
       "      <td>NaN</td>\n",
       "      <td>Cherbourg</td>\n",
       "      <td>NaN</td>\n",
       "      <td>No</td>\n",
       "    </tr>\n",
       "    <tr>\n",
       "      <th>1305</th>\n",
       "      <td>Third</td>\n",
       "      <td>Zabour, Miss. Thamine</td>\n",
       "      <td>Female</td>\n",
       "      <td>NaN</td>\n",
       "      <td>1</td>\n",
       "      <td>0</td>\n",
       "      <td>2665</td>\n",
       "      <td>14.4542</td>\n",
       "      <td>NaN</td>\n",
       "      <td>Cherbourg</td>\n",
       "      <td>NaN</td>\n",
       "      <td>No</td>\n",
       "    </tr>\n",
       "    <tr>\n",
       "      <th>1306</th>\n",
       "      <td>Third</td>\n",
       "      <td>Zakarian, Mr. Mapriededer</td>\n",
       "      <td>Male</td>\n",
       "      <td>26.5000</td>\n",
       "      <td>0</td>\n",
       "      <td>0</td>\n",
       "      <td>2656</td>\n",
       "      <td>7.2250</td>\n",
       "      <td>NaN</td>\n",
       "      <td>Cherbourg</td>\n",
       "      <td>NaN</td>\n",
       "      <td>No</td>\n",
       "    </tr>\n",
       "    <tr>\n",
       "      <th>1307</th>\n",
       "      <td>Third</td>\n",
       "      <td>Zakarian, Mr. Ortin</td>\n",
       "      <td>Male</td>\n",
       "      <td>27.0000</td>\n",
       "      <td>0</td>\n",
       "      <td>0</td>\n",
       "      <td>2670</td>\n",
       "      <td>7.2250</td>\n",
       "      <td>NaN</td>\n",
       "      <td>Cherbourg</td>\n",
       "      <td>NaN</td>\n",
       "      <td>No</td>\n",
       "    </tr>\n",
       "    <tr>\n",
       "      <th>1308</th>\n",
       "      <td>Third</td>\n",
       "      <td>Zimmerman, Mr. Leo</td>\n",
       "      <td>Male</td>\n",
       "      <td>29.0000</td>\n",
       "      <td>0</td>\n",
       "      <td>0</td>\n",
       "      <td>315082</td>\n",
       "      <td>7.8750</td>\n",
       "      <td>NaN</td>\n",
       "      <td>Southampton</td>\n",
       "      <td>NaN</td>\n",
       "      <td>No</td>\n",
       "    </tr>\n",
       "  </tbody>\n",
       "</table>\n",
       "<p>1309 rows × 12 columns</p>\n",
       "</div>"
      ],
      "text/plain": [
       "     Passenger Class                                             Name     Sex  \\\n",
       "0              First                    Allen, Miss. Elisabeth Walton  Female   \n",
       "1              First                   Allison, Master. Hudson Trevor    Male   \n",
       "2              First                     Allison, Miss. Helen Loraine  Female   \n",
       "3              First             Allison, Mr. Hudson Joshua Creighton    Male   \n",
       "4              First  Allison, Mrs. Hudson J C (Bessie Waldo Daniels)  Female   \n",
       "...              ...                                              ...     ...   \n",
       "1304           Third                             Zabour, Miss. Hileni  Female   \n",
       "1305           Third                            Zabour, Miss. Thamine  Female   \n",
       "1306           Third                        Zakarian, Mr. Mapriededer    Male   \n",
       "1307           Third                              Zakarian, Mr. Ortin    Male   \n",
       "1308           Third                               Zimmerman, Mr. Leo    Male   \n",
       "\n",
       "          Age  No of Siblings or Spouses on Board  \\\n",
       "0     29.0000                                   0   \n",
       "1      0.9167                                   1   \n",
       "2      2.0000                                   1   \n",
       "3     30.0000                                   1   \n",
       "4     25.0000                                   1   \n",
       "...       ...                                 ...   \n",
       "1304  14.5000                                   1   \n",
       "1305      NaN                                   1   \n",
       "1306  26.5000                                   0   \n",
       "1307  27.0000                                   0   \n",
       "1308  29.0000                                   0   \n",
       "\n",
       "      No of Parents or Children on Board Ticket Number  Passenger Fare  \\\n",
       "0                                      0         24160        211.3375   \n",
       "1                                      2        113781        151.5500   \n",
       "2                                      2        113781        151.5500   \n",
       "3                                      2        113781        151.5500   \n",
       "4                                      2        113781        151.5500   \n",
       "...                                  ...           ...             ...   \n",
       "1304                                   0          2665         14.4542   \n",
       "1305                                   0          2665         14.4542   \n",
       "1306                                   0          2656          7.2250   \n",
       "1307                                   0          2670          7.2250   \n",
       "1308                                   0        315082          7.8750   \n",
       "\n",
       "        Cabin Port of Embarkation Life Boat Survived  \n",
       "0          B5         Southampton         2      Yes  \n",
       "1     C22 C26         Southampton        11      Yes  \n",
       "2     C22 C26         Southampton       NaN       No  \n",
       "3     C22 C26         Southampton       NaN       No  \n",
       "4     C22 C26         Southampton       NaN       No  \n",
       "...       ...                 ...       ...      ...  \n",
       "1304      NaN           Cherbourg       NaN       No  \n",
       "1305      NaN           Cherbourg       NaN       No  \n",
       "1306      NaN           Cherbourg       NaN       No  \n",
       "1307      NaN           Cherbourg       NaN       No  \n",
       "1308      NaN         Southampton       NaN       No  \n",
       "\n",
       "[1309 rows x 12 columns]"
      ]
     },
     "execution_count": 52,
     "metadata": {},
     "output_type": "execute_result"
    }
   ],
   "source": [
    "df"
   ]
  },
  {
   "cell_type": "markdown",
   "metadata": {},
   "source": [
    "## Passenger Class"
   ]
  },
  {
   "cell_type": "code",
   "execution_count": 53,
   "metadata": {},
   "outputs": [
    {
     "data": {
      "image/png": "[encoded data removed]",
      "text/plain": [
       "<Figure size 432x288 with 1 Axes>"
      ]
     },
     "metadata": {
      "needs_background": "light"
     },
     "output_type": "display_data"
    }
   ],
   "source": [
    "sns.countplot('Passenger Class', data=df);"
   ]
  },
  {
   "cell_type": "code",
   "execution_count": 54,
   "metadata": {},
   "outputs": [
    {
     "data": {
      "text/plain": [
       "Passenger Class\n",
       "First     87.508992\n",
       "Second    21.179196\n",
       "Third     13.302889\n",
       "Name: Passenger Fare, dtype: float64"
      ]
     },
     "execution_count": 54,
     "metadata": {},
     "output_type": "execute_result"
    }
   ],
   "source": [
    "df.groupby('Passenger Class')['Passenger Fare'].mean()"
   ]
  },
  {
   "cell_type": "code",
   "execution_count": 55,
   "metadata": {},
   "outputs": [
    {
     "data": {
      "image/png": "[encoded data removed]",
      "text/plain": [
       "<Figure size 1080x360 with 3 Axes>"
      ]
     },
     "metadata": {
      "needs_background": "light"
     },
     "output_type": "display_data"
    }
   ],
   "source": [
    "sns.catplot(x='Survived', col='Passenger Class', kind='count', data=df);"
   ]
  },
  {
   "cell_type": "code",
   "execution_count": null,
   "metadata": {},
   "outputs": [],
   "source": []
  },
  {
   "cell_type": "markdown",
   "metadata": {},
   "source": [
    "## Age"
   ]
  },
  {
   "cell_type": "code",
   "execution_count": 56,
   "metadata": {},
   "outputs": [
    {
     "data": {
      "image/png": "[encoded data removed]",
      "text/plain": [
       "<Figure size 1133.36x360 with 1 Axes>"
      ]
     },
     "metadata": {
      "needs_background": "light"
     },
     "output_type": "display_data"
    }
   ],
   "source": [
    "fig = sns.FacetGrid(df, hue='Survived', height=5, aspect=3)\n",
    "fig.map(sns.kdeplot, 'Age', shade=True)\n",
    "fig.add_legend();"
   ]
  },
  {
   "cell_type": "code",
   "execution_count": 57,
   "metadata": {},
   "outputs": [
    {
     "data": {
      "text/plain": [
       "Survived\n",
       "No     30.545369\n",
       "Yes    28.918228\n",
       "Name: Age, dtype: float64"
      ]
     },
     "execution_count": 57,
     "metadata": {},
     "output_type": "execute_result"
    }
   ],
   "source": [
    "df.groupby('Survived')['Age'].mean()"
   ]
  },
  {
   "cell_type": "code",
   "execution_count": null,
   "metadata": {},
   "outputs": [],
   "source": []
  },
  {
   "cell_type": "code",
   "execution_count": 58,
   "metadata": {},
   "outputs": [
    {
     "data": {
      "text/html": [
       "<div>\n",
       "<style scoped>\n",
       "    .dataframe tbody tr th:only-of-type {\n",
       "        vertical-align: middle;\n",
       "    }\n",
       "\n",
       "    .dataframe tbody tr th {\n",
       "        vertical-align: top;\n",
       "    }\n",
       "\n",
       "    .dataframe thead th {\n",
       "        text-align: right;\n",
       "    }\n",
       "</style>\n",
       "<table border=\"1\" class=\"dataframe\">\n",
       "  <thead>\n",
       "    <tr style=\"text-align: right;\">\n",
       "      <th></th>\n",
       "      <th>Passenger Class</th>\n",
       "      <th>Name</th>\n",
       "      <th>Sex</th>\n",
       "      <th>Age</th>\n",
       "      <th>No of Siblings or Spouses on Board</th>\n",
       "      <th>No of Parents or Children on Board</th>\n",
       "      <th>Ticket Number</th>\n",
       "      <th>Passenger Fare</th>\n",
       "      <th>Cabin</th>\n",
       "      <th>Port of Embarkation</th>\n",
       "      <th>Life Boat</th>\n",
       "      <th>Survived</th>\n",
       "    </tr>\n",
       "  </thead>\n",
       "  <tbody>\n",
       "    <tr>\n",
       "      <th>0</th>\n",
       "      <td>First</td>\n",
       "      <td>Allen, Miss. Elisabeth Walton</td>\n",
       "      <td>Female</td>\n",
       "      <td>29.0000</td>\n",
       "      <td>0</td>\n",
       "      <td>0</td>\n",
       "      <td>24160</td>\n",
       "      <td>211.3375</td>\n",
       "      <td>B5</td>\n",
       "      <td>Southampton</td>\n",
       "      <td>2</td>\n",
       "      <td>Yes</td>\n",
       "    </tr>\n",
       "    <tr>\n",
       "      <th>1</th>\n",
       "      <td>First</td>\n",
       "      <td>Allison, Master. Hudson Trevor</td>\n",
       "      <td>Male</td>\n",
       "      <td>0.9167</td>\n",
       "      <td>1</td>\n",
       "      <td>2</td>\n",
       "      <td>113781</td>\n",
       "      <td>151.5500</td>\n",
       "      <td>C22 C26</td>\n",
       "      <td>Southampton</td>\n",
       "      <td>11</td>\n",
       "      <td>Yes</td>\n",
       "    </tr>\n",
       "    <tr>\n",
       "      <th>2</th>\n",
       "      <td>First</td>\n",
       "      <td>Allison, Miss. Helen Loraine</td>\n",
       "      <td>Female</td>\n",
       "      <td>2.0000</td>\n",
       "      <td>1</td>\n",
       "      <td>2</td>\n",
       "      <td>113781</td>\n",
       "      <td>151.5500</td>\n",
       "      <td>C22 C26</td>\n",
       "      <td>Southampton</td>\n",
       "      <td>NaN</td>\n",
       "      <td>No</td>\n",
       "    </tr>\n",
       "  </tbody>\n",
       "</table>\n",
       "</div>"
      ],
      "text/plain": [
       "  Passenger Class                            Name     Sex      Age  \\\n",
       "0           First   Allen, Miss. Elisabeth Walton  Female  29.0000   \n",
       "1           First  Allison, Master. Hudson Trevor    Male   0.9167   \n",
       "2           First    Allison, Miss. Helen Loraine  Female   2.0000   \n",
       "\n",
       "   No of Siblings or Spouses on Board  No of Parents or Children on Board  \\\n",
       "0                                   0                                   0   \n",
       "1                                   1                                   2   \n",
       "2                                   1                                   2   \n",
       "\n",
       "  Ticket Number  Passenger Fare    Cabin Port of Embarkation Life Boat  \\\n",
       "0         24160        211.3375       B5         Southampton         2   \n",
       "1        113781        151.5500  C22 C26         Southampton        11   \n",
       "2        113781        151.5500  C22 C26         Southampton       NaN   \n",
       "\n",
       "  Survived  \n",
       "0      Yes  \n",
       "1      Yes  \n",
       "2       No  "
      ]
     },
     "execution_count": 58,
     "metadata": {},
     "output_type": "execute_result"
    }
   ],
   "source": [
    "df.head(3)"
   ]
  },
  {
   "cell_type": "code",
   "execution_count": 59,
   "metadata": {},
   "outputs": [
    {
     "data": {
      "image/png": "[encoded data removed]",
      "text/plain": [
       "<Figure size 1133.36x360 with 1 Axes>"
      ]
     },
     "metadata": {
      "needs_background": "light"
     },
     "output_type": "display_data"
    }
   ],
   "source": [
    "fig = sns.FacetGrid(df, hue='Survived', height=5, aspect=3)\n",
    "fig.map(sns.kdeplot, 'Passenger Fare', shade=True)\n",
    "fig.add_legend();"
   ]
  },
  {
   "cell_type": "code",
   "execution_count": 60,
   "metadata": {},
   "outputs": [
    {
     "data": {
      "image/png": "[encoded data removed]",
      "text/plain": [
       "<Figure size 360x360 with 1 Axes>"
      ]
     },
     "metadata": {
      "needs_background": "light"
     },
     "output_type": "display_data"
    }
   ],
   "source": [
    "sns.catplot(x ='Survived', y='Passenger Fare', data=df, kind='box');"
   ]
  },
  {
   "cell_type": "code",
   "execution_count": 61,
   "metadata": {},
   "outputs": [
    {
     "data": {
      "text/html": [
       "<div>\n",
       "<style scoped>\n",
       "    .dataframe tbody tr th:only-of-type {\n",
       "        vertical-align: middle;\n",
       "    }\n",
       "\n",
       "    .dataframe tbody tr th {\n",
       "        vertical-align: top;\n",
       "    }\n",
       "\n",
       "    .dataframe thead th {\n",
       "        text-align: right;\n",
       "    }\n",
       "</style>\n",
       "<table border=\"1\" class=\"dataframe\">\n",
       "  <thead>\n",
       "    <tr style=\"text-align: right;\">\n",
       "      <th></th>\n",
       "      <th>Passenger Class</th>\n",
       "      <th>Name</th>\n",
       "      <th>Sex</th>\n",
       "      <th>Age</th>\n",
       "      <th>No of Siblings or Spouses on Board</th>\n",
       "      <th>No of Parents or Children on Board</th>\n",
       "      <th>Ticket Number</th>\n",
       "      <th>Passenger Fare</th>\n",
       "      <th>Cabin</th>\n",
       "      <th>Port of Embarkation</th>\n",
       "      <th>Life Boat</th>\n",
       "      <th>Survived</th>\n",
       "    </tr>\n",
       "  </thead>\n",
       "  <tbody>\n",
       "    <tr>\n",
       "      <th>7</th>\n",
       "      <td>First</td>\n",
       "      <td>Andrews, Mr. Thomas Jr</td>\n",
       "      <td>Male</td>\n",
       "      <td>39.0</td>\n",
       "      <td>0</td>\n",
       "      <td>0</td>\n",
       "      <td>112050</td>\n",
       "      <td>0.0</td>\n",
       "      <td>A36</td>\n",
       "      <td>Southampton</td>\n",
       "      <td>NaN</td>\n",
       "      <td>No</td>\n",
       "    </tr>\n",
       "    <tr>\n",
       "      <th>70</th>\n",
       "      <td>First</td>\n",
       "      <td>Chisholm, Mr. Roderick Robert Crispin</td>\n",
       "      <td>Male</td>\n",
       "      <td>NaN</td>\n",
       "      <td>0</td>\n",
       "      <td>0</td>\n",
       "      <td>112051</td>\n",
       "      <td>0.0</td>\n",
       "      <td>NaN</td>\n",
       "      <td>Southampton</td>\n",
       "      <td>NaN</td>\n",
       "      <td>No</td>\n",
       "    </tr>\n",
       "    <tr>\n",
       "      <th>125</th>\n",
       "      <td>First</td>\n",
       "      <td>Fry, Mr. Richard</td>\n",
       "      <td>Male</td>\n",
       "      <td>NaN</td>\n",
       "      <td>0</td>\n",
       "      <td>0</td>\n",
       "      <td>112058</td>\n",
       "      <td>0.0</td>\n",
       "      <td>B102</td>\n",
       "      <td>Southampton</td>\n",
       "      <td>NaN</td>\n",
       "      <td>No</td>\n",
       "    </tr>\n",
       "    <tr>\n",
       "      <th>150</th>\n",
       "      <td>First</td>\n",
       "      <td>Harrison, Mr. William</td>\n",
       "      <td>Male</td>\n",
       "      <td>40.0</td>\n",
       "      <td>0</td>\n",
       "      <td>0</td>\n",
       "      <td>112059</td>\n",
       "      <td>0.0</td>\n",
       "      <td>B94</td>\n",
       "      <td>Southampton</td>\n",
       "      <td>NaN</td>\n",
       "      <td>No</td>\n",
       "    </tr>\n",
       "    <tr>\n",
       "      <th>170</th>\n",
       "      <td>First</td>\n",
       "      <td>Ismay, Mr. Joseph Bruce</td>\n",
       "      <td>Male</td>\n",
       "      <td>49.0</td>\n",
       "      <td>0</td>\n",
       "      <td>0</td>\n",
       "      <td>112058</td>\n",
       "      <td>0.0</td>\n",
       "      <td>B52 B54 B56</td>\n",
       "      <td>Southampton</td>\n",
       "      <td>C</td>\n",
       "      <td>Yes</td>\n",
       "    </tr>\n",
       "    <tr>\n",
       "      <th>223</th>\n",
       "      <td>First</td>\n",
       "      <td>Parr, Mr. William Henry Marsh</td>\n",
       "      <td>Male</td>\n",
       "      <td>NaN</td>\n",
       "      <td>0</td>\n",
       "      <td>0</td>\n",
       "      <td>112052</td>\n",
       "      <td>0.0</td>\n",
       "      <td>NaN</td>\n",
       "      <td>Southampton</td>\n",
       "      <td>NaN</td>\n",
       "      <td>No</td>\n",
       "    </tr>\n",
       "    <tr>\n",
       "      <th>234</th>\n",
       "      <td>First</td>\n",
       "      <td>Reuchlin, Jonkheer. John George</td>\n",
       "      <td>Male</td>\n",
       "      <td>38.0</td>\n",
       "      <td>0</td>\n",
       "      <td>0</td>\n",
       "      <td>19972</td>\n",
       "      <td>0.0</td>\n",
       "      <td>NaN</td>\n",
       "      <td>Southampton</td>\n",
       "      <td>NaN</td>\n",
       "      <td>No</td>\n",
       "    </tr>\n",
       "    <tr>\n",
       "      <th>363</th>\n",
       "      <td>Second</td>\n",
       "      <td>Campbell, Mr. William</td>\n",
       "      <td>Male</td>\n",
       "      <td>NaN</td>\n",
       "      <td>0</td>\n",
       "      <td>0</td>\n",
       "      <td>239853</td>\n",
       "      <td>0.0</td>\n",
       "      <td>NaN</td>\n",
       "      <td>Southampton</td>\n",
       "      <td>NaN</td>\n",
       "      <td>No</td>\n",
       "    </tr>\n",
       "    <tr>\n",
       "      <th>384</th>\n",
       "      <td>Second</td>\n",
       "      <td>Cunningham, Mr. Alfred Fleming</td>\n",
       "      <td>Male</td>\n",
       "      <td>NaN</td>\n",
       "      <td>0</td>\n",
       "      <td>0</td>\n",
       "      <td>239853</td>\n",
       "      <td>0.0</td>\n",
       "      <td>NaN</td>\n",
       "      <td>Southampton</td>\n",
       "      <td>NaN</td>\n",
       "      <td>No</td>\n",
       "    </tr>\n",
       "    <tr>\n",
       "      <th>410</th>\n",
       "      <td>Second</td>\n",
       "      <td>Frost, Mr. Anthony Wood 'Archie'</td>\n",
       "      <td>Male</td>\n",
       "      <td>NaN</td>\n",
       "      <td>0</td>\n",
       "      <td>0</td>\n",
       "      <td>239854</td>\n",
       "      <td>0.0</td>\n",
       "      <td>NaN</td>\n",
       "      <td>Southampton</td>\n",
       "      <td>NaN</td>\n",
       "      <td>No</td>\n",
       "    </tr>\n",
       "    <tr>\n",
       "      <th>473</th>\n",
       "      <td>Second</td>\n",
       "      <td>Knight, Mr. Robert J</td>\n",
       "      <td>Male</td>\n",
       "      <td>NaN</td>\n",
       "      <td>0</td>\n",
       "      <td>0</td>\n",
       "      <td>239855</td>\n",
       "      <td>0.0</td>\n",
       "      <td>NaN</td>\n",
       "      <td>Southampton</td>\n",
       "      <td>NaN</td>\n",
       "      <td>No</td>\n",
       "    </tr>\n",
       "    <tr>\n",
       "      <th>528</th>\n",
       "      <td>Second</td>\n",
       "      <td>Parkes, Mr. Francis 'Frank'</td>\n",
       "      <td>Male</td>\n",
       "      <td>NaN</td>\n",
       "      <td>0</td>\n",
       "      <td>0</td>\n",
       "      <td>239853</td>\n",
       "      <td>0.0</td>\n",
       "      <td>NaN</td>\n",
       "      <td>Southampton</td>\n",
       "      <td>NaN</td>\n",
       "      <td>No</td>\n",
       "    </tr>\n",
       "    <tr>\n",
       "      <th>581</th>\n",
       "      <td>Second</td>\n",
       "      <td>Watson, Mr. Ennis Hastings</td>\n",
       "      <td>Male</td>\n",
       "      <td>NaN</td>\n",
       "      <td>0</td>\n",
       "      <td>0</td>\n",
       "      <td>239856</td>\n",
       "      <td>0.0</td>\n",
       "      <td>NaN</td>\n",
       "      <td>Southampton</td>\n",
       "      <td>NaN</td>\n",
       "      <td>No</td>\n",
       "    </tr>\n",
       "    <tr>\n",
       "      <th>896</th>\n",
       "      <td>Third</td>\n",
       "      <td>Johnson, Mr. Alfred</td>\n",
       "      <td>Male</td>\n",
       "      <td>49.0</td>\n",
       "      <td>0</td>\n",
       "      <td>0</td>\n",
       "      <td>LINE</td>\n",
       "      <td>0.0</td>\n",
       "      <td>NaN</td>\n",
       "      <td>Southampton</td>\n",
       "      <td>NaN</td>\n",
       "      <td>No</td>\n",
       "    </tr>\n",
       "    <tr>\n",
       "      <th>898</th>\n",
       "      <td>Third</td>\n",
       "      <td>Johnson, Mr. William Cahoone Jr</td>\n",
       "      <td>Male</td>\n",
       "      <td>19.0</td>\n",
       "      <td>0</td>\n",
       "      <td>0</td>\n",
       "      <td>LINE</td>\n",
       "      <td>0.0</td>\n",
       "      <td>NaN</td>\n",
       "      <td>Southampton</td>\n",
       "      <td>NaN</td>\n",
       "      <td>No</td>\n",
       "    </tr>\n",
       "    <tr>\n",
       "      <th>963</th>\n",
       "      <td>Third</td>\n",
       "      <td>Leonard, Mr. Lionel</td>\n",
       "      <td>Male</td>\n",
       "      <td>36.0</td>\n",
       "      <td>0</td>\n",
       "      <td>0</td>\n",
       "      <td>LINE</td>\n",
       "      <td>0.0</td>\n",
       "      <td>NaN</td>\n",
       "      <td>Southampton</td>\n",
       "      <td>NaN</td>\n",
       "      <td>No</td>\n",
       "    </tr>\n",
       "    <tr>\n",
       "      <th>1254</th>\n",
       "      <td>Third</td>\n",
       "      <td>Tornquist, Mr. William Henry</td>\n",
       "      <td>Male</td>\n",
       "      <td>25.0</td>\n",
       "      <td>0</td>\n",
       "      <td>0</td>\n",
       "      <td>LINE</td>\n",
       "      <td>0.0</td>\n",
       "      <td>NaN</td>\n",
       "      <td>Southampton</td>\n",
       "      <td>15</td>\n",
       "      <td>Yes</td>\n",
       "    </tr>\n",
       "  </tbody>\n",
       "</table>\n",
       "</div>"
      ],
      "text/plain": [
       "     Passenger Class                                   Name   Sex   Age  \\\n",
       "7              First                 Andrews, Mr. Thomas Jr  Male  39.0   \n",
       "70             First  Chisholm, Mr. Roderick Robert Crispin  Male   NaN   \n",
       "125            First                       Fry, Mr. Richard  Male   NaN   \n",
       "150            First                  Harrison, Mr. William  Male  40.0   \n",
       "170            First                Ismay, Mr. Joseph Bruce  Male  49.0   \n",
       "223            First          Parr, Mr. William Henry Marsh  Male   NaN   \n",
       "234            First        Reuchlin, Jonkheer. John George  Male  38.0   \n",
       "363           Second                  Campbell, Mr. William  Male   NaN   \n",
       "384           Second         Cunningham, Mr. Alfred Fleming  Male   NaN   \n",
       "410           Second       Frost, Mr. Anthony Wood 'Archie'  Male   NaN   \n",
       "473           Second                   Knight, Mr. Robert J  Male   NaN   \n",
       "528           Second            Parkes, Mr. Francis 'Frank'  Male   NaN   \n",
       "581           Second             Watson, Mr. Ennis Hastings  Male   NaN   \n",
       "896            Third                    Johnson, Mr. Alfred  Male  49.0   \n",
       "898            Third        Johnson, Mr. William Cahoone Jr  Male  19.0   \n",
       "963            Third                    Leonard, Mr. Lionel  Male  36.0   \n",
       "1254           Third           Tornquist, Mr. William Henry  Male  25.0   \n",
       "\n",
       "      No of Siblings or Spouses on Board  No of Parents or Children on Board  \\\n",
       "7                                      0                                   0   \n",
       "70                                     0                                   0   \n",
       "125                                    0                                   0   \n",
       "150                                    0                                   0   \n",
       "170                                    0                                   0   \n",
       "223                                    0                                   0   \n",
       "234                                    0                                   0   \n",
       "363                                    0                                   0   \n",
       "384                                    0                                   0   \n",
       "410                                    0                                   0   \n",
       "473                                    0                                   0   \n",
       "528                                    0                                   0   \n",
       "581                                    0                                   0   \n",
       "896                                    0                                   0   \n",
       "898                                    0                                   0   \n",
       "963                                    0                                   0   \n",
       "1254                                   0                                   0   \n",
       "\n",
       "     Ticket Number  Passenger Fare        Cabin Port of Embarkation Life Boat  \\\n",
       "7           112050             0.0          A36         Southampton       NaN   \n",
       "70          112051             0.0          NaN         Southampton       NaN   \n",
       "125         112058             0.0         B102         Southampton       NaN   \n",
       "150         112059             0.0          B94         Southampton       NaN   \n",
       "170         112058             0.0  B52 B54 B56         Southampton         C   \n",
       "223         112052             0.0          NaN         Southampton       NaN   \n",
       "234          19972             0.0          NaN         Southampton       NaN   \n",
       "363         239853             0.0          NaN         Southampton       NaN   \n",
       "384         239853             0.0          NaN         Southampton       NaN   \n",
       "410         239854             0.0          NaN         Southampton       NaN   \n",
       "473         239855             0.0          NaN         Southampton       NaN   \n",
       "528         239853             0.0          NaN         Southampton       NaN   \n",
       "581         239856             0.0          NaN         Southampton       NaN   \n",
       "896           LINE             0.0          NaN         Southampton       NaN   \n",
       "898           LINE             0.0          NaN         Southampton       NaN   \n",
       "963           LINE             0.0          NaN         Southampton       NaN   \n",
       "1254          LINE             0.0          NaN         Southampton        15   \n",
       "\n",
       "     Survived  \n",
       "7          No  \n",
       "70         No  \n",
       "125        No  \n",
       "150        No  \n",
       "170       Yes  \n",
       "223        No  \n",
       "234        No  \n",
       "363        No  \n",
       "384        No  \n",
       "410        No  \n",
       "473        No  \n",
       "528        No  \n",
       "581        No  \n",
       "896        No  \n",
       "898        No  \n",
       "963        No  \n",
       "1254      Yes  "
      ]
     },
     "execution_count": 61,
     "metadata": {},
     "output_type": "execute_result"
    }
   ],
   "source": [
    "df[df['Passenger Fare'] == 0]"
   ]
  },
  {
   "cell_type": "code",
   "execution_count": 62,
   "metadata": {},
   "outputs": [
    {
     "data": {
      "text/plain": [
       "Survived\n",
       "No     10.5\n",
       "Yes    26.0\n",
       "Name: Passenger Fare, dtype: float64"
      ]
     },
     "execution_count": 62,
     "metadata": {},
     "output_type": "execute_result"
    }
   ],
   "source": [
    "df.groupby('Survived')['Passenger Fare'].median()"
   ]
  },
  {
   "cell_type": "code",
   "execution_count": null,
   "metadata": {},
   "outputs": [],
   "source": []
  },
  {
   "cell_type": "code",
   "execution_count": 63,
   "metadata": {},
   "outputs": [
    {
     "data": {
      "text/plain": [
       "Passenger Class                       1309\n",
       "Name                                  1309\n",
       "Sex                                   1309\n",
       "Age                                   1046\n",
       "No of Siblings or Spouses on Board    1309\n",
       "No of Parents or Children on Board    1309\n",
       "Ticket Number                         1309\n",
       "Passenger Fare                        1308\n",
       "Cabin                                  295\n",
       "Port of Embarkation                   1307\n",
       "Life Boat                              486\n",
       "Survived                              1309\n",
       "dtype: int64"
      ]
     },
     "execution_count": 63,
     "metadata": {},
     "output_type": "execute_result"
    }
   ],
   "source": [
    "df.count()"
   ]
  },
  {
   "cell_type": "code",
   "execution_count": 64,
   "metadata": {},
   "outputs": [
    {
     "data": {
      "text/plain": [
       "Yes    477\n",
       "No       9\n",
       "Name: Survived, dtype: int64"
      ]
     },
     "execution_count": 64,
     "metadata": {},
     "output_type": "execute_result"
    }
   ],
   "source": [
    "df.dropna(subset=['Life Boat']).Survived.value_counts()"
   ]
  },
  {
   "cell_type": "code",
   "execution_count": 65,
   "metadata": {},
   "outputs": [
    {
     "data": {
      "text/plain": [
       "No     800\n",
       "Yes     23\n",
       "Name: Survived, dtype: int64"
      ]
     },
     "execution_count": 65,
     "metadata": {},
     "output_type": "execute_result"
    }
   ],
   "source": [
    "df[df['Life Boat'].isna()]['Survived'].value_counts()"
   ]
  },
  {
   "cell_type": "code",
   "execution_count": 66,
   "metadata": {},
   "outputs": [
    {
     "data": {
      "text/plain": [
       "0.027946537059538274"
      ]
     },
     "execution_count": 66,
     "metadata": {},
     "output_type": "execute_result"
    }
   ],
   "source": [
    "23 / 823"
   ]
  },
  {
   "cell_type": "code",
   "execution_count": 67,
   "metadata": {},
   "outputs": [
    {
     "data": {
      "text/html": [
       "<div>\n",
       "<style scoped>\n",
       "    .dataframe tbody tr th:only-of-type {\n",
       "        vertical-align: middle;\n",
       "    }\n",
       "\n",
       "    .dataframe tbody tr th {\n",
       "        vertical-align: top;\n",
       "    }\n",
       "\n",
       "    .dataframe thead th {\n",
       "        text-align: right;\n",
       "    }\n",
       "</style>\n",
       "<table border=\"1\" class=\"dataframe\">\n",
       "  <thead>\n",
       "    <tr style=\"text-align: right;\">\n",
       "      <th></th>\n",
       "      <th>Passenger Class</th>\n",
       "      <th>Name</th>\n",
       "      <th>Sex</th>\n",
       "      <th>Age</th>\n",
       "      <th>No of Siblings or Spouses on Board</th>\n",
       "      <th>No of Parents or Children on Board</th>\n",
       "      <th>Ticket Number</th>\n",
       "      <th>Passenger Fare</th>\n",
       "      <th>Cabin</th>\n",
       "      <th>Port of Embarkation</th>\n",
       "      <th>Life Boat</th>\n",
       "      <th>Survived</th>\n",
       "    </tr>\n",
       "  </thead>\n",
       "  <tbody>\n",
       "    <tr>\n",
       "      <th>0</th>\n",
       "      <td>First</td>\n",
       "      <td>Allen, Miss. Elisabeth Walton</td>\n",
       "      <td>Female</td>\n",
       "      <td>29.0000</td>\n",
       "      <td>0</td>\n",
       "      <td>0</td>\n",
       "      <td>24160</td>\n",
       "      <td>211.3375</td>\n",
       "      <td>B5</td>\n",
       "      <td>Southampton</td>\n",
       "      <td>2</td>\n",
       "      <td>Yes</td>\n",
       "    </tr>\n",
       "    <tr>\n",
       "      <th>1</th>\n",
       "      <td>First</td>\n",
       "      <td>Allison, Master. Hudson Trevor</td>\n",
       "      <td>Male</td>\n",
       "      <td>0.9167</td>\n",
       "      <td>1</td>\n",
       "      <td>2</td>\n",
       "      <td>113781</td>\n",
       "      <td>151.5500</td>\n",
       "      <td>C22 C26</td>\n",
       "      <td>Southampton</td>\n",
       "      <td>11</td>\n",
       "      <td>Yes</td>\n",
       "    </tr>\n",
       "    <tr>\n",
       "      <th>2</th>\n",
       "      <td>First</td>\n",
       "      <td>Allison, Miss. Helen Loraine</td>\n",
       "      <td>Female</td>\n",
       "      <td>2.0000</td>\n",
       "      <td>1</td>\n",
       "      <td>2</td>\n",
       "      <td>113781</td>\n",
       "      <td>151.5500</td>\n",
       "      <td>C22 C26</td>\n",
       "      <td>Southampton</td>\n",
       "      <td>NaN</td>\n",
       "      <td>No</td>\n",
       "    </tr>\n",
       "  </tbody>\n",
       "</table>\n",
       "</div>"
      ],
      "text/plain": [
       "  Passenger Class                            Name     Sex      Age  \\\n",
       "0           First   Allen, Miss. Elisabeth Walton  Female  29.0000   \n",
       "1           First  Allison, Master. Hudson Trevor    Male   0.9167   \n",
       "2           First    Allison, Miss. Helen Loraine  Female   2.0000   \n",
       "\n",
       "   No of Siblings or Spouses on Board  No of Parents or Children on Board  \\\n",
       "0                                   0                                   0   \n",
       "1                                   1                                   2   \n",
       "2                                   1                                   2   \n",
       "\n",
       "  Ticket Number  Passenger Fare    Cabin Port of Embarkation Life Boat  \\\n",
       "0         24160        211.3375       B5         Southampton         2   \n",
       "1        113781        151.5500  C22 C26         Southampton        11   \n",
       "2        113781        151.5500  C22 C26         Southampton       NaN   \n",
       "\n",
       "  Survived  \n",
       "0      Yes  \n",
       "1      Yes  \n",
       "2       No  "
      ]
     },
     "execution_count": 67,
     "metadata": {},
     "output_type": "execute_result"
    }
   ],
   "source": [
    "df.head(3)"
   ]
  },
  {
   "cell_type": "code",
   "execution_count": 68,
   "metadata": {},
   "outputs": [
    {
     "data": {
      "text/plain": [
       "Passenger Class                       1309\n",
       "Name                                  1309\n",
       "Sex                                   1309\n",
       "Age                                   1046\n",
       "No of Siblings or Spouses on Board    1309\n",
       "No of Parents or Children on Board    1309\n",
       "Ticket Number                         1309\n",
       "Passenger Fare                        1308\n",
       "Cabin                                  295\n",
       "Port of Embarkation                   1307\n",
       "Life Boat                              486\n",
       "Survived                              1309\n",
       "dtype: int64"
      ]
     },
     "execution_count": 68,
     "metadata": {},
     "output_type": "execute_result"
    }
   ],
   "source": [
    "df.count()"
   ]
  },
  {
   "cell_type": "code",
   "execution_count": 69,
   "metadata": {},
   "outputs": [],
   "source": [
    "cat_columns = ['Passenger Class', 'Sex', 'Port of Embarkation']\n",
    "\n",
    "\n",
    "dummy_columns = pd.get_dummies(df[cat_columns])"
   ]
  },
  {
   "cell_type": "code",
   "execution_count": 70,
   "metadata": {},
   "outputs": [
    {
     "data": {
      "text/html": [
       "<div>\n",
       "<style scoped>\n",
       "    .dataframe tbody tr th:only-of-type {\n",
       "        vertical-align: middle;\n",
       "    }\n",
       "\n",
       "    .dataframe tbody tr th {\n",
       "        vertical-align: top;\n",
       "    }\n",
       "\n",
       "    .dataframe thead th {\n",
       "        text-align: right;\n",
       "    }\n",
       "</style>\n",
       "<table border=\"1\" class=\"dataframe\">\n",
       "  <thead>\n",
       "    <tr style=\"text-align: right;\">\n",
       "      <th></th>\n",
       "      <th>Passenger Class</th>\n",
       "      <th>Sex</th>\n",
       "      <th>Port of Embarkation</th>\n",
       "    </tr>\n",
       "  </thead>\n",
       "  <tbody>\n",
       "    <tr>\n",
       "      <th>0</th>\n",
       "      <td>First</td>\n",
       "      <td>Female</td>\n",
       "      <td>Southampton</td>\n",
       "    </tr>\n",
       "    <tr>\n",
       "      <th>1</th>\n",
       "      <td>First</td>\n",
       "      <td>Male</td>\n",
       "      <td>Southampton</td>\n",
       "    </tr>\n",
       "    <tr>\n",
       "      <th>2</th>\n",
       "      <td>First</td>\n",
       "      <td>Female</td>\n",
       "      <td>Southampton</td>\n",
       "    </tr>\n",
       "    <tr>\n",
       "      <th>3</th>\n",
       "      <td>First</td>\n",
       "      <td>Male</td>\n",
       "      <td>Southampton</td>\n",
       "    </tr>\n",
       "    <tr>\n",
       "      <th>4</th>\n",
       "      <td>First</td>\n",
       "      <td>Female</td>\n",
       "      <td>Southampton</td>\n",
       "    </tr>\n",
       "    <tr>\n",
       "      <th>...</th>\n",
       "      <td>...</td>\n",
       "      <td>...</td>\n",
       "      <td>...</td>\n",
       "    </tr>\n",
       "    <tr>\n",
       "      <th>1304</th>\n",
       "      <td>Third</td>\n",
       "      <td>Female</td>\n",
       "      <td>Cherbourg</td>\n",
       "    </tr>\n",
       "    <tr>\n",
       "      <th>1305</th>\n",
       "      <td>Third</td>\n",
       "      <td>Female</td>\n",
       "      <td>Cherbourg</td>\n",
       "    </tr>\n",
       "    <tr>\n",
       "      <th>1306</th>\n",
       "      <td>Third</td>\n",
       "      <td>Male</td>\n",
       "      <td>Cherbourg</td>\n",
       "    </tr>\n",
       "    <tr>\n",
       "      <th>1307</th>\n",
       "      <td>Third</td>\n",
       "      <td>Male</td>\n",
       "      <td>Cherbourg</td>\n",
       "    </tr>\n",
       "    <tr>\n",
       "      <th>1308</th>\n",
       "      <td>Third</td>\n",
       "      <td>Male</td>\n",
       "      <td>Southampton</td>\n",
       "    </tr>\n",
       "  </tbody>\n",
       "</table>\n",
       "<p>1309 rows × 3 columns</p>\n",
       "</div>"
      ],
      "text/plain": [
       "     Passenger Class     Sex Port of Embarkation\n",
       "0              First  Female         Southampton\n",
       "1              First    Male         Southampton\n",
       "2              First  Female         Southampton\n",
       "3              First    Male         Southampton\n",
       "4              First  Female         Southampton\n",
       "...              ...     ...                 ...\n",
       "1304           Third  Female           Cherbourg\n",
       "1305           Third  Female           Cherbourg\n",
       "1306           Third    Male           Cherbourg\n",
       "1307           Third    Male           Cherbourg\n",
       "1308           Third    Male         Southampton\n",
       "\n",
       "[1309 rows x 3 columns]"
      ]
     },
     "execution_count": 70,
     "metadata": {},
     "output_type": "execute_result"
    }
   ],
   "source": [
    "df[cat_columns]"
   ]
  },
  {
   "cell_type": "code",
   "execution_count": 71,
   "metadata": {},
   "outputs": [
    {
     "data": {
      "text/html": [
       "<div>\n",
       "<style scoped>\n",
       "    .dataframe tbody tr th:only-of-type {\n",
       "        vertical-align: middle;\n",
       "    }\n",
       "\n",
       "    .dataframe tbody tr th {\n",
       "        vertical-align: top;\n",
       "    }\n",
       "\n",
       "    .dataframe thead th {\n",
       "        text-align: right;\n",
       "    }\n",
       "</style>\n",
       "<table border=\"1\" class=\"dataframe\">\n",
       "  <thead>\n",
       "    <tr style=\"text-align: right;\">\n",
       "      <th></th>\n",
       "      <th>Passenger Class_First</th>\n",
       "      <th>Passenger Class_Second</th>\n",
       "      <th>Passenger Class_Third</th>\n",
       "      <th>Sex_Female</th>\n",
       "      <th>Sex_Male</th>\n",
       "      <th>Port of Embarkation_Cherbourg</th>\n",
       "      <th>Port of Embarkation_Queenstown</th>\n",
       "      <th>Port of Embarkation_Southampton</th>\n",
       "    </tr>\n",
       "  </thead>\n",
       "  <tbody>\n",
       "    <tr>\n",
       "      <th>0</th>\n",
       "      <td>1</td>\n",
       "      <td>0</td>\n",
       "      <td>0</td>\n",
       "      <td>1</td>\n",
       "      <td>0</td>\n",
       "      <td>0</td>\n",
       "      <td>0</td>\n",
       "      <td>1</td>\n",
       "    </tr>\n",
       "    <tr>\n",
       "      <th>1</th>\n",
       "      <td>1</td>\n",
       "      <td>0</td>\n",
       "      <td>0</td>\n",
       "      <td>0</td>\n",
       "      <td>1</td>\n",
       "      <td>0</td>\n",
       "      <td>0</td>\n",
       "      <td>1</td>\n",
       "    </tr>\n",
       "    <tr>\n",
       "      <th>2</th>\n",
       "      <td>1</td>\n",
       "      <td>0</td>\n",
       "      <td>0</td>\n",
       "      <td>1</td>\n",
       "      <td>0</td>\n",
       "      <td>0</td>\n",
       "      <td>0</td>\n",
       "      <td>1</td>\n",
       "    </tr>\n",
       "  </tbody>\n",
       "</table>\n",
       "</div>"
      ],
      "text/plain": [
       "   Passenger Class_First  Passenger Class_Second  Passenger Class_Third  \\\n",
       "0                      1                       0                      0   \n",
       "1                      1                       0                      0   \n",
       "2                      1                       0                      0   \n",
       "\n",
       "   Sex_Female  Sex_Male  Port of Embarkation_Cherbourg  \\\n",
       "0           1         0                              0   \n",
       "1           0         1                              0   \n",
       "2           1         0                              0   \n",
       "\n",
       "   Port of Embarkation_Queenstown  Port of Embarkation_Southampton  \n",
       "0                               0                                1  \n",
       "1                               0                                1  \n",
       "2                               0                                1  "
      ]
     },
     "execution_count": 71,
     "metadata": {},
     "output_type": "execute_result"
    }
   ],
   "source": [
    "dummy_columns.head(3)"
   ]
  },
  {
   "cell_type": "code",
   "execution_count": 72,
   "metadata": {},
   "outputs": [
    {
     "data": {
      "text/plain": [
       "Passenger Class                        object\n",
       "Name                                   object\n",
       "Sex                                    object\n",
       "Age                                   float64\n",
       "No of Siblings or Spouses on Board      int64\n",
       "No of Parents or Children on Board      int64\n",
       "Ticket Number                          object\n",
       "Passenger Fare                        float64\n",
       "Cabin                                  object\n",
       "Port of Embarkation                    object\n",
       "Life Boat                              object\n",
       "Survived                               object\n",
       "dtype: object"
      ]
     },
     "execution_count": 72,
     "metadata": {},
     "output_type": "execute_result"
    }
   ],
   "source": [
    "df.dtypes"
   ]
  },
  {
   "cell_type": "code",
   "execution_count": 73,
   "metadata": {},
   "outputs": [
    {
     "data": {
      "text/plain": [
       "['Age',\n",
       " 'No of Siblings or Spouses on Board',\n",
       " 'No of Parents or Children on Board',\n",
       " 'Passenger Fare']"
      ]
     },
     "execution_count": 73,
     "metadata": {},
     "output_type": "execute_result"
    }
   ],
   "source": [
    "num_columns"
   ]
  },
  {
   "cell_type": "code",
   "execution_count": 74,
   "metadata": {},
   "outputs": [],
   "source": [
    "data = pd.concat((df[num_columns], dummy_columns), axis=1)"
   ]
  },
  {
   "cell_type": "code",
   "execution_count": 75,
   "metadata": {},
   "outputs": [
    {
     "data": {
      "text/html": [
       "<div>\n",
       "<style scoped>\n",
       "    .dataframe tbody tr th:only-of-type {\n",
       "        vertical-align: middle;\n",
       "    }\n",
       "\n",
       "    .dataframe tbody tr th {\n",
       "        vertical-align: top;\n",
       "    }\n",
       "\n",
       "    .dataframe thead th {\n",
       "        text-align: right;\n",
       "    }\n",
       "</style>\n",
       "<table border=\"1\" class=\"dataframe\">\n",
       "  <thead>\n",
       "    <tr style=\"text-align: right;\">\n",
       "      <th></th>\n",
       "      <th>Age</th>\n",
       "      <th>No of Siblings or Spouses on Board</th>\n",
       "      <th>No of Parents or Children on Board</th>\n",
       "      <th>Passenger Fare</th>\n",
       "      <th>Passenger Class_First</th>\n",
       "      <th>Passenger Class_Second</th>\n",
       "      <th>Passenger Class_Third</th>\n",
       "      <th>Sex_Female</th>\n",
       "      <th>Sex_Male</th>\n",
       "      <th>Port of Embarkation_Cherbourg</th>\n",
       "      <th>Port of Embarkation_Queenstown</th>\n",
       "      <th>Port of Embarkation_Southampton</th>\n",
       "    </tr>\n",
       "  </thead>\n",
       "  <tbody>\n",
       "    <tr>\n",
       "      <th>0</th>\n",
       "      <td>29.0000</td>\n",
       "      <td>0</td>\n",
       "      <td>0</td>\n",
       "      <td>211.3375</td>\n",
       "      <td>1</td>\n",
       "      <td>0</td>\n",
       "      <td>0</td>\n",
       "      <td>1</td>\n",
       "      <td>0</td>\n",
       "      <td>0</td>\n",
       "      <td>0</td>\n",
       "      <td>1</td>\n",
       "    </tr>\n",
       "    <tr>\n",
       "      <th>1</th>\n",
       "      <td>0.9167</td>\n",
       "      <td>1</td>\n",
       "      <td>2</td>\n",
       "      <td>151.5500</td>\n",
       "      <td>1</td>\n",
       "      <td>0</td>\n",
       "      <td>0</td>\n",
       "      <td>0</td>\n",
       "      <td>1</td>\n",
       "      <td>0</td>\n",
       "      <td>0</td>\n",
       "      <td>1</td>\n",
       "    </tr>\n",
       "    <tr>\n",
       "      <th>2</th>\n",
       "      <td>2.0000</td>\n",
       "      <td>1</td>\n",
       "      <td>2</td>\n",
       "      <td>151.5500</td>\n",
       "      <td>1</td>\n",
       "      <td>0</td>\n",
       "      <td>0</td>\n",
       "      <td>1</td>\n",
       "      <td>0</td>\n",
       "      <td>0</td>\n",
       "      <td>0</td>\n",
       "      <td>1</td>\n",
       "    </tr>\n",
       "  </tbody>\n",
       "</table>\n",
       "</div>"
      ],
      "text/plain": [
       "       Age  No of Siblings or Spouses on Board  \\\n",
       "0  29.0000                                   0   \n",
       "1   0.9167                                   1   \n",
       "2   2.0000                                   1   \n",
       "\n",
       "   No of Parents or Children on Board  Passenger Fare  Passenger Class_First  \\\n",
       "0                                   0        211.3375                      1   \n",
       "1                                   2        151.5500                      1   \n",
       "2                                   2        151.5500                      1   \n",
       "\n",
       "   Passenger Class_Second  Passenger Class_Third  Sex_Female  Sex_Male  \\\n",
       "0                       0                      0           1         0   \n",
       "1                       0                      0           0         1   \n",
       "2                       0                      0           1         0   \n",
       "\n",
       "   Port of Embarkation_Cherbourg  Port of Embarkation_Queenstown  \\\n",
       "0                              0                               0   \n",
       "1                              0                               0   \n",
       "2                              0                               0   \n",
       "\n",
       "   Port of Embarkation_Southampton  \n",
       "0                                1  \n",
       "1                                1  \n",
       "2                                1  "
      ]
     },
     "execution_count": 75,
     "metadata": {},
     "output_type": "execute_result"
    }
   ],
   "source": [
    "data.head(3)"
   ]
  },
  {
   "cell_type": "code",
   "execution_count": 76,
   "metadata": {},
   "outputs": [
    {
     "data": {
      "text/plain": [
       "(1309, 12)"
      ]
     },
     "execution_count": 76,
     "metadata": {},
     "output_type": "execute_result"
    }
   ],
   "source": [
    "df.shape"
   ]
  },
  {
   "cell_type": "code",
   "execution_count": 77,
   "metadata": {},
   "outputs": [
    {
     "data": {
      "text/plain": [
       "(1309, 12)"
      ]
     },
     "execution_count": 77,
     "metadata": {},
     "output_type": "execute_result"
    }
   ],
   "source": [
    "data.shape"
   ]
  },
  {
   "cell_type": "markdown",
   "metadata": {},
   "source": [
    "# Build a new model"
   ]
  },
  {
   "cell_type": "code",
   "execution_count": 78,
   "metadata": {},
   "outputs": [],
   "source": [
    "X_train, X_test, y_train, y_test = train_test_split(data, df['Survived'], train_size=0.66, random_state=5)"
   ]
  },
  {
   "cell_type": "code",
   "execution_count": 79,
   "metadata": {},
   "outputs": [
    {
     "data": {
      "text/plain": [
       "Age                                   696\n",
       "No of Siblings or Spouses on Board    863\n",
       "No of Parents or Children on Board    863\n",
       "Passenger Fare                        863\n",
       "Passenger Class_First                 863\n",
       "Passenger Class_Second                863\n",
       "Passenger Class_Third                 863\n",
       "Sex_Female                            863\n",
       "Sex_Male                              863\n",
       "Port of Embarkation_Cherbourg         863\n",
       "Port of Embarkation_Queenstown        863\n",
       "Port of Embarkation_Southampton       863\n",
       "dtype: int64"
      ]
     },
     "execution_count": 79,
     "metadata": {},
     "output_type": "execute_result"
    }
   ],
   "source": [
    "X_train.count()"
   ]
  },
  {
   "cell_type": "code",
   "execution_count": 80,
   "metadata": {},
   "outputs": [
    {
     "data": {
      "text/plain": [
       "Age                                   350\n",
       "No of Siblings or Spouses on Board    446\n",
       "No of Parents or Children on Board    446\n",
       "Passenger Fare                        445\n",
       "Passenger Class_First                 446\n",
       "Passenger Class_Second                446\n",
       "Passenger Class_Third                 446\n",
       "Sex_Female                            446\n",
       "Sex_Male                              446\n",
       "Port of Embarkation_Cherbourg         446\n",
       "Port of Embarkation_Queenstown        446\n",
       "Port of Embarkation_Southampton       446\n",
       "dtype: int64"
      ]
     },
     "execution_count": 80,
     "metadata": {},
     "output_type": "execute_result"
    }
   ],
   "source": [
    "X_test.count()"
   ]
  },
  {
   "cell_type": "code",
   "execution_count": 81,
   "metadata": {},
   "outputs": [
    {
     "name": "stderr",
     "output_type": "stream",
     "text": [
      "/home/anvar/miniconda3/lib/python3.7/site-packages/ipykernel_launcher.py:3: SettingWithCopyWarning: \n",
      "A value is trying to be set on a copy of a slice from a DataFrame.\n",
      "Try using .loc[row_indexer,col_indexer] = value instead\n",
      "\n",
      "See the caveats in the documentation: https://pandas.pydata.org/pandas-docs/stable/user_guide/indexing.html#returning-a-view-versus-a-copy\n",
      "  This is separate from the ipykernel package so we can avoid doing imports until\n",
      "/home/anvar/miniconda3/lib/python3.7/site-packages/ipykernel_launcher.py:7: SettingWithCopyWarning: \n",
      "A value is trying to be set on a copy of a slice from a DataFrame.\n",
      "Try using .loc[row_indexer,col_indexer] = value instead\n",
      "\n",
      "See the caveats in the documentation: https://pandas.pydata.org/pandas-docs/stable/user_guide/indexing.html#returning-a-view-versus-a-copy\n",
      "  import sys\n",
      "/home/anvar/miniconda3/lib/python3.7/site-packages/ipykernel_launcher.py:9: SettingWithCopyWarning: \n",
      "A value is trying to be set on a copy of a slice from a DataFrame.\n",
      "Try using .loc[row_indexer,col_indexer] = value instead\n",
      "\n",
      "See the caveats in the documentation: https://pandas.pydata.org/pandas-docs/stable/user_guide/indexing.html#returning-a-view-versus-a-copy\n",
      "  if __name__ == '__main__':\n",
      "/home/anvar/miniconda3/lib/python3.7/site-packages/ipykernel_launcher.py:10: SettingWithCopyWarning: \n",
      "A value is trying to be set on a copy of a slice from a DataFrame.\n",
      "Try using .loc[row_indexer,col_indexer] = value instead\n",
      "\n",
      "See the caveats in the documentation: https://pandas.pydata.org/pandas-docs/stable/user_guide/indexing.html#returning-a-view-versus-a-copy\n",
      "  # Remove the CWD from sys.path while we load stuff.\n"
     ]
    }
   ],
   "source": [
    "mean_age = X_train['Age'].mean()\n",
    "\n",
    "X_train['Age'] = X_train['Age'].fillna(value=mean_age)\n",
    "\n",
    "mean_fare = X_train['Passenger Fare'].mean()\n",
    "\n",
    "X_train['Passenger Fare'] = X_train['Passenger Fare'].fillna(value=mean_fare)\n",
    "\n",
    "X_test['Age'] = X_test['Age'].fillna(value=mean_age)\n",
    "X_test['Passenger Fare'] = X_test['Passenger Fare'].fillna(value=mean_fare)"
   ]
  },
  {
   "cell_type": "code",
   "execution_count": 82,
   "metadata": {},
   "outputs": [],
   "source": [
    "clf_new = DecisionTreeClassifier(max_depth=5)"
   ]
  },
  {
   "cell_type": "code",
   "execution_count": 83,
   "metadata": {},
   "outputs": [
    {
     "data": {
      "text/plain": [
       "DecisionTreeClassifier(ccp_alpha=0.0, class_weight=None, criterion='gini',\n",
       "                       max_depth=5, max_features=None, max_leaf_nodes=None,\n",
       "                       min_impurity_decrease=0.0, min_impurity_split=None,\n",
       "                       min_samples_leaf=1, min_samples_split=2,\n",
       "                       min_weight_fraction_leaf=0.0, presort='deprecated',\n",
       "                       random_state=None, splitter='best')"
      ]
     },
     "execution_count": 83,
     "metadata": {},
     "output_type": "execute_result"
    }
   ],
   "source": [
    "clf_new.fit(X_train, y_train)"
   ]
  },
  {
   "cell_type": "code",
   "execution_count": 84,
   "metadata": {},
   "outputs": [],
   "source": [
    "y_pred = clf_new.predict(X_test)"
   ]
  },
  {
   "cell_type": "code",
   "execution_count": 85,
   "metadata": {},
   "outputs": [
    {
     "data": {
      "text/plain": [
       "0.7668161434977578"
      ]
     },
     "execution_count": 85,
     "metadata": {},
     "output_type": "execute_result"
    }
   ],
   "source": [
    "accuracy_score(y_test, y_pred)"
   ]
  },
  {
   "cell_type": "code",
   "execution_count": 86,
   "metadata": {},
   "outputs": [
    {
     "data": {
      "text/plain": [
       "0.14925373134328357"
      ]
     },
     "execution_count": 86,
     "metadata": {},
     "output_type": "execute_result"
    }
   ],
   "source": [
    "(77 - 67)/67"
   ]
  },
  {
   "cell_type": "code",
   "execution_count": 87,
   "metadata": {},
   "outputs": [
    {
     "data": {
      "text/plain": [
       "0.24193548387096775"
      ]
     },
     "execution_count": 87,
     "metadata": {},
     "output_type": "execute_result"
    }
   ],
   "source": [
    "(77-62)/62"
   ]
  },
  {
   "cell_type": "code",
   "execution_count": 93,
   "metadata": {},
   "outputs": [
    {
     "data": {
      "text/plain": [
       "Age                                   26.0\n",
       "No of Siblings or Spouses on Board     0.0\n",
       "No of Parents or Children on Board     0.0\n",
       "Passenger Fare                        13.0\n",
       "Passenger Class_First                  0.0\n",
       "Passenger Class_Second                 1.0\n",
       "Passenger Class_Third                  0.0\n",
       "Sex_Female                             0.0\n",
       "Sex_Male                               1.0\n",
       "Port of Embarkation_Cherbourg          0.0\n",
       "Port of Embarkation_Queenstown         0.0\n",
       "Port of Embarkation_Southampton        1.0\n",
       "Name: 517, dtype: float64"
      ]
     },
     "execution_count": 93,
     "metadata": {},
     "output_type": "execute_result"
    }
   ],
   "source": [
    "X_test.iloc[0]"
   ]
  },
  {
   "cell_type": "code",
   "execution_count": 96,
   "metadata": {},
   "outputs": [
    {
     "data": {
      "text/plain": [
       "DecisionTreeClassifier(ccp_alpha=0.0, class_weight=None, criterion='gini',\n",
       "                       max_depth=5, max_features=None, max_leaf_nodes=None,\n",
       "                       min_impurity_decrease=0.0, min_impurity_split=None,\n",
       "                       min_samples_leaf=1, min_samples_split=2,\n",
       "                       min_weight_fraction_leaf=0.0, presort='deprecated',\n",
       "                       random_state=None, splitter='best')"
      ]
     },
     "execution_count": 96,
     "metadata": {},
     "output_type": "execute_result"
    }
   ],
   "source": [
    "clf_new"
   ]
  },
  {
   "cell_type": "code",
   "execution_count": null,
   "metadata": {},
   "outputs": [],
   "source": []
  },
  {
   "cell_type": "code",
   "execution_count": null,
   "metadata": {},
   "outputs": [],
   "source": [
    "162 cm, 61kg - female\n",
    "160 cm, 59kg - female\n",
    "163 cm, 61kg - female\n",
    "161 cm, 58.5kg - female\n",
    "165 cm, 60kg - female\n",
    "165 cm, 60kg - male\n",
    "168 cm, 65kg - male\n",
    "171 cm, 70kg - male\n",
    "169 cm, 65kg - male\n",
    "\n",
    "\n",
    "167 cm, 66kg -> male?female probably male = 50%? 67%? 72%?\n",
    "158 cm, 57kg -> male?female probably female = "
   ]
  },
  {
   "cell_type": "code",
   "execution_count": null,
   "metadata": {},
   "outputs": [],
   "source": []
  },
  {
   "cell_type": "code",
   "execution_count": null,
   "metadata": {},
   "outputs": [],
   "source": []
  }
 ],
 "metadata": {
  "kernelspec": {
   "display_name": "Python 3",
   "language": "python",
   "name": "python3"
  },
  "language_info": {
   "codemirror_mode": {
    "name": "ipython",
    "version": 3
   },
   "file_extension": ".py",
   "mimetype": "text/x-python",
   "name": "python",
   "nbconvert_exporter": "python",
   "pygments_lexer": "ipython3",
   "version": "3.7.6"
  }
 },
 "nbformat": 4,
 "nbformat_minor": 4
}
