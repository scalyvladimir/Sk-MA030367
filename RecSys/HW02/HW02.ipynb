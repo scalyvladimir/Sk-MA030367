{
 "cells": [
  {
   "cell_type": "markdown",
   "metadata": {},
   "source": [
    "Context-aware Recommender System for hotel recommendatons (100 pts).\n",
    "---"
   ]
  },
  {
   "cell_type": "markdown",
   "metadata": {},
   "source": [
    "---\n",
    "\n",
    "You are provided with historical records of users staying in different hotels across various cities in the US.\n",
    "- Given a user's current city, your task is to provide the user with personalized recommendations on which hotel to stay in.\n",
    "- You will use a context-aware tensor factorization model for this task.\n",
    "- The main assupmtion that we'll rely on is that there're commonalities in how users choose hotels, i.e.\n",
    "  - if two users stayed in the same hotels in several cities, they'll likely prefer the same hotels in other cities as well.\n",
    "  - Hence, the context-aware CF model must perform better than simple baselines like random or popularity-based recommendations.\n",
    "\n",
    "You will need to complete some lines of code and answer some questions:\n",
    "- You'll be explicitly asked to do so where necessary.\n",
    "  - You can also find such places by using notebook search and searching for `pts` keyword.\n",
    "- Completion of each task will be worth of a predefined amount of points.\n",
    "- The maximum number of points for completing all tasks in this assigment is 100.\n",
    "- Make sure not to miss questions and tasks.\n",
    "\n",
    "---\n"
   ]
  },
  {
   "cell_type": "code",
   "execution_count": 3,
   "metadata": {},
   "outputs": [],
   "source": [
    "import numpy as np\n",
    "import pandas as pd\n",
    "from scipy.sparse import csr_matrix\n",
    "from scipy.sparse.linalg import svds\n",
    "\n",
    "from polara.lib.tensor import hooi\n",
    "from polara.lib.hosvd import tucker_als\n",
    "from polara.preprocessing.dataframes import reindex\n",
    "from ipypb import track\n",
    "\n",
    "from dataprep import to_numeric_id\n",
    "from evaluation import model_evaluate, topidx"
   ]
  },
  {
   "cell_type": "markdown",
   "metadata": {},
   "source": [
    "# Preparing Data"
   ]
  },
  {
   "cell_type": "markdown",
   "metadata": {},
   "source": [
    "- Data preparation section doesn't contain tasks for you to complete.\n",
    "- However, understanding the overal process of data preparation is crucial for successful completion of the coding assignments. "
   ]
  },
  {
   "cell_type": "code",
   "execution_count": 4,
   "metadata": {},
   "outputs": [],
   "source": [
    "data_url ='https://raw.githubusercontent.com/vysotskylev/tenscomp21/main/data/Data_TripAdvisor_v1.csv'\n",
    "raw_data = pd.read_csv(data_url)"
   ]
  },
  {
   "cell_type": "code",
   "execution_count": 5,
   "metadata": {},
   "outputs": [
    {
     "data": {
      "text/html": [
       "<div>\n",
       "<style scoped>\n",
       "    .dataframe tbody tr th:only-of-type {\n",
       "        vertical-align: middle;\n",
       "    }\n",
       "\n",
       "    .dataframe tbody tr th {\n",
       "        vertical-align: top;\n",
       "    }\n",
       "\n",
       "    .dataframe thead th {\n",
       "        text-align: right;\n",
       "    }\n",
       "</style>\n",
       "<table border=\"1\" class=\"dataframe\">\n",
       "  <thead>\n",
       "    <tr style=\"text-align: right;\">\n",
       "      <th></th>\n",
       "      <th>ID_USER</th>\n",
       "      <th>USER_STATE</th>\n",
       "      <th>USER_TIMEZONE</th>\n",
       "      <th>ID_HOTEL</th>\n",
       "      <th>HOTEL_CITY</th>\n",
       "      <th>HOTEL_STATE</th>\n",
       "      <th>HOTEL_TIMEZONE</th>\n",
       "      <th>Trip Type</th>\n",
       "      <th>Rating</th>\n",
       "    </tr>\n",
       "  </thead>\n",
       "  <tbody>\n",
       "    <tr>\n",
       "      <th>0</th>\n",
       "      <td>45</td>\n",
       "      <td>GA</td>\n",
       "      <td>Eastern</td>\n",
       "      <td>105170</td>\n",
       "      <td>Memphis</td>\n",
       "      <td>TN</td>\n",
       "      <td>Central</td>\n",
       "      <td>3</td>\n",
       "      <td>5</td>\n",
       "    </tr>\n",
       "    <tr>\n",
       "      <th>1</th>\n",
       "      <td>45</td>\n",
       "      <td>GA</td>\n",
       "      <td>Eastern</td>\n",
       "      <td>223229</td>\n",
       "      <td>SanAntonio</td>\n",
       "      <td>TX</td>\n",
       "      <td>Central</td>\n",
       "      <td>3</td>\n",
       "      <td>5</td>\n",
       "    </tr>\n",
       "    <tr>\n",
       "      <th>2</th>\n",
       "      <td>45</td>\n",
       "      <td>GA</td>\n",
       "      <td>Eastern</td>\n",
       "      <td>258688</td>\n",
       "      <td>Albuquerque</td>\n",
       "      <td>NM</td>\n",
       "      <td>Mountain</td>\n",
       "      <td>3</td>\n",
       "      <td>5</td>\n",
       "    </tr>\n",
       "    <tr>\n",
       "      <th>3</th>\n",
       "      <td>45</td>\n",
       "      <td>GA</td>\n",
       "      <td>Eastern</td>\n",
       "      <td>98827</td>\n",
       "      <td>ELPaso</td>\n",
       "      <td>TX</td>\n",
       "      <td>Central</td>\n",
       "      <td>3</td>\n",
       "      <td>5</td>\n",
       "    </tr>\n",
       "    <tr>\n",
       "      <th>4</th>\n",
       "      <td>45</td>\n",
       "      <td>GA</td>\n",
       "      <td>Eastern</td>\n",
       "      <td>99518</td>\n",
       "      <td>SanAntonio</td>\n",
       "      <td>TX</td>\n",
       "      <td>Central</td>\n",
       "      <td>3</td>\n",
       "      <td>3</td>\n",
       "    </tr>\n",
       "  </tbody>\n",
       "</table>\n",
       "</div>"
      ],
      "text/plain": [
       "   ID_USER USER_STATE USER_TIMEZONE  ID_HOTEL   HOTEL_CITY HOTEL_STATE  \\\n",
       "0       45         GA       Eastern    105170      Memphis          TN   \n",
       "1       45         GA       Eastern    223229   SanAntonio          TX   \n",
       "2       45         GA       Eastern    258688  Albuquerque          NM   \n",
       "3       45         GA       Eastern     98827       ELPaso          TX   \n",
       "4       45         GA       Eastern     99518   SanAntonio          TX   \n",
       "\n",
       "  HOTEL_TIMEZONE  Trip Type  Rating  \n",
       "0        Central          3       5  \n",
       "1        Central          3       5  \n",
       "2       Mountain          3       5  \n",
       "3        Central          3       5  \n",
       "4        Central          3       3  "
      ]
     },
     "execution_count": 5,
     "metadata": {},
     "output_type": "execute_result"
    }
   ],
   "source": [
    "raw_data.head()"
   ]
  },
  {
   "cell_type": "markdown",
   "metadata": {},
   "source": [
    "## Deduplicating"
   ]
  },
  {
   "cell_type": "markdown",
   "metadata": {},
   "source": [
    "- We will focus on pure collaborative filtering task.\n",
    "- Hence, no repeated actions withing a single user must be allowed.\n",
    "\n",
    "Let's check it."
   ]
  },
  {
   "cell_type": "code",
   "execution_count": 4,
   "metadata": {},
   "outputs": [
    {
     "data": {
      "text/plain": [
       "True"
      ]
     },
     "execution_count": 4,
     "metadata": {},
     "output_type": "execute_result"
    }
   ],
   "source": [
    "raw_data.duplicated(subset=[\"ID_USER\", \"ID_HOTEL\"]).any()"
   ]
  },
  {
   "cell_type": "markdown",
   "metadata": {},
   "source": [
    "Indeed, there are duplicated events. We can see that they are related to different trip types:"
   ]
  },
  {
   "cell_type": "code",
   "execution_count": 6,
   "metadata": {},
   "outputs": [
    {
     "data": {
      "text/html": [
       "<div>\n",
       "<style scoped>\n",
       "    .dataframe tbody tr th:only-of-type {\n",
       "        vertical-align: middle;\n",
       "    }\n",
       "\n",
       "    .dataframe tbody tr th {\n",
       "        vertical-align: top;\n",
       "    }\n",
       "\n",
       "    .dataframe thead th {\n",
       "        text-align: right;\n",
       "    }\n",
       "</style>\n",
       "<table border=\"1\" class=\"dataframe\">\n",
       "  <thead>\n",
       "    <tr style=\"text-align: right;\">\n",
       "      <th></th>\n",
       "      <th>ID_USER</th>\n",
       "      <th>ID_HOTEL</th>\n",
       "      <th>HOTEL_CITY</th>\n",
       "      <th>HOTEL_STATE</th>\n",
       "      <th>Trip Type</th>\n",
       "    </tr>\n",
       "  </thead>\n",
       "  <tbody>\n",
       "    <tr>\n",
       "      <th>2867</th>\n",
       "      <td>39844</td>\n",
       "      <td>223742</td>\n",
       "      <td>Columbus</td>\n",
       "      <td>OH</td>\n",
       "      <td>1</td>\n",
       "    </tr>\n",
       "    <tr>\n",
       "      <th>2868</th>\n",
       "      <td>39844</td>\n",
       "      <td>223742</td>\n",
       "      <td>Columbus</td>\n",
       "      <td>OH</td>\n",
       "      <td>1</td>\n",
       "    </tr>\n",
       "    <tr>\n",
       "      <th>2869</th>\n",
       "      <td>39844</td>\n",
       "      <td>223742</td>\n",
       "      <td>Columbus</td>\n",
       "      <td>OH</td>\n",
       "      <td>1</td>\n",
       "    </tr>\n",
       "    <tr>\n",
       "      <th>2870</th>\n",
       "      <td>39844</td>\n",
       "      <td>223742</td>\n",
       "      <td>Columbus</td>\n",
       "      <td>OH</td>\n",
       "      <td>3</td>\n",
       "    </tr>\n",
       "    <tr>\n",
       "      <th>2871</th>\n",
       "      <td>39844</td>\n",
       "      <td>223760</td>\n",
       "      <td>Columbus</td>\n",
       "      <td>OH</td>\n",
       "      <td>3</td>\n",
       "    </tr>\n",
       "    <tr>\n",
       "      <th>2872</th>\n",
       "      <td>39844</td>\n",
       "      <td>240082</td>\n",
       "      <td>Columbus</td>\n",
       "      <td>OH</td>\n",
       "      <td>3</td>\n",
       "    </tr>\n",
       "  </tbody>\n",
       "</table>\n",
       "</div>"
      ],
      "text/plain": [
       "      ID_USER  ID_HOTEL HOTEL_CITY HOTEL_STATE  Trip Type\n",
       "2867    39844    223742   Columbus          OH          1\n",
       "2868    39844    223742   Columbus          OH          1\n",
       "2869    39844    223742   Columbus          OH          1\n",
       "2870    39844    223742   Columbus          OH          3\n",
       "2871    39844    223760   Columbus          OH          3\n",
       "2872    39844    240082   Columbus          OH          3"
      ]
     },
     "execution_count": 6,
     "metadata": {},
     "output_type": "execute_result"
    }
   ],
   "source": [
    "raw_data.query(\"ID_USER==39844\")[[\"ID_USER\", \"ID_HOTEL\", \"HOTEL_CITY\", \"HOTEL_STATE\", \"Trip Type\"]]"
   ]
  },
  {
   "cell_type": "markdown",
   "metadata": {},
   "source": [
    "- Trip type can be, e.g., a business trip or vacation.\n",
    "- Potentially, this information can also be helpful for prediction, but we will ignore it for simplicity.\n",
    "- Hence, we need to filter out all duplicated events and leave only one instance in every such case."
   ]
  },
  {
   "cell_type": "code",
   "execution_count": 7,
   "metadata": {},
   "outputs": [],
   "source": [
    "data_columns = [\"ID_USER\", \"ID_HOTEL\", \"HOTEL_CITY\"]\n",
    "new_columns = [\"users\", \"hotels\", \"cities\"]\n",
    "data = (\n",
    "    raw_data[data_columns] # we won't need other fields\n",
    "    .drop_duplicates(subset=[\"ID_USER\", \"ID_HOTEL\"], keep='first')\n",
    "    .rename(columns=dict(zip(data_columns, new_columns)))\n",
    ")"
   ]
  },
  {
   "cell_type": "code",
   "execution_count": 9,
   "metadata": {},
   "outputs": [
    {
     "data": {
      "text/html": [
       "<div>\n",
       "<style scoped>\n",
       "    .dataframe tbody tr th:only-of-type {\n",
       "        vertical-align: middle;\n",
       "    }\n",
       "\n",
       "    .dataframe tbody tr th {\n",
       "        vertical-align: top;\n",
       "    }\n",
       "\n",
       "    .dataframe thead th {\n",
       "        text-align: right;\n",
       "    }\n",
       "</style>\n",
       "<table border=\"1\" class=\"dataframe\">\n",
       "  <thead>\n",
       "    <tr style=\"text-align: right;\">\n",
       "      <th></th>\n",
       "      <th>users</th>\n",
       "      <th>hotels</th>\n",
       "      <th>cities</th>\n",
       "    </tr>\n",
       "  </thead>\n",
       "  <tbody>\n",
       "    <tr>\n",
       "      <th>0</th>\n",
       "      <td>45</td>\n",
       "      <td>105170</td>\n",
       "      <td>Memphis</td>\n",
       "    </tr>\n",
       "    <tr>\n",
       "      <th>1</th>\n",
       "      <td>45</td>\n",
       "      <td>223229</td>\n",
       "      <td>SanAntonio</td>\n",
       "    </tr>\n",
       "    <tr>\n",
       "      <th>2</th>\n",
       "      <td>45</td>\n",
       "      <td>258688</td>\n",
       "      <td>Albuquerque</td>\n",
       "    </tr>\n",
       "    <tr>\n",
       "      <th>3</th>\n",
       "      <td>45</td>\n",
       "      <td>98827</td>\n",
       "      <td>ELPaso</td>\n",
       "    </tr>\n",
       "    <tr>\n",
       "      <th>4</th>\n",
       "      <td>45</td>\n",
       "      <td>99518</td>\n",
       "      <td>SanAntonio</td>\n",
       "    </tr>\n",
       "  </tbody>\n",
       "</table>\n",
       "</div>"
      ],
      "text/plain": [
       "   users  hotels       cities\n",
       "0     45  105170      Memphis\n",
       "1     45  223229   SanAntonio\n",
       "2     45  258688  Albuquerque\n",
       "3     45   98827       ELPaso\n",
       "4     45   99518   SanAntonio"
      ]
     },
     "execution_count": 9,
     "metadata": {},
     "output_type": "execute_result"
    }
   ],
   "source": [
    "data.head()"
   ]
  },
  {
   "cell_type": "markdown",
   "metadata": {},
   "source": [
    "## Verifying consistency"
   ]
  },
  {
   "cell_type": "markdown",
   "metadata": {},
   "source": [
    "- Later, we will need a mapping between a hotel and the city it's located in.\n",
    "- Need to check that there are no hotels with the same id but in different cities."
   ]
  },
  {
   "cell_type": "code",
   "execution_count": 10,
   "metadata": {},
   "outputs": [],
   "source": [
    "assert data.groupby('hotels')['cities'].nunique().max() == 1"
   ]
  },
  {
   "cell_type": "markdown",
   "metadata": {},
   "source": [
    "- Note, there are no cities with the same name but in different states (check that yourself).\n",
    "- Otherwise we would need to create a naming rule to resolve such ties."
   ]
  },
  {
   "cell_type": "markdown",
   "metadata": {},
   "source": [
    "## Analyzing data"
   ]
  },
  {
   "cell_type": "markdown",
   "metadata": {},
   "source": [
    "- Let's see how many hotels within the same city do users visit:"
   ]
  },
  {
   "cell_type": "code",
   "execution_count": 11,
   "metadata": {},
   "outputs": [
    {
     "data": {
      "image/png": "[encoded data removed]",
      "text/plain": [
       "<Figure size 432x288 with 1 Axes>"
      ]
     },
     "metadata": {
      "needs_background": "light"
     },
     "output_type": "display_data"
    }
   ],
   "source": [
    "data.groupby(['users', 'cities']).size().value_counts().plot.bar();"
   ]
  },
  {
   "cell_type": "markdown",
   "metadata": {},
   "source": [
    "- Let's also check how many hotels there are in each city:"
   ]
  },
  {
   "cell_type": "code",
   "execution_count": 12,
   "metadata": {},
   "outputs": [
    {
     "data": {
      "image/png": "[encoded data removed]",
      "text/plain": [
       "<Figure size 720x288 with 1 Axes>"
      ]
     },
     "metadata": {
      "needs_background": "light"
     },
     "output_type": "display_data"
    }
   ],
   "source": [
    "data.groupby('cities')['hotels'].nunique().plot.bar(figsize=(10,4));"
   ]
  },
  {
   "cell_type": "markdown",
   "metadata": {},
   "source": [
    "- We see that\n",
    "  - there are many hotels in each city,\n",
    "  - but users mostly prefer staying in a unique hotel withing a city.\n",
    "- We can conclude that users indeed have individual preferences on which specific hotel to stay in.\n",
    "- This is an important information for understanding the recommendation scenario.\n",
    "- The recommender system goal can be formulated as:  \n",
    "  - **Knowning the previous cities and hotels a user has visited,**\n",
    "  - **predict which hotel the user will likely visit in a new city**.\n",
    "\n",
    "Let's prepare our data accordingly to realize such recommendation scenario.  "
   ]
  },
  {
   "cell_type": "markdown",
   "metadata": {},
   "source": [
    "## Preparing data splits"
   ]
  },
  {
   "cell_type": "markdown",
   "metadata": {},
   "source": [
    "- First of all, let's sample candidate test users.\n",
    "- It will be users who have visited at most 1 hotel (at least in some cities).\n",
    "  - That way we can exclude scenario corresponding to the prediction of another hotel **within the same city**.\n",
    "  - We will always predict a hotel **within a new city**.\n",
    "- The intuition behind this scenario:\n",
    "  - we want to help users to find a good hotel in a city they have **never been before**.\n",
    "- Other scenarios are also possible (and they will inform a different data splitting), but let's focus on this one.\n",
    "- Note that such preprocessing doesn't mean there will be no users with more than 1 hotel in the same city in the training data.\n",
    "  - The selection criteria is only applied to the holdout construction."
   ]
  },
  {
   "cell_type": "code",
   "execution_count": 13,
   "metadata": {},
   "outputs": [],
   "source": [
    "user_city_to_sample = (\n",
    "    data\n",
    "    # select user-city pairs based on hotels count\n",
    "    .groupby(['users', 'cities'])\n",
    "    .size()\n",
    "    # hotels count must be exactly 1 according to our scenario\n",
    "    .pipe(lambda x: x.index[x==1])\n",
    ")"
   ]
  },
  {
   "cell_type": "code",
   "execution_count": 14,
   "metadata": {},
   "outputs": [
    {
     "data": {
      "text/plain": [
       "MultiIndex([(45, 'Albuquerque'),\n",
       "            (45,      'ELPaso'),\n",
       "            (45,     'Memphis'),\n",
       "            (64,      'Austin'),\n",
       "            (64,   'Cleveland')],\n",
       "           names=['users', 'cities'])"
      ]
     },
     "execution_count": 14,
     "metadata": {},
     "output_type": "execute_result"
    }
   ],
   "source": [
    "user_city_to_sample[:5]"
   ]
  },
  {
   "cell_type": "markdown",
   "metadata": {},
   "source": [
    "- We also need to sample users with more than one city in hotel-visiting history.\n",
    "- Otherwise, after holdout splitting, we will have to deal with cold-start cases, which is not the purpose of this task."
   ]
  },
  {
   "cell_type": "code",
   "execution_count": 15,
   "metadata": {},
   "outputs": [
    {
     "data": {
      "image/png": "[encoded data removed]",
      "text/plain": [
       "<Figure size 432x288 with 1 Axes>"
      ]
     },
     "metadata": {
      "needs_background": "light"
     },
     "output_type": "display_data"
    }
   ],
   "source": [
    "user_cities_df = pd.DataFrame.from_records(user_city_to_sample, columns=['users', 'cities'])\n",
    "user_cities_df.groupby('users').size().value_counts().sort_index().plot.bar(\n",
    "    title=\"Distribution of the number of cities visited by user\"\n",
    ");"
   ]
  },
  {
   "cell_type": "markdown",
   "metadata": {},
   "source": [
    "- Clearly, there are many users with only one city visited.\n",
    "- We need to exclude them, as they would correspond to the cold start recommendations scenario:"
   ]
  },
  {
   "cell_type": "code",
   "execution_count": 16,
   "metadata": {},
   "outputs": [
    {
     "data": {
      "text/plain": [
       "710"
      ]
     },
     "execution_count": 16,
     "metadata": {},
     "output_type": "execute_result"
    }
   ],
   "source": [
    "users_with_more_cities = (\n",
    "    user_cities_df\n",
    "    .groupby('users')\n",
    "    [\"cities\"]\n",
    "    .apply(list)\n",
    "    # exclude 'single-city' users\n",
    "    .loc[lambda x: x.apply(len)> 1]\n",
    ")\n",
    "len(users_with_more_cities)"
   ]
  },
  {
   "cell_type": "code",
   "execution_count": 17,
   "metadata": {},
   "outputs": [
    {
     "data": {
      "text/plain": [
       "users\n",
       "45                        [Albuquerque, ELPaso, Memphis]\n",
       "64                          [Austin, Cleveland, Houston]\n",
       "100    [Albuquerque, Dallas, Indianapolis, Jacksonville]\n",
       "159                        [ELPaso, Houston, Louisville]\n",
       "198                [ELPaso, LosAngeles, Phoenix, Tucson]\n",
       "Name: cities, dtype: object"
      ]
     },
     "execution_count": 17,
     "metadata": {},
     "output_type": "execute_result"
    }
   ],
   "source": [
    "users_with_more_cities.head()"
   ]
  },
  {
   "cell_type": "markdown",
   "metadata": {},
   "source": [
    "### Splitting into validation and test"
   ]
  },
  {
   "cell_type": "markdown",
   "metadata": {},
   "source": [
    "- For simplicity, we ignore any sequential component in user behavior (we do not have timestamps or any other order-related information anyway)\n",
    "- Hence, let's just randomly split test users into validation and test segments and then randomly sample holdout items."
   ]
  },
  {
   "cell_type": "code",
   "execution_count": 18,
   "metadata": {},
   "outputs": [
    {
     "data": {
      "text/plain": [
       "(355, 355)"
      ]
     },
     "execution_count": 18,
     "metadata": {},
     "output_type": "execute_result"
    }
   ],
   "source": [
    "valid_user_city_candidates = users_with_more_cities.iloc[::2]\n",
    "test_user_city_candidates = users_with_more_cities.iloc[1::2]\n",
    "# check the number of users\n",
    "len(valid_user_city_candidates), len(test_user_city_candidates)"
   ]
  },
  {
   "cell_type": "code",
   "execution_count": 19,
   "metadata": {},
   "outputs": [
    {
     "data": {
      "text/plain": [
       "users\n",
       "45                        [Albuquerque, ELPaso, Memphis]\n",
       "100    [Albuquerque, Dallas, Indianapolis, Jacksonville]\n",
       "198                [ELPaso, LosAngeles, Phoenix, Tucson]\n",
       "221              [Arlington, Boston, Fresno, LosAngeles]\n",
       "451                          [Columbus, Phoenix, Tucson]\n",
       "Name: cities, dtype: object"
      ]
     },
     "execution_count": 19,
     "metadata": {},
     "output_type": "execute_result"
    }
   ],
   "source": [
    "valid_user_city_candidates.head()"
   ]
  },
  {
   "cell_type": "markdown",
   "metadata": {},
   "source": [
    "- We won't be testing our recommender against the warm start scenario (our dataset is too small for that).\n",
    "- Hence, we will just hide a single holdout item per test user and the remaining part will be returned back into the training data."
   ]
  },
  {
   "cell_type": "code",
   "execution_count": 20,
   "metadata": {},
   "outputs": [],
   "source": [
    "def sample_user_city_pairs(series, random_state):\n",
    "    pairs = (\n",
    "        series\n",
    "        .explode()\n",
    "        # shuffle data\n",
    "        .sample(frac=1, random_state=random_state)\n",
    "        # select a single city per user\n",
    "        .groupby(level='users')\n",
    "        .first()\n",
    "        .reset_index()\n",
    "    )\n",
    "    return pairs\n",
    "\n",
    "random_state = np.random.RandomState(99)\n",
    "validation_examples = sample_user_city_pairs(valid_user_city_candidates, random_state)\n",
    "test_examples = sample_user_city_pairs(test_user_city_candidates, random_state)"
   ]
  },
  {
   "cell_type": "code",
   "execution_count": 21,
   "metadata": {},
   "outputs": [
    {
     "data": {
      "text/html": [
       "<div>\n",
       "<style scoped>\n",
       "    .dataframe tbody tr th:only-of-type {\n",
       "        vertical-align: middle;\n",
       "    }\n",
       "\n",
       "    .dataframe tbody tr th {\n",
       "        vertical-align: top;\n",
       "    }\n",
       "\n",
       "    .dataframe thead th {\n",
       "        text-align: right;\n",
       "    }\n",
       "</style>\n",
       "<table border=\"1\" class=\"dataframe\">\n",
       "  <thead>\n",
       "    <tr style=\"text-align: right;\">\n",
       "      <th></th>\n",
       "      <th>users</th>\n",
       "      <th>cities</th>\n",
       "    </tr>\n",
       "  </thead>\n",
       "  <tbody>\n",
       "    <tr>\n",
       "      <th>0</th>\n",
       "      <td>45</td>\n",
       "      <td>Memphis</td>\n",
       "    </tr>\n",
       "    <tr>\n",
       "      <th>1</th>\n",
       "      <td>100</td>\n",
       "      <td>Albuquerque</td>\n",
       "    </tr>\n",
       "    <tr>\n",
       "      <th>2</th>\n",
       "      <td>198</td>\n",
       "      <td>ELPaso</td>\n",
       "    </tr>\n",
       "    <tr>\n",
       "      <th>3</th>\n",
       "      <td>221</td>\n",
       "      <td>Boston</td>\n",
       "    </tr>\n",
       "    <tr>\n",
       "      <th>4</th>\n",
       "      <td>451</td>\n",
       "      <td>Tucson</td>\n",
       "    </tr>\n",
       "  </tbody>\n",
       "</table>\n",
       "</div>"
      ],
      "text/plain": [
       "   users       cities\n",
       "0     45      Memphis\n",
       "1    100  Albuquerque\n",
       "2    198       ELPaso\n",
       "3    221       Boston\n",
       "4    451       Tucson"
      ]
     },
     "execution_count": 21,
     "metadata": {},
     "output_type": "execute_result"
    }
   ],
   "source": [
    "validation_examples.head()"
   ]
  },
  {
   "cell_type": "markdown",
   "metadata": {},
   "source": [
    "- The next step is to mark validation and test examples within the source dataset.\n",
    "- That way we can safely split it into training, validation, and test parts.\n",
    "- Remember that after validation stage, the validation and training data should be merged back."
   ]
  },
  {
   "cell_type": "code",
   "execution_count": 22,
   "metadata": {},
   "outputs": [
    {
     "data": {
      "text/html": [
       "<div>\n",
       "<style scoped>\n",
       "    .dataframe tbody tr th:only-of-type {\n",
       "        vertical-align: middle;\n",
       "    }\n",
       "\n",
       "    .dataframe tbody tr th {\n",
       "        vertical-align: top;\n",
       "    }\n",
       "\n",
       "    .dataframe thead th {\n",
       "        text-align: right;\n",
       "    }\n",
       "</style>\n",
       "<table border=\"1\" class=\"dataframe\">\n",
       "  <thead>\n",
       "    <tr style=\"text-align: right;\">\n",
       "      <th></th>\n",
       "      <th>users</th>\n",
       "      <th>hotels</th>\n",
       "      <th>cities</th>\n",
       "      <th>merge_valid</th>\n",
       "      <th>merge_test</th>\n",
       "    </tr>\n",
       "  </thead>\n",
       "  <tbody>\n",
       "    <tr>\n",
       "      <th>0</th>\n",
       "      <td>45</td>\n",
       "      <td>105170</td>\n",
       "      <td>Memphis</td>\n",
       "      <td>both</td>\n",
       "      <td>left_only</td>\n",
       "    </tr>\n",
       "    <tr>\n",
       "      <th>1</th>\n",
       "      <td>45</td>\n",
       "      <td>223229</td>\n",
       "      <td>SanAntonio</td>\n",
       "      <td>left_only</td>\n",
       "      <td>left_only</td>\n",
       "    </tr>\n",
       "    <tr>\n",
       "      <th>2</th>\n",
       "      <td>45</td>\n",
       "      <td>258688</td>\n",
       "      <td>Albuquerque</td>\n",
       "      <td>left_only</td>\n",
       "      <td>left_only</td>\n",
       "    </tr>\n",
       "    <tr>\n",
       "      <th>3</th>\n",
       "      <td>45</td>\n",
       "      <td>98827</td>\n",
       "      <td>ELPaso</td>\n",
       "      <td>left_only</td>\n",
       "      <td>left_only</td>\n",
       "    </tr>\n",
       "    <tr>\n",
       "      <th>4</th>\n",
       "      <td>45</td>\n",
       "      <td>99518</td>\n",
       "      <td>SanAntonio</td>\n",
       "      <td>left_only</td>\n",
       "      <td>left_only</td>\n",
       "    </tr>\n",
       "    <tr>\n",
       "      <th>5</th>\n",
       "      <td>64</td>\n",
       "      <td>224427</td>\n",
       "      <td>Cleveland</td>\n",
       "      <td>left_only</td>\n",
       "      <td>left_only</td>\n",
       "    </tr>\n",
       "    <tr>\n",
       "      <th>6</th>\n",
       "      <td>64</td>\n",
       "      <td>1751886</td>\n",
       "      <td>Austin</td>\n",
       "      <td>left_only</td>\n",
       "      <td>both</td>\n",
       "    </tr>\n",
       "    <tr>\n",
       "      <th>7</th>\n",
       "      <td>64</td>\n",
       "      <td>99120</td>\n",
       "      <td>Houston</td>\n",
       "      <td>left_only</td>\n",
       "      <td>left_only</td>\n",
       "    </tr>\n",
       "    <tr>\n",
       "      <th>8</th>\n",
       "      <td>100</td>\n",
       "      <td>120111</td>\n",
       "      <td>Jacksonville</td>\n",
       "      <td>left_only</td>\n",
       "      <td>left_only</td>\n",
       "    </tr>\n",
       "    <tr>\n",
       "      <th>9</th>\n",
       "      <td>100</td>\n",
       "      <td>91428</td>\n",
       "      <td>Indianapolis</td>\n",
       "      <td>left_only</td>\n",
       "      <td>left_only</td>\n",
       "    </tr>\n",
       "  </tbody>\n",
       "</table>\n",
       "</div>"
      ],
      "text/plain": [
       "   users   hotels        cities merge_valid merge_test\n",
       "0     45   105170       Memphis        both  left_only\n",
       "1     45   223229    SanAntonio   left_only  left_only\n",
       "2     45   258688   Albuquerque   left_only  left_only\n",
       "3     45    98827        ELPaso   left_only  left_only\n",
       "4     45    99518    SanAntonio   left_only  left_only\n",
       "5     64   224427     Cleveland   left_only  left_only\n",
       "6     64  1751886        Austin   left_only       both\n",
       "7     64    99120       Houston   left_only  left_only\n",
       "8    100   120111  Jacksonville   left_only  left_only\n",
       "9    100    91428  Indianapolis   left_only  left_only"
      ]
     },
     "execution_count": 22,
     "metadata": {},
     "output_type": "execute_result"
    }
   ],
   "source": [
    "marked_data = pd.merge(\n",
    "    pd.merge(\n",
    "        data,\n",
    "        validation_examples,\n",
    "        how = 'left',\n",
    "        on = [\"users\", \"cities\"],\n",
    "        indicator = \"merge_valid\"\n",
    "    ),\n",
    "    test_examples,\n",
    "    how = 'left',\n",
    "    on = [\"users\", \"cities\"],\n",
    "    indicator = \"merge_test\"\n",
    ")    \n",
    "marked_data.head(10)"
   ]
  },
  {
   "cell_type": "markdown",
   "metadata": {},
   "source": [
    "- Here's the splitting:"
   ]
  },
  {
   "cell_type": "code",
   "execution_count": 23,
   "metadata": {},
   "outputs": [],
   "source": [
    "valid_holdout_ = marked_data.query('merge_valid == \"both\"')\n",
    "test_holdout_ = marked_data.query('merge_test == \"both\"')\n",
    "train_data_ = marked_data.query('merge_valid == \"left_only\" and merge_test == \"left_only\"')"
   ]
  },
  {
   "cell_type": "markdown",
   "metadata": {},
   "source": [
    "Recall,\n",
    "- validation data is used for fine-tuning,\n",
    "- test data is used for final evaluation and comparison of different models."
   ]
  },
  {
   "cell_type": "markdown",
   "metadata": {},
   "source": [
    "### Reindexing data"
   ]
  },
  {
   "cell_type": "markdown",
   "metadata": {},
   "source": [
    "- As we now have three variables - users, hotels, and cities - we need to update the `transform_indices` function we used previously.\n",
    "  - It must accept contextual information along with users and items:"
   ]
  },
  {
   "cell_type": "code",
   "execution_count": 24,
   "metadata": {},
   "outputs": [],
   "source": [
    "def transform_indices_3D(data, users, hotels, cities):\n",
    "    data_index = {}\n",
    "    for entity, field in zip(['users', 'hotels', 'cities'], [users, hotels, cities]):\n",
    "        idx, idx_map = to_numeric_id(data, field)\n",
    "        data_index[entity] = idx_map\n",
    "        data.loc[:, field] = idx\n",
    "    return data, data_index"
   ]
  },
  {
   "cell_type": "code",
   "execution_count": 25,
   "metadata": {},
   "outputs": [],
   "source": [
    "train_data, data_index = transform_indices_3D(train_data_.copy(), 'users', 'hotels', 'cities')"
   ]
  },
  {
   "cell_type": "code",
   "execution_count": 26,
   "metadata": {},
   "outputs": [
    {
     "name": "stdout",
     "output_type": "stream",
     "text": [
      "Filtered 70 invalid observations.\n",
      "Filtered 62 invalid observations.\n"
     ]
    }
   ],
   "source": [
    "valid_holdout = reindex(valid_holdout_, data_index.values(), filter_invalid=True)\n",
    "test_holdout = reindex(test_holdout_, data_index.values(), filter_invalid=True)"
   ]
  },
  {
   "cell_type": "code",
   "execution_count": 27,
   "metadata": {},
   "outputs": [
    {
     "data": {
      "text/plain": [
       "((285, 5), (293, 5))"
      ]
     },
     "execution_count": 27,
     "metadata": {},
     "output_type": "execute_result"
    }
   ],
   "source": [
    "valid_holdout.shape, test_holdout.shape"
   ]
  },
  {
   "cell_type": "code",
   "execution_count": 28,
   "metadata": {},
   "outputs": [
    {
     "data": {
      "text/plain": [
       "{'users': 'users',\n",
       " 'hotels': 'hotels',\n",
       " 'cities': 'cities',\n",
       " 'feedback': None,\n",
       " 'n_users': 1202,\n",
       " 'n_hotels': 1764,\n",
       " 'n_cities': 48}"
      ]
     },
     "execution_count": 28,
     "metadata": {},
     "output_type": "execute_result"
    }
   ],
   "source": [
    "data_description = dict(\n",
    "    users = data_index['users'].name,\n",
    "    hotels = data_index['hotels'].name,\n",
    "    cities = data_index['cities'].name,\n",
    "    feedback = None, # we will ignore rating information\n",
    "    n_users = len(data_index['users']),\n",
    "    n_hotels = len(data_index['hotels']),\n",
    "    n_cities =  len(data_index['cities']),\n",
    ")\n",
    "data_description"
   ]
  },
  {
   "cell_type": "markdown",
   "metadata": {},
   "source": [
    "To recap this phase,\n",
    "- our holdout data contains user-hotel-city triplets\n",
    "- by construction, for each holdout hotel, there are no other hotels visited by a user in the same city"
   ]
  },
  {
   "cell_type": "markdown",
   "metadata": {},
   "source": [
    "# Building context-aware TF model"
   ]
  },
  {
   "cell_type": "markdown",
   "metadata": {},
   "source": [
    "- Now it's you turn to write some code:\n",
    "  - in subsequent cells, you'll see some incomplete lines of code,\n",
    "  - cells won't execute until you complete them,\n",
    "- Use your knowledge and understanding of the task (hints will be provided as well)."
   ]
  },
  {
   "cell_type": "markdown",
   "metadata": {},
   "source": [
    "But first, let's see what is the density of our 3D tensor (i.e., the amount of known entries).  \n",
    "\n",
    "**Complete the code below (5 pts):**"
   ]
  },
  {
   "cell_type": "code",
   "execution_count": 35,
   "metadata": {},
   "outputs": [
    {
     "name": "stdout",
     "output_type": "stream",
     "text": [
      "Data density = 0.004%\n"
     ]
    }
   ],
   "source": [
    "train_data_density = train_data.shape[0] / \\\n",
    "    (train_data['users'].nunique() * train_data['cities'].nunique() * train_data['hotels'].nunique())\n",
    "print(f\"Data density = {train_data_density:.3%}\")"
   ]
  },
  {
   "cell_type": "markdown",
   "metadata": {},
   "source": [
    "Think, how this density can impact the ability of models to learning meaningful representations."
   ]
  },
  {
   "cell_type": "markdown",
   "metadata": {},
   "source": [
    "## Model training"
   ]
  },
  {
   "cell_type": "markdown",
   "metadata": {},
   "source": [
    "- As we've already discussed, we wil build a tensor factorization (TF) model.\n",
    "- As in all previous cases, TF will be implemented based on the Higher Order Orthogonal Iteration algorithm (HOOI).\n",
    "- Use previously shared code for the CoFFee model for reference."
   ]
  },
  {
   "cell_type": "markdown",
   "metadata": {},
   "source": [
    "**Complete the model training function (20 pts):**"
   ]
  },
  {
   "cell_type": "code",
   "execution_count": 52,
   "metadata": {},
   "outputs": [],
   "source": [
    "def context_tf_model_build(config, data, data_description):\n",
    "    userid = data_description[\"users\"]\n",
    "    itemid = data_description[\"hotels\"]\n",
    "    cityid = data_description[\"cities\"]\n",
    "\n",
    "    n_users = data_description[\"n_users\"]\n",
    "    n_items = data_description[\"n_hotels\"]\n",
    "    n_cities = data_description[\"n_cities\"]\n",
    "    shape = (n_users, n_items, n_cities)\n",
    "\n",
    "    idx = data[[userid, itemid, cityid]].values\n",
    "    val = np.ones(idx.shape[0], dtype='f8')\n",
    "\n",
    "    user_factors, item_factors, city_factors, core = hooi(\n",
    "        idx, val, shape, config[\"mlrank\"],\n",
    "        parallel_ttm = False,\n",
    "        growth_tol = 0.001,\n",
    "        seed = config[\"seed\"]\n",
    "    )\n",
    "    \n",
    "    return user_factors, item_factors, city_factors\n"
   ]
  },
  {
   "cell_type": "code",
   "execution_count": 53,
   "metadata": {},
   "outputs": [
    {
     "data": {
      "text/plain": [
       "'\\n    Compute Tucker decomposition of a sparse tensor in COO format\\n    with the help of HOOI algorithm. Usage:\\n    u0, u1, u2, g = hooi(idx, val, shape, core_shape)\\n    '"
      ]
     },
     "execution_count": 53,
     "metadata": {},
     "output_type": "execute_result"
    }
   ],
   "source": [
    "hooi.__doc__"
   ]
  },
  {
   "cell_type": "code",
   "execution_count": 54,
   "metadata": {},
   "outputs": [],
   "source": [
    "config = {\n",
    "    \"mlrank\": (15, 15, 2),\n",
    "    \"num_iters\": 2,\n",
    "    \"seed\": 42\n",
    "}"
   ]
  },
  {
   "cell_type": "code",
   "execution_count": 55,
   "metadata": {},
   "outputs": [],
   "source": [
    "tf_params = context_tf_model_build(config, train_data, data_description)"
   ]
  },
  {
   "cell_type": "markdown",
   "metadata": {},
   "source": [
    "- Note that the number of ALS iterations in this implementation is predefined and fixed during procedure.\n",
    "- The stopping criteria is based on on estimation of the prediction error improvement.\n",
    "- It may not be the best strategy for learning a good model:\n",
    "  - recall, our optimization objective (error minimization) is not exactly related to the actual evaluation metric (e.g., HR or MRR).\n",
    "  - **Suggest a modification to the training procedure** to make it more aligned with the evaluation target.\n",
    "    - **Write your answer below.** No code required, only conceptual answer. (10 pts)"
   ]
  },
  {
   "cell_type": "markdown",
   "metadata": {},
   "source": [
    "## Validation stage"
   ]
  },
  {
   "cell_type": "markdown",
   "metadata": {},
   "source": [
    "We will need some additional information to run scoring and recommendation generation functions more conveniently.\n",
    "\n",
    "- According to our recommendations scenario:\n",
    "  - we need to provide information about target context into the scoring function;\n",
    "  - the context in our case is a city where a hotel from holdout is located.\n",
    "    - Note, **we never expose holdout item**, we only provide contextual information to inform our context-aware model.\n",
    "- We will store this information in the `data_description` variable for convenience."
   ]
  },
  {
   "cell_type": "code",
   "execution_count": 56,
   "metadata": {},
   "outputs": [
    {
     "data": {
      "text/plain": [
       "users\n",
       "0     24\n",
       "2      0\n",
       "5     13\n",
       "7      5\n",
       "10    44\n",
       "Name: cities, dtype: int64"
      ]
     },
     "execution_count": 56,
     "metadata": {},
     "output_type": "execute_result"
    }
   ],
   "source": [
    "data_description['target_cities'] = valid_holdout.set_index('users')['cities']\n",
    "data_description['target_cities'].head()"
   ]
  },
  {
   "cell_type": "markdown",
   "metadata": {},
   "source": [
    "- We also need to know which hotels are present in a city.\n",
    "  - When scoring, we will compute scores only for these hotels.  \n",
    "- Conversely, computing scores for entire hotel catalog is a redundant task:\n",
    "  - in our scenario, when generating recommendations, we know that a user is looking for a hotel in a specific city,\n",
    "  - there's no point in recommending hotels outside of that city.\n"
   ]
  },
  {
   "cell_type": "code",
   "execution_count": 65,
   "metadata": {},
   "outputs": [
    {
     "data": {
      "text/plain": [
       "cities\n",
       "0    [1352, 955, 586, 425, 412, 422, 568, 587, 1600...\n",
       "1    [1636, 858, 1627, 862, 1608, 1207, 1240, 979, ...\n",
       "2    [1561, 324, 1065, 266, 1063, 1055, 271, 332, 3...\n",
       "3    [831, 1342, 553, 1630, 1625, 1590, 816, 808, 8...\n",
       "4    [989, 1383, 1180, 1623, 313, 315, 1741, 653, 1...\n",
       "Name: hotels, dtype: object"
      ]
     },
     "execution_count": 65,
     "metadata": {},
     "output_type": "execute_result"
    }
   ],
   "source": [
    "data_description[\"city_hotels\"] = (\n",
    "    train_data\n",
    "    .groupby('cities')\n",
    "    ['hotels']\n",
    "    .unique()\n",
    ")\n",
    "data_description[\"city_hotels\"].head()"
   ]
  },
  {
   "cell_type": "markdown",
   "metadata": {},
   "source": [
    "- When generating prediction scores, we use a higher order folding-in technique over $hotels \\times cities$ user preferences matrix $P$.\n",
    "- Folding-in in our case is basically a double projector over the latent space of hotels ($V$) and cities ($W$) acting on $P$:  \n",
    "    $$R = VV^\\top P\\,WW^\\top$$\n",
    "\n",
    "- Hence, we need to know previously visited hotels of a test user and their corresponding cities in order to construct a user preferences matrix:"
   ]
  },
  {
   "cell_type": "code",
   "execution_count": 66,
   "metadata": {},
   "outputs": [
    {
     "data": {
      "text/plain": [
       "users\n",
       "0     [1106, 1352, 602, 650]\n",
       "2            [930, 339, 854]\n",
       "5              [60, 78, 211]\n",
       "7           [1636, 100, 211]\n",
       "10               [1619, 482]\n",
       "Name: hotels, dtype: object"
      ]
     },
     "execution_count": 66,
     "metadata": {},
     "output_type": "execute_result"
    }
   ],
   "source": [
    "data_description['visited_hotels'] = (\n",
    "    train_data\n",
    "    .query('users in @valid_holdout[\"users\"]')\n",
    "    .groupby('users')\n",
    "    ['hotels']\n",
    "    .apply(list)\n",
    ")\n",
    "data_description['visited_hotels'].head()"
   ]
  },
  {
   "cell_type": "markdown",
   "metadata": {},
   "source": [
    "- Finally, after we found previously visited hotels we also need to know the cities they're located in. \n",
    "- By construction, the mapping between hotels and cities is unambiguous, i.e. each hotel id corresponds to a unique city.\n",
    "- Let's add this mapping to `data_description`:"
   ]
  },
  {
   "cell_type": "code",
   "execution_count": 67,
   "metadata": {},
   "outputs": [
    {
     "data": {
      "text/plain": [
       "hotels\n",
       "1106    39\n",
       "1352     0\n",
       "602     13\n",
       "650     39\n",
       "1205     8\n",
       "Name: cities, dtype: int8"
      ]
     },
     "execution_count": 67,
     "metadata": {},
     "output_type": "execute_result"
    }
   ],
   "source": [
    "data_description['holtel_city_mapping'] = (\n",
    "    train_data\n",
    "    .drop_duplicates(subset=[\"hotels\", \"cities\"])\n",
    "    .set_index(\"hotels\")\n",
    "    [\"cities\"]\n",
    ")\n",
    "data_description['holtel_city_mapping'].head()"
   ]
  },
  {
   "cell_type": "markdown",
   "metadata": {},
   "source": [
    "### Scoring"
   ]
  },
  {
   "cell_type": "markdown",
   "metadata": {},
   "source": [
    "- Note that the scoring is performed for the hotels within the specified target city for each test user.\n",
    "- That means that you don't need to compute scores for all possible pairs of cities and hotels.\n",
    "- When performed on a per-user basis (in the loop), the higher order folding-in simplifies to a series of matrix-vector products from right to left (think why).\n",
    "\n",
    "Based on the description above, your task now is to **complete the scoring function**. (20 pts)"
   ]
  },
  {
   "cell_type": "code",
   "execution_count": 77,
   "metadata": {},
   "outputs": [],
   "source": [
    "def tf_scoring(params, data, data_description):\n",
    "    '''Returns a dictionary of scores for hotels within target city per each test user'''\n",
    "    user_factors, hotel_factors, city_factors = params\n",
    "    \n",
    "    n_hotels = hotel_factors.shape[0]\n",
    "    n_cities = city_factors.shape[0]\n",
    "    \n",
    "    # check visited hotels, get their city info -> use it to build user preferences matrix\n",
    "    test_user_hotels = data_description[\"visited_hotels\"]\n",
    "    hotel_city_mapping = data_description[\"holtel_city_mapping\"]\n",
    "    # get target city for a test user, find all hotels in this city -> compute scores for them\n",
    "    test_user_city = data_description[\"target_cities\"]\n",
    "    city_hotels = data_description[\"city_hotels\"]\n",
    "\n",
    "    user_scores = {}\n",
    "    for user, user_hotels in test_user_hotels.items():\n",
    "        user_cities = hotel_city_mapping[user_hotels]\n",
    "        p_matrix = csr_matrix(\n",
    "            (\n",
    "                [1] * len(user_hotels),\n",
    "                (user_hotels, user_cities)\n",
    "            ),\n",
    "            (n_hotels, n_cities)\n",
    "        )\n",
    "\n",
    "        target_city = test_user_city[user]\n",
    "        hotels_to_score = city_hotels[target_city]\n",
    "        target_city_factors = city_factors[target_city]\n",
    "        target_hotels_factors = hotel_factors[hotels_to_score]\n",
    "        # recommendations are generated via higher-order folding-in \n",
    "        # the most efficient way to compute it is by multiplying from right to left\n",
    "        # that way it's just a series of matrix-vector products\n",
    "        predicted_scores = target_hotels_factors @ (hotel_factors.T @ (p_matrix * (city_factors @ target_city_factors.T)))\n",
    "        user_scores[user] = predicted_scores\n",
    "    return user_scores"
   ]
  },
  {
   "cell_type": "markdown",
   "metadata": {},
   "source": [
    "- Note that we skipped the downvoting step that we previously used in our pipelines.\n",
    "  - In other words, we do not attempt to filter out previously visited hotel from recommendations.\n",
    "- Do we actually need this step? **Explain your answer.** (5 pts)"
   ]
  },
  {
   "cell_type": "code",
   "execution_count": 78,
   "metadata": {},
   "outputs": [],
   "source": [
    "tf_scores = tf_scoring(tf_params, None, data_description)"
   ]
  },
  {
   "cell_type": "markdown",
   "metadata": {},
   "source": [
    "### Generating recommendations"
   ]
  },
  {
   "cell_type": "code",
   "execution_count": 79,
   "metadata": {},
   "outputs": [],
   "source": [
    "def topn_recommendations(scores_dict, topn=2):\n",
    "    '''\n",
    "    Returns a dict of ids corresponding to the top-scored elements per each test user.\n",
    "    Note that these ids are not the actual item ids, as the `scores_dict`\n",
    "    contains a varying number of elements per each test user. Hence, `topidx` function\n",
    "    returns \"reduced\" ids, i.e. positions within the list of elements, not within the entire item catalog.\n",
    "    '''\n",
    "    return {user: topidx(scores, topn) for user, scores in scores_dict.items()}"
   ]
  },
  {
   "cell_type": "markdown",
   "metadata": {},
   "source": [
    "- We have limited our top-$n$ recommendations to $n=2$.\n",
    "- **Explain, why increasing $n$ would be problematic.** (5 pts)"
   ]
  },
  {
   "cell_type": "code",
   "execution_count": 80,
   "metadata": {},
   "outputs": [],
   "source": [
    "tf_recs = topn_recommendations(tf_scores)"
   ]
  },
  {
   "cell_type": "markdown",
   "metadata": {},
   "source": [
    "### Model evaluation"
   ]
  },
  {
   "cell_type": "markdown",
   "metadata": {},
   "source": [
    "- We also need to rewrite evaluation function in order to comply with the format of the generated scores.\n",
    "- You don't need to complete any lines of code in the evaluation function."
   ]
  },
  {
   "cell_type": "code",
   "execution_count": 81,
   "metadata": {},
   "outputs": [],
   "source": [
    "def evaluate(recs_dict, holdout, data_description):\n",
    "    '''\n",
    "    Runs over a dict of recommendations and aggregates hits.\n",
    "    Takes into account the fact that \"reduced\" ids from `recs_dict` must be translated\n",
    "    to the actual item ids.  \n",
    "    '''\n",
    "    rr = 0\n",
    "    hits = 0\n",
    "    rec_items = set()\n",
    "    userid = data_description[\"users\"]\n",
    "    cityid = data_description[\"cities\"]\n",
    "    hotelid = data_description[\"hotels\"]\n",
    "    \n",
    "    city_hotels = data_description[\"city_hotels\"]\n",
    "    iter_data = holdout[[userid, hotelid, cityid]]\n",
    "    for user, target_hotel, target_city in iter_data.itertuples(name=None, index=False):\n",
    "        # get indices of the scored items, e.g. hotels within the target city\n",
    "        scored_hotels = city_hotels[target_city] # complete the code\n",
    "        # translate \"reduced\" index into actual item id \n",
    "        user_recs = np.take(scored_hotels, recs_dict[user])\n",
    "        # compute metrics by comparing recommendations with the holdout\n",
    "        hits_pos, = np.where(user_recs == target_hotel)\n",
    "        if len(hits_pos):\n",
    "            hits += 1\n",
    "            rr += 1 / (hits_pos.item()+1)\n",
    "        rec_items = rec_items.union(user_recs)\n",
    "    n_users = holdout.shape[0]\n",
    "    mrr = rr / n_users\n",
    "    hr = hits / n_users\n",
    "    n_items = data_description[\"n_hotels\"]\n",
    "    cov = len(rec_items) / n_items\n",
    "    return hr, mrr, cov"
   ]
  },
  {
   "cell_type": "code",
   "execution_count": 82,
   "metadata": {},
   "outputs": [
    {
     "name": "stdout",
     "output_type": "stream",
     "text": [
      "HR=0.0772, MRR=0.0596, COV=0.1627\n"
     ]
    }
   ],
   "source": [
    "print('HR={:.4f}, MRR={:.4f}, COV={:.4f}'.format(*evaluate(tf_recs, valid_holdout, data_description)))"
   ]
  },
  {
   "cell_type": "markdown",
   "metadata": {},
   "source": [
    "### Fine-tuning with grid search"
   ]
  },
  {
   "cell_type": "code",
   "execution_count": 83,
   "metadata": {},
   "outputs": [],
   "source": [
    "from polara.evaluation.pipelines import random_grid"
   ]
  },
  {
   "cell_type": "markdown",
   "metadata": {},
   "source": [
    "- You will use a simple grid of multilinear rank values for tuning your model.\n",
    "- The easiest way to construct the grid is by utilizing `polara`'s `random_grid` function.\n",
    "- It takes a dictionary of hyper-parameters values and returns a (sampled) cartesian product giving all possible configurations.\n",
    "\n",
    "Here's how it can be done:"
   ]
  },
  {
   "cell_type": "code",
   "execution_count": 84,
   "metadata": {},
   "outputs": [],
   "source": [
    "tf_hyper = { # hyper-parameters dict for multi-linear rank\n",
    "    'r1': range(5, 41, 5), # users space rank\n",
    "    'r2': range(5, 41, 5), # hotels space rank\n",
    "    'r3': range(5, 21, 5), # cities space rank\n",
    "}"
   ]
  },
  {
   "cell_type": "code",
   "execution_count": 85,
   "metadata": {},
   "outputs": [
    {
     "name": "stdout",
     "output_type": "stream",
     "text": [
      "Total number of grid configurations: 248\n"
     ]
    }
   ],
   "source": [
    "def valid_mlrank(mlrank):\n",
    "    '''\n",
    "    Only allow ranks that are suitable for truncated SVD computations\n",
    "    on unfolded compressed tensor (the result of ttm product in HOOI).\n",
    "    '''\n",
    "    r1, r2, r3 = mlrank\n",
    "    return r1*r2 > r3 and r1*r3 > r2 and r2*r3 > r1\n",
    "\n",
    "# constructing the grid\n",
    "grid, param_names = random_grid(tf_hyper, n=0) # n=0 means all points, no random sampling\n",
    "# ensuring the preserved order of hyper-parameters values\n",
    "assert param_names == ('r1', 'r2', 'r3')\n",
    "# allowing only valid rank configurations\n",
    "tf_grid = [tuple(mlrank) for mlrank in grid if valid_mlrank(mlrank)]\n",
    "\n",
    "print(f'Total number of grid configurations: {len(tf_grid)}')"
   ]
  },
  {
   "cell_type": "code",
   "execution_count": 91,
   "metadata": {},
   "outputs": [
    {
     "data": {
      "text/plain": [
       "dict_keys(['users', 'hotels', 'cities', 'feedback', 'n_users', 'n_hotels', 'n_cities', 'target_cities', 'city_hotels', 'visited_hotels', 'holtel_city_mapping'])"
      ]
     },
     "execution_count": 91,
     "metadata": {},
     "output_type": "execute_result"
    }
   ],
   "source": [
    "data_description.keys()"
   ]
  },
  {
   "cell_type": "code",
   "execution_count": 92,
   "metadata": {},
   "outputs": [
    {
     "data": {
      "text/html": [
       "<div><span class=\"Text-label\" style=\"display:inline-block; overflow:hidden; white-space:nowrap; text-overflow:ellipsis; min-width:0; max-width:15ex; vertical-align:middle; text-align:right\"></span>\n",
       "<progress style=\"width:60ex\" max=\"248\" value=\"248\" class=\"Progress-main\"/></progress>\n",
       "<span class=\"Progress-label\"><strong>100%</strong></span>\n",
       "<span class=\"Iteration-label\">248/248</span>\n",
       "<span class=\"Time-label\">[01:39<00:01, 0.40s/it]</span></div>"
      ],
      "text/plain": [
       "\u001b[A\u001b[2K\r",
       " [████████████████████████████████████████████████████████████] 248/248 [01:39<00:01, 0.40s/it]"
      ]
     },
     "metadata": {},
     "output_type": "display_data"
    }
   ],
   "source": [
    "hr_tf = {}\n",
    "mrr_tf = {}\n",
    "cov_tf = {}\n",
    "for mlrank in track(tf_grid):\n",
    "    config['mlrank'] = mlrank\n",
    "    tf_params = context_tf_model_build(config, train_data, data_description)\n",
    "    tf_scores = tf_scoring(tf_params, None, data_description)\n",
    "    tf_recs = topn_recommendations(tf_scores)\n",
    "    hr, mrr, cov = evaluate(tf_recs, valid_holdout, data_description)\n",
    "    hr_tf[mlrank] = hr\n",
    "    mrr_tf[mlrank] = mrr\n",
    "    cov_tf[mlrank] = cov"
   ]
  },
  {
   "cell_type": "code",
   "execution_count": 93,
   "metadata": {},
   "outputs": [
    {
     "name": "stdout",
     "output_type": "stream",
     "text": [
      "Best HR=0.1263 achieved with mlrank=(5, 20, 10)\n",
      "Best MRR=0.1000 achieved with mlrank=(5, 20, 10)\n"
     ]
    }
   ],
   "source": [
    "print(f'Best HR={pd.Series(hr_tf).max():.4f} achieved with mlrank={pd.Series(hr_tf).idxmax()}')\n",
    "print(f'Best MRR={pd.Series(mrr_tf).max():.4f} achieved with mlrank={pd.Series(mrr_tf).idxmax()}')"
   ]
  },
  {
   "cell_type": "code",
   "execution_count": 94,
   "metadata": {},
   "outputs": [
    {
     "name": "stdout",
     "output_type": "stream",
     "text": [
      "COV=0.1224 (based on best HR value)\n"
     ]
    }
   ],
   "source": [
    "print(f'COV={pd.Series(cov_tf)[pd.Series(hr_tf).idxmax()]:.4f} (based on best HR value)')"
   ]
  },
  {
   "cell_type": "markdown",
   "metadata": {},
   "source": [
    "## Remarks"
   ]
  },
  {
   "cell_type": "markdown",
   "metadata": {},
   "source": [
    "- We won't use data normalization here.\n",
    "  - However, you can easily extend the model yourself using the code from the lecture on Sequential Tensor Factorization."
   ]
  },
  {
   "cell_type": "markdown",
   "metadata": {},
   "source": [
    "# Baselines"
   ]
  },
  {
   "cell_type": "markdown",
   "metadata": {},
   "source": [
    "**Complete the code for training and evaluating three baseline models:**\n",
    "- random recommendations, (5 pts)\n",
    "- popularity-based recommendations, (5 pts)\n",
    "- PureSVD. (10 pts)"
   ]
  },
  {
   "cell_type": "markdown",
   "metadata": {},
   "source": [
    "## Random model"
   ]
  },
  {
   "cell_type": "code",
   "execution_count": 98,
   "metadata": {},
   "outputs": [],
   "source": [
    "def build_rnd_model(config, data, data_description):\n",
    "    return np.random.RandomState(config[\"seed\"])\n",
    "\n",
    "def rnd_model_scoring(params, data, data_description):\n",
    "    random_state = params\n",
    "    # check visited hotels, get their city info -> use it to build user preferences matrix\n",
    "    test_user_hotels = data_description[\"visited_hotels\"]\n",
    "    # get target city for a test user, find all hotels in this city -> compute scores for them\n",
    "    test_user_city = data_description[\"target_cities\"]\n",
    "    city_hotels = data_description[\"city_hotels\"]\n",
    "\n",
    "    user_scores = {}\n",
    "    for user, user_hotels in test_user_hotels.items():\n",
    "        target_city = test_user_city[user]\n",
    "        hotels_to_score = city_hotels[target_city]\n",
    "        # recommendations are generated via higher-order folding-in\n",
    "        predicted_scores = random_state.rand(len(hotels_to_score))\n",
    "        user_scores[user] = predicted_scores\n",
    "    return user_scores"
   ]
  },
  {
   "cell_type": "code",
   "execution_count": 99,
   "metadata": {},
   "outputs": [
    {
     "name": "stdout",
     "output_type": "stream",
     "text": [
      "HR=0.0596, MRR=0.0474, COV=0.2800\n"
     ]
    }
   ],
   "source": [
    "rnd_params = build_rnd_model({'seed': 0}, None, data_description)\n",
    "rnd_scores = rnd_model_scoring(rnd_params, None, data_description)\n",
    "rnd_recs = topn_recommendations(rnd_scores)\n",
    "print('HR={:.4f}, MRR={:.4f}, COV={:.4f}'.format(*evaluate(rnd_recs, valid_holdout, data_description)))"
   ]
  },
  {
   "cell_type": "markdown",
   "metadata": {},
   "source": [
    "## Popularity-based"
   ]
  },
  {
   "cell_type": "code",
   "execution_count": 101,
   "metadata": {},
   "outputs": [],
   "source": [
    "def build_pop_model(config, data, data_description):\n",
    "    cityid = data_description[\"cities\"]\n",
    "    hotelid = data_description[\"hotels\"]\n",
    "    popularity = train_data[hotelid].value_counts()\n",
    "    return popularity\n",
    "\n",
    "def pop_model_scoring(params, data, data_description):\n",
    "    popularity = params\n",
    "    # check visited hotels, get their city info -> use it to build user preferences matrix\n",
    "    test_user_hotels = data_description[\"visited_hotels\"]\n",
    "    # get target city for a test user, find all hotels in this city -> compute scores for them\n",
    "    test_user_city = data_description[\"target_cities\"]\n",
    "    city_hotels = data_description[\"city_hotels\"]\n",
    "\n",
    "    user_scores = {}\n",
    "    for user, user_hotels in test_user_hotels.items():\n",
    "        target_city = test_user_city[user]\n",
    "        hotels_to_score = city_hotels[target_city]\n",
    "        # recommendations are generated via higher-order folding-in\n",
    "        predicted_scores = popularity[hotels_to_score]\n",
    "        user_scores[user] = predicted_scores.values\n",
    "    return user_scores"
   ]
  },
  {
   "cell_type": "code",
   "execution_count": 102,
   "metadata": {},
   "outputs": [
    {
     "name": "stdout",
     "output_type": "stream",
     "text": [
      "HR=0.1193, MRR=0.0947, COV=0.0533\n"
     ]
    }
   ],
   "source": [
    "pop_params = build_pop_model(None, train_data, data_description)\n",
    "pop_scores = pop_model_scoring(pop_params, None, data_description)\n",
    "pop_recs = topn_recommendations(pop_scores)\n",
    "print('HR={:.4f}, MRR={:.4f}, COV={:.4f}'.format(*evaluate(pop_recs, valid_holdout, data_description)))"
   ]
  },
  {
   "cell_type": "markdown",
   "metadata": {},
   "source": [
    "## PureSVD"
   ]
  },
  {
   "cell_type": "code",
   "execution_count": 119,
   "metadata": {},
   "outputs": [],
   "source": [
    "def matrix_from_observations(data, data_description):\n",
    "    useridx = data[data_description['users']]\n",
    "    itemidx = data[data_description['hotels']]\n",
    "    values = np.ones(len(useridx), dtype='f8')\n",
    "    return csr_matrix((values, (useridx, itemidx)), dtype='f8')\n",
    "\n",
    "\n",
    "def build_svd_model(config, data, data_description):\n",
    "    source_matrix = matrix_from_observations(data, data_description)\n",
    "    _, s, vt = svds(source_matrix, k=config['rank'], return_singular_vectors='vh')\n",
    "    singular_values = s[::-1]\n",
    "    item_factors = np.ascontiguousarray(vt[::-1, :].T)\n",
    "    return item_factors, singular_values\n",
    "\n",
    "\n",
    "def svd_model_scoring(params, data, data_description):\n",
    "    hotel_factors, sigma = params    \n",
    "    n_hotels = hotel_factors.shape[0]\n",
    "    \n",
    "    # check visited hotels, get their city info -> use it to build user preferences matrix\n",
    "    test_user_hotels = data_description[\"visited_hotels\"]\n",
    "    # get target city for a test user, find all hotels in this city -> compute scores for them\n",
    "    test_user_city = data_description[\"target_cities\"]\n",
    "    city_hotels = data_description[\"city_hotels\"]\n",
    "\n",
    "    user_scores = {}\n",
    "    for user, user_hotels in test_user_hotels.items():\n",
    "        target_city = test_user_city[user]\n",
    "        hotels_to_score = city_hotels[target_city]\n",
    "        target_hotels_factors = hotel_factors[hotels_to_score]\n",
    "        # recommendations are generated via higher-order folding-in\n",
    "        \n",
    "        train_matrix = matrix_from_observations(data, data_description)\n",
    "        \n",
    "        predicted_scores = np.squeeze(train_matrix[user] @ hotel_factors @ target_hotels_factors.T)\n",
    "        user_scores[user] = predicted_scores\n",
    "    return user_scores    "
   ]
  },
  {
   "cell_type": "markdown",
   "metadata": {},
   "source": [
    "### SVD grid-search"
   ]
  },
  {
   "cell_type": "code",
   "execution_count": 120,
   "metadata": {},
   "outputs": [],
   "source": [
    "svd_rank_grid = range(5, 41, 5)\n",
    "\n",
    "hr_svd = {}\n",
    "mrr_svd = {}\n",
    "cov_svd = {}\n",
    "for rank in svd_rank_grid:\n",
    "    svd_config = {'rank': rank}\n",
    "    svd_params = build_svd_model(svd_config, train_data, data_description)\n",
    "    svd_scores = svd_model_scoring(svd_params, train_data, data_description)\n",
    "    svd_recs = topn_recommendations(svd_scores)\n",
    "    hr, mrr, cov = evaluate(svd_recs, valid_holdout, data_description)\n",
    "    hr_svd[rank] = hr\n",
    "    mrr_svd[rank] = mrr\n",
    "    cov_svd[rank] = cov"
   ]
  },
  {
   "cell_type": "code",
   "execution_count": 121,
   "metadata": {},
   "outputs": [
    {
     "name": "stdout",
     "output_type": "stream",
     "text": [
      "Best HR=0.1263 achieved with mlrank=5\n",
      "Best MRR=0.1070 achieved with mlrank=5\n"
     ]
    }
   ],
   "source": [
    "print(f'Best HR={pd.Series(hr_svd).max():.4f} achieved with mlrank={pd.Series(hr_svd).idxmax()}')\n",
    "print(f'Best MRR={pd.Series(mrr_svd).max():.4f} achieved with mlrank={pd.Series(mrr_svd).idxmax()}')"
   ]
  },
  {
   "cell_type": "code",
   "execution_count": 122,
   "metadata": {},
   "outputs": [
    {
     "name": "stdout",
     "output_type": "stream",
     "text": [
      "COV=0.1202 (based on best HR value)\n"
     ]
    }
   ],
   "source": [
    "print(f'COV={pd.Series(cov_svd)[pd.Series(hr_svd).idxmax()]:.4f} (based on best HR value)')"
   ]
  },
  {
   "cell_type": "markdown",
   "metadata": {},
   "source": [
    "# Final test stage"
   ]
  },
  {
   "cell_type": "markdown",
   "metadata": {},
   "source": [
    "**Write your own code to**:\n",
    "- perform final evaluation of models,\n",
    "- recompute all models metrics w.r.t the test holdout,\n",
    "- report your results and provide conclusion on effectiveness of the tensor model and ways for improving it.\n",
    "\n",
    "\n",
    "Full completion of this task is worth 15 pts."
   ]
  },
  {
   "cell_type": "markdown",
   "metadata": {},
   "source": [
    "### TF "
   ]
  },
  {
   "cell_type": "code",
   "execution_count": 160,
   "metadata": {},
   "outputs": [],
   "source": [
    "results_dict = {}"
   ]
  },
  {
   "cell_type": "code",
   "execution_count": 221,
   "metadata": {},
   "outputs": [
    {
     "name": "stdout",
     "output_type": "stream",
     "text": [
      "HR=0.1404, MRR=0.1088, COV=0.1173\n"
     ]
    }
   ],
   "source": [
    "config = {\n",
    "    \"mlrank\": (5, 20, 10),\n",
    "    \"num_iters\": 2,\n",
    "    \"seed\": 42\n",
    "}\n",
    "\n",
    "tf_params = context_tf_model_build(config, train_data, data_description)\n",
    "tf_scores = tf_scoring(tf_params, None, data_description)\n",
    "tf_recs = topn_recommendations(tf_scores)\n",
    "\n",
    "out = evaluate(tf_recs, valid_holdout, data_description)\n",
    "\n",
    "results_dict['TF'] = out\n",
    "\n",
    "print('HR={:.4f}, MRR={:.4f}, COV={:.4f}'.format(*out))"
   ]
  },
  {
   "cell_type": "markdown",
   "metadata": {},
   "source": [
    "### Random"
   ]
  },
  {
   "cell_type": "code",
   "execution_count": 222,
   "metadata": {},
   "outputs": [
    {
     "name": "stdout",
     "output_type": "stream",
     "text": [
      "HR=0.0596, MRR=0.0474, COV=0.2800\n"
     ]
    }
   ],
   "source": [
    "rnd_params = build_rnd_model({'seed': 0}, None, data_description)\n",
    "rnd_scores = rnd_model_scoring(rnd_params, None, data_description)\n",
    "rnd_recs = topn_recommendations(rnd_scores)\n",
    "\n",
    "out = evaluate(rnd_recs, valid_holdout, data_description)\n",
    "\n",
    "results_dict['Random'] = out\n",
    "\n",
    "print('HR={:.4f}, MRR={:.4f}, COV={:.4f}'.format(*out))"
   ]
  },
  {
   "cell_type": "markdown",
   "metadata": {},
   "source": [
    "### Popularity-based"
   ]
  },
  {
   "cell_type": "code",
   "execution_count": 223,
   "metadata": {},
   "outputs": [
    {
     "name": "stdout",
     "output_type": "stream",
     "text": [
      "HR=0.1193, MRR=0.0947, COV=0.0533\n"
     ]
    }
   ],
   "source": [
    "pop_params = build_pop_model(None, train_data, data_description)\n",
    "pop_scores = pop_model_scoring(pop_params, None, data_description)\n",
    "pop_recs = topn_recommendations(pop_scores)\n",
    "\n",
    "out = evaluate(pop_recs, valid_holdout, data_description)\n",
    "\n",
    "results_dict['Pop-based'] = out\n",
    "\n",
    "print('HR={:.4f}, MRR={:.4f}, COV={:.4f}'.format(*out))"
   ]
  },
  {
   "cell_type": "markdown",
   "metadata": {},
   "source": [
    "### PureSVD"
   ]
  },
  {
   "cell_type": "code",
   "execution_count": 224,
   "metadata": {},
   "outputs": [
    {
     "name": "stdout",
     "output_type": "stream",
     "text": [
      "HR=0.1263, MRR=0.1070, COV=0.1202\n"
     ]
    }
   ],
   "source": [
    "svd_config = {'rank': 5}\n",
    "svd_params = build_svd_model(svd_config, train_data, data_description)\n",
    "svd_scores = svd_model_scoring(svd_params, train_data, data_description)\n",
    "svd_recs = topn_recommendations(svd_scores)\n",
    "\n",
    "out = evaluate(svd_recs, valid_holdout, data_description)\n",
    "\n",
    "results_dict['PureSVD'] = out\n",
    "\n",
    "print('HR={:.4f}, MRR={:.4f}, COV={:.4f}'.format(*out))"
   ]
  },
  {
   "cell_type": "code",
   "execution_count": 225,
   "metadata": {},
   "outputs": [
    {
     "data": {
      "text/html": [
       "<div>\n",
       "<style scoped>\n",
       "    .dataframe tbody tr th:only-of-type {\n",
       "        vertical-align: middle;\n",
       "    }\n",
       "\n",
       "    .dataframe tbody tr th {\n",
       "        vertical-align: top;\n",
       "    }\n",
       "\n",
       "    .dataframe thead th {\n",
       "        text-align: right;\n",
       "    }\n",
       "</style>\n",
       "<table border=\"1\" class=\"dataframe\">\n",
       "  <thead>\n",
       "    <tr style=\"text-align: right;\">\n",
       "      <th></th>\n",
       "      <th>TF</th>\n",
       "      <th>Random</th>\n",
       "      <th>Pop-based</th>\n",
       "      <th>PureSVD</th>\n",
       "    </tr>\n",
       "  </thead>\n",
       "  <tbody>\n",
       "    <tr>\n",
       "      <th>HR</th>\n",
       "      <td>0.140351</td>\n",
       "      <td>0.059649</td>\n",
       "      <td>0.119298</td>\n",
       "      <td>0.126316</td>\n",
       "    </tr>\n",
       "    <tr>\n",
       "      <th>MRR</th>\n",
       "      <td>0.108772</td>\n",
       "      <td>0.047368</td>\n",
       "      <td>0.094737</td>\n",
       "      <td>0.107018</td>\n",
       "    </tr>\n",
       "    <tr>\n",
       "      <th>COV</th>\n",
       "      <td>0.117347</td>\n",
       "      <td>0.280045</td>\n",
       "      <td>0.053288</td>\n",
       "      <td>0.120181</td>\n",
       "    </tr>\n",
       "  </tbody>\n",
       "</table>\n",
       "</div>"
      ],
      "text/plain": [
       "           TF    Random  Pop-based   PureSVD\n",
       "HR   0.140351  0.059649   0.119298  0.126316\n",
       "MRR  0.108772  0.047368   0.094737  0.107018\n",
       "COV  0.117347  0.280045   0.053288  0.120181"
      ]
     },
     "execution_count": 225,
     "metadata": {},
     "output_type": "execute_result"
    }
   ],
   "source": [
    "results_df = pd.DataFrame(results_dict, index=['HR', 'MRR', 'COV'])\n",
    "results_df"
   ]
  },
  {
   "cell_type": "code",
   "execution_count": 226,
   "metadata": {},
   "outputs": [
    {
     "data": {
      "text/plain": [
       "HR         TF\n",
       "MRR        TF\n",
       "COV    Random\n",
       "dtype: object"
      ]
     },
     "execution_count": 226,
     "metadata": {},
     "output_type": "execute_result"
    }
   ],
   "source": [
    "results_df.idxmax(axis=1)"
   ]
  },
  {
   "cell_type": "markdown",
   "metadata": {},
   "source": [
    "# Corollary"
   ]
  },
  {
   "cell_type": "markdown",
   "metadata": {},
   "source": [
    "As we can see, TF permorms best, however its not stable as it outputs different metrics. From the other side, it beats the rest of the approaches, and i also could assume, that if we will consider more dimensions, eg. trip type, it will imply more contextual information, which probably could affect our recommendations quality. Also its preddy expected, that Random model provides best coverage."
   ]
  }
 ],
 "metadata": {
  "interpreter": {
   "hash": "009c838d92940ae6fa3c0eca0f0908a58be7fe030119f0cd30e204cb459dcff7"
  },
  "kernelspec": {
   "display_name": "firstEnv",
   "language": "python",
   "name": "firstenv"
  },
  "language_info": {
   "codemirror_mode": {
    "name": "ipython",
    "version": 3
   },
   "file_extension": ".py",
   "mimetype": "text/x-python",
   "name": "python",
   "nbconvert_exporter": "python",
   "pygments_lexer": "ipython3",
   "version": "3.8.8"
  }
 },
 "nbformat": 4,
 "nbformat_minor": 2
}
