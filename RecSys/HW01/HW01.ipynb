{
 "cells": [
  {
   "cell_type": "markdown",
   "id": "c3ec9d63",
   "metadata": {},
   "source": [
    "## 1 Problem 1 (10 pts)\n",
    "**Theoretical Task**\n",
    "\n",
    "It is often stated, that pure content-based recommendation models provide very low level of personalization to users.\n",
    "\n",
    "Prove this claim using a standard regression-based formulation for the case when a single global model is learned in the form:\n",
    "$$\n",
    "r \\approx \\theta^{T} x+\\epsilon\n",
    "$$\n",
    "where vector $x$ encodes some features of both users and items (e.g., user attributes and item characteristics), and $\\theta$ are the corresponding learnable weights of the regression model. Recall that personalization task is formulated as the ranking problem of the top-$n$ best-matching items:\n",
    "$$\n",
    "\\operatorname{toprec}(u, n)=\\arg \\max _{i}^{n} r_{u i}\n",
    "$$\n",
    "where $r_{u i}$ is the relevance score assigned by the model to item $i$ for user $u$."
   ]
  },
  {
   "cell_type": "markdown",
   "id": "a70b73b4",
   "metadata": {},
   "source": [
    "$$\\arg \\max _{i}^{n} r_{u i} = \\arg \\max _{i}^{n} (\\theta^{T} x + \\epsilon)$$"
   ]
  },
  {
   "cell_type": "markdown",
   "id": "eaf4ad57",
   "metadata": {},
   "source": [
    "Let's clarify what we have:\n",
    "\n",
    "$\\theta^T$ - some learnable weights for both user and item features represented like:\n",
    "\n",
    "\n",
    "$$\\theta^T = (\\theta^T_{U}, \\theta^T_{I})\\text{, where $U$ stands for user and $I$ for item correspondigly.}$$\n",
    "\n",
    "$r_{ui}$ - predicted rating of item $i$ for user $u$:\n",
    "\n",
    "Thus, $r_{ui} \\approx \\theta^{T} x_{ui} + \\epsilon = \n",
    "(\\theta^T_{U}, \\theta^T_{I}) \\cdot \n",
    "\\left(\\begin{matrix}\n",
    "    x_u \\\\\n",
    "    y_i \\\\    \n",
    "\\end{matrix}\\right) = b_u + \\theta^T_{U}x_u + b_i + \\theta^T_{I}y_i\n",
    "$\n",
    "\n",
    "According to our model our predictions for items $i$ and $j$ will be ranked as follows:\n",
    "\n",
    "$\\Rightarrow \\Delta r = r_{ui} - r_{uj} = \\underbrace{b_u - b_u}_0 + \\underbrace{\\theta^T_{U}x_u - \\theta^T_{U}x_u}_0 + \\underbrace{b_i - b_j}_0 + \\theta^T_{I}y_i - \\theta^T_{I}y_j =$\n",
    "\n",
    "$= \\theta^T_{I}(y_i - y_j)$\n",
    "\n",
    "Well, now we can see, that our ranking approach doesn't really rely on user preferences."
   ]
  },
  {
   "cell_type": "markdown",
   "id": "3504ce04",
   "metadata": {},
   "source": [
    "## 2 Problem 2 (20 pts)\n",
    "**Content-based models with personalization**\n",
    "\n",
    "In this problem you will train simple content-based model for each user individually in order to achieve some level of personalization.\n",
    "1. Build collection of CB models on the anime data from Lecture 2 ( you are free to use any content-based approach (regression- or similarity-based) you like) and perform a standard evaluation (using material from Lecture 3).\n",
    "\n",
    "For evaluation you withhold one liked item from each of the test users (you can take the same users as were used in a simpler item-pair-based evaluation scheme in Lecture 2), and use the rest of the items from user history for training."
   ]
  },
  {
   "cell_type": "code",
   "execution_count": 1,
   "id": "b8d8e3f4",
   "metadata": {},
   "outputs": [],
   "source": [
    "%load_ext autoreload\n",
    "%autoreload 2"
   ]
  },
  {
   "cell_type": "code",
   "execution_count": 2,
   "id": "cc4ef3db",
   "metadata": {},
   "outputs": [],
   "source": [
    "import seaborn as sns\n",
    "import matplotlib.pyplot as plt\n",
    "\n",
    "import numpy as np \n",
    "import pandas as pd"
   ]
  },
  {
   "cell_type": "markdown",
   "id": "235b30d4",
   "metadata": {},
   "source": [
    "## Reading data"
   ]
  },
  {
   "cell_type": "code",
   "execution_count": 3,
   "id": "5c055852",
   "metadata": {},
   "outputs": [],
   "source": [
    "from dataproc import load_animes, load_profiles_reviews"
   ]
  },
  {
   "cell_type": "code",
   "execution_count": 4,
   "id": "532690ee",
   "metadata": {},
   "outputs": [],
   "source": [
    "dir_name = 'data/'"
   ]
  },
  {
   "cell_type": "code",
   "execution_count": 5,
   "id": "a7906762",
   "metadata": {},
   "outputs": [],
   "source": [
    "anime_path = f'{dir_name}animes.csv'\n",
    "profiles_path = f'{dir_name}profiles.csv'\n",
    "reviews_path = f'{dir_name}reviews.csv'"
   ]
  },
  {
   "cell_type": "code",
   "execution_count": 6,
   "id": "e696725e",
   "metadata": {},
   "outputs": [],
   "source": [
    "anime = load_animes(anime_path)\n",
    "reviews, profiles = load_profiles_reviews(reviews_path, profiles_path)"
   ]
  },
  {
   "cell_type": "code",
   "execution_count": 7,
   "id": "b6534a69",
   "metadata": {},
   "outputs": [
    {
     "data": {
      "text/html": [
       "<div>\n",
       "<style scoped>\n",
       "    .dataframe tbody tr th:only-of-type {\n",
       "        vertical-align: middle;\n",
       "    }\n",
       "\n",
       "    .dataframe tbody tr th {\n",
       "        vertical-align: top;\n",
       "    }\n",
       "\n",
       "    .dataframe thead th {\n",
       "        text-align: right;\n",
       "    }\n",
       "</style>\n",
       "<table border=\"1\" class=\"dataframe\">\n",
       "  <thead>\n",
       "    <tr style=\"text-align: right;\">\n",
       "      <th></th>\n",
       "      <th>anime_id</th>\n",
       "      <th>title</th>\n",
       "      <th>synopsis</th>\n",
       "      <th>genre</th>\n",
       "      <th>members</th>\n",
       "      <th>ranked</th>\n",
       "      <th>score</th>\n",
       "      <th>synopsis_ok</th>\n",
       "      <th>soup</th>\n",
       "    </tr>\n",
       "  </thead>\n",
       "  <tbody>\n",
       "  </tbody>\n",
       "</table>\n",
       "</div>"
      ],
      "text/plain": [
       "Empty DataFrame\n",
       "Columns: [anime_id, title, synopsis, genre, members, ranked, score, synopsis_ok, soup]\n",
       "Index: []"
      ]
     },
     "execution_count": 7,
     "metadata": {},
     "output_type": "execute_result"
    }
   ],
   "source": [
    "anime.query('score <= 0')"
   ]
  },
  {
   "cell_type": "code",
   "execution_count": 8,
   "id": "19dff3a6",
   "metadata": {},
   "outputs": [
    {
     "data": {
      "text/html": [
       "<div>\n",
       "<style scoped>\n",
       "    .dataframe tbody tr th:only-of-type {\n",
       "        vertical-align: middle;\n",
       "    }\n",
       "\n",
       "    .dataframe tbody tr th {\n",
       "        vertical-align: top;\n",
       "    }\n",
       "\n",
       "    .dataframe thead th {\n",
       "        text-align: right;\n",
       "    }\n",
       "</style>\n",
       "<table border=\"1\" class=\"dataframe\">\n",
       "  <thead>\n",
       "    <tr style=\"text-align: right;\">\n",
       "      <th></th>\n",
       "      <th>uid</th>\n",
       "      <th>profile</th>\n",
       "      <th>anime_id</th>\n",
       "      <th>text</th>\n",
       "      <th>score</th>\n",
       "      <th>scores</th>\n",
       "      <th>link</th>\n",
       "      <th>profile_idx</th>\n",
       "    </tr>\n",
       "  </thead>\n",
       "  <tbody>\n",
       "    <tr>\n",
       "      <th>63039</th>\n",
       "      <td>6424</td>\n",
       "      <td>Jackimus</td>\n",
       "      <td>226</td>\n",
       "      <td>\\n           \\n         \\n           \\n       ...</td>\n",
       "      <td>0</td>\n",
       "      <td>{'Overall': '0', 'Story': '0', 'Animation': '0...</td>\n",
       "      <td>https://myanimelist.net/reviews.php?id=6424</td>\n",
       "      <td>12220</td>\n",
       "    </tr>\n",
       "  </tbody>\n",
       "</table>\n",
       "</div>"
      ],
      "text/plain": [
       "        uid   profile  anime_id  \\\n",
       "63039  6424  Jackimus       226   \n",
       "\n",
       "                                                    text  score  \\\n",
       "63039  \\n           \\n         \\n           \\n       ...      0   \n",
       "\n",
       "                                                  scores  \\\n",
       "63039  {'Overall': '0', 'Story': '0', 'Animation': '0...   \n",
       "\n",
       "                                              link  profile_idx  \n",
       "63039  https://myanimelist.net/reviews.php?id=6424        12220  "
      ]
     },
     "execution_count": 8,
     "metadata": {},
     "output_type": "execute_result"
    }
   ],
   "source": [
    "reviews.query('score <= 0')"
   ]
  },
  {
   "cell_type": "code",
   "execution_count": 9,
   "id": "f87e02e7",
   "metadata": {},
   "outputs": [
    {
     "data": {
      "text/html": [
       "<div>\n",
       "<style scoped>\n",
       "    .dataframe tbody tr th:only-of-type {\n",
       "        vertical-align: middle;\n",
       "    }\n",
       "\n",
       "    .dataframe tbody tr th {\n",
       "        vertical-align: top;\n",
       "    }\n",
       "\n",
       "    .dataframe thead th {\n",
       "        text-align: right;\n",
       "    }\n",
       "</style>\n",
       "<table border=\"1\" class=\"dataframe\">\n",
       "  <thead>\n",
       "    <tr style=\"text-align: right;\">\n",
       "      <th></th>\n",
       "      <th>uid</th>\n",
       "      <th>profile</th>\n",
       "      <th>anime_id</th>\n",
       "      <th>text</th>\n",
       "      <th>score</th>\n",
       "      <th>scores</th>\n",
       "      <th>link</th>\n",
       "      <th>profile_idx</th>\n",
       "    </tr>\n",
       "  </thead>\n",
       "  <tbody>\n",
       "    <tr>\n",
       "      <th>0</th>\n",
       "      <td>255938</td>\n",
       "      <td>DesolatePsyche</td>\n",
       "      <td>34096</td>\n",
       "      <td>\\n           \\n         \\n           \\n       ...</td>\n",
       "      <td>8</td>\n",
       "      <td>{'Overall': '8', 'Story': '8', 'Animation': '8...</td>\n",
       "      <td>https://myanimelist.net/reviews.php?id=255938</td>\n",
       "      <td>6837</td>\n",
       "    </tr>\n",
       "  </tbody>\n",
       "</table>\n",
       "</div>"
      ],
      "text/plain": [
       "      uid         profile  anime_id  \\\n",
       "0  255938  DesolatePsyche     34096   \n",
       "\n",
       "                                                text  score  \\\n",
       "0  \\n           \\n         \\n           \\n       ...      8   \n",
       "\n",
       "                                              scores  \\\n",
       "0  {'Overall': '8', 'Story': '8', 'Animation': '8...   \n",
       "\n",
       "                                            link  profile_idx  \n",
       "0  https://myanimelist.net/reviews.php?id=255938         6837  "
      ]
     },
     "execution_count": 9,
     "metadata": {},
     "output_type": "execute_result"
    }
   ],
   "source": [
    "reviews_ = reviews.query('score > 0')\n",
    "reviews_.head(1)"
   ]
  },
  {
   "cell_type": "code",
   "execution_count": 10,
   "id": "5d63d1db",
   "metadata": {},
   "outputs": [
    {
     "data": {
      "text/html": [
       "<div>\n",
       "<style scoped>\n",
       "    .dataframe tbody tr th:only-of-type {\n",
       "        vertical-align: middle;\n",
       "    }\n",
       "\n",
       "    .dataframe tbody tr th {\n",
       "        vertical-align: top;\n",
       "    }\n",
       "\n",
       "    .dataframe thead th {\n",
       "        text-align: right;\n",
       "    }\n",
       "</style>\n",
       "<table border=\"1\" class=\"dataframe\">\n",
       "  <thead>\n",
       "    <tr style=\"text-align: right;\">\n",
       "      <th></th>\n",
       "      <th>anime_id</th>\n",
       "      <th>soup</th>\n",
       "    </tr>\n",
       "  </thead>\n",
       "  <tbody>\n",
       "    <tr>\n",
       "      <th>0</th>\n",
       "      <td>28891</td>\n",
       "      <td>following participation inter high karasuno hi...</td>\n",
       "    </tr>\n",
       "    <tr>\n",
       "      <th>1</th>\n",
       "      <td>23273</td>\n",
       "      <td>music accompanies path human metronome prodigi...</td>\n",
       "    </tr>\n",
       "    <tr>\n",
       "      <th>2</th>\n",
       "      <td>34599</td>\n",
       "      <td>abyss gaping chasm stretching depths earth fil...</td>\n",
       "    </tr>\n",
       "  </tbody>\n",
       "</table>\n",
       "</div>"
      ],
      "text/plain": [
       "   anime_id                                               soup\n",
       "0     28891  following participation inter high karasuno hi...\n",
       "1     23273  music accompanies path human metronome prodigi...\n",
       "2     34599  abyss gaping chasm stretching depths earth fil..."
      ]
     },
     "execution_count": 10,
     "metadata": {},
     "output_type": "execute_result"
    }
   ],
   "source": [
    "anime_ = anime[['anime_id', 'soup']]\n",
    "anime_.head(3)"
   ]
  },
  {
   "cell_type": "markdown",
   "id": "5db6e88f",
   "metadata": {},
   "source": [
    "Filter active users(20+ scores):"
   ]
  },
  {
   "cell_type": "code",
   "execution_count": 11,
   "id": "d57fd29d",
   "metadata": {},
   "outputs": [
    {
     "data": {
      "text/html": [
       "<div>\n",
       "<style scoped>\n",
       "    .dataframe tbody tr th:only-of-type {\n",
       "        vertical-align: middle;\n",
       "    }\n",
       "\n",
       "    .dataframe tbody tr th {\n",
       "        vertical-align: top;\n",
       "    }\n",
       "\n",
       "    .dataframe thead th {\n",
       "        text-align: right;\n",
       "    }\n",
       "</style>\n",
       "<table border=\"1\" class=\"dataframe\">\n",
       "  <thead>\n",
       "    <tr style=\"text-align: right;\">\n",
       "      <th></th>\n",
       "      <th>profile_idx</th>\n",
       "      <th>anime_id</th>\n",
       "      <th>score</th>\n",
       "    </tr>\n",
       "  </thead>\n",
       "  <tbody>\n",
       "    <tr>\n",
       "      <th>0</th>\n",
       "      <td>6837</td>\n",
       "      <td>34096</td>\n",
       "      <td>8</td>\n",
       "    </tr>\n",
       "    <tr>\n",
       "      <th>10</th>\n",
       "      <td>31705</td>\n",
       "      <td>4672</td>\n",
       "      <td>8</td>\n",
       "    </tr>\n",
       "    <tr>\n",
       "      <th>16</th>\n",
       "      <td>19694</td>\n",
       "      <td>30276</td>\n",
       "      <td>8</td>\n",
       "    </tr>\n",
       "  </tbody>\n",
       "</table>\n",
       "</div>"
      ],
      "text/plain": [
       "    profile_idx  anime_id  score\n",
       "0          6837     34096      8\n",
       "10        31705      4672      8\n",
       "16        19694     30276      8"
      ]
     },
     "execution_count": 11,
     "metadata": {},
     "output_type": "execute_result"
    }
   ],
   "source": [
    "users_ = reviews \\\n",
    ".loc[\n",
    "    reviews \\\n",
    "    .groupby('profile_idx')['anime_id'] \\\n",
    "    .transform('count') > 60 \\\n",
    "]\n",
    "\n",
    "users_ = users_[['profile_idx', 'anime_id', 'score']]\n",
    "users_.head(3)"
   ]
  },
  {
   "cell_type": "code",
   "execution_count": 12,
   "id": "23275fab",
   "metadata": {},
   "outputs": [
    {
     "data": {
      "text/html": [
       "<div>\n",
       "<style scoped>\n",
       "    .dataframe tbody tr th:only-of-type {\n",
       "        vertical-align: middle;\n",
       "    }\n",
       "\n",
       "    .dataframe tbody tr th {\n",
       "        vertical-align: top;\n",
       "    }\n",
       "\n",
       "    .dataframe thead th {\n",
       "        text-align: right;\n",
       "    }\n",
       "</style>\n",
       "<table border=\"1\" class=\"dataframe\">\n",
       "  <thead>\n",
       "    <tr style=\"text-align: right;\">\n",
       "      <th></th>\n",
       "      <th>profile_idx</th>\n",
       "      <th>anime_id</th>\n",
       "      <th>score</th>\n",
       "      <th>soup</th>\n",
       "    </tr>\n",
       "  </thead>\n",
       "  <tbody>\n",
       "    <tr>\n",
       "      <th>0</th>\n",
       "      <td>6837</td>\n",
       "      <td>34096</td>\n",
       "      <td>8</td>\n",
       "      <td>joining resistance bakufu gintoki gang hiding ...</td>\n",
       "    </tr>\n",
       "    <tr>\n",
       "      <th>1</th>\n",
       "      <td>11822</td>\n",
       "      <td>34096</td>\n",
       "      <td>7</td>\n",
       "      <td>joining resistance bakufu gintoki gang hiding ...</td>\n",
       "    </tr>\n",
       "    <tr>\n",
       "      <th>2</th>\n",
       "      <td>38867</td>\n",
       "      <td>34096</td>\n",
       "      <td>10</td>\n",
       "      <td>joining resistance bakufu gintoki gang hiding ...</td>\n",
       "    </tr>\n",
       "  </tbody>\n",
       "</table>\n",
       "</div>"
      ],
      "text/plain": [
       "   profile_idx  anime_id  score  \\\n",
       "0         6837     34096      8   \n",
       "1        11822     34096      7   \n",
       "2        38867     34096     10   \n",
       "\n",
       "                                                soup  \n",
       "0  joining resistance bakufu gintoki gang hiding ...  \n",
       "1  joining resistance bakufu gintoki gang hiding ...  \n",
       "2  joining resistance bakufu gintoki gang hiding ...  "
      ]
     },
     "execution_count": 12,
     "metadata": {},
     "output_type": "execute_result"
    }
   ],
   "source": [
    "data = pd.merge(users_, anime_, 'inner', 'anime_id')\n",
    "data.head(3)"
   ]
  },
  {
   "cell_type": "code",
   "execution_count": 13,
   "id": "5901a30f",
   "metadata": {},
   "outputs": [
    {
     "data": {
      "text/plain": [
       "109"
      ]
     },
     "execution_count": 13,
     "metadata": {},
     "output_type": "execute_result"
    }
   ],
   "source": [
    "users_.profile_idx.nunique()"
   ]
  },
  {
   "cell_type": "code",
   "execution_count": 14,
   "id": "9fa5eab7",
   "metadata": {},
   "outputs": [
    {
     "data": {
      "text/plain": [
       "109"
      ]
     },
     "execution_count": 14,
     "metadata": {},
     "output_type": "execute_result"
    }
   ],
   "source": [
    "data.profile_idx.nunique()"
   ]
  },
  {
   "cell_type": "markdown",
   "id": "dd61036a",
   "metadata": {},
   "source": [
    "## Preparation for training"
   ]
  },
  {
   "cell_type": "code",
   "execution_count": 15,
   "id": "d06ba27f",
   "metadata": {},
   "outputs": [],
   "source": [
    "from utils import leave_last_out"
   ]
  },
  {
   "cell_type": "code",
   "execution_count": 16,
   "id": "1ebe247e",
   "metadata": {},
   "outputs": [],
   "source": [
    "training, holdout = leave_last_out(data, 'score')"
   ]
  },
  {
   "cell_type": "code",
   "execution_count": 17,
   "id": "c8b70703",
   "metadata": {},
   "outputs": [
    {
     "data": {
      "text/html": [
       "<div>\n",
       "<style scoped>\n",
       "    .dataframe tbody tr th:only-of-type {\n",
       "        vertical-align: middle;\n",
       "    }\n",
       "\n",
       "    .dataframe tbody tr th {\n",
       "        vertical-align: top;\n",
       "    }\n",
       "\n",
       "    .dataframe thead th {\n",
       "        text-align: right;\n",
       "    }\n",
       "</style>\n",
       "<table border=\"1\" class=\"dataframe\">\n",
       "  <thead>\n",
       "    <tr style=\"text-align: right;\">\n",
       "      <th></th>\n",
       "      <th>profile_idx</th>\n",
       "      <th>anime_id</th>\n",
       "      <th>score</th>\n",
       "      <th>soup</th>\n",
       "    </tr>\n",
       "  </thead>\n",
       "  <tbody>\n",
       "    <tr>\n",
       "      <th>0</th>\n",
       "      <td>431</td>\n",
       "      <td>1530</td>\n",
       "      <td>2</td>\n",
       "      <td>young child aizawa yuuichi often visited cousi...</td>\n",
       "    </tr>\n",
       "    <tr>\n",
       "      <th>1</th>\n",
       "      <td>431</td>\n",
       "      <td>853</td>\n",
       "      <td>3</td>\n",
       "      <td>haruhi fujioka bright scholarship candidate ra...</td>\n",
       "    </tr>\n",
       "    <tr>\n",
       "      <th>2</th>\n",
       "      <td>431</td>\n",
       "      <td>8475</td>\n",
       "      <td>3</td>\n",
       "      <td>asura unrelentingly dark drama follows struggl...</td>\n",
       "    </tr>\n",
       "  </tbody>\n",
       "</table>\n",
       "</div>"
      ],
      "text/plain": [
       "   profile_idx  anime_id  score  \\\n",
       "0          431      1530      2   \n",
       "1          431       853      3   \n",
       "2          431      8475      3   \n",
       "\n",
       "                                                soup  \n",
       "0  young child aizawa yuuichi often visited cousi...  \n",
       "1  haruhi fujioka bright scholarship candidate ra...  \n",
       "2  asura unrelentingly dark drama follows struggl...  "
      ]
     },
     "execution_count": 17,
     "metadata": {},
     "output_type": "execute_result"
    }
   ],
   "source": [
    "training.head(3)"
   ]
  },
  {
   "cell_type": "code",
   "execution_count": 18,
   "id": "572e11d8",
   "metadata": {},
   "outputs": [
    {
     "data": {
      "text/html": [
       "<div>\n",
       "<style scoped>\n",
       "    .dataframe tbody tr th:only-of-type {\n",
       "        vertical-align: middle;\n",
       "    }\n",
       "\n",
       "    .dataframe tbody tr th {\n",
       "        vertical-align: top;\n",
       "    }\n",
       "\n",
       "    .dataframe thead th {\n",
       "        text-align: right;\n",
       "    }\n",
       "</style>\n",
       "<table border=\"1\" class=\"dataframe\">\n",
       "  <thead>\n",
       "    <tr style=\"text-align: right;\">\n",
       "      <th></th>\n",
       "      <th>profile_idx</th>\n",
       "      <th>anime_id</th>\n",
       "      <th>score</th>\n",
       "      <th>soup</th>\n",
       "    </tr>\n",
       "  </thead>\n",
       "  <tbody>\n",
       "    <tr>\n",
       "      <th>0</th>\n",
       "      <td>431</td>\n",
       "      <td>16774</td>\n",
       "      <td>10</td>\n",
       "      <td>jack knife edge town edgy sounds inferno cop s...</td>\n",
       "    </tr>\n",
       "    <tr>\n",
       "      <th>1</th>\n",
       "      <td>1002</td>\n",
       "      <td>35249</td>\n",
       "      <td>10</td>\n",
       "      <td>world much like great race horses past chance ...</td>\n",
       "    </tr>\n",
       "    <tr>\n",
       "      <th>2</th>\n",
       "      <td>1618</td>\n",
       "      <td>36864</td>\n",
       "      <td>10</td>\n",
       "      <td>despite incredible bashfulness atsuhiro akkun ...</td>\n",
       "    </tr>\n",
       "  </tbody>\n",
       "</table>\n",
       "</div>"
      ],
      "text/plain": [
       "   profile_idx  anime_id  score  \\\n",
       "0          431     16774     10   \n",
       "1         1002     35249     10   \n",
       "2         1618     36864     10   \n",
       "\n",
       "                                                soup  \n",
       "0  jack knife edge town edgy sounds inferno cop s...  \n",
       "1  world much like great race horses past chance ...  \n",
       "2  despite incredible bashfulness atsuhiro akkun ...  "
      ]
     },
     "execution_count": 18,
     "metadata": {},
     "output_type": "execute_result"
    }
   ],
   "source": [
    "holdout.head(3)"
   ]
  },
  {
   "cell_type": "markdown",
   "id": "95ca35a8",
   "metadata": {},
   "source": [
    "## Similarity-based approach"
   ]
  },
  {
   "cell_type": "code",
   "execution_count": 19,
   "id": "e6f44704",
   "metadata": {},
   "outputs": [],
   "source": [
    "from sklearn.feature_extraction.text import TfidfVectorizer\n",
    "\n",
    "from utils import get_user_profiles"
   ]
  },
  {
   "cell_type": "code",
   "execution_count": 22,
   "id": "9714f28c",
   "metadata": {},
   "outputs": [],
   "source": [
    "sim_config = {\n",
    "    'tfidf': dict(\n",
    "        ngram_range = (2, 2),\n",
    "        min_df=5, max_df=0.9,\n",
    "        strip_accents='unicode',\n",
    "        stop_words = 'english',\n",
    "        analyzer = 'word',\n",
    "        use_idf=1,\n",
    "        smooth_idf=1,\n",
    "        sublinear_tf=1\n",
    "    )\n",
    "}"
   ]
  },
  {
   "cell_type": "code",
   "execution_count": 23,
   "id": "69b10465",
   "metadata": {},
   "outputs": [],
   "source": [
    "vectorizer = TfidfVectorizer(**sim_config['tfidf'])"
   ]
  },
  {
   "cell_type": "code",
   "execution_count": 24,
   "id": "c6b882ce",
   "metadata": {},
   "outputs": [
    {
     "data": {
      "text/plain": [
       "(12838, 61602)"
      ]
     },
     "execution_count": 24,
     "metadata": {},
     "output_type": "execute_result"
    }
   ],
   "source": [
    "item_training = vectorizer.fit_transform(training['soup']).toarray()\n",
    "item_training.shape"
   ]
  },
  {
   "cell_type": "code",
   "execution_count": 25,
   "id": "f4abb012",
   "metadata": {},
   "outputs": [
    {
     "data": {
      "text/plain": [
       "(109, 61602)"
      ]
     },
     "execution_count": 25,
     "metadata": {},
     "output_type": "execute_result"
    }
   ],
   "source": [
    "item_holdout = vectorizer.transform(holdout['soup']).toarray()\n",
    "item_holdout.shape"
   ]
  },
  {
   "cell_type": "code",
   "execution_count": 26,
   "id": "17625416",
   "metadata": {},
   "outputs": [
    {
     "data": {
      "text/plain": [
       "(109, 61602)"
      ]
     },
     "execution_count": 26,
     "metadata": {},
     "output_type": "execute_result"
    }
   ],
   "source": [
    "users_profiles = get_user_profiles(item_training, training, holdout)\n",
    "users_profiles.shape"
   ]
  },
  {
   "cell_type": "code",
   "execution_count": 27,
   "id": "7929d3c8",
   "metadata": {},
   "outputs": [
    {
     "data": {
      "text/plain": [
       "(16216, 61602)"
      ]
     },
     "execution_count": 27,
     "metadata": {},
     "output_type": "execute_result"
    }
   ],
   "source": [
    "items_profiles = vectorizer.transform(anime_['soup']).toarray()\n",
    "items_profiles.shape"
   ]
  },
  {
   "cell_type": "code",
   "execution_count": 28,
   "id": "f5a34270",
   "metadata": {},
   "outputs": [],
   "source": [
    "from sklearn.metrics.pairwise import cosine_similarity"
   ]
  },
  {
   "cell_type": "code",
   "execution_count": 29,
   "id": "4fa214f7",
   "metadata": {},
   "outputs": [
    {
     "data": {
      "text/plain": [
       "(109, 16216)"
      ]
     },
     "execution_count": 29,
     "metadata": {},
     "output_type": "execute_result"
    }
   ],
   "source": [
    "sim_scores = cosine_similarity(users_profiles, items_profiles)\n",
    "sim_scores.shape"
   ]
  },
  {
   "cell_type": "markdown",
   "id": "da2536b4",
   "metadata": {},
   "source": [
    "## Evaluation"
   ]
  },
  {
   "cell_type": "code",
   "execution_count": 30,
   "id": "b09b2a35",
   "metadata": {},
   "outputs": [
    {
     "data": {
      "text/plain": [
       "array([ 10,  11,  12,  14,  16,  18,  20,  23,  26,  29,  33,  37,  42,\n",
       "        48,  54,  61,  69,  78,  88, 100])"
      ]
     },
     "execution_count": 30,
     "metadata": {},
     "output_type": "execute_result"
    }
   ],
   "source": [
    "topn_grid = np.logspace(1, 2, 20, dtype=int)\n",
    "topn_grid"
   ]
  },
  {
   "cell_type": "markdown",
   "id": "45ed2d2f",
   "metadata": {},
   "source": [
    "3. **Compare** your model with any two baselines from the list below. Report about the results.\n",
    "\n",
    "Possible models: [Random recommendations, Popularity-based, PopularityBased with Baesian averaging, Baseline predictors]"
   ]
  },
  {
   "cell_type": "markdown",
   "id": "4bb713ac",
   "metadata": {},
   "source": [
    "## Random approach"
   ]
  },
  {
   "cell_type": "code",
   "execution_count": 31,
   "id": "b9678ecc",
   "metadata": {},
   "outputs": [],
   "source": [
    "from utils import build_random_model, random_model_scoring"
   ]
  },
  {
   "cell_type": "code",
   "execution_count": 32,
   "id": "c03349e0",
   "metadata": {},
   "outputs": [],
   "source": [
    "rnd_params = build_random_model({'seed': 99}, training)\n",
    "rnd_scores = random_model_scoring(rnd_params, None, holdout.profile_idx.nunique())"
   ]
  },
  {
   "cell_type": "markdown",
   "id": "031d03d2",
   "metadata": {},
   "source": [
    "## Popularity-based approach"
   ]
  },
  {
   "cell_type": "code",
   "execution_count": 33,
   "id": "0c96f8c1",
   "metadata": {},
   "outputs": [],
   "source": [
    "from utils import build_popularity_model, popularity_model_scoring"
   ]
  },
  {
   "cell_type": "code",
   "execution_count": 34,
   "id": "e7688ce6",
   "metadata": {},
   "outputs": [],
   "source": [
    "pop_params = build_popularity_model({}, training)\n",
    "pop_scores = popularity_model_scoring(pop_params, None, holdout.profile_idx.nunique())"
   ]
  },
  {
   "cell_type": "code",
   "execution_count": 35,
   "id": "bb2eb28b",
   "metadata": {},
   "outputs": [],
   "source": [
    "from utils import plot_metric"
   ]
  },
  {
   "cell_type": "code",
   "execution_count": 36,
   "id": "814ab4f6",
   "metadata": {},
   "outputs": [],
   "source": [
    "scores_list = [\n",
    "    ('Cosine similarity', sim_scores),\n",
    "    ('Random recom', rnd_scores),\n",
    "    ('Pop recom', pop_scores)\n",
    "]"
   ]
  },
  {
   "cell_type": "code",
   "execution_count": 37,
   "id": "294d8986",
   "metadata": {},
   "outputs": [
    {
     "data": {
      "image/png": "[encoded data removed]",
      "text/plain": [
       "<Figure size 720x720 with 1 Axes>"
      ]
     },
     "metadata": {
      "needs_background": "light"
     },
     "output_type": "display_data"
    }
   ],
   "source": [
    "plot_metric('hr', topn_grid, scores_list, holdout, anime)"
   ]
  },
  {
   "cell_type": "code",
   "execution_count": 38,
   "id": "a4369421",
   "metadata": {},
   "outputs": [
    {
     "data": {
      "image/png": "[encoded data removed]",
      "text/plain": [
       "<Figure size 720x720 with 1 Axes>"
      ]
     },
     "metadata": {
      "needs_background": "light"
     },
     "output_type": "display_data"
    }
   ],
   "source": [
    "plot_metric('mrr', topn_grid, scores_list, holdout, anime)"
   ]
  },
  {
   "cell_type": "code",
   "execution_count": 39,
   "id": "0ccbef6b",
   "metadata": {},
   "outputs": [
    {
     "data": {
      "image/png": "[encoded data removed]",
      "text/plain": [
       "<Figure size 720x720 with 1 Axes>"
      ]
     },
     "metadata": {
      "needs_background": "light"
     },
     "output_type": "display_data"
    }
   ],
   "source": [
    "plot_metric('cov', topn_grid, scores_list, holdout, anime)"
   ]
  },
  {
   "cell_type": "markdown",
   "id": "76e30756",
   "metadata": {},
   "source": [
    "## Summary"
   ]
  },
  {
   "cell_type": "markdown",
   "id": "b5a797f1",
   "metadata": {},
   "source": [
    "Thus, popularity-based gives best **MRR** and **HR** scores, while random recommendations considered the most diverse, although cosine similarity performs not that bad in terms of diversity."
   ]
  },
  {
   "cell_type": "markdown",
   "id": "5fb851b2",
   "metadata": {},
   "source": [
    "## 3 Problem 3 (20 pts)\n",
    "**SVD models**\n",
    "\n",
    "Implement the normalized version of the PureSVD model and compare it to standard PureSVD. Recall that normalization is based on a scheme:\n",
    "$$\n",
    "\\boldsymbol{A} \\boldsymbol{D}^{f-1}\n",
    "$$\n",
    "where $f$ is a hyperparameter of the model that needs to be empirically found. $\\boldsymbol{A} \\in \\mathbb{R}^{M \\times N}$ is the original matrix of user-item interactions between $M$ users and $N$ items, and $\\boldsymbol{D} \\in \\mathbb{R}^{N \\times N}$ is a diagonal matrix of normalization weights obtained as norms of the corresponding rows of $A$, i.e. $[\\boldsymbol{D}]_{i i}=\\left\\|\\boldsymbol{a}_{i}\\right\\|_{2}$.\n",
    "\n",
    "Both models must be tuned using random gridsearch strategy. Use Moveilens dataset for your experiments. Split validation data from the training for tuning your models\n",
    "1. Peform gridsearch on a set of rank values from range $[20,200]$ and a set of values of $f$ from $[-1,0)$.\n",
    "2. Use MRR@10 metric as the target for finding the optimal model and also report HR@n and Coverage@n metrics in the final evaluation.\n",
    "3. Use simple leave-last-out scheme based on timestamps.\n",
    "\n",
    "Once the optimal configuration of a model is found retrain it on the joint train+validation dataset and finally evaluate it against the test data."
   ]
  },
  {
   "cell_type": "code",
   "execution_count": 40,
   "id": "efde0abb",
   "metadata": {},
   "outputs": [],
   "source": [
    "from polara import get_movielens_data\n",
    "from polara.preprocessing.dataframes import leave_one_out, reindex\n",
    "\n",
    "from scipy.sparse import csr_matrix\n",
    "from scipy.sparse.linalg import svds, LinearOperator\n",
    "\n",
    "from dataprep import transform_indices"
   ]
  },
  {
   "cell_type": "code",
   "execution_count": 41,
   "id": "fc649458",
   "metadata": {},
   "outputs": [],
   "source": [
    "data = get_movielens_data(include_time=True)"
   ]
  },
  {
   "cell_type": "code",
   "execution_count": 42,
   "id": "41b1678f",
   "metadata": {},
   "outputs": [],
   "source": [
    "training_, holdout_ = leave_one_out(data, target='timestamp', sample_top=True, random_state=0)\n",
    "\n",
    "assert holdout_.set_index('userid')['timestamp'].ge(\n",
    "    training_\n",
    "    .groupby('userid')\n",
    "    ['timestamp'].max()\n",
    ").all()"
   ]
  },
  {
   "cell_type": "code",
   "execution_count": 43,
   "id": "34e53949",
   "metadata": {},
   "outputs": [
    {
     "name": "stdout",
     "output_type": "stream",
     "text": [
      "Filtered 2 invalid observations.\n"
     ]
    }
   ],
   "source": [
    "training, data_index = transform_indices(training_, 'userid', 'movieid')\n",
    "holdout = reindex(holdout_, data_index.values(), filter_invalid=True)\n",
    "holdout = holdout.sort_values('userid')"
   ]
  },
  {
   "cell_type": "code",
   "execution_count": 44,
   "id": "e8b81b05",
   "metadata": {},
   "outputs": [
    {
     "data": {
      "text/html": [
       "<div>\n",
       "<style scoped>\n",
       "    .dataframe tbody tr th:only-of-type {\n",
       "        vertical-align: middle;\n",
       "    }\n",
       "\n",
       "    .dataframe tbody tr th {\n",
       "        vertical-align: top;\n",
       "    }\n",
       "\n",
       "    .dataframe thead th {\n",
       "        text-align: right;\n",
       "    }\n",
       "</style>\n",
       "<table border=\"1\" class=\"dataframe\">\n",
       "  <thead>\n",
       "    <tr style=\"text-align: right;\">\n",
       "      <th></th>\n",
       "      <th>userid</th>\n",
       "      <th>movieid</th>\n",
       "      <th>rating</th>\n",
       "      <th>timestamp</th>\n",
       "    </tr>\n",
       "  </thead>\n",
       "  <tbody>\n",
       "    <tr>\n",
       "      <th>25</th>\n",
       "      <td>0</td>\n",
       "      <td>47</td>\n",
       "      <td>5</td>\n",
       "      <td>978824351</td>\n",
       "    </tr>\n",
       "    <tr>\n",
       "      <th>87</th>\n",
       "      <td>1</td>\n",
       "      <td>1420</td>\n",
       "      <td>4</td>\n",
       "      <td>978300174</td>\n",
       "    </tr>\n",
       "    <tr>\n",
       "      <th>232</th>\n",
       "      <td>2</td>\n",
       "      <td>1900</td>\n",
       "      <td>4</td>\n",
       "      <td>978298504</td>\n",
       "    </tr>\n",
       "  </tbody>\n",
       "</table>\n",
       "</div>"
      ],
      "text/plain": [
       "     userid  movieid  rating  timestamp\n",
       "25        0       47       5  978824351\n",
       "87        1     1420       4  978300174\n",
       "232       2     1900       4  978298504"
      ]
     },
     "execution_count": 44,
     "metadata": {},
     "output_type": "execute_result"
    }
   ],
   "source": [
    "holdout.head(3)"
   ]
  },
  {
   "cell_type": "code",
   "execution_count": 87,
   "id": "d893d8b8",
   "metadata": {},
   "outputs": [],
   "source": [
    "data_description = dict(\n",
    "    users = data_index['users'].name,\n",
    "    items = data_index['items'].name,\n",
    "    feedback = 'rating',\n",
    "    n_users = len(data_index['users']),\n",
    "    n_items = len(data_index['items']),\n",
    ")"
   ]
  },
  {
   "cell_type": "markdown",
   "id": "ff1ed1dc",
   "metadata": {},
   "source": [
    "## PureSVD"
   ]
  },
  {
   "cell_type": "code",
   "execution_count": 88,
   "id": "e9f16d81",
   "metadata": {},
   "outputs": [],
   "source": [
    "def matrix_from_observations(data, data_description):\n",
    "    useridx = data[data_description['users']]\n",
    "    itemidx = data[data_description['items']]\n",
    "    values = data[data_description['feedback']]\n",
    "    return csr_matrix((values, (useridx, itemidx)), dtype='f8')\n",
    "\n",
    "def build_svd_model(config, data, data_description):\n",
    "    source_matrix = matrix_from_observations(data, data_description)\n",
    "    _, s, vt = svds(source_matrix, k=config['rank'], return_singular_vectors='vh')\n",
    "    singular_values = s[::-1]\n",
    "    item_factors = np.ascontiguousarray(vt[::-1, :].T)\n",
    "    return item_factors, singular_values"
   ]
  },
  {
   "cell_type": "code",
   "execution_count": 89,
   "id": "fa78b43a",
   "metadata": {},
   "outputs": [],
   "source": [
    "svd_config = {'rank': 200}\n",
    "\n",
    "V, sigma = svd_params = build_svd_model(svd_config, training, data_description)"
   ]
  },
  {
   "cell_type": "code",
   "execution_count": 90,
   "id": "bb83762d",
   "metadata": {},
   "outputs": [
    {
     "data": {
      "image/png": "[encoded data removed]",
      "text/plain": [
       "<Figure size 432x288 with 1 Axes>"
      ]
     },
     "metadata": {
      "needs_background": "light"
     },
     "output_type": "display_data"
    }
   ],
   "source": [
    "pd.Series(sigma).plot(title='Top singular values', xlabel='rank');"
   ]
  },
  {
   "cell_type": "markdown",
   "id": "0bae7c79",
   "metadata": {},
   "source": [
    "## Evaluation"
   ]
  },
  {
   "cell_type": "code",
   "execution_count": 91,
   "id": "c7014d84",
   "metadata": {},
   "outputs": [],
   "source": [
    "def svd_model_scoring(params, data, data_description):\n",
    "    item_factors, sigma = params\n",
    "    train_matrix = data_description['train_matrix']\n",
    "    test_users = data_description['test_users']\n",
    "    test_matrix = train_matrix[test_users, :]\n",
    "    scores = test_matrix.dot(item_factors) @ item_factors.T\n",
    "    return scores"
   ]
  },
  {
   "cell_type": "code",
   "execution_count": 92,
   "id": "b7bc61a9",
   "metadata": {},
   "outputs": [],
   "source": [
    "train_matrix = matrix_from_observations(training, data_description)"
   ]
  },
  {
   "cell_type": "code",
   "execution_count": 93,
   "id": "43de68f5",
   "metadata": {},
   "outputs": [],
   "source": [
    "data_description['train_matrix'] = train_matrix\n",
    "test_users = holdout[data_description['users']].drop_duplicates().values\n",
    "data_description['test_users'] = test_users"
   ]
  },
  {
   "cell_type": "code",
   "execution_count": 94,
   "id": "a5ff2c82",
   "metadata": {},
   "outputs": [],
   "source": [
    "svd_scores = svd_model_scoring(svd_params, None, data_description)"
   ]
  },
  {
   "cell_type": "code",
   "execution_count": 95,
   "id": "d9dc9c1c",
   "metadata": {},
   "outputs": [],
   "source": [
    "from utils import simple_model_recom_func"
   ]
  },
  {
   "cell_type": "code",
   "execution_count": 96,
   "id": "2e6ce9c5",
   "metadata": {},
   "outputs": [],
   "source": [
    "svd_rec = simple_model_recom_func(svd_scores, topn=10)"
   ]
  },
  {
   "cell_type": "code",
   "execution_count": 116,
   "id": "c1212c0d",
   "metadata": {},
   "outputs": [],
   "source": [
    "def model_evaluate(recommended_items, holdout, data, topn=10):\n",
    "    holdout_items = holdout.movieid.values\n",
    "    assert recommended_items.shape[0] == len(holdout)\n",
    "    hits_mask = recommended_items[:, :topn] == holdout_items.reshape(-1, 1)\n",
    "    \n",
    "    # HR calculation\n",
    "    hr = np.mean(hits_mask.any(axis=1))\n",
    "    \n",
    "    # MRR calculation\n",
    "    n_test_users = recommended_items.shape[0]\n",
    "    hit_rank = np.where(hits_mask)[1] + 1.0\n",
    "    mrr = np.sum(1 / hit_rank) / len(hits_mask)\n",
    "    \n",
    "    # coverage calculation\n",
    "    coverage = len(np.unique(recommended_items)) / data.movieid.nunique()\n",
    "    \n",
    "    return round(hr, 4), round(mrr, 4), round(coverage, 4)"
   ]
  },
  {
   "cell_type": "code",
   "execution_count": 117,
   "id": "2197d975",
   "metadata": {},
   "outputs": [
    {
     "data": {
      "text/plain": [
       "(0.0033, 0.0004, 0.1846)"
      ]
     },
     "execution_count": 117,
     "metadata": {},
     "output_type": "execute_result"
    }
   ],
   "source": [
    "model_evaluate(svd_rec, holdout, data, topn=10)"
   ]
  },
  {
   "cell_type": "markdown",
   "id": "92705f92",
   "metadata": {},
   "source": [
    "## Normalized SVD"
   ]
  },
  {
   "cell_type": "code",
   "execution_count": 118,
   "id": "b6de1012",
   "metadata": {},
   "outputs": [],
   "source": [
    "from scipy.sparse import diags\n",
    "import numpy.linalg as nla\n",
    "\n",
    "from scipy.sparse.linalg import svds"
   ]
  },
  {
   "cell_type": "code",
   "execution_count": 119,
   "id": "29e16088",
   "metadata": {},
   "outputs": [
    {
     "data": {
      "text/html": [
       "<div>\n",
       "<style scoped>\n",
       "    .dataframe tbody tr th:only-of-type {\n",
       "        vertical-align: middle;\n",
       "    }\n",
       "\n",
       "    .dataframe tbody tr th {\n",
       "        vertical-align: top;\n",
       "    }\n",
       "\n",
       "    .dataframe thead th {\n",
       "        text-align: right;\n",
       "    }\n",
       "</style>\n",
       "<table border=\"1\" class=\"dataframe\">\n",
       "  <thead>\n",
       "    <tr style=\"text-align: right;\">\n",
       "      <th>movieid</th>\n",
       "      <th>0</th>\n",
       "      <th>1</th>\n",
       "      <th>2</th>\n",
       "      <th>3</th>\n",
       "      <th>4</th>\n",
       "      <th>5</th>\n",
       "      <th>6</th>\n",
       "      <th>7</th>\n",
       "      <th>8</th>\n",
       "      <th>9</th>\n",
       "      <th>...</th>\n",
       "      <th>3694</th>\n",
       "      <th>3695</th>\n",
       "      <th>3696</th>\n",
       "      <th>3697</th>\n",
       "      <th>3698</th>\n",
       "      <th>3699</th>\n",
       "      <th>3700</th>\n",
       "      <th>3701</th>\n",
       "      <th>3702</th>\n",
       "      <th>3703</th>\n",
       "    </tr>\n",
       "    <tr>\n",
       "      <th>userid</th>\n",
       "      <th></th>\n",
       "      <th></th>\n",
       "      <th></th>\n",
       "      <th></th>\n",
       "      <th></th>\n",
       "      <th></th>\n",
       "      <th></th>\n",
       "      <th></th>\n",
       "      <th></th>\n",
       "      <th></th>\n",
       "      <th></th>\n",
       "      <th></th>\n",
       "      <th></th>\n",
       "      <th></th>\n",
       "      <th></th>\n",
       "      <th></th>\n",
       "      <th></th>\n",
       "      <th></th>\n",
       "      <th></th>\n",
       "      <th></th>\n",
       "      <th></th>\n",
       "    </tr>\n",
       "  </thead>\n",
       "  <tbody>\n",
       "    <tr>\n",
       "      <th>0</th>\n",
       "      <td>5</td>\n",
       "      <td>0</td>\n",
       "      <td>0</td>\n",
       "      <td>0</td>\n",
       "      <td>0</td>\n",
       "      <td>0</td>\n",
       "      <td>0</td>\n",
       "      <td>0</td>\n",
       "      <td>0</td>\n",
       "      <td>0</td>\n",
       "      <td>...</td>\n",
       "      <td>0</td>\n",
       "      <td>0</td>\n",
       "      <td>0</td>\n",
       "      <td>0</td>\n",
       "      <td>0</td>\n",
       "      <td>0</td>\n",
       "      <td>0</td>\n",
       "      <td>0</td>\n",
       "      <td>0</td>\n",
       "      <td>0</td>\n",
       "    </tr>\n",
       "    <tr>\n",
       "      <th>1</th>\n",
       "      <td>0</td>\n",
       "      <td>0</td>\n",
       "      <td>0</td>\n",
       "      <td>0</td>\n",
       "      <td>0</td>\n",
       "      <td>0</td>\n",
       "      <td>0</td>\n",
       "      <td>0</td>\n",
       "      <td>0</td>\n",
       "      <td>0</td>\n",
       "      <td>...</td>\n",
       "      <td>0</td>\n",
       "      <td>0</td>\n",
       "      <td>0</td>\n",
       "      <td>0</td>\n",
       "      <td>0</td>\n",
       "      <td>0</td>\n",
       "      <td>0</td>\n",
       "      <td>0</td>\n",
       "      <td>0</td>\n",
       "      <td>0</td>\n",
       "    </tr>\n",
       "    <tr>\n",
       "      <th>2</th>\n",
       "      <td>0</td>\n",
       "      <td>0</td>\n",
       "      <td>0</td>\n",
       "      <td>0</td>\n",
       "      <td>0</td>\n",
       "      <td>0</td>\n",
       "      <td>0</td>\n",
       "      <td>0</td>\n",
       "      <td>0</td>\n",
       "      <td>0</td>\n",
       "      <td>...</td>\n",
       "      <td>0</td>\n",
       "      <td>0</td>\n",
       "      <td>0</td>\n",
       "      <td>0</td>\n",
       "      <td>0</td>\n",
       "      <td>0</td>\n",
       "      <td>0</td>\n",
       "      <td>0</td>\n",
       "      <td>0</td>\n",
       "      <td>0</td>\n",
       "    </tr>\n",
       "  </tbody>\n",
       "</table>\n",
       "<p>3 rows × 3704 columns</p>\n",
       "</div>"
      ],
      "text/plain": [
       "movieid  0     1     2     3     4     5     6     7     8     9     ...  \\\n",
       "userid                                                               ...   \n",
       "0           5     0     0     0     0     0     0     0     0     0  ...   \n",
       "1           0     0     0     0     0     0     0     0     0     0  ...   \n",
       "2           0     0     0     0     0     0     0     0     0     0  ...   \n",
       "\n",
       "movieid  3694  3695  3696  3697  3698  3699  3700  3701  3702  3703  \n",
       "userid                                                               \n",
       "0           0     0     0     0     0     0     0     0     0     0  \n",
       "1           0     0     0     0     0     0     0     0     0     0  \n",
       "2           0     0     0     0     0     0     0     0     0     0  \n",
       "\n",
       "[3 rows x 3704 columns]"
      ]
     },
     "execution_count": 119,
     "metadata": {},
     "output_type": "execute_result"
    }
   ],
   "source": [
    "train_matrix = training[['userid', 'movieid', 'rating']].pivot_table(index='userid', columns='movieid', aggfunc=np.sum, fill_value=0, values='rating')\n",
    "train_matrix.head(3)"
   ]
  },
  {
   "cell_type": "code",
   "execution_count": 120,
   "id": "8631eba3",
   "metadata": {},
   "outputs": [],
   "source": [
    "def build_normed_svd_model(config, data, data_description):\n",
    "    source_matrix = matrix_from_observations(data, data_description)\n",
    "    _, s, vt = svds(source_matrix.dot(config['norm']), k=config['rank'], return_singular_vectors='vh')\n",
    "    singular_values = s[::-1]\n",
    "    item_factors = np.ascontiguousarray(vt[::-1, :].T)\n",
    "    return item_factors, singular_values"
   ]
  },
  {
   "cell_type": "markdown",
   "id": "ff893d30",
   "metadata": {},
   "source": [
    "## GridSearch"
   ]
  },
  {
   "cell_type": "code",
   "execution_count": 121,
   "id": "8123cb1d",
   "metadata": {},
   "outputs": [],
   "source": [
    "from tqdm import tqdm"
   ]
  },
  {
   "cell_type": "code",
   "execution_count": 122,
   "id": "91acb15a",
   "metadata": {},
   "outputs": [
    {
     "name": "stderr",
     "output_type": "stream",
     "text": [
      "100%|██████████| 20/20 [00:09<00:00,  2.19it/s]\n",
      "100%|██████████| 20/20 [00:42<00:00,  2.13s/it]\n"
     ]
    },
    {
     "data": {
      "text/plain": [
       "(0.0067, 20, -1.0)"
      ]
     },
     "execution_count": 122,
     "metadata": {},
     "output_type": "execute_result"
    }
   ],
   "source": [
    "svd_config = {}\n",
    "\n",
    "top_mrr = 0.\n",
    "top_rank = -1\n",
    "top_f = 10\n",
    "\n",
    "for rank in [20, 200]:\n",
    "    \n",
    "    svd_config['rank'] = rank\n",
    "    \n",
    "    for f in tqdm(np.linspace(-1, 0, 20)):\n",
    "    \n",
    "        svd_config['norm'] = diags([nla.norm(train_matrix.values, ord=2, axis=0, keepdims=False) ** (f - 1.0)], [0])\n",
    "\n",
    "        V, sigma = svd_params = build_svd_model(svd_config, training, data_description)\n",
    "\n",
    "        svd_scores = svd_model_scoring(svd_params, None, data_description)\n",
    "        norm_svd_rec = simple_model_recom_func(svd_scores, topn=10)\n",
    "        mrr_val = model_evaluate(norm_svd_rec, holdout, data, topn=10)[1]\n",
    "\n",
    "        if mrr_val > top_mrr:\n",
    "            top_mrr = mrr_val\n",
    "            top_rank = rank\n",
    "            top_f = f\n",
    "            \n",
    "top_mrr, top_rank, top_f"
   ]
  },
  {
   "cell_type": "code",
   "execution_count": 123,
   "id": "96a58275",
   "metadata": {},
   "outputs": [],
   "source": [
    "svd_config = {'rank': top_rank, 'f': top_f}"
   ]
  },
  {
   "cell_type": "code",
   "execution_count": 124,
   "id": "6a1fe19b",
   "metadata": {},
   "outputs": [],
   "source": [
    "svd_config['norm'] = diags([nla.norm(train_matrix.values, ord=2, axis=0, keepdims=False) ** (svd_config['f'] - 1.0)], [0])"
   ]
  },
  {
   "cell_type": "code",
   "execution_count": 125,
   "id": "b395f195",
   "metadata": {},
   "outputs": [],
   "source": [
    "V, sigma = svd_params = build_svd_model(svd_config, training, data_description)\n",
    "\n",
    "best_svd_scores = svd_model_scoring(svd_params, None, data_description)\n",
    "best_svd_rec = simple_model_recom_func(best_svd_scores, topn=10)"
   ]
  },
  {
   "cell_type": "code",
   "execution_count": 137,
   "id": "cb48635c",
   "metadata": {},
   "outputs": [
    {
     "name": "stdout",
     "output_type": "stream",
     "text": [
      "Pure SVD:\n",
      "\n",
      "HR \t MRR \t coverage\n",
      "0.0033\t0.0004\t0.1846\n"
     ]
    }
   ],
   "source": [
    "print('Pure SVD:\\n')\n",
    "\n",
    "print('HR \\t MRR \\t coverage')\n",
    "\n",
    "print(*model_evaluate(svd_rec, holdout, data, topn=10), sep='\\t')"
   ]
  },
  {
   "cell_type": "code",
   "execution_count": 138,
   "id": "472eae44",
   "metadata": {},
   "outputs": [
    {
     "name": "stdout",
     "output_type": "stream",
     "text": [
      "Normalised SVD:\n",
      "\n",
      "HR \t MRR \t coverage\n",
      "0.0257\t0.0067\t0.102\n"
     ]
    }
   ],
   "source": [
    "print('Normalised SVD:\\n')\n",
    "\n",
    "print('HR \\t MRR \\t coverage')\n",
    "\n",
    "print(*model_evaluate(best_svd_rec, holdout, data, topn=10), sep='\\t')"
   ]
  },
  {
   "cell_type": "markdown",
   "id": "c1fec5eb",
   "metadata": {},
   "source": [
    "## Summary"
   ]
  },
  {
   "cell_type": "markdown",
   "id": "d04d7a03",
   "metadata": {},
   "source": [
    "Thus, we achieved our desired **MRR** score as a result of normalised SVD application"
   ]
  }
 ],
 "metadata": {
  "kernelspec": {
   "display_name": "firstEnv",
   "language": "python",
   "name": "firstenv"
  },
  "language_info": {
   "codemirror_mode": {
    "name": "ipython",
    "version": 3
   },
   "file_extension": ".py",
   "mimetype": "text/x-python",
   "name": "python",
   "nbconvert_exporter": "python",
   "pygments_lexer": "ipython3",
   "version": "3.8.8"
  }
 },
 "nbformat": 4,
 "nbformat_minor": 5
}
