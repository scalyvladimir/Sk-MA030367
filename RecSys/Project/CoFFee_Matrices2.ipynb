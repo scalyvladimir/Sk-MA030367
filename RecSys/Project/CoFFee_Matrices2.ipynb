{
 "cells": [
  {
   "cell_type": "code",
   "execution_count": 3,
   "metadata": {
    "ExecuteTime": {
     "end_time": "2022-03-23T19:17:17.898303Z",
     "start_time": "2022-03-23T19:17:17.015780Z"
    },
    "id": "9HypuHRWZdHc"
   },
   "outputs": [],
   "source": [
    "import numpy as np\n",
    "import pandas as pd\n",
    "from tqdm.notebook import tqdm\n",
    "\n",
    "import polara\n",
    "from polara import get_movielens_data\n",
    "from polara.preprocessing.dataframes import leave_one_out, reindex\n",
    "\n",
    "from dataprep import transform_indices\n",
    "from evaluation import topn_recommendations, model_evaluate, downvote_seen_items\n",
    "\n",
    "from polara.lib.tensor import hooi\n",
    "from polara.lib.sparse import tensor_outer_at\n",
    "\n",
    "from sa_hooi import sa_hooi, form_attention_matrix, get_scaling_weights, generate_position_projector\n",
    "\n",
    "from scipy.sparse import csr_matrix"
   ]
  },
  {
   "cell_type": "code",
   "execution_count": 1,
   "metadata": {
    "colab": {
     "base_uri": "https://localhost:8080/"
    },
    "id": "8MKL5R0tZfVu",
    "outputId": "ad33b6b8-c268-40f1-acbb-9e76939c8df0"
   },
   "outputs": [
    {
     "name": "stdout",
     "output_type": "stream",
     "text": [
      "Collecting polara\n",
      "  Cloning https://github.com/evfro/polara.git (to revision develop) to /tmp/pip-install-e0gwdjlv/polara_f31ec3749fd9403bac3ebbf7baaa5481\n",
      "  Running command git clone -q https://github.com/evfro/polara.git /tmp/pip-install-e0gwdjlv/polara_f31ec3749fd9403bac3ebbf7baaa5481\n",
      "  Running command git checkout -b develop --track origin/develop\n",
      "  Switched to a new branch 'develop'\n",
      "  Branch 'develop' set up to track remote branch 'develop' from 'origin'.\n",
      "Building wheels for collected packages: polara\n",
      "  Building wheel for polara (setup.py) ... \u001b[?25l\u001b[?25hdone\n",
      "  Created wheel for polara: filename=polara-0.7.2.dev0-py3-none-any.whl size=87177 sha256=6223186f87246ed35b0c79d2b261d12f8acdc7edeba704f3e049ca776221b721\n",
      "  Stored in directory: /tmp/pip-ephem-wheel-cache-a5zk_8kf/wheels/19/88/81/920c4189a6b0b92f19b02f18fcb44ded22ae852f7b09ab2e28\n",
      "Successfully built polara\n",
      "Installing collected packages: polara\n",
      "Successfully installed polara-0.7.2.dev0\n"
     ]
    }
   ],
   "source": [
    "!pip install --no-cache-dir --upgrade git+https://github.com/evfro/polara.git@develop#egg=polara"
   ]
  },
  {
   "cell_type": "markdown",
   "metadata": {
    "id": "qQVHAQcPZdHh"
   },
   "source": [
    "# Data preparation"
   ]
  },
  {
   "cell_type": "code",
   "execution_count": 4,
   "metadata": {
    "ExecuteTime": {
     "end_time": "2022-03-23T19:17:19.241858Z",
     "start_time": "2022-03-23T19:17:18.892784Z"
    },
    "id": "jhaCBRD4ZdHj"
   },
   "outputs": [],
   "source": [
    "data = get_movielens_data(include_time=True)"
   ]
  },
  {
   "cell_type": "code",
   "execution_count": 5,
   "metadata": {
    "ExecuteTime": {
     "end_time": "2022-03-23T19:17:19.669449Z",
     "start_time": "2022-03-23T19:17:19.656448Z"
    },
    "colab": {
     "base_uri": "https://localhost:8080/",
     "height": 206
    },
    "id": "8oFMSFSsZdHk",
    "outputId": "c193cf2a-1aeb-489c-c7aa-b415af0e019a"
   },
   "outputs": [
    {
     "data": {
      "text/html": [
       "\n",
       "  <div id=\"df-b73b9800-6abc-4ff6-880a-232c5b734808\">\n",
       "    <div class=\"colab-df-container\">\n",
       "      <div>\n",
       "<style scoped>\n",
       "    .dataframe tbody tr th:only-of-type {\n",
       "        vertical-align: middle;\n",
       "    }\n",
       "\n",
       "    .dataframe tbody tr th {\n",
       "        vertical-align: top;\n",
       "    }\n",
       "\n",
       "    .dataframe thead th {\n",
       "        text-align: right;\n",
       "    }\n",
       "</style>\n",
       "<table border=\"1\" class=\"dataframe\">\n",
       "  <thead>\n",
       "    <tr style=\"text-align: right;\">\n",
       "      <th></th>\n",
       "      <th>userid</th>\n",
       "      <th>movieid</th>\n",
       "      <th>rating</th>\n",
       "      <th>timestamp</th>\n",
       "    </tr>\n",
       "  </thead>\n",
       "  <tbody>\n",
       "    <tr>\n",
       "      <th>0</th>\n",
       "      <td>1</td>\n",
       "      <td>1193</td>\n",
       "      <td>5</td>\n",
       "      <td>978300760</td>\n",
       "    </tr>\n",
       "    <tr>\n",
       "      <th>1</th>\n",
       "      <td>1</td>\n",
       "      <td>661</td>\n",
       "      <td>3</td>\n",
       "      <td>978302109</td>\n",
       "    </tr>\n",
       "    <tr>\n",
       "      <th>2</th>\n",
       "      <td>1</td>\n",
       "      <td>914</td>\n",
       "      <td>3</td>\n",
       "      <td>978301968</td>\n",
       "    </tr>\n",
       "    <tr>\n",
       "      <th>3</th>\n",
       "      <td>1</td>\n",
       "      <td>3408</td>\n",
       "      <td>4</td>\n",
       "      <td>978300275</td>\n",
       "    </tr>\n",
       "    <tr>\n",
       "      <th>4</th>\n",
       "      <td>1</td>\n",
       "      <td>2355</td>\n",
       "      <td>5</td>\n",
       "      <td>978824291</td>\n",
       "    </tr>\n",
       "  </tbody>\n",
       "</table>\n",
       "</div>\n",
       "      <button class=\"colab-df-convert\" onclick=\"convertToInteractive('df-b73b9800-6abc-4ff6-880a-232c5b734808')\"\n",
       "              title=\"Convert this dataframe to an interactive table.\"\n",
       "              style=\"display:none;\">\n",
       "        \n",
       "  <svg xmlns=\"http://www.w3.org/2000/svg\" height=\"24px\"viewBox=\"0 0 24 24\"\n",
       "       width=\"24px\">\n",
       "    <path d=\"M0 0h24v24H0V0z\" fill=\"none\"/>\n",
       "    <path d=\"M18.56 5.44l.94 2.06.94-2.06 2.06-.94-2.06-.94-.94-2.06-.94 2.06-2.06.94zm-11 1L8.5 8.5l.94-2.06 2.06-.94-2.06-.94L8.5 2.5l-.94 2.06-2.06.94zm10 10l.94 2.06.94-2.06 2.06-.94-2.06-.94-.94-2.06-.94 2.06-2.06.94z\"/><path d=\"M17.41 7.96l-1.37-1.37c-.4-.4-.92-.59-1.43-.59-.52 0-1.04.2-1.43.59L10.3 9.45l-7.72 7.72c-.78.78-.78 2.05 0 2.83L4 21.41c.39.39.9.59 1.41.59.51 0 1.02-.2 1.41-.59l7.78-7.78 2.81-2.81c.8-.78.8-2.07 0-2.86zM5.41 20L4 18.59l7.72-7.72 1.47 1.35L5.41 20z\"/>\n",
       "  </svg>\n",
       "      </button>\n",
       "      \n",
       "  <style>\n",
       "    .colab-df-container {\n",
       "      display:flex;\n",
       "      flex-wrap:wrap;\n",
       "      gap: 12px;\n",
       "    }\n",
       "\n",
       "    .colab-df-convert {\n",
       "      background-color: #E8F0FE;\n",
       "      border: none;\n",
       "      border-radius: 50%;\n",
       "      cursor: pointer;\n",
       "      display: none;\n",
       "      fill: #1967D2;\n",
       "      height: 32px;\n",
       "      padding: 0 0 0 0;\n",
       "      width: 32px;\n",
       "    }\n",
       "\n",
       "    .colab-df-convert:hover {\n",
       "      background-color: #E2EBFA;\n",
       "      box-shadow: 0px 1px 2px rgba(60, 64, 67, 0.3), 0px 1px 3px 1px rgba(60, 64, 67, 0.15);\n",
       "      fill: #174EA6;\n",
       "    }\n",
       "\n",
       "    [theme=dark] .colab-df-convert {\n",
       "      background-color: #3B4455;\n",
       "      fill: #D2E3FC;\n",
       "    }\n",
       "\n",
       "    [theme=dark] .colab-df-convert:hover {\n",
       "      background-color: #434B5C;\n",
       "      box-shadow: 0px 1px 3px 1px rgba(0, 0, 0, 0.15);\n",
       "      filter: drop-shadow(0px 1px 2px rgba(0, 0, 0, 0.3));\n",
       "      fill: #FFFFFF;\n",
       "    }\n",
       "  </style>\n",
       "\n",
       "      <script>\n",
       "        const buttonEl =\n",
       "          document.querySelector('#df-b73b9800-6abc-4ff6-880a-232c5b734808 button.colab-df-convert');\n",
       "        buttonEl.style.display =\n",
       "          google.colab.kernel.accessAllowed ? 'block' : 'none';\n",
       "\n",
       "        async function convertToInteractive(key) {\n",
       "          const element = document.querySelector('#df-b73b9800-6abc-4ff6-880a-232c5b734808');\n",
       "          const dataTable =\n",
       "            await google.colab.kernel.invokeFunction('convertToInteractive',\n",
       "                                                     [key], {});\n",
       "          if (!dataTable) return;\n",
       "\n",
       "          const docLinkHtml = 'Like what you see? Visit the ' +\n",
       "            '<a target=\"_blank\" href=https://colab.research.google.com/notebooks/data_table.ipynb>data table notebook</a>'\n",
       "            + ' to learn more about interactive tables.';\n",
       "          element.innerHTML = '';\n",
       "          dataTable['output_type'] = 'display_data';\n",
       "          await google.colab.output.renderOutput(dataTable, element);\n",
       "          const docLink = document.createElement('div');\n",
       "          docLink.innerHTML = docLinkHtml;\n",
       "          element.appendChild(docLink);\n",
       "        }\n",
       "      </script>\n",
       "    </div>\n",
       "  </div>\n",
       "  "
      ],
      "text/plain": [
       "   userid  movieid  rating  timestamp\n",
       "0       1     1193       5  978300760\n",
       "1       1      661       3  978302109\n",
       "2       1      914       3  978301968\n",
       "3       1     3408       4  978300275\n",
       "4       1     2355       5  978824291"
      ]
     },
     "execution_count": 5,
     "metadata": {},
     "output_type": "execute_result"
    }
   ],
   "source": [
    "data.head()"
   ]
  },
  {
   "cell_type": "markdown",
   "metadata": {
    "id": "aIbqergeZdHm"
   },
   "source": [
    "## Data splitting"
   ]
  },
  {
   "cell_type": "code",
   "execution_count": 7,
   "metadata": {
    "ExecuteTime": {
     "end_time": "2022-03-23T19:24:46.870713Z",
     "start_time": "2022-03-23T19:24:46.843693Z"
    },
    "id": "LSufg_I1ZdHn"
   },
   "outputs": [],
   "source": [
    "test_timepoint = data['timestamp'].quantile(\n",
    "    q=0.9, interpolation='nearest'\n",
    ")"
   ]
  },
  {
   "cell_type": "code",
   "execution_count": 8,
   "metadata": {
    "ExecuteTime": {
     "end_time": "2022-03-23T19:24:47.327134Z",
     "start_time": "2022-03-23T19:24:47.305199Z"
    },
    "id": "ky7leFOVZdHn"
   },
   "outputs": [],
   "source": [
    "test_data_ = data.query('timestamp >= @test_timepoint')"
   ]
  },
  {
   "cell_type": "code",
   "execution_count": null,
   "metadata": {
    "ExecuteTime": {
     "end_time": "2022-03-23T19:24:47.895839Z",
     "start_time": "2022-03-23T19:24:47.869787Z"
    },
    "id": "Q9oDT5IMZdHo",
    "outputId": "bedd422d-0e7e-42ad-ba7e-2d28be18fb58"
   },
   "outputs": [
    {
     "data": {
      "text/plain": [
       "userid        1209\n",
       "movieid       3407\n",
       "rating           5\n",
       "timestamp    63411\n",
       "dtype: int64"
      ]
     },
     "execution_count": 6,
     "metadata": {},
     "output_type": "execute_result"
    }
   ],
   "source": [
    "test_data_.nunique()"
   ]
  },
  {
   "cell_type": "code",
   "execution_count": 9,
   "metadata": {
    "ExecuteTime": {
     "end_time": "2022-03-23T19:24:48.507861Z",
     "start_time": "2022-03-23T19:24:48.443860Z"
    },
    "id": "nF7X1wkzZdHp"
   },
   "outputs": [],
   "source": [
    "train_data_ = data.query(\n",
    "    'userid not in @test_data_.userid.unique() and timestamp < @test_timepoint'\n",
    ")"
   ]
  },
  {
   "cell_type": "code",
   "execution_count": 10,
   "metadata": {
    "ExecuteTime": {
     "end_time": "2022-03-23T19:24:49.169261Z",
     "start_time": "2022-03-23T19:24:49.107248Z"
    },
    "id": "Q298GL16ZdHq"
   },
   "outputs": [],
   "source": [
    "training, data_index = transform_indices(train_data_.copy(), 'userid', 'movieid')"
   ]
  },
  {
   "cell_type": "code",
   "execution_count": 11,
   "metadata": {
    "ExecuteTime": {
     "end_time": "2022-03-23T19:24:49.889780Z",
     "start_time": "2022-03-23T19:24:49.866778Z"
    },
    "colab": {
     "base_uri": "https://localhost:8080/"
    },
    "id": "grZQWAk6ZdHr",
    "outputId": "c5c48d68-53e5-4b2a-9fcb-98ea1d2eb402"
   },
   "outputs": [
    {
     "name": "stdout",
     "output_type": "stream",
     "text": [
      "Filtered 113 invalid observations.\n"
     ]
    }
   ],
   "source": [
    "test_data = reindex(test_data_, data_index['items'])"
   ]
  },
  {
   "cell_type": "code",
   "execution_count": null,
   "metadata": {
    "ExecuteTime": {
     "end_time": "2022-03-23T19:24:50.536332Z",
     "start_time": "2022-03-23T19:24:50.516333Z"
    },
    "id": "pidPmMWuZdHs",
    "outputId": "3be5d34b-ed27-46e6-ed41-8c9299357d55"
   },
   "outputs": [
    {
     "data": {
      "text/plain": [
       "userid        1208\n",
       "movieid       3365\n",
       "rating           5\n",
       "timestamp    63322\n",
       "dtype: int64"
      ]
     },
     "execution_count": 10,
     "metadata": {},
     "output_type": "execute_result"
    }
   ],
   "source": [
    "test_data.nunique()"
   ]
  },
  {
   "cell_type": "code",
   "execution_count": 12,
   "metadata": {
    "ExecuteTime": {
     "end_time": "2022-03-23T19:24:51.294854Z",
     "start_time": "2022-03-23T19:24:51.166718Z"
    },
    "id": "xS2c-_FvZdHs"
   },
   "outputs": [],
   "source": [
    "testset_, holdout_ = leave_one_out(\n",
    "    test_data, target='timestamp', sample_top=True, random_state=0\n",
    ")\n",
    "testset_valid_, holdout_valid_ = leave_one_out(\n",
    "    testset_, target='timestamp', sample_top=True, random_state=0\n",
    ")"
   ]
  },
  {
   "cell_type": "code",
   "execution_count": 13,
   "metadata": {
    "ExecuteTime": {
     "end_time": "2022-03-23T19:24:51.800886Z",
     "start_time": "2022-03-23T19:24:51.769507Z"
    },
    "id": "ZKZly_DYZdHt"
   },
   "outputs": [],
   "source": [
    "test_users = np.intersect1d(testset_valid_.userid.unique(), holdout_valid_.userid.unique())\n",
    "testset_valid = testset_valid_.query('userid in @test_users').sort_values('userid')\n",
    "holdout_valid = holdout_valid_.query('userid in @test_users').sort_values('userid')"
   ]
  },
  {
   "cell_type": "code",
   "execution_count": 14,
   "metadata": {
    "ExecuteTime": {
     "end_time": "2022-03-23T19:24:52.319892Z",
     "start_time": "2022-03-23T19:24:52.297889Z"
    },
    "colab": {
     "base_uri": "https://localhost:8080/"
    },
    "id": "1Rr44cx4ZdHt",
    "outputId": "3747e9a6-7509-4bcb-a6d9-92728a43fe76"
   },
   "outputs": [
    {
     "data": {
      "text/plain": [
       "userid        1137\n",
       "movieid       3357\n",
       "rating           5\n",
       "timestamp    61488\n",
       "dtype: int64"
      ]
     },
     "execution_count": 14,
     "metadata": {},
     "output_type": "execute_result"
    }
   ],
   "source": [
    "testset_valid.nunique()"
   ]
  },
  {
   "cell_type": "code",
   "execution_count": 15,
   "metadata": {
    "ExecuteTime": {
     "end_time": "2022-03-23T19:24:52.811394Z",
     "start_time": "2022-03-23T19:24:52.806409Z"
    },
    "colab": {
     "base_uri": "https://localhost:8080/"
    },
    "id": "ihbRp7PAZdHt",
    "outputId": "6c5e8952-9472-4ace-cdf4-12162b3e7e19"
   },
   "outputs": [
    {
     "data": {
      "text/plain": [
       "(1137, 4)"
      ]
     },
     "execution_count": 15,
     "metadata": {},
     "output_type": "execute_result"
    }
   ],
   "source": [
    "holdout_valid.shape"
   ]
  },
  {
   "cell_type": "code",
   "execution_count": 16,
   "metadata": {
    "ExecuteTime": {
     "end_time": "2022-03-23T19:24:53.351385Z",
     "start_time": "2022-03-23T19:24:53.339367Z"
    },
    "id": "48hq27eUZdHu"
   },
   "outputs": [],
   "source": [
    "assert holdout_valid.set_index('userid')['timestamp'].ge(\n",
    "    testset_valid\n",
    "    .groupby('userid')\n",
    "    ['timestamp'].max()\n",
    ").all()"
   ]
  },
  {
   "cell_type": "code",
   "execution_count": 17,
   "metadata": {
    "ExecuteTime": {
     "end_time": "2022-03-23T19:24:53.972144Z",
     "start_time": "2022-03-23T19:24:53.949282Z"
    },
    "id": "w0YknJ2GZdHu"
   },
   "outputs": [],
   "source": [
    "data_description = dict(\n",
    "    users = data_index['users'].name,\n",
    "    items = data_index['items'].name,\n",
    "    feedback = 'rating',\n",
    "    n_users = len(data_index['users']),\n",
    "    n_items = len(data_index['items']),\n",
    "    n_ratings = training['rating'].nunique(),\n",
    "    min_rating = training['rating'].min(),\n",
    "    test_users = holdout_valid[data_index['users'].name].drop_duplicates().values\n",
    ")"
   ]
  },
  {
   "cell_type": "markdown",
   "metadata": {
    "id": "f5Q6vb_cZdHv"
   },
   "source": [
    "# CoFFee with attention"
   ]
  },
  {
   "cell_type": "code",
   "execution_count": 145,
   "metadata": {
    "ExecuteTime": {
     "end_time": "2022-03-23T19:24:54.975326Z",
     "start_time": "2022-03-23T19:24:54.965327Z"
    },
    "id": "kc1BhA3aZdHv"
   },
   "outputs": [],
   "source": [
    "def tf_model_build(config, data, data_description, attention_matrix):\n",
    "    userid = data_description[\"users\"]\n",
    "    itemid = data_description[\"items\"]\n",
    "    feedback = data_description[\"feedback\"]\n",
    "\n",
    "    idx = data[[userid, itemid, feedback]].values\n",
    "    idx[:, -1] = idx[:, -1] - data_description['min_rating'] # works only for integer ratings!\n",
    "    val = np.ones(idx.shape[0], dtype='f8')\n",
    "    \n",
    "    n_users = data_description[\"n_users\"]\n",
    "    n_items = data_description[\"n_items\"]\n",
    "    n_ratings = data_description[\"n_ratings\"]\n",
    "    shape = (n_users, n_items, n_ratings)\n",
    "    core_shape = config['mlrank']\n",
    "    num_iters = config[\"num_iters\"]\n",
    "    \n",
    "    item_popularity = (\n",
    "        data[itemid]\n",
    "        .value_counts(sort=False)\n",
    "        .reindex(range(n_items))\n",
    "        .fillna(1)\n",
    "        .values\n",
    "    )\n",
    "    scaling_weights = get_scaling_weights(item_popularity, scaling=config[\"scaling\"])\n",
    "    \n",
    "    u0, u1, u2 = sa_hooi(\n",
    "        idx, val, shape, config[\"mlrank\"],\n",
    "        attention_matrix = attention_matrix,\n",
    "        scaling_weights = scaling_weights,\n",
    "        max_iters = config[\"num_iters\"],\n",
    "        parallel_ttm = False,\n",
    "        randomized = config[\"randomized\"],\n",
    "        growth_tol = config[\"growth_tol\"],\n",
    "        seed = config[\"seed\"],\n",
    "        iter_callback = None,\n",
    "    )\n",
    "    \n",
    "    return u0, u1, u2, attention_matrix\n",
    "        "
   ]
  },
  {
   "cell_type": "code",
   "execution_count": 146,
   "metadata": {
    "ExecuteTime": {
     "end_time": "2022-03-23T19:24:55.506911Z",
     "start_time": "2022-03-23T19:24:55.497894Z"
    },
    "id": "cIEE9s7cZdHv"
   },
   "outputs": [],
   "source": [
    "config = {\n",
    "    \"scaling\": 1,\n",
    "    \"mlrank\": (30, 30, 5),\n",
    "    \"n_ratings\": data_description['n_ratings'],\n",
    "    \"num_iters\": 5,\n",
    "    \"attention_decay\": 1,\n",
    "    \"randomized\": True,\n",
    "    \"growth_tol\": 1e-4,\n",
    "    \"seed\": 42\n",
    "}"
   ]
  },
  {
   "cell_type": "code",
   "execution_count": null,
   "metadata": {
    "ExecuteTime": {
     "end_time": "2022-03-23T19:24:58.648126Z",
     "start_time": "2022-03-23T19:24:56.012148Z"
    },
    "id": "gCQLCuBpZdHw",
    "outputId": "74a10c46-e1de-4edd-bbe1-0327c491d9aa"
   },
   "outputs": [
    {
     "ename": "NameError",
     "evalue": "name 'attention_matrix' is not defined",
     "output_type": "error",
     "traceback": [
      "\u001b[0;31m---------------------------------------------------------------------------\u001b[0m",
      "\u001b[0;31mNameError\u001b[0m                                 Traceback (most recent call last)",
      "\u001b[0;32m<ipython-input-19-621de611c08e>\u001b[0m in \u001b[0;36m<module>\u001b[0;34m\u001b[0m\n\u001b[0;32m----> 1\u001b[0;31m \u001b[0mtf_params\u001b[0m \u001b[0;34m=\u001b[0m \u001b[0mtf_model_build\u001b[0m\u001b[0;34m(\u001b[0m\u001b[0mconfig\u001b[0m\u001b[0;34m,\u001b[0m \u001b[0mtraining\u001b[0m\u001b[0;34m,\u001b[0m \u001b[0mdata_description\u001b[0m\u001b[0;34m,\u001b[0m \u001b[0mattention_matrix\u001b[0m\u001b[0;34m)\u001b[0m\u001b[0;34m\u001b[0m\u001b[0;34m\u001b[0m\u001b[0m\n\u001b[0m",
      "\u001b[0;31mNameError\u001b[0m: name 'attention_matrix' is not defined"
     ]
    }
   ],
   "source": [
    "tf_params = tf_model_build(config, training, data_description, attention_matrix)"
   ]
  },
  {
   "cell_type": "code",
   "execution_count": 148,
   "metadata": {
    "ExecuteTime": {
     "end_time": "2022-03-23T19:24:59.265997Z",
     "start_time": "2022-03-23T19:24:59.251994Z"
    },
    "id": "hPGjw42IZdHw"
   },
   "outputs": [],
   "source": [
    "userid = data_description['users']\n",
    "seen_data = testset_valid"
   ]
  },
  {
   "cell_type": "code",
   "execution_count": 147,
   "metadata": {
    "ExecuteTime": {
     "end_time": "2022-03-23T19:24:59.815884Z",
     "start_time": "2022-03-23T19:24:59.809879Z"
    },
    "id": "HOk_w0WDZdHx"
   },
   "outputs": [],
   "source": [
    "def tf_scoring(params, data, data_description):\n",
    "    user_factors, item_factors, feedback_factors, attention_matrix = params\n",
    "    userid = data_description[\"users\"]\n",
    "    itemid = data_description[\"items\"]\n",
    "    feedback = data_description[\"feedback\"]\n",
    "\n",
    "    data = data.sort_values(userid)\n",
    "    useridx = data[userid]\n",
    "    \n",
    "    n_users = useridx.nunique()\n",
    "    n_items = data_description['n_items']\n",
    "    n_ratings = data_description['n_ratings']\n",
    "    \n",
    "    scores = np.zeros((n_users, n_items))\n",
    "    inv_attention = np.linalg.inv(attention_matrix.A)\n",
    "    for i, u in tqdm(enumerate(np.unique(useridx))):\n",
    "        data_u = data[data.userid==u]\n",
    "        P = csr_matrix((np.ones(data_u.shape[0]), (data_u[itemid].values, data_u[feedback].values - data_description['min_rating'])), (n_items, n_ratings))\n",
    "        \n",
    "        res = item_factors @ (item_factors.T @ (P @ (attention_matrix @ (feedback_factors @ (inv_attention.T @ feedback_factors).T))))\n",
    "        \n",
    "        scores[i] = np.sum(res[:, 2:], axis=1) #- np.sum(res[:, :2], axis=1)\n",
    "        \n",
    "    return scores"
   ]
  },
  {
   "cell_type": "code",
   "execution_count": null,
   "metadata": {
    "ExecuteTime": {
     "end_time": "2022-03-23T19:25:01.064523Z",
     "start_time": "2022-03-23T19:25:00.377552Z"
    },
    "id": "S1AHOD1QZdHx"
   },
   "outputs": [],
   "source": [
    "# tf_scores = tf_scoring(tf_params, seen_data, data_description)\n",
    "# tf_scores.shape"
   ]
  },
  {
   "cell_type": "code",
   "execution_count": null,
   "metadata": {
    "ExecuteTime": {
     "end_time": "2022-03-23T19:25:01.976831Z",
     "start_time": "2022-03-23T19:25:01.954837Z"
    },
    "id": "lUvjBHhzZdHy"
   },
   "outputs": [],
   "source": [
    "# downvote_seen_items(tf_scores, seen_data, data_description)"
   ]
  },
  {
   "cell_type": "code",
   "execution_count": null,
   "metadata": {
    "ExecuteTime": {
     "end_time": "2022-03-23T19:25:02.562732Z",
     "start_time": "2022-03-23T19:25:02.512729Z"
    },
    "id": "CLhi6LJQZdHy"
   },
   "outputs": [],
   "source": [
    "# tf_recs = topn_recommendations(tf_scores, topn=10)\n",
    "# model_evaluate(tf_recs, holdout_valid, data_description)"
   ]
  },
  {
   "cell_type": "code",
   "execution_count": null,
   "metadata": {
    "id": "jNGuJgA0ZdHy"
   },
   "outputs": [],
   "source": [
    "# userid = data_description['users']\n",
    "# seen_data = testset_valid"
   ]
  },
  {
   "cell_type": "markdown",
   "metadata": {
    "id": "rSpUHTJuZdHy"
   },
   "source": [
    "# Attention experiments"
   ]
  },
  {
   "cell_type": "code",
   "execution_count": 141,
   "metadata": {
    "id": "RjShplchZdHy"
   },
   "outputs": [],
   "source": [
    "from IPython.utils import io\n",
    "from scipy.sparse import csr_matrix"
   ]
  },
  {
   "cell_type": "code",
   "execution_count": null,
   "metadata": {
    "id": "xzyyaGEsZdHz",
    "outputId": "b1a73991-b593-4c46-efec-c9c84e80c49f"
   },
   "outputs": [
    {
     "data": {
      "text/plain": [
       "5"
      ]
     },
     "execution_count": 182,
     "metadata": {},
     "output_type": "execute_result"
    }
   ],
   "source": [
    "data_description['n_ratings']"
   ]
  },
  {
   "cell_type": "code",
   "execution_count": 142,
   "metadata": {
    "id": "Ql_JeGvbZdHz"
   },
   "outputs": [],
   "source": [
    "def run_exp(attention_matrix, params=None):\n",
    "\n",
    "    with io.capture_output() as captured:\n",
    "\n",
    "        tf_params = tf_model_build(config, training, data_description, attention_matrix)\n",
    "        tf_scores = tf_scoring(tf_params, seen_data, data_description)\n",
    "        downvote_seen_items(tf_scores, seen_data, data_description)\n",
    "\n",
    "        tf_recs = topn_recommendations(tf_scores, topn=10)\n",
    "\n",
    "    out = model_evaluate(tf_recs, holdout_valid, data_description)\n",
    "\n",
    "    print('HR={:.4f}, MRR={:.4f}, COV={:.4f}'.format(*out))\n",
    "    \n",
    "    if params is not None:\n",
    "        print(params, '\\n')"
   ]
  },
  {
   "cell_type": "markdown",
   "metadata": {
    "id": "QK6vlyV5ZdHz"
   },
   "source": [
    "### Predefined attention grid"
   ]
  },
  {
   "cell_type": "code",
   "execution_count": null,
   "metadata": {
    "id": "Ud2rTA5AZdHz"
   },
   "outputs": [],
   "source": [
    "attentions_params_list = [\n",
    "    {'decay_factor': 1, 'exponential_decay': False, 'reverse': True},\n",
    "    {'decay_factor': 1, 'exponential_decay': True, 'reverse': True},\n",
    "    {'decay_factor': 1, 'exponential_decay': False, 'reverse': False},\n",
    "    {'decay_factor': 1, 'exponential_decay': True, 'reverse': False}\n",
    "]"
   ]
  },
  {
   "cell_type": "code",
   "execution_count": null,
   "metadata": {
    "id": "sEwvVCyTZdHz",
    "outputId": "ebb65098-98aa-4bdc-8bb5-2ba4e1466d89"
   },
   "outputs": [
    {
     "name": "stdout",
     "output_type": "stream",
     "text": [
      "HR=0.0633, MRR=0.0206, COV=0.1329\n",
      "{'decay_factor': 1, 'exponential_decay': False, 'reverse': True} \n",
      "\n",
      "HR=0.0519, MRR=0.0193, COV=0.1136\n",
      "{'decay_factor': 1, 'exponential_decay': True, 'reverse': True} \n",
      "\n",
      "HR=0.0633, MRR=0.0225, COV=0.1543\n",
      "{'decay_factor': 1, 'exponential_decay': False, 'reverse': False} \n",
      "\n",
      "HR=0.0580, MRR=0.0197, COV=0.1554\n",
      "{'decay_factor': 1, 'exponential_decay': True, 'reverse': False} \n",
      "\n"
     ]
    }
   ],
   "source": [
    "for params in attentions_params_list:\n",
    "    attention_matrix = form_attention_matrix(\n",
    "                data_description['n_ratings'],\n",
    "                **params,\n",
    "                format = 'csr'\n",
    "            )\n",
    "    run_exp(attention_matrix, params)    "
   ]
  },
  {
   "cell_type": "markdown",
   "metadata": {
    "id": "ggkrLcJ9ZdH0"
   },
   "source": [
    "### Euclidean distance attention"
   ]
  },
  {
   "cell_type": "code",
   "execution_count": null,
   "metadata": {
    "id": "tS_1he45ZdH0"
   },
   "outputs": [],
   "source": [
    "eucl_matrix = np.zeros((5, 5))\n",
    "\n",
    "for i in range(5):\n",
    "    for j in range(5):\n",
    "        eucl_matrix[i, j] = abs(i - j) / np.exp(abs(i - j)) if i != j else 5 + 1e-2\n",
    "        \n",
    "a = np.linalg.cholesky(eucl_matrix)\n",
    "\n",
    "for i in range(5):\n",
    "    a[i, i] = 1e-5\n",
    "\n",
    "attention_matrix = csr_matrix(a)"
   ]
  },
  {
   "cell_type": "code",
   "execution_count": null,
   "metadata": {
    "id": "6gYSdmo2ZdH0",
    "outputId": "592212d0-b0b0-438d-dab0-c885223ff738"
   },
   "outputs": [
    {
     "name": "stdout",
     "output_type": "stream",
     "text": [
      "HR=0.0642, MRR=0.0233, COV=0.1483\n"
     ]
    }
   ],
   "source": [
    "run_exp(attention_matrix)  "
   ]
  },
  {
   "cell_type": "markdown",
   "metadata": {
    "id": "YxAdVtSkZdH1"
   },
   "source": [
    "### Rating distribution attention"
   ]
  },
  {
   "cell_type": "code",
   "execution_count": null,
   "metadata": {
    "id": "jhzh4_DsZdH1",
    "outputId": "19e0943e-3d84-4eac-d2f7-93ccb3890e11"
   },
   "outputs": [
    {
     "data": {
      "text/plain": [
       "[0.056644931644931645,\n",
       " 0.10500693000693001,\n",
       " 0.25943898443898444,\n",
       " 0.3442087192087192,\n",
       " 0.2347004347004347]"
      ]
     },
     "execution_count": 179,
     "metadata": {},
     "output_type": "execute_result"
    }
   ],
   "source": [
    "rating_dist = []\n",
    "\n",
    "total_cnt = training.shape[0]\n",
    "\n",
    "for i in range(5):\n",
    "    val = training.query(f'rating == {i + 1}').count()[0] / total_cnt\n",
    "    \n",
    "    rating_dist.append(val)\n",
    "\n",
    "rating_dist"
   ]
  },
  {
   "cell_type": "code",
   "execution_count": null,
   "metadata": {
    "id": "cxabM4sdZdH1",
    "outputId": "6902b0ce-f81e-4d92-b171-ad32b8954369"
   },
   "outputs": [
    {
     "data": {
      "text/plain": [
       "array([[ 1.00000000e-05,  0.00000000e+00,  0.00000000e+00,\n",
       "         0.00000000e+00,  0.00000000e+00],\n",
       "       [ 4.39343845e-02,  1.00000000e-05,  0.00000000e+00,\n",
       "         0.00000000e+00,  0.00000000e+00],\n",
       "       [ 1.57865247e-01,  1.19666749e-01,  1.00000000e-05,\n",
       "         0.00000000e+00,  0.00000000e+00],\n",
       "       [ 2.05660310e-01,  1.71084548e-01,  2.42154277e-02,\n",
       "         1.00000000e-05,  0.00000000e+00],\n",
       "       [ 1.42079211e-01,  1.02755253e-01, -1.02838852e-02,\n",
       "         5.08948653e-02,  1.00000000e-05]])"
      ]
     },
     "execution_count": 245,
     "metadata": {},
     "output_type": "execute_result"
    }
   ],
   "source": [
    "rat_dist_matrix = np.zeros((5, 5))\n",
    "\n",
    "for i in range(5):\n",
    "    for j in range(5):\n",
    "        diff = abs(rating_dist[i] - rating_dist[j])\n",
    "        rat_dist_matrix[i, j] = diff / np.exp(diff) if i != j else 1. + 1e-1\n",
    "        \n",
    "a = np.linalg.cholesky(rat_dist_matrix)\n",
    "\n",
    "for i in range(5):\n",
    "    a[i, i] = 1e-5\n",
    "\n",
    "attention_matrix = csr_matrix(a)\n",
    "a"
   ]
  },
  {
   "cell_type": "code",
   "execution_count": null,
   "metadata": {
    "id": "l0-JntPcZdH1",
    "outputId": "d96ee917-cef0-45f0-9186-1cff0922c70c"
   },
   "outputs": [
    {
     "name": "stdout",
     "output_type": "stream",
     "text": [
      "HR=0.0774, MRR=0.0255, COV=0.1508\n"
     ]
    }
   ],
   "source": [
    "run_exp(attention_matrix)"
   ]
  },
  {
   "cell_type": "markdown",
   "metadata": {
    "id": "k-gldcgcZdH2"
   },
   "source": [
    "### Trigonometry scale attention"
   ]
  },
  {
   "cell_type": "code",
   "execution_count": null,
   "metadata": {
    "id": "VUq7o08IZdH2"
   },
   "outputs": [],
   "source": [
    "def rescale_score(x, func=None):\n",
    "    \n",
    "    if func is None:\n",
    "        func = np.arctan\n",
    "    \n",
    "    return func(x)"
   ]
  },
  {
   "cell_type": "code",
   "execution_count": null,
   "metadata": {
    "id": "JVHPT-zJZdH2"
   },
   "outputs": [],
   "source": [
    "eucl_matrix = np.zeros((5, 5))\n",
    "\n",
    "for i in range(5):\n",
    "    for j in range(5):\n",
    "        \n",
    "        k, l = rescale_score(i + 1), rescale_score(j + 1)\n",
    "        \n",
    "        diff = abs(k - l)\n",
    "        \n",
    "        eucl_matrix[i, j] = diff / np.exp(diff) if i != j else 5 + 1e-2\n",
    "        \n",
    "a = np.linalg.cholesky(eucl_matrix)\n",
    "\n",
    "for i in range(5):\n",
    "    a[i, i] = 1e-5\n",
    "\n",
    "attention_matrix = csr_matrix(a)"
   ]
  },
  {
   "cell_type": "code",
   "execution_count": null,
   "metadata": {
    "id": "-1xgFZ8wZdH2",
    "outputId": "9109161f-8390-40cd-9d38-6a06681241f6"
   },
   "outputs": [
    {
     "name": "stdout",
     "output_type": "stream",
     "text": [
      "HR=0.0730, MRR=0.0243, COV=0.1527\n"
     ]
    }
   ],
   "source": [
    "run_exp(attention_matrix)"
   ]
  },
  {
   "cell_type": "markdown",
   "metadata": {
    "id": "0cxM5R73bZfn"
   },
   "source": [
    "### Conditional probability approach"
   ]
  },
  {
   "cell_type": "code",
   "execution_count": 63,
   "metadata": {
    "id": "ocYjhNM-bdIx"
   },
   "outputs": [],
   "source": [
    "train_new = training.sort_values('timestamp')"
   ]
  },
  {
   "cell_type": "code",
   "execution_count": null,
   "metadata": {
    "id": "8jBYS0kwkjyF"
   },
   "outputs": [],
   "source": [
    "train_new_part = train_new.query('rating == 1| rating == 2')"
   ]
  },
  {
   "cell_type": "code",
   "execution_count": 71,
   "metadata": {
    "colab": {
     "base_uri": "https://localhost:8080/",
     "height": 174
    },
    "id": "bnEi-UGZku2q",
    "outputId": "0e849591-5452-4590-bd93-79e39345d507"
   },
   "outputs": [
    {
     "data": {
      "text/html": [
       "\n",
       "  <div id=\"df-24ba80af-6103-4883-b14a-1948983e818a\">\n",
       "    <div class=\"colab-df-container\">\n",
       "      <div>\n",
       "<style scoped>\n",
       "    .dataframe tbody tr th:only-of-type {\n",
       "        vertical-align: middle;\n",
       "    }\n",
       "\n",
       "    .dataframe tbody tr th {\n",
       "        vertical-align: top;\n",
       "    }\n",
       "\n",
       "    .dataframe thead th {\n",
       "        text-align: right;\n",
       "    }\n",
       "</style>\n",
       "<table border=\"1\" class=\"dataframe\">\n",
       "  <thead>\n",
       "    <tr style=\"text-align: right;\">\n",
       "      <th></th>\n",
       "      <th>userid</th>\n",
       "      <th>movieid</th>\n",
       "      <th>rating</th>\n",
       "      <th>timestamp</th>\n",
       "    </tr>\n",
       "  </thead>\n",
       "  <tbody>\n",
       "    <tr>\n",
       "      <th>999790</th>\n",
       "      <td>4830</td>\n",
       "      <td>3128</td>\n",
       "      <td>2</td>\n",
       "      <td>956705323</td>\n",
       "    </tr>\n",
       "    <tr>\n",
       "      <th>999824</th>\n",
       "      <td>4830</td>\n",
       "      <td>1130</td>\n",
       "      <td>2</td>\n",
       "      <td>956705351</td>\n",
       "    </tr>\n",
       "    <tr>\n",
       "      <th>999842</th>\n",
       "      <td>4830</td>\n",
       "      <td>2422</td>\n",
       "      <td>2</td>\n",
       "      <td>956705508</td>\n",
       "    </tr>\n",
       "    <tr>\n",
       "      <th>999837</th>\n",
       "      <td>4830</td>\n",
       "      <td>725</td>\n",
       "      <td>2</td>\n",
       "      <td>956706051</td>\n",
       "    </tr>\n",
       "  </tbody>\n",
       "</table>\n",
       "</div>\n",
       "      <button class=\"colab-df-convert\" onclick=\"convertToInteractive('df-24ba80af-6103-4883-b14a-1948983e818a')\"\n",
       "              title=\"Convert this dataframe to an interactive table.\"\n",
       "              style=\"display:none;\">\n",
       "        \n",
       "  <svg xmlns=\"http://www.w3.org/2000/svg\" height=\"24px\"viewBox=\"0 0 24 24\"\n",
       "       width=\"24px\">\n",
       "    <path d=\"M0 0h24v24H0V0z\" fill=\"none\"/>\n",
       "    <path d=\"M18.56 5.44l.94 2.06.94-2.06 2.06-.94-2.06-.94-.94-2.06-.94 2.06-2.06.94zm-11 1L8.5 8.5l.94-2.06 2.06-.94-2.06-.94L8.5 2.5l-.94 2.06-2.06.94zm10 10l.94 2.06.94-2.06 2.06-.94-2.06-.94-.94-2.06-.94 2.06-2.06.94z\"/><path d=\"M17.41 7.96l-1.37-1.37c-.4-.4-.92-.59-1.43-.59-.52 0-1.04.2-1.43.59L10.3 9.45l-7.72 7.72c-.78.78-.78 2.05 0 2.83L4 21.41c.39.39.9.59 1.41.59.51 0 1.02-.2 1.41-.59l7.78-7.78 2.81-2.81c.8-.78.8-2.07 0-2.86zM5.41 20L4 18.59l7.72-7.72 1.47 1.35L5.41 20z\"/>\n",
       "  </svg>\n",
       "      </button>\n",
       "      \n",
       "  <style>\n",
       "    .colab-df-container {\n",
       "      display:flex;\n",
       "      flex-wrap:wrap;\n",
       "      gap: 12px;\n",
       "    }\n",
       "\n",
       "    .colab-df-convert {\n",
       "      background-color: #E8F0FE;\n",
       "      border: none;\n",
       "      border-radius: 50%;\n",
       "      cursor: pointer;\n",
       "      display: none;\n",
       "      fill: #1967D2;\n",
       "      height: 32px;\n",
       "      padding: 0 0 0 0;\n",
       "      width: 32px;\n",
       "    }\n",
       "\n",
       "    .colab-df-convert:hover {\n",
       "      background-color: #E2EBFA;\n",
       "      box-shadow: 0px 1px 2px rgba(60, 64, 67, 0.3), 0px 1px 3px 1px rgba(60, 64, 67, 0.15);\n",
       "      fill: #174EA6;\n",
       "    }\n",
       "\n",
       "    [theme=dark] .colab-df-convert {\n",
       "      background-color: #3B4455;\n",
       "      fill: #D2E3FC;\n",
       "    }\n",
       "\n",
       "    [theme=dark] .colab-df-convert:hover {\n",
       "      background-color: #434B5C;\n",
       "      box-shadow: 0px 1px 3px 1px rgba(0, 0, 0, 0.15);\n",
       "      filter: drop-shadow(0px 1px 2px rgba(0, 0, 0, 0.3));\n",
       "      fill: #FFFFFF;\n",
       "    }\n",
       "  </style>\n",
       "\n",
       "      <script>\n",
       "        const buttonEl =\n",
       "          document.querySelector('#df-24ba80af-6103-4883-b14a-1948983e818a button.colab-df-convert');\n",
       "        buttonEl.style.display =\n",
       "          google.colab.kernel.accessAllowed ? 'block' : 'none';\n",
       "\n",
       "        async function convertToInteractive(key) {\n",
       "          const element = document.querySelector('#df-24ba80af-6103-4883-b14a-1948983e818a');\n",
       "          const dataTable =\n",
       "            await google.colab.kernel.invokeFunction('convertToInteractive',\n",
       "                                                     [key], {});\n",
       "          if (!dataTable) return;\n",
       "\n",
       "          const docLinkHtml = 'Like what you see? Visit the ' +\n",
       "            '<a target=\"_blank\" href=https://colab.research.google.com/notebooks/data_table.ipynb>data table notebook</a>'\n",
       "            + ' to learn more about interactive tables.';\n",
       "          element.innerHTML = '';\n",
       "          dataTable['output_type'] = 'display_data';\n",
       "          await google.colab.output.renderOutput(dataTable, element);\n",
       "          const docLink = document.createElement('div');\n",
       "          docLink.innerHTML = docLinkHtml;\n",
       "          element.appendChild(docLink);\n",
       "        }\n",
       "      </script>\n",
       "    </div>\n",
       "  </div>\n",
       "  "
      ],
      "text/plain": [
       "        userid  movieid  rating  timestamp\n",
       "999790    4830     3128       2  956705323\n",
       "999824    4830     1130       2  956705351\n",
       "999842    4830     2422       2  956705508\n",
       "999837    4830      725       2  956706051"
      ]
     },
     "execution_count": 71,
     "metadata": {},
     "output_type": "execute_result"
    }
   ],
   "source": [
    "train_new_part = train_new.query('rating == 1| rating == 2')\n",
    "users = train_new_part.userid.unique()\n",
    "users[0]\n",
    "train_new_part.query('userid == @users[0]') "
   ]
  },
  {
   "cell_type": "code",
   "execution_count": 92,
   "metadata": {
    "id": "fmEODLrpfFXj"
   },
   "outputs": [],
   "source": [
    "train_new_part = train_new.query('rating == 1| rating == 2')\n",
    "users = train_new_part.userid.unique()\n",
    "count12_tot = 0\n",
    "count12_loc = 0\n",
    "for user in users:\n",
    "  train_new_part_user = train_new_part.query('userid == @user') \n",
    "  train_new_part_user = train_new_part_user.reset_index()\n",
    "  for i in range(1, len(train_new_part_user)):\n",
    "    if train_new_part_user.loc[i, 'rating' ] == 1 and train_new_part_user.loc[i-1, 'rating' ]== 2:\n",
    "     count12_loc += 1\n",
    "    if train_new_part_user.loc[i, 'rating' ] == 2 and train_new_part_user.loc[i-1, 'rating' ]== 1:\n",
    "      count12_loc += 1\n",
    "  count12_tot += count12_loc"
   ]
  },
  {
   "cell_type": "code",
   "execution_count": 93,
   "metadata": {
    "id": "0VpCQq3_najz"
   },
   "outputs": [],
   "source": [
    "train_new_part = train_new.query('rating == 1| rating == 3')\n",
    "users = train_new_part.userid.unique()\n",
    "count13_tot = 0\n",
    "count13_loc = 0\n",
    "for user in users:\n",
    "  train_new_part_user = train_new_part.query('userid == @user') \n",
    "  train_new_part_user = train_new_part_user.reset_index()\n",
    "  for i in range(1, len(train_new_part_user)):\n",
    "    if train_new_part_user.loc[i, 'rating' ] == 1 and train_new_part_user.loc[i-1, 'rating' ]== 3:\n",
    "     count13_loc += 1\n",
    "    if train_new_part_user.loc[i, 'rating' ] == 3 and train_new_part_user.loc[i-1, 'rating' ]== 1:\n",
    "      count13_loc += 1\n",
    "  count13_tot += count13_loc"
   ]
  },
  {
   "cell_type": "code",
   "execution_count": 94,
   "metadata": {
    "id": "5WEwItXxnlEU"
   },
   "outputs": [],
   "source": [
    "train_new_part = train_new.query('rating == 1| rating == 4')\n",
    "users = train_new_part.userid.unique()\n",
    "count14_tot = 0\n",
    "count14_loc = 0\n",
    "for user in users:\n",
    "  train_new_part_user = train_new_part.query('userid == @user') \n",
    "  train_new_part_user = train_new_part_user.reset_index()\n",
    "  for i in range(1, len(train_new_part_user)):\n",
    "    if train_new_part_user.loc[i, 'rating' ] == 1 and train_new_part_user.loc[i-1, 'rating' ]== 4:\n",
    "     count14_loc += 1\n",
    "    if train_new_part_user.loc[i, 'rating' ] == 4 and train_new_part_user.loc[i-1, 'rating' ]== 1:\n",
    "      count14_loc += 1\n",
    "  count14_tot += count14_loc"
   ]
  },
  {
   "cell_type": "code",
   "execution_count": 95,
   "metadata": {
    "id": "7z91jgYinus8"
   },
   "outputs": [],
   "source": [
    "train_new_part = train_new.query('rating == 1| rating == 5')\n",
    "users = train_new_part.userid.unique()\n",
    "count15_tot = 0\n",
    "count15_loc = 0\n",
    "for user in users:\n",
    "  train_new_part_user = train_new_part.query('userid == @user') \n",
    "  train_new_part_user = train_new_part_user.reset_index()\n",
    "  for i in range(1, len(train_new_part_user)):\n",
    "    if train_new_part_user.loc[i, 'rating' ] == 1 and train_new_part_user.loc[i-1, 'rating' ]== 5:\n",
    "     count15_loc += 1\n",
    "    if train_new_part_user.loc[i, 'rating' ] == 5 and train_new_part_user.loc[i-1, 'rating' ]== 1:\n",
    "      count15_loc += 1\n",
    "  count15_tot += count15_loc"
   ]
  },
  {
   "cell_type": "code",
   "execution_count": 96,
   "metadata": {
    "id": "nu3cIRIan9nI"
   },
   "outputs": [],
   "source": [
    "train_new_part = train_new.query('rating == 2| rating == 3')\n",
    "users = train_new_part.userid.unique()\n",
    "count23_tot = 0\n",
    "count23_loc = 0\n",
    "for user in users:\n",
    "  train_new_part_user = train_new_part.query('userid == @user') \n",
    "  train_new_part_user = train_new_part_user.reset_index()\n",
    "  for i in range(1, len(train_new_part_user)):\n",
    "    if train_new_part_user.loc[i, 'rating' ] == 2 and train_new_part_user.loc[i-1, 'rating' ]== 3:\n",
    "     count23_loc += 1\n",
    "    if train_new_part_user.loc[i, 'rating' ] == 3 and train_new_part_user.loc[i-1, 'rating' ]== 2:\n",
    "      count23_loc += 1\n",
    "  count23_tot += count23_loc"
   ]
  },
  {
   "cell_type": "code",
   "execution_count": 97,
   "metadata": {
    "id": "J18fQGFvoIJf"
   },
   "outputs": [],
   "source": [
    "train_new_part = train_new.query('rating == 2| rating == 4')\n",
    "users = train_new_part.userid.unique()\n",
    "count24_tot = 0\n",
    "count24_loc = 0\n",
    "for user in users:\n",
    "  train_new_part_user = train_new_part.query('userid == @user') \n",
    "  train_new_part_user = train_new_part_user.reset_index()\n",
    "  for i in range(1, len(train_new_part_user)):\n",
    "    if train_new_part_user.loc[i, 'rating' ] == 2 and train_new_part_user.loc[i-1, 'rating' ]== 4:\n",
    "     count24_loc += 1\n",
    "    if train_new_part_user.loc[i, 'rating' ] == 4 and train_new_part_user.loc[i-1, 'rating' ]== 2:\n",
    "      count24_loc += 1\n",
    "  count24_tot += count24_loc"
   ]
  },
  {
   "cell_type": "code",
   "execution_count": 98,
   "metadata": {
    "id": "90xgYUqtooLh"
   },
   "outputs": [],
   "source": [
    "train_new_part = train_new.query('rating == 2| rating == 5')\n",
    "users = train_new_part.userid.unique()\n",
    "count25_tot = 0\n",
    "count25_loc = 0\n",
    "for user in users:\n",
    "  train_new_part_user = train_new_part.query('userid == @user') \n",
    "  train_new_part_user = train_new_part_user.reset_index()\n",
    "  for i in range(1, len(train_new_part_user)):\n",
    "    if train_new_part_user.loc[i, 'rating' ] == 2 and train_new_part_user.loc[i-1, 'rating' ]== 5:\n",
    "     count25_loc += 1\n",
    "    if train_new_part_user.loc[i, 'rating' ] == 5 and train_new_part_user.loc[i-1, 'rating' ]== 2:\n",
    "      count25_loc += 1\n",
    "  count25_tot += count25_loc"
   ]
  },
  {
   "cell_type": "code",
   "execution_count": 99,
   "metadata": {
    "id": "wmWu-8qpoy6U"
   },
   "outputs": [],
   "source": [
    "train_new_part = train_new.query('rating == 3| rating == 4')\n",
    "users = train_new_part.userid.unique()\n",
    "count34_tot = 0\n",
    "count34_loc = 0\n",
    "for user in users:\n",
    "  train_new_part_user = train_new_part.query('userid == @user') \n",
    "  train_new_part_user = train_new_part_user.reset_index()\n",
    "  for i in range(1, len(train_new_part_user)):\n",
    "    if train_new_part_user.loc[i, 'rating' ] == 3 and train_new_part_user.loc[i-1, 'rating' ]== 4:\n",
    "     count34_loc += 1\n",
    "    if train_new_part_user.loc[i, 'rating' ] == 4 and train_new_part_user.loc[i-1, 'rating' ]== 3:\n",
    "      count34_loc += 1\n",
    "  count34_tot += count34_loc"
   ]
  },
  {
   "cell_type": "code",
   "execution_count": 100,
   "metadata": {
    "id": "7-IxzKi3o_dA"
   },
   "outputs": [],
   "source": [
    "train_new_part = train_new.query('rating == 3| rating == 5')\n",
    "users = train_new_part.userid.unique()\n",
    "count35_tot = 0\n",
    "count35_loc = 0\n",
    "for user in users:\n",
    "  train_new_part_user = train_new_part.query('userid == @user') \n",
    "  train_new_part_user = train_new_part_user.reset_index()\n",
    "  for i in range(1, len(train_new_part_user)):\n",
    "    if train_new_part_user.loc[i, 'rating' ] == 3 and train_new_part_user.loc[i-1, 'rating' ]== 5:\n",
    "     count35_loc += 1\n",
    "    if train_new_part_user.loc[i, 'rating' ] == 5 and train_new_part_user.loc[i-1, 'rating' ]== 3:\n",
    "      count35_loc += 1\n",
    "  count35_tot += count35_loc"
   ]
  },
  {
   "cell_type": "code",
   "execution_count": 101,
   "metadata": {
    "id": "9iXtEXIRn20L"
   },
   "outputs": [],
   "source": [
    "train_new_part = train_new.query('rating == 4| rating == 5')\n",
    "users = train_new_part.userid.unique()\n",
    "count45_tot = 0\n",
    "count45_loc = 0\n",
    "for user in users:\n",
    "  train_new_part_user = train_new_part.query('userid == @user') \n",
    "  train_new_part_user = train_new_part_user.reset_index()\n",
    "  for i in range(1, len(train_new_part_user)):\n",
    "    if train_new_part_user.loc[i, 'rating' ] == 4 and train_new_part_user.loc[i-1, 'rating' ]== 5:\n",
    "     count45_loc += 1\n",
    "    if train_new_part_user.loc[i, 'rating' ] == 5 and train_new_part_user.loc[i-1, 'rating' ]== 4:\n",
    "      count45_loc += 1\n",
    "  count45_tot += count45_loc"
   ]
  },
  {
   "cell_type": "code",
   "execution_count": 102,
   "metadata": {
    "id": "vqiiHGilp6wh"
   },
   "outputs": [],
   "source": [
    "train_new_part = train_new.query('rating == 1')\n",
    "users = train_new_part.userid.unique()\n",
    "count11_tot = 0\n",
    "for user in users:\n",
    "  train_new_part_user = train_new_part.query('userid == @user') \n",
    "  count11_tot += len(train_new_part_user)-1"
   ]
  },
  {
   "cell_type": "code",
   "execution_count": 103,
   "metadata": {
    "id": "G87bYIXzqOHL"
   },
   "outputs": [],
   "source": [
    "train_new_part = train_new.query('rating == 2')\n",
    "users = train_new_part.userid.unique()\n",
    "count22_tot = 0\n",
    "for user in users:\n",
    "  train_new_part_user = train_new_part.query('userid == @user') \n",
    "  count22_tot += len(train_new_part_user)-1"
   ]
  },
  {
   "cell_type": "code",
   "execution_count": 104,
   "metadata": {
    "id": "mdtbpbHFqUJq"
   },
   "outputs": [],
   "source": [
    "train_new_part = train_new.query('rating == 3')\n",
    "users = train_new_part.userid.unique()\n",
    "count33_tot = 0\n",
    "for user in users:\n",
    "  train_new_part_user = train_new_part.query('userid == @user') \n",
    "  count33_tot += len(train_new_part_user)-1"
   ]
  },
  {
   "cell_type": "code",
   "execution_count": 105,
   "metadata": {
    "id": "rmj1DCZgqXGN"
   },
   "outputs": [],
   "source": [
    "train_new_part = train_new.query('rating == 4')\n",
    "users = train_new_part.userid.unique()\n",
    "count44_tot = 0\n",
    "for user in users:\n",
    "  train_new_part_user = train_new_part.query('userid == @user') \n",
    "  count44_tot += len(train_new_part_user)-1"
   ]
  },
  {
   "cell_type": "code",
   "execution_count": 106,
   "metadata": {
    "id": "NjpS1HEtqbuD"
   },
   "outputs": [],
   "source": [
    "train_new_part = train_new.query('rating == 5')\n",
    "users = train_new_part.userid.unique()\n",
    "count55_tot = 0\n",
    "for user in users:\n",
    "  train_new_part_user = train_new_part.query('userid == @user') \n",
    "  count55_tot += len(train_new_part_user)-1"
   ]
  },
  {
   "cell_type": "code",
   "execution_count": 135,
   "metadata": {
    "id": "l1oC8VQgs2pM"
   },
   "outputs": [],
   "source": [
    "rat_dist_matrix = np.zeros((5, 5))\n",
    "\n",
    "rat_dist_matrix[0][0] = count11_tot\n",
    "rat_dist_matrix[0][1] = rat_dist_matrix[1][0]= count12_tot\n",
    "rat_dist_matrix[0][2] = rat_dist_matrix[2][0]= count13_tot\n",
    "rat_dist_matrix[0][3] = rat_dist_matrix[3][0]= count14_tot\n",
    "rat_dist_matrix[0][4] = rat_dist_matrix[4][0]= count15_tot\n",
    "rat_dist_matrix[1][1] = count22_tot\n",
    "rat_dist_matrix[1][2] = rat_dist_matrix[2][1] = count23_tot\n",
    "rat_dist_matrix[1][3] = rat_dist_matrix[3][1] = count24_tot\n",
    "rat_dist_matrix[1][4] = rat_dist_matrix[4][1] = count25_tot\n",
    "rat_dist_matrix[2][2] = count33_tot\n",
    "rat_dist_matrix[2][3] = rat_dist_matrix[3][2] = count34_tot\n",
    "rat_dist_matrix[2][4] = rat_dist_matrix[4][2] = count35_tot\n",
    "rat_dist_matrix[3][3] = count44_tot\n",
    "rat_dist_matrix[3][4] = rat_dist_matrix[4][3] = count45_tot\n",
    "rat_dist_matrix[4][4] = count55_tot       \n",
    "#a = np.linalg.cholesky(rat_dist_matrix)\n",
    "\n",
    "#for i in range(5):\n",
    "#    a[i, i] = 1e-5\n",
    "\n",
    "#attention_matrix = csr_matrix(a)"
   ]
  },
  {
   "cell_type": "code",
   "execution_count": 117,
   "metadata": {
    "colab": {
     "base_uri": "https://localhost:8080/"
    },
    "id": "_ffvZ44UvzmW",
    "outputId": "63104733-98d0-43c7-96e8-e093fbf57d85"
   },
   "outputs": [
    {
     "data": {
      "text/plain": [
       "array([[3.23670000e+04, 8.13348610e+07, 9.57270910e+07, 8.60867170e+07,\n",
       "        6.59491590e+07],\n",
       "       [8.13348610e+07, 6.22000000e+04, 2.02155670e+08, 1.80041353e+08,\n",
       "        1.22274451e+08],\n",
       "       [9.57270910e+07, 2.02155670e+08, 1.59916000e+05, 4.03570832e+08,\n",
       "        2.53789508e+08],\n",
       "       [8.60867170e+07, 1.80041353e+08, 4.03570832e+08, 2.13720000e+05,\n",
       "        3.62494017e+08],\n",
       "       [6.59491590e+07, 1.22274451e+08, 2.53789508e+08, 3.62494017e+08,\n",
       "        1.44211000e+05]])"
      ]
     },
     "execution_count": 117,
     "metadata": {},
     "output_type": "execute_result"
    }
   ],
   "source": [
    "rat_dist_matrix "
   ]
  },
  {
   "cell_type": "code",
   "execution_count": 136,
   "metadata": {
    "id": "t6S2sO_QwBVW"
   },
   "outputs": [],
   "source": [
    "summ = np.sum(rat_dist_matrix)\n",
    "rat_dist_matrix /= summ"
   ]
  },
  {
   "cell_type": "code",
   "execution_count": 124,
   "metadata": {
    "id": "0-hvdCPAw1nF"
   },
   "outputs": [],
   "source": [
    "summ_new = count11_tot+count12_tot+count13_tot+ count14_tot+count15_tot+ count23_tot+ count24_tot+ count25_tot+count34_tot+count35_tot+count45_tot++count11_tot+count22_tot+count33_tot+count44_tot+count55_tot"
   ]
  },
  {
   "cell_type": "code",
   "execution_count": 125,
   "metadata": {
    "id": "LLkd54Igxkvs"
   },
   "outputs": [],
   "source": [
    "rat_dist_matrix /= summ_new"
   ]
  },
  {
   "cell_type": "code",
   "execution_count": 132,
   "metadata": {
    "colab": {
     "base_uri": "https://localhost:8080/"
    },
    "id": "xSSI35m0zCpv",
    "outputId": "fc041f0b-9ae2-471c-ba70-2069128a0325"
   },
   "outputs": [
    {
     "data": {
      "text/plain": [
       "0.5652188487209112"
      ]
     },
     "execution_count": 132,
     "metadata": {},
     "output_type": "execute_result"
    }
   ],
   "source": [
    "np.random.uniform(low=0.0, high=1.0)"
   ]
  },
  {
   "cell_type": "code",
   "execution_count": 137,
   "metadata": {
    "id": "iyZGrbf9y0Dq"
   },
   "outputs": [],
   "source": [
    "rat_dist_matrix[0,0] += np.random.uniform(low=0.0, high=1.0)\n",
    "rat_dist_matrix[1,1] += np.random.uniform(low=0.0, high=1.0)\n",
    "rat_dist_matrix[2,2] += np.random.uniform(low=0.0, high=1.0)\n",
    "rat_dist_matrix[3,3] += np.random.uniform(low=0.0, high=1.0)\n",
    "rat_dist_matrix[4,4] += np.random.uniform(low=0.0, high=1.0)"
   ]
  },
  {
   "cell_type": "code",
   "execution_count": 138,
   "metadata": {
    "id": "4ytCfqL3vnx3"
   },
   "outputs": [],
   "source": [
    "a = np.linalg.cholesky(rat_dist_matrix)\n",
    "\n",
    "for i in range(5):\n",
    "    a[i, i] = 1e-5\n",
    "\n",
    "attention_matrix = csr_matrix(a)"
   ]
  },
  {
   "cell_type": "code",
   "execution_count": 139,
   "metadata": {
    "colab": {
     "base_uri": "https://localhost:8080/"
    },
    "id": "gw29DNGwzOtw",
    "outputId": "1e5cc15c-4b80-4edd-daf6-9f0c985d7512"
   },
   "outputs": [
    {
     "data": {
      "text/plain": [
       "<5x5 sparse matrix of type '<class 'numpy.float64'>'\n",
       "\twith 15 stored elements in Compressed Sparse Row format>"
      ]
     },
     "execution_count": 139,
     "metadata": {},
     "output_type": "execute_result"
    }
   ],
   "source": [
    "attention_matrix"
   ]
  },
  {
   "cell_type": "code",
   "execution_count": 149,
   "metadata": {
    "colab": {
     "base_uri": "https://localhost:8080/",
     "height": 35
    },
    "id": "DRR2EX7Avt7B",
    "outputId": "c49adad9-646d-484d-a3ca-652521b37a9c"
   },
   "outputs": [
    {
     "name": "stdout",
     "output_type": "stream",
     "text": [
      "HR=0.0695, MRR=0.0249, COV=0.1560\n"
     ]
    }
   ],
   "source": [
    "run_exp(attention_matrix)"
   ]
  },
  {
   "cell_type": "code",
   "execution_count": null,
   "metadata": {
    "id": "962y9K72dKiJ"
   },
   "outputs": [],
   "source": [
    "train_new.group_by()"
   ]
  },
  {
   "cell_type": "markdown",
   "metadata": {
    "id": "pPUS7PfsZdH3"
   },
   "source": [
    "# Sequential TF"
   ]
  },
  {
   "cell_type": "markdown",
   "metadata": {
    "id": "iBKqwwS8ZdH3"
   },
   "source": [
    "## Preprocessing"
   ]
  },
  {
   "cell_type": "code",
   "execution_count": null,
   "metadata": {
    "ExecuteTime": {
     "end_time": "2022-03-23T19:25:05.675914Z",
     "start_time": "2022-03-23T19:25:05.656909Z"
    },
    "id": "DhwntNWxZdH3"
   },
   "outputs": [],
   "source": [
    "n_pos = 200"
   ]
  },
  {
   "cell_type": "code",
   "execution_count": null,
   "metadata": {
    "ExecuteTime": {
     "end_time": "2022-03-23T19:25:06.222671Z",
     "start_time": "2022-03-23T19:25:06.206670Z"
    },
    "id": "4r-Rsx3dZdH3"
   },
   "outputs": [],
   "source": [
    "def assign_positions(s, maxlen=n_pos):\n",
    "    return np.arange(maxlen-len(s), maxlen)"
   ]
  },
  {
   "cell_type": "code",
   "execution_count": null,
   "metadata": {
    "ExecuteTime": {
     "end_time": "2022-03-23T19:25:06.744934Z",
     "start_time": "2022-03-23T19:25:06.733918Z"
    },
    "id": "oWYpA8ufZdH3",
    "outputId": "50d01e97-50fb-4592-caae-e78e1f812221"
   },
   "outputs": [
    {
     "data": {
      "text/html": [
       "<div>\n",
       "<style scoped>\n",
       "    .dataframe tbody tr th:only-of-type {\n",
       "        vertical-align: middle;\n",
       "    }\n",
       "\n",
       "    .dataframe tbody tr th {\n",
       "        vertical-align: top;\n",
       "    }\n",
       "\n",
       "    .dataframe thead th {\n",
       "        text-align: right;\n",
       "    }\n",
       "</style>\n",
       "<table border=\"1\" class=\"dataframe\">\n",
       "  <thead>\n",
       "    <tr style=\"text-align: right;\">\n",
       "      <th></th>\n",
       "      <th>userid</th>\n",
       "      <th>movieid</th>\n",
       "      <th>rating</th>\n",
       "      <th>timestamp</th>\n",
       "    </tr>\n",
       "  </thead>\n",
       "  <tbody>\n",
       "    <tr>\n",
       "      <th>3768</th>\n",
       "      <td>0</td>\n",
       "      <td>2725</td>\n",
       "      <td>2</td>\n",
       "      <td>978129223</td>\n",
       "    </tr>\n",
       "    <tr>\n",
       "      <th>3769</th>\n",
       "      <td>0</td>\n",
       "      <td>1134</td>\n",
       "      <td>5</td>\n",
       "      <td>978128920</td>\n",
       "    </tr>\n",
       "    <tr>\n",
       "      <th>3770</th>\n",
       "      <td>0</td>\n",
       "      <td>1136</td>\n",
       "      <td>5</td>\n",
       "      <td>978128920</td>\n",
       "    </tr>\n",
       "    <tr>\n",
       "      <th>3771</th>\n",
       "      <td>0</td>\n",
       "      <td>1138</td>\n",
       "      <td>5</td>\n",
       "      <td>978129176</td>\n",
       "    </tr>\n",
       "    <tr>\n",
       "      <th>3772</th>\n",
       "      <td>0</td>\n",
       "      <td>1070</td>\n",
       "      <td>4</td>\n",
       "      <td>978129392</td>\n",
       "    </tr>\n",
       "  </tbody>\n",
       "</table>\n",
       "</div>"
      ],
      "text/plain": [
       "      userid  movieid  rating  timestamp\n",
       "3768       0     2725       2  978129223\n",
       "3769       0     1134       5  978128920\n",
       "3770       0     1136       5  978128920\n",
       "3771       0     1138       5  978129176\n",
       "3772       0     1070       4  978129392"
      ]
     },
     "execution_count": 31,
     "metadata": {},
     "output_type": "execute_result"
    }
   ],
   "source": [
    "training.head()"
   ]
  },
  {
   "cell_type": "code",
   "execution_count": null,
   "metadata": {
    "ExecuteTime": {
     "end_time": "2022-03-23T19:25:07.775272Z",
     "start_time": "2022-03-23T19:25:07.221276Z"
    },
    "id": "uzFKNYs1ZdH4"
   },
   "outputs": [],
   "source": [
    "training_data = (\n",
    "    training\n",
    "    .sort_values('timestamp')\n",
    "    .assign(\n",
    "        pos = lambda df: df.groupby('userid')['movieid'].transform(assign_positions)\n",
    "    )\n",
    "    .sort_values(['userid', 'timestamp'])\n",
    "    .query('pos>=0')\n",
    ")"
   ]
  },
  {
   "cell_type": "code",
   "execution_count": null,
   "metadata": {
    "ExecuteTime": {
     "end_time": "2022-03-23T19:25:08.950002Z",
     "start_time": "2022-03-23T19:25:08.931999Z"
    },
    "id": "QMrWuTPaZdH4",
    "outputId": "4ed6a6ca-52d3-4464-aa8d-6c23d953fd70"
   },
   "outputs": [
    {
     "data": {
      "text/html": [
       "<div>\n",
       "<style scoped>\n",
       "    .dataframe tbody tr th:only-of-type {\n",
       "        vertical-align: middle;\n",
       "    }\n",
       "\n",
       "    .dataframe tbody tr th {\n",
       "        vertical-align: top;\n",
       "    }\n",
       "\n",
       "    .dataframe thead th {\n",
       "        text-align: right;\n",
       "    }\n",
       "</style>\n",
       "<table border=\"1\" class=\"dataframe\">\n",
       "  <thead>\n",
       "    <tr style=\"text-align: right;\">\n",
       "      <th></th>\n",
       "      <th>userid</th>\n",
       "      <th>movieid</th>\n",
       "      <th>rating</th>\n",
       "      <th>timestamp</th>\n",
       "      <th>pos</th>\n",
       "    </tr>\n",
       "  </thead>\n",
       "  <tbody>\n",
       "    <tr>\n",
       "      <th>3805</th>\n",
       "      <td>0</td>\n",
       "      <td>786</td>\n",
       "      <td>5</td>\n",
       "      <td>978128786</td>\n",
       "      <td>130</td>\n",
       "    </tr>\n",
       "    <tr>\n",
       "      <th>3819</th>\n",
       "      <td>0</td>\n",
       "      <td>1789</td>\n",
       "      <td>2</td>\n",
       "      <td>978128821</td>\n",
       "      <td>131</td>\n",
       "    </tr>\n",
       "    <tr>\n",
       "      <th>3785</th>\n",
       "      <td>0</td>\n",
       "      <td>289</td>\n",
       "      <td>4</td>\n",
       "      <td>978128821</td>\n",
       "      <td>132</td>\n",
       "    </tr>\n",
       "    <tr>\n",
       "      <th>3832</th>\n",
       "      <td>0</td>\n",
       "      <td>1545</td>\n",
       "      <td>3</td>\n",
       "      <td>978128865</td>\n",
       "      <td>133</td>\n",
       "    </tr>\n",
       "    <tr>\n",
       "      <th>3816</th>\n",
       "      <td>0</td>\n",
       "      <td>3290</td>\n",
       "      <td>1</td>\n",
       "      <td>978128865</td>\n",
       "      <td>134</td>\n",
       "    </tr>\n",
       "  </tbody>\n",
       "</table>\n",
       "</div>"
      ],
      "text/plain": [
       "      userid  movieid  rating  timestamp  pos\n",
       "3805       0      786       5  978128786  130\n",
       "3819       0     1789       2  978128821  131\n",
       "3785       0      289       4  978128821  132\n",
       "3832       0     1545       3  978128865  133\n",
       "3816       0     3290       1  978128865  134"
      ]
     },
     "execution_count": 33,
     "metadata": {},
     "output_type": "execute_result"
    }
   ],
   "source": [
    "training_data.head()"
   ]
  },
  {
   "cell_type": "code",
   "execution_count": null,
   "metadata": {
    "ExecuteTime": {
     "end_time": "2022-03-23T19:25:09.530041Z",
     "start_time": "2022-03-23T19:25:09.517044Z"
    },
    "id": "sDOYapXXZdH4",
    "outputId": "0b973b04-7be3-4b94-b36f-190ee5a82bd4"
   },
   "outputs": [
    {
     "data": {
      "text/html": [
       "<div>\n",
       "<style scoped>\n",
       "    .dataframe tbody tr th:only-of-type {\n",
       "        vertical-align: middle;\n",
       "    }\n",
       "\n",
       "    .dataframe tbody tr th {\n",
       "        vertical-align: top;\n",
       "    }\n",
       "\n",
       "    .dataframe thead th {\n",
       "        text-align: right;\n",
       "    }\n",
       "</style>\n",
       "<table border=\"1\" class=\"dataframe\">\n",
       "  <thead>\n",
       "    <tr style=\"text-align: right;\">\n",
       "      <th></th>\n",
       "      <th>userid</th>\n",
       "      <th>movieid</th>\n",
       "      <th>rating</th>\n",
       "      <th>timestamp</th>\n",
       "      <th>pos</th>\n",
       "    </tr>\n",
       "  </thead>\n",
       "  <tbody>\n",
       "    <tr>\n",
       "      <th>16861</th>\n",
       "      <td>66</td>\n",
       "      <td>301</td>\n",
       "      <td>4</td>\n",
       "      <td>977427611</td>\n",
       "      <td>111</td>\n",
       "    </tr>\n",
       "    <tr>\n",
       "      <th>16837</th>\n",
       "      <td>66</td>\n",
       "      <td>2269</td>\n",
       "      <td>3</td>\n",
       "      <td>977427611</td>\n",
       "      <td>112</td>\n",
       "    </tr>\n",
       "    <tr>\n",
       "      <th>16807</th>\n",
       "      <td>66</td>\n",
       "      <td>3620</td>\n",
       "      <td>2</td>\n",
       "      <td>977427611</td>\n",
       "      <td>113</td>\n",
       "    </tr>\n",
       "    <tr>\n",
       "      <th>16855</th>\n",
       "      <td>66</td>\n",
       "      <td>2320</td>\n",
       "      <td>1</td>\n",
       "      <td>977427611</td>\n",
       "      <td>114</td>\n",
       "    </tr>\n",
       "    <tr>\n",
       "      <th>16814</th>\n",
       "      <td>66</td>\n",
       "      <td>1917</td>\n",
       "      <td>3</td>\n",
       "      <td>977427611</td>\n",
       "      <td>115</td>\n",
       "    </tr>\n",
       "  </tbody>\n",
       "</table>\n",
       "</div>"
      ],
      "text/plain": [
       "       userid  movieid  rating  timestamp  pos\n",
       "16861      66      301       4  977427611  111\n",
       "16837      66     2269       3  977427611  112\n",
       "16807      66     3620       2  977427611  113\n",
       "16855      66     2320       1  977427611  114\n",
       "16814      66     1917       3  977427611  115"
      ]
     },
     "execution_count": 34,
     "metadata": {},
     "output_type": "execute_result"
    }
   ],
   "source": [
    "training_data.query('userid == 66').head()"
   ]
  },
  {
   "cell_type": "code",
   "execution_count": null,
   "metadata": {
    "ExecuteTime": {
     "end_time": "2022-03-23T19:25:10.301130Z",
     "start_time": "2022-03-23T19:25:10.086089Z"
    },
    "id": "Z7B4YugIZdH4"
   },
   "outputs": [],
   "source": [
    "testset_valid = (\n",
    "    testset_valid\n",
    "    .sort_values('timestamp')\n",
    "    .assign(\n",
    "        pos = lambda df: df.groupby('userid')['movieid'].transform(assign_positions)\n",
    "    )\n",
    "    .sort_values(['userid', 'timestamp'])\n",
    ")"
   ]
  },
  {
   "cell_type": "code",
   "execution_count": null,
   "metadata": {
    "ExecuteTime": {
     "end_time": "2022-03-23T19:25:10.864281Z",
     "start_time": "2022-03-23T19:25:10.850277Z"
    },
    "id": "DBba6QwDZdH4",
    "outputId": "3c6d1d16-3192-4841-fb7c-2366f9a3f97d"
   },
   "outputs": [
    {
     "data": {
      "text/html": [
       "<div>\n",
       "<style scoped>\n",
       "    .dataframe tbody tr th:only-of-type {\n",
       "        vertical-align: middle;\n",
       "    }\n",
       "\n",
       "    .dataframe tbody tr th {\n",
       "        vertical-align: top;\n",
       "    }\n",
       "\n",
       "    .dataframe thead th {\n",
       "        text-align: right;\n",
       "    }\n",
       "</style>\n",
       "<table border=\"1\" class=\"dataframe\">\n",
       "  <thead>\n",
       "    <tr style=\"text-align: right;\">\n",
       "      <th></th>\n",
       "      <th>userid</th>\n",
       "      <th>movieid</th>\n",
       "      <th>rating</th>\n",
       "      <th>timestamp</th>\n",
       "      <th>pos</th>\n",
       "    </tr>\n",
       "  </thead>\n",
       "  <tbody>\n",
       "    <tr>\n",
       "      <th>31</th>\n",
       "      <td>1</td>\n",
       "      <td>2915</td>\n",
       "      <td>4</td>\n",
       "      <td>978300019</td>\n",
       "      <td>149</td>\n",
       "    </tr>\n",
       "    <tr>\n",
       "      <th>37</th>\n",
       "      <td>1</td>\n",
       "      <td>937</td>\n",
       "      <td>5</td>\n",
       "      <td>978300055</td>\n",
       "      <td>150</td>\n",
       "    </tr>\n",
       "    <tr>\n",
       "      <th>22</th>\n",
       "      <td>1</td>\n",
       "      <td>1156</td>\n",
       "      <td>5</td>\n",
       "      <td>978300055</td>\n",
       "      <td>151</td>\n",
       "    </tr>\n",
       "    <tr>\n",
       "      <th>27</th>\n",
       "      <td>1</td>\n",
       "      <td>1544</td>\n",
       "      <td>4</td>\n",
       "      <td>978300055</td>\n",
       "      <td>152</td>\n",
       "    </tr>\n",
       "    <tr>\n",
       "      <th>24</th>\n",
       "      <td>1</td>\n",
       "      <td>2104</td>\n",
       "      <td>3</td>\n",
       "      <td>978300103</td>\n",
       "      <td>153</td>\n",
       "    </tr>\n",
       "    <tr>\n",
       "      <th>...</th>\n",
       "      <td>...</td>\n",
       "      <td>...</td>\n",
       "      <td>...</td>\n",
       "      <td>...</td>\n",
       "      <td>...</td>\n",
       "    </tr>\n",
       "    <tr>\n",
       "      <th>1000119</th>\n",
       "      <td>6040</td>\n",
       "      <td>3365</td>\n",
       "      <td>4</td>\n",
       "      <td>997454367</td>\n",
       "      <td>195</td>\n",
       "    </tr>\n",
       "    <tr>\n",
       "      <th>999923</th>\n",
       "      <td>6040</td>\n",
       "      <td>224</td>\n",
       "      <td>5</td>\n",
       "      <td>997454398</td>\n",
       "      <td>196</td>\n",
       "    </tr>\n",
       "    <tr>\n",
       "      <th>1000019</th>\n",
       "      <td>6040</td>\n",
       "      <td>2659</td>\n",
       "      <td>4</td>\n",
       "      <td>997454429</td>\n",
       "      <td>197</td>\n",
       "    </tr>\n",
       "    <tr>\n",
       "      <th>999988</th>\n",
       "      <td>6040</td>\n",
       "      <td>1708</td>\n",
       "      <td>4</td>\n",
       "      <td>997454464</td>\n",
       "      <td>198</td>\n",
       "    </tr>\n",
       "    <tr>\n",
       "      <th>1000172</th>\n",
       "      <td>6040</td>\n",
       "      <td>1588</td>\n",
       "      <td>3</td>\n",
       "      <td>997454464</td>\n",
       "      <td>199</td>\n",
       "    </tr>\n",
       "  </tbody>\n",
       "</table>\n",
       "<p>97533 rows × 5 columns</p>\n",
       "</div>"
      ],
      "text/plain": [
       "         userid  movieid  rating  timestamp  pos\n",
       "31            1     2915       4  978300019  149\n",
       "37            1      937       5  978300055  150\n",
       "22            1     1156       5  978300055  151\n",
       "27            1     1544       4  978300055  152\n",
       "24            1     2104       3  978300103  153\n",
       "...         ...      ...     ...        ...  ...\n",
       "1000119    6040     3365       4  997454367  195\n",
       "999923     6040      224       5  997454398  196\n",
       "1000019    6040     2659       4  997454429  197\n",
       "999988     6040     1708       4  997454464  198\n",
       "1000172    6040     1588       3  997454464  199\n",
       "\n",
       "[97533 rows x 5 columns]"
      ]
     },
     "execution_count": 36,
     "metadata": {},
     "output_type": "execute_result"
    }
   ],
   "source": [
    "testset_valid"
   ]
  },
  {
   "cell_type": "code",
   "execution_count": null,
   "metadata": {
    "ExecuteTime": {
     "end_time": "2022-03-23T19:25:11.477501Z",
     "start_time": "2022-03-23T19:25:11.458523Z"
    },
    "id": "RW5YuhXuZdH5",
    "outputId": "713a70ef-5db3-4073-a627-c151ae0d0fc5"
   },
   "outputs": [
    {
     "data": {
      "text/html": [
       "<div>\n",
       "<style scoped>\n",
       "    .dataframe tbody tr th:only-of-type {\n",
       "        vertical-align: middle;\n",
       "    }\n",
       "\n",
       "    .dataframe tbody tr th {\n",
       "        vertical-align: top;\n",
       "    }\n",
       "\n",
       "    .dataframe thead th {\n",
       "        text-align: right;\n",
       "    }\n",
       "</style>\n",
       "<table border=\"1\" class=\"dataframe\">\n",
       "  <thead>\n",
       "    <tr style=\"text-align: right;\">\n",
       "      <th></th>\n",
       "      <th>userid</th>\n",
       "      <th>movieid</th>\n",
       "      <th>rating</th>\n",
       "      <th>timestamp</th>\n",
       "    </tr>\n",
       "  </thead>\n",
       "  <tbody>\n",
       "    <tr>\n",
       "      <th>32</th>\n",
       "      <td>1</td>\n",
       "      <td>1412</td>\n",
       "      <td>4</td>\n",
       "      <td>978824330</td>\n",
       "    </tr>\n",
       "    <tr>\n",
       "      <th>136</th>\n",
       "      <td>2</td>\n",
       "      <td>1704</td>\n",
       "      <td>3</td>\n",
       "      <td>978300174</td>\n",
       "    </tr>\n",
       "    <tr>\n",
       "      <th>187</th>\n",
       "      <td>3</td>\n",
       "      <td>101</td>\n",
       "      <td>4</td>\n",
       "      <td>978298486</td>\n",
       "    </tr>\n",
       "    <tr>\n",
       "      <th>237</th>\n",
       "      <td>4</td>\n",
       "      <td>951</td>\n",
       "      <td>4</td>\n",
       "      <td>978294282</td>\n",
       "    </tr>\n",
       "    <tr>\n",
       "      <th>418</th>\n",
       "      <td>5</td>\n",
       "      <td>1671</td>\n",
       "      <td>3</td>\n",
       "      <td>978246576</td>\n",
       "    </tr>\n",
       "  </tbody>\n",
       "</table>\n",
       "</div>"
      ],
      "text/plain": [
       "     userid  movieid  rating  timestamp\n",
       "32        1     1412       4  978824330\n",
       "136       2     1704       3  978300174\n",
       "187       3      101       4  978298486\n",
       "237       4      951       4  978294282\n",
       "418       5     1671       3  978246576"
      ]
     },
     "execution_count": 37,
     "metadata": {},
     "output_type": "execute_result"
    }
   ],
   "source": [
    "holdout_valid.head()"
   ]
  },
  {
   "cell_type": "markdown",
   "metadata": {
    "id": "6XZwVh2NZdH5"
   },
   "source": [
    "## Model"
   ]
  },
  {
   "cell_type": "code",
   "execution_count": null,
   "metadata": {
    "ExecuteTime": {
     "end_time": "2022-03-23T19:25:12.529202Z",
     "start_time": "2022-03-23T19:25:12.509163Z"
    },
    "id": "UCw-lSWeZdH5",
    "outputId": "705eb3b0-354d-44b6-a4fb-32a4c464d0a9"
   },
   "outputs": [
    {
     "data": {
      "text/plain": [
       "{'users': 'userid',\n",
       " 'items': 'movieid',\n",
       " 'feedback': 'rating',\n",
       " 'positions': 'pos',\n",
       " 'n_users': 4831,\n",
       " 'n_items': 3635,\n",
       " 'n_pos': 200}"
      ]
     },
     "execution_count": 38,
     "metadata": {},
     "output_type": "execute_result"
    }
   ],
   "source": [
    "data_description = dict(\n",
    "    users = data_index['users'].name,\n",
    "    items = data_index['items'].name,\n",
    "    feedback = 'rating',\n",
    "    positions = 'pos',\n",
    "    n_users = len(data_index['users']),\n",
    "    n_items = len(data_index['items']),\n",
    "    n_pos = n_pos\n",
    ")\n",
    "data_description"
   ]
  },
  {
   "cell_type": "code",
   "execution_count": 144,
   "metadata": {
    "ExecuteTime": {
     "end_time": "2022-03-23T19:25:13.665014Z",
     "start_time": "2022-03-23T19:25:13.647962Z"
    },
    "id": "PP4DM53NZdH5"
   },
   "outputs": [],
   "source": [
    "def seqtf_model_build(config, data, data_description):\n",
    "    userid = data_description[\"users\"]\n",
    "    itemid = data_description[\"items\"]\n",
    "    positions = data_description[\"positions\"]\n",
    "\n",
    "    n_users = data_description[\"n_users\"]\n",
    "    n_items = data_description[\"n_items\"]\n",
    "    max_pos = data_description[\"n_pos\"]\n",
    "    shape = (n_users, n_items, max_pos)\n",
    "\n",
    "    attention_matrix = form_attention_matrix(\n",
    "        data_description[\"n_pos\"],\n",
    "        config[\"attention_decay\"],\n",
    "        format = 'csr'\n",
    "    )\n",
    "\n",
    "    item_popularity = (\n",
    "        data[itemid]\n",
    "        .value_counts(sort=False)\n",
    "        .reindex(range(n_items))\n",
    "        .fillna(1)\n",
    "        .values\n",
    "    )\n",
    "    scaling_weights = get_scaling_weights(item_popularity, scaling=config[\"scaling\"])\n",
    "\n",
    "    idx = data[[userid, itemid, positions]].values\n",
    "    val = np.ones(idx.shape[0], dtype='f8')\n",
    "\n",
    "    user_factors, item_factors, feedback_factors = sa_hooi(\n",
    "        idx, val, shape, config[\"mlrank\"],\n",
    "        attention_matrix = attention_matrix,\n",
    "        scaling_weights = scaling_weights,\n",
    "        max_iters = config[\"num_iters\"],\n",
    "        parallel_ttm = False,\n",
    "        randomized = config[\"randomized\"],\n",
    "        growth_tol = config[\"growth_tol\"],\n",
    "        seed = config[\"seed\"],\n",
    "        iter_callback = None,\n",
    "    )\n",
    "    return user_factors, item_factors, feedback_factors, attention_matrix\n"
   ]
  },
  {
   "cell_type": "code",
   "execution_count": null,
   "metadata": {
    "ExecuteTime": {
     "end_time": "2022-03-23T19:25:14.217465Z",
     "start_time": "2022-03-23T19:25:14.211462Z"
    },
    "id": "CmH_BBAGZdH6"
   },
   "outputs": [],
   "source": [
    "config = {\n",
    "    \"scaling\": 1,\n",
    "    \"mlrank\": (30, 30, 5),\n",
    "    \"n_pos\": n_pos,\n",
    "    \"num_iters\": 5,\n",
    "    \"attention_decay\": 1,\n",
    "    \"randomized\": True,\n",
    "    \"growth_tol\": 1e-4,\n",
    "    \"seed\": 42\n",
    "}"
   ]
  },
  {
   "cell_type": "code",
   "execution_count": null,
   "metadata": {
    "ExecuteTime": {
     "end_time": "2022-03-23T19:25:18.176981Z",
     "start_time": "2022-03-23T19:25:15.815978Z"
    },
    "id": "uJycuEYmZdH6",
    "outputId": "ace03348-6ddb-4450-ad8f-e3db7453da01"
   },
   "outputs": [
    {
     "name": "stdout",
     "output_type": "stream",
     "text": [
      "growth of the core: 1.0\n",
      "growth of the core: 0.3624574470983329\n",
      "growth of the core: 0.030755154018483048\n",
      "growth of the core: 0.0033607523844195937\n",
      "growth of the core: 0.001020242607428142\n"
     ]
    }
   ],
   "source": [
    "tf_params = seqtf_model_build(config, training_data, data_description)"
   ]
  },
  {
   "cell_type": "code",
   "execution_count": null,
   "metadata": {
    "ExecuteTime": {
     "end_time": "2022-03-23T19:25:18.851233Z",
     "start_time": "2022-03-23T19:25:18.830201Z"
    },
    "id": "XmZQbHdbZdH6"
   },
   "outputs": [],
   "source": [
    "def tf_scoring(params, data, data_description):\n",
    "    user_factors, item_factors, pos_factors, attention_matrix = params\n",
    "    last_position_projector = generate_position_projector(attention_matrix, pos_factors)\n",
    "\n",
    "    userid = data_description[\"users\"]\n",
    "    itemid = data_description[\"items\"]\n",
    "    posid = data_description[\"positions\"]\n",
    "\n",
    "    tset_data = data.sort_values([userid, posid])\n",
    "    useridx = tset_data[userid].values\n",
    "    itemidx = tset_data[itemid].values\n",
    "    indptr, = np.where(np.diff(useridx, prepend=0, append=1))\n",
    "    scores = user_scoring(indptr, itemidx, item_factors, last_position_projector)\n",
    "    return scores\n",
    "\n",
    "def user_scoring(indptr, indices, item_factors, last_position_projector):\n",
    "    sequences = np.array_split(indices, indptr[1:-1])\n",
    "    n_items = item_factors.shape[0]\n",
    "    scores = np.zeros((len(sequences), n_items))\n",
    "    for u, seq in enumerate(sequences):\n",
    "        scores[u] = sequences_score(seq, item_factors, last_position_projector)\n",
    "    return scores\n",
    "\n",
    "def sequences_score(seq, item_factors, last_position_projector):\n",
    "    n_pos = len(last_position_projector)\n",
    "    user_profile = item_factors[seq[-(n_pos-1):], :]\n",
    "    n_items = user_profile.shape[0]\n",
    "    scores = item_factors @ (user_profile.T @ last_position_projector[-(n_items+1):-1])\n",
    "    return scores"
   ]
  },
  {
   "cell_type": "code",
   "execution_count": null,
   "metadata": {
    "ExecuteTime": {
     "end_time": "2022-03-23T19:25:19.512521Z",
     "start_time": "2022-03-23T19:25:19.438516Z"
    },
    "id": "BBrewxS6ZdH6",
    "outputId": "b3bb9b6e-4a89-4929-f847-c564e8707b5c"
   },
   "outputs": [
    {
     "name": "stderr",
     "output_type": "stream",
     "text": [
      "/Users/scalyvladimir/miniforge3/envs/firstEnv/lib/python3.8/site-packages/scipy/sparse/coo.py:431: SparseEfficiencyWarning: Constructing a DIA matrix with 200 diagonals is inefficient\n",
      "  warn(\"Constructing a DIA matrix with %d diagonals \"\n"
     ]
    }
   ],
   "source": [
    "tf_scores = tf_scoring(tf_params, testset_valid, data_description)"
   ]
  },
  {
   "cell_type": "code",
   "execution_count": null,
   "metadata": {
    "ExecuteTime": {
     "end_time": "2022-03-23T19:25:20.021092Z",
     "start_time": "2022-03-23T19:25:20.007087Z"
    },
    "id": "2Afux6FEZdH7"
   },
   "outputs": [],
   "source": [
    "downvote_seen_items(tf_scores, testset_valid, data_description)"
   ]
  },
  {
   "cell_type": "code",
   "execution_count": null,
   "metadata": {
    "ExecuteTime": {
     "end_time": "2022-03-23T19:25:21.237921Z",
     "start_time": "2022-03-23T19:25:21.185913Z"
    },
    "id": "xiqvOfMgZdH7",
    "outputId": "8de34be9-07e4-49ba-a0fb-d24b437d2471"
   },
   "outputs": [
    {
     "data": {
      "text/plain": [
       "(0.07827616534740545, 0.028646465915595207, 0.16203576341127923)"
      ]
     },
     "execution_count": 45,
     "metadata": {},
     "output_type": "execute_result"
    }
   ],
   "source": [
    "tf_recs = topn_recommendations(tf_scores, topn=10)\n",
    "model_evaluate(tf_recs, holdout_valid, data_description)"
   ]
  },
  {
   "cell_type": "code",
   "execution_count": null,
   "metadata": {
    "id": "_3lf2E-iZdH7"
   },
   "outputs": [],
   "source": [
    ""
   ]
  }
 ],
 "metadata": {
  "colab": {
   "name": "CoFFee_Matrices.ipynb",
   "provenance": []
  },
  "interpreter": {
   "hash": "009c838d92940ae6fa3c0eca0f0908a58be7fe030119f0cd30e204cb459dcff7"
  },
  "kernelspec": {
   "display_name": "firstEnv",
   "language": "python",
   "name": "firstenv"
  },
  "language_info": {
   "codemirror_mode": {
    "name": "ipython",
    "version": 3
   },
   "file_extension": ".py",
   "mimetype": "text/x-python",
   "name": "python",
   "nbconvert_exporter": "python",
   "pygments_lexer": "ipython3",
   "version": "3.8.8"
  },
  "toc": {
   "base_numbering": 1,
   "nav_menu": {},
   "number_sections": true,
   "sideBar": true,
   "skip_h1_title": false,
   "title_cell": "Table of Contents",
   "title_sidebar": "Contents",
   "toc_cell": false,
   "toc_position": {
    "height": "calc(100% - 180px)",
    "left": "10px",
    "top": "150px",
    "width": "341.333px"
   },
   "toc_section_display": true,
   "toc_window_display": true
  },
  "varInspector": {
   "cols": {
    "lenName": 16,
    "lenType": 16,
    "lenVar": 40
   },
   "kernels_config": {
    "python": {
     "delete_cmd_postfix": "",
     "delete_cmd_prefix": "del ",
     "library": "var_list.py",
     "varRefreshCmd": "print(var_dic_list())"
    },
    "r": {
     "delete_cmd_postfix": ") ",
     "delete_cmd_prefix": "rm(",
     "library": "var_list.r",
     "varRefreshCmd": "cat(var_dic_list()) "
    }
   },
   "types_to_exclude": [
    "module",
    "function",
    "builtin_function_or_method",
    "instance",
    "_Feature"
   ],
   "window_display": false
  }
 },
 "nbformat": 4,
 "nbformat_minor": 0
}
