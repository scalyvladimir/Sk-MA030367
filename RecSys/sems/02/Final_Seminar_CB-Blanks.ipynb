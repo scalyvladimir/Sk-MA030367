{
 "cells": [
  {
   "cell_type": "code",
   "execution_count": 7,
   "metadata": {},
   "outputs": [],
   "source": [
    "import numpy as np\n",
    "import pandas as pd\n",
    "import sklearn\n",
    "\n",
    "\n",
    "from sklearn.feature_extraction.text import TfidfVectorizer\n",
    "from sklearn.linear_model import LinearRegression, LogisticRegression\n",
    "from sklearn.metrics.pairwise import cosine_similarity\n",
    "from sklearn.metrics import accuracy_score\n",
    "\n",
    "from dataproc import load_animes, load_profiles_reviews\n",
    "from tqdm import tqdm"
   ]
  },
  {
   "cell_type": "markdown",
   "metadata": {},
   "source": [
    "Data may be downloaded from here\n",
    "\n",
    "https://www.kaggle.com/marlesson/myanimelist-dataset-animes-profiles-reviews/version/1?select=profiles.csv"
   ]
  },
  {
   "cell_type": "code",
   "execution_count": 8,
   "metadata": {},
   "outputs": [
    {
     "data": {
      "text/plain": [
       "'1.0'"
      ]
     },
     "execution_count": 8,
     "metadata": {},
     "output_type": "execute_result"
    }
   ],
   "source": [
    "sklearn.__version__"
   ]
  },
  {
   "cell_type": "code",
   "execution_count": 13,
   "metadata": {},
   "outputs": [],
   "source": [
    "anime_path = 'animes.csv'\n",
    "profiles_path = 'profiles.csv'\n",
    "reviews_path = 'reviews.csv'"
   ]
  },
  {
   "cell_type": "code",
   "execution_count": 32,
   "metadata": {},
   "outputs": [],
   "source": [
    "anime = load_animes(anime_path)\n",
    "reviews, profiles = load_profiles_reviews(reviews_path, profiles_path)"
   ]
  },
  {
   "cell_type": "markdown",
   "metadata": {},
   "source": [
    "# PURE CONTENT BASED MODELS"
   ]
  },
  {
   "cell_type": "markdown",
   "metadata": {},
   "source": [
    "We will explore application of regression and classification approaches.\n",
    "\n",
    "In regression task (in its straightforward implementation) we want to predict average score based on any parameter (parameters) of anime. Here we will use TFIDF vectors of synopsis of each anime\n",
    "\n",
    "$$\n",
    "S = W * x +W_0\n",
    "$$\n",
    "\n",
    "where $x$ - tfidf vectors $S$ -predicted scores, $W_0$ -bias\n",
    "\n",
    "We have TfIdf vectores and average scores to pursue this task"
   ]
  },
  {
   "cell_type": "code",
   "execution_count": 34,
   "metadata": {},
   "outputs": [
    {
     "data": {
      "text/html": [
       "<div>\n",
       "<style scoped>\n",
       "    .dataframe tbody tr th:only-of-type {\n",
       "        vertical-align: middle;\n",
       "    }\n",
       "\n",
       "    .dataframe tbody tr th {\n",
       "        vertical-align: top;\n",
       "    }\n",
       "\n",
       "    .dataframe thead th {\n",
       "        text-align: right;\n",
       "    }\n",
       "</style>\n",
       "<table border=\"1\" class=\"dataframe\">\n",
       "  <thead>\n",
       "    <tr style=\"text-align: right;\">\n",
       "      <th></th>\n",
       "      <th>anime_id</th>\n",
       "      <th>score</th>\n",
       "      <th>soup</th>\n",
       "    </tr>\n",
       "  </thead>\n",
       "  <tbody>\n",
       "    <tr>\n",
       "      <th>0</th>\n",
       "      <td>28891</td>\n",
       "      <td>8.82</td>\n",
       "      <td>following participation inter high karasuno hi...</td>\n",
       "    </tr>\n",
       "    <tr>\n",
       "      <th>1</th>\n",
       "      <td>23273</td>\n",
       "      <td>8.83</td>\n",
       "      <td>music accompanies path human metronome prodigi...</td>\n",
       "    </tr>\n",
       "    <tr>\n",
       "      <th>2</th>\n",
       "      <td>34599</td>\n",
       "      <td>8.83</td>\n",
       "      <td>abyss gaping chasm stretching depths earth fil...</td>\n",
       "    </tr>\n",
       "  </tbody>\n",
       "</table>\n",
       "</div>"
      ],
      "text/plain": [
       "   anime_id  score                                               soup\n",
       "0     28891   8.82  following participation inter high karasuno hi...\n",
       "1     23273   8.83  music accompanies path human metronome prodigi...\n",
       "2     34599   8.83  abyss gaping chasm stretching depths earth fil..."
      ]
     },
     "execution_count": 34,
     "metadata": {},
     "output_type": "execute_result"
    }
   ],
   "source": [
    "def get_scores(anime):\n",
    "    '''\n",
    "    Cleanup/preprocess scores values.\n",
    "    '''\n",
    "    scored_df = (\n",
    "        anime[['anime_id', 'score', 'soup']]\n",
    "        .query('score > 0')\n",
    "    )\n",
    "    return scored_df\n",
    "\n",
    "anime_scores = get_scores(anime)\n",
    "anime_scores.head(3)"
   ]
  },
  {
   "cell_type": "code",
   "execution_count": 35,
   "metadata": {},
   "outputs": [],
   "source": [
    "def get_test_pairs(profiles, reviews, n_pairs, score_cutoff=5, seed=0):\n",
    "    '''\n",
    "    we define test pairs - \n",
    "    users with n animes the like \n",
    "    and the same amount of animes they dislike\n",
    "    '''\n",
    "    rs = np.random.RandomState(0)\n",
    "    user_favorites = (\n",
    "        profiles\n",
    "        .set_index('profile_idx')['favorites_anime']\n",
    "        .apply(lambda x: rs.choice(x, n_pairs, replace=False) if len(x)>=n_pairs else [])\n",
    "        .loc[lambda x: x.apply(len) > 0]\n",
    "        .rename('likes')\n",
    "    )\n",
    "    user_negatives = (\n",
    "        reviews\n",
    "        .query('score < @score_cutoff and profile_idx in @user_favorites.index')\n",
    "        .groupby('profile_idx')['anime_id']\n",
    "        .apply(list)\n",
    "        .apply(lambda x: rs.choice(x, n_pairs, replace=False) if len(x)>=n_pairs else [])\n",
    "        .loc[lambda x: x.apply(len) > 0]\n",
    "        .rename('dislikes')\n",
    "    )\n",
    "    test_pairs = pd.concat([user_favorites, user_negatives], axis=1, join='inner')\n",
    "    return test_pairs"
   ]
  },
  {
   "cell_type": "code",
   "execution_count": 73,
   "metadata": {},
   "outputs": [],
   "source": [
    "def create_anime_train_(anime, test_pairs):\n",
    "    '''\n",
    "    delete test animes from anime dataset\n",
    "    '''\n",
    "    labels_to_drop = []\n",
    "    anime_scores = get_scores(anime)\n",
    "    for user_id in test_pairs.index:\n",
    "        labels_to_drop.extend(test_pairs.loc[user_id].likes)\n",
    "        labels_to_drop.extend(test_pairs.loc[user_id].dislikes)\n",
    "    labels_to_drop = set(labels_to_drop)\n",
    "    anime_= anime_scores.query('anime_id not in @labels_to_drop')\n",
    "    return anime_"
   ]
  },
  {
   "cell_type": "code",
   "execution_count": 270,
   "metadata": {},
   "outputs": [],
   "source": [
    "test_pairs = get_test_pairs(profiles, reviews, 2)\n",
    "anime_ = create_anime_train_(anime, test_pairs)"
   ]
  },
  {
   "cell_type": "markdown",
   "metadata": {},
   "source": [
    "# Regression Task"
   ]
  },
  {
   "cell_type": "code",
   "execution_count": 116,
   "metadata": {},
   "outputs": [],
   "source": [
    "def build_cb_model(config, trainset, trainset_description):\n",
    "    # create TfIDF matrix\n",
    "    word_vectorizer = TfidfVectorizer(**config['tfidf'])\n",
    "    tfidf_matrix = word_vectorizer.fit_transform(trainset[trainset_description['item_features']])\n",
    "    # fit model\n",
    "    reg = LinearRegression().fit(tfidf_matrix, trainset[trainset_description[\"feedback\"]].values)\n",
    "    return reg, word_vectorizer\n",
    "\n",
    "\n",
    "def cb_model_scoring(params, testset, testset_description):\n",
    "    '''\n",
    "    predict the scores for our data\n",
    "    '''\n",
    "    reg, word_vectorizer = params\n",
    "    tf_idf_matrix = word_vectorizer.transform(testset[testset_description['item_features']])\n",
    "    scores = reg.predict(tf_idf_matrix)\n",
    "    return scores"
   ]
  },
  {
   "cell_type": "code",
   "execution_count": 117,
   "metadata": {},
   "outputs": [],
   "source": [
    "# we define configuration of our model\n",
    "# basically, a set of hyper-parameters\n",
    "cb_config = {\n",
    "    \"tfidf\": dict( # TfIDF Vectorizer config\n",
    "        ngram_range = (1, 1),\n",
    "        min_df=5, max_df=0.9,\n",
    "        strip_accents='unicode',\n",
    "        stop_words = 'english',\n",
    "        analyzer = 'word',\n",
    "        use_idf=1,\n",
    "        smooth_idf=1,\n",
    "        sublinear_tf=1\n",
    "    ),\n",
    "}\n",
    "# we also define a general representation of our dataset\n",
    "anime_description = {\n",
    "    \"items\": \"anime_id\",\n",
    "    \"item_features\": \"soup\",\n",
    "}"
   ]
  },
  {
   "cell_type": "code",
   "execution_count": 118,
   "metadata": {},
   "outputs": [],
   "source": [
    "anime_description['feedback'] = 'score'\n",
    "cb_params = build_cb_model(cb_config, anime_, anime_description)"
   ]
  },
  {
   "cell_type": "code",
   "execution_count": 119,
   "metadata": {},
   "outputs": [],
   "source": [
    "cb_scores = cb_model_scoring(cb_params, anime_, anime_description)"
   ]
  },
  {
   "cell_type": "markdown",
   "metadata": {},
   "source": [
    "# Analyzing features "
   ]
  },
  {
   "cell_type": "code",
   "execution_count": 204,
   "metadata": {},
   "outputs": [],
   "source": [
    "def top_idx(a, topk):\n",
    "    parted = np.argpartition(a, -topk)[-topk:]\n",
    "    return parted[np.argsort(-a[parted])]"
   ]
  },
  {
   "cell_type": "code",
   "execution_count": 123,
   "metadata": {},
   "outputs": [],
   "source": [
    "def significant_features(params, topn=10, reverse=False):\n",
    "    '''\n",
    "    print the most or the least if reverse is true \n",
    "    significant features for a model with abs of its weghts\n",
    "    '''\n",
    "    reg, word_vectorizer = params\n",
    "    features_weights = reg.coef_.squeeze()\n",
    "    if reverse:\n",
    "        features_weights = -features_weights\n",
    "    top_features_idx = top_idx(features_weights, topn)\n",
    "    features = word_vectorizer.get_feature_names_out()\n",
    "    feature_scores = pd.DataFrame(\n",
    "        zip(features[top_features_idx], features_weights[top_features_idx]),\n",
    "        columns = ['feature', 'abs(weight)']\n",
    "    )\n",
    "    return feature_scores"
   ]
  },
  {
   "cell_type": "code",
   "execution_count": 126,
   "metadata": {},
   "outputs": [
    {
     "data": {
      "text/html": [
       "<div>\n",
       "<style scoped>\n",
       "    .dataframe tbody tr th:only-of-type {\n",
       "        vertical-align: middle;\n",
       "    }\n",
       "\n",
       "    .dataframe tbody tr th {\n",
       "        vertical-align: top;\n",
       "    }\n",
       "\n",
       "    .dataframe thead th {\n",
       "        text-align: right;\n",
       "    }\n",
       "</style>\n",
       "<table border=\"1\" class=\"dataframe\">\n",
       "  <thead>\n",
       "    <tr style=\"text-align: right;\">\n",
       "      <th></th>\n",
       "      <th>feature</th>\n",
       "      <th>abs(weight)</th>\n",
       "    </tr>\n",
       "  </thead>\n",
       "  <tbody>\n",
       "    <tr>\n",
       "      <th>0</th>\n",
       "      <td>kensetsu</td>\n",
       "      <td>23.553075</td>\n",
       "    </tr>\n",
       "    <tr>\n",
       "      <th>1</th>\n",
       "      <td>rantarou</td>\n",
       "      <td>21.151100</td>\n",
       "    </tr>\n",
       "    <tr>\n",
       "      <th>2</th>\n",
       "      <td>fi</td>\n",
       "      <td>15.290137</td>\n",
       "    </tr>\n",
       "    <tr>\n",
       "      <th>3</th>\n",
       "      <td>multitude</td>\n",
       "      <td>14.994913</td>\n",
       "    </tr>\n",
       "    <tr>\n",
       "      <th>4</th>\n",
       "      <td>lamperouge</td>\n",
       "      <td>14.940619</td>\n",
       "    </tr>\n",
       "    <tr>\n",
       "      <th>5</th>\n",
       "      <td>arduous</td>\n",
       "      <td>12.937629</td>\n",
       "    </tr>\n",
       "    <tr>\n",
       "      <th>6</th>\n",
       "      <td>prompting</td>\n",
       "      <td>12.921582</td>\n",
       "    </tr>\n",
       "    <tr>\n",
       "      <th>7</th>\n",
       "      <td>swore</td>\n",
       "      <td>12.723055</td>\n",
       "    </tr>\n",
       "    <tr>\n",
       "      <th>8</th>\n",
       "      <td>challenger</td>\n",
       "      <td>12.602501</td>\n",
       "    </tr>\n",
       "    <tr>\n",
       "      <th>9</th>\n",
       "      <td>reigning</td>\n",
       "      <td>12.355513</td>\n",
       "    </tr>\n",
       "  </tbody>\n",
       "</table>\n",
       "</div>"
      ],
      "text/plain": [
       "      feature  abs(weight)\n",
       "0    kensetsu    23.553075\n",
       "1    rantarou    21.151100\n",
       "2          fi    15.290137\n",
       "3   multitude    14.994913\n",
       "4  lamperouge    14.940619\n",
       "5     arduous    12.937629\n",
       "6   prompting    12.921582\n",
       "7       swore    12.723055\n",
       "8  challenger    12.602501\n",
       "9    reigning    12.355513"
      ]
     },
     "execution_count": 126,
     "metadata": {},
     "output_type": "execute_result"
    }
   ],
   "source": [
    "significant_features(cb_params)"
   ]
  },
  {
   "cell_type": "code",
   "execution_count": 127,
   "metadata": {},
   "outputs": [
    {
     "data": {
      "text/html": [
       "<div>\n",
       "<style scoped>\n",
       "    .dataframe tbody tr th:only-of-type {\n",
       "        vertical-align: middle;\n",
       "    }\n",
       "\n",
       "    .dataframe tbody tr th {\n",
       "        vertical-align: top;\n",
       "    }\n",
       "\n",
       "    .dataframe thead th {\n",
       "        text-align: right;\n",
       "    }\n",
       "</style>\n",
       "<table border=\"1\" class=\"dataframe\">\n",
       "  <thead>\n",
       "    <tr style=\"text-align: right;\">\n",
       "      <th></th>\n",
       "      <th>feature</th>\n",
       "      <th>abs(weight)</th>\n",
       "    </tr>\n",
       "  </thead>\n",
       "  <tbody>\n",
       "    <tr>\n",
       "      <th>0</th>\n",
       "      <td>nintama</td>\n",
       "      <td>20.844622</td>\n",
       "    </tr>\n",
       "    <tr>\n",
       "      <th>1</th>\n",
       "      <td>sci</td>\n",
       "      <td>15.033451</td>\n",
       "    </tr>\n",
       "    <tr>\n",
       "      <th>2</th>\n",
       "      <td>latent</td>\n",
       "      <td>13.539301</td>\n",
       "    </tr>\n",
       "    <tr>\n",
       "      <th>3</th>\n",
       "      <td>kururugi</td>\n",
       "      <td>11.361679</td>\n",
       "    </tr>\n",
       "    <tr>\n",
       "      <th>4</th>\n",
       "      <td>tackle</td>\n",
       "      <td>11.249427</td>\n",
       "    </tr>\n",
       "    <tr>\n",
       "      <th>5</th>\n",
       "      <td>coffy</td>\n",
       "      <td>10.960947</td>\n",
       "    </tr>\n",
       "    <tr>\n",
       "      <th>6</th>\n",
       "      <td>taisei</td>\n",
       "      <td>10.717617</td>\n",
       "    </tr>\n",
       "    <tr>\n",
       "      <th>7</th>\n",
       "      <td>cliffs</td>\n",
       "      <td>10.569892</td>\n",
       "    </tr>\n",
       "    <tr>\n",
       "      <th>8</th>\n",
       "      <td>abundant</td>\n",
       "      <td>10.487510</td>\n",
       "    </tr>\n",
       "    <tr>\n",
       "      <th>9</th>\n",
       "      <td>firsthand</td>\n",
       "      <td>10.434869</td>\n",
       "    </tr>\n",
       "  </tbody>\n",
       "</table>\n",
       "</div>"
      ],
      "text/plain": [
       "     feature  abs(weight)\n",
       "0    nintama    20.844622\n",
       "1        sci    15.033451\n",
       "2     latent    13.539301\n",
       "3   kururugi    11.361679\n",
       "4     tackle    11.249427\n",
       "5      coffy    10.960947\n",
       "6     taisei    10.717617\n",
       "7     cliffs    10.569892\n",
       "8   abundant    10.487510\n",
       "9  firsthand    10.434869"
      ]
     },
     "execution_count": 127,
     "metadata": {},
     "output_type": "execute_result"
    }
   ],
   "source": [
    "significant_features(cb_params, reverse=True)"
   ]
  },
  {
   "cell_type": "markdown",
   "metadata": {},
   "source": [
    "## Simple evaluation"
   ]
  },
  {
   "cell_type": "code",
   "execution_count": 128,
   "metadata": {},
   "outputs": [
    {
     "data": {
      "text/plain": [
       "0.3176052887507751"
      ]
     },
     "execution_count": 128,
     "metadata": {},
     "output_type": "execute_result"
    }
   ],
   "source": [
    "np.sqrt(np.mean((anime_['score'].values - cb_scores)**2))"
   ]
  },
  {
   "cell_type": "code",
   "execution_count": 129,
   "metadata": {},
   "outputs": [
    {
     "data": {
      "text/plain": [
       "0.23503513141572813"
      ]
     },
     "execution_count": 129,
     "metadata": {},
     "output_type": "execute_result"
    }
   ],
   "source": [
    "np.mean(np.abs(anime_['score'].values - cb_scores))"
   ]
  },
  {
   "cell_type": "code",
   "execution_count": 130,
   "metadata": {},
   "outputs": [
    {
     "data": {
      "text/plain": [
       "<AxesSubplot:>"
      ]
     },
     "execution_count": 130,
     "metadata": {},
     "output_type": "execute_result"
    },
    {
     "data": {
      "image/png": "[encoded data removed]",
      "text/plain": [
       "<Figure size 432x288 with 1 Axes>"
      ]
     },
     "metadata": {
      "needs_background": "light"
     },
     "output_type": "display_data"
    }
   ],
   "source": [
    "pd.Series(cb_scores).hist()"
   ]
  },
  {
   "cell_type": "markdown",
   "metadata": {},
   "source": [
    "## A little more difficult evaluation"
   ]
  },
  {
   "cell_type": "code",
   "execution_count": 131,
   "metadata": {},
   "outputs": [
    {
     "data": {
      "text/html": [
       "<div>\n",
       "<style scoped>\n",
       "    .dataframe tbody tr th:only-of-type {\n",
       "        vertical-align: middle;\n",
       "    }\n",
       "\n",
       "    .dataframe tbody tr th {\n",
       "        vertical-align: top;\n",
       "    }\n",
       "\n",
       "    .dataframe thead th {\n",
       "        text-align: right;\n",
       "    }\n",
       "</style>\n",
       "<table border=\"1\" class=\"dataframe\">\n",
       "  <thead>\n",
       "    <tr style=\"text-align: right;\">\n",
       "      <th></th>\n",
       "      <th>likes</th>\n",
       "      <th>dislikes</th>\n",
       "    </tr>\n",
       "    <tr>\n",
       "      <th>profile_idx</th>\n",
       "      <th></th>\n",
       "      <th></th>\n",
       "    </tr>\n",
       "  </thead>\n",
       "  <tbody>\n",
       "    <tr>\n",
       "      <th>45780</th>\n",
       "      <td>[2136, 11827]</td>\n",
       "      <td>[3402, 2944]</td>\n",
       "    </tr>\n",
       "    <tr>\n",
       "      <th>46058</th>\n",
       "      <td>[5959, 12957]</td>\n",
       "      <td>[24327, 21925]</td>\n",
       "    </tr>\n",
       "    <tr>\n",
       "      <th>35541</th>\n",
       "      <td>[269, 2798]</td>\n",
       "      <td>[3980, 3793]</td>\n",
       "    </tr>\n",
       "    <tr>\n",
       "      <th>46519</th>\n",
       "      <td>[437, 1454]</td>\n",
       "      <td>[4934, 5813]</td>\n",
       "    </tr>\n",
       "    <tr>\n",
       "      <th>29983</th>\n",
       "      <td>[933, 26055]</td>\n",
       "      <td>[5569, 33820]</td>\n",
       "    </tr>\n",
       "    <tr>\n",
       "      <th>...</th>\n",
       "      <td>...</td>\n",
       "      <td>...</td>\n",
       "    </tr>\n",
       "    <tr>\n",
       "      <th>14698</th>\n",
       "      <td>[9756, 17074]</td>\n",
       "      <td>[33003, 34966]</td>\n",
       "    </tr>\n",
       "    <tr>\n",
       "      <th>6929</th>\n",
       "      <td>[14719, 11111]</td>\n",
       "      <td>[32979, 36266]</td>\n",
       "    </tr>\n",
       "    <tr>\n",
       "      <th>15720</th>\n",
       "      <td>[2025, 339]</td>\n",
       "      <td>[34966, 3287]</td>\n",
       "    </tr>\n",
       "    <tr>\n",
       "      <th>28456</th>\n",
       "      <td>[1535, 934]</td>\n",
       "      <td>[31812, 2476]</td>\n",
       "    </tr>\n",
       "    <tr>\n",
       "      <th>41782</th>\n",
       "      <td>[457, 10721]</td>\n",
       "      <td>[32949, 34822]</td>\n",
       "    </tr>\n",
       "  </tbody>\n",
       "</table>\n",
       "<p>1873 rows × 2 columns</p>\n",
       "</div>"
      ],
      "text/plain": [
       "                      likes        dislikes\n",
       "profile_idx                                \n",
       "45780         [2136, 11827]    [3402, 2944]\n",
       "46058         [5959, 12957]  [24327, 21925]\n",
       "35541           [269, 2798]    [3980, 3793]\n",
       "46519           [437, 1454]    [4934, 5813]\n",
       "29983          [933, 26055]   [5569, 33820]\n",
       "...                     ...             ...\n",
       "14698         [9756, 17074]  [33003, 34966]\n",
       "6929         [14719, 11111]  [32979, 36266]\n",
       "15720           [2025, 339]   [34966, 3287]\n",
       "28456           [1535, 934]   [31812, 2476]\n",
       "41782          [457, 10721]  [32949, 34822]\n",
       "\n",
       "[1873 rows x 2 columns]"
      ]
     },
     "execution_count": 131,
     "metadata": {},
     "output_type": "execute_result"
    }
   ],
   "source": [
    "test_pairs"
   ]
  },
  {
   "cell_type": "code",
   "execution_count": 144,
   "metadata": {},
   "outputs": [],
   "source": [
    "def create_test_soup(test_pairs, anime):\n",
    "\n",
    "    '''\n",
    "    Pick out all the text info (soup) for every anime from test_pairs\n",
    "    '''\n",
    "    \n",
    "    ind = 0\n",
    "    id_2_n = dict()\n",
    "    n_2_id = dict()\n",
    "    soups = []\n",
    "    for like in test_pairs.likes:\n",
    "\n",
    "        id_2_n[like] = ind\n",
    "        n_2_id[ind] = like\n",
    "        \n",
    "        ind += 1\n",
    "        line = \"\"\n",
    "        if len(anime.soup[anime.anime_id == like].values) > 0:\n",
    "            line += anime.soup[anime.anime_id == like].values[0]\n",
    "        soups.append(line)\n",
    "        \n",
    "    for dislike in test_pairs.dislikes:\n",
    "\n",
    "        id_2_n[dislike] = ind\n",
    "        n_2_id[ind] = dislike\n",
    "        \n",
    "        ind += 1\n",
    "        line = \"\"\n",
    "        if len(anime.soup[anime.anime_id == dislike].values) > 0:\n",
    "            line += anime.soup[anime.anime_id == dislike].values[0]\n",
    "        soups.append(line)\n",
    "    return id_2_n, n_2_id, soups"
   ]
  },
  {
   "cell_type": "code",
   "execution_count": 145,
   "metadata": {},
   "outputs": [
    {
     "data": {
      "text/html": [
       "<div>\n",
       "<style scoped>\n",
       "    .dataframe tbody tr th:only-of-type {\n",
       "        vertical-align: middle;\n",
       "    }\n",
       "\n",
       "    .dataframe tbody tr th {\n",
       "        vertical-align: top;\n",
       "    }\n",
       "\n",
       "    .dataframe thead th {\n",
       "        text-align: right;\n",
       "    }\n",
       "</style>\n",
       "<table border=\"1\" class=\"dataframe\">\n",
       "  <thead>\n",
       "    <tr style=\"text-align: right;\">\n",
       "      <th></th>\n",
       "      <th>profile</th>\n",
       "      <th>gender</th>\n",
       "      <th>birthday</th>\n",
       "      <th>favorites_anime</th>\n",
       "      <th>link</th>\n",
       "      <th>profile_idx</th>\n",
       "    </tr>\n",
       "  </thead>\n",
       "  <tbody>\n",
       "    <tr>\n",
       "      <th>31951</th>\n",
       "      <td>sdrowkcab</td>\n",
       "      <td>NaN</td>\n",
       "      <td>NaN</td>\n",
       "      <td>[]</td>\n",
       "      <td>https://myanimelist.net/profile/sdrowkcab</td>\n",
       "      <td>44000</td>\n",
       "    </tr>\n",
       "    <tr>\n",
       "      <th>31952</th>\n",
       "      <td>INU4SH4</td>\n",
       "      <td>Male</td>\n",
       "      <td>Nov 22, 1996</td>\n",
       "      <td>[19, 457, 634, 26, 437, 11341, 455, 34537, 225...</td>\n",
       "      <td>https://myanimelist.net/profile/INU4SH4</td>\n",
       "      <td>11445</td>\n",
       "    </tr>\n",
       "    <tr>\n",
       "      <th>31953</th>\n",
       "      <td>thetickdickler</td>\n",
       "      <td>NaN</td>\n",
       "      <td>NaN</td>\n",
       "      <td>[221, 3350, 11827, 4714, 2681, 2136, 1405, 368...</td>\n",
       "      <td>https://myanimelist.net/profile/thetickdickler</td>\n",
       "      <td>45780</td>\n",
       "    </tr>\n",
       "    <tr>\n",
       "      <th>31954</th>\n",
       "      <td>Sidewinder51</td>\n",
       "      <td>NaN</td>\n",
       "      <td>NaN</td>\n",
       "      <td>[]</td>\n",
       "      <td>https://myanimelist.net/profile/Sidewinder51</td>\n",
       "      <td>24591</td>\n",
       "    </tr>\n",
       "    <tr>\n",
       "      <th>31955</th>\n",
       "      <td>trashonthecurb</td>\n",
       "      <td>Female</td>\n",
       "      <td>NaN</td>\n",
       "      <td>[23033, 2798, 5959, 12957, 17745]</td>\n",
       "      <td>https://myanimelist.net/profile/trashonthecurb</td>\n",
       "      <td>46058</td>\n",
       "    </tr>\n",
       "    <tr>\n",
       "      <th>...</th>\n",
       "      <td>...</td>\n",
       "      <td>...</td>\n",
       "      <td>...</td>\n",
       "      <td>...</td>\n",
       "      <td>...</td>\n",
       "      <td>...</td>\n",
       "    </tr>\n",
       "    <tr>\n",
       "      <th>81722</th>\n",
       "      <td>lovelessxd</td>\n",
       "      <td>Female</td>\n",
       "      <td>Aug 6, 1992</td>\n",
       "      <td>[853, 5114]</td>\n",
       "      <td>https://myanimelist.net/profile/lovelessxd</td>\n",
       "      <td>39702</td>\n",
       "    </tr>\n",
       "    <tr>\n",
       "      <th>81723</th>\n",
       "      <td>Shattered_Angel</td>\n",
       "      <td>Female</td>\n",
       "      <td>Sep 6, 1994</td>\n",
       "      <td>[150, 27, 1520, 121, 31452, 32995, 877, 14713,...</td>\n",
       "      <td>https://myanimelist.net/profile/Shattered_Angel</td>\n",
       "      <td>24199</td>\n",
       "    </tr>\n",
       "    <tr>\n",
       "      <th>81724</th>\n",
       "      <td>FluffyWalrus</td>\n",
       "      <td>Male</td>\n",
       "      <td>NaN</td>\n",
       "      <td>[121, 43, 237, 202, 205]</td>\n",
       "      <td>https://myanimelist.net/profile/FluffyWalrus</td>\n",
       "      <td>9035</td>\n",
       "    </tr>\n",
       "    <tr>\n",
       "      <th>81725</th>\n",
       "      <td>camco</td>\n",
       "      <td>Female</td>\n",
       "      <td>Sep 23</td>\n",
       "      <td>[199, 4224, 7054, 13601, 14713]</td>\n",
       "      <td>https://myanimelist.net/profile/camco</td>\n",
       "      <td>33210</td>\n",
       "    </tr>\n",
       "    <tr>\n",
       "      <th>81726</th>\n",
       "      <td>nyja-chan</td>\n",
       "      <td>Female</td>\n",
       "      <td>Nov 13</td>\n",
       "      <td>[39195, 38000, 440, 457, 34599, 2251, 37779, 1...</td>\n",
       "      <td>https://myanimelist.net/profile/nyja-chan</td>\n",
       "      <td>41782</td>\n",
       "    </tr>\n",
       "  </tbody>\n",
       "</table>\n",
       "<p>47885 rows × 6 columns</p>\n",
       "</div>"
      ],
      "text/plain": [
       "               profile  gender      birthday  \\\n",
       "31951        sdrowkcab     NaN           NaN   \n",
       "31952          INU4SH4    Male  Nov 22, 1996   \n",
       "31953   thetickdickler     NaN           NaN   \n",
       "31954     Sidewinder51     NaN           NaN   \n",
       "31955   trashonthecurb  Female           NaN   \n",
       "...                ...     ...           ...   \n",
       "81722       lovelessxd  Female   Aug 6, 1992   \n",
       "81723  Shattered_Angel  Female   Sep 6, 1994   \n",
       "81724     FluffyWalrus    Male           NaN   \n",
       "81725            camco  Female        Sep 23   \n",
       "81726        nyja-chan  Female        Nov 13   \n",
       "\n",
       "                                         favorites_anime  \\\n",
       "31951                                                 []   \n",
       "31952  [19, 457, 634, 26, 437, 11341, 455, 34537, 225...   \n",
       "31953  [221, 3350, 11827, 4714, 2681, 2136, 1405, 368...   \n",
       "31954                                                 []   \n",
       "31955                  [23033, 2798, 5959, 12957, 17745]   \n",
       "...                                                  ...   \n",
       "81722                                        [853, 5114]   \n",
       "81723  [150, 27, 1520, 121, 31452, 32995, 877, 14713,...   \n",
       "81724                           [121, 43, 237, 202, 205]   \n",
       "81725                    [199, 4224, 7054, 13601, 14713]   \n",
       "81726  [39195, 38000, 440, 457, 34599, 2251, 37779, 1...   \n",
       "\n",
       "                                                  link  profile_idx  \n",
       "31951        https://myanimelist.net/profile/sdrowkcab        44000  \n",
       "31952          https://myanimelist.net/profile/INU4SH4        11445  \n",
       "31953   https://myanimelist.net/profile/thetickdickler        45780  \n",
       "31954     https://myanimelist.net/profile/Sidewinder51        24591  \n",
       "31955   https://myanimelist.net/profile/trashonthecurb        46058  \n",
       "...                                                ...          ...  \n",
       "81722       https://myanimelist.net/profile/lovelessxd        39702  \n",
       "81723  https://myanimelist.net/profile/Shattered_Angel        24199  \n",
       "81724     https://myanimelist.net/profile/FluffyWalrus         9035  \n",
       "81725            https://myanimelist.net/profile/camco        33210  \n",
       "81726        https://myanimelist.net/profile/nyja-chan        41782  \n",
       "\n",
       "[47885 rows x 6 columns]"
      ]
     },
     "execution_count": 145,
     "metadata": {},
     "output_type": "execute_result"
    }
   ],
   "source": [
    "profiles"
   ]
  },
  {
   "cell_type": "code",
   "execution_count": 155,
   "metadata": {},
   "outputs": [
    {
     "data": {
      "text/plain": [
       "array([ 2136, 11827])"
      ]
     },
     "execution_count": 155,
     "metadata": {},
     "output_type": "execute_result"
    }
   ],
   "source": [
    "test_pairs.iloc[0].likes"
   ]
  },
  {
   "cell_type": "code",
   "execution_count": 268,
   "metadata": {},
   "outputs": [],
   "source": [
    "def cb_model_evaluation(params, test_pairs, anime_test, anime_description, reviews, LOGREG=False):\n",
    "    \n",
    "    '''\n",
    "    evaluate our model for test pairs by comparing predicted score to the ground truth\n",
    "    '''\n",
    "\n",
    "    reg, word_vectorizer = params\n",
    "    \n",
    "    \n",
    "    n = len(test_pairs.iloc[0].likes)\n",
    "    m = len(test_pairs)\n",
    "\n",
    "    numerator  = 0\n",
    "    for user_id in test_pairs.index:\n",
    "        s = 0\n",
    "        id_2_n, n_2_id, soups = create_test_soup(test_pairs.loc[user_id], anime)\n",
    "        tf_idf_matrix = word_vectorizer.transform(soups)\n",
    "\n",
    "        scores_predicted = np.array(reg.predict(tf_idf_matrix))\n",
    "        scores_predicted = np.where(scores_predicted>10, 0, scores_predicted)\n",
    "        \n",
    "        l_scores = reviews[(reviews.anime_id.isin(test_pairs.loc[user_id].dislikes)) &(reviews.profile_idx == user_id)].score.values\n",
    "        h_scores = []\n",
    "        \n",
    "        for j in range(n):\n",
    "            cand = reviews[(reviews.anime_id == test_pairs.loc[user_id].likes[j]) &(reviews.profile_idx == user_id)].score.values\n",
    "            \n",
    "            if len(cand) > 0:\n",
    "                h_scores.append(cand[0])\n",
    "            else:\n",
    "                h_scores.append(10)\n",
    "\n",
    "        pros = scores_predicted[:n]\n",
    "        cons = scores_predicted[n:]\n",
    "\n",
    "        s += np.sum(np.abs(h_scores-pros) < np.abs(cons - h_scores))\n",
    "        s += np.sum(np.abs(l_scores -pros) > np.abs(l_scores -cons))\n",
    "        \n",
    "\n",
    "        numerator +=s\n",
    "\n",
    "    return numerator / (2* m*n)\n",
    "        "
   ]
  },
  {
   "cell_type": "code",
   "execution_count": 174,
   "metadata": {},
   "outputs": [
    {
     "data": {
      "text/html": [
       "<div>\n",
       "<style scoped>\n",
       "    .dataframe tbody tr th:only-of-type {\n",
       "        vertical-align: middle;\n",
       "    }\n",
       "\n",
       "    .dataframe tbody tr th {\n",
       "        vertical-align: top;\n",
       "    }\n",
       "\n",
       "    .dataframe thead th {\n",
       "        text-align: right;\n",
       "    }\n",
       "</style>\n",
       "<table border=\"1\" class=\"dataframe\">\n",
       "  <thead>\n",
       "    <tr style=\"text-align: right;\">\n",
       "      <th></th>\n",
       "      <th>uid</th>\n",
       "      <th>profile</th>\n",
       "      <th>anime_id</th>\n",
       "      <th>text</th>\n",
       "      <th>score</th>\n",
       "      <th>scores</th>\n",
       "      <th>link</th>\n",
       "      <th>profile_idx</th>\n",
       "    </tr>\n",
       "  </thead>\n",
       "  <tbody>\n",
       "    <tr>\n",
       "      <th>0</th>\n",
       "      <td>255938</td>\n",
       "      <td>DesolatePsyche</td>\n",
       "      <td>34096</td>\n",
       "      <td>\\n           \\n         \\n           \\n       ...</td>\n",
       "      <td>8</td>\n",
       "      <td>{'Overall': '8', 'Story': '8', 'Animation': '8...</td>\n",
       "      <td>https://myanimelist.net/reviews.php?id=255938</td>\n",
       "      <td>6837</td>\n",
       "    </tr>\n",
       "    <tr>\n",
       "      <th>1</th>\n",
       "      <td>259117</td>\n",
       "      <td>baekbeans</td>\n",
       "      <td>34599</td>\n",
       "      <td>\\n           \\n         \\n           \\n       ...</td>\n",
       "      <td>10</td>\n",
       "      <td>{'Overall': '10', 'Story': '10', 'Animation': ...</td>\n",
       "      <td>https://myanimelist.net/reviews.php?id=259117</td>\n",
       "      <td>32404</td>\n",
       "    </tr>\n",
       "    <tr>\n",
       "      <th>2</th>\n",
       "      <td>253664</td>\n",
       "      <td>skrn</td>\n",
       "      <td>28891</td>\n",
       "      <td>\\n           \\n         \\n           \\n       ...</td>\n",
       "      <td>7</td>\n",
       "      <td>{'Overall': '7', 'Story': '7', 'Animation': '9...</td>\n",
       "      <td>https://myanimelist.net/reviews.php?id=253664</td>\n",
       "      <td>44549</td>\n",
       "    </tr>\n",
       "    <tr>\n",
       "      <th>3</th>\n",
       "      <td>8254</td>\n",
       "      <td>edgewalker00</td>\n",
       "      <td>2904</td>\n",
       "      <td>\\n           \\n         \\n           \\n       ...</td>\n",
       "      <td>9</td>\n",
       "      <td>{'Overall': '9', 'Story': '9', 'Animation': '9...</td>\n",
       "      <td>https://myanimelist.net/reviews.php?id=8254</td>\n",
       "      <td>35005</td>\n",
       "    </tr>\n",
       "    <tr>\n",
       "      <th>4</th>\n",
       "      <td>291149</td>\n",
       "      <td>aManOfCulture99</td>\n",
       "      <td>4181</td>\n",
       "      <td>\\n           \\n         \\n           \\n       ...</td>\n",
       "      <td>10</td>\n",
       "      <td>{'Overall': '10', 'Story': '10', 'Animation': ...</td>\n",
       "      <td>https://myanimelist.net/reviews.php?id=291149</td>\n",
       "      <td>31031</td>\n",
       "    </tr>\n",
       "    <tr>\n",
       "      <th>...</th>\n",
       "      <td>...</td>\n",
       "      <td>...</td>\n",
       "      <td>...</td>\n",
       "      <td>...</td>\n",
       "      <td>...</td>\n",
       "      <td>...</td>\n",
       "      <td>...</td>\n",
       "      <td>...</td>\n",
       "    </tr>\n",
       "    <tr>\n",
       "      <th>182629</th>\n",
       "      <td>146535</td>\n",
       "      <td>iHitokage</td>\n",
       "      <td>2593</td>\n",
       "      <td>\\n           \\n         \\n           \\n       ...</td>\n",
       "      <td>10</td>\n",
       "      <td>{'Overall': '10', 'Story': '10', 'Animation': ...</td>\n",
       "      <td>https://myanimelist.net/reviews.php?id=146535</td>\n",
       "      <td>37018</td>\n",
       "    </tr>\n",
       "    <tr>\n",
       "      <th>182631</th>\n",
       "      <td>13126</td>\n",
       "      <td>Onegai</td>\n",
       "      <td>2593</td>\n",
       "      <td>\\n           \\n         \\n           \\n       ...</td>\n",
       "      <td>7</td>\n",
       "      <td>{'Overall': '7', 'Story': '6', 'Animation': '9...</td>\n",
       "      <td>https://myanimelist.net/reviews.php?id=13126</td>\n",
       "      <td>19916</td>\n",
       "    </tr>\n",
       "    <tr>\n",
       "      <th>182633</th>\n",
       "      <td>127899</td>\n",
       "      <td>Murasa22</td>\n",
       "      <td>2593</td>\n",
       "      <td>\\n           \\n         \\n           \\n       ...</td>\n",
       "      <td>10</td>\n",
       "      <td>{'Overall': '10', 'Story': '9', 'Animation': '...</td>\n",
       "      <td>https://myanimelist.net/reviews.php?id=127899</td>\n",
       "      <td>18362</td>\n",
       "    </tr>\n",
       "    <tr>\n",
       "      <th>182636</th>\n",
       "      <td>286852</td>\n",
       "      <td>srry4apologizng</td>\n",
       "      <td>2593</td>\n",
       "      <td>\\n           \\n         \\n           \\n       ...</td>\n",
       "      <td>9</td>\n",
       "      <td>{'Overall': '9', 'Story': '5', 'Animation': '1...</td>\n",
       "      <td>https://myanimelist.net/reviews.php?id=286852</td>\n",
       "      <td>44943</td>\n",
       "    </tr>\n",
       "    <tr>\n",
       "      <th>182637</th>\n",
       "      <td>193145</td>\n",
       "      <td>bellellis</td>\n",
       "      <td>2593</td>\n",
       "      <td>\\n           \\n         \\n           \\n       ...</td>\n",
       "      <td>10</td>\n",
       "      <td>{'Overall': '10', 'Story': '10', 'Animation': ...</td>\n",
       "      <td>https://myanimelist.net/reviews.php?id=193145</td>\n",
       "      <td>32566</td>\n",
       "    </tr>\n",
       "  </tbody>\n",
       "</table>\n",
       "<p>130519 rows × 8 columns</p>\n",
       "</div>"
      ],
      "text/plain": [
       "           uid          profile  anime_id  \\\n",
       "0       255938   DesolatePsyche     34096   \n",
       "1       259117        baekbeans     34599   \n",
       "2       253664             skrn     28891   \n",
       "3         8254     edgewalker00      2904   \n",
       "4       291149  aManOfCulture99      4181   \n",
       "...        ...              ...       ...   \n",
       "182629  146535        iHitokage      2593   \n",
       "182631   13126           Onegai      2593   \n",
       "182633  127899         Murasa22      2593   \n",
       "182636  286852  srry4apologizng      2593   \n",
       "182637  193145        bellellis      2593   \n",
       "\n",
       "                                                     text  score  \\\n",
       "0       \\n           \\n         \\n           \\n       ...      8   \n",
       "1       \\n           \\n         \\n           \\n       ...     10   \n",
       "2       \\n           \\n         \\n           \\n       ...      7   \n",
       "3       \\n           \\n         \\n           \\n       ...      9   \n",
       "4       \\n           \\n         \\n           \\n       ...     10   \n",
       "...                                                   ...    ...   \n",
       "182629  \\n           \\n         \\n           \\n       ...     10   \n",
       "182631  \\n           \\n         \\n           \\n       ...      7   \n",
       "182633  \\n           \\n         \\n           \\n       ...     10   \n",
       "182636  \\n           \\n         \\n           \\n       ...      9   \n",
       "182637  \\n           \\n         \\n           \\n       ...     10   \n",
       "\n",
       "                                                   scores  \\\n",
       "0       {'Overall': '8', 'Story': '8', 'Animation': '8...   \n",
       "1       {'Overall': '10', 'Story': '10', 'Animation': ...   \n",
       "2       {'Overall': '7', 'Story': '7', 'Animation': '9...   \n",
       "3       {'Overall': '9', 'Story': '9', 'Animation': '9...   \n",
       "4       {'Overall': '10', 'Story': '10', 'Animation': ...   \n",
       "...                                                   ...   \n",
       "182629  {'Overall': '10', 'Story': '10', 'Animation': ...   \n",
       "182631  {'Overall': '7', 'Story': '6', 'Animation': '9...   \n",
       "182633  {'Overall': '10', 'Story': '9', 'Animation': '...   \n",
       "182636  {'Overall': '9', 'Story': '5', 'Animation': '1...   \n",
       "182637  {'Overall': '10', 'Story': '10', 'Animation': ...   \n",
       "\n",
       "                                                 link  profile_idx  \n",
       "0       https://myanimelist.net/reviews.php?id=255938         6837  \n",
       "1       https://myanimelist.net/reviews.php?id=259117        32404  \n",
       "2       https://myanimelist.net/reviews.php?id=253664        44549  \n",
       "3         https://myanimelist.net/reviews.php?id=8254        35005  \n",
       "4       https://myanimelist.net/reviews.php?id=291149        31031  \n",
       "...                                               ...          ...  \n",
       "182629  https://myanimelist.net/reviews.php?id=146535        37018  \n",
       "182631   https://myanimelist.net/reviews.php?id=13126        19916  \n",
       "182633  https://myanimelist.net/reviews.php?id=127899        18362  \n",
       "182636  https://myanimelist.net/reviews.php?id=286852        44943  \n",
       "182637  https://myanimelist.net/reviews.php?id=193145        32566  \n",
       "\n",
       "[130519 rows x 8 columns]"
      ]
     },
     "execution_count": 174,
     "metadata": {},
     "output_type": "execute_result"
    }
   ],
   "source": [
    "reviews"
   ]
  },
  {
   "cell_type": "code",
   "execution_count": 269,
   "metadata": {},
   "outputs": [
    {
     "data": {
      "text/plain": [
       "0.5304324612920448"
      ]
     },
     "execution_count": 269,
     "metadata": {},
     "output_type": "execute_result"
    }
   ],
   "source": [
    "cb_model_evaluation(cb_params, test_pairs, anime_, anime_description, reviews)"
   ]
  },
  {
   "cell_type": "markdown",
   "metadata": {},
   "source": [
    "# Classification Task"
   ]
  },
  {
   "cell_type": "markdown",
   "metadata": {},
   "source": [
    "- Your task is to turn regression model into classification model.\n",
    "- Use `LogisitcRegression` class from `sklearn` fro this.\n",
    "- adopt previously derived functions for the new approach.\n",
    "\n",
    "- try using more than 2 classes (i.e., not just binary)"
   ]
  },
  {
   "cell_type": "markdown",
   "metadata": {},
   "source": [
    "In classification task we predict any category (label). Here we will predict whether the  anime can be recommended or not. We will do it in simple way. For example LogReg\n",
    "\n",
    "\n",
    "$$\n",
    "y_{pred} = \\frac{1}{1+e^{W*x +W_0}}\n",
    "$$\n",
    "\n",
    "But first of all we need to label our dataset. Let's take a look at the scores"
   ]
  },
  {
   "cell_type": "code",
   "execution_count": 23,
   "metadata": {},
   "outputs": [
    {
     "data": {
      "text/plain": [
       "<matplotlib.axes._subplots.AxesSubplot at 0x1a2b828310>"
      ]
     },
     "execution_count": 23,
     "metadata": {},
     "output_type": "execute_result"
    },
    {
     "data": {
      "image/png": "[encoded data removed]",
      "text/plain": [
       "<Figure size 432x288 with 1 Axes>"
      ]
     },
     "metadata": {
      "needs_background": "light"
     },
     "output_type": "display_data"
    }
   ],
   "source": [
    "anime.score.hist()"
   ]
  },
  {
   "cell_type": "markdown",
   "metadata": {},
   "source": [
    "The histogram shows that the mean of our average score distribution is a little bit disolased.\n",
    "So we can take its mean as a borderline and say, that all the animes with average score < 6.37 are lame,  and all the animes with scores above this value are lit"
   ]
  },
  {
   "cell_type": "code",
   "execution_count": 24,
   "metadata": {},
   "outputs": [
    {
     "data": {
      "text/plain": [
       "6.3464661417323125"
      ]
     },
     "execution_count": 24,
     "metadata": {},
     "output_type": "execute_result"
    }
   ],
   "source": [
    "anime.score.mean()"
   ]
  },
  {
   "cell_type": "code",
   "execution_count": 25,
   "metadata": {},
   "outputs": [],
   "source": [
    "def get_labels(anime):\n",
    "    labeled_df = anime.assign(\n",
    "        recommend = lambda x: x[\"score\"].apply(...)\n",
    "    )\n",
    "    return labeled_df"
   ]
  },
  {
   "cell_type": "code",
   "execution_count": 27,
   "metadata": {},
   "outputs": [],
   "source": [
    "anime_cl = get_labels(anime_)\n"
   ]
  },
  {
   "cell_type": "code",
   "execution_count": 28,
   "metadata": {},
   "outputs": [],
   "source": [
    "def build_cb_log_model(config, trainset, trainset_description):\n",
    "    # create TfIDF matrix\n",
    "    ...\n",
    "    return reg, word_vectorizer"
   ]
  },
  {
   "cell_type": "code",
   "execution_count": 29,
   "metadata": {},
   "outputs": [],
   "source": [
    "cb_log_config = {**cb_config,   **{\"model_config\": dict(class_weight=\"balanced\")} } \n",
    "anime_description['feedback'] = 'recommend' # 0/1 instead of scores\n",
    "\n",
    "cb_log_params = build_cb_log_model(cb_log_config, anime_cl, anime_description)"
   ]
  },
  {
   "cell_type": "markdown",
   "metadata": {},
   "source": [
    "# Analyzing features "
   ]
  },
  {
   "cell_type": "code",
   "execution_count": 30,
   "metadata": {},
   "outputs": [
    {
     "data": {
      "text/html": [
       "<div>\n",
       "<style scoped>\n",
       "    .dataframe tbody tr th:only-of-type {\n",
       "        vertical-align: middle;\n",
       "    }\n",
       "\n",
       "    .dataframe tbody tr th {\n",
       "        vertical-align: top;\n",
       "    }\n",
       "\n",
       "    .dataframe thead th {\n",
       "        text-align: right;\n",
       "    }\n",
       "</style>\n",
       "<table border=\"1\" class=\"dataframe\">\n",
       "  <thead>\n",
       "    <tr style=\"text-align: right;\">\n",
       "      <th></th>\n",
       "      <th>feature</th>\n",
       "      <th>weight</th>\n",
       "    </tr>\n",
       "  </thead>\n",
       "  <tbody>\n",
       "    <tr>\n",
       "      <th>0</th>\n",
       "      <td>shounen</td>\n",
       "      <td>3.816369</td>\n",
       "    </tr>\n",
       "    <tr>\n",
       "      <th>1</th>\n",
       "      <td>written</td>\n",
       "      <td>3.727415</td>\n",
       "    </tr>\n",
       "    <tr>\n",
       "      <th>2</th>\n",
       "      <td>drama</td>\n",
       "      <td>3.616983</td>\n",
       "    </tr>\n",
       "    <tr>\n",
       "      <th>3</th>\n",
       "      <td>rewrite</td>\n",
       "      <td>3.543186</td>\n",
       "    </tr>\n",
       "    <tr>\n",
       "      <th>4</th>\n",
       "      <td>mal</td>\n",
       "      <td>3.230304</td>\n",
       "    </tr>\n",
       "    <tr>\n",
       "      <th>5</th>\n",
       "      <td>mystery</td>\n",
       "      <td>3.008835</td>\n",
       "    </tr>\n",
       "    <tr>\n",
       "      <th>6</th>\n",
       "      <td>romance</td>\n",
       "      <td>2.930423</td>\n",
       "    </tr>\n",
       "    <tr>\n",
       "      <th>7</th>\n",
       "      <td>idolish</td>\n",
       "      <td>2.840110</td>\n",
       "    </tr>\n",
       "    <tr>\n",
       "      <th>8</th>\n",
       "      <td>educational</td>\n",
       "      <td>2.776427</td>\n",
       "    </tr>\n",
       "    <tr>\n",
       "      <th>9</th>\n",
       "      <td>school</td>\n",
       "      <td>2.722502</td>\n",
       "    </tr>\n",
       "  </tbody>\n",
       "</table>\n",
       "</div>"
      ],
      "text/plain": [
       "       feature    weight\n",
       "0      shounen  3.816369\n",
       "1      written  3.727415\n",
       "2        drama  3.616983\n",
       "3      rewrite  3.543186\n",
       "4          mal  3.230304\n",
       "5      mystery  3.008835\n",
       "6      romance  2.930423\n",
       "7      idolish  2.840110\n",
       "8  educational  2.776427\n",
       "9       school  2.722502"
      ]
     },
     "execution_count": 30,
     "metadata": {},
     "output_type": "execute_result"
    }
   ],
   "source": [
    "significant_features(cb_log_params)"
   ]
  },
  {
   "cell_type": "code",
   "execution_count": 31,
   "metadata": {},
   "outputs": [
    {
     "data": {
      "text/html": [
       "<div>\n",
       "<style scoped>\n",
       "    .dataframe tbody tr th:only-of-type {\n",
       "        vertical-align: middle;\n",
       "    }\n",
       "\n",
       "    .dataframe tbody tr th {\n",
       "        vertical-align: top;\n",
       "    }\n",
       "\n",
       "    .dataframe thead th {\n",
       "        text-align: right;\n",
       "    }\n",
       "</style>\n",
       "<table border=\"1\" class=\"dataframe\">\n",
       "  <thead>\n",
       "    <tr style=\"text-align: right;\">\n",
       "      <th></th>\n",
       "      <th>feature</th>\n",
       "      <th>weight</th>\n",
       "    </tr>\n",
       "  </thead>\n",
       "  <tbody>\n",
       "    <tr>\n",
       "      <th>0</th>\n",
       "      <td>dementia</td>\n",
       "      <td>3.984027</td>\n",
       "    </tr>\n",
       "    <tr>\n",
       "      <th>1</th>\n",
       "      <td>korean</td>\n",
       "      <td>3.315499</td>\n",
       "    </tr>\n",
       "    <tr>\n",
       "      <th>2</th>\n",
       "      <td>anidb</td>\n",
       "      <td>3.101767</td>\n",
       "    </tr>\n",
       "    <tr>\n",
       "      <th>3</th>\n",
       "      <td>commercial</td>\n",
       "      <td>2.670886</td>\n",
       "    </tr>\n",
       "    <tr>\n",
       "      <th>4</th>\n",
       "      <td>music</td>\n",
       "      <td>2.390315</td>\n",
       "    </tr>\n",
       "    <tr>\n",
       "      <th>5</th>\n",
       "      <td>kids</td>\n",
       "      <td>2.294752</td>\n",
       "    </tr>\n",
       "    <tr>\n",
       "      <th>6</th>\n",
       "      <td>short</td>\n",
       "      <td>2.280889</td>\n",
       "    </tr>\n",
       "    <tr>\n",
       "      <th>7</th>\n",
       "      <td>horror</td>\n",
       "      <td>2.276705</td>\n",
       "    </tr>\n",
       "    <tr>\n",
       "      <th>8</th>\n",
       "      <td>peeping</td>\n",
       "      <td>2.136995</td>\n",
       "    </tr>\n",
       "    <tr>\n",
       "      <th>9</th>\n",
       "      <td>song</td>\n",
       "      <td>1.958018</td>\n",
       "    </tr>\n",
       "  </tbody>\n",
       "</table>\n",
       "</div>"
      ],
      "text/plain": [
       "      feature    weight\n",
       "0    dementia  3.984027\n",
       "1      korean  3.315499\n",
       "2       anidb  3.101767\n",
       "3  commercial  2.670886\n",
       "4       music  2.390315\n",
       "5        kids  2.294752\n",
       "6       short  2.280889\n",
       "7      horror  2.276705\n",
       "8     peeping  2.136995\n",
       "9        song  1.958018"
      ]
     },
     "execution_count": 31,
     "metadata": {},
     "output_type": "execute_result"
    }
   ],
   "source": [
    "significant_features(cb_log_params, reverse=True)"
   ]
  },
  {
   "cell_type": "code",
   "execution_count": 36,
   "metadata": {},
   "outputs": [],
   "source": [
    "cb_log_scores = cb_model_scoring(cb_log_params, anime_cl, anime_description)"
   ]
  },
  {
   "cell_type": "code",
   "execution_count": 39,
   "metadata": {},
   "outputs": [
    {
     "data": {
      "image/png": "[encoded data removed]",
      "text/plain": [
       "<Figure size 432x288 with 1 Axes>"
      ]
     },
     "metadata": {
      "needs_background": "light"
     },
     "output_type": "display_data"
    }
   ],
   "source": [
    "pd.Series(cb_log_scores).value_counts().plot.bar();\n"
   ]
  },
  {
   "cell_type": "code",
   "execution_count": 41,
   "metadata": {},
   "outputs": [
    {
     "data": {
      "text/plain": [
       "0.8329427274058884"
      ]
     },
     "execution_count": 41,
     "metadata": {},
     "output_type": "execute_result"
    }
   ],
   "source": [
    "accuracy_score(anime_cl.recommend.values, cb_log_scores)"
   ]
  },
  {
   "cell_type": "code",
   "execution_count": 42,
   "metadata": {},
   "outputs": [],
   "source": [
    "def cb_model_evaluation_cl(params, test_pairs, anime_test, anime_description, reviews):\n",
    "\n",
    "    '''\n",
    "    evaluate our model for test pairs by comparing the probability of the correct label to 1\n",
    "    '''\n",
    "\n",
    "    reg, word_vectorizer = params\n",
    "    \n",
    "    \n",
    "    n = len(test_pairs.iloc[0].likes)\n",
    "    m = len(test_pairs)\n",
    "\n",
    "    numerator  = 0\n",
    "    for user_id in test_pairs.index:\n",
    "        s = 0\n",
    "        id_2_n, n_2_id, soups = create_test_soup(test_pairs.loc[user_id], anime)\n",
    "        tf_idf_matrix = word_vectorizer.transform(soups)\n",
    "        \n",
    "        scores_predicted = reg.predict_proba(tf_idf_matrix)[:,1]\n",
    "\n",
    "        ...\n",
    "        \n",
    "\n",
    "        numerator +=s\n",
    "\n",
    "    return numerator / ...\n",
    "        "
   ]
  },
  {
   "cell_type": "code",
   "execution_count": 45,
   "metadata": {},
   "outputs": [
    {
     "data": {
      "text/plain": [
       "0.5971703150026695"
      ]
     },
     "execution_count": 45,
     "metadata": {},
     "output_type": "execute_result"
    }
   ],
   "source": [
    "cb_model_evaluation_cl(cb_log_params, test_pairs, anime_, anime_description, reviews)"
   ]
  },
  {
   "cell_type": "markdown",
   "metadata": {},
   "source": [
    "# MODEL BASED ON COSINE SIMILARITY"
   ]
  },
  {
   "cell_type": "code",
   "execution_count": 317,
   "metadata": {},
   "outputs": [
    {
     "data": {
      "text/html": [
       "<div>\n",
       "<style scoped>\n",
       "    .dataframe tbody tr th:only-of-type {\n",
       "        vertical-align: middle;\n",
       "    }\n",
       "\n",
       "    .dataframe tbody tr th {\n",
       "        vertical-align: top;\n",
       "    }\n",
       "\n",
       "    .dataframe thead th {\n",
       "        text-align: right;\n",
       "    }\n",
       "</style>\n",
       "<table border=\"1\" class=\"dataframe\">\n",
       "  <thead>\n",
       "    <tr style=\"text-align: right;\">\n",
       "      <th></th>\n",
       "      <th>anime_id</th>\n",
       "      <th>soup</th>\n",
       "    </tr>\n",
       "  </thead>\n",
       "  <tbody>\n",
       "    <tr>\n",
       "      <th>0</th>\n",
       "      <td>28891</td>\n",
       "      <td>following participation inter high karasuno hi...</td>\n",
       "    </tr>\n",
       "    <tr>\n",
       "      <th>1</th>\n",
       "      <td>23273</td>\n",
       "      <td>music accompanies path human metronome prodigi...</td>\n",
       "    </tr>\n",
       "    <tr>\n",
       "      <th>2</th>\n",
       "      <td>34599</td>\n",
       "      <td>abyss gaping chasm stretching depths earth fil...</td>\n",
       "    </tr>\n",
       "    <tr>\n",
       "      <th>3</th>\n",
       "      <td>5114</td>\n",
       "      <td>order something obtained something equal value...</td>\n",
       "    </tr>\n",
       "    <tr>\n",
       "      <th>4</th>\n",
       "      <td>31758</td>\n",
       "      <td>helping revive legendary vampire kiss shot ace...</td>\n",
       "    </tr>\n",
       "    <tr>\n",
       "      <th>...</th>\n",
       "      <td>...</td>\n",
       "      <td>...</td>\n",
       "    </tr>\n",
       "    <tr>\n",
       "      <th>15870</th>\n",
       "      <td>10075</td>\n",
       "      <td>new animation offered throughout uniqlo clothi...</td>\n",
       "    </tr>\n",
       "    <tr>\n",
       "      <th>15871</th>\n",
       "      <td>35828</td>\n",
       "      <td>high school student sora kashiwagi accustomed ...</td>\n",
       "    </tr>\n",
       "    <tr>\n",
       "      <th>15872</th>\n",
       "      <td>10378</td>\n",
       "      <td>regaining squid like abilities ika musume plan...</td>\n",
       "    </tr>\n",
       "    <tr>\n",
       "      <th>15873</th>\n",
       "      <td>33082</td>\n",
       "      <td>years niflheim empire kingdom lucis war empire...</td>\n",
       "    </tr>\n",
       "    <tr>\n",
       "      <th>15874</th>\n",
       "      <td>16934</td>\n",
       "      <td>although yuuta togashi rikka takanashi started...</td>\n",
       "    </tr>\n",
       "  </tbody>\n",
       "</table>\n",
       "<p>15875 rows × 2 columns</p>\n",
       "</div>"
      ],
      "text/plain": [
       "       anime_id                                               soup\n",
       "0         28891  following participation inter high karasuno hi...\n",
       "1         23273  music accompanies path human metronome prodigi...\n",
       "2         34599  abyss gaping chasm stretching depths earth fil...\n",
       "3          5114  order something obtained something equal value...\n",
       "4         31758  helping revive legendary vampire kiss shot ace...\n",
       "...         ...                                                ...\n",
       "15870     10075  new animation offered throughout uniqlo clothi...\n",
       "15871     35828  high school student sora kashiwagi accustomed ...\n",
       "15872     10378  regaining squid like abilities ika musume plan...\n",
       "15873     33082  years niflheim empire kingdom lucis war empire...\n",
       "15874     16934  although yuuta togashi rikka takanashi started...\n",
       "\n",
       "[15875 rows x 2 columns]"
      ]
     },
     "execution_count": 317,
     "metadata": {},
     "output_type": "execute_result"
    }
   ],
   "source": [
    "def get_interactions(anime):\n",
    "    '''\n",
    "    This function helps to get interconnection between index_of_soup <-> anime_id <-> soup.\n",
    "    It will be useful in tfIdf\n",
    "    '''\n",
    "    interactions_full_df = anime[['anime_id', 'soup']]\n",
    "    interactions_full_df = interactions_full_df.reset_index(drop=True)\n",
    "    return interactions_full_df\n",
    "\n",
    "def get_user_preferences(user_id, reviews, profiles):\n",
    "    '''\n",
    "    This function will help us to get all the animes users saw and the scores they given to each anime.\n",
    "    If the anime in the users favourites bt not scored by this user, we automatically assign this anime a 10/10\n",
    "    '''\n",
    "    user_fav_anime_dict = {'profile_idx' : [],\n",
    "                          'anime_id' : [],\n",
    "                          'score' : []}\n",
    "    anime_user_scored = reviews[reviews.profile_idx == user_id].anime_id.values\n",
    "    user_favorites_anime = profiles[profiles.profile_idx == user_id].favorites_anime.values[0]\n",
    "\n",
    "    for anime in user_favorites_anime:\n",
    "        user_fav_anime_dict['profile_idx'].append(user_id)\n",
    "        user_fav_anime_dict['anime_id'].append(anime)\n",
    "        if anime not in anime_user_scored:\n",
    "            user_fav_anime_dict['score'].append(10)\n",
    "        else:\n",
    "            user_fav_anime_dict['score'].append(reviews.loc[((reviews.profile_idx==user_id) & (reviews.anime_id==anime)), 'score'].iloc[0])\n",
    "\n",
    "\n",
    "    user_fav_anime_table = pd.DataFrame.from_dict(user_fav_anime_dict)\n",
    "    \n",
    "    return user_fav_anime_table[['profile_idx','anime_id', 'score']]\n",
    "\n",
    "\n",
    "anime_scores = get_scores(anime)\n",
    "interactions_full_df = get_interactions(anime_scores)\n",
    "interactions_full_df"
   ]
  },
  {
   "cell_type": "code",
   "execution_count": 318,
   "metadata": {},
   "outputs": [],
   "source": [
    "\n",
    "\n",
    "keys_list = interactions_full_df.anime_id\n",
    "values_list = interactions_full_df.index\n",
    "zip_iterator = zip(keys_list, values_list)  \n",
    "id_index_dict = dict(zip_iterator) "
   ]
  },
  {
   "cell_type": "markdown",
   "metadata": {},
   "source": [
    "# USER PROFILE"
   ]
  },
  {
   "cell_type": "markdown",
   "metadata": {},
   "source": [
    "![](opossum.jpg)"
   ]
  },
  {
   "cell_type": "markdown",
   "metadata": {},
   "source": [
    "Let's have user $u_{i}$, who gave ratings $r_{i,j}$ to each anime $a_{j}$. (In our case $a_{j}$ is TFiDF representation of the current anime) So user profile vector will be the following:\n",
    "\n",
    "$$\n",
    "u_{i} = \\frac{\\sum_{j} (r_{i,j} \\times a_{j})}{\\sum_{j} r_{i,j}}\n",
    "$$"
   ]
  },
  {
   "cell_type": "code",
   "execution_count": null,
   "metadata": {},
   "outputs": [],
   "source": []
  },
  {
   "cell_type": "code",
   "execution_count": 319,
   "metadata": {},
   "outputs": [],
   "source": [
    "def get_user_profile(tfidf_matrix, user_id, reviews, profiles, anime, test_pair):\n",
    "    \n",
    "    user_all_anime_table = get_user_preferences(user_id, reviews, profiles)\n",
    "    \n",
    "    user_item_strength = user_all_anime_table.score.values\n",
    "    user_animes_ids = user_all_anime_table.anime_id.values\n",
    "    \n",
    "    sum_strengthes = np.sum(user_item_strength) + 1\n",
    "    \n",
    "    i = 0 \n",
    "    weighted_animes = []\n",
    "    for anime_id in user_animes_ids:\n",
    "        ...\n",
    "\n",
    "        i += 1\n",
    "    if weighted_animes == []:\n",
    "        user_item_strengths_weighted_avg = np.zeros(shape=(1, tfidf_matrix.shape[1]))\n",
    "    else:\n",
    "        user_item_strengths_weighted_avg = np.sum(weighted_animes, axis=0) / sum_strengthes\n",
    "     \n",
    "    user_profile_norm = sklearn.preprocessing.normalize(user_item_strengths_weighted_avg)\n",
    "    return user_profile_norm"
   ]
  },
  {
   "cell_type": "code",
   "execution_count": 320,
   "metadata": {},
   "outputs": [],
   "source": [
    "def build_users_profiles(tfidf_matrix, reviews, profiles, anime, test_pairs): \n",
    "    user_ids = profiles.profile_idx.unique()\n",
    "    user_profiles = {}\n",
    "    for user_id in tqdm(user_ids):\n",
    "        if user_id in test_pairs.index:\n",
    "            user_profiles[user_id] = get_user_profile(tfidf_matrix, user_id, reviews, profiles, anime, test_pairs.loc[user_id])\n",
    "    return user_profiles"
   ]
  },
  {
   "cell_type": "code",
   "execution_count": 321,
   "metadata": {},
   "outputs": [],
   "source": [
    "sim_config = {\n",
    "    \"tfidf\": dict( # TfIDF Vectorizer config\n",
    "        ngram_range = (1, 1),\n",
    "        min_df=5, max_df=0.9,\n",
    "        strip_accents='unicode',\n",
    "        stop_words = 'english',\n",
    "        analyzer = 'word',\n",
    "        use_idf=1,\n",
    "        smooth_idf=1,\n",
    "        sublinear_tf=1\n",
    "    ),\n",
    "    \"reviews\" :  reviews,\n",
    "    \"profiles\" : profiles,\n",
    "    \"anime\" : anime,\n",
    "    'test_pairs' : test_pairs\n",
    "}\n",
    "# we also define a general representation of our dataset\n",
    "anime_description = {\n",
    "    \"items\": \"anime_id\",\n",
    "    \"item_features\": \"soup\",\n",
    "}"
   ]
  },
  {
   "cell_type": "code",
   "execution_count": 324,
   "metadata": {},
   "outputs": [],
   "source": [
    "def build_sim_model(config, trainset, trainset_description):\n",
    "    \n",
    "    users_profiles = build_users_profiles(tfidf_matrix, config[\"reviews\"], \n",
    "                                          config[\"profiles\"], config[\"anime\"], config['test_pairs'])\n",
    "    return word_vectorizer,  users_profiles"
   ]
  },
  {
   "cell_type": "code",
   "execution_count": 325,
   "metadata": {},
   "outputs": [
    {
     "ename": "NameError",
     "evalue": "name 'tfidf_matrix' is not defined",
     "output_type": "error",
     "traceback": [
      "\u001b[0;31m---------------------------------------------------------------------------\u001b[0m",
      "\u001b[0;31mNameError\u001b[0m                                 Traceback (most recent call last)",
      "\u001b[0;32m<ipython-input-325-fd1ae05e1a42>\u001b[0m in \u001b[0;36m<module>\u001b[0;34m\u001b[0m\n\u001b[0;32m----> 1\u001b[0;31m \u001b[0mparams\u001b[0m \u001b[0;34m=\u001b[0m \u001b[0mbuild_sim_model\u001b[0m\u001b[0;34m(\u001b[0m\u001b[0msim_config\u001b[0m\u001b[0;34m,\u001b[0m \u001b[0manime\u001b[0m\u001b[0;34m,\u001b[0m \u001b[0manime_description\u001b[0m\u001b[0;34m)\u001b[0m\u001b[0;34m\u001b[0m\u001b[0;34m\u001b[0m\u001b[0m\n\u001b[0m",
      "\u001b[0;32m<ipython-input-324-c15b97f5dd22>\u001b[0m in \u001b[0;36mbuild_sim_model\u001b[0;34m(config, trainset, trainset_description)\u001b[0m\n\u001b[1;32m      1\u001b[0m \u001b[0;32mdef\u001b[0m \u001b[0mbuild_sim_model\u001b[0m\u001b[0;34m(\u001b[0m\u001b[0mconfig\u001b[0m\u001b[0;34m,\u001b[0m \u001b[0mtrainset\u001b[0m\u001b[0;34m,\u001b[0m \u001b[0mtrainset_description\u001b[0m\u001b[0;34m)\u001b[0m\u001b[0;34m:\u001b[0m\u001b[0;34m\u001b[0m\u001b[0;34m\u001b[0m\u001b[0m\n\u001b[1;32m      2\u001b[0m \u001b[0;34m\u001b[0m\u001b[0m\n\u001b[0;32m----> 3\u001b[0;31m     users_profiles = build_users_profiles(tfidf_matrix, config[\"reviews\"], \n\u001b[0m\u001b[1;32m      4\u001b[0m                                           config[\"profiles\"], config[\"anime\"], config['test_pairs'])\n\u001b[1;32m      5\u001b[0m     \u001b[0;32mreturn\u001b[0m \u001b[0mword_vectorizer\u001b[0m\u001b[0;34m,\u001b[0m  \u001b[0musers_profiles\u001b[0m\u001b[0;34m\u001b[0m\u001b[0;34m\u001b[0m\u001b[0m\n",
      "\u001b[0;31mNameError\u001b[0m: name 'tfidf_matrix' is not defined"
     ]
    }
   ],
   "source": [
    "params = build_sim_model(sim_config, anime, anime_description)"
   ]
  },
  {
   "cell_type": "code",
   "execution_count": 52,
   "metadata": {},
   "outputs": [],
   "source": [
    "def sim_model_scoring(params, test_pairs, anime):\n",
    "    word_vectorizer,  users_profiles = params\n",
    "    \n",
    "    n = len(test_pairs.iloc[0].likes)\n",
    "    m = len(test_pairs)\n",
    "\n",
    "    numerator  = 0\n",
    "    for user_id in users_profiles.keys():\n",
    "\n",
    "        s =0\n",
    "        id_2_n, n_2_id, soups = create_test_soup(test_pairs.loc[user_id], anime)\n",
    "        tf_idf_matrix = word_vectorizer.transform(soups)\n",
    "        cosine_similarities = cosine_similarity(users_profiles[user_id], tf_idf_matrix).flatten()\n",
    "\n",
    "        ...\n",
    "\n",
    "    return numerator / (n*m)\n"
   ]
  },
  {
   "cell_type": "code",
   "execution_count": 53,
   "metadata": {},
   "outputs": [
    {
     "data": {
      "text/plain": [
       "0.611318739989322"
      ]
     },
     "execution_count": 53,
     "metadata": {},
     "output_type": "execute_result"
    }
   ],
   "source": [
    "sim_model_scoring(params, test_pairs, anime)"
   ]
  },
  {
   "cell_type": "code",
   "execution_count": null,
   "metadata": {},
   "outputs": [],
   "source": []
  }
 ],
 "metadata": {
  "kernelspec": {
   "display_name": "firstEnv",
   "language": "python",
   "name": "firstenv"
  },
  "language_info": {
   "codemirror_mode": {
    "name": "ipython",
    "version": 3
   },
   "file_extension": ".py",
   "mimetype": "text/x-python",
   "name": "python",
   "nbconvert_exporter": "python",
   "pygments_lexer": "ipython3",
   "version": "3.8.8"
  }
 },
 "nbformat": 4,
 "nbformat_minor": 4
}
