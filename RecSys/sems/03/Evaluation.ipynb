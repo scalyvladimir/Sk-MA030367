{
 "cells": [
  {
   "cell_type": "code",
   "execution_count": 67,
   "metadata": {},
   "outputs": [],
   "source": [
    "import numpy as np\n",
    "import pandas as pd\n",
    "from polara import get_movielens_data\n",
    "\n",
    "from sklearn.model_selection import GroupKFold\n",
    "from ipypb import track # pip-installable"
   ]
  },
  {
   "cell_type": "markdown",
   "metadata": {},
   "source": [
    "# Task"
   ]
  },
  {
   "cell_type": "markdown",
   "metadata": {},
   "source": [
    "Develop a recommender systems framework for conducting the necessary experiments, which includes:\n",
    "- training recsys models\n",
    "- generating recommendations\n",
    "- evaluating recommendations quality\n",
    "- performing model comparison"
   ]
  },
  {
   "cell_type": "markdown",
   "metadata": {},
   "source": [
    "## Experiment protocol can be described in terms of 4 functions:\n",
    "\n",
    "```python\n",
    "# building/training a recommender model\n",
    "model_params = build_func(model_config, trainset, trainset_description)\n",
    "\n",
    "# predicting relevance scores for test user-item pairs\n",
    "model_scores = score_func(model_params, testset, testset_description)\n",
    "\n",
    "# generating top-n recommendations using predcted scores\n",
    "model_recoms = recom_func(model_scores, topn)\n",
    "\n",
    "# evaluating quality of recommendations\n",
    "recs_quality = evaluate_func(model_recoms, holdout, holdout_description)\n",
    "```"
   ]
  },
  {
   "cell_type": "markdown",
   "metadata": {},
   "source": [
    "\n",
    "**Essentially, this is the main functionality provided by most of the recommender systems frameworks.**  \n",
    "That's why we can say that we're building a simple recsys framework from scratch."
   ]
  },
  {
   "cell_type": "markdown",
   "metadata": {},
   "source": [
    "# Preparing Data"
   ]
  },
  {
   "cell_type": "code",
   "execution_count": 68,
   "metadata": {},
   "outputs": [],
   "source": [
    "data, genres = get_movielens_data(\n",
    "    get_genres=True,\n",
    "    split_genres=False,\n",
    "    include_time=True\n",
    ")"
   ]
  },
  {
   "cell_type": "code",
   "execution_count": 69,
   "metadata": {},
   "outputs": [
    {
     "data": {
      "text/html": [
       "<div>\n",
       "<style scoped>\n",
       "    .dataframe tbody tr th:only-of-type {\n",
       "        vertical-align: middle;\n",
       "    }\n",
       "\n",
       "    .dataframe tbody tr th {\n",
       "        vertical-align: top;\n",
       "    }\n",
       "\n",
       "    .dataframe thead th {\n",
       "        text-align: right;\n",
       "    }\n",
       "</style>\n",
       "<table border=\"1\" class=\"dataframe\">\n",
       "  <thead>\n",
       "    <tr style=\"text-align: right;\">\n",
       "      <th></th>\n",
       "      <th>movienm</th>\n",
       "      <th>genres</th>\n",
       "    </tr>\n",
       "    <tr>\n",
       "      <th>movieid</th>\n",
       "      <th></th>\n",
       "      <th></th>\n",
       "    </tr>\n",
       "  </thead>\n",
       "  <tbody>\n",
       "    <tr>\n",
       "      <th>1</th>\n",
       "      <td>Toy Story (1995)</td>\n",
       "      <td>Animation|Children's|Comedy</td>\n",
       "    </tr>\n",
       "    <tr>\n",
       "      <th>2</th>\n",
       "      <td>Jumanji (1995)</td>\n",
       "      <td>Adventure|Children's|Fantasy</td>\n",
       "    </tr>\n",
       "    <tr>\n",
       "      <th>3</th>\n",
       "      <td>Grumpier Old Men (1995)</td>\n",
       "      <td>Comedy|Romance</td>\n",
       "    </tr>\n",
       "    <tr>\n",
       "      <th>4</th>\n",
       "      <td>Waiting to Exhale (1995)</td>\n",
       "      <td>Comedy|Drama</td>\n",
       "    </tr>\n",
       "    <tr>\n",
       "      <th>5</th>\n",
       "      <td>Father of the Bride Part II (1995)</td>\n",
       "      <td>Comedy</td>\n",
       "    </tr>\n",
       "  </tbody>\n",
       "</table>\n",
       "</div>"
      ],
      "text/plain": [
       "                                    movienm                        genres\n",
       "movieid                                                                  \n",
       "1                          Toy Story (1995)   Animation|Children's|Comedy\n",
       "2                            Jumanji (1995)  Adventure|Children's|Fantasy\n",
       "3                   Grumpier Old Men (1995)                Comedy|Romance\n",
       "4                  Waiting to Exhale (1995)                  Comedy|Drama\n",
       "5        Father of the Bride Part II (1995)                        Comedy"
      ]
     },
     "execution_count": 69,
     "metadata": {},
     "output_type": "execute_result"
    }
   ],
   "source": [
    "movies = genres.set_index('movieid')\n",
    "movies.head()"
   ]
  },
  {
   "cell_type": "code",
   "execution_count": 70,
   "metadata": {},
   "outputs": [
    {
     "data": {
      "text/html": [
       "<div>\n",
       "<style scoped>\n",
       "    .dataframe tbody tr th:only-of-type {\n",
       "        vertical-align: middle;\n",
       "    }\n",
       "\n",
       "    .dataframe tbody tr th {\n",
       "        vertical-align: top;\n",
       "    }\n",
       "\n",
       "    .dataframe thead th {\n",
       "        text-align: right;\n",
       "    }\n",
       "</style>\n",
       "<table border=\"1\" class=\"dataframe\">\n",
       "  <thead>\n",
       "    <tr style=\"text-align: right;\">\n",
       "      <th></th>\n",
       "      <th>userid</th>\n",
       "      <th>movieid</th>\n",
       "      <th>rating</th>\n",
       "      <th>timestamp</th>\n",
       "    </tr>\n",
       "  </thead>\n",
       "  <tbody>\n",
       "    <tr>\n",
       "      <th>0</th>\n",
       "      <td>1</td>\n",
       "      <td>1193</td>\n",
       "      <td>5</td>\n",
       "      <td>978300760</td>\n",
       "    </tr>\n",
       "    <tr>\n",
       "      <th>1</th>\n",
       "      <td>1</td>\n",
       "      <td>661</td>\n",
       "      <td>3</td>\n",
       "      <td>978302109</td>\n",
       "    </tr>\n",
       "    <tr>\n",
       "      <th>2</th>\n",
       "      <td>1</td>\n",
       "      <td>914</td>\n",
       "      <td>3</td>\n",
       "      <td>978301968</td>\n",
       "    </tr>\n",
       "    <tr>\n",
       "      <th>3</th>\n",
       "      <td>1</td>\n",
       "      <td>3408</td>\n",
       "      <td>4</td>\n",
       "      <td>978300275</td>\n",
       "    </tr>\n",
       "    <tr>\n",
       "      <th>4</th>\n",
       "      <td>1</td>\n",
       "      <td>2355</td>\n",
       "      <td>5</td>\n",
       "      <td>978824291</td>\n",
       "    </tr>\n",
       "  </tbody>\n",
       "</table>\n",
       "</div>"
      ],
      "text/plain": [
       "   userid  movieid  rating  timestamp\n",
       "0       1     1193       5  978300760\n",
       "1       1      661       3  978302109\n",
       "2       1      914       3  978301968\n",
       "3       1     3408       4  978300275\n",
       "4       1     2355       5  978824291"
      ]
     },
     "execution_count": 70,
     "metadata": {},
     "output_type": "execute_result"
    }
   ],
   "source": [
    "data.head()"
   ]
  },
  {
   "cell_type": "code",
   "execution_count": 71,
   "metadata": {},
   "outputs": [
    {
     "data": {
      "text/plain": [
       "userid         6040\n",
       "movieid        3706\n",
       "rating            5\n",
       "timestamp    458455\n",
       "dtype: int64"
      ]
     },
     "execution_count": 71,
     "metadata": {},
     "output_type": "execute_result"
    }
   ],
   "source": [
    "data.apply('nunique')"
   ]
  },
  {
   "cell_type": "code",
   "execution_count": 72,
   "metadata": {},
   "outputs": [
    {
     "data": {
      "image/png": "[encoded data removed]",
      "text/plain": [
       "<Figure size 432x288 with 1 Axes>"
      ]
     },
     "metadata": {
      "needs_background": "light"
     },
     "output_type": "display_data"
    }
   ],
   "source": [
    "(\n",
    "    data[\"rating\"]\n",
    "    .value_counts()\n",
    "    .sort_index()\n",
    "    .plot.bar(\n",
    "        title='Ratings distribution',\n",
    "        xlabel='rating', ylabel='count',\n",
    "        rot=0\n",
    "    )\n",
    ");"
   ]
  },
  {
   "cell_type": "code",
   "execution_count": 73,
   "metadata": {},
   "outputs": [
    {
     "data": {
      "image/png": "[encoded data removed]",
      "text/plain": [
       "<Figure size 432x288 with 1 Axes>"
      ]
     },
     "metadata": {
      "needs_background": "light"
     },
     "output_type": "display_data"
    }
   ],
   "source": [
    "(\n",
    "    data\n",
    "    .set_index(pd.to_datetime(data['timestamp'], unit='s'))\n",
    "    .query('movieid in [1, 260]')\n",
    "    .assign(movie_name=lambda x: x['movieid'].map(movies['movienm']))\n",
    "    .groupby('movie_name')\n",
    "    .resample('M') # monthly\n",
    "    .size() # total count\n",
    "    .T\n",
    "    .plot(logy=True, title='Movie popularity', xlabel='Month', ylabel='# ratings')\n",
    ");"
   ]
  },
  {
   "cell_type": "markdown",
   "metadata": {},
   "source": [
    "# Preprocess data"
   ]
  },
  {
   "cell_type": "markdown",
   "metadata": {},
   "source": [
    "Here, we'll use a simple temporal \"leave-last-out\" scheme for holdout sampling.  \n",
    "Note that this scheme is not perfect as it's prone to test data leakage from future interactions."
   ]
  },
  {
   "cell_type": "markdown",
   "metadata": {},
   "source": [
    "## Data split"
   ]
  },
  {
   "cell_type": "code",
   "execution_count": 74,
   "metadata": {},
   "outputs": [],
   "source": [
    "def leave_last_out(data, userid='userid', timeid='timestamp'):\n",
    "    sorted = data.sort_values(timeid)\n",
    "    holdout = sorted.drop_duplicates(subset=[userid], keep='last')\n",
    "    remaining = sorted.drop(holdout.index)\n",
    "    return remaining, holdout"
   ]
  },
  {
   "cell_type": "code",
   "execution_count": 75,
   "metadata": {},
   "outputs": [],
   "source": [
    "training, holdout = leave_last_out(data)"
   ]
  },
  {
   "cell_type": "code",
   "execution_count": 76,
   "metadata": {},
   "outputs": [],
   "source": [
    "assert holdout.set_index('userid')['timestamp'].ge(\n",
    "    training\n",
    "    .groupby('userid')\n",
    "    ['timestamp'].max()\n",
    ").all()"
   ]
  },
  {
   "cell_type": "markdown",
   "metadata": {},
   "source": [
    "## Transform index"
   ]
  },
  {
   "cell_type": "markdown",
   "metadata": {},
   "source": [
    "Source data is not always numeric. Moreover, user and item ids may contain large gaps. We fix that by introducing an internal contiguous numeric index.\n"
   ]
  },
  {
   "cell_type": "code",
   "execution_count": 77,
   "metadata": {},
   "outputs": [],
   "source": [
    "def transform_indices(data, users, items):\n",
    "    data_index = {}\n",
    "    for entity, field in zip(['users', 'items'], [users, items]):\n",
    "        idx, idx_map = to_numeric_id(data, field)\n",
    "        data_index[entity] = idx_map\n",
    "        data.loc[:, field] = idx\n",
    "    return data, data_index\n",
    "\n",
    "def to_numeric_id(data, field):\n",
    "    idx_data = data[field].astype(\"category\")\n",
    "    idx = idx_data.cat.codes\n",
    "    idx_map = idx_data.cat.categories.rename(field)\n",
    "    return idx, idx_map\n",
    "\n",
    "def reindex_data(data, entity, data_index):\n",
    "    field = data_index[entity].name\n",
    "    new_index = data_index[entity].get_indexer(data[field])\n",
    "    return data.assign(**{f'{field}': new_index})"
   ]
  },
  {
   "cell_type": "code",
   "execution_count": 78,
   "metadata": {},
   "outputs": [],
   "source": [
    "training, data_index = transform_indices(training, 'userid', 'movieid')"
   ]
  },
  {
   "cell_type": "code",
   "execution_count": 79,
   "metadata": {},
   "outputs": [],
   "source": [
    "holdout = reindex_data(holdout, 'items', data_index)"
   ]
  },
  {
   "cell_type": "code",
   "execution_count": 80,
   "metadata": {},
   "outputs": [
    {
     "data": {
      "text/plain": [
       "Int64Index([   1,    2,    3,    4,    5,    6,    7,    8,    9,   10,\n",
       "            ...\n",
       "            3943, 3944, 3945, 3946, 3947, 3948, 3949, 3950, 3951, 3952],\n",
       "           dtype='int64', name='movieid', length=3704)"
      ]
     },
     "execution_count": 80,
     "metadata": {},
     "output_type": "execute_result"
    }
   ],
   "source": [
    "data_index['items']"
   ]
  },
  {
   "cell_type": "markdown",
   "metadata": {},
   "source": [
    "## Data consistency check"
   ]
  },
  {
   "cell_type": "markdown",
   "metadata": {},
   "source": [
    "We need to ensure that holdout doesn't contain entities that are not present in the training data."
   ]
  },
  {
   "cell_type": "code",
   "execution_count": 81,
   "metadata": {},
   "outputs": [
    {
     "data": {
      "text/html": [
       "<div>\n",
       "<style scoped>\n",
       "    .dataframe tbody tr th:only-of-type {\n",
       "        vertical-align: middle;\n",
       "    }\n",
       "\n",
       "    .dataframe tbody tr th {\n",
       "        vertical-align: top;\n",
       "    }\n",
       "\n",
       "    .dataframe thead th {\n",
       "        text-align: right;\n",
       "    }\n",
       "</style>\n",
       "<table border=\"1\" class=\"dataframe\">\n",
       "  <thead>\n",
       "    <tr style=\"text-align: right;\">\n",
       "      <th></th>\n",
       "      <th>userid</th>\n",
       "      <th>movieid</th>\n",
       "      <th>rating</th>\n",
       "      <th>timestamp</th>\n",
       "    </tr>\n",
       "  </thead>\n",
       "  <tbody>\n",
       "    <tr>\n",
       "      <th>6448</th>\n",
       "      <td>46</td>\n",
       "      <td>-1</td>\n",
       "      <td>5</td>\n",
       "      <td>977979487</td>\n",
       "    </tr>\n",
       "    <tr>\n",
       "      <th>304604</th>\n",
       "      <td>1812</td>\n",
       "      <td>-1</td>\n",
       "      <td>3</td>\n",
       "      <td>1036451763</td>\n",
       "    </tr>\n",
       "  </tbody>\n",
       "</table>\n",
       "</div>"
      ],
      "text/plain": [
       "        userid  movieid  rating   timestamp\n",
       "6448        46       -1       5   977979487\n",
       "304604    1812       -1       3  1036451763"
      ]
     },
     "execution_count": 81,
     "metadata": {},
     "output_type": "execute_result"
    }
   ],
   "source": [
    "holdout.query('movieid<0')"
   ]
  },
  {
   "cell_type": "code",
   "execution_count": 82,
   "metadata": {},
   "outputs": [],
   "source": [
    "holdout = holdout.query('movieid >= 0')"
   ]
  },
  {
   "cell_type": "markdown",
   "metadata": {},
   "source": [
    "# Random recommendations model"
   ]
  },
  {
   "cell_type": "code",
   "execution_count": 83,
   "metadata": {},
   "outputs": [],
   "source": [
    "def build_random_model(config, trainset, trainset_description):\n",
    "    itemid = trainset_description['items']\n",
    "    n_items = trainset[itemid].max() + 1\n",
    "    random_state = np.random.RandomState(config['seed'])\n",
    "    return n_items, random_state"
   ]
  },
  {
   "cell_type": "code",
   "execution_count": 84,
   "metadata": {},
   "outputs": [],
   "source": [
    "def random_model_scoring(params, testset, testset_description):\n",
    "    n_items, random_state = params\n",
    "    n_users = testset_description['n_test_users']\n",
    "    scores = random_state.rand(n_users, n_items)\n",
    "    return scores"
   ]
  },
  {
   "cell_type": "code",
   "execution_count": 85,
   "metadata": {},
   "outputs": [],
   "source": [
    "def simple_model_recom_func(scores, topn=10):\n",
    "    recommendations = np.apply_along_axis(topidx, 1, scores, topn)\n",
    "    return recommendations\n",
    "\n",
    "def topidx(a, topn):\n",
    "    parted = np.argpartition(a, -topn)[-topn:]\n",
    "    return parted[np.argsort(-a[parted])]"
   ]
  },
  {
   "cell_type": "code",
   "execution_count": 86,
   "metadata": {},
   "outputs": [],
   "source": [
    "data_description = dict(\n",
    "    users = data_index['users'].name,\n",
    "    items = data_index['items'].name,\n",
    "    n_test_users = holdout[data_index['users'].name].nunique()\n",
    ")"
   ]
  },
  {
   "cell_type": "code",
   "execution_count": 87,
   "metadata": {},
   "outputs": [],
   "source": [
    "rnd_params = build_random_model({'seed': 99}, training, data_description)\n",
    "rnd_scores = random_model_scoring(rnd_params, None, data_description)\n",
    "rnd_recoms = simple_model_recom_func(rnd_scores)"
   ]
  },
  {
   "cell_type": "code",
   "execution_count": 88,
   "metadata": {},
   "outputs": [
    {
     "data": {
      "text/plain": [
       "Int64Index([   1,    2,    3,    4,    5,    6,    7,    8,    9,   10,\n",
       "            ...\n",
       "            6031, 6032, 6033, 6034, 6035, 6036, 6037, 6038, 6039, 6040],\n",
       "           dtype='int64', name='userid', length=6040)"
      ]
     },
     "execution_count": 88,
     "metadata": {},
     "output_type": "execute_result"
    }
   ],
   "source": [
    "data_index['users']"
   ]
  },
  {
   "cell_type": "code",
   "execution_count": 89,
   "metadata": {},
   "outputs": [
    {
     "data": {
      "text/plain": [
       "6038"
      ]
     },
     "execution_count": 89,
     "metadata": {},
     "output_type": "execute_result"
    }
   ],
   "source": [
    "data_description['n_test_users']"
   ]
  },
  {
   "cell_type": "code",
   "execution_count": 90,
   "metadata": {},
   "outputs": [
    {
     "data": {
      "text/plain": [
       "(6038, 3704)"
      ]
     },
     "execution_count": 90,
     "metadata": {},
     "output_type": "execute_result"
    }
   ],
   "source": [
    "rnd_scores.shape"
   ]
  },
  {
   "cell_type": "code",
   "execution_count": 91,
   "metadata": {},
   "outputs": [
    {
     "data": {
      "text/plain": [
       "(6038, 10)"
      ]
     },
     "execution_count": 91,
     "metadata": {},
     "output_type": "execute_result"
    }
   ],
   "source": [
    "rnd_recoms.shape"
   ]
  },
  {
   "cell_type": "code",
   "execution_count": 92,
   "metadata": {},
   "outputs": [],
   "source": [
    "def display_movies(items_idx):\n",
    "    # need to convert internal index to external representation\n",
    "    movie_idx = data_index['items'][items_idx]\n",
    "    return movies.loc[movie_idx]"
   ]
  },
  {
   "cell_type": "code",
   "execution_count": 93,
   "metadata": {},
   "outputs": [
    {
     "data": {
      "text/html": [
       "<div>\n",
       "<style scoped>\n",
       "    .dataframe tbody tr th:only-of-type {\n",
       "        vertical-align: middle;\n",
       "    }\n",
       "\n",
       "    .dataframe tbody tr th {\n",
       "        vertical-align: top;\n",
       "    }\n",
       "\n",
       "    .dataframe thead th {\n",
       "        text-align: right;\n",
       "    }\n",
       "</style>\n",
       "<table border=\"1\" class=\"dataframe\">\n",
       "  <thead>\n",
       "    <tr style=\"text-align: right;\">\n",
       "      <th></th>\n",
       "      <th>movienm</th>\n",
       "      <th>genres</th>\n",
       "    </tr>\n",
       "    <tr>\n",
       "      <th>movieid</th>\n",
       "      <th></th>\n",
       "      <th></th>\n",
       "    </tr>\n",
       "  </thead>\n",
       "  <tbody>\n",
       "    <tr>\n",
       "      <th>2440</th>\n",
       "      <td>Another Day in Paradise (1998)</td>\n",
       "      <td>Drama</td>\n",
       "    </tr>\n",
       "    <tr>\n",
       "      <th>1665</th>\n",
       "      <td>Bean (1997)</td>\n",
       "      <td>Comedy</td>\n",
       "    </tr>\n",
       "    <tr>\n",
       "      <th>3820</th>\n",
       "      <td>Thomas and the Magic Railroad (2000)</td>\n",
       "      <td>Children's</td>\n",
       "    </tr>\n",
       "    <tr>\n",
       "      <th>2092</th>\n",
       "      <td>Return of Jafar, The (1993)</td>\n",
       "      <td>Animation|Children's|Musical</td>\n",
       "    </tr>\n",
       "    <tr>\n",
       "      <th>290</th>\n",
       "      <td>Once Were Warriors (1994)</td>\n",
       "      <td>Crime|Drama</td>\n",
       "    </tr>\n",
       "    <tr>\n",
       "      <th>731</th>\n",
       "      <td>Heaven's Prisoners (1996)</td>\n",
       "      <td>Mystery|Thriller</td>\n",
       "    </tr>\n",
       "    <tr>\n",
       "      <th>371</th>\n",
       "      <td>Paper, The (1994)</td>\n",
       "      <td>Comedy|Drama</td>\n",
       "    </tr>\n",
       "    <tr>\n",
       "      <th>3804</th>\n",
       "      <td>H.O.T.S. (1979)</td>\n",
       "      <td>Comedy</td>\n",
       "    </tr>\n",
       "    <tr>\n",
       "      <th>1005</th>\n",
       "      <td>D3: The Mighty Ducks (1996)</td>\n",
       "      <td>Children's|Comedy</td>\n",
       "    </tr>\n",
       "    <tr>\n",
       "      <th>455</th>\n",
       "      <td>Free Willy (1993)</td>\n",
       "      <td>Adventure|Children's|Drama</td>\n",
       "    </tr>\n",
       "  </tbody>\n",
       "</table>\n",
       "</div>"
      ],
      "text/plain": [
       "                                      movienm                        genres\n",
       "movieid                                                                    \n",
       "2440           Another Day in Paradise (1998)                         Drama\n",
       "1665                              Bean (1997)                        Comedy\n",
       "3820     Thomas and the Magic Railroad (2000)                    Children's\n",
       "2092              Return of Jafar, The (1993)  Animation|Children's|Musical\n",
       "290                 Once Were Warriors (1994)                   Crime|Drama\n",
       "731                 Heaven's Prisoners (1996)              Mystery|Thriller\n",
       "371                         Paper, The (1994)                  Comedy|Drama\n",
       "3804                          H.O.T.S. (1979)                        Comedy\n",
       "1005              D3: The Mighty Ducks (1996)             Children's|Comedy\n",
       "455                         Free Willy (1993)    Adventure|Children's|Drama"
      ]
     },
     "execution_count": 93,
     "metadata": {},
     "output_type": "execute_result"
    }
   ],
   "source": [
    "display_movies(rnd_recoms[0])"
   ]
  },
  {
   "cell_type": "markdown",
   "metadata": {},
   "source": [
    "# Simple popularity-based model\n"
   ]
  },
  {
   "cell_type": "code",
   "execution_count": 94,
   "metadata": {},
   "outputs": [],
   "source": [
    "def build_popularity_model(config, trainset, trainset_description):\n",
    "    itemid = trainset_description['items']\n",
    "    item_popularity = trainset[itemid].value_counts()\n",
    "    return item_popularity"
   ]
  },
  {
   "cell_type": "code",
   "execution_count": 95,
   "metadata": {},
   "outputs": [],
   "source": [
    "def popularity_model_scoring(params, testset, testset_description):\n",
    "    item_popularity = params\n",
    "    n_items = item_popularity.index.max() + 1\n",
    "    n_users = testset_description['n_test_users']\n",
    "    # fill in popularity scores for each item with indices from 0 to n_items-1\n",
    "    popularity_scores = np.zeros(n_items,)\n",
    "    popularity_scores[item_popularity.index] = item_popularity.values\n",
    "    # same scores for each test user\n",
    "    scores = np.tile(popularity_scores, n_users).reshape(n_users, n_items)\n",
    "    return scores"
   ]
  },
  {
   "cell_type": "code",
   "execution_count": 96,
   "metadata": {},
   "outputs": [],
   "source": [
    "pop_params = build_popularity_model({}, training, data_description)\n",
    "pop_scores = popularity_model_scoring(pop_params, None, data_description)\n",
    "pop_recoms = simple_model_recom_func(pop_scores)"
   ]
  },
  {
   "cell_type": "code",
   "execution_count": 97,
   "metadata": {},
   "outputs": [
    {
     "data": {
      "text/html": [
       "<div>\n",
       "<style scoped>\n",
       "    .dataframe tbody tr th:only-of-type {\n",
       "        vertical-align: middle;\n",
       "    }\n",
       "\n",
       "    .dataframe tbody tr th {\n",
       "        vertical-align: top;\n",
       "    }\n",
       "\n",
       "    .dataframe thead th {\n",
       "        text-align: right;\n",
       "    }\n",
       "</style>\n",
       "<table border=\"1\" class=\"dataframe\">\n",
       "  <thead>\n",
       "    <tr style=\"text-align: right;\">\n",
       "      <th></th>\n",
       "      <th>movienm</th>\n",
       "      <th>genres</th>\n",
       "    </tr>\n",
       "    <tr>\n",
       "      <th>movieid</th>\n",
       "      <th></th>\n",
       "      <th></th>\n",
       "    </tr>\n",
       "  </thead>\n",
       "  <tbody>\n",
       "    <tr>\n",
       "      <th>2858</th>\n",
       "      <td>American Beauty (1999)</td>\n",
       "      <td>Comedy|Drama</td>\n",
       "    </tr>\n",
       "    <tr>\n",
       "      <th>1196</th>\n",
       "      <td>Star Wars: Episode V - The Empire Strikes Back...</td>\n",
       "      <td>Action|Adventure|Drama|Sci-Fi|War</td>\n",
       "    </tr>\n",
       "    <tr>\n",
       "      <th>260</th>\n",
       "      <td>Star Wars: Episode IV - A New Hope (1977)</td>\n",
       "      <td>Action|Adventure|Fantasy|Sci-Fi</td>\n",
       "    </tr>\n",
       "    <tr>\n",
       "      <th>1210</th>\n",
       "      <td>Star Wars: Episode VI - Return of the Jedi (1983)</td>\n",
       "      <td>Action|Adventure|Romance|Sci-Fi|War</td>\n",
       "    </tr>\n",
       "    <tr>\n",
       "      <th>480</th>\n",
       "      <td>Jurassic Park (1993)</td>\n",
       "      <td>Action|Adventure|Sci-Fi</td>\n",
       "    </tr>\n",
       "    <tr>\n",
       "      <th>2028</th>\n",
       "      <td>Saving Private Ryan (1998)</td>\n",
       "      <td>Action|Drama|War</td>\n",
       "    </tr>\n",
       "    <tr>\n",
       "      <th>589</th>\n",
       "      <td>Terminator 2: Judgment Day (1991)</td>\n",
       "      <td>Action|Sci-Fi|Thriller</td>\n",
       "    </tr>\n",
       "    <tr>\n",
       "      <th>2571</th>\n",
       "      <td>Matrix, The (1999)</td>\n",
       "      <td>Action|Sci-Fi|Thriller</td>\n",
       "    </tr>\n",
       "    <tr>\n",
       "      <th>1270</th>\n",
       "      <td>Back to the Future (1985)</td>\n",
       "      <td>Comedy|Sci-Fi</td>\n",
       "    </tr>\n",
       "    <tr>\n",
       "      <th>593</th>\n",
       "      <td>Silence of the Lambs, The (1991)</td>\n",
       "      <td>Drama|Thriller</td>\n",
       "    </tr>\n",
       "  </tbody>\n",
       "</table>\n",
       "</div>"
      ],
      "text/plain": [
       "                                                   movienm  \\\n",
       "movieid                                                      \n",
       "2858                                American Beauty (1999)   \n",
       "1196     Star Wars: Episode V - The Empire Strikes Back...   \n",
       "260              Star Wars: Episode IV - A New Hope (1977)   \n",
       "1210     Star Wars: Episode VI - Return of the Jedi (1983)   \n",
       "480                                   Jurassic Park (1993)   \n",
       "2028                            Saving Private Ryan (1998)   \n",
       "589                      Terminator 2: Judgment Day (1991)   \n",
       "2571                                    Matrix, The (1999)   \n",
       "1270                             Back to the Future (1985)   \n",
       "593                       Silence of the Lambs, The (1991)   \n",
       "\n",
       "                                      genres  \n",
       "movieid                                       \n",
       "2858                            Comedy|Drama  \n",
       "1196       Action|Adventure|Drama|Sci-Fi|War  \n",
       "260          Action|Adventure|Fantasy|Sci-Fi  \n",
       "1210     Action|Adventure|Romance|Sci-Fi|War  \n",
       "480                  Action|Adventure|Sci-Fi  \n",
       "2028                        Action|Drama|War  \n",
       "589                   Action|Sci-Fi|Thriller  \n",
       "2571                  Action|Sci-Fi|Thriller  \n",
       "1270                           Comedy|Sci-Fi  \n",
       "593                           Drama|Thriller  "
      ]
     },
     "execution_count": 97,
     "metadata": {},
     "output_type": "execute_result"
    }
   ],
   "source": [
    "display_movies(pop_recoms[0])"
   ]
  },
  {
   "cell_type": "markdown",
   "metadata": {},
   "source": [
    "# Evaluating recommendations quality"
   ]
  },
  {
   "cell_type": "markdown",
   "metadata": {},
   "source": [
    "We will use **HitRate** (HR) и **Mean Reciprocal Rank** (MRR).  \n",
    "*Note*: In the case of a single holdout item per user the latter coincides with the Average Reciprocal HitRate (ARHR) and Mean Average Precision (MAP)."
   ]
  },
  {
   "cell_type": "markdown",
   "metadata": {},
   "source": [
    "$$\n",
    "\\text{HR} = \\frac{1}{\\text{\\# test users}} \\sum_{\\text{test users}}{hit}, \\quad\n",
    "$$"
   ]
  },
  {
   "cell_type": "markdown",
   "metadata": {},
   "source": [
    "$$\n",
    "hit = \n",
    "\\begin{gather*}\n",
    "\\begin{cases}\n",
    "  1 & \\text{if holdout item in top-$n$ recommendations,}\\\\    \n",
    "  0 & \\text{otherwise.}\n",
    "\\end{cases}\n",
    "\\end{gather*}\n",
    "$$"
   ]
  },
  {
   "cell_type": "markdown",
   "metadata": {},
   "source": [
    "$$\n",
    "\\text{MRR} = \\frac{1}{\\text{\\# test users}} \\sum_{\\text{test users}}{\\frac{1}{\\text{hit rank}}}\n",
    "$$"
   ]
  },
  {
   "cell_type": "code",
   "execution_count": 98,
   "metadata": {},
   "outputs": [
    {
     "data": {
      "text/plain": [
       "(6038, 10)"
      ]
     },
     "execution_count": 98,
     "metadata": {},
     "output_type": "execute_result"
    }
   ],
   "source": [
    "rnd_recoms.shape"
   ]
  },
  {
   "cell_type": "code",
   "execution_count": 99,
   "metadata": {},
   "outputs": [],
   "source": [
    "rnd_hits_mask = rnd_recoms == holdout['movieid'].values.reshape(-1, 1)"
   ]
  },
  {
   "cell_type": "code",
   "execution_count": 100,
   "metadata": {},
   "outputs": [
    {
     "data": {
      "text/plain": [
       "array([[False, False, False, ..., False, False, False],\n",
       "       [False, False, False, ..., False, False, False],\n",
       "       [False, False, False, ..., False, False, False],\n",
       "       ...,\n",
       "       [False, False, False, ..., False, False, False],\n",
       "       [False, False, False, ..., False, False, False],\n",
       "       [False, False, False, ..., False, False, False]])"
      ]
     },
     "execution_count": 100,
     "metadata": {},
     "output_type": "execute_result"
    }
   ],
   "source": [
    "rnd_hits_mask"
   ]
  },
  {
   "cell_type": "code",
   "execution_count": 101,
   "metadata": {},
   "outputs": [
    {
     "data": {
      "text/plain": [
       "(6038, 10)"
      ]
     },
     "execution_count": 101,
     "metadata": {},
     "output_type": "execute_result"
    }
   ],
   "source": [
    "rnd_hits_mask.shape"
   ]
  },
  {
   "cell_type": "code",
   "execution_count": 102,
   "metadata": {},
   "outputs": [
    {
     "name": "stdout",
     "output_type": "stream",
     "text": [
      "rnd_hr=0.0013\n"
     ]
    }
   ],
   "source": [
    "rnd_hr = np.mean(\n",
    "    rnd_hits_mask.any(axis=1)\n",
    ")\n",
    "print(f'{rnd_hr=:.4f}')"
   ]
  },
  {
   "cell_type": "code",
   "execution_count": 103,
   "metadata": {},
   "outputs": [],
   "source": [
    "_, rnd_hits_rank = np.where(rnd_hits_mask)"
   ]
  },
  {
   "cell_type": "code",
   "execution_count": 104,
   "metadata": {},
   "outputs": [
    {
     "data": {
      "text/plain": [
       "array([5, 2, 9, 6, 7, 6, 8, 7])"
      ]
     },
     "execution_count": 104,
     "metadata": {},
     "output_type": "execute_result"
    }
   ],
   "source": [
    "rnd_hits_rank"
   ]
  },
  {
   "cell_type": "code",
   "execution_count": 105,
   "metadata": {},
   "outputs": [
    {
     "name": "stdout",
     "output_type": "stream",
     "text": [
      "rnd_mrr=0.0002\n"
     ]
    }
   ],
   "source": [
    "n_test_users = holdout.shape[0]\n",
    "rnd_mrr = np.sum(1 / (rnd_hits_rank+1.)) / n_test_users\n",
    "print(f'{rnd_mrr=:.4f}')"
   ]
  },
  {
   "cell_type": "markdown",
   "metadata": {},
   "source": [
    "## Evaluation function"
   ]
  },
  {
   "cell_type": "code",
   "execution_count": 106,
   "metadata": {},
   "outputs": [],
   "source": [
    "def model_evaluate(recommended_items, holdout, holdout_description, topn=10):\n",
    "    itemid = holdout_description['items']\n",
    "    holdout_items = holdout[itemid].values\n",
    "    assert recommended_items.shape[0] == len(holdout_items)\n",
    "    hits_mask = recommended_items[:, :topn] == holdout_items.reshape(-1, 1)\n",
    "    # HR calculation\n",
    "    hr = np.mean(hits_mask.any(axis=1))\n",
    "    # MRR calculation\n",
    "    n_test_users = recommended_items.shape[0]\n",
    "    hit_rank = np.where(hits_mask)[1] + 1.0\n",
    "    mrr = np.sum(1 / hit_rank) / n_test_users\n",
    "    return hr, mrr"
   ]
  },
  {
   "cell_type": "code",
   "execution_count": 107,
   "metadata": {},
   "outputs": [
    {
     "data": {
      "text/plain": [
       "3703"
      ]
     },
     "execution_count": 107,
     "metadata": {},
     "output_type": "execute_result"
    }
   ],
   "source": [
    "rnd_recoms.max()"
   ]
  },
  {
   "cell_type": "code",
   "execution_count": 108,
   "metadata": {},
   "outputs": [
    {
     "data": {
      "text/html": [
       "<div>\n",
       "<style scoped>\n",
       "    .dataframe tbody tr th:only-of-type {\n",
       "        vertical-align: middle;\n",
       "    }\n",
       "\n",
       "    .dataframe tbody tr th {\n",
       "        vertical-align: top;\n",
       "    }\n",
       "\n",
       "    .dataframe thead th {\n",
       "        text-align: right;\n",
       "    }\n",
       "</style>\n",
       "<table border=\"1\" class=\"dataframe\">\n",
       "  <thead>\n",
       "    <tr style=\"text-align: right;\">\n",
       "      <th></th>\n",
       "      <th>userid</th>\n",
       "      <th>movieid</th>\n",
       "      <th>rating</th>\n",
       "      <th>timestamp</th>\n",
       "    </tr>\n",
       "  </thead>\n",
       "  <tbody>\n",
       "    <tr>\n",
       "      <th>998335</th>\n",
       "      <td>6034</td>\n",
       "      <td>881</td>\n",
       "      <td>5</td>\n",
       "      <td>956712388</td>\n",
       "    </tr>\n",
       "    <tr>\n",
       "      <th>998435</th>\n",
       "      <td>6035</td>\n",
       "      <td>2929</td>\n",
       "      <td>1</td>\n",
       "      <td>956713640</td>\n",
       "    </tr>\n",
       "    <tr>\n",
       "      <th>998312</th>\n",
       "      <td>6033</td>\n",
       "      <td>1539</td>\n",
       "      <td>1</td>\n",
       "      <td>956714112</td>\n",
       "    </tr>\n",
       "    <tr>\n",
       "      <th>999731</th>\n",
       "      <td>6038</td>\n",
       "      <td>1094</td>\n",
       "      <td>5</td>\n",
       "      <td>956717204</td>\n",
       "    </tr>\n",
       "    <tr>\n",
       "      <th>998139</th>\n",
       "      <td>6031</td>\n",
       "      <td>354</td>\n",
       "      <td>4</td>\n",
       "      <td>956718589</td>\n",
       "    </tr>\n",
       "    <tr>\n",
       "      <th>...</th>\n",
       "      <td>...</td>\n",
       "      <td>...</td>\n",
       "      <td>...</td>\n",
       "      <td>...</td>\n",
       "    </tr>\n",
       "    <tr>\n",
       "      <th>59497</th>\n",
       "      <td>403</td>\n",
       "      <td>971</td>\n",
       "      <td>4</td>\n",
       "      <td>1046388675</td>\n",
       "    </tr>\n",
       "    <tr>\n",
       "      <th>511804</th>\n",
       "      <td>3158</td>\n",
       "      <td>2445</td>\n",
       "      <td>4</td>\n",
       "      <td>1046393499</td>\n",
       "    </tr>\n",
       "    <tr>\n",
       "      <th>983967</th>\n",
       "      <td>5948</td>\n",
       "      <td>2881</td>\n",
       "      <td>4</td>\n",
       "      <td>1046437932</td>\n",
       "    </tr>\n",
       "    <tr>\n",
       "      <th>879288</th>\n",
       "      <td>5312</td>\n",
       "      <td>3042</td>\n",
       "      <td>4</td>\n",
       "      <td>1046444711</td>\n",
       "    </tr>\n",
       "    <tr>\n",
       "      <th>825603</th>\n",
       "      <td>4958</td>\n",
       "      <td>1744</td>\n",
       "      <td>4</td>\n",
       "      <td>1046454590</td>\n",
       "    </tr>\n",
       "  </tbody>\n",
       "</table>\n",
       "<p>6038 rows × 4 columns</p>\n",
       "</div>"
      ],
      "text/plain": [
       "        userid  movieid  rating   timestamp\n",
       "998335    6034      881       5   956712388\n",
       "998435    6035     2929       1   956713640\n",
       "998312    6033     1539       1   956714112\n",
       "999731    6038     1094       5   956717204\n",
       "998139    6031      354       4   956718589\n",
       "...        ...      ...     ...         ...\n",
       "59497      403      971       4  1046388675\n",
       "511804    3158     2445       4  1046393499\n",
       "983967    5948     2881       4  1046437932\n",
       "879288    5312     3042       4  1046444711\n",
       "825603    4958     1744       4  1046454590\n",
       "\n",
       "[6038 rows x 4 columns]"
      ]
     },
     "execution_count": 108,
     "metadata": {},
     "output_type": "execute_result"
    }
   ],
   "source": [
    "holdout"
   ]
  },
  {
   "cell_type": "code",
   "execution_count": 109,
   "metadata": {},
   "outputs": [
    {
     "data": {
      "text/plain": [
       "(0.001324942033786022, 0.00020649642213073813)"
      ]
     },
     "execution_count": 109,
     "metadata": {},
     "output_type": "execute_result"
    }
   ],
   "source": [
    "model_evaluate(rnd_recoms, holdout, data_description)"
   ]
  },
  {
   "cell_type": "code",
   "execution_count": 110,
   "metadata": {},
   "outputs": [
    {
     "data": {
      "text/plain": [
       "(0.020370983769460085, 0.007026990436231906)"
      ]
     },
     "execution_count": 110,
     "metadata": {},
     "output_type": "execute_result"
    }
   ],
   "source": [
    "model_evaluate(pop_recoms, holdout, data_description)"
   ]
  },
  {
   "cell_type": "markdown",
   "metadata": {},
   "source": [
    "<font color=green>  \n",
    "\n",
    "* The obtained results are metrics@<...>?\n",
    "* What is the obvious way of improving the obtained results? Hint: we miss something in our scoring functions.\n",
    "* How do we get confidence intervals and estimate statistical significance of the results?  \n",
    "* What requirements our models would have to satisfy?\n",
    "* What changes do we need to make in order to assess strong generalization?\n",
    "\n",
    "</font>"
   ]
  },
  {
   "cell_type": "markdown",
   "metadata": {},
   "source": [
    "# Cross-validation example"
   ]
  },
  {
   "cell_type": "markdown",
   "metadata": {},
   "source": [
    "Let's assume there's no dependence of user consumption pattern on time data (or at leastwe ar not interested in it). In that case, temporal splitting is not necessary and we can switch to e.g. random sampling strategy. \n",
    "\n",
    "Our methodology will be:\n",
    "- random \"leave-one-out\" sampling for holdout items\n",
    "- use $k$-fold cross-validation scheme,\n",
    "- test against strong generalization of models."
   ]
  },
  {
   "cell_type": "markdown",
   "metadata": {},
   "source": [
    "## CV boilerplate"
   ]
  },
  {
   "cell_type": "markdown",
   "metadata": {},
   "source": [
    "### data preparation routines"
   ]
  },
  {
   "cell_type": "code",
   "execution_count": 111,
   "metadata": {},
   "outputs": [],
   "source": [
    "def leave_one_out(data, data_descirption, seed=None):\n",
    "    shuffled = data.sample(frac=1, random_state=seed)\n",
    "    holdout = shuffled.drop_duplicates(subset=[data_descirption['users']], keep='last')\n",
    "    remaining = data.drop(holdout.index)\n",
    "    return remaining, holdout\n",
    "\n",
    "def train_test_split(test_index, data, data_description, seed, holdout_sampling=None):\n",
    "    userid = data_description['users']\n",
    "    itemid = data_description['items']\n",
    "    if holdout_sampling is None:\n",
    "        holdout_sampling = leave_one_out\n",
    "    # split train/test and build internal index\n",
    "    test_data_ = data.iloc[test_index]\n",
    "    training_ = data.drop(test_data_.index)\n",
    "    training, data_index = transform_indices(training_, userid, itemid)\n",
    "    # conform test data with internal index\n",
    "    test_data = (\n",
    "        reindex_data(test_data_, 'items', data_index)\n",
    "        .query(f'{itemid} >= 0')\n",
    "    )\n",
    "    # note: we haven't reindexed user ids in our simple example\n",
    "    # but in general we need to perform user reindexing as well\n",
    "\n",
    "    # split holdout\n",
    "    testset, holdout = holdout_sampling(test_data, data_description, seed=seed)\n",
    "    # ensure user index consistency in test data\n",
    "    # due to warm-start condition, we don't need to check\n",
    "    # for consistency with the training data\n",
    "    same_test_users = testset[userid].isin(holdout[userid])\n",
    "    if not same_test_users.all():\n",
    "        testset = testset[same_test_users]\n",
    "    # sort by users for convenience and conformity\n",
    "    testset = testset.sort_values(userid)\n",
    "    holdout = holdout.sort_values(userid)\n",
    "    return training, testset, holdout, data_index"
   ]
  },
  {
   "cell_type": "markdown",
   "metadata": {},
   "source": [
    "### CV routines"
   ]
  },
  {
   "cell_type": "code",
   "execution_count": 112,
   "metadata": {},
   "outputs": [],
   "source": [
    "metrics = ['HR', 'MRR']"
   ]
  },
  {
   "cell_type": "code",
   "execution_count": 113,
   "metadata": {},
   "outputs": [],
   "source": [
    "def run_kfold_cv(\n",
    "    data, data_description,\n",
    "    models, configs,\n",
    "    build_funcs, score_funcs,\n",
    "    recom_func, eval_func,\n",
    "    *,\n",
    "    k_folds=5,\n",
    "    topn_list=None,\n",
    "    seed=None,\n",
    "    fold_experiment=None,\n",
    "    **kwargs\n",
    "): \n",
    "    # perform basic checks\n",
    "    assert len(configs) == len(models) == len(build_funcs) == len(score_funcs)\n",
    "    if fold_experiment is None:\n",
    "        fold_experiment = run_fold_experiment\n",
    "    if topn_list is None:\n",
    "        topn_list = [10]\n",
    "    # initiate experiment\n",
    "    kfold = GroupKFold(n_splits=k_folds)\n",
    "    user_groups = data[data_description['users']]\n",
    "    results = []\n",
    "    for train_idx, test_idx in track(kfold.split(data, groups=user_groups), k_folds):\n",
    "        fold_data = train_test_split(test_idx, data, data_description, seed)\n",
    "        fold_res = fold_experiment(\n",
    "            fold_data, data_description,\n",
    "            models, configs,\n",
    "            build_funcs, score_funcs,\n",
    "            recom_func, eval_func,\n",
    "            topn_list,\n",
    "            **kwargs\n",
    "        )\n",
    "        results.append(fold_res)\n",
    "    return results\n",
    "\n",
    "\n",
    "def run_fold_experiment(\n",
    "    fold_data, data_description,\n",
    "    models,  configs,\n",
    "    build_funcs, score_funcs,\n",
    "    recom_func, eval_func,\n",
    "    topn_list\n",
    "):\n",
    "    fold_results = {model: {metric: [] for metric in metrics} for model in models}\n",
    "    topn_max = max(topn_list)\n",
    "    # unpack experiment data\n",
    "    training, testset, holdout, data_index = fold_data\n",
    "    testset_description = {\n",
    "        **data_description,\n",
    "        'n_test_users': testset[data_description['users']].nunique()\n",
    "    }\n",
    "    # run experiment\n",
    "    for model, build_func, score_func, model_config in zip(models, build_funcs, score_funcs, configs):\n",
    "        model_params = build_func(model_config, training, testset_description)\n",
    "        model_scores = score_func(model_params, testset, testset_description)\n",
    "        model_recoms = recom_func(model_scores, topn=max(topn_list))\n",
    "        for topn in topn_list:\n",
    "            hr, mrr = eval_func(model_recoms, holdout, data_description, topn=topn)\n",
    "            fold_results[model]['HR'].append(hr)\n",
    "            fold_results[model]['MRR'].append(mrr)\n",
    "    return fold_results"
   ]
  },
  {
   "cell_type": "markdown",
   "metadata": {},
   "source": [
    "pop_params = build_popularity_model({}, training, data_description)\n",
    "pop_scores = popularity_model_scoring(pop_params, None, data_description)\n",
    "pop_recoms = simple_model_recom_func(pop_scores)"
   ]
  },
  {
   "cell_type": "markdown",
   "metadata": {},
   "source": [
    "## run experiment"
   ]
  },
  {
   "cell_type": "code",
   "execution_count": 114,
   "metadata": {},
   "outputs": [
    {
     "data": {
      "text/html": [
       "<div><span class=\"Text-label\" style=\"display:inline-block; overflow:hidden; white-space:nowrap; text-overflow:ellipsis; min-width:0; max-width:15ex; vertical-align:middle; text-align:right\"></span>\n",
       "<progress style=\"width:60ex\" max=\"4\" value=\"4\" class=\"Progress-main\"/></progress>\n",
       "<span class=\"Progress-label\"><strong>100%</strong></span>\n",
       "<span class=\"Iteration-label\">4/4</span>\n",
       "<span class=\"Time-label\">[00:01<00:00, 0.22s/it]</span></div>"
      ],
      "text/plain": [
       "\u001b[A\u001b[2K\r",
       " [████████████████████████████████████████████████████████████] 4/4 [00:01<00:00, 0.22s/it]"
      ]
     },
     "metadata": {},
     "output_type": "display_data"
    }
   ],
   "source": [
    "model_names = ['most popular', 'random']\n",
    "model_configs = [{}, {'seed': 0}]\n",
    "model_build_funcs = [build_popularity_model, build_random_model]\n",
    "models_scoring = [popularity_model_scoring, random_model_scoring]\n",
    "topn_list = [1, 5, 10]\n",
    "\n",
    "results = run_kfold_cv(\n",
    "    data, data_description,\n",
    "    model_names, model_configs,\n",
    "    model_build_funcs, models_scoring,\n",
    "    simple_model_recom_func, model_evaluate,\n",
    "    k_folds=4, topn_list=topn_list\n",
    ")"
   ]
  },
  {
   "cell_type": "code",
   "execution_count": 115,
   "metadata": {},
   "outputs": [
    {
     "data": {
      "text/plain": [
       "[{'most popular': {'HR': [0.006622516556291391,\n",
       "    0.02847682119205298,\n",
       "    0.046357615894039736],\n",
       "   'MRR': [0.006622516556291391, 0.01347682119205298, 0.01595895090928203]},\n",
       "  'random': {'HR': [0.0, 0.0006622516556291391, 0.0013245033112582781],\n",
       "   'MRR': [0.0, 0.00016556291390728477, 0.0002759381898454746]}},\n",
       " {'most popular': {'HR': [0.007947019867549669,\n",
       "    0.02384105960264901,\n",
       "    0.04304635761589404],\n",
       "   'MRR': [0.007947019867549669, 0.012615894039735098, 0.015061494796594133]},\n",
       "  'random': {'HR': [0.0006622516556291391,\n",
       "    0.0013245033112582781,\n",
       "    0.0033112582781456954],\n",
       "   'MRR': [0.0006622516556291391,\n",
       "    0.0009933774834437086,\n",
       "    0.0012233259749816043]}},\n",
       " {'most popular': {'HR': [0.004635761589403974,\n",
       "    0.02913907284768212,\n",
       "    0.04701986754966887],\n",
       "   'MRR': [0.004635761589403974, 0.012660044150110373, 0.015144013455271733]},\n",
       "  'random': {'HR': [0.0006622516556291391,\n",
       "    0.0013245033112582781,\n",
       "    0.003973509933774834],\n",
       "   'MRR': [0.0006622516556291391,\n",
       "    0.0009933774834437086,\n",
       "    0.0013665510354252074]}},\n",
       " {'most popular': {'HR': [0.0026490066225165563,\n",
       "    0.02185430463576159,\n",
       "    0.04900662251655629],\n",
       "   'MRR': [0.0026490066225165563, 0.009083885209713023, 0.0126826448018501]},\n",
       "  'random': {'HR': [0.0, 0.0026490066225165563, 0.0033112582781456954],\n",
       "   'MRR': [0.0, 0.0010154525386313466, 0.001098233995584989]}}]"
      ]
     },
     "execution_count": 115,
     "metadata": {},
     "output_type": "execute_result"
    }
   ],
   "source": [
    "results"
   ]
  },
  {
   "cell_type": "markdown",
   "metadata": {},
   "source": [
    "# Results analysis"
   ]
  },
  {
   "cell_type": "code",
   "execution_count": 116,
   "metadata": {},
   "outputs": [],
   "source": [
    "def results_to_df(results, topn_list):\n",
    "    metric_index = pd.MultiIndex.from_product(\n",
    "        [metrics, topn_list],\n",
    "        names=['metric', 'topn']\n",
    "    )\n",
    "    results_df = pd.concat(\n",
    "        {\n",
    "            foldid: pd.DataFrame(res)\n",
    "            .explode(column=list(res.keys()))\n",
    "            .set_index(metric_index)\n",
    "            for foldid, res in enumerate(results, start=1)\n",
    "        },\n",
    "        names=['fold']\n",
    "    )\n",
    "    return results_df"
   ]
  },
  {
   "cell_type": "code",
   "execution_count": 117,
   "metadata": {},
   "outputs": [
    {
     "data": {
      "text/html": [
       "<div>\n",
       "<style scoped>\n",
       "    .dataframe tbody tr th:only-of-type {\n",
       "        vertical-align: middle;\n",
       "    }\n",
       "\n",
       "    .dataframe tbody tr th {\n",
       "        vertical-align: top;\n",
       "    }\n",
       "\n",
       "    .dataframe thead th {\n",
       "        text-align: right;\n",
       "    }\n",
       "</style>\n",
       "<table border=\"1\" class=\"dataframe\">\n",
       "  <thead>\n",
       "    <tr style=\"text-align: right;\">\n",
       "      <th></th>\n",
       "      <th></th>\n",
       "      <th></th>\n",
       "      <th>most popular</th>\n",
       "      <th>random</th>\n",
       "    </tr>\n",
       "    <tr>\n",
       "      <th>fold</th>\n",
       "      <th>metric</th>\n",
       "      <th>topn</th>\n",
       "      <th></th>\n",
       "      <th></th>\n",
       "    </tr>\n",
       "  </thead>\n",
       "  <tbody>\n",
       "    <tr>\n",
       "      <th rowspan=\"6\" valign=\"top\">1</th>\n",
       "      <th rowspan=\"3\" valign=\"top\">HR</th>\n",
       "      <th>1</th>\n",
       "      <td>0.006623</td>\n",
       "      <td>0.0</td>\n",
       "    </tr>\n",
       "    <tr>\n",
       "      <th>5</th>\n",
       "      <td>0.028477</td>\n",
       "      <td>0.000662</td>\n",
       "    </tr>\n",
       "    <tr>\n",
       "      <th>10</th>\n",
       "      <td>0.046358</td>\n",
       "      <td>0.001325</td>\n",
       "    </tr>\n",
       "    <tr>\n",
       "      <th rowspan=\"3\" valign=\"top\">MRR</th>\n",
       "      <th>1</th>\n",
       "      <td>0.006623</td>\n",
       "      <td>0.0</td>\n",
       "    </tr>\n",
       "    <tr>\n",
       "      <th>5</th>\n",
       "      <td>0.013477</td>\n",
       "      <td>0.000166</td>\n",
       "    </tr>\n",
       "    <tr>\n",
       "      <th>10</th>\n",
       "      <td>0.015959</td>\n",
       "      <td>0.000276</td>\n",
       "    </tr>\n",
       "    <tr>\n",
       "      <th rowspan=\"4\" valign=\"top\">2</th>\n",
       "      <th rowspan=\"3\" valign=\"top\">HR</th>\n",
       "      <th>1</th>\n",
       "      <td>0.007947</td>\n",
       "      <td>0.000662</td>\n",
       "    </tr>\n",
       "    <tr>\n",
       "      <th>5</th>\n",
       "      <td>0.023841</td>\n",
       "      <td>0.001325</td>\n",
       "    </tr>\n",
       "    <tr>\n",
       "      <th>10</th>\n",
       "      <td>0.043046</td>\n",
       "      <td>0.003311</td>\n",
       "    </tr>\n",
       "    <tr>\n",
       "      <th>MRR</th>\n",
       "      <th>1</th>\n",
       "      <td>0.007947</td>\n",
       "      <td>0.000662</td>\n",
       "    </tr>\n",
       "  </tbody>\n",
       "</table>\n",
       "</div>"
      ],
      "text/plain": [
       "                 most popular    random\n",
       "fold metric topn                       \n",
       "1    HR     1        0.006623       0.0\n",
       "            5        0.028477  0.000662\n",
       "            10       0.046358  0.001325\n",
       "     MRR    1        0.006623       0.0\n",
       "            5        0.013477  0.000166\n",
       "            10       0.015959  0.000276\n",
       "2    HR     1        0.007947  0.000662\n",
       "            5        0.023841  0.001325\n",
       "            10       0.043046  0.003311\n",
       "     MRR    1        0.007947  0.000662"
      ]
     },
     "execution_count": 117,
     "metadata": {},
     "output_type": "execute_result"
    }
   ],
   "source": [
    "results_df = results_to_df(results, topn_list)\n",
    "results_df.head(10)"
   ]
  },
  {
   "cell_type": "code",
   "execution_count": 118,
   "metadata": {},
   "outputs": [
    {
     "data": {
      "text/html": [
       "<div>\n",
       "<style scoped>\n",
       "    .dataframe tbody tr th:only-of-type {\n",
       "        vertical-align: middle;\n",
       "    }\n",
       "\n",
       "    .dataframe tbody tr th {\n",
       "        vertical-align: top;\n",
       "    }\n",
       "\n",
       "    .dataframe thead th {\n",
       "        text-align: right;\n",
       "    }\n",
       "</style>\n",
       "<table border=\"1\" class=\"dataframe\">\n",
       "  <thead>\n",
       "    <tr style=\"text-align: right;\">\n",
       "      <th></th>\n",
       "      <th></th>\n",
       "      <th>most popular</th>\n",
       "      <th>random</th>\n",
       "    </tr>\n",
       "    <tr>\n",
       "      <th>metric</th>\n",
       "      <th>topn</th>\n",
       "      <th></th>\n",
       "      <th></th>\n",
       "    </tr>\n",
       "  </thead>\n",
       "  <tbody>\n",
       "    <tr>\n",
       "      <th rowspan=\"3\" valign=\"top\">HR</th>\n",
       "      <th>1</th>\n",
       "      <td>0.005464</td>\n",
       "      <td>0.000331</td>\n",
       "    </tr>\n",
       "    <tr>\n",
       "      <th>5</th>\n",
       "      <td>0.025828</td>\n",
       "      <td>0.001490</td>\n",
       "    </tr>\n",
       "    <tr>\n",
       "      <th>10</th>\n",
       "      <td>0.046358</td>\n",
       "      <td>0.002980</td>\n",
       "    </tr>\n",
       "    <tr>\n",
       "      <th rowspan=\"3\" valign=\"top\">MRR</th>\n",
       "      <th>1</th>\n",
       "      <td>0.005464</td>\n",
       "      <td>0.000331</td>\n",
       "    </tr>\n",
       "    <tr>\n",
       "      <th>5</th>\n",
       "      <td>0.011959</td>\n",
       "      <td>0.000792</td>\n",
       "    </tr>\n",
       "    <tr>\n",
       "      <th>10</th>\n",
       "      <td>0.014712</td>\n",
       "      <td>0.000991</td>\n",
       "    </tr>\n",
       "  </tbody>\n",
       "</table>\n",
       "</div>"
      ],
      "text/plain": [
       "             most popular    random\n",
       "metric topn                        \n",
       "HR     1         0.005464  0.000331\n",
       "       5         0.025828  0.001490\n",
       "       10        0.046358  0.002980\n",
       "MRR    1         0.005464  0.000331\n",
       "       5         0.011959  0.000792\n",
       "       10        0.014712  0.000991"
      ]
     },
     "execution_count": 118,
     "metadata": {},
     "output_type": "execute_result"
    }
   ],
   "source": [
    "results_df.groupby(level=['metric', 'topn']).mean()"
   ]
  },
  {
   "cell_type": "code",
   "execution_count": 119,
   "metadata": {},
   "outputs": [
    {
     "data": {
      "text/html": [
       "<div>\n",
       "<style scoped>\n",
       "    .dataframe tbody tr th:only-of-type {\n",
       "        vertical-align: middle;\n",
       "    }\n",
       "\n",
       "    .dataframe tbody tr th {\n",
       "        vertical-align: top;\n",
       "    }\n",
       "\n",
       "    .dataframe thead th {\n",
       "        text-align: right;\n",
       "    }\n",
       "</style>\n",
       "<table border=\"1\" class=\"dataframe\">\n",
       "  <thead>\n",
       "    <tr style=\"text-align: right;\">\n",
       "      <th></th>\n",
       "      <th></th>\n",
       "      <th>most popular</th>\n",
       "      <th>random</th>\n",
       "    </tr>\n",
       "    <tr>\n",
       "      <th>metric</th>\n",
       "      <th>topn</th>\n",
       "      <th></th>\n",
       "      <th></th>\n",
       "    </tr>\n",
       "  </thead>\n",
       "  <tbody>\n",
       "    <tr>\n",
       "      <th rowspan=\"3\" valign=\"top\">HR</th>\n",
       "      <th>1</th>\n",
       "      <td>0.002318</td>\n",
       "      <td>0.000382</td>\n",
       "    </tr>\n",
       "    <tr>\n",
       "      <th>5</th>\n",
       "      <td>0.003546</td>\n",
       "      <td>0.000833</td>\n",
       "    </tr>\n",
       "    <tr>\n",
       "      <th>10</th>\n",
       "      <td>0.002478</td>\n",
       "      <td>0.001147</td>\n",
       "    </tr>\n",
       "    <tr>\n",
       "      <th rowspan=\"3\" valign=\"top\">MRR</th>\n",
       "      <th>1</th>\n",
       "      <td>0.002318</td>\n",
       "      <td>0.000382</td>\n",
       "    </tr>\n",
       "    <tr>\n",
       "      <th>5</th>\n",
       "      <td>0.001957</td>\n",
       "      <td>0.000418</td>\n",
       "    </tr>\n",
       "    <tr>\n",
       "      <th>10</th>\n",
       "      <td>0.001412</td>\n",
       "      <td>0.000489</td>\n",
       "    </tr>\n",
       "  </tbody>\n",
       "</table>\n",
       "</div>"
      ],
      "text/plain": [
       "             most popular    random\n",
       "metric topn                        \n",
       "HR     1         0.002318  0.000382\n",
       "       5         0.003546  0.000833\n",
       "       10        0.002478  0.001147\n",
       "MRR    1         0.002318  0.000382\n",
       "       5         0.001957  0.000418\n",
       "       10        0.001412  0.000489"
      ]
     },
     "execution_count": 119,
     "metadata": {},
     "output_type": "execute_result"
    }
   ],
   "source": [
    "results_df.groupby(level=['metric', 'topn']).std()"
   ]
  },
  {
   "cell_type": "markdown",
   "metadata": {},
   "source": [
    "<font color=green>\n",
    "\n",
    "- Do we actually measure user satisfaction with the implemented sampling? Why?\n",
    "- Suggest an evaluation protocol to measure potential satisfaction better.\n",
    "\n",
    "</font>"
   ]
  },
  {
   "cell_type": "code",
   "execution_count": null,
   "metadata": {},
   "outputs": [],
   "source": []
  },
  {
   "cell_type": "code",
   "execution_count": null,
   "metadata": {},
   "outputs": [],
   "source": []
  },
  {
   "cell_type": "code",
   "execution_count": null,
   "metadata": {},
   "outputs": [],
   "source": []
  },
  {
   "cell_type": "code",
   "execution_count": null,
   "metadata": {},
   "outputs": [],
   "source": []
  },
  {
   "cell_type": "markdown",
   "metadata": {},
   "source": [
    "# Significance test"
   ]
  },
  {
   "cell_type": "code",
   "execution_count": 120,
   "metadata": {},
   "outputs": [],
   "source": [
    "from polara.evaluation.evaluation_engine import sample_ci"
   ]
  },
  {
   "cell_type": "code",
   "execution_count": 121,
   "metadata": {},
   "outputs": [
    {
     "name": "stderr",
     "output_type": "stream",
     "text": [
      "/Users/scalyvladimir/miniforge3/envs/firstEnv/lib/python3.8/site-packages/polara/evaluation/evaluation_engine.py:25: FutureWarning: Using the level keyword in DataFrame and Series aggregations is deprecated and will be removed in a future version. Use groupby instead. df.var(level=1) should use df.groupby(level=1).var().\n",
      "  return coef * df.std(level=level, ddof=1) / sqrt(n)\n"
     ]
    },
    {
     "data": {
      "text/html": [
       "<div>\n",
       "<style scoped>\n",
       "    .dataframe tbody tr th:only-of-type {\n",
       "        vertical-align: middle;\n",
       "    }\n",
       "\n",
       "    .dataframe tbody tr th {\n",
       "        vertical-align: top;\n",
       "    }\n",
       "\n",
       "    .dataframe thead tr th {\n",
       "        text-align: left;\n",
       "    }\n",
       "\n",
       "    .dataframe thead tr:last-of-type th {\n",
       "        text-align: right;\n",
       "    }\n",
       "</style>\n",
       "<table border=\"1\" class=\"dataframe\">\n",
       "  <thead>\n",
       "    <tr>\n",
       "      <th></th>\n",
       "      <th colspan=\"2\" halign=\"left\">most popular</th>\n",
       "      <th colspan=\"2\" halign=\"left\">random</th>\n",
       "    </tr>\n",
       "    <tr>\n",
       "      <th>metric</th>\n",
       "      <th>HR</th>\n",
       "      <th>MRR</th>\n",
       "      <th>HR</th>\n",
       "      <th>MRR</th>\n",
       "    </tr>\n",
       "    <tr>\n",
       "      <th>topn</th>\n",
       "      <th></th>\n",
       "      <th></th>\n",
       "      <th></th>\n",
       "      <th></th>\n",
       "    </tr>\n",
       "  </thead>\n",
       "  <tbody>\n",
       "    <tr>\n",
       "      <th>1</th>\n",
       "      <td>0.003217</td>\n",
       "      <td>0.003217</td>\n",
       "      <td>0.000531</td>\n",
       "      <td>0.000531</td>\n",
       "    </tr>\n",
       "    <tr>\n",
       "      <th>5</th>\n",
       "      <td>0.004922</td>\n",
       "      <td>0.002717</td>\n",
       "      <td>0.001157</td>\n",
       "      <td>0.000580</td>\n",
       "    </tr>\n",
       "    <tr>\n",
       "      <th>10</th>\n",
       "      <td>0.003439</td>\n",
       "      <td>0.001960</td>\n",
       "      <td>0.001592</td>\n",
       "      <td>0.000679</td>\n",
       "    </tr>\n",
       "  </tbody>\n",
       "</table>\n",
       "</div>"
      ],
      "text/plain": [
       "       most popular              random          \n",
       "metric           HR       MRR        HR       MRR\n",
       "topn                                             \n",
       "1          0.003217  0.003217  0.000531  0.000531\n",
       "5          0.004922  0.002717  0.001157  0.000580\n",
       "10         0.003439  0.001960  0.001592  0.000679"
      ]
     },
     "execution_count": 121,
     "metadata": {},
     "output_type": "execute_result"
    }
   ],
   "source": [
    "sample_ci(results_df.unstack('metric'), level='topn')"
   ]
  },
  {
   "cell_type": "code",
   "execution_count": null,
   "metadata": {},
   "outputs": [],
   "source": []
  },
  {
   "cell_type": "markdown",
   "metadata": {},
   "source": [
    "# Using Polara"
   ]
  },
  {
   "cell_type": "code",
   "execution_count": 122,
   "metadata": {},
   "outputs": [],
   "source": [
    "from polara import RecommenderData, RandomModel, PopularityModel"
   ]
  },
  {
   "cell_type": "markdown",
   "metadata": {},
   "source": [
    "## Temporal split example"
   ]
  },
  {
   "cell_type": "code",
   "execution_count": 123,
   "metadata": {},
   "outputs": [],
   "source": [
    "data_config = dict(\n",
    "    warm_start = False,\n",
    "    holdout_size = 1,\n",
    "    test_ratio = 0, # split holdout from all users\n",
    "    random_holdout = False, # use either feedback or custom_order field\n",
    ")\n",
    "dm = RecommenderData(\n",
    "    data, 'userid', 'movieid', 'rating',\n",
    "    custom_order='timestamp', config=data_config\n",
    ")\n"
   ]
  },
  {
   "cell_type": "code",
   "execution_count": 124,
   "metadata": {},
   "outputs": [
    {
     "name": "stdout",
     "output_type": "stream",
     "text": [
      "RecommenderData with Fields(userid='userid', itemid='movieid', feedback='rating')\n"
     ]
    }
   ],
   "source": [
    "print(dm)"
   ]
  },
  {
   "cell_type": "code",
   "execution_count": 125,
   "metadata": {},
   "outputs": [
    {
     "name": "stdout",
     "output_type": "stream",
     "text": [
      "Preparing data...\n",
      "2 unique movieid entities within 2 holdout interactions were filtered. Reason: not in the training data.\n",
      "Done.\n",
      "There are 994169 events in the training and 6038 events in the holdout.\n"
     ]
    }
   ],
   "source": [
    "dm.prepare()"
   ]
  },
  {
   "cell_type": "code",
   "execution_count": 126,
   "metadata": {},
   "outputs": [
    {
     "name": "stderr",
     "output_type": "stream",
     "text": [
      "/Users/scalyvladimir/miniforge3/envs/firstEnv/lib/python3.8/site-packages/scipy/sparse/data.py:117: RuntimeWarning: divide by zero encountered in reciprocal\n",
      "  return self._with_data(data ** n)\n"
     ]
    },
    {
     "data": {
      "text/plain": [
       "[Relevance(hr=0.03627028817489235),\n",
       " Ranking(arhr=0.012338456968301286, mrr=0.012338456968301287),\n",
       " Experience(coverage=0.05372570194384449),\n",
       " Hits(true_positive=219, false_positive=60161, true_negative=None, false_negative=5819)]"
      ]
     },
     "execution_count": 126,
     "metadata": {},
     "output_type": "execute_result"
    }
   ],
   "source": [
    "pop = PopularityModel(dm)\n",
    "pop.build()\n",
    "pop.evaluate()"
   ]
  },
  {
   "cell_type": "code",
   "execution_count": 127,
   "metadata": {},
   "outputs": [
    {
     "data": {
      "text/plain": [
       "[Relevance(hr=0.001987413050679033),\n",
       " Ranking(arhr=0.0005363517826253831, mrr=0.0005363517826253831),\n",
       " Experience(coverage=1.0),\n",
       " Hits(true_positive=12, false_positive=60368, true_negative=None, false_negative=6026)]"
      ]
     },
     "execution_count": 127,
     "metadata": {},
     "output_type": "execute_result"
    }
   ],
   "source": [
    "rnd = RandomModel(dm, seed=0)\n",
    "rnd.build()\n",
    "rnd.evaluate()"
   ]
  },
  {
   "cell_type": "markdown",
   "metadata": {},
   "source": [
    "## Cross-validation example"
   ]
  },
  {
   "cell_type": "code",
   "execution_count": 128,
   "metadata": {},
   "outputs": [],
   "source": [
    "from polara.evaluation import evaluation_engine as ee"
   ]
  },
  {
   "cell_type": "code",
   "execution_count": 129,
   "metadata": {},
   "outputs": [],
   "source": [
    "dm = RecommenderData(data, 'userid', 'movieid', 'rating')\n",
    "\n",
    "dm.warm_start = True\n",
    "dm.holdout_size = 1\n",
    "dm.test_ratio = 0.2 # split holdout from all users\n",
    "dm.random_holdout = True # sample randomly\n",
    "dm.verbose = False # don't print data update info"
   ]
  },
  {
   "cell_type": "code",
   "execution_count": null,
   "metadata": {},
   "outputs": [],
   "source": []
  },
  {
   "cell_type": "code",
   "execution_count": 130,
   "metadata": {},
   "outputs": [
    {
     "name": "stdout",
     "output_type": "stream",
     "text": [
      "The value of holdout_size might be not effective yet.\n",
      "The value of random_holdout might be not effective yet.\n"
     ]
    },
    {
     "data": {
      "text/plain": [
       "{'holdout_size': 1,\n",
       " 'negative_prediction': False,\n",
       " 'test_ratio': 0.2,\n",
       " 'permute_tops': False,\n",
       " 'test_sample': None,\n",
       " 'random_holdout': True,\n",
       " 'test_fold': 5,\n",
       " 'shuffle_data': False,\n",
       " 'warm_start': True}"
      ]
     },
     "execution_count": 130,
     "metadata": {},
     "output_type": "execute_result"
    }
   ],
   "source": [
    "dm.get_configuration()"
   ]
  },
  {
   "cell_type": "code",
   "execution_count": 131,
   "metadata": {},
   "outputs": [
    {
     "data": {
      "text/html": [
       "<div><span class=\"Text-label\" style=\"display:inline-block; overflow:hidden; white-space:nowrap; text-overflow:ellipsis; min-width:0; max-width:15ex; vertical-align:middle; text-align:right\"></span>\n",
       "<progress style=\"width:60ex\" max=\"5\" value=\"5\" class=\"Progress-main\"/></progress>\n",
       "<span class=\"Progress-label\"><strong>100%</strong></span>\n",
       "<span class=\"Iteration-label\">5/5</span>\n",
       "<span class=\"Time-label\">[00:01<00:00, 0.22s/it]</span></div>"
      ],
      "text/plain": [
       "\u001b[A\u001b[2K\r",
       " [████████████████████████████████████████████████████████████] 5/5 [00:01<00:00, 0.22s/it]"
      ]
     },
     "metadata": {},
     "output_type": "display_data"
    },
    {
     "name": "stderr",
     "output_type": "stream",
     "text": [
      "/Users/scalyvladimir/miniforge3/envs/firstEnv/lib/python3.8/site-packages/scipy/sparse/data.py:117: RuntimeWarning: divide by zero encountered in reciprocal\n",
      "  return self._with_data(data ** n)\n"
     ]
    }
   ],
   "source": [
    "topk_values = [1, 5, 10]\n",
    "models = [RandomModel(dm, seed=0), PopularityModel(dm)]\n",
    "\n",
    "# run CV experiment\n",
    "results = ee.run_cv_experiment(\n",
    "    models,\n",
    "    fold_experiment=ee.topk_test,\n",
    "    topk_list=topk_values,\n",
    "    iterator=track\n",
    ")"
   ]
  },
  {
   "cell_type": "code",
   "execution_count": 132,
   "metadata": {},
   "outputs": [
    {
     "data": {
      "text/html": [
       "<div>\n",
       "<style scoped>\n",
       "    .dataframe tbody tr th:only-of-type {\n",
       "        vertical-align: middle;\n",
       "    }\n",
       "\n",
       "    .dataframe tbody tr th {\n",
       "        vertical-align: top;\n",
       "    }\n",
       "\n",
       "    .dataframe thead tr th {\n",
       "        text-align: left;\n",
       "    }\n",
       "\n",
       "    .dataframe thead tr:last-of-type th {\n",
       "        text-align: right;\n",
       "    }\n",
       "</style>\n",
       "<table border=\"1\" class=\"dataframe\">\n",
       "  <thead>\n",
       "    <tr>\n",
       "      <th></th>\n",
       "      <th>type</th>\n",
       "      <th>relevance</th>\n",
       "      <th colspan=\"2\" halign=\"left\">ranking</th>\n",
       "      <th>experience</th>\n",
       "    </tr>\n",
       "    <tr>\n",
       "      <th></th>\n",
       "      <th>metric</th>\n",
       "      <th>hr</th>\n",
       "      <th>arhr</th>\n",
       "      <th>mrr</th>\n",
       "      <th>coverage</th>\n",
       "    </tr>\n",
       "    <tr>\n",
       "      <th>top-n</th>\n",
       "      <th>model</th>\n",
       "      <th></th>\n",
       "      <th></th>\n",
       "      <th></th>\n",
       "      <th></th>\n",
       "    </tr>\n",
       "  </thead>\n",
       "  <tbody>\n",
       "    <tr>\n",
       "      <th rowspan=\"2\" valign=\"top\">1</th>\n",
       "      <th>MP</th>\n",
       "      <td>0.014241</td>\n",
       "      <td>0.014241</td>\n",
       "      <td>0.014241</td>\n",
       "      <td>0.009899</td>\n",
       "    </tr>\n",
       "    <tr>\n",
       "      <th>RND</th>\n",
       "      <td>0.000828</td>\n",
       "      <td>0.000828</td>\n",
       "      <td>0.000828</td>\n",
       "      <td>0.278482</td>\n",
       "    </tr>\n",
       "    <tr>\n",
       "      <th rowspan=\"2\" valign=\"top\">5</th>\n",
       "      <th>MP</th>\n",
       "      <td>0.045372</td>\n",
       "      <td>0.024844</td>\n",
       "      <td>0.024844</td>\n",
       "      <td>0.023226</td>\n",
       "    </tr>\n",
       "    <tr>\n",
       "      <th>RND</th>\n",
       "      <td>0.002152</td>\n",
       "      <td>0.001286</td>\n",
       "      <td>0.001286</td>\n",
       "      <td>0.797275</td>\n",
       "    </tr>\n",
       "    <tr>\n",
       "      <th rowspan=\"2\" valign=\"top\">10</th>\n",
       "      <th>MP</th>\n",
       "      <td>0.075178</td>\n",
       "      <td>0.028754</td>\n",
       "      <td>0.028754</td>\n",
       "      <td>0.034811</td>\n",
       "    </tr>\n",
       "    <tr>\n",
       "      <th>RND</th>\n",
       "      <td>0.003477</td>\n",
       "      <td>0.001458</td>\n",
       "      <td>0.001458</td>\n",
       "      <td>0.958455</td>\n",
       "    </tr>\n",
       "  </tbody>\n",
       "</table>\n",
       "</div>"
      ],
      "text/plain": [
       "type        relevance   ranking           experience\n",
       "metric             hr      arhr       mrr   coverage\n",
       "top-n model                                         \n",
       "1     MP     0.014241  0.014241  0.014241   0.009899\n",
       "      RND    0.000828  0.000828  0.000828   0.278482\n",
       "5     MP     0.045372  0.024844  0.024844   0.023226\n",
       "      RND    0.002152  0.001286  0.001286   0.797275\n",
       "10    MP     0.075178  0.028754  0.028754   0.034811\n",
       "      RND    0.003477  0.001458  0.001458   0.958455"
      ]
     },
     "execution_count": 132,
     "metadata": {},
     "output_type": "execute_result"
    }
   ],
   "source": [
    "results.loc[:, :'experience'].groupby(level=['top-n', 'model']).mean()"
   ]
  },
  {
   "cell_type": "code",
   "execution_count": null,
   "metadata": {},
   "outputs": [],
   "source": []
  },
  {
   "cell_type": "code",
   "execution_count": null,
   "metadata": {},
   "outputs": [],
   "source": []
  },
  {
   "cell_type": "code",
   "execution_count": null,
   "metadata": {},
   "outputs": [],
   "source": []
  },
  {
   "cell_type": "markdown",
   "metadata": {},
   "source": [
    "# Helpers"
   ]
  },
  {
   "cell_type": "code",
   "execution_count": null,
   "metadata": {},
   "outputs": [],
   "source": [
    "def downvote_seen_items(scores, data, data_description):\n",
    "    itemid = data_description['items']\n",
    "    userid = data_description['users']\n",
    "    # get indices of observed data\n",
    "    sorted = data.sort_values(userid)\n",
    "    item_idx = sorted[itemid].values\n",
    "    user_idx = sorted[userid].values\n",
    "    user_idx = np.r_[False, user_idx[1:] != user_idx[:-1]].cumsum()\n",
    "    # downvote scores at the corresponding positions\n",
    "    seen_idx_flat = np.ravel_multi_index((user_idx, item_idx), scores.shape)\n",
    "    np.put(scores, seen_idx_flat, scores.min() - 1)"
   ]
  }
 ],
 "metadata": {
  "interpreter": {
   "hash": "7a70d4f4d59d813f30cce45e7c6c5f563522d530678236faaa7a43f08814d862"
  },
  "kernelspec": {
   "display_name": "firstEnv",
   "language": "python",
   "name": "firstenv"
  },
  "language_info": {
   "codemirror_mode": {
    "name": "ipython",
    "version": 3
   },
   "file_extension": ".py",
   "mimetype": "text/x-python",
   "name": "python",
   "nbconvert_exporter": "python",
   "pygments_lexer": "ipython3",
   "version": "3.8.8"
  }
 },
 "nbformat": 4,
 "nbformat_minor": 2
}
