{
 "cells": [
  {
   "cell_type": "markdown",
   "metadata": {
    "id": "5XDBefNIgZE7"
   },
   "source": [
    "## Scientific Computing 2021: Homework Assignment 2 \n",
    "Due Monday October 18, 2021 (23:59)\n",
    "\n",
    "### Problem 1 (2 points)\n",
    "Let $A_q=\\left(\\begin{matrix}1 & q\\\\ 0 & 1\\end{matrix}\\right)$ with $q\\in\\mathbb R$. \n",
    "* For any $q$, find condition number $\\kappa(A_q)$ with respect to the $l^2$-norm."
   ]
  },
  {
   "cell_type": "markdown",
   "metadata": {},
   "source": [
    "#### 1.1"
   ]
  },
  {
   "cell_type": "markdown",
   "metadata": {},
   "source": [
    "$$\n",
    "\\kappa(A)=\\sqrt{\\frac{\\lambda_{\\max}(A^*A)}{\\lambda_{\\min}(A^*A)}}\n",
    "$$\n",
    "$A^*$ turns out to be just $A^T$ in case that $A_{ij}\\in\\mathbb R$.\n",
    "\n",
    "So $A^* = A^T = \\left(\\begin{matrix}1 & 0\\\\ q & 1\\end{matrix}\\right)$\n",
    "\n",
    "Thus, $A^*A = \\left(\\begin{matrix}1 & q\\\\ q & 1 + q^2\\end{matrix}\\right)$\n",
    "\n",
    "Finding eigenvals from condition: $\\det(A^*A -\\lambda E) = 0$\n",
    "\n",
    "All eigenvals given by $\\lambda_{1,2} = \\frac{2+q^2 \\pm \\sqrt{q^4+4q^2}}{2}$\n",
    "\n",
    "Finally got expression for condition number: $k(A) = \\sqrt{\\frac{2+q^2 + \\sqrt{q^4 + 4q^2}}{2+q^2 - \\sqrt{q^4 + 4q^2}}}$"
   ]
  },
  {
   "cell_type": "markdown",
   "metadata": {},
   "source": [
    "#### Let's validate our formula"
   ]
  },
  {
   "cell_type": "code",
   "execution_count": 1,
   "metadata": {},
   "outputs": [],
   "source": [
    "import numpy as np"
   ]
  },
  {
   "cell_type": "code",
   "execution_count": 2,
   "metadata": {},
   "outputs": [
    {
     "name": "stdout",
     "output_type": "stream",
     "text": [
      "7.056690511917566 vs 7.056690511917571\n"
     ]
    }
   ],
   "source": [
    "q = 2.28\n",
    "A = np.array([[1, q], [0, 1]])\n",
    "\n",
    "def get_kappa(q):\n",
    "    return np.sqrt((2 + q**2 + np.sqrt(q**4 + 4*q**2)) / (2 + q**2 - np.sqrt(q**4 + 4*q**2)))\n",
    "\n",
    "print('{} vs {}'.format(np.linalg.cond(A), get_kappa(q)))"
   ]
  },
  {
   "cell_type": "markdown",
   "metadata": {},
   "source": [
    "* Give an example of specific values of $q,\\mathbf b, \\Delta\\mathbf b$ such that, when solving $A_q\\mathbf x = \\mathbf b$ and $A_q(\\mathbf x+\\Delta \\mathbf x)=\\mathbf b +\\Delta\\mathbf b$, we get \n",
    "\n",
    "$$\\frac{\\|\\Delta \\mathbf x\\|}{\\|\\mathbf x\\|}\\ge 10^6\\frac{\\|\\Delta\\mathbf b\\|}{\\|\\mathbf b\\|}.$$"
   ]
  },
  {
   "cell_type": "markdown",
   "metadata": {},
   "source": [
    "#### 1.2"
   ]
  },
  {
   "cell_type": "code",
   "execution_count": 3,
   "metadata": {},
   "outputs": [
    {
     "data": {
      "text/plain": [
       "True"
      ]
     },
     "execution_count": 3,
     "metadata": {},
     "output_type": "execute_result"
    }
   ],
   "source": [
    "q = 1e10\n",
    "A = np.array([[1, q], [0, 1]])\n",
    "b = np.array([1e6, 1])\n",
    "delta_b = np.array([1e5, 1e7])\n",
    "\n",
    "b_frac = np.linalg.norm(delta_b) / np.linalg.norm(b)\n",
    "\n",
    "X = np.dot(np.linalg.inv(A), b)\n",
    "delta_X = np.dot(np.linalg.inv(A), delta_b)\n",
    "\n",
    "x_frac = np.linalg.norm(delta_X) / np.linalg.norm(X)\n",
    "\n",
    "x_frac / b_frac > 1e6"
   ]
  },
  {
   "cell_type": "markdown",
   "metadata": {
    "id": "6jKRLB72gZFE"
   },
   "source": [
    "### Problem 2 (2 points)\n",
    "* Write a program to compute an approximate value for the derivative of a function using the finite-difference formula \n",
    "\n",
    "  $$f'(x)\\approx \\frac{f(x+h)-f(x)}{h}.$$\n",
    "\n",
    "  Test your program using the function $\\tan(x)$ at $x=1$. Determine the error by comparing with the value obtained using the analytic derivative. Plot the magnitude of the error as a function of $h$, for $h=10^{-k}, k=0,\\ldots,16$. You should use log scale for $h$ and for the magnitude of the error. What is the minimum value of the error and at which $h$ is it achieved? Explain this result theoretically."
   ]
  },
  {
   "cell_type": "markdown",
   "metadata": {},
   "source": [
    "#### 2.1"
   ]
  },
  {
   "cell_type": "code",
   "execution_count": 4,
   "metadata": {},
   "outputs": [],
   "source": [
    "import matplotlib.pyplot as plt\n",
    "import sympy as sp\n",
    "import math as m"
   ]
  },
  {
   "cell_type": "code",
   "execution_count": 5,
   "metadata": {},
   "outputs": [],
   "source": [
    "class Derivative:\n",
    "    def __init__(self, f, h, cffs):\n",
    "        self.args = []\n",
    "        self.f = f\n",
    "        self.h = h\n",
    "        self.coeffs = cffs\n",
    "\n",
    "    def SetCoeffs(self, cffs):\n",
    "        self.coeffs = cffs\n",
    "\n",
    "    def __call__(self, x):\n",
    "        if len(self.args) == 0:\n",
    "            raise NotImplementedError\n",
    "        f, h = self.f, self.h\n",
    "        coeffs = self.coeffs\n",
    "        args = self.args\n",
    "        result = 0\n",
    "        for coeff, arg in zip(coeffs, args):\n",
    "            result += coeff * f(x + h * arg)\n",
    "        return result / h"
   ]
  },
  {
   "cell_type": "code",
   "execution_count": 6,
   "metadata": {},
   "outputs": [],
   "source": [
    "xSym = sp.Symbol('x')\n",
    "\n",
    "functionsSym = [sp.tan(xSym)]\n",
    "functions = [sp.lambdify(xSym, f) for f in functionsSym]\n",
    "derivativesAnalyticalSym = [sp.diff(f, xSym) for f in functionsSym]\n",
    "derivativesAnalytical = [sp.lambdify(xSym, f) for f in derivativesAnalyticalSym]\n",
    "\n",
    "x0 = 1\n",
    "\n",
    "steps = [10 ** (-n) for n in range(0, 17)]"
   ]
  },
  {
   "cell_type": "code",
   "execution_count": 7,
   "metadata": {},
   "outputs": [],
   "source": [
    "def plot_derivative(num_div_class, style='', title=''):\n",
    "    for f, derivativeAnalytical in zip(functions, derivativesAnalytical):\n",
    "        errors = []\n",
    "        for h in steps:\n",
    "            derivative = num_div_class(f, h)\n",
    "            error = np.abs(derivative(x0) - derivativeAnalytical(x0))\n",
    "            errors.append(error)\n",
    "\n",
    "        plt.title(f'Convergence of numerical derivatives')\n",
    "        plt.xlabel('h')\n",
    "        plt.ylabel('Error')\n",
    "        plt.loglog(steps, errors, style, linewidth=1, markersize=7, label=title)\n",
    "        \n",
    "        index = np.argsort(errors)[0]\n",
    "        print(f'Minumun value of error achieved by {title} approach on {steps[index]} step:', min(errors))"
   ]
  },
  {
   "cell_type": "code",
   "execution_count": 8,
   "metadata": {},
   "outputs": [],
   "source": [
    "class DerivativeNum1(Derivative):\n",
    "    def __init__(self, f, h):\n",
    "        super().__init__(f, h, [1, -1])\n",
    "        self.args = [1, 0]"
   ]
  },
  {
   "cell_type": "markdown",
   "metadata": {},
   "source": [
    "* Repeat the exercise using the centered difference approximation\n",
    "\n",
    " $$f'(x)\\approx \\frac{f(x+h)-f(x-h)}{2h}.$$\n",
    "\n",
    " What is now different and why?"
   ]
  },
  {
   "cell_type": "markdown",
   "metadata": {},
   "source": [
    "#### 2.2"
   ]
  },
  {
   "cell_type": "code",
   "execution_count": 9,
   "metadata": {},
   "outputs": [],
   "source": [
    "class DerivativeNum2(Derivative):\n",
    "    def __init__(self, f, h):\n",
    "        super().__init__(f, h, [1 / 2, -1 / 2])\n",
    "        self.args = [1, -1]"
   ]
  },
  {
   "cell_type": "code",
   "execution_count": 10,
   "metadata": {},
   "outputs": [
    {
     "name": "stdout",
     "output_type": "stream",
     "text": [
      "Minumun value of error achieved by Finite Difference approach on 1e-08 step: 2.554135347665465e-08\n",
      "Minumun value of error achieved by Centered Difference approach on 1e-06 step: 6.2239102760486276e-12\n"
     ]
    },
    {
     "data": {
      "image/png": "[encoded data removed]",
      "text/plain": [
       "<Figure size 936x482.4 with 1 Axes>"
      ]
     },
     "metadata": {
      "needs_background": "light"
     },
     "output_type": "display_data"
    }
   ],
   "source": [
    "plt.figure(figsize=(13, 6.7))\n",
    "plot_derivative(DerivativeNum1, style='ro', title='Finite Difference')\n",
    "plot_derivative(DerivativeNum2, style='ko', title='Centered Difference')\n",
    "\n",
    "p1 = 2.554135347665465e-08\n",
    "plt.scatter(1e-08, p1, label='FD minimum', color='k', marker='x', s=200)\n",
    "\n",
    "p2 = 6.2239102760486276e-12\n",
    "plt.scatter(1e-06, p2, label='CD minimum', color='r', marker='x', s=200)\n",
    "\n",
    "plt.grid()\n",
    "plt.legend()\n",
    "plt.xlim(1e-17, 1e1)\n",
    "plt.ylim(1e-13, 1e3)\n",
    "plt.autoscale(False)\n",
    "plt.show()"
   ]
  },
  {
   "cell_type": "markdown",
   "metadata": {},
   "source": [
    "#### 2.1 Theory"
   ]
  },
  {
   "cell_type": "markdown",
   "metadata": {},
   "source": [
    "Let $|f(x+h)-\\tilde f(x+h)| = \\epsilon$\n",
    "\n",
    "\\begin{equation*}\n",
    "\\implies |f^{'}(x)-\\frac{\\tilde f(x+h)-\\tilde f(x)}{h}| = |f^{'}(x)-\\frac{f(x+h)+\\epsilon-f(x)+\\epsilon}{h}|\n",
    "\\tag{1}\n",
    "\\end{equation*}\n",
    "\n",
    "\\begin{equation*}\n",
    "f(x+h)\\approx f(x)+hf^{'}(x)+\\frac{h^{2}}{2}f{''}(x)\n",
    "\\tag{2}\n",
    "\\end{equation*}\n",
    "\n",
    "Substituing 2 in 1:\n",
    "\n",
    "$$\\implies |f^{'}(x)-\\frac{\\tilde f(x+h)-\\tilde f(x)}{h}| = |f^{'}(x)-\\frac{f(x)+hf^{'}(x)+\\frac{h^{2}}{2}f{''}(x)}{h}+\\frac{f(x)}{h}+\\frac{2\\epsilon}{h}| \\approx \\frac{h|f^{''}(x)|}{2}+\\frac{2\\epsilon}{h}$$\n",
    "\n",
    "$$\\implies \\frac{d}{dh}\\Big(\\frac{h|f^{''}(x)|}{2}+\\frac{2\\epsilon}{h}\\Big) = 0\\\\\n",
    "\\implies h_{opt}\\approx  2\\sqrt{\\frac{\\epsilon}{|f^{''}(x)|}}$$"
   ]
  },
  {
   "cell_type": "code",
   "execution_count": 11,
   "metadata": {},
   "outputs": [
    {
     "data": {
      "text/plain": [
       "1.1102230246251565e-16"
      ]
     },
     "execution_count": 11,
     "metadata": {},
     "output_type": "execute_result"
    }
   ],
   "source": [
    "eps = 1 - np.tan(np.pi / 4) # Rounding error\n",
    "eps"
   ]
  },
  {
   "cell_type": "code",
   "execution_count": 12,
   "metadata": {},
   "outputs": [
    {
     "name": "stdout",
     "output_type": "stream",
     "text": [
      "h_opt: 6.451426763204424e-09\n"
     ]
    }
   ],
   "source": [
    "drv1 = sp.diff(sp.tan(xSym), xSym) \n",
    "drv2 = sp.diff(drv1, xSym)\n",
    "\n",
    "drv2_val = sp.lambdify(xSym, drv2)(x0)\n",
    "\n",
    "h_opt = 2 * np.sqrt(eps/ abs(drv2_val))\n",
    "\n",
    "print('h_opt:', h_opt)"
   ]
  },
  {
   "cell_type": "markdown",
   "metadata": {},
   "source": [
    "#### 2.2 Theory"
   ]
  },
  {
   "cell_type": "markdown",
   "metadata": {},
   "source": [
    "Similarly for central difference method and using Taylor's expansion to the third term:\n",
    "\n",
    "$$|f^{'}(x)-\\frac{\\tilde f(x+h)-\\tilde f(x-h)}{h}| \\approx \\frac{h^2|f^{'''}(x)|}{6}+\\frac{2\\epsilon}{h}$$.\n",
    "\n",
    "$$h_{min} = \\Big(\\frac{6\\epsilon}{|f{'''}(x)|}\\Big)^\\frac{1}{3}$$."
   ]
  },
  {
   "cell_type": "code",
   "execution_count": 13,
   "metadata": {},
   "outputs": [
    {
     "name": "stdout",
     "output_type": "stream",
     "text": [
      "h_min: 2.273274156839064e-06\n"
     ]
    }
   ],
   "source": [
    "drv1 = sp.diff(sp.tan(xSym), xSym) \n",
    "drv2 = sp.diff(drv1, xSym)\n",
    "drv3 = sp.diff(drv2, xSym)\n",
    "\n",
    "drv3_val = sp.lambdify(xSym, drv3)(x0)\n",
    "\n",
    "h_min = np.power(6 * eps / abs(drv3_val), 1/3)\n",
    "\n",
    "print('h_min:', h_min)"
   ]
  },
  {
   "cell_type": "markdown",
   "metadata": {},
   "source": [
    "#### Conclusions"
   ]
  },
  {
   "cell_type": "code",
   "execution_count": 14,
   "metadata": {},
   "outputs": [
    {
     "name": "stdout",
     "output_type": "stream",
     "text": [
      "Finite Difference theoretical min condition: 6.451426763204424e-09\n",
      "Which is about actual 1e-08\n",
      "\n",
      "Centered Difference theoretical min condition: 2.273274156839064e-06\n",
      "Which is about actual 1e-06\n"
     ]
    }
   ],
   "source": [
    "print('Finite Difference theoretical min condition:', h_opt)\n",
    "print('Which is about actual', 1e-08)\n",
    "\n",
    "print('\\nCentered Difference theoretical min condition:', h_min)\n",
    "print('Which is about actual', 1e-06)"
   ]
  },
  {
   "cell_type": "markdown",
   "metadata": {
    "id": "OlohFH9bgZFG"
   },
   "source": [
    "### Problem 3 (2 points)\n",
    "* Implement regularized regression with an adaptive choice of regularization parameter. Your algorithm must accept the training data (`Xtrain`, `Ytrain`) and the input part of test data (`Xtest`), and output a prediction for test data (`Ypred`). You may use standard linear algebra libraries, but not specialized predictive modeling software (e.g., `scikit-learn`). Your algorithm should choose the regularization parameter by some optimization over a reasonable range of values and may use a sub-division of the training data into a train-in-train and a test-in-train components.\n",
    "* Test your algorithm on real data from UCI repository:\n",
    "  * https://archive.ics.uci.edu/ml/datasets/Relative+location+of+CT+slices+on+axial+axis\n",
    "  * https://archive.ics.uci.edu/ml/datasets/Physicochemical+Properties+of+Protein+Tertiary+Structure\n",
    "  \n",
    "  Use random subsets of 300 rows as training sets, and the remaining rows as the test sets. Use the relative RMS error as the measure of accuracy.\n",
    "  Compare your results with results of some linear models implemented in standard predictive modeling software    (e.g., `Ridge` and `LinearRegression` from `scikit-learn`)."
   ]
  },
  {
   "cell_type": "code",
   "execution_count": 15,
   "metadata": {},
   "outputs": [],
   "source": [
    "# # Install a conda package in the current Jupyter kernel\n",
    "# import sys\n",
    "# !conda install --yes --prefix {sys.prefix} sympy"
   ]
  },
  {
   "cell_type": "markdown",
   "metadata": {},
   "source": [
    "#### Reading data"
   ]
  },
  {
   "cell_type": "code",
   "execution_count": 16,
   "metadata": {},
   "outputs": [],
   "source": [
    "import pandas as pd"
   ]
  },
  {
   "cell_type": "code",
   "execution_count": 17,
   "metadata": {},
   "outputs": [
    {
     "data": {
      "text/html": [
       "<div>\n",
       "<style scoped>\n",
       "    .dataframe tbody tr th:only-of-type {\n",
       "        vertical-align: middle;\n",
       "    }\n",
       "\n",
       "    .dataframe tbody tr th {\n",
       "        vertical-align: top;\n",
       "    }\n",
       "\n",
       "    .dataframe thead th {\n",
       "        text-align: right;\n",
       "    }\n",
       "</style>\n",
       "<table border=\"1\" class=\"dataframe\">\n",
       "  <thead>\n",
       "    <tr style=\"text-align: right;\">\n",
       "      <th></th>\n",
       "      <th>patientId</th>\n",
       "      <th>value0</th>\n",
       "      <th>value1</th>\n",
       "      <th>value2</th>\n",
       "      <th>value3</th>\n",
       "      <th>value4</th>\n",
       "      <th>value5</th>\n",
       "      <th>value6</th>\n",
       "      <th>value7</th>\n",
       "      <th>value8</th>\n",
       "      <th>...</th>\n",
       "      <th>value375</th>\n",
       "      <th>value376</th>\n",
       "      <th>value377</th>\n",
       "      <th>value378</th>\n",
       "      <th>value379</th>\n",
       "      <th>value380</th>\n",
       "      <th>value381</th>\n",
       "      <th>value382</th>\n",
       "      <th>value383</th>\n",
       "      <th>reference</th>\n",
       "    </tr>\n",
       "  </thead>\n",
       "  <tbody>\n",
       "    <tr>\n",
       "      <th>0</th>\n",
       "      <td>0</td>\n",
       "      <td>0.0</td>\n",
       "      <td>0.0</td>\n",
       "      <td>0.0</td>\n",
       "      <td>0.0</td>\n",
       "      <td>0.0</td>\n",
       "      <td>0.0</td>\n",
       "      <td>-0.25</td>\n",
       "      <td>-0.25</td>\n",
       "      <td>-0.25</td>\n",
       "      <td>...</td>\n",
       "      <td>-0.25</td>\n",
       "      <td>0.980381</td>\n",
       "      <td>0.0</td>\n",
       "      <td>0.0</td>\n",
       "      <td>0.0</td>\n",
       "      <td>0.0</td>\n",
       "      <td>0.0</td>\n",
       "      <td>-0.25</td>\n",
       "      <td>-0.25</td>\n",
       "      <td>21.803851</td>\n",
       "    </tr>\n",
       "    <tr>\n",
       "      <th>1</th>\n",
       "      <td>0</td>\n",
       "      <td>0.0</td>\n",
       "      <td>0.0</td>\n",
       "      <td>0.0</td>\n",
       "      <td>0.0</td>\n",
       "      <td>0.0</td>\n",
       "      <td>0.0</td>\n",
       "      <td>-0.25</td>\n",
       "      <td>-0.25</td>\n",
       "      <td>-0.25</td>\n",
       "      <td>...</td>\n",
       "      <td>-0.25</td>\n",
       "      <td>0.977008</td>\n",
       "      <td>0.0</td>\n",
       "      <td>0.0</td>\n",
       "      <td>0.0</td>\n",
       "      <td>0.0</td>\n",
       "      <td>0.0</td>\n",
       "      <td>-0.25</td>\n",
       "      <td>-0.25</td>\n",
       "      <td>21.745726</td>\n",
       "    </tr>\n",
       "    <tr>\n",
       "      <th>2</th>\n",
       "      <td>0</td>\n",
       "      <td>0.0</td>\n",
       "      <td>0.0</td>\n",
       "      <td>0.0</td>\n",
       "      <td>0.0</td>\n",
       "      <td>0.0</td>\n",
       "      <td>0.0</td>\n",
       "      <td>-0.25</td>\n",
       "      <td>-0.25</td>\n",
       "      <td>-0.25</td>\n",
       "      <td>...</td>\n",
       "      <td>-0.25</td>\n",
       "      <td>0.977008</td>\n",
       "      <td>0.0</td>\n",
       "      <td>0.0</td>\n",
       "      <td>0.0</td>\n",
       "      <td>0.0</td>\n",
       "      <td>0.0</td>\n",
       "      <td>-0.25</td>\n",
       "      <td>-0.25</td>\n",
       "      <td>21.687600</td>\n",
       "    </tr>\n",
       "    <tr>\n",
       "      <th>3</th>\n",
       "      <td>0</td>\n",
       "      <td>0.0</td>\n",
       "      <td>0.0</td>\n",
       "      <td>0.0</td>\n",
       "      <td>0.0</td>\n",
       "      <td>0.0</td>\n",
       "      <td>0.0</td>\n",
       "      <td>-0.25</td>\n",
       "      <td>-0.25</td>\n",
       "      <td>-0.25</td>\n",
       "      <td>...</td>\n",
       "      <td>-0.25</td>\n",
       "      <td>0.977008</td>\n",
       "      <td>0.0</td>\n",
       "      <td>0.0</td>\n",
       "      <td>0.0</td>\n",
       "      <td>0.0</td>\n",
       "      <td>0.0</td>\n",
       "      <td>-0.25</td>\n",
       "      <td>-0.25</td>\n",
       "      <td>21.629474</td>\n",
       "    </tr>\n",
       "    <tr>\n",
       "      <th>4</th>\n",
       "      <td>0</td>\n",
       "      <td>0.0</td>\n",
       "      <td>0.0</td>\n",
       "      <td>0.0</td>\n",
       "      <td>0.0</td>\n",
       "      <td>0.0</td>\n",
       "      <td>0.0</td>\n",
       "      <td>-0.25</td>\n",
       "      <td>-0.25</td>\n",
       "      <td>-0.25</td>\n",
       "      <td>...</td>\n",
       "      <td>-0.25</td>\n",
       "      <td>0.976833</td>\n",
       "      <td>0.0</td>\n",
       "      <td>0.0</td>\n",
       "      <td>0.0</td>\n",
       "      <td>0.0</td>\n",
       "      <td>0.0</td>\n",
       "      <td>-0.25</td>\n",
       "      <td>-0.25</td>\n",
       "      <td>21.571348</td>\n",
       "    </tr>\n",
       "  </tbody>\n",
       "</table>\n",
       "<p>5 rows × 386 columns</p>\n",
       "</div>"
      ],
      "text/plain": [
       "   patientId  value0  value1  value2  value3  value4  value5  value6  value7  \\\n",
       "0          0     0.0     0.0     0.0     0.0     0.0     0.0   -0.25   -0.25   \n",
       "1          0     0.0     0.0     0.0     0.0     0.0     0.0   -0.25   -0.25   \n",
       "2          0     0.0     0.0     0.0     0.0     0.0     0.0   -0.25   -0.25   \n",
       "3          0     0.0     0.0     0.0     0.0     0.0     0.0   -0.25   -0.25   \n",
       "4          0     0.0     0.0     0.0     0.0     0.0     0.0   -0.25   -0.25   \n",
       "\n",
       "   value8  ...  value375  value376  value377  value378  value379  value380  \\\n",
       "0   -0.25  ...     -0.25  0.980381       0.0       0.0       0.0       0.0   \n",
       "1   -0.25  ...     -0.25  0.977008       0.0       0.0       0.0       0.0   \n",
       "2   -0.25  ...     -0.25  0.977008       0.0       0.0       0.0       0.0   \n",
       "3   -0.25  ...     -0.25  0.977008       0.0       0.0       0.0       0.0   \n",
       "4   -0.25  ...     -0.25  0.976833       0.0       0.0       0.0       0.0   \n",
       "\n",
       "   value381  value382  value383  reference  \n",
       "0       0.0     -0.25     -0.25  21.803851  \n",
       "1       0.0     -0.25     -0.25  21.745726  \n",
       "2       0.0     -0.25     -0.25  21.687600  \n",
       "3       0.0     -0.25     -0.25  21.629474  \n",
       "4       0.0     -0.25     -0.25  21.571348  \n",
       "\n",
       "[5 rows x 386 columns]"
      ]
     },
     "execution_count": 17,
     "metadata": {},
     "output_type": "execute_result"
    }
   ],
   "source": [
    "data = pd.read_csv('slice_localization_data.csv')\n",
    "data.head(5)"
   ]
  },
  {
   "cell_type": "markdown",
   "metadata": {},
   "source": [
    "#### Implementing train_test_split approach"
   ]
  },
  {
   "cell_type": "code",
   "execution_count": 18,
   "metadata": {},
   "outputs": [],
   "source": [
    "def get_train_test_split(dataset=None, train_size=None):\n",
    "    if dataset is None or train_size is None:\n",
    "        raise Exception('Wrong number of arguments')\n",
    "    \n",
    "    A = dataset.iloc[:, :-1]\n",
    "    A.drop(columns='patientId', inplace=True)\n",
    "    b = dataset.iloc[:,-1:]\n",
    "        \n",
    "    ind = np.random.permutation(dataset.shape[0])\n",
    "    \n",
    "    train = ind[:train_size]\n",
    "    test = ind[train_size:]\n",
    "    \n",
    "    return A.iloc[train], b.iloc[train], A.iloc[test], b.iloc[test]"
   ]
  },
  {
   "cell_type": "code",
   "execution_count": 19,
   "metadata": {},
   "outputs": [
    {
     "name": "stdout",
     "output_type": "stream",
     "text": [
      "X_train: (300, 384)\n",
      "y_train: (300, 1)\n",
      "X_test: (53200, 384)\n",
      "y_test: (53200, 1)\n"
     ]
    }
   ],
   "source": [
    "X_train, y_train, X_test, y_test = get_train_test_split(data, train_size=300)\n",
    "\n",
    "print('X_train:', X_train.shape)\n",
    "print('y_train:', y_train.shape)\n",
    "print('X_test:', X_test.shape)\n",
    "print('y_test:', y_test.shape)"
   ]
  },
  {
   "cell_type": "markdown",
   "metadata": {},
   "source": [
    "#### Implementing linear regression model"
   ]
  },
  {
   "cell_type": "code",
   "execution_count": 20,
   "metadata": {},
   "outputs": [],
   "source": [
    "def get_score(y_model, y_real):\n",
    "    diff = y_model - y_real\n",
    "    diff1 = y_real - np.mean(y_real)\n",
    "    return np.sqrt(np.mean(diff**2)) / np.sqrt(np.mean(diff1**2)) "
   ]
  },
  {
   "cell_type": "code",
   "execution_count": 21,
   "metadata": {},
   "outputs": [],
   "source": [
    "class MyLinearRegression:\n",
    "    def __init__(self):\n",
    "        self.reg_params_ = np.linspace(0.1, 100, 100)\n",
    "        self.best_param_ = {'mu': None}\n",
    "        self.min_loss_ = None\n",
    "        self.weights_ = None\n",
    "        self.K = 5\n",
    "        self.losses = []\n",
    "    \n",
    "    def get_cross_val_folds(self, X, y, k=None):\n",
    "        if k == None:\n",
    "            raise Exception\n",
    "            \n",
    "        return np.array_split(X, k), np.array_split(y, k)\n",
    "    \n",
    "    def extract_train_folds(self, folds_list, test_id):\n",
    "        res = []\n",
    "        for index, fold in enumerate(folds_list):\n",
    "            if index != test_id:\n",
    "                res.append(fold)\n",
    "                \n",
    "        return np.array(res).reshape(-1, len(folds_list[0][0]))\n",
    "    \n",
    "    def fit(self, X, y):\n",
    "        x_folds, y_folds = self.get_cross_val_folds(X, y, k=self.K)\n",
    "        \n",
    "        for p in self.reg_params_:\n",
    "            score = 0\n",
    "            \n",
    "            for test_fold_id in range(self.K):\n",
    "                \n",
    "                X_train = self.extract_train_folds(x_folds, test_fold_id)\n",
    "                y_train = self.extract_train_folds(y_folds, test_fold_id)\n",
    "                X_test = x_folds[test_fold_id]\n",
    "                y_test = y_folds[test_fold_id]\n",
    "                \n",
    "                tmp = np.linalg.inv(np.dot(X_train.T, X_train) + p * np.eye(X_train.shape[1]))\n",
    "                w = np.dot(np.dot(tmp, X_train.T), y_train)\n",
    "                \n",
    "                score += get_score(np.dot(X_test, w), y_test)\n",
    "            \n",
    "            score /= self.K\n",
    "            self.losses.append(score)\n",
    "            self.min_loss_ = score if self.min_loss_ is None else min(self.min_loss_, score)\n",
    "            self.weights_ = w if self.min_loss_ == score else self.weights_\n",
    "            self.best_param_['mu'] = p if self.min_loss_ == score else self.best_param_['mu']\n",
    "        \n",
    "    def predict(self, X):\n",
    "        return np.dot(X, self.weights_)"
   ]
  },
  {
   "cell_type": "code",
   "execution_count": 22,
   "metadata": {},
   "outputs": [],
   "source": [
    "from sklearn.linear_model import LinearRegression, Ridge"
   ]
  },
  {
   "cell_type": "code",
   "execution_count": 23,
   "metadata": {},
   "outputs": [
    {
     "name": "stdout",
     "output_type": "stream",
     "text": [
      "Custom regression error: 0.4919453746389978\n",
      "Linear Regression error: 1.386092978581231\n",
      "Ridge regression error: 0.5661053963849755\n"
     ]
    }
   ],
   "source": [
    "my_lin_reg = MyLinearRegression()\n",
    "\n",
    "my_lin_reg.fit(X_train.values, y_train.values)\n",
    "y_pred = my_lin_reg.predict(X_test.values)\n",
    "print('Custom regression error:', *get_score(y_pred, y_test))\n",
    "\n",
    "lin_reg = LinearRegression()\n",
    "ridge_reg = Ridge()\n",
    "\n",
    "lin_reg.fit(X_train.values, y_train.values)\n",
    "y_pred = lin_reg.predict(X_test.values)\n",
    "print('Linear Regression error:', *get_score(y_pred, y_test))\n",
    "\n",
    "ridge_reg.fit(X_train.values, y_train.values)\n",
    "y_pred = ridge_reg.predict(X_test.values)\n",
    "print('Ridge regression error:', *get_score(y_pred, y_test))"
   ]
  },
  {
   "cell_type": "code",
   "execution_count": 24,
   "metadata": {},
   "outputs": [],
   "source": [
    "import matplotlib.pyplot as plt"
   ]
  },
  {
   "cell_type": "code",
   "execution_count": 25,
   "metadata": {},
   "outputs": [
    {
     "data": {
      "image/png": "[encoded data removed]",
      "text/plain": [
       "<Figure size 432x288 with 1 Axes>"
      ]
     },
     "metadata": {
      "needs_background": "light"
     },
     "output_type": "display_data"
    }
   ],
   "source": [
    "plt.plot(my_lin_reg.reg_params_, my_lin_reg.losses)\n",
    "plt.title('Loss(mu)')\n",
    "plt.xlabel('mu')\n",
    "\n",
    "plt.vlines(my_lin_reg.best_param_['mu'], ymin=0.4, ymax=1, color='k', linestyles='dashed')\n",
    "\n",
    "plt.scatter(my_lin_reg.best_param_['mu'], my_lin_reg.min_loss_, label='Found point', color='r')\n",
    "\n",
    "plt.xlim(-2, 100)\n",
    "plt.ylim(0.4, 1.0)\n",
    "plt.autoscale(False)\n",
    "plt.legend()\n",
    "plt.show()"
   ]
  },
  {
   "cell_type": "code",
   "execution_count": 26,
   "metadata": {},
   "outputs": [
    {
     "data": {
      "text/plain": [
       "{'mu': 9.181818181818182}"
      ]
     },
     "execution_count": 26,
     "metadata": {},
     "output_type": "execute_result"
    }
   ],
   "source": [
    "my_lin_reg.best_param_"
   ]
  },
  {
   "cell_type": "markdown",
   "metadata": {},
   "source": [
    "#### Applying GridSearch for Ridge regression"
   ]
  },
  {
   "cell_type": "code",
   "execution_count": 27,
   "metadata": {},
   "outputs": [],
   "source": [
    "from sklearn.model_selection import GridSearchCV"
   ]
  },
  {
   "cell_type": "code",
   "execution_count": 28,
   "metadata": {},
   "outputs": [
    {
     "name": "stdout",
     "output_type": "stream",
     "text": [
      "GS Ridge regression error: 0.46847355854809125\n"
     ]
    }
   ],
   "source": [
    "ridge_params = {'alpha': np.logspace(-6, 3)}\n",
    "\n",
    "ridge_gs = GridSearchCV(Ridge(), ridge_params)\n",
    "ridge_gs.fit(X_train.values, y_train.values)\n",
    "\n",
    "y_pred = ridge_gs.predict(X_test.values)\n",
    "print('GS Ridge regression error:', *get_score(y_pred, y_test))"
   ]
  },
  {
   "cell_type": "code",
   "execution_count": 29,
   "metadata": {},
   "outputs": [
    {
     "data": {
      "text/plain": [
       "{'alpha': 14.563484775012444}"
      ]
     },
     "execution_count": 29,
     "metadata": {},
     "output_type": "execute_result"
    }
   ],
   "source": [
    "ridge_gs.best_params_"
   ]
  },
  {
   "cell_type": "markdown",
   "metadata": {
    "id": "3l6EgKSAgZFI"
   },
   "source": [
    "### Problem 4 (2 points)\n",
    "Suppose that we use the Leapfrog algorithm with some $\\Delta t$ to simulate the dynamics of the harmonic oscillator (https://en.wikipedia.org/wiki/Harmonic_oscillator) with positive mass $m$ and force constant $k$ (in other words, with the energy function $H=\\frac{m\\dot x^2}{2}+\\frac{kx^2}{2}$). Assuming a perfect implementation of Leapfrog, at which combinations of $\\Delta t, m, k$ will the simulation diverge as $n\\to\\infty$, in the sense that $\\sup_n(\\tilde x_n^2+\\tilde v_{n+1/2}^2)=\\infty$?"
   ]
  },
  {
   "cell_type": "markdown",
   "metadata": {},
   "source": [
    "Leapfrog input system of quations:\n",
    "\n",
    "$\\tilde x_{n+1} = \\tilde x_{n}+\\tilde v_{n+1/2}\\Delta t$\n",
    "$\\tilde v_{n+1/2} = \\tilde v_{n-1/2}+f_1(\\tilde x_n)\\Delta t$\n",
    "\n",
    "Let $f(x_n) = -\\frac{k}{m} x_n$\n",
    "\n",
    "Thus,\n",
    "\n",
    "$\\begin{pmatrix} x_{n+1}\\\\ v_{n+\\frac{1}{2}}\\end{pmatrix} = \\begin{pmatrix} 1 - \\frac{k}{m}\\Delta t^2 & \\Delta t\\\\ -\\frac{k}{m}\\Delta t & 1\\end{pmatrix} \\begin{pmatrix} x_{n+1} \\\\ u_{n+1/2}\\end{pmatrix}$\n",
    "\n",
    "The solution represents as:\n",
    "\n",
    "$\\begin{pmatrix} x_{n+1} \\\\ v_{n+1/2} \\end{pmatrix} = \\lambda_1^n \\vec{u}_1 + \\lambda_2^n \\vec{u}_2$\n",
    "\n",
    "$\\lambda_{1,2} = \\frac{2-\\frac{k\\Delta t^2}{m} \\pm \\sqrt{\\frac{k^2\\Delta t^4}{m^2} - \\frac{4k\\Delta t^2}{m}}}{2}$\n",
    "\n",
    "$\\frac{k\\Delta t^2}{m} < 4 \\Rightarrow \\lambda < -1 \\Rightarrow \\sup_{n} \\lambda^n \\to \\infty \\Rightarrow$ system does not converge\n",
    "\n",
    "Thus, we found the disconvergence condition"
   ]
  },
  {
   "cell_type": "markdown",
   "metadata": {
    "id": "0JlnITqYgZFJ"
   },
   "source": [
    "### Problem 5 (2 points)\n",
    "Consider the velocity Verlet method for solving the equation $\\frac{d}{dt}{x\\choose v}={v\\choose f_1(x)}$: \n",
    "\n",
    "\\begin{align}\n",
    "\\tilde v_{n+1/2} &= \\tilde v_{n}+\\frac{1}{2}f_1(\\tilde x_n)\\Delta t\\\\\n",
    "\\tilde x_{n+1} &= \\tilde x_{n}+\\tilde v_{n+1/2}\\Delta t\\\\\n",
    "\\tilde v_{n+1} &= \\tilde v_{n+1/2}+\\frac{1}{2}f_1(\\tilde x_{n+1})\\Delta t\n",
    "\\end{align}\n",
    "Find its global convergence order and verify it experimentally."
   ]
  }
 ],
 "metadata": {
  "colab": {
   "collapsed_sections": [],
   "name": "SciComp2021_HW2.ipynb",
   "provenance": []
  },
  "kernelspec": {
   "display_name": "firstEnv",
   "language": "python",
   "name": "firstenv"
  },
  "language_info": {
   "codemirror_mode": {
    "name": "ipython",
    "version": 3
   },
   "file_extension": ".py",
   "mimetype": "text/x-python",
   "name": "python",
   "nbconvert_exporter": "python",
   "pygments_lexer": "ipython3",
   "version": "3.8.8"
  }
 },
 "nbformat": 4,
 "nbformat_minor": 1
}
