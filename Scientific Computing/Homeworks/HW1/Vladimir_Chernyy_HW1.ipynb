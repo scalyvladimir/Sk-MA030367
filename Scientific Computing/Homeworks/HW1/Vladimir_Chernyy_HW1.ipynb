{
 "cells": [
  {
   "cell_type": "markdown",
   "metadata": {
    "id": "O5DIRljFBbll"
   },
   "source": [
    "## Scientific Computing 2021: Homework Assignment 1 \n",
    "Due Monday October 11, 2021, 23:59\n",
    "\n",
    "### Problem 1 (2 points)\n",
    "Under assumptions of Amdahl's law, suppose that 75% of a program are perfectly parallelizable, and the rest is not parallelizable. \n",
    "1. What is the maximum speedup achievable by parallelization? \n",
    "2. Suppose that we have obtained speedup 2 (by using a suitable number of processes). What is the efficiency of this parallelization? "
   ]
  },
  {
   "cell_type": "markdown",
   "metadata": {},
   "source": [
    "1.\n",
    "$$ \n",
    "\\text{Speedup} = \\frac{1}{S + \\frac{1}{N}(1 - S)} = \\vert S = 1 - 0.75 = 0.25 \\vert = \\frac{1}{0.25 + \\frac{1}{N}(1 - 0.25)} = \\frac{1}{0.25 + \\frac{0.75}{N}} = \\frac{4}{1 + \\frac{3}{N}} \\\\\n",
    "\\text{Speedup} \\rightarrow \\max \\iff \\frac{3}{N} \\rightarrow 0 \\\\\n",
    "\\Rightarrow \\text{Speedup}_{max} = 4\n",
    "$$\n",
    "\n",
    "2.\n",
    "$$\n",
    "\\text{Speedup} = \\frac{T(1)}{T(N)} = 2 \\\\\n",
    "\\text{Efficiency} = \\frac{T(1)}{N \\cdot T(N)} = \\frac{\\text{Speedup}}{N} = \\frac{2}{N}\n",
    "$$"
   ]
  },
  {
   "cell_type": "markdown",
   "metadata": {},
   "source": [
    "### Problem 2 (2 points)\n",
    "Write a Python or C/C++ program that uses **MPI reduce** to find the largest file in terms of the  number of lines among all .txt files in the working directory (only .txt files should be examined). The program must be callable in the form `mpirun -np <N> python linecount.py` (in the case of the Python version) or `mpirun -np <N> linecount.exe` (the C/C++ version), where `<N>` is the user-defined number of processes. The program is expected to first somehow distribute the files found in the current directory to the processes, then each process should count the lines in the files assigned to it, and finally the result should be MPI-reduced and printed out. The program only needs to output the number of lines in the largest file; no need to output the name of this file. The program must work correctly even if the number of files is not divisible by the number of processes.\n"
   ]
  },
  {
   "cell_type": "code",
   "execution_count": null,
   "metadata": {},
   "outputs": [],
   "source": [
    "from mpi4py import MPI\n",
    "from os import listdir\n",
    "from os.path import isfile, join\n",
    "\n",
    "my_path = 'C:\\\\Users\\\\ghost\\\\Desktop\\\\test'\n",
    "\n",
    "comm = MPI.COMM_WORLD\n",
    "rank = comm.Get_rank()\n",
    "size = comm.Get_size()\n",
    "\n",
    "files_list = [f for f in listdir(my_path) \\\n",
    "              if isfile(join(my_path, f)) \\\n",
    "              and f.endswith('.txt')]\n",
    "\n",
    "id = rank - 1 if size > 1 else 0\n",
    "local_max = 0\n",
    "\n",
    "while 0 <= id < len(files_list):\n",
    "    file_name = f'{my_path}\\\\{files_list[id]}'\n",
    "\n",
    "    num_lines = sum(1 for line in open(file_name))\n",
    "\n",
    "    local_max = max(num_lines, local_max)\n",
    "    id += size\n",
    "\n",
    "global_max = comm.reduce(local_max, op=MPI.MAX, root=0)\n",
    "\n",
    "if rank == 0:\n",
    "    print(f'The biggest text file has {global_max} lines')"
   ]
  },
  {
   "cell_type": "code",
   "execution_count": null,
   "metadata": {},
   "outputs": [],
   "source": [
    "!mpiexec -np 2 python mpi.py "
   ]
  },
  {
   "cell_type": "markdown",
   "metadata": {},
   "source": [
    "### Problem 3 (2 points)\n",
    "Solve the Distinct Substrings problem at Sphere online judge: http://www.spoj.com/problems/DISUBSTR/. Provide code passing the test of the judge. Explain how your code works and theoretically estimate the complexity of the algorithm (as $O(f(N))$, where $f(N)$ is some function of the length of the input string). \n"
   ]
  },
  {
   "cell_type": "markdown",
   "metadata": {},
   "source": [
    "#### Python approach"
   ]
  },
  {
   "cell_type": "code",
   "execution_count": 6,
   "metadata": {},
   "outputs": [],
   "source": [
    "import numpy as np"
   ]
  },
  {
   "cell_type": "code",
   "execution_count": 7,
   "metadata": {},
   "outputs": [],
   "source": [
    "def invPerm(p):\n",
    "    '''Invert the permutation p'''\n",
    "    s = np.empty(p.size, p.dtype)\n",
    "    s[p] = np.arange(p.size)\n",
    "    return s"
   ]
  },
  {
   "cell_type": "code",
   "execution_count": 8,
   "metadata": {},
   "outputs": [],
   "source": [
    "def getSA(A):\n",
    "    if not type(A) is np.ndarray:\n",
    "        A = np.array(list(A))\n",
    "    N = len(A) \n",
    "    M = int(np.ceil(np.log2(N))) + 1   # number of iterations\n",
    "    \n",
    "    # auxiliary arrays; row m stores results after m'th step:\n",
    "    \n",
    "    # positions of sorted length-(2**m) sequences in A\n",
    "    P = np.zeros((M,N), dtype=int) \n",
    "    \n",
    "    # rank (0, 1, etc.) of sorted length-(2**m) sequences after sorting\n",
    "    Q = np.zeros((M,N), dtype=int)     \n",
    "    \n",
    "    # rank of sorted length-(2**m) sequences at its starting position in A;\n",
    "    # padded by 0 on the right\n",
    "    R = np.zeros((M,3*N), dtype=int) \n",
    "\n",
    "    for k in range(M):\n",
    "        if k == 0:\n",
    "            P[0] = np.argsort(A)\n",
    "            Q[0][1:] = np.cumsum(A[P[0]][1:] != A[P[0]][:-1])\n",
    "            R[0][:N] = Q[0][invPerm(P[0])]\n",
    "        else:\n",
    "            offset = 2**(k-1)\n",
    "            r = np.lexsort((R[k-1, P[k-1]+offset], R[k-1, P[k-1]]))\n",
    "            P[k] = P[k-1][r]\n",
    "            # k'th rank increases iff (k-1)'th rank increases at least for one element of the pair    \n",
    "            Q[k][1:] = np.cumsum(np.logical_or(R[k-1][P[k]][1:] != R[k-1][P[k]][:-1], \n",
    "                                          R[k-1][P[k]+offset][1:] != R[k-1][P[k]+offset][:-1]))\n",
    "            R[k][:N] = Q[k][invPerm(P[k])]\n",
    "            \n",
    "            # early stopping if suffixes already fully sorted (max rank is N-1)\n",
    "            if Q[k][-1] == N-1: \n",
    "                break\n",
    "    \n",
    "    SA = P[k]\n",
    "    return SA, P[:k+1], Q[:k+1], R[:k+1]        "
   ]
  },
  {
   "cell_type": "code",
   "execution_count": 9,
   "metadata": {},
   "outputs": [],
   "source": [
    "def getLCP(SA, R):\n",
    "    (M, N) = R.shape\n",
    "    LCP = np.zeros((len(SA)-1,),dtype=int)\n",
    "    for m in range(M-1)[::-1]:\n",
    "        t = (R[m][SA[1:]+LCP] == R[m][SA[:-1]+LCP]).astype(int)\n",
    "        LCP += (2**m)*t\n",
    "    return LCP"
   ]
  },
  {
   "cell_type": "code",
   "execution_count": 12,
   "metadata": {},
   "outputs": [
    {
     "name": "stdout",
     "output_type": "stream",
     "text": [
      "2\n",
      "CCCCC\n",
      "15.0 10\n",
      "Unique substrings num:  5\n"
     ]
    }
   ],
   "source": [
    "size = int(input())\n",
    "for _ in range(size):\n",
    "    A = input() + '$'\n",
    "    SA, _, _, R = getSA(A)\n",
    "    LCP = getLCP(SA, R)\n",
    "\n",
    "    arythm_sum = (1 + len(A) - 1) / 2 * (len(A) - 1)\n",
    "\n",
    "    print(int(arythm_sum - sum(LCP)))"
   ]
  },
  {
   "cell_type": "markdown",
   "metadata": {},
   "source": [
    "#### C++ Approach"
   ]
  },
  {
   "cell_type": "code",
   "execution_count": null,
   "metadata": {},
   "outputs": [],
   "source": [
    "#include <iostream>\n",
    "#include <string>\n",
    "#include <vector>\n",
    "#include <algorithm>\n",
    "\n",
    "using namespace std;\n",
    "\n",
    "size_t get_ans(const string &line);\n",
    "\n",
    "int main() {\n",
    "    ios_base::sync_with_stdio(false);\n",
    "    cin.tie(nullptr);\n",
    "    cout.tie(nullptr);\n",
    "    size_t cnt;\n",
    "    cin >> cnt;\n",
    "    for (size_t i = 0; i < cnt; ++i) {\n",
    "        string line;\n",
    "        cin >> line;\n",
    "        cout << get_ans(line) << endl;\n",
    "    }\n",
    "    return 0;\n",
    "}\n",
    "\n",
    "vector<int> get_prefix_func(const string &line) {\n",
    "    vector<int> pi(line.size(), 0);\n",
    "    for (size_t i = 1; i < pi.size(); ++i) {\n",
    "        auto k = pi[i - 1];\n",
    "        while (k > 0 && line[i] != line[k]) {\n",
    "            k = pi[k - 1];\n",
    "        }\n",
    "        if (line[i] == line[k]) {\n",
    "            pi[i] = k + 1;\n",
    "        }\n",
    "    }\n",
    "    return pi;\n",
    "}\n",
    "\n",
    "size_t get_ans(const string &line) {\n",
    "    size_t counter = 0;\n",
    "    string temp = string(\"\");\n",
    "    for (const auto &c: line) {\n",
    "        temp += c;\n",
    "        auto rev_temp = temp;\n",
    "        reverse(rev_temp.begin(), rev_temp.end());\n",
    "        auto pi = get_prefix_func(rev_temp);\n",
    "        counter += temp.size() - *max_element(pi.begin(), pi.end());\n",
    "        cout << temp << endl;\n",
    "    }\n",
    "    return counter;\n",
    "}"
   ]
  },
  {
   "cell_type": "markdown",
   "metadata": {},
   "source": [
    "### Problem 4 (2 points)\n",
    "Suppose that we want to distribute $N$ personal projects to $N$ students. Assume that each student $(k)_{k=0}^{N-1}$ has a list of his/her preferences for the projects, expressed as a vector $\\mathbf r_k$ of integer ranks assigned to each project. Ranks vary between 0 and $N-1$ without repetitions, the **lower** the rank the **more preferable** the project. (For example, the first student's ranks are $\\mathbf r_0 = [2,1,0]$, the second's $\\mathbf r_1 = [0,2,1]$ and the third $\\mathbf r_2 = [0,1,2]$). We want to distribute the projects so as to maximize the total preference, i.e., if $n_k$ denotes the project assigned to the $k$'th student, we want to make $f = \\sum_{k=0}^{N-1} \\mathbf r_k[n_k]$ as small as possible. (In the example above the optimal distribution is $n_0=2, n_1=0, n_2=1$, which gives $f=1$).  \n",
    "  * Come up with an algorithm optimizing the distribution and implement it in a Python or C/C++ program. The algorithm should accept the preference vectors and output a recommended distribution $(n_k)_{k=1}^N$. The algorithm need not find the best solution, but is expected to generally produce better solutions than would have been obtained by randomly distributing the projects. The algorithm should be reasonably fast, say run in not more than a few seconds for $N=30$. \n",
    "  * Compare experimentally your algorithm with the trivial algorithm producing a random distribution. To this end, perform $M=1000$ experiments in each of which 1) random preference vectors for $N=30$ students and projects are generated; 2) the objective function $f$ is evaluated for both algorithms. After finishing all the experiments, plot the two respective distributions of the obtained $M$ values of $f$ and compute the mean values of $f$ for both algorithms. "
   ]
  },
  {
   "cell_type": "code",
   "execution_count": 3,
   "metadata": {},
   "outputs": [],
   "source": [
    "def get_algo_dstr(students, N):    \n",
    "    students_copy = dict(students)\n",
    "\n",
    "    pty_to_project = dict([(x, []) for x in range(N)])\n",
    "    proj_dstr = dict([(x, None) for x in range(N)])\n",
    "    \n",
    "    for stud in students:\n",
    "        for id, pty in enumerate(students[stud]):\n",
    "            pty_to_project[pty].append(id)\n",
    "\n",
    "    for pty_id in pty_to_project.keys():\n",
    "\n",
    "        for s_id, pos in enumerate(pty_to_project[pty_id]):\n",
    "            proj_id = pty_to_project[pty_id][s_id]\n",
    "\n",
    "            if proj_dstr[proj_id] is None and s_id in students.keys():\n",
    "                proj_dstr[proj_id] = s_id\n",
    "                del students[s_id]\n",
    "\n",
    "    rev_dict = dict([(x, None) for x in range(N)])\n",
    "\n",
    "    for k, v in proj_dstr.items():\n",
    "        rev_dict[v] = k\n",
    "\n",
    "    return rev_dict"
   ]
  },
  {
   "cell_type": "code",
   "execution_count": 4,
   "metadata": {},
   "outputs": [],
   "source": [
    "def get_f(students, proj_dstr):\n",
    "    f = 0\n",
    "\n",
    "    for s, p in zip(students, proj_dstr.values()): \n",
    "        f += students[s][p] * p\n",
    "        \n",
    "    return f"
   ]
  },
  {
   "cell_type": "code",
   "execution_count": 5,
   "metadata": {},
   "outputs": [],
   "source": [
    "import numpy as np"
   ]
  },
  {
   "cell_type": "code",
   "execution_count": 6,
   "metadata": {},
   "outputs": [
    {
     "name": "stdout",
     "output_type": "stream",
     "text": [
      "algo: 828.58\n",
      "random: 6416.55\n"
     ]
    }
   ],
   "source": [
    "N = 30\n",
    "M = 1000\n",
    "\n",
    "rand_list = []\n",
    "algo_list = []\n",
    "\n",
    "for _ in range(100): \n",
    "    input = dict([(x, None) for x in range(N)])\n",
    "    \n",
    "    for i in input.keys():\n",
    "        input[i] = np.random.permutation(N)\n",
    "\n",
    "    rand_dstr = dict([(x, None) for x in range(N)])\n",
    "    for id, val in zip(rand_dstr.keys(), np.random.permutation(N)):\n",
    "        rand_dstr[id] = val\n",
    "\n",
    "    algo_dstr = get_algo_dstr(dict(input), N)    \n",
    "\n",
    "    algo_list.append(get_f(input, algo_dstr))\n",
    "    rand_list.append(get_f(input, rand_dstr))\n",
    "\n",
    "\n",
    "print('algo: {}\\nrandom: {}'.format(np.mean(algo_list), np.mean(rand_list)))\n",
    "# print(algo_list, rand_list, sep='\\n')"
   ]
  },
  {
   "cell_type": "code",
   "execution_count": 7,
   "metadata": {},
   "outputs": [],
   "source": [
    "import matplotlib.pyplot as plt"
   ]
  },
  {
   "cell_type": "code",
   "execution_count": 8,
   "metadata": {},
   "outputs": [
    {
     "data": {
      "image/png": "[encoded data removed]",
      "text/plain": [
       "<Figure size 986.4x720 with 1 Axes>"
      ]
     },
     "metadata": {
      "needs_background": "light"
     },
     "output_type": "display_data"
    }
   ],
   "source": [
    "plot_dict = {\"Algorithm vals\": algo_list, \"Random vals\": rand_list}\n",
    "\n",
    "fig, ax = plt.subplots(figsize=(13.7, 10))\n",
    "\n",
    "fig.figsize = (13.7, 10)\n",
    "\n",
    "bplot = ax.boxplot(plot_dict.values(), showmeans=True, widths = 0.6, notch=True, patch_artist=True)\n",
    "ax.set_xticklabels(plot_dict.keys())\n",
    "ax.yaxis.grid(True)"
   ]
  },
  {
   "cell_type": "markdown",
   "metadata": {},
   "source": [
    "### Problem 5 (2 points)\n",
    "Suppose that we have developed an algorithm that is supposed to generate independent (quasi-)random numbers uniformly distributed in the interval $[0,1]$. To test our algorithm, we perform a series of experiments. In each experiment, we generate $N=10^3$ numbers $(x_n)_{n=1}^N$ with our algorithm, and compute the minimum distance $r=\\min_{1 \\le n < m\\le N}|x_n-x_m|$ between them. We observe that in more than 99% of such experiments we obtain $r < 10^{-5}$. Does this observation contradict the hypothesis of generating independent uniformly distributed random numbers? Explain your answer."
   ]
  },
  {
   "cell_type": "code",
   "execution_count": null,
   "metadata": {},
   "outputs": [],
   "source": []
  }
 ],
 "metadata": {
  "colab": {
   "name": "SciComp2021_HW1.ipynb",
   "provenance": []
  },
  "kernelspec": {
   "display_name": "Python 3 (ipykernel)",
   "language": "python",
   "name": "python3"
  },
  "language_info": {
   "codemirror_mode": {
    "name": "ipython",
    "version": 3
   },
   "file_extension": ".py",
   "mimetype": "text/x-python",
   "name": "python",
   "nbconvert_exporter": "python",
   "pygments_lexer": "ipython3",
   "version": "3.9.7"
  }
 },
 "nbformat": 4,
 "nbformat_minor": 1
}
