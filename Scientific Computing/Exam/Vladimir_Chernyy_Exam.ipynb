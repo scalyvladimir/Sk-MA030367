{
 "cells": [
  {
   "cell_type": "markdown",
   "metadata": {
    "id": "KTIHY5qblrx0"
   },
   "source": [
    "## Scientific Computing 2021: Final exam \n",
    "Friday October 29, 2021, 16:00 - 19:00\n",
    "\n",
    "This exam includes **5 tasks** based on the lecture materials and **7 problems** based on the materials of exercise sessions and homeworks. Each fully solved task or problem gives you 2 points. To obtain the full grade  you need to achieve the total score of 20 points."
   ]
  },
  {
   "cell_type": "markdown",
   "metadata": {
    "id": "MH3nLEVWsUeN"
   },
   "source": [
    "### Task 1 (2 points)\n",
    "1. Traditional scientific and engineering approach includes only theory and experiment. List at least three disadvantages/limitations of such approach, which could be managed by adding the computational simulations. (1 point) \n",
    "2. List at least three applications of scientific computing. Justify your answer with explanation why computer simulations or/and mathematical modelling methods are important in those areas. (1 point) "
   ]
  },
  {
   "cell_type": "markdown",
   "metadata": {},
   "source": [
    "## 1.1"
   ]
  },
  {
   "cell_type": "markdown",
   "metadata": {},
   "source": [
    "1. Difficult to conduct - particle collisions in the collider\n",
    "2. Cost a fortune - aerospace modules\n",
    "3. Slowness - weather forecast modeling\n",
    "4. Unnsafe - helmet or body armor testing"
   ]
  },
  {
   "cell_type": "markdown",
   "metadata": {},
   "source": [
    "## 1.2"
   ]
  },
  {
   "cell_type": "markdown",
   "metadata": {},
   "source": [
    "1. Distributed computations for Big Data, banking sphere depends on service time\n",
    "2. Websites load reliefs with multithreaded approaches\n",
    "3. Computation of planetary and galactic orbits also requires handling big amounts of data"
   ]
  },
  {
   "cell_type": "markdown",
   "metadata": {
    "id": "5ia_JQzWsmlv"
   },
   "source": [
    "### Task 2 (2 points)\n",
    "1. Explain the overheads of Parallelism. (1 point) \n",
    "2. Give the definition of OpenMP and MPI. Explain difference between them. Write down pros and cons of both. (1 point)"
   ]
  },
  {
   "cell_type": "markdown",
   "metadata": {},
   "source": [
    "## 2.1"
   ]
  },
  {
   "cell_type": "markdown",
   "metadata": {},
   "source": [
    "1. Requires a lot of save memory and CPU usage\n",
    "2. Syncronization of proccesses require cognitive load from the developers\n",
    "3. Spends lot of time on passing the data from one process to another"
   ]
  },
  {
   "cell_type": "markdown",
   "metadata": {},
   "source": [
    "## 2.2"
   ]
  },
  {
   "cell_type": "markdown",
   "metadata": {},
   "source": [
    "OpenMPI and OpenMP are both frameworks designed to work with parralelism in different way\n",
    "\n",
    " - OpenMP is about working with shared memory, its computational unit is thread, which has its own stack, file distriptors, etc. But all threads share same memory.\n",
    "    \n",
    "    +:\n",
    "        1. Accelerates code execution\n",
    "        2. No need to think how to pass data in case that it shared\n",
    "    -:\n",
    "        1. Requires cognitive load from developers(mutexes, locks, etc.)\n",
    "    \n",
    "- OpenMPI is about working with distributed memory, its computational unit is process, which has its own copy of memory. Data transfers between processes with message passing approach.\n",
    "    \n",
    "    +:\n",
    "        1. Accelerates code execution\n",
    "    \n",
    "    -:\n",
    "        1. Require cognitive load from developers(to think how to ditribute task)\n",
    "        2. Takes a lot of time to message passing"
   ]
  },
  {
   "cell_type": "markdown",
   "metadata": {
    "id": "AloBEt3Fs0Gv"
   },
   "source": [
    "### Task 3 (2 points)\n",
    "1. What is the Cauchy problem for an ODE? Give the general form and an example. Under which condition a Cauchy problem has the unique solution? (1 point) \n",
    "2. Describe the idea of the Molecular dynamics method. (1 point)"
   ]
  },
  {
   "cell_type": "markdown",
   "metadata": {},
   "source": [
    "## 3.1"
   ]
  },
  {
   "cell_type": "markdown",
   "metadata": {},
   "source": [
    "Vector form:\n",
    "$$\n",
    "\\begin{aligned}\n",
    "\\mathbf{u}^{\\prime}(x) &=\\mathbf{f}(x, \\mathbf{u}(x)), \\quad x \\in[\\xi, X] \\\\\n",
    "\\mathbf{u}(\\xi)=\\eta, & \\text { or } u_{k}(\\xi)=\\eta_{k}, 1 \\leq k \\leq p\n",
    "\\end{aligned}\n",
    "$$\n",
    "Or common form:\n",
    "$$\n",
    "\\begin{gathered}\n",
    "F\\left(x, u(x), u^{\\prime}(x), \\ldots, u^{(p)}(x)\\right) \\equiv D \\mathbf{u}=0 \\\\\n",
    "u^{(k)}(\\xi)=\\eta_{k}, \\quad 0 \\leq k<p\n",
    "\\end{gathered}\n",
    "$$\n",
    "The conditions may be considered as the definition of some initial point $\\left(\\xi, \\eta_{1}, \\ldots, \\eta_{p}\\right)$ for an integral curve in $(p+1)$-dimensional space $\\left(x, u_{1}, \\ldots, u_{p}\\right)$"
   ]
  },
  {
   "cell_type": "markdown",
   "metadata": {},
   "source": [
    "Example:\n",
    "\n",
    "Consider $s$ - path, $v$ - velocity   \n",
    "\n",
    "$ds = v dt$\n",
    "\n",
    "$s(0) = s_0$\n",
    "\n",
    "$\\int ds = \\int v dt$\n",
    "\n",
    "$\\Rightarrow s = v \\cdot t + C$\n",
    "\n",
    "$s(0) = C = 0$\n",
    "\n",
    "$ \\Rightarrow s = v \\cdot t$"
   ]
  },
  {
   "cell_type": "markdown",
   "metadata": {},
   "source": [
    "1. If the RHS $\\mathbf{f}(x, \\mathbf{u})$ are continuous and bounded in some neighborhood of the initial point, then the solution $\\mathbf{u}(x)$ of a Cauchy problem exists (buy may be not unique!).\n",
    "2. If the RHS additionally Lipschitz-continuous with respect to $u_{k}$, i.e. if $\\exists K$ :\n",
    "$$\n",
    "\\left|\\mathbf{f}\\left(x, \\mathbf{u}_{1}\\right)-\\mathbf{f}\\left(x, \\mathbf{u}_{2}\\right)\\right| \\leq K\\left|\\mathbf{u}_{1}-\\mathbf{u}_{2}\\right|\n",
    "$$\n",
    "then the solution $\\mathbf{u}(x)$ of a Cauchy problem is unique and stable, i.e. the Cauchy problem is well-posed."
   ]
  },
  {
   "cell_type": "markdown",
   "metadata": {},
   "source": [
    "## 3.2"
   ]
  },
  {
   "cell_type": "markdown",
   "metadata": {},
   "source": [
    "Consider Microcanonical ensemble: the system is isolated from changes in moles $(N)$, volume $(V)$, and energy $(E):$ adiabatic process with no heat exchange.\n",
    "\n",
    "So, for the Molecular dynamics method we consider isolated system of particles, which have constant $V$, $E$, $N$ \n",
    "\n",
    "Thus, we apply Newton's law of motion:\n",
    "$$\n",
    "\\begin{array}{r}\n",
    "F(X)=-\\nabla U(X)\\\\\n",
    "V(t)=\\dot{X}(t)\n",
    "\\end{array}\n",
    "$$\n",
    "Here:\n",
    "- $X$ are the particle coordinates.\n",
    "- $D U(X)$ is a potential energy of the system (comes from pair or many-body potentials).\n",
    "- $V$-velocities of particles."
   ]
  },
  {
   "cell_type": "markdown",
   "metadata": {
    "id": "mQPy1Xwps3Rh"
   },
   "source": [
    "### Task 4 (2 points)\n",
    "1. Why do we need to study wavelets? Which advantages the wavelets transform has in comparison with Fourier Transform? (1 point) \n",
    "2. Write the general form of the Integral Equation. Describe its parts and provide the classification of integral equations with respect to those parts. (1 point) "
   ]
  },
  {
   "cell_type": "markdown",
   "metadata": {},
   "source": [
    "## 4.1"
   ]
  },
  {
   "cell_type": "markdown",
   "metadata": {},
   "source": [
    "Wavelets can be used to determine when and where a phenomemon with particular frequency takes place.\n",
    "\n",
    "CFT could be used to determine spectre as well, but has nothing to do with time and coordinates."
   ]
  },
  {
   "cell_type": "markdown",
   "metadata": {},
   "source": [
    "## 4.2"
   ]
  },
  {
   "cell_type": "markdown",
   "metadata": {},
   "source": [
    "The linear integral equation generally is\n",
    "$$\n",
    "g(\\mathbf{x}) y(\\mathbf{x})-A y(\\mathbf{x})=f(\\mathbf{x})\n",
    "$$\n",
    "The integral equation of the *first kind*: $g(x) \\equiv 0$.\n",
    "$$\n",
    "A y(\\mathbf{x})=f(\\mathbf{x})\n",
    "$$\n",
    "These equations are commonly ill-posed.\n",
    "The integral equation of the *second kind*:\n",
    "$$\n",
    "y(\\mathbf{x})-\\lambda A y(\\mathbf{x})=f(\\mathbf{x})\n",
    "$$\n",
    "These equations are commonly well-posed."
   ]
  },
  {
   "cell_type": "markdown",
   "metadata": {
    "id": "fKRf8Alxs4Gb"
   },
   "source": [
    "### Task 5 (2 points)\n",
    "1.  Provide the definitions of well-posed and ill-posed problems. Explain those two kinds of problems in terms of the operator in general form  $A\\mathbf{x} = \\mathbf{b}$. (1 point)\n",
    "2. What is the convolution theorem? Describe why this property is useful. Justify your answer with examples. (1 point)"
   ]
  },
  {
   "cell_type": "markdown",
   "metadata": {},
   "source": [
    "## 5.1"
   ]
  },
  {
   "cell_type": "markdown",
   "metadata": {},
   "source": [
    "Well-posed if:\n",
    "\n",
    "1. A solution exists\n",
    "2. The solution is unique\n",
    "3. The solution depends continuously on the input data.\n",
    "\n",
    "Ill-possed:\n",
    "\n",
    "Otherwise.\n",
    "\n",
    "Ill-possed in terms of operator $A$:\n",
    "\n",
    "1. $A^{-1}$ does not exist\n",
    "\n",
    "2. $A^{-1}$ is not defined on the whole set $B: AX \\neq B$\n",
    "\n",
    "3. $A^{-1}$ is not continuous\n",
    "\n",
    "4. $A^{-1}$ is not defined uniquely.\n",
    "\n",
    "Well-possed in terms of operator $A$:\n",
    "\n",
    "Otherwise."
   ]
  },
  {
   "cell_type": "markdown",
   "metadata": {},
   "source": [
    "## 5.2"
   ]
  },
  {
   "cell_type": "markdown",
   "metadata": {},
   "source": [
    "The convolution theorem states that under suitable conditions the Fourier transform of a convolution of two functions (or signals) is the pointwise product of their Fourier transforms.\n",
    "\n",
    "Convolution theorem:\n",
    "$$\n",
    "g * h \\equiv \\int_{-\\infty}^{\\infty} g(x) h(x-\\xi) d \\xi \\Leftrightarrow G(f) H(f)\n",
    "$$\n",
    "Cross-correlation of two functions:\n",
    "$$\n",
    "g * h=\\int_{-\\infty}^{\\infty} g(x+\\xi) h(\\xi) d \\xi\n",
    "$$\n",
    "\n",
    "Convolution theorem helps us to simplify many calculations. Convolutions can be very difficult to calculate directly, but are often much easier to calculate using Fourier transforms and multiplication."
   ]
  },
  {
   "cell_type": "markdown",
   "metadata": {
    "id": "mkVoJdfWlrx5"
   },
   "source": [
    "### Problem 1 (2 points)\n",
    "\n",
    "Assume that, as in Amdahl's law, a program has a sequential, non-parallelizable part, and the remaining part is ideally parallelizable. Suppose that the efficiency of parallelizing the program to $n_1=5$ processes is $a_1=0.5$.  Find the efficiency of parallelizing the program to $n_2=2$ processes.  "
   ]
  },
  {
   "cell_type": "markdown",
   "metadata": {},
   "source": [
    "$S_1 = \\frac{1}{s + \\frac{1}{5}(1 - s)} = N_1 \\cdot E_1 = \\frac{5}{2}$\n",
    "\n",
    "$\n",
    "\\Rightarrow 4s + 1 = 2\n",
    "\\Rightarrow s = \\frac{1}{4}\n",
    "$\n",
    "\n",
    "$\n",
    "S_2 = \\frac{1}{s + \\frac{1}{2}(1 - 0.25)} = \\frac{1}{0.25 + \\frac{1}{2}(1 - 0.25)} = \\frac{8}{5}\n",
    "$\n",
    "\n",
    "$\n",
    "\\Rightarrow E_2 = \\frac{S_2}{N_2} = \\frac{8}{5 \\cdot 2} = 0.8\n",
    "$"
   ]
  },
  {
   "cell_type": "markdown",
   "metadata": {
    "id": "j9XEfwgklrx8"
   },
   "source": [
    "### Problem 2 (2 points)\n",
    "Write an MPI program computing the maximum of an array. The array must be randomly generated in the root process, then divided in chunks and distributed to all processes. Each process must compute the maximum in its chunk, and then the results must be reduced at the root process. "
   ]
  },
  {
   "cell_type": "code",
   "execution_count": 22,
   "metadata": {},
   "outputs": [
    {
     "name": "stdout",
     "output_type": "stream",
     "text": [
      "True maximum: 98\n",
      "The biggest num in array is: 98\n"
     ]
    }
   ],
   "source": [
    "from mpi4py import MPI\n",
    "from os import listdir\n",
    "import numpy as np\n",
    "\n",
    "comm = MPI.COMM_WORLD\n",
    "rank = comm.Get_rank()\n",
    "size = comm.Get_size()\n",
    "\n",
    "if rank == 0:\n",
    "    array = np.random.randint(1, 100, np.random.randint(10, 100))\n",
    "    print('True maximum:', max(array))\n",
    "\n",
    "array_parts = [[] for i in range(size)]\n",
    "\n",
    "counter = 0\n",
    "if rank == 0:\n",
    "  for num in array:\n",
    "    array_parts[counter].append(num)\n",
    "    counter = (counter + 1) % size\n",
    "\n",
    "ar = comm.scatter(array_parts, root = 0)\n",
    "local_max = max(ar)\n",
    "\n",
    "global_max = comm.reduce(local_max, op = MPI.MAX)\n",
    "\n",
    "if rank == 0:\n",
    "    print(f'The biggest num in array is: {global_max}')"
   ]
  },
  {
   "cell_type": "markdown",
   "metadata": {
    "id": "cQM4IP5alryA"
   },
   "source": [
    "### Problem 3 (2 points)\n",
    "\n",
    "We are solving the linear system $A\\mathbf x=\\mathbf b$ with $A=\\begin{pmatrix}0 & 10^{-2}\\\\ 10^{-2} & 10^3\\end{pmatrix}$ and some $\\mathbf b$. Suppose that we know $\\mathbf b$ with the relative error $\\epsilon_{\\mathbf b}=10^{-15}$. Give an upper bound for the relative error of $\\mathbf x$.\n"
   ]
  },
  {
   "cell_type": "code",
   "execution_count": 33,
   "metadata": {},
   "outputs": [
    {
     "name": "stdout",
     "output_type": "stream",
     "text": [
      "Condition number is ~ 10000000002.009094\n"
     ]
    }
   ],
   "source": [
    "A = np.array([[0, 1e-2], [1e-2, 1e3]], np.float64)\n",
    "\n",
    "print('Condition number is ~', np.linalg.cond(A))"
   ]
  },
  {
   "cell_type": "markdown",
   "metadata": {},
   "source": [
    "We know that\n",
    "$$\n",
    "\\frac{\\|\\Delta x\\|}{\\|x\\|} \\leq \\kappa(A) \\frac{\\|\\Delta b\\|}{\\|b\\|}\n",
    "$$\n",
    "\n",
    "$\\kappa(A)=\\left|\\frac{\\lambda_{\\max }(A)}{\\lambda_{\\min }(A)}\\right| = 10^{10}$, and upper bound on $\\|\\Delta x\\| /\\|x\\|$ is:\n",
    "\n",
    "$$\n",
    "\\frac{\\|\\Delta x\\|}{\\|x\\|} = \\kappa(A) \\frac{\\|\\Delta b\\|}{\\|b\\|} = 10^{10} \\cdot 10^{-15} = 10^{-5}\n",
    "$$"
   ]
  },
  {
   "cell_type": "markdown",
   "metadata": {
    "id": "GItY4rmzlryE"
   },
   "source": [
    "### Problem 4 (2 points)\n",
    "Consider the problem https://www.spoj.com/problems/ADASTRNG/. Explain how the problem can be solved by an algorithm of complexity $O(N\\log^c N),$ where $N$ is the length of the input string, and $c$ is some constant. Specify a particular $c$. (**Remark:** you don't need to write the program, it is sufficient to explain the logic of the algorithm). "
   ]
  },
  {
   "cell_type": "markdown",
   "metadata": {
    "id": "lDi6wSRwlryH"
   },
   "source": [
    "### Problem 5 (2 points)\n",
    "\n",
    "For which sequences $f=(f[0], f[1], \\ldots, f[N-1])$ is their Discrete Fourier Transform $\\widehat f$ **purely imaginary**?\n"
   ]
  },
  {
   "cell_type": "markdown",
   "metadata": {},
   "source": [
    "$\\hat{f} =\\sum_{n = 0}^{N - 1}f[n]\\cos\\frac{2\\pi k n}{N} - i \\cdot \\sum_{n = 0}^{N - 1}f[n]\\sin\\frac{2\\pi k n}{N}$\n",
    "\n",
    "Due to the problem condition: $Re (\\hat{f}) = 0 \\iff f[n] = -f[N - 1 - n]\\cos(\\frac{2\\pi k(N - 1 - n)}{N})$\n",
    "\n",
    "With $f[n] = -f[N - 1 - n]$ $f$ becames odd\n",
    "\n",
    "$cos(\\frac{2\\pi k(N - 1 - n)}{N})$ controls the member's phase "
   ]
  },
  {
   "cell_type": "markdown",
   "metadata": {
    "id": "A6ueKCLrlryI"
   },
   "source": [
    "### Problem 6 (2 points)\n",
    "\n",
    "Suppose that we are solving the ODE $\\tfrac{d}{dt} x=-x$ iteratively, using the centered approximation for the derivative:\n",
    "\n",
    "$$\\frac{\\tilde x_{n+1}-\\tilde x_{n-1}}{2\\Delta t}=-\\tilde x_n.$$\n",
    "\n",
    "Determine theoretically for which $\\Delta t$ the numerical solution does not diverge, i.e. $\\sup_n \\tilde x_n^2 <\\infty$."
   ]
  },
  {
   "cell_type": "markdown",
   "metadata": {
    "id": "iKK5B88ZlryJ"
   },
   "source": [
    "### Problem 7 (2 points)\n",
    "\n",
    "Recall that the Radon transform is defined by \n",
    "\n",
    "$$Rf(\\alpha, s) =  \\int_{-\\infty}^\\infty f(z\\sin\\alpha+s\\cos\\alpha, -z\\cos\\alpha+s\\sin\\alpha) dz.$$ \n",
    "\n",
    "Suppose that $f$ is an indicator function of some set $A\\subset \\mathbb R^2$, i.e. $f(x,y)=\\begin{cases}1,& (x,y)\\in A\\\\ 0,&(x,y)\\notin A\\end{cases}$. Suppose that $Rf(\\alpha, s)=0$ for all $\\alpha, s$ such that $|s-\\cos \\alpha|>1$. What is the largest possible area of $A$? Describe this $A$."
   ]
  }
 ],
 "metadata": {
  "colab": {
   "collapsed_sections": [],
   "name": "Final_exam_2021.ipynb",
   "provenance": []
  },
  "kernelspec": {
   "display_name": "firstEnv",
   "language": "python",
   "name": "firstenv"
  },
  "language_info": {
   "codemirror_mode": {
    "name": "ipython",
    "version": 3
   },
   "file_extension": ".py",
   "mimetype": "text/x-python",
   "name": "python",
   "nbconvert_exporter": "python",
   "pygments_lexer": "ipython3",
   "version": "3.8.8"
  }
 },
 "nbformat": 4,
 "nbformat_minor": 1
}
