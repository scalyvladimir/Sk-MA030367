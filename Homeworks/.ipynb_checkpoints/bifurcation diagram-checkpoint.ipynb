{
 "cells": [
  {
   "cell_type": "code",
   "execution_count": 1,
   "id": "16cc99d4",
   "metadata": {},
   "outputs": [
    {
     "name": "stdout",
     "output_type": "stream",
     "text": [
      "Populating the interactive namespace from numpy and matplotlib\n"
     ]
    }
   ],
   "source": [
    "%pylab inline"
   ]
  },
  {
   "cell_type": "markdown",
   "id": "127f3d69",
   "metadata": {},
   "source": [
    "In this assignment, we study the behavior of the logistic map x |-> r * x * (1 - x).\n",
    "\n",
    " \n",
    "\n",
    "Step-by-step guide:\n",
    "\n",
    "- implement the map, plot the evolution of x\n",
    "- play around with values of r, see the change of evolution\n",
    "- then create a linspace of r’s, for every r save last “m” values of x after first\n",
    "“n” values (can be m=200, x=200), play around with values\n",
    "- Get the bifurcation map\n",
    "-Visualize the evolution (play around)"
   ]
  },
  {
   "cell_type": "markdown",
   "id": "6c6482de",
   "metadata": {},
   "source": [
    "1. Implement the map, plot the evolution of x (1 point)\n",
    "2. Create a linspace of r’s, for every r save the last “m” values of x \n",
    "after the first “n” values (can be m=200, x=200), play around with\n",
    "values (1 point)\n",
    "3. Plot the bifurcation map (1 point)"
   ]
  },
  {
   "cell_type": "code",
   "execution_count": 2,
   "id": "8bd2dbfc",
   "metadata": {},
   "outputs": [],
   "source": [
    "def get_next_step(r, x):\n",
    "    return r * x * (1. - x)"
   ]
  },
  {
   "cell_type": "code",
   "execution_count": 27,
   "id": "fbbe5e53",
   "metadata": {},
   "outputs": [],
   "source": [
    "NUM_OF_STEPS = 100000\n",
    "INITIAL_STATE = 0.1\n",
    "M = 1000\n",
    "N = 10000\n",
    "\n",
    "r_list = linspace(1, 10, M)\n",
    "\n",
    "data = empty((M, M))"
   ]
  },
  {
   "cell_type": "code",
   "execution_count": null,
   "id": "a489573f",
   "metadata": {},
   "outputs": [
    {
     "name": "stderr",
     "output_type": "stream",
     "text": [
      "<ipython-input-2-2c92e758725c>:2: RuntimeWarning: overflow encountered in double_scalars\n",
      "  return r * x * (1. - x)\n"
     ]
    }
   ],
   "source": [
    "for index, r in enumerate(r_list):\n",
    "    x = [INITIAL_STATE]\n",
    "    for _ in range(NUM_OF_STEPS):\n",
    "        x.append(get_next_step(r, x[-1]))\n",
    "    \n",
    "    data[index] = x[index + N: index + N + M]\n",
    "len(x)"
   ]
  },
  {
   "cell_type": "code",
   "execution_count": null,
   "id": "299baebb",
   "metadata": {},
   "outputs": [],
   "source": [
    "%matplotlib inline"
   ]
  },
  {
   "cell_type": "code",
   "execution_count": null,
   "id": "513b23b4",
   "metadata": {
    "scrolled": true
   },
   "outputs": [],
   "source": [
    "fig, ax = subplots(figsize=(15, 7))\n",
    "\n",
    "xlabel('time')\n",
    "ylabel('x')\n",
    "\n",
    "yscale('symlog')\n",
    "# xscale('log')\n",
    "\n",
    "fig.set_facecolor('#846075')\n",
    "ax.set_facecolor('#4A6C6F')\n",
    "    \n",
    "ax.plot(arange(0, M, 1), data[1], '-,', color='#D7DEDC')\n",
    "    \n",
    "# axis('off')\n",
    "pyplot.show()"
   ]
  },
  {
   "cell_type": "code",
   "execution_count": null,
   "id": "a463cc7a",
   "metadata": {},
   "outputs": [],
   "source": [
    "amin(data), amax(data)"
   ]
  },
  {
   "cell_type": "code",
   "execution_count": null,
   "id": "a47185a2",
   "metadata": {},
   "outputs": [],
   "source": [
    "from IPython.display import HTML, Image\n",
    "\n",
    "rcParams['animation.embed_limit'] = 200"
   ]
  },
  {
   "cell_type": "code",
   "execution_count": null,
   "id": "28fc1cdc",
   "metadata": {},
   "outputs": [],
   "source": [
    "fig, ax = subplots(figsize=(15, 15))\n",
    "\n",
    "fig.set_facecolor('#846075')\n",
    "\n",
    "ax.axis([min(r_list), 5, 0, amax(data) + 0.1])\n",
    "ax.set_facecolor('#4A6C6F')\n",
    "\n",
    "xlabel('r')\n",
    "ylabel('population equlibrium')\n",
    "l, = ax.plot([], [], '.', color='#D7DEDC')\n",
    "\n",
    "t = [r * ones(data.shape[0]) for r in r_list]\n",
    "x = data\n",
    "\n",
    "def animate(i):\n",
    "    l.set_data(t[:i], x[:i])\n",
    "\n",
    "ani = matplotlib.animation.FuncAnimation(fig, animate, frames=len(t), interval=20)\n",
    "\n",
    "HTML(ani.to_jshtml())"
   ]
  },
  {
   "cell_type": "code",
   "execution_count": null,
   "id": "aeae19d8",
   "metadata": {},
   "outputs": [],
   "source": [
    "# !brew install imagemagick"
   ]
  },
  {
   "cell_type": "code",
   "execution_count": null,
   "id": "b9ecc348",
   "metadata": {},
   "outputs": [],
   "source": [
    "ani.save('bif_map.gif', writer='imagemagick', fps=60)"
   ]
  },
  {
   "cell_type": "code",
   "execution_count": null,
   "id": "fd3e6bc9",
   "metadata": {},
   "outputs": [],
   "source": [
    "Image(url='bif_map.gif')"
   ]
  },
  {
   "cell_type": "code",
   "execution_count": null,
   "id": "e9c1dd4e",
   "metadata": {},
   "outputs": [],
   "source": []
  }
 ],
 "metadata": {
  "kernelspec": {
   "display_name": "firstEnv",
   "language": "python",
   "name": "firstenv"
  },
  "language_info": {
   "codemirror_mode": {
    "name": "ipython",
    "version": 3
   },
   "file_extension": ".py",
   "mimetype": "text/x-python",
   "name": "python",
   "nbconvert_exporter": "python",
   "pygments_lexer": "ipython3",
   "version": "3.8.8"
  }
 },
 "nbformat": 4,
 "nbformat_minor": 5
}
