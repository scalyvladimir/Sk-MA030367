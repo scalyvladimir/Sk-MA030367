{
  "nbformat": 4,
  "nbformat_minor": 0,
  "metadata": {
    "colab": {
      "name": "shift_image.ipynb",
      "provenance": [],
      "collapsed_sections": [
        "BeffeP1Veyc3"
      ]
    },
    "kernelspec": {
      "display_name": "Python 3",
      "name": "python3"
    },
    "language_info": {
      "name": "python"
    }
  },
  "cells": [
    {
      "cell_type": "markdown",
      "metadata": {
        "id": "BeffeP1Veyc3"
      },
      "source": [
        "### 1) Implementation"
      ]
    },
    {
      "cell_type": "code",
      "metadata": {
        "colab": {
          "base_uri": "https://localhost:8080/"
        },
        "id": "60eDi80GetV0",
        "outputId": "1a43ce80-c454-4b6a-95fe-838bdcd486b3"
      },
      "source": [
        "with open(\"shift_image.py\", \"r\") as f:\n",
        "    print(f.read())"
      ],
      "execution_count": null,
      "outputs": [
        {
          "output_type": "stream",
          "name": "stdout",
          "text": [
            "import matplotlib.pyplot as plt\n",
            "from mpi4py import MPI\n",
            "import numpy as np\n",
            "import tracemalloc\n",
            "import imageio\n",
            "import sys\n",
            "import os\n",
            "\n",
            "dir_name = 'pics/'\n",
            "\n",
            "comm = MPI.COMM_WORLD\n",
            "size = comm.size\n",
            "rank = comm.Get_rank()\n",
            "\n",
            "# if rank == 0:\n",
            "#     start = MPI.Wtime()\n",
            "\n",
            "tracemalloc.start()\n",
            "\n",
            "img = plt.imread(sys.argv[1]).transpose([1, 0, 2]) if rank == 0 else None\n",
            "\n",
            "row_size = img.shape[1] if rank == 0 else None\n",
            "row_size = comm.bcast(row_size, root=0)\n",
            "\n",
            "col_size = img.shape[0] if rank == 0 else None\n",
            "col_size = comm.bcast(col_size, root=0)\n",
            "\n",
            "displ = None\n",
            "count = np.empty(size, dtype=int)\n",
            "\n",
            "if rank == 0:\n",
            "    quot, rem = divmod(img.shape[0], size)\n",
            "\n",
            "    for r in range(size):\n",
            "        count[r] = quot + 1 if r < rem else quot\n",
            "    displ = np.array([np.sum(count[:r]) for r in range(size)])\n",
            "\n",
            "comm.Bcast(count, root=0)\n",
            "\n",
            "img_part = np.zeros(count[rank] * row_size * 3, dtype=np.uint8)\n",
            "\n",
            "if rank == 0:\n",
            "    arg1, arg2 = count*row_size*3,  displ*row_size*3\n",
            "    comm.Scatterv([np.ascontiguousarray(img), arg1, arg2, MPI.UINT8_T], img_part, root=0)\n",
            "else:\n",
            "    comm.Scatterv([np.ascontiguousarray(img), count, displ, MPI.UINT8_T], img_part, root=0)\n",
            "\n",
            "img_part = img_part.reshape([count[rank], row_size, 3]).transpose([1, 0, 2])\n",
            "\n",
            "# if rank == 0:\n",
            "#     if os.path.isdir(dir_name):\n",
            "#         os.system(f'rm -rf {dir_name}')\n",
            "#     os.mkdir(dir_name)\n",
            "\n",
            "step_size = 5\n",
            "\n",
            "for index, _ in enumerate(np.linspace(1, row_size, np.ceil(row_size/step_size).astype(int), endpoint=True)):\n",
            "    comm.Barrier()\n",
            "\n",
            "    # if rank == 0:\n",
            "    #\n",
            "        # plt.imsave(f'{dir_name}{str(index).zfill(4)}.png', img.transpose([1, 0, 2]))\n",
            "        # print(f'{index * step_size / row_size * 100:.2f}% done')\n",
            "\n",
            "    img_part = np.roll(img_part, axis=0, shift=step_size)\n",
            "\n",
            "    img = np.ascontiguousarray(img)\n",
            "    arg = (img, count * row_size * 3) if rank == 0 else count\n",
            "\n",
            "    comm.Gatherv(img_part.transpose([1, 0, 2]), arg, root=0)\n",
            "\n",
            "    if rank == 0:\n",
            "        img = img.reshape([col_size, row_size, 3])\n",
            "\n",
            "if (rank == 0 and size == 1) or (rank == 1 and size != 1):\n",
            "    with open(sys.argv[2], 'a+') as f:\n",
            "        tmp = tracemalloc.get_traced_memory()[1]\n",
            "        f.write(f'{size}, {tmp}\\n')\n",
            "\n",
            "# if rank == 0:\n",
            "#     images = []\n",
            "#     for f in os.listdir(dir_name):\n",
            "#         images.append(imageio.imread(f'{dir_name}{f}'))\n",
            "    #\n",
            "    # imageio.mimsave('shifted_image.gif', images)\n",
            "\n",
            "    # elapsed_time = MPI.Wtime() - start\n",
            "    # with open(sys.argv[2], 'a+') as f:\n",
            "    #     f.write(f'{size}, {elapsed_time}\\n')\n",
            "\n"
          ]
        }
      ]
    },
    {
      "cell_type": "markdown",
      "metadata": {
        "id": "rCeOrQJGe69R"
      },
      "source": [
        "### 2) Speedup"
      ]
    },
    {
      "cell_type": "code",
      "metadata": {
        "id": "nRgGRamYfNC6"
      },
      "source": [
        "import matplotlib.pyplot as plt\n",
        "import numpy as np"
      ],
      "execution_count": 38,
      "outputs": []
    },
    {
      "cell_type": "code",
      "metadata": {
        "id": "kkogcEHrvJFX",
        "colab": {
          "base_uri": "https://localhost:8080/",
          "height": 410
        },
        "outputId": "2ae803ed-a0f4-427e-d866-63f18609e1fa"
      },
      "source": [
        "seq_time = None\n",
        "time_list = []\n",
        "size_list = []\n",
        "\n",
        "with open('times.csv', 'r') as f:\n",
        "  \n",
        "  for row_id, line in enumerate(f.readlines()):\n",
        "    data = line.split(',')\n",
        "    size, time = np.float(data[0]), np.float(data[-1])\n",
        "    if row_id == 0:\n",
        "      seq_time = time\n",
        "\n",
        "    time_list.append(time)\n",
        "    size_list.append(size)\n",
        "  \n",
        "\n",
        "speedup_list = seq_time / np.array(time_list)\n",
        "\n",
        "plt.figure(figsize=(13, 6))\n",
        "\n",
        "plt.plot(size_list, speedup_list)\n",
        "\n",
        "plt.title('Speedup vs $n$ of processes')\n",
        "plt.ylabel('Speedup, $sec^{-1}$')\n",
        "plt.xlabel('$n$, num of processes')\n",
        "\n",
        "plt.show()"
      ],
      "execution_count": 39,
      "outputs": [
        {
          "output_type": "display_data",
          "data": {
            "image/png": "[encoded data removed]",
            "text/plain": [
              "<Figure size 936x432 with 1 Axes>"
            ]
          },
          "metadata": {
            "needs_background": "light"
          }
        }
      ]
    },
    {
      "cell_type": "markdown",
      "metadata": {
        "id": "I7ISvYf9fOf8"
      },
      "source": [
        "#### Explanation: in my implementation i used $\\texttt{numpy.roll()}$ function to cyclically rotate pictures. And if we look on how it implemented inside python, we could see, that is uses multithreading approaches, which is avoiding GIL as they are designed on different from python language. So there are no restrictions to those functions to use all the machine's resourses. From that, we could conclude, that it leads to performance degradation as it is way to effective to use multithreding for only 1 process, instead of, let's say about my MacOS, 8 processes."
      ]
    },
    {
      "cell_type": "markdown",
      "metadata": {
        "id": "x4HFYsqqgsWY"
      },
      "source": [
        "### 3) Memory consumption per 1 process"
      ]
    },
    {
      "cell_type": "code",
      "metadata": {
        "colab": {
          "base_uri": "https://localhost:8080/",
          "height": 410
        },
        "id": "SE0PclJDg7fY",
        "outputId": "3035bd45-9c6c-4e6e-c341-715f528b1d10"
      },
      "source": [
        "seq_time = None\n",
        "mems_list = []\n",
        "size_list = []\n",
        "\n",
        "with open('memories.csv', 'r') as f:\n",
        "  \n",
        "  for row_id, line in enumerate(f.readlines()):\n",
        "    data = line.split(',')\n",
        "    size, mem = np.float(data[0]), np.float(data[-1])\n",
        "    \n",
        "    mems_list.append(mem)\n",
        "    size_list.append(size)\n",
        "  \n",
        "plt.figure(figsize=(13, 6))\n",
        "\n",
        "plt.plot(size_list, mems_list)\n",
        "\n",
        "plt.title('Memory vs $n$ of processes')\n",
        "plt.ylabel('Memory usage, $bytes$')\n",
        "plt.xlabel('$n$, num of processes')\n",
        "\n",
        "plt.show()"
      ],
      "execution_count": 40,
      "outputs": [
        {
          "output_type": "display_data",
          "data": {
            "image/png": "[encoded data removed]",
            "text/plain": [
              "<Figure size 936x432 with 1 Axes>"
            ]
          },
          "metadata": {
            "needs_background": "light"
          }
        }
      ]
    },
    {
      "cell_type": "markdown",
      "metadata": {
        "id": "5POJZOGkhPi6"
      },
      "source": [
        "Concluding from what we see is that our approach distribution does make sense in terms of reduction of used memory in subtasks"
      ]
    },
    {
      "cell_type": "code",
      "metadata": {
        "id": "5yJD3BIGi3jp"
      },
      "source": [
        ""
      ],
      "execution_count": null,
      "outputs": []
    }
  ]
}