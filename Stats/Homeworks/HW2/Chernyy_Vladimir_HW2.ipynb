{
 "cells": [
  {
   "cell_type": "code",
   "execution_count": 52,
   "metadata": {},
   "outputs": [],
   "source": [
    "import numpy as np\n",
    "import scipy\n",
    "import scipy.stats as sps\n",
    "import pandas as pd\n",
    "import matplotlib.pyplot as plt"
   ]
  },
  {
   "cell_type": "markdown",
   "metadata": {},
   "source": [
    "# Homework 2\n",
    "## Hypothesis testing"
   ]
  },
  {
   "cell_type": "markdown",
   "metadata": {},
   "source": [
    "Each task is worth 5 points, 20 points in total. Additionally, some tasks allow you to get a bonus point, that **can not** increase your total score for the homework beyond the maximum, but can compensate for some occasionally lost points."
   ]
  },
  {
   "cell_type": "markdown",
   "metadata": {},
   "source": [
    "### Task 1: multiple comparisons"
   ]
  },
  {
   "cell_type": "markdown",
   "metadata": {},
   "source": [
    "A randomized, double-blind experiment was conducted to assess the\n",
    "effectiveness of several drugs for reducing postoperative nausea. The\n",
    "data are as follows:"
   ]
  },
  {
   "cell_type": "code",
   "execution_count": 53,
   "metadata": {},
   "outputs": [
    {
     "data": {
      "text/html": [
       "<div>\n",
       "<style scoped>\n",
       "    .dataframe tbody tr th:only-of-type {\n",
       "        vertical-align: middle;\n",
       "    }\n",
       "\n",
       "    .dataframe tbody tr th {\n",
       "        vertical-align: top;\n",
       "    }\n",
       "\n",
       "    .dataframe thead th {\n",
       "        text-align: right;\n",
       "    }\n",
       "</style>\n",
       "<table border=\"1\" class=\"dataframe\">\n",
       "  <thead>\n",
       "    <tr style=\"text-align: right;\">\n",
       "      <th></th>\n",
       "      <th>Drug</th>\n",
       "      <th>Number of Patients</th>\n",
       "      <th>Incidence of Nausea</th>\n",
       "    </tr>\n",
       "  </thead>\n",
       "  <tbody>\n",
       "    <tr>\n",
       "      <th>0</th>\n",
       "      <td>Placebo</td>\n",
       "      <td>80</td>\n",
       "      <td>45</td>\n",
       "    </tr>\n",
       "    <tr>\n",
       "      <th>1</th>\n",
       "      <td>Chlorpromazine</td>\n",
       "      <td>75</td>\n",
       "      <td>26</td>\n",
       "    </tr>\n",
       "    <tr>\n",
       "      <th>2</th>\n",
       "      <td>Dimenhydrinate</td>\n",
       "      <td>85</td>\n",
       "      <td>52</td>\n",
       "    </tr>\n",
       "    <tr>\n",
       "      <th>3</th>\n",
       "      <td>Pentobarbital (100 mg)</td>\n",
       "      <td>67</td>\n",
       "      <td>35</td>\n",
       "    </tr>\n",
       "    <tr>\n",
       "      <th>4</th>\n",
       "      <td>Pentobarbital (150 mg)</td>\n",
       "      <td>85</td>\n",
       "      <td>37</td>\n",
       "    </tr>\n",
       "  </tbody>\n",
       "</table>\n",
       "</div>"
      ],
      "text/plain": [
       "                     Drug  Number of Patients  Incidence of Nausea\n",
       "0                 Placebo                  80                   45\n",
       "1          Chlorpromazine                  75                   26\n",
       "2          Dimenhydrinate                  85                   52\n",
       "3  Pentobarbital (100 mg)                  67                   35\n",
       "4  Pentobarbital (150 mg)                  85                   37"
      ]
     },
     "execution_count": 53,
     "metadata": {},
     "output_type": "execute_result"
    }
   ],
   "source": [
    "df1 = pd.DataFrame({'Drug': ['Placebo', 'Chlorpromazine', 'Dimenhydrinate', 'Pentobarbital (100 mg)', 'Pentobarbital (150 mg)'],\n",
    "                    'Number of Patients': [80, 75, 85, 67, 85],\n",
    "                    'Incidence of Nausea': [45, 26, 52, 35, 37]})\n",
    "df1"
   ]
  },
  {
   "cell_type": "markdown",
   "metadata": {},
   "source": [
    "1. Test each drug versus the placebo at the 5% level. Also, report\n",
    "the estimated odds–ratios. Summarize your findings. (2 points)\n",
    "2. Use the Bonferroni and the FDR method to adjust for multiple\n",
    "testing. (Beecher (1959)) (3 points)\n",
    "3. Reproduce plot similar to Figure 10.6 from the book, displaying observed $p$-values and different thresholds used (1 bonus point)\n",
    "\n",
    "*Hint*. Use simple $H_0$: \"$\\mathbb{P}_{drug} = \\mathbb{P}_{placebo}$\"."
   ]
  },
  {
   "cell_type": "markdown",
   "metadata": {},
   "source": [
    "### 1)"
   ]
  },
  {
   "cell_type": "code",
   "execution_count": 54,
   "metadata": {},
   "outputs": [
    {
     "name": "stdout",
     "output_type": "stream",
     "text": [
      "Chlorpromazine odd ratio: 0.413\n",
      "Dimenhydrinate odd ratio: 1.226\n",
      "Pentobarbital (100 mg) odd ratio: 0.851\n",
      "Pentobarbital (150 mg) odd ratio: 0.600\n",
      "\n",
      "According to the Wald's test:\n",
      "\n",
      "Chlorpromazine is NOT a placebo\n",
      "Dimenhydrinate is a placebo\n",
      "Pentobarbital (100 mg) is a placebo\n",
      "Pentobarbital (150 mg) is a placebo\n"
     ]
    }
   ],
   "source": [
    "alpha = .05\n",
    "\n",
    "placebo = df1[df1.Drug == 'Placebo']\n",
    "placebo_mean = placebo['Incidence of Nausea'] / placebo['Number of Patients']\n",
    "\n",
    "walds_vals_list = []\n",
    "pvals_walds = []\n",
    "\n",
    "for _, row in df1[1:].iterrows():\n",
    "    n, m = row['Number of Patients'], placebo['Number of Patients']\n",
    "    \n",
    "    mean = row['Incidence of Nausea'] / n\n",
    "    \n",
    "    std = np.sqrt(mean * (1 - mean) / n + \\\n",
    "                placebo_mean * (1 - placebo_mean) / m)\n",
    "    \n",
    "    delta = mean - placebo_mean\n",
    "    \n",
    "    w_val = abs(delta / std)\n",
    "    \n",
    "    odd_ratio = (row['Incidence of Nausea'] / (n - row['Incidence of Nausea'])) \\\n",
    "          / (placebo['Incidence of Nausea'] / (m - placebo['Incidence of Nausea']))\n",
    "                 \n",
    "    print(row.Drug, 'odd ratio:', '%.3f' % odd_ratio)\n",
    "    \n",
    "    walds_vals_list.append((row.Drug, w_val))\n",
    "    pval = 2 * (1 - sps.norm.cdf(w_val))\n",
    "    pvals_walds.append(*pval)\n",
    "\n",
    "print('\\nAccording to the Wald\\'s test:\\n')\n",
    "    \n",
    "for x in walds_vals_list:\n",
    "    ans = x[1] > sps.norm.ppf(1 - alpha / 2)\n",
    "    verdict = ' NOT' if ans.bool() else ''\n",
    "     \n",
    "    print(x[0], ' is', verdict, ' a placebo', sep='')"
   ]
  },
  {
   "cell_type": "markdown",
   "metadata": {},
   "source": [
    "### 2)"
   ]
  },
  {
   "cell_type": "code",
   "execution_count": 55,
   "metadata": {},
   "outputs": [],
   "source": [
    "from statsmodels.stats.multitest import multipletests"
   ]
  },
  {
   "cell_type": "code",
   "execution_count": 56,
   "metadata": {},
   "outputs": [
    {
     "data": {
      "text/plain": [
       "[0.005703391555257786,\n",
       " 0.5202323654229462,\n",
       " 0.6266640947313886,\n",
       " 0.09963923341820236]"
      ]
     },
     "execution_count": 56,
     "metadata": {},
     "output_type": "execute_result"
    }
   ],
   "source": [
    "pvals_walds"
   ]
  },
  {
   "cell_type": "code",
   "execution_count": 57,
   "metadata": {},
   "outputs": [
    {
     "name": "stdout",
     "output_type": "stream",
     "text": [
      "Method bonferroni: reject = [ True False False False]\n",
      " with p-values = [0.02281357 0.39855693 1.         1.        ]\n",
      "\n",
      "Method fdr_bh    : reject = [ True False False False]\n",
      " with p-values = [0.02281357 0.19927847 0.62666409 0.62666409]\n"
     ]
    }
   ],
   "source": [
    "method='bonferroni'\n",
    "reject, b_list, _, _ = multipletests(pvals=pvals_walds, alpha=alpha, method=method, returnsorted=True)    \n",
    "print(f\"Method {method:10s}: reject = {reject}\\n with p-values = {b_list}\\n\")\n",
    "\n",
    "method='fdr_bh'\n",
    "reject, fdr_list, _, _ = multipletests(pvals=pvals_walds, alpha=alpha, method=method, returnsorted=True)    \n",
    "print(f\"Method {method:10s}: reject = {reject}\\n with p-values = {fdr_list}\")"
   ]
  },
  {
   "cell_type": "markdown",
   "metadata": {},
   "source": [
    "### Thus, it approves our corrolary from single Wald's test(only 1st drug not a placebo)"
   ]
  },
  {
   "cell_type": "markdown",
   "metadata": {},
   "source": [
    "### 3)"
   ]
  },
  {
   "cell_type": "code",
   "execution_count": 58,
   "metadata": {},
   "outputs": [],
   "source": [
    "plt.rc('xtick', labelsize=20) \n",
    "plt.rc('ytick', labelsize=20) "
   ]
  },
  {
   "cell_type": "code",
   "execution_count": 59,
   "metadata": {},
   "outputs": [
    {
     "data": {
      "image/png": "[encoded data removed]",
      "text/plain": [
       "<Figure size 720x720 with 1 Axes>"
      ]
     },
     "metadata": {
      "needs_background": "light"
     },
     "output_type": "display_data"
    }
   ],
   "source": [
    "plt.figure(figsize=(10, 10))\n",
    "\n",
    "m = df1[1:].shape[0]\n",
    "\n",
    "lists = [pvals_walds, b_list, fdr_list]\n",
    "\n",
    "plt.scatter(np.arange(1, 5, 1), lists[0], c='k', s=100, label='wald\\'s p-values')\n",
    "for i, val in zip(range(1, 5), lists[0]):\n",
    "    plt.plot((i, i), (0, val), 'k--')\n",
    "\n",
    "x = np.arange(0, 5, 1)\n",
    "y = alpha * x / m\n",
    "plt.plot(x, y, 'k')\n",
    "\n",
    "y_ticks = [alpha, alpha / m, pvals_walds[0]]\n",
    "y = plt.gca().set_yticks(y_ticks)\n",
    "\n",
    "plt.hlines(y_ticks, color=\"k\", ls=\"--\", xmin=0, xmax=5)\n",
    "\n",
    "labels = plt.gca().get_yticks().tolist()\n",
    "labels = [r'$\\alpha$', r'$\\alpha/ m$', r'$T$']\n",
    "plt.gca().set_yticklabels(labels)\n",
    "\n",
    "plt.ylim(0, alpha + 1e-2)\n",
    "plt.xlim(0, 5)\n",
    "plt.legend(prop={\"size\":16})\n",
    "plt.show()"
   ]
  },
  {
   "cell_type": "markdown",
   "metadata": {},
   "source": [
    "### Task 2: permutation test"
   ]
  },
  {
   "cell_type": "code",
   "execution_count": 60,
   "metadata": {},
   "outputs": [
    {
     "data": {
      "text/html": [
       "<div>\n",
       "<style scoped>\n",
       "    .dataframe tbody tr th:only-of-type {\n",
       "        vertical-align: middle;\n",
       "    }\n",
       "\n",
       "    .dataframe tbody tr th {\n",
       "        vertical-align: top;\n",
       "    }\n",
       "\n",
       "    .dataframe thead th {\n",
       "        text-align: right;\n",
       "    }\n",
       "</style>\n",
       "<table border=\"1\" class=\"dataframe\">\n",
       "  <thead>\n",
       "    <tr style=\"text-align: right;\">\n",
       "      <th></th>\n",
       "      <th>person</th>\n",
       "      <th>left</th>\n",
       "      <th>right</th>\n",
       "    </tr>\n",
       "  </thead>\n",
       "  <tbody>\n",
       "    <tr>\n",
       "      <th>0</th>\n",
       "      <td>A</td>\n",
       "      <td>17.5</td>\n",
       "      <td>17.6</td>\n",
       "    </tr>\n",
       "    <tr>\n",
       "      <th>1</th>\n",
       "      <td>B</td>\n",
       "      <td>18.4</td>\n",
       "      <td>18.5</td>\n",
       "    </tr>\n",
       "    <tr>\n",
       "      <th>2</th>\n",
       "      <td>C</td>\n",
       "      <td>16.2</td>\n",
       "      <td>15.9</td>\n",
       "    </tr>\n",
       "    <tr>\n",
       "      <th>3</th>\n",
       "      <td>D</td>\n",
       "      <td>14.5</td>\n",
       "      <td>14.9</td>\n",
       "    </tr>\n",
       "    <tr>\n",
       "      <th>4</th>\n",
       "      <td>E</td>\n",
       "      <td>13.5</td>\n",
       "      <td>13.7</td>\n",
       "    </tr>\n",
       "  </tbody>\n",
       "</table>\n",
       "</div>"
      ],
      "text/plain": [
       "  person  left  right\n",
       "0      A  17.5   17.6\n",
       "1      B  18.4   18.5\n",
       "2      C  16.2   15.9\n",
       "3      D  14.5   14.9\n",
       "4      E  13.5   13.7"
      ]
     },
     "execution_count": 60,
     "metadata": {},
     "output_type": "execute_result"
    }
   ],
   "source": [
    "df2 = pd.DataFrame({'person': ['A', 'B', 'C', 'D', 'E', 'F', 'G', 'H', 'I', 'J', 'K', 'L', 'M', 'N', 'O', 'P'], \n",
    "                    'left': [17.5, 18.4, 16.2, 14.5, 13.5, 18.9, 19.5, 21.1, 17.8, 16.8, 18.4, 17.3, 18.9, 16.4, 17.5, 15], \n",
    "                    'right': [17.6, 18.5, 15.9, 14.9, 13.7, 18.9, 19.5, 21.5, 18.5, 17.1, 18.9, 17.5, 19.5, 16.5, 17.4, 15.6]})\n",
    "df2.head()"
   ]
  },
  {
   "cell_type": "markdown",
   "metadata": {},
   "source": [
    "We are interested in comparing the length of left hands and rights from 16 individuals. \n",
    "\n",
    "1. Compare histograms for left and right hands length (0.5 points)\n",
    "2. Calculate independent samples permutation test (2 points)\n",
    "3. Draw scatter plot for left and right hands length (0.5 points)\n",
    "4. Calculate paires permutation test (2 points)\n",
    "5. Which test performs better in this case? Why? (1 point)"
   ]
  },
  {
   "cell_type": "code",
   "execution_count": 61,
   "metadata": {},
   "outputs": [],
   "source": [
    "x = df2['left']\n",
    "y = df2['right']"
   ]
  },
  {
   "cell_type": "markdown",
   "metadata": {},
   "source": [
    "### 1)"
   ]
  },
  {
   "cell_type": "code",
   "execution_count": 62,
   "metadata": {},
   "outputs": [],
   "source": [
    "plt.rcParams.update({'font.size': 16})"
   ]
  },
  {
   "cell_type": "code",
   "execution_count": 63,
   "metadata": {},
   "outputs": [
    {
     "data": {
      "image/png": "[encoded data removed]",
      "text/plain": [
       "<Figure size 576x576 with 2 Axes>"
      ]
     },
     "metadata": {
      "needs_background": "light"
     },
     "output_type": "display_data"
    }
   ],
   "source": [
    "_, ax = plt.subplots(nrows=2, ncols=1, figsize=(8, 8), sharex=True)\n",
    "\n",
    "vals, counts = np.unique(x, return_counts=True)\n",
    "ax[0].bar(x=vals, height=counts, color='blue')\n",
    "ax[0].set_title('Left')\n",
    "ax[0].set_xlabel('Value')\n",
    "ax[0].set_ylabel('Frequency')\n",
    "\n",
    "vals, counts = np.unique(y, return_counts=True)\n",
    "ax[1].bar(x=vals, height=counts, color='orange')\n",
    "ax[1].set_title('Right')\n",
    "ax[1].set_xlabel('Value')\n",
    "ax[1].set_ylabel('Frequency')\n",
    "\n",
    "plt.tight_layout()\n",
    "\n",
    "plt.show()"
   ]
  },
  {
   "cell_type": "markdown",
   "metadata": {},
   "source": [
    "### 2)"
   ]
  },
  {
   "cell_type": "code",
   "execution_count": 64,
   "metadata": {},
   "outputs": [
    {
     "data": {
      "text/plain": [
       "'Got statistic = -0.343 with p-value = 0.734'"
      ]
     },
     "execution_count": 64,
     "metadata": {},
     "output_type": "execute_result"
    }
   ],
   "source": [
    "statistic, pvalue = sps.ttest_ind(x, y)\n",
    "f\"Got statistic = {statistic:.3f} with p-value = {pvalue:.3f}\""
   ]
  },
  {
   "cell_type": "markdown",
   "metadata": {},
   "source": [
    "### 3)"
   ]
  },
  {
   "cell_type": "code",
   "execution_count": 77,
   "metadata": {},
   "outputs": [
    {
     "data": {
      "image/png": "[encoded data removed]",
      "text/plain": [
       "<Figure size 1080x576 with 1 Axes>"
      ]
     },
     "metadata": {
      "needs_background": "light"
     },
     "output_type": "display_data"
    }
   ],
   "source": [
    "plt.figure(figsize=(15, 8))\n",
    "\n",
    "plt.scatter(df2.index, y, c='orange', label='right hands')\n",
    "plt.scatter(df2.index, x, c='blue', label='left hands')\n",
    "\n",
    "plt.title('Left hands')\n",
    "plt.xlabel('Index')\n",
    "plt.ylabel('Length')\n",
    "\n",
    "plt.legend()\n",
    "plt.show()"
   ]
  },
  {
   "cell_type": "code",
   "execution_count": 78,
   "metadata": {},
   "outputs": [
    {
     "data": {
      "text/plain": [
       "16"
      ]
     },
     "execution_count": 78,
     "metadata": {},
     "output_type": "execute_result"
    }
   ],
   "source": [
    "bound = x.shape[0]\n",
    "bound"
   ]
  },
  {
   "cell_type": "code",
   "execution_count": 79,
   "metadata": {},
   "outputs": [],
   "source": [
    "from numpy.random import choice"
   ]
  },
  {
   "cell_type": "code",
   "execution_count": 97,
   "metadata": {},
   "outputs": [
    {
     "data": {
      "text/plain": [
       "0.001"
      ]
     },
     "execution_count": 97,
     "metadata": {},
     "output_type": "execute_result"
    }
   ],
   "source": [
    "n_runs = 1000\n",
    "\n",
    "t_obs = np.abs(x.mean() - y.mean())\n",
    "\n",
    "indicator_cnt = 0.\n",
    "\n",
    "for _ in range(n_runs):\n",
    "    \n",
    "    x_temp, y_temp = np.array(x), np.array(y)\n",
    "    \n",
    "    for i, _ in enumerate(x_temp):\n",
    "        if choice([0, 1]) == 1:\n",
    "            x_temp[i], y_temp[i] = y_temp[i], x_temp[i]\n",
    "    \n",
    "    t = np.abs(x_temp.mean() - y_temp.mean())\n",
    "    \n",
    "    if t > t_obs:\n",
    "        indicator_cnt += 1.\n",
    "\n",
    "p_val = indicator_cnt / n_runs\n",
    "p_val"
   ]
  },
  {
   "cell_type": "markdown",
   "metadata": {},
   "source": [
    "### 5)"
   ]
  },
  {
   "cell_type": "code",
   "execution_count": 98,
   "metadata": {},
   "outputs": [
    {
     "name": "stdout",
     "output_type": "stream",
     "text": [
      "IPT: 0.734 vs PPT: 0.001\n"
     ]
    }
   ],
   "source": [
    "print(f'IPT: {pvalue:.3f} vs PPT: {p_val:.3f}')"
   ]
  },
  {
   "cell_type": "markdown",
   "metadata": {},
   "source": [
    "#### According to PPT we have to reject $H_0$"
   ]
  },
  {
   "cell_type": "markdown",
   "metadata": {},
   "source": [
    "### Both p-values do not allow us to reject the $H_0$, if considered level of significance is $\\alpha = 0.05$"
   ]
  },
  {
   "cell_type": "markdown",
   "metadata": {},
   "source": [
    "### Task 3: computational approach to hypothesis testing"
   ]
  },
  {
   "cell_type": "markdown",
   "metadata": {},
   "source": [
    "Recommended reading: http://allendowney.blogspot.com/2016/06/there-is-still-only-one-test.html"
   ]
  },
  {
   "cell_type": "markdown",
   "metadata": {},
   "source": [
    "Consider the following dataset (service hours between failures of the air-conditioning equipment in a Boeing 720 jet aircraft , Proschan, 1963):"
   ]
  },
  {
   "cell_type": "code",
   "execution_count": 174,
   "metadata": {},
   "outputs": [],
   "source": [
    "Y = np.array([3, 5, 7, 18, 43, 85, 91, 98, 100, 130, 230, 487])"
   ]
  },
  {
   "cell_type": "markdown",
   "metadata": {},
   "source": [
    "This sample was sorted for easier presentation."
   ]
  },
  {
   "cell_type": "markdown",
   "metadata": {},
   "source": [
    "1. Compute an estimate of the median time between failures (1 point)\n",
    "2. Consider the null hypothesis $H_0$ to be: \"median time between failures is one week\" (1 point)\n",
    "3. What family of distributions will you choose for this kind of data under $H_0$? (1 point)\n",
    "4. Choose a test statistic to measure the deviation from $H_0$ (1 point)\n",
    "5. Check whether you can reject $H_0$ at significance level 5% and calculate the corresponding approximate $p$-value. Use 10,000 simulations for your experiment (1 point)\n",
    "6. Plot histogram of the simulated values of the test statistic and mark the observed value and threshold that you obtained (1 bouns point)"
   ]
  },
  {
   "cell_type": "markdown",
   "metadata": {},
   "source": [
    "### 1)"
   ]
  },
  {
   "cell_type": "code",
   "execution_count": 175,
   "metadata": {},
   "outputs": [
    {
     "data": {
      "text/plain": [
       "88.0"
      ]
     },
     "execution_count": 175,
     "metadata": {},
     "output_type": "execute_result"
    }
   ],
   "source": [
    "median = np.median(Y)\n",
    "median"
   ]
  },
  {
   "cell_type": "markdown",
   "metadata": {},
   "source": [
    "### 2)"
   ]
  },
  {
   "cell_type": "code",
   "execution_count": 176,
   "metadata": {},
   "outputs": [
    {
     "data": {
      "text/plain": [
       "168"
      ]
     },
     "execution_count": 176,
     "metadata": {},
     "output_type": "execute_result"
    }
   ],
   "source": [
    "hypothesis_median = 7 * 24 \n",
    "hypothesis_median"
   ]
  },
  {
   "cell_type": "markdown",
   "metadata": {},
   "source": [
    "### 3)"
   ]
  },
  {
   "cell_type": "code",
   "execution_count": 177,
   "metadata": {},
   "outputs": [
    {
     "data": {
      "image/png": "[encoded data removed]",
      "text/plain": [
       "<Figure size 360x360 with 1 Axes>"
      ]
     },
     "metadata": {
      "needs_background": "light"
     },
     "output_type": "display_data"
    }
   ],
   "source": [
    "plt.figure(figsize=(5, 5))\n",
    "\n",
    "plt.scatter(range(Y.shape[0]), Y)\n",
    "\n",
    "plt.title('Left')\n",
    "plt.xlabel('Value')\n",
    "plt.ylabel('Frequency')\n",
    "\n",
    "plt.show()"
   ]
  },
  {
   "cell_type": "markdown",
   "metadata": {},
   "source": [
    "### Looks like $Y$ has exponential distribution"
   ]
  },
  {
   "cell_type": "markdown",
   "metadata": {},
   "source": [
    "### 4)"
   ]
  },
  {
   "cell_type": "markdown",
   "metadata": {},
   "source": [
    "### The Wald test statistic is $W = \\hat{\\delta}$ / $\\hat{se}$\n",
    "\n",
    "Where:\n",
    "\n",
    "$\\hat{\\delta} = \\hat{\\nu_1} - \\hat{\\nu_2}$, where $\\hat{\\nu_1}$ and $\\hat{\\nu_2}$ are the sample medians,\n",
    "\n",
    "$\\hat{se}$ obtained from non-parametric bootstrap."
   ]
  },
  {
   "cell_type": "markdown",
   "metadata": {},
   "source": [
    "### 5)"
   ]
  },
  {
   "cell_type": "markdown",
   "metadata": {},
   "source": [
    "We also will need to obtain median from following ratiо:\n",
    "\n",
    "$median = \\frac{\\ln2}{\\lambda}$,\n",
    "\n",
    "where $\\lambda$ is a parameter of exponential distribution."
   ]
  },
  {
   "cell_type": "code",
   "execution_count": 187,
   "metadata": {},
   "outputs": [
    {
     "data": {
      "text/plain": [
       "False"
      ]
     },
     "execution_count": 187,
     "metadata": {},
     "output_type": "execute_result"
    }
   ],
   "source": [
    "n_simulations = 10000\n",
    "param_lambda = np.log(2) / hypothesis_median\n",
    "\n",
    "t_boot = np.empty(n_simulations)\n",
    "\n",
    "indicator_cnt = 0.\n",
    "\n",
    "for i in range(n_simulations):\n",
    "\n",
    "    sample = sps.expon.rvs(scale=1/param_lambda, size=Y.shape[0])\n",
    "    t_boot[i] = np.median(sample)\n",
    "    \n",
    "std = np.std(t_boot)\n",
    "    \n",
    "w_val = (median - hypothesis_median) / std\n",
    "\n",
    "reject = np.abs(w_val) > sps.norm.ppf(1 - alpha / 2)\n",
    "reject"
   ]
  },
  {
   "cell_type": "code",
   "execution_count": 188,
   "metadata": {},
   "outputs": [
    {
     "data": {
      "text/plain": [
       "-1.1769863487705585"
      ]
     },
     "execution_count": 188,
     "metadata": {},
     "output_type": "execute_result"
    }
   ],
   "source": [
    "w_val"
   ]
  },
  {
   "cell_type": "code",
   "execution_count": 189,
   "metadata": {},
   "outputs": [
    {
     "name": "stdout",
     "output_type": "stream",
     "text": [
      "p-value: 0.23920095497852412\n"
     ]
    }
   ],
   "source": [
    "print('p-value:', 2 * (1 - sps.norm.cdf(abs(w_val))))"
   ]
  },
  {
   "cell_type": "code",
   "execution_count": 240,
   "metadata": {},
   "outputs": [
    {
     "data": {
      "image/png": "[encoded data removed]",
      "text/plain": [
       "<Figure size 1080x720 with 1 Axes>"
      ]
     },
     "metadata": {
      "needs_background": "light"
     },
     "output_type": "display_data"
    }
   ],
   "source": [
    "plt.figure(figsize=(15, 10))\n",
    "\n",
    "plt.hist(t_boot, bins=50, edgecolor='black')\n",
    "plt.title('Median histogram')\n",
    "\n",
    "plt.axvline(np.quantile(t_boot, 0.025), 0, 1, color='C1', label=r'$quantile = 2.5%$', ls='--')\n",
    "plt.axvline(median, 0, 1, color='black', label=\"Estimated median value\", ls='--')\n",
    "\n",
    "plt.xlabel('Frequency')\n",
    "plt.ylabel('Value')\n",
    "\n",
    "plt.legend()\n",
    "plt.grid()\n",
    "plt.show()"
   ]
  },
  {
   "cell_type": "markdown",
   "metadata": {},
   "source": [
    "### Task 4"
   ]
  },
  {
   "cell_type": "markdown",
   "metadata": {},
   "source": [
    "In 1861, 10 essays appeared in the New Orleans Daily Crescent. They\n",
    "were signed “Quintus Curtius Snodgrass” and some people suspected\n",
    "they were actually written by Mark Twain. To investigate this, we will\n",
    "consider the proportion of three letter words found in an author’s work.\n",
    "From eight Twain essays we have:"
   ]
  },
  {
   "cell_type": "code",
   "execution_count": 241,
   "metadata": {},
   "outputs": [],
   "source": [
    "X = np.array([.225, .262, .217, .240, .230, .229, .235, .217])"
   ]
  },
  {
   "cell_type": "markdown",
   "metadata": {},
   "source": [
    "From 10 Snodgrass essays we have:"
   ]
  },
  {
   "cell_type": "code",
   "execution_count": 242,
   "metadata": {},
   "outputs": [],
   "source": [
    "Y = np.array([.209, .205, .196, .210, .202, .207, .224, .223, .220, .201])"
   ]
  },
  {
   "cell_type": "markdown",
   "metadata": {},
   "source": [
    "1. Perform a Wald test for equality of the means. Use the nonparametric plug-in estimator. Report the $p$-value and a 95% confidence\n",
    "interval for the difference of means. What do you conclude? (1.5 points)\n",
    "2. Now use a permutation test to avoid the use of large sample methods.\n",
    "What is your conclusion? (Brinegar (1963)) (1.5 points)\n",
    "3. Assume that samples do indeed come from different populations. Additionally, observed sample means and variaces for the two samples are equal to the true values for the respective population. Estimate the power of the two tests above under two model distributions for the data: Normal and [Beta](https://en.wikipedia.org/wiki/Beta_distribution) (use the same family for both samples) (2 points)"
   ]
  },
  {
   "cell_type": "markdown",
   "metadata": {},
   "source": [
    "### 1)"
   ]
  },
  {
   "cell_type": "code",
   "execution_count": 243,
   "metadata": {},
   "outputs": [],
   "source": [
    "n, m = X.shape[0], Y.shape[0]\n",
    "x_mean, y_mean = X.mean(), Y.mean()\n",
    "\n",
    "std = np.sqrt(np.var(X) / n + np.var(Y) / m)\n",
    "    \n",
    "delta = x_mean - y_mean\n",
    "    \n",
    "w_val = abs(delta / std)"
   ]
  },
  {
   "cell_type": "code",
   "execution_count": 244,
   "metadata": {},
   "outputs": [
    {
     "data": {
      "text/plain": [
       "'Theta 0.022 with normal-based confidence interval (0.011, 0.033)'"
      ]
     },
     "execution_count": 244,
     "metadata": {},
     "output_type": "execute_result"
    }
   ],
   "source": [
    "z = sps.norm.ppf(1 - alpha / 2)\n",
    "\n",
    "(lower, upper) = delta - z * std, delta + z * std\n",
    "f\"Theta {delta:.3f} with normal-based confidence interval ({lower:.3f}, {upper:.3f})\""
   ]
  },
  {
   "cell_type": "markdown",
   "metadata": {},
   "source": [
    "### $0.0$ does not lay in CI"
   ]
  },
  {
   "cell_type": "code",
   "execution_count": 245,
   "metadata": {},
   "outputs": [
    {
     "data": {
      "text/plain": [
       "7.992664956146811e-05"
      ]
     },
     "execution_count": 245,
     "metadata": {},
     "output_type": "execute_result"
    }
   ],
   "source": [
    "pval = 2 * (1 - sps.norm.cdf(w_val))\n",
    "pval"
   ]
  },
  {
   "cell_type": "markdown",
   "metadata": {},
   "source": [
    "### 2)"
   ]
  },
  {
   "cell_type": "code",
   "execution_count": 246,
   "metadata": {},
   "outputs": [
    {
     "data": {
      "text/plain": [
       "'Got statistic = 3.878 with p-value = 0.001'"
      ]
     },
     "execution_count": 246,
     "metadata": {},
     "output_type": "execute_result"
    }
   ],
   "source": [
    "statistic, pvalue = sps.ttest_ind(X, Y)\n",
    "f\"Got statistic = {statistic:.3f} with p-value = {pvalue:.3f}\""
   ]
  },
  {
   "cell_type": "markdown",
   "metadata": {},
   "source": [
    "### We conclude, that it's diffent distribution according to both criteria"
   ]
  },
  {
   "cell_type": "markdown",
   "metadata": {},
   "source": [
    "### 3)"
   ]
  },
  {
   "cell_type": "code",
   "execution_count": null,
   "metadata": {},
   "outputs": [],
   "source": []
  }
 ],
 "metadata": {
  "kernelspec": {
   "display_name": "firstEnv",
   "language": "python",
   "name": "firstenv"
  },
  "language_info": {
   "codemirror_mode": {
    "name": "ipython",
    "version": 3
   },
   "file_extension": ".py",
   "mimetype": "text/x-python",
   "name": "python",
   "nbconvert_exporter": "python",
   "pygments_lexer": "ipython3",
   "version": "3.8.8"
  }
 },
 "nbformat": 4,
 "nbformat_minor": 4
}
