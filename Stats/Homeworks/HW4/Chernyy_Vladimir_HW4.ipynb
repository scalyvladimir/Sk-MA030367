{
 "cells": [
  {
   "cell_type": "code",
   "execution_count": 1,
   "metadata": {},
   "outputs": [],
   "source": [
    "import numpy as np\n",
    "import scipy\n",
    "import scipy.stats\n",
    "\n",
    "import matplotlib.pyplot as plt\n",
    "\n",
    "%matplotlib inline\n",
    "\n",
    "from tqdm import tqdm"
   ]
  },
  {
   "cell_type": "code",
   "execution_count": 2,
   "metadata": {},
   "outputs": [],
   "source": [
    "plt.rcParams.update({'font.size': 18})"
   ]
  },
  {
   "cell_type": "markdown",
   "metadata": {},
   "source": [
    "## Task 1: Bayesian inference with MCMC"
   ]
  },
  {
   "cell_type": "markdown",
   "metadata": {},
   "source": [
    "We will consider a simple case of Bayesian inference for the unknown mean parameter of a Normal distribution. A series of values $\\boldsymbol{X}^{(n)} = X_1, X_2, \\dots X_n$ is sampled **independently** from a Normal distribution and we know its variance in advance, but are unsure about the mean. We assign a prior distribution to this unknown mean and would like to infer its posterior. We are also interested in predicting future observations $X$, so we would like to obtain its posterior predictive distribution as well.\n",
    "$$\\mu \\sim \\mathcal{N}(\\mu_0, \\sigma_0^2)$$\n",
    "$$X_i | \\mu \\sim \\mathcal{N}(\\mu, \\sigma^2), \\; i=1 \\dots n.$$"
   ]
  },
  {
   "cell_type": "code",
   "execution_count": 3,
   "metadata": {},
   "outputs": [],
   "source": [
    "np.random.seed(31337)\n",
    "\n",
    "true_mu = 3.0\n",
    "true_std = 0.3\n",
    "N = 20\n",
    "\n",
    "prior_mu = 0.\n",
    "prior_std = 1.\n",
    "\n",
    "X = np.random.normal(true_mu, true_std, N)"
   ]
  },
  {
   "cell_type": "markdown",
   "metadata": {},
   "source": [
    "### Task 1.1: implement analytical posterior (1 point)"
   ]
  },
  {
   "cell_type": "markdown",
   "metadata": {},
   "source": [
    "$$p(\\mu | \\boldsymbol{X}^{(n)}) = \\frac{p(\\boldsymbol{X}^{(n)} | \\mu) p(\\mu)}{p(\\boldsymbol{X}^{(n)})}, \\label{eq1} \\tag{1}$$\n",
    "$$p(\\boldsymbol{X}^{(n)}) = \\int p(\\boldsymbol{X}^{(n)}, \\mu) d\\mu$$\n",
    "For our simple case it is actually possible to derive the exact posterior distibution of the mean analytically. Posterior distiribution of $\\mu$ will also be Normal, but with different parameters that will depend on the observed sample and prior parameters. Refer to https://en.wikipedia.org/wiki/Conjugate_prior for the exact formulas and implement them in the following function:"
   ]
  },
  {
   "cell_type": "code",
   "execution_count": 4,
   "metadata": {},
   "outputs": [],
   "source": [
    "def analytical_posterior_pdf(x, samples, sigma, mu_0, sigma_0):\n",
    "    \"\"\"\n",
    "    Probability density of the analytical posterior for the Normal model with known variance\n",
    "    \n",
    "    :param x: point(s) where to evaluate the density\n",
    "    :param samples: observed samples\n",
    "    :param sigma: known standard deviation of the observations\n",
    "    :param mu_0: mean of the prior\n",
    "    :param sigma_0: standard deviation of the prior\n",
    "    :return: p(mu | samples)(x)\n",
    "    \"\"\"\n",
    "    \n",
    "    sigma_p = 1 / (1 / (sigma_0**2) + samples.shape[0] / (sigma**2))\n",
    "    \n",
    "    mu_p = sigma_p * (mu_0 / (sigma_0**2) + samples.sum() / (sigma**2))     \n",
    "    \n",
    "    return scipy.stats.norm(mu_p, np.sqrt(sigma_p)).pdf(x)\n"
   ]
  },
  {
   "cell_type": "markdown",
   "metadata": {},
   "source": [
    "Plot the resulting analytical posterior for the given observed sample, standard deviation of $X_i$ and prior parameters."
   ]
  },
  {
   "cell_type": "code",
   "execution_count": 5,
   "metadata": {},
   "outputs": [],
   "source": [
    "x = np.linspace(X.min(), X.max(), 1000)"
   ]
  },
  {
   "cell_type": "code",
   "execution_count": 6,
   "metadata": {},
   "outputs": [],
   "source": [
    "pdf_post = analytical_posterior_pdf(x, X, true_std, prior_mu, prior_std)"
   ]
  },
  {
   "cell_type": "code",
   "execution_count": 7,
   "metadata": {},
   "outputs": [
    {
     "data": {
      "image/png": "[encoded data removed]",
      "text/plain": [
       "<Figure size 936x504 with 1 Axes>"
      ]
     },
     "metadata": {
      "needs_background": "light"
     },
     "output_type": "display_data"
    }
   ],
   "source": [
    "plt.figure(figsize=(13, 7))\n",
    "\n",
    "plt.plot(x, pdf_post)\n",
    "\n",
    "plt.title('Analytical posterior')\n",
    "plt.xlabel('x')\n",
    "plt.ylabel(r'$p(\\mu|X^{(n)})$')\n",
    "plt.grid()\n",
    "plt.show()"
   ]
  },
  {
   "cell_type": "markdown",
   "metadata": {},
   "source": [
    "### Task 1.2: Metropilis-Hastings algorithm (2 points)"
   ]
  },
  {
   "cell_type": "markdown",
   "metadata": {},
   "source": [
    "In more complex models it is usually infeasible to derive the exact formula for the posterior density. In the equation (1), the numerator contains easy to evaluate terms: prior and likelihood, while the denominator is rather hard to find. This means that we know our posterior only up to a constant multiplicative term. We will have to resort to approximations. Previously in the course we have studied methods to estimate the unknown density from samples. If we could sample from this unknown posterior, we might be able to approximate it using a histogram or a kernel method.\n",
    "\n",
    "This is precisely the goal of MCMC methods. We will construct a Markov chain that will eventually produce samples from our distribution of interest - the posterior.\n"
   ]
  },
  {
   "cell_type": "markdown",
   "metadata": {},
   "source": [
    "Markov chain is a sequence of random variables $Y_1, Y_2, \\dots$ with the following property:\n",
    "$$p(Y_k | Y_{k-1}, Y_{k-2}, \\dots, Y_2, Y_1) = p(Y_k | Y_{k-1}),$$\n",
    "wich means that subsequent values ($Y_k$) do not depend on the whole history of the sequence if the previous value ($Y_{k-1}$) is given."
   ]
  },
  {
   "cell_type": "markdown",
   "metadata": {},
   "source": [
    "We want to start with our chain from the prior distribution $Y_1 \\sim p(\\mu)$ and eventually converge to the posterior $Y_k \\sim p(\\mu | \\boldsymbol{X}^{(n)})$. In order to achieve this, we need to define the transition probabilities $p(Y_k | Y_{k-1})$ in a special way. Intuitevely, it will depend on the prior and posterior in some way and there may be different possibilities."
   ]
  },
  {
   "cell_type": "markdown",
   "metadata": {},
   "source": [
    "We will describe one way to do it, namely Metropilis-Hastings algorithm with a random walk proposal. It was introduced in lecture 10, slides 19-22. We will use it to draw a sequence of samples from a special markov chain that satisfies our requirements.\n",
    "\n",
    "Let $T$ be the number of steps we decided to take from the chan. For our example model and using our notation the algorithm outilines as follows:\n",
    "\n",
    "1. Start by sampling $Y_1$ from the prior $p(\\mu)$\n",
    "2. Repeat for each $k$ from 1 to T:\n",
    "3. Construct the next sample $Y_{k+1}$ given the previous sampled value $Y_k$:\n",
    "4. $Y_{k+1} = Y_{k} + Z_{k+1}$, where $Z_{k+1} \\sim \\mathcal{N}(0, \\sigma_{step}^2)$ (we take a sample)\n",
    "5. We need to decide whether to make the transition $Y_k \\rightarrow Y_{k+1}$ (accept or reject our *proposed* new value $Y_{k+1}$):\n",
    "6. Accept the new sample with probability $\\min \\left\\{1, \\frac{p(\\boldsymbol{X}^{(n)} | \\mu = Y_{k+1}) p(\\mu = Y_{k+1})}{p(\\boldsymbol{X}^{(n)} | \\mu = Y_{k}) p(\\mu = Y_{k})}\\right\\}$, otherwise let $Y_{k+1} = Y_k$"
   ]
  },
  {
   "cell_type": "markdown",
   "metadata": {},
   "source": [
    "Notice that our acceptance probability equals the ratio of the **posterior** probabilities: $\\frac{p(\\mu=Y_{k+1} | \\boldsymbol{X}^{(n)})}{p(\\mu=Y_k | \\boldsymbol{X}^{(n)})}$, since the denominator in formula (1) does not depend on $\\mu$. This allows us to skip the hard part of taking the integral. \n",
    "\n",
    "Your task is to implement these steps, including the calculation of the acceptance probability, and run the chain. Numpy array `Y` should contain one MCMC trajectory that you have obtained as the result.\n",
    "\n",
    "*You may need to tune the $\\sigma_{step}$ parameter."
   ]
  },
  {
   "cell_type": "code",
   "execution_count": 8,
   "metadata": {},
   "outputs": [],
   "source": [
    "def acceptance_prob(y_new, y_old, samples, sigma, mu_0, sigma_0):\n",
    "    \"\"\"\n",
    "    Calculate acceptance probability in Metropilis-Hastings step for the Normal model with known variance\n",
    "    :param y_new: proposed value (corresponds to Y_{k+1})\n",
    "    :param y_old: previous value (corresponds to Y_k)\n",
    "    :param samples: observed data (X^(n))\n",
    "    :param sigma: known standard deviation of the observations\n",
    "    :param mu_0: mean of the prior\n",
    "    :param sigma_0: standard deviation of the prior\n",
    "    :return: p, acceptance probability\n",
    "    \"\"\"\n",
    "    \n",
    "    new_post = analytical_posterior_pdf(y_new, samples, sigma, mu_0, sigma_0)\n",
    "    old_post = analytical_posterior_pdf(y_old, samples, sigma, mu_0, sigma_0)\n",
    "    \n",
    "    r = new_post / old_post\n",
    "    \n",
    "    p = min(1, r)\n",
    "    return p"
   ]
  },
  {
   "cell_type": "code",
   "execution_count": 9,
   "metadata": {},
   "outputs": [
    {
     "name": "stderr",
     "output_type": "stream",
     "text": [
      "100%|██████████| 1999/1999 [00:01<00:00, 1625.32it/s]\n"
     ]
    }
   ],
   "source": [
    "T = 2000\n",
    "\n",
    "sigma_step = 0.35\n",
    "\n",
    "Y = np.empty(T)\n",
    "sliding_avg = np.empty(T)\n",
    "\n",
    "Y[0] = np.random.normal(prior_mu, prior_std)\n",
    "\n",
    "num_accepted = 0\n",
    "for i in tqdm(range(1, T)):\n",
    "    Z = np.random.normal(0, sigma_step)\n",
    "    Y_next = Y[i-1] + Z\n",
    "    \n",
    "    if np.random.rand() < acceptance_prob(Y_next, Y[i-1], X, true_std, prior_mu, prior_std):\n",
    "        Y[i] = Y_next\n",
    "        num_accepted += 1\n",
    "    else:\n",
    "        Y[i] = Y[i-1]\n",
    "        \n",
    "    sliding_avg[i] = num_accepted / (i + 1)"
   ]
  },
  {
   "cell_type": "markdown",
   "metadata": {},
   "source": [
    "### Task 1.3: Visualize the results (1 point)\n",
    "We have obtained a single trajectory of our Markov chain. The starting portion the obtained values may be different from the samples of the actual posterior. After the so-called 'burn-in' or 'warmup' phase the distribution should become stationary and converge to the true posterior. Time spent before this convergence occurs is usually called *mixing time*, and it is hard to estimate in practical situations.\n",
    "\n",
    "1. Plot your trajectory using line chart: x-axis will be the timestep number and y-axis the sampled value\n",
    "\n",
    "2. Plot the acceptance probability: how many proposed steps were accepted on average at given timestep (use sliding window or exponential moving average). Does it change over time? (You may need to save additional info during sampling in the previous part)\n",
    "\n",
    "3. When do you think the 'mixing' occured? (Approximately)"
   ]
  },
  {
   "cell_type": "code",
   "execution_count": 10,
   "metadata": {},
   "outputs": [
    {
     "data": {
      "image/png": "[encoded data removed]",
      "text/plain": [
       "<Figure size 936x504 with 1 Axes>"
      ]
     },
     "metadata": {
      "needs_background": "light"
     },
     "output_type": "display_data"
    }
   ],
   "source": [
    "plt.figure(figsize=(13, 7))\n",
    "\n",
    "plt.plot(Y)\n",
    "\n",
    "plt.axhline(true_mu, c='r', linestyle='--', alpha=0.8, label=r'$\\mu_{true}=$'f'{true_mu}')\n",
    "\n",
    "plt.title('MCMC Trajectory')\n",
    "plt.xlabel('timestеp')\n",
    "plt.ylabel(r'$Y_k$')\n",
    "plt.ylim(-3, 4)\n",
    "\n",
    "plt.legend(loc='right')\n",
    "plt.grid()\n",
    "plt.show()"
   ]
  },
  {
   "cell_type": "code",
   "execution_count": 11,
   "metadata": {},
   "outputs": [
    {
     "data": {
      "image/png": "[encoded data removed]",
      "text/plain": [
       "<Figure size 936x504 with 1 Axes>"
      ]
     },
     "metadata": {
      "needs_background": "light"
     },
     "output_type": "display_data"
    }
   ],
   "source": [
    "plt.figure(figsize=(13, 7))\n",
    "\n",
    "plt.plot(sliding_avg)\n",
    "\n",
    "plt.axhline(0.25, c='r', linestyle='--', alpha=0.8, label=r'$P=\\frac{1}{4}$')\n",
    "\n",
    "plt.title('Acceptance_prob')\n",
    "plt.xlabel('timestеp')\n",
    "\n",
    "plt.legend(loc='right')\n",
    "plt.grid()\n",
    "plt.show()"
   ]
  },
  {
   "cell_type": "markdown",
   "metadata": {},
   "source": [
    "According to this [paper](https://projecteuclid.org/journals/annals-of-applied-probability/volume-7/issue-1/Weak-convergence-and-optimal-scaling-of-random-walk-Metropolis-algorithms/10.1214/aoap/1034625254.full), the fastest convergence speed  and consequently lowest $\\textit{mixing time}$ could be achieved, when acceptance probability roughly converges to $\\frac{1}{4}$."
   ]
  },
  {
   "cell_type": "markdown",
   "metadata": {},
   "source": [
    "### Task 1.4: Approximate posterior (1 points)\n",
    "\n",
    "Now we have determined the part of our trajectory that converged to our target distribution (you can use your guess from the previous task or just designate first half the trajectory for mixing). We will work with the remaing part to approximate the posterior.\n",
    "\n",
    "1. Plot the histogram and kernel density estimator of the posterior using the samples from your MCMC run\n",
    "2. Unfortunately, the samples that we obtained are not independent: due to the nature of our proposal step they are correlated. We can try to aleviate this effect by dropping some of the samples. Use only every 3rd (or 4th, 5th) obtained sample from the chain and display the corresponding distribution estimate on the same plot. Is it different?\n",
    "3. Add theoretical posterior from part 1 to the same plot. Is it close to our estimate(s)?"
   ]
  },
  {
   "cell_type": "code",
   "execution_count": 12,
   "metadata": {},
   "outputs": [],
   "source": [
    "from sklearn.neighbors import KernelDensity"
   ]
  },
  {
   "cell_type": "code",
   "execution_count": 13,
   "metadata": {},
   "outputs": [],
   "source": [
    "def cross_validation_histogram(sample, h):\n",
    "    n = len(sample)\n",
    "    sample_min, sample_max = np.min(sample), np.max(sample)\n",
    "    bins = int((sample_max - sample_min) / h)\n",
    "    summ = 0\n",
    "    deltas = [[sample_min + (i - 1) * h, sample_min + i * h] for i in range(1, bins+1)]\n",
    "    for l, r in deltas:\n",
    "        nu = np.sum([1 if l <= v <= r else 0 for v in sample])\n",
    "        summ += (nu / n)**2\n",
    "    \n",
    "    return 2 / ((n - 1) * h) - (n + 1) / ((n - 1) * h) * summ"
   ]
  },
  {
   "cell_type": "code",
   "execution_count": 14,
   "metadata": {},
   "outputs": [],
   "source": [
    "mid_id = int(Y.shape[0] / 2)\n",
    "hist_samples = Y[mid_id:]"
   ]
  },
  {
   "cell_type": "code",
   "execution_count": 15,
   "metadata": {},
   "outputs": [],
   "source": [
    "filtered_samples = [x for i, x in enumerate(hist_samples) if i % 5 == 0]"
   ]
  },
  {
   "cell_type": "code",
   "execution_count": 16,
   "metadata": {},
   "outputs": [],
   "source": [
    "h_list = np.logspace(-2, 1, 100)"
   ]
  },
  {
   "cell_type": "code",
   "execution_count": 17,
   "metadata": {},
   "outputs": [],
   "source": [
    "cv_hist = [cross_validation_histogram(hist_samples, hi) for hi in h_list]\n",
    "f_cv_hist = [cross_validation_histogram(filtered_samples, hi) for hi in h_list]"
   ]
  },
  {
   "cell_type": "code",
   "execution_count": 18,
   "metadata": {},
   "outputs": [],
   "source": [
    "h_cv = h_list[np.argmin(cv_hist)]\n",
    "h_cv_f = h_list[np.argmin(f_cv_hist)]"
   ]
  },
  {
   "cell_type": "code",
   "execution_count": 19,
   "metadata": {},
   "outputs": [],
   "source": [
    "def cross_validation_kernel(sample, h, K, K_conv):\n",
    "    n = len(sample)\n",
    "    sample_min, sample_max = np.min(sample), np.max(sample)\n",
    "    \n",
    "    summ = 0\n",
    "    for i in tqdm(range(sample.shape[0])):\n",
    "        for j in range(sample.shape[0]):\n",
    "            arg = (sample[i] - sample[j]) / h\n",
    "            summ += K_conv(arg) - 2 * K(arg)\n",
    "    \n",
    "    return 1 / (h * n**2) * summ + 2 * K(0) / (n * h)"
   ]
  },
  {
   "cell_type": "code",
   "execution_count": 20,
   "metadata": {},
   "outputs": [],
   "source": [
    "def gaussian_kernel(x):\n",
    "    return 1 / np.sqrt(2 * np.pi) * np.exp(-x**2 / 2)\n",
    "\n",
    "def gaussian_kernel_conv(x):\n",
    "    return 1 / (2 * np.pi) * np.exp(-x**2 / 4)"
   ]
  },
  {
   "cell_type": "code",
   "execution_count": 21,
   "metadata": {},
   "outputs": [
    {
     "name": "stderr",
     "output_type": "stream",
     "text": [
      "100%|██████████| 1000/1000 [00:02<00:00, 410.26it/s]\n",
      "100%|██████████| 1000/1000 [00:02<00:00, 403.96it/s]\n",
      "100%|██████████| 1000/1000 [00:02<00:00, 409.50it/s]\n",
      "100%|██████████| 1000/1000 [00:02<00:00, 415.63it/s]\n",
      "100%|██████████| 1000/1000 [00:02<00:00, 415.51it/s]\n",
      "100%|██████████| 1000/1000 [00:02<00:00, 414.05it/s]\n",
      "100%|██████████| 1000/1000 [00:02<00:00, 412.99it/s]\n",
      "100%|██████████| 1000/1000 [00:02<00:00, 415.17it/s]\n",
      "100%|██████████| 1000/1000 [00:02<00:00, 411.26it/s]\n",
      "100%|██████████| 1000/1000 [00:02<00:00, 412.96it/s]\n"
     ]
    }
   ],
   "source": [
    "h_list = np.logspace(-1, 1, 10)\n",
    "cv_hist = [cross_validation_kernel(hist_samples, hi, gaussian_kernel, gaussian_kernel_conv) for hi in h_list]"
   ]
  },
  {
   "cell_type": "code",
   "execution_count": 22,
   "metadata": {},
   "outputs": [],
   "source": [
    "h_kernel_cv = h_list[np.argmin(cv_hist)]"
   ]
  },
  {
   "cell_type": "code",
   "execution_count": 23,
   "metadata": {},
   "outputs": [
    {
     "data": {
      "image/png": "[encoded data removed]",
      "text/plain": [
       "<Figure size 936x504 with 1 Axes>"
      ]
     },
     "metadata": {
      "needs_background": "light"
     },
     "output_type": "display_data"
    }
   ],
   "source": [
    "plt.figure(figsize=(13, 7))\n",
    "\n",
    "sample_min, sample_max = np.min(filtered_samples), np.max(filtered_samples)\n",
    "bins = int((sample_max - sample_min) / h_cv_f)\n",
    "\n",
    "plt.hist(filtered_samples, bins=bins, edgecolor='black', alpha=0.5, label='every 5th histogram', density=True, color='blue')\n",
    "\n",
    "sample_min, sample_max = np.min(hist_samples), np.max(hist_samples)\n",
    "bins = int((sample_max - sample_min) / h_cv)\n",
    "\n",
    "plt.hist(hist_samples, bins=bins, edgecolor='black', alpha=0.6, label='histogram', density=True, color='orange')\n",
    "\n",
    "plt.plot(x, pdf_post, 'k--', label='analytical posterior')\n",
    "\n",
    "grid = np.linspace(X.min(), X.max(), X.shape[0])\n",
    "density = KernelDensity(kernel=\"gaussian\", bandwidth=h_kernel_cv).fit(hist_samples[:, None])\n",
    "plt.plot(grid, np.exp(density.score_samples(grid[:, None])), label='gaussian KDE', color='red')\n",
    "\n",
    "plt.title(r'$p$, density')\n",
    "plt.xlabel('x')\n",
    "\n",
    "plt.legend()\n",
    "plt.grid()\n",
    "plt.show()"
   ]
  },
  {
   "cell_type": "markdown",
   "metadata": {},
   "source": [
    "### Task 1.5: Posterior predictive distribution (1 bonus point)\n",
    "\n",
    "Now that we have obtained the estimate of the posterior, we can turn to a more practical task: predicting new values $X_{n+1}$. To do it in a Bayesian fashion, we employ posterior predictive distribution:\n",
    "$$p(X_{n+1} | \\boldsymbol{X}^{(n)}) = \\int p(X_{n+1}, \\mu | \\boldsymbol{X}^{(n)}) d \\mu = \\int p(X_{n+1} | \\mu, \\boldsymbol{X}^{(n)}) p(\\mu | \\boldsymbol{X}^{(n)})d \\mu = \\int p(X_{n+1} | \\mu) p(\\mu | \\boldsymbol{X}^{(n)})d \\mu$$\n",
    "\n",
    "Similar to part 1, for our simple model this distribution can also be derived analyticaly and is described on the same Wiki page.\n",
    "\n",
    "1. Implement analytical posterior predictive distribution for our model and plot it\n",
    "2. Using decorrelated samples from the posterior, obtained in the previous part, approximate the posterior predictive distribution (with histogram or KDE) and add it to the plot. Is it close to the analytical result?"
   ]
  },
  {
   "cell_type": "markdown",
   "metadata": {
    "colab_type": "text",
    "id": "lWSj-xmfGjPK"
   },
   "source": [
    "# Task 2. Substitution Cipher and Markov Chain Monte Carlo (MCMC). (5 points)\n",
    "\n",
    "In this task we will decrypt data that was scrambled using a Substitution Cipher. We assume that encryption key is unknown and we want to decrypt the data and read the code using recovered decryption key. [Introduction from here](http://statweb.stanford.edu/~cgates/PERSI/papers/MCMCRev.pdf) gives reference to the original task."
   ]
  },
  {
   "cell_type": "code",
   "execution_count": 24,
   "metadata": {
    "colab": {},
    "colab_type": "code",
    "id": "c-TxsSUSGjPP"
   },
   "outputs": [],
   "source": [
    "import string"
   ]
  },
  {
   "cell_type": "markdown",
   "metadata": {
    "colab_type": "text",
    "id": "lWSj-xmfGjPK"
   },
   "source": [
    "As verification we will take a piece from \"Alice's adventures in Wonderland\". We scramble data with a random encryption key, which we forgot after encrypting, and we would like to decrypt this encrypted text using MCMC Chains."
   ]
  },
  {
   "cell_type": "code",
   "execution_count": 25,
   "metadata": {},
   "outputs": [],
   "source": [
    "plain_text = \"\"\"\n",
    "Alice was beginning to get very tired of sitting by her sister on the bank, and of having nothing to do: once or twice she had peeped into the book her sister was reading, but it had no pictures or conversations in it, 'and what is the use of a book,' thought Alice 'without pictures or conversation?'\n",
    "So she was considering in her own mind (as well as she could, for the hot day made her feel very sleepy and stupid), whether the pleasure of making a daisy-chain would be worth the trouble of getting up and picking the daisies, when suddenly a White Rabbit with pink eyes ran close by her.\n",
    "There was nothing so very remarkable in that; nor did Alice think it so very much out of the way to hear the Rabbit say to itself, 'Oh dear! Oh dear! I shall be late!' (when she thought it over afterwards, it occurred to her that she ought to have wondered at this, but at the time it all seemed quite natural); but when the Rabbit actually took a watch out of its waistcoat-pocket, and looked at it, and then hurried on, Alice started to her feet, for it flashed across her mind that she had never before see a rabbit with either a waistcoat-pocket, or a watch to take out of it, and burning with curiosity, she ran across the field after it, and fortunately was just in time to see it pop down a large rabbit-hole under the hedge.\n",
    "In another moment down went Alice after it, never once considering how in the world she was to get out again.\n",
    "The rabbit-hole went straight on like a tunnel for some way, and then dipped suddenly down, so suddenly that Alice had not a moment to think about stopping herself before she found herself falling down a very deep well.\n",
    "\"\"\""
   ]
  },
  {
   "cell_type": "markdown",
   "metadata": {},
   "source": [
    "We will use 26 letters of English alphabet."
   ]
  },
  {
   "cell_type": "code",
   "execution_count": 26,
   "metadata": {},
   "outputs": [],
   "source": [
    "characters = string.ascii_lowercase\n",
    "characters_dict = {char : c for c, char in enumerate(characters, start=1)}\n",
    "m = len(characters) + 1"
   ]
  },
  {
   "cell_type": "markdown",
   "metadata": {},
   "source": [
    "## Generate random encryption key.\n",
    "\n",
    "Here are functions that will be used to encrypt/decrypt text."
   ]
  },
  {
   "cell_type": "code",
   "execution_count": 27,
   "metadata": {},
   "outputs": [],
   "source": [
    "def encode_text(text_to_encode, characters_dict):\n",
    "    \"\"\"This function turns a text string into an integer sequence using given dictionary.\"\"\"\n",
    "    characters_set = set(characters_dict.keys())\n",
    "    return np.r_[[characters_dict[char] if char in characters_set else 0 for char in text_to_encode.strip().lower()]]\n",
    "\n",
    "def decode_text(text_to_decode, characters):\n",
    "    \"\"\"This function turns an integer sequence into a text string using given list of characters.\"\"\"\n",
    "    characters_array = np.array([\" \"] + list(characters))\n",
    "    return \"\".join(characters_array[text_to_decode])\n",
    "\n",
    "def apply_cipher(text_as_int_array, cipher):\n",
    "    \"This function applies substitution cipher to an integer sequence.\"\n",
    "    return cipher[text_as_int_array]"
   ]
  },
  {
   "cell_type": "markdown",
   "metadata": {},
   "source": [
    "Generate encryption and decryption keys. They are just permutations of the alphabet."
   ]
  },
  {
   "cell_type": "code",
   "execution_count": 28,
   "metadata": {},
   "outputs": [],
   "source": [
    "np.random.seed(1234)\n",
    "\n",
    "encryption_indices = np.random.permutation(np.arange(m-1))\n",
    "decryption_indices = np.argsort(encryption_indices)\n",
    "\n",
    "characters_array = np.array(list(characters))\n",
    "encryption_key = \"\".join(characters_array[encryption_indices])\n",
    "decryption_key = \"\".join(characters_array[decryption_indices])"
   ]
  },
  {
   "cell_type": "markdown",
   "metadata": {},
   "source": [
    "Check encoding/decoding functions and encryption/decryption keys."
   ]
  },
  {
   "cell_type": "code",
   "execution_count": 29,
   "metadata": {},
   "outputs": [
    {
     "data": {
      "text/plain": [
       "'the quick brown fox jumps over the lazy dog'"
      ]
     },
     "execution_count": 29,
     "metadata": {},
     "output_type": "execute_result"
    }
   ],
   "source": [
    "encryption_key_encoded = np.r_[0, encode_text(encryption_key, characters_dict)]\n",
    "decryption_key_encoded = np.r_[0, encode_text(decryption_key, characters_dict)]\n",
    "\n",
    "text = \"The quick brown fox jumps over the lazy dog\"\n",
    "\n",
    "encoded_text = encode_text(text, characters_dict)\n",
    "cipher_text = apply_cipher(encoded_text, encryption_key_encoded)\n",
    "encoded_text = apply_cipher(cipher_text, decryption_key_encoded)\n",
    "decoded_text = decode_text(encoded_text, characters_dict)\n",
    "decoded_text"
   ]
  },
  {
   "cell_type": "markdown",
   "metadata": {},
   "source": [
    "Encrypt cipher text."
   ]
  },
  {
   "cell_type": "code",
   "execution_count": 30,
   "metadata": {},
   "outputs": [],
   "source": [
    "plain_text_encoded = encode_text(plain_text, characters_dict)\n",
    "cipher_text = apply_cipher(plain_text_encoded, encryption_key_encoded)"
   ]
  },
  {
   "cell_type": "markdown",
   "metadata": {},
   "source": [
    "## Collect frequences \n",
    "\n",
    "Collect frequences of two character combinations (bigrams) over large text corpus and from encrypted text. We will store them in a matrix and interpret it as a transition matrix: from the first character to the second."
   ]
  },
  {
   "cell_type": "code",
   "execution_count": 31,
   "metadata": {},
   "outputs": [],
   "source": [
    "def collect_transition_frequences(data, transition_matrix):\n",
    "    \"\"\"For a given integer sequence, which corresponds to some char sequence, \n",
    "       return transitions for adjacent values.\"\"\"\n",
    "    transitions = data.repeat(2)[1:-1].reshape(-1, 2)\n",
    "    for i, j in transitions:\n",
    "        transition_matrix[i, j] += 1\n",
    "    \n",
    "    return transition_matrix\n",
    "\n",
    "def collect_empirical_frequences(filename, characters_dict, m):\n",
    "    \"\"\"Collect frequences over large text corpus, return transition matrix.\"\"\"\n",
    "    transition_matrix = np.zeros((m, m))\n",
    "    with open(filename) as f:\n",
    "        for line in f:\n",
    "            line_encoded = encode_text(line, characters_dict)\n",
    "            if line_encoded.size > 1:\n",
    "                transition_matrix = collect_transition_frequences(line_encoded, transition_matrix)\n",
    "                \n",
    "    return transition_matrix\n",
    "\n",
    "def collect_observed_frequences(cipher_text, characters_dict, m):\n",
    "    \"\"\"Collect frequences over encrypted text, return nonzero indices of \n",
    "       transition matrix for both dimentions and values for those indices.\n",
    "       `values = transition_matrix[indices_1, indices_2]`\"\"\"\n",
    "    transition_matrix = np.zeros((m, m))\n",
    "    transition_matrix = collect_transition_frequences(cipher_text, transition_matrix)\n",
    "    \n",
    "    return transition_matrix"
   ]
  },
  {
   "cell_type": "markdown",
   "metadata": {},
   "source": [
    "Collect frequences."
   ]
  },
  {
   "cell_type": "code",
   "execution_count": 32,
   "metadata": {},
   "outputs": [],
   "source": [
    "empirical_frequences = collect_empirical_frequences('war_and_peace.txt', characters_dict, m)\n",
    "observed_frequences = collect_observed_frequences(cipher_text, characters_dict, m)"
   ]
  },
  {
   "cell_type": "markdown",
   "metadata": {},
   "source": [
    "## General algorithm"
   ]
  },
  {
   "cell_type": "markdown",
   "metadata": {
    "colab_type": "text",
    "id": "yjedc-_xGjPO"
   },
   "source": [
    "Our Chain will include states that are permutations of the substitution cipher. Algorithm has following steps:\n",
    "\n",
    "1. Start by picking up a random current state. \n",
    "2. Create a proposal for a new state by swapping two or more random letters in the current state.\n",
    "3. Use a Scoring Function which calculates the score of the current state $Score_{old}$ and the proposed state $Score_{new}$.\n",
    "4. If the score of the proposed state is more than current state, Move to Proposed State.\n",
    "5. Else flip a coin which has a probability of Heads $\\frac{Score_{new}}{Score_{old}}$  . If it comes heads move to proposed State.\n",
    "6. Repeat from Step 2.\n",
    "\n",
    "We want ot reach a steady state where the chain has the stationary distribution of the needed states. This state of chain could be used as a solution.\n",
    "\n",
    "Let's start with implementing steps 2 and 3."
   ]
  },
  {
   "cell_type": "markdown",
   "metadata": {},
   "source": [
    "## Step 2: Prepare sampling function (2 points)."
   ]
  },
  {
   "cell_type": "markdown",
   "metadata": {
    "colab_type": "text",
    "id": "yjedc-_xGjPO"
   },
   "source": [
    "\n",
    "\n",
    "To generate a new proposed cipher we randomly select several positions and swap values at those positions. It corresponds to change in seveal mappings of encrypted characters in decrypted ones. Example with 2 swaps.\n",
    "\n",
    "was|now\n",
    "-|-\n",
    "A -> B | A -> B\n",
    "B -> C | B -> C\n",
    "C -> D | C -> A\n",
    "D -> A | D -> D"
   ]
  },
  {
   "cell_type": "code",
   "execution_count": 33,
   "metadata": {},
   "outputs": [],
   "source": [
    "def generate_cipher(cipher, m, size=2):\n",
    "    \"\"\"Swap two or more random positions in cipher.\n",
    "        \n",
    "        cipher, np.array - current mapping from value(int) in encrypted text (index of array cell) into value(int) in decrypted text(value of array cell).\n",
    "        m, int - capacity of used alphabet,\n",
    "        size, int - number of positions to change.\n",
    "    \"\"\"\n",
    "    \n",
    "    new_cipher = cipher.copy()\n",
    "    \n",
    "    indexes = np.sort(np.random.choice(np.arange(m), size, False))\n",
    "    perms = indexes.copy()\n",
    "    \n",
    "    np.random.shuffle(perms)\n",
    "    new_cipher[indexes] = new_cipher[perms]\n",
    "    \n",
    "    return new_cipher"
   ]
  },
  {
   "cell_type": "markdown",
   "metadata": {},
   "source": [
    "## Step 3: Prepare scoring function (2 points)."
   ]
  },
  {
   "cell_type": "markdown",
   "metadata": {
    "colab_type": "text",
    "id": "siBVVI9ZGjPP"
   },
   "source": [
    "We want to use a scoring function for each state(Decryption key) which assigns a positive score to each decryption key. This score intuitively should be larger if the encrypted text looks more like actual english, when decrypted using this decryption key. We will check a large text and calculate frequences: how many times one character comes after another in a large text like \"War and Peace\".\n",
    "\n",
    "For each pair of characters $\\beta_1$ and $\\beta_2$ (e.g. $\\beta_1$ = A and $\\beta_2$ = B), we let $R(\\beta_1,\\beta_2)$ record the number of times that specific pair(e.g. \"AB\") appears consecutively in the reference text.\n",
    "\n",
    "Similarly, for a considered decryption key $x$, we let $F_x(\\beta_1,\\beta_2)$ record the number of times that\n",
    "pair appears when the cipher text is decrypted using the decryption key $x$.\n",
    "\n",
    "We then Score a particular decryption key $x$ using:\n",
    "\n",
    "$$Score(x) = \\prod R(\\beta_1,\\beta_2)^{F_x(\\beta_1,\\beta_2)}$$\n",
    "    \n",
    "To make life easier with calculations we will calculate $log(Score(x))$"
   ]
  },
  {
   "cell_type": "markdown",
   "metadata": {},
   "source": [
    "Now, you need to implement scoring function. As input it takes \n",
    "- `cipher`: mapping between encrypted characters and decrypted characters,\n",
    "- `observed_frequences`: transition matrix for cipher text, matrix representation of $F_x(\\beta_1,\\beta_2)$,\n",
    "- `empirical_frequences`: transition matrix for large text, matrix representation of $R(\\beta_1,\\beta_2)$.\n",
    "\n",
    "Scoring function returns $log(Score(x))$. You need correctly process zero values in transition matrices while calculating the score."
   ]
  },
  {
   "cell_type": "code",
   "execution_count": 34,
   "metadata": {},
   "outputs": [],
   "source": [
    "def score_cipher(cipher, observed_frequencies, empirical_frequencies):\n",
    "    a = empirical_frequencies.copy()\n",
    "    a = a[cipher][:, cipher]\n",
    "    \n",
    "    mask = a != 0.\n",
    "    score = np.sum(np.log(a[mask]) * observed_frequencies[mask])\n",
    "    \n",
    "    return score"
   ]
  },
  {
   "cell_type": "markdown",
   "metadata": {},
   "source": [
    "## Decryption\n",
    "\n",
    "Now we a ready to decrypt cipher text."
   ]
  },
  {
   "cell_type": "code",
   "execution_count": 35,
   "metadata": {},
   "outputs": [],
   "source": [
    "def decrypting(observed_frequences, empirical_frequences, n_iters, m, step_size, seed, print_it=1000):\n",
    "    \"\"\"This function finds most suited decrypting cipher(1D np.array).\n",
    "        observed_frequences, 2D np.array - transition matrix with frequences for cipher text,\n",
    "        empirical_frequences, 2D np.array - transition matrix with frequences for large text,\n",
    "        n_iters, int - number of MCMC iterations,\n",
    "        step_size, int - number of changes in cipher per one iteration,\n",
    "        seed, int - seed for random generator,\n",
    "        print_it, int - print decrypted text every `print_it` iterations.\n",
    "    \"\"\"\n",
    "\n",
    "    np.random.seed(seed)\n",
    "\n",
    "    # 1. Start by picking up a random current state. \n",
    "    cipher_old = np.arange(m)\n",
    "    score_cipher_old = score_cipher(cipher_old, observed_frequences, empirical_frequences)\n",
    "    best_state, score = cipher_old, score_cipher_old\n",
    "\n",
    "    scores = []\n",
    "    \n",
    "    best_accuracy = 0\n",
    "    final_it = None\n",
    "    \n",
    "    for i in tqdm(range(1, n_iters+1)):\n",
    "\n",
    "        # 2. Create a proposal for a new state by swapping two or more random letters in the current state.\n",
    "        cipher_new = generate_cipher(cipher_old, m, size=step_size)\n",
    "\n",
    "        # 3. Use a Scoring Function which calculates the score of the current state $Score_{old}$ and the proposed State $Score_{new}$.\n",
    "        score_cipher_new = score_cipher(cipher_new, observed_frequences, empirical_frequences)\n",
    "        acceptance_probability = np.min((1, np.exp(score_cipher_new - score_cipher_old)))\n",
    "\n",
    "        # 4. If the score of the proposed state is more than current state, Move to Proposed State.\n",
    "        # 5. Else flip a coin which has a probability of Heads $Score_{new}/Score_{old}$. If it comes heads move to proposed State.\n",
    "        if score_cipher_old > score:\n",
    "            best_state, score = cipher_old, score_cipher_old\n",
    "        if acceptance_probability > np.random.uniform(0,1):\n",
    "            cipher_old, score_cipher_old = cipher_new, score_cipher_new\n",
    "        if i % print_it == 0:\n",
    "            print(f\"iter {i}: {decode_text(apply_cipher(cipher_text[0:99], cipher_old), characters)}\")\n",
    "            \n",
    "        a = ''.join(characters_array[cipher_old[1:]-1])\n",
    "        b = decryption_key \n",
    "\n",
    "        accuracy = sum([1 if x == y else 0 for x, y in zip(a, b)]) / len(a)\n",
    "        \n",
    "        if accuracy >= best_accuracy:\n",
    "            if accuracy > best_accuracy:\n",
    "                final_it = i\n",
    "            scores.append(accuracy)\n",
    "            \n",
    "        best_accuracy = max(best_accuracy, accuracy)\n",
    "\n",
    "    return best_state, scores, final_it"
   ]
  },
  {
   "cell_type": "code",
   "execution_count": 36,
   "metadata": {
    "scrolled": false
   },
   "outputs": [
    {
     "name": "stderr",
     "output_type": "stream",
     "text": [
      "  0%|          | 0/10000 [00:00<?, ?it/s]<ipython-input-35-3d5dd92d1269>:30: RuntimeWarning: overflow encountered in exp\n",
      "  acceptance_probability = np.min((1, np.exp(score_cipher_new - score_cipher_old)))\n",
      " 64%|██████▍   | 6432/10000 [00:00<00:00, 32205.17it/s]"
     ]
    },
    {
     "name": "stdout",
     "output_type": "stream",
     "text": [
      "iter 1000: isace wit pekannank ro ker xedl radef om tarrank pl hed tatred on rhe piny  inf om hixank norhank r\n",
      "iter 2000: agice wat peyinniny so yes berl sired om tissiny pl her titser on she pank  and om habiny noshiny s\n",
      "iter 3000: amice was beginning to get pery tired of sitting by her sister on the bank  and of haping nothing t\n",
      "iter 4000: alice was peginning to get bery tired of sitting py her sister on the pank  and of habing nothing t\n",
      "iter 5000: alice was peginning to get bery tired of sitting py her sister on the pank  and of habing nothing t\n",
      "iter 6000: alice was peginning to get very tired of sitting py her sister on the pank  and of having nothing t\n",
      "iter 7000: alice was peginning to get very tired of sitting py her sister on the pank  and of having nothing t\n"
     ]
    },
    {
     "name": "stderr",
     "output_type": "stream",
     "text": [
      "100%|██████████| 10000/10000 [00:00<00:00, 32174.41it/s]"
     ]
    },
    {
     "name": "stdout",
     "output_type": "stream",
     "text": [
      "iter 8000: alice was beginning to get very tired of sitting by her sister on the bank  and of having nothing t\n",
      "iter 9000: alice was beginning to get very tired of sitting by her sister on the bank  and of having nothing t\n",
      "iter 10000: alice was beginning to get very tired of sitting by her sister on the bank  and of having nothing t\n",
      "\n",
      "Decoded Text: alice was beginning to get very tired of sitting by her sister on the bank  and of having nothing to do  once or twice she had peeped into the book her sister was reading  but it had no pictures or conversations in it   and what is the use of a book   thought alice  without pictures or conversation   so she was considering in her own mind  as well as she could  for the hot day made her feel very sleepy and stupid   whether the pleasure of making a daisy chain would be worth the trouble of getting up and picking the daisies  when suddenly a white rabbit with pink eyes ran close by her  there was nothing so very remarkable in that  nor did alice think it so very much out of the way to hear the rabbit say to itself   oh dear  oh dear  i shall be late    when she thought it over afterwards  it occurred to her that she ought to have wondered at this  but at the time it all seemed juite natural   but when the rabbit actually took a watch out of its waistcoat pocket  and looked at it  and then hurried on  alice started to her feet  for it flashed across her mind that she had never before see a rabbit with either a waistcoat pocket  or a watch to take out of it  and burning with curiosity  she ran across the field after it  and fortunately was qust in time to see it pop down a large rabbit hole under the hedge  in another moment down went alice after it  never once considering how in the world she was to get out again  the rabbit hole went straight on like a tunnel for some way  and then dipped suddenly down  so suddenly that alice had not a moment to think about stopping herself before she found herself falling down a very deep well \n",
      "\n",
      "MCMC KEY  : iecdhgzaqrmjvkpxbsfyuwolnt\n",
      "ACTUAl KEY: iecdhgxajrmqvkpzbsfyuwolnt\n"
     ]
    },
    {
     "name": "stderr",
     "output_type": "stream",
     "text": [
      "\n"
     ]
    }
   ],
   "source": [
    "decrypt_cipher, _, _ = decrypting(observed_frequences, empirical_frequences, 10000, m, 4, 345, 1000)\n",
    "\n",
    "print(\n",
    "    f\"\\nDecoded Text: {decode_text(apply_cipher(cipher_text, decrypt_cipher), characters)}\\n\\n\"\n",
    "    f\"MCMC KEY  : {''.join(characters_array[decrypt_cipher[1:]-1])}\\n\"\n",
    "    f\"ACTUAl KEY: {decryption_key}\"\n",
    ")"
   ]
  },
  {
   "cell_type": "markdown",
   "metadata": {},
   "source": [
    "## Tuning parameters (1 point).\n",
    "\n",
    "For step sizes in range `[2, ..., 7]`(number of pertrubations in newly generated cipher) find number of iterations, with `..00` precision(`print_it=100`), which is necessary to make cipher text looks more like english one. Plot obtained results."
   ]
  },
  {
   "cell_type": "code",
   "execution_count": 37,
   "metadata": {},
   "outputs": [],
   "source": [
    "plot_info = []"
   ]
  },
  {
   "cell_type": "code",
   "execution_count": 38,
   "metadata": {
    "scrolled": true
   },
   "outputs": [
    {
     "name": "stderr",
     "output_type": "stream",
     "text": [
      "  0%|          | 0/10000 [00:00<?, ?it/s]<ipython-input-35-3d5dd92d1269>:30: RuntimeWarning: overflow encountered in exp\n",
      "  acceptance_probability = np.min((1, np.exp(score_cipher_new - score_cipher_old)))\n",
      " 31%|███       | 3075/10000 [00:00<00:00, 30747.83it/s]"
     ]
    },
    {
     "name": "stdout",
     "output_type": "stream",
     "text": [
      "iter 100: hcake nhr tebaiiaib lw bel pedq ladem wo rallaib tq sed rarled wi lse thiz  him wo shpaib iwlsaib l\n",
      "iter 200: icake nir tebahhahb lw bel pedv ladem wo rallahb tv sed rarled wh lse tihx  ihm wo sipahb hwlsahb l\n",
      "iter 300: icape nil debarrarb to bet kevh tavem ow lattarb dh sev laltev or tse dirx  irm ow sikarb rotsarb t\n",
      "iter 400: icape nil vebarrarb so bes kedh sadem ow lassarb vh ted lalsed or ste virx  irm ow tikarb rostarb s\n",
      "iter 500: inape cil febarrarb so bes vedy sadem ow lassarb fy ted lalsed or ste firx  irm ow tivarb rostarb s\n",
      "iter 600: inape cil befarrarf so fes vemy samed ow lassarf by tem lalsem or ste birg  ird ow tivarf rostarf s\n",
      "iter 700: inape cil befarrarf so fes vemy samed ow lassarf by tem lalsem or ste birg  ird ow tivarf rostarf s\n",
      "iter 800: inape cil befarrarf so fes vemy samed ow lassarf by tem lalsem or ste birg  ird ow tivarf rostarf s\n",
      "iter 900: inape cil begarrarg so ges vemy samed ow lassarg by tem lalsem or ste birf  ird ow tivarg rostarg s\n",
      "iter 1000: inape cil begarrarg so ges vemy samed ow lassarg by tem lalsem or ste birf  ird ow tivarg rostarg s\n",
      "iter 1100: anipe cal begirrirg so ges vemy simed ow lissirg by tem lilsem or ste barf  ard ow tavirg rostirg s\n",
      "iter 1200: anipe cam begirrirg so ges vely siled ow missirg by tel mimsel or ste barf  ard ow tavirg rostirg s\n",
      "iter 1300: anipe cam begirrirg so ges vely siled ow missirg by tel mimsel or ste bark  ard ow tavirg rostirg s\n",
      "iter 1400: amipe can begirrirg so ges vely siled ow nissirg by tel ninsel or ste bark  ard ow tavirg rostirg s\n",
      "iter 1500: amipe can begirrirg so ges vely siled ow nissirg by tel ninsel or ste bark  ard ow tavirg rostirg s\n",
      "iter 1600: amipe can begirrirg so ges vely siled ow nissirg by tel ninsel or ste bark  ard ow tavirg rostirg s\n",
      "iter 1700: amipe can begirrirg so ges vely siled ow nissirg by tel ninsel or ste bark  ard ow tavirg rostirg s\n",
      "iter 1800: amipe war beginning so ges vely siled oc rissing by tel rirsel on ste bank  and oc taving nosting s\n",
      "iter 1900: aripe waf beginning so ges cely siled ov fissing by tel fifsel on ste bank  and ov tacing nosting s\n",
      "iter 2000: aripe waf beginning so ges cely siled ov fissing by tel fifsel on ste bank  and ov tacing nosting s\n",
      "iter 2100: alipe taf beginning so ges cery sired ov fissing by her fifser on she bank  and ov hacing noshing s\n",
      "iter 2200: alipe tac beginning so ges fery sired ow cissing by her cicser on she bank  and ow hafing noshing s\n",
      "iter 2300: alice sap beginning to get wery tired of pitting by her pipter on the bank  and of hawing nothing t\n",
      "iter 2400: alice sap beginning to get wery tired of pitting by her pipter on the bank  and of hawing nothing t\n",
      "iter 2500: alice pas beginning to get wery tired of sitting by her sister on the bank  and of hawing nothing t\n",
      "iter 2600: alice pas beginning to get wery tired of sitting by her sister on the bank  and of hawing nothing t\n",
      "iter 2700: alice pas beginning to get wery tired of sitting by her sister on the bank  and of hawing nothing t\n",
      "iter 2800: alice was beginning to get pery tired of sitting by her sister on the bank  and of haping nothing t\n",
      "iter 2900: alice was beginning to get pery tired of sitting by her sister on the bank  and of haping nothing t\n",
      "iter 3000: alice was beginning to get pery tired of sitting by her sister on the bank  and of haping nothing t\n",
      "iter 3100: alice was beginning to get pery tired of sitting by her sister on the bank  and of haping nothing t\n",
      "iter 3200: alice was peginning to get bery tired of sitting py her sister on the pank  and of habing nothing t\n",
      "iter 3300: alice was peginning to get very tired of sitting py her sister on the pank  and of having nothing t\n",
      "iter 3400: alice was peginning to get very tired of sitting py her sister on the pank  and of having nothing t\n",
      "iter 3500: alice was peginning to get very tired of sitting py her sister on the pank  and of having nothing t\n",
      "iter 3600: alice was peginning to get very tired of sitting py her sister on the pank  and of having nothing t\n",
      "iter 3700: alice was peginning to get very tired of sitting py her sister on the pank  and of having nothing t\n",
      "iter 3800: alice was peginning to get very tired of sitting py her sister on the pank  and of having nothing t\n",
      "iter 3900: alice was peginning to get very tired of sitting py her sister on the pank  and of having nothing t\n",
      "iter 4000: alice was peginning to get very tired of sitting py her sister on the pank  and of having nothing t\n"
     ]
    },
    {
     "name": "stderr",
     "output_type": "stream",
     "text": [
      "\r",
      " 62%|██████▏   | 6150/10000 [00:00<00:00, 30556.24it/s]"
     ]
    },
    {
     "name": "stdout",
     "output_type": "stream",
     "text": [
      "iter 4100: alice was peginning to get very tired of sitting py her sister on the pank  and of having nothing t\n",
      "iter 4200: alice was peginning to get very tired of sitting py her sister on the pank  and of having nothing t\n",
      "iter 4300: alice was peginning to get very tired of sitting py her sister on the pank  and of having nothing t\n",
      "iter 4400: alice was peginning to get very tired of sitting py her sister on the pank  and of having nothing t\n",
      "iter 4500: alice was peginning to get very tired of sitting py her sister on the pank  and of having nothing t\n",
      "iter 4600: alice was peginning to get very tired of sitting py her sister on the pank  and of having nothing t\n",
      "iter 4700: alice was peginning to get very tired of sitting py her sister on the pank  and of having nothing t\n",
      "iter 4800: alice was peginning to get very tired of sitting py her sister on the pank  and of having nothing t\n",
      "iter 4900: alice was peginning to get very tired of sitting py her sister on the pank  and of having nothing t\n",
      "iter 5000: alice was peginning to get very tired of sitting py her sister on the pank  and of having nothing t\n",
      "iter 5100: alice was peginning to get very tired of sitting py her sister on the pank  and of having nothing t\n",
      "iter 5200: alice was peginning to get very tired of sitting py her sister on the pank  and of having nothing t\n",
      "iter 5300: alice was peginning to get very tired of sitting py her sister on the pank  and of having nothing t\n",
      "iter 5400: alice was peginning to get very tired of sitting py her sister on the pank  and of having nothing t\n",
      "iter 5500: alice was peginning to get very tired of sitting py her sister on the pank  and of having nothing t\n",
      "iter 5600: alice was peginning to get very tired of sitting py her sister on the pank  and of having nothing t\n",
      "iter 5700: alice was peginning to get very tired of sitting py her sister on the pank  and of having nothing t\n",
      "iter 5800: alice was peginning to get very tired of sitting py her sister on the pank  and of having nothing t\n",
      "iter 5900: alice was peginning to get very tired of sitting py her sister on the pank  and of having nothing t\n",
      "iter 6000: alice was peginning to get very tired of sitting py her sister on the pank  and of having nothing t\n",
      "iter 6100: alice was peginning to get very tired of sitting py her sister on the pank  and of having nothing t\n",
      "iter 6200: alice was peginning to get very tired of sitting py her sister on the pank  and of having nothing t\n"
     ]
    },
    {
     "name": "stderr",
     "output_type": "stream",
     "text": [
      "100%|██████████| 10000/10000 [00:00<00:00, 30832.04it/s]\n"
     ]
    },
    {
     "name": "stdout",
     "output_type": "stream",
     "text": [
      "iter 6300: alice was peginning to get very tired of sitting py her sister on the pank  and of having nothing t\n",
      "iter 6400: alice was peginning to get very tired of sitting py her sister on the pank  and of having nothing t\n",
      "iter 6500: alice was peginning to get very tired of sitting py her sister on the pank  and of having nothing t\n",
      "iter 6600: alice was peginning to get very tired of sitting py her sister on the pank  and of having nothing t\n",
      "iter 6700: alice was peginning to get very tired of sitting py her sister on the pank  and of having nothing t\n",
      "iter 6800: alice was peginning to get very tired of sitting py her sister on the pank  and of having nothing t\n",
      "iter 6900: alice was peginning to get very tired of sitting py her sister on the pank  and of having nothing t\n",
      "iter 7000: alice was peginning to get very tired of sitting py her sister on the pank  and of having nothing t\n",
      "iter 7100: alice was peginning to get very tired of sitting py her sister on the pank  and of having nothing t\n",
      "iter 7200: alice was peginning to get very tired of sitting py her sister on the pank  and of having nothing t\n",
      "iter 7300: alice was peginning to get very tired of sitting py her sister on the pank  and of having nothing t\n",
      "iter 7400: alice was peginning to get very tired of sitting py her sister on the pank  and of having nothing t\n",
      "iter 7500: alice was peginning to get very tired of sitting py her sister on the pank  and of having nothing t\n",
      "iter 7600: alice was peginning to get very tired of sitting py her sister on the pank  and of having nothing t\n",
      "iter 7700: alice was peginning to get very tired of sitting py her sister on the pank  and of having nothing t\n",
      "iter 7800: alice was peginning to get very tired of sitting py her sister on the pank  and of having nothing t\n",
      "iter 7900: alice was peginning to get very tired of sitting py her sister on the pank  and of having nothing t\n",
      "iter 8000: alice was peginning to get very tired of sitting py her sister on the pank  and of having nothing t\n",
      "iter 8100: alice was peginning to get very tired of sitting py her sister on the pank  and of having nothing t\n",
      "iter 8200: alice was peginning to get very tired of sitting py her sister on the pank  and of having nothing t\n",
      "iter 8300: alice was peginning to get very tired of sitting py her sister on the pank  and of having nothing t\n",
      "iter 8400: alice was peginning to get very tired of sitting py her sister on the pank  and of having nothing t\n",
      "iter 8500: alice was peginning to get very tired of sitting py her sister on the pank  and of having nothing t\n",
      "iter 8600: alice was peginning to get very tired of sitting py her sister on the pank  and of having nothing t\n",
      "iter 8700: alice was peginning to get very tired of sitting py her sister on the pank  and of having nothing t\n",
      "iter 8800: alice was peginning to get very tired of sitting py her sister on the pank  and of having nothing t\n",
      "iter 8900: alice was peginning to get very tired of sitting py her sister on the pank  and of having nothing t\n",
      "iter 9000: alice was peginning to get very tired of sitting py her sister on the pank  and of having nothing t\n",
      "iter 9100: alice was peginning to get very tired of sitting py her sister on the pank  and of having nothing t\n",
      "iter 9200: alice was peginning to get very tired of sitting py her sister on the pank  and of having nothing t\n",
      "iter 9300: alice was peginning to get very tired of sitting py her sister on the pank  and of having nothing t\n",
      "iter 9400: alice was peginning to get very tired of sitting py her sister on the pank  and of having nothing t\n",
      "iter 9500: alice was peginning to get very tired of sitting py her sister on the pank  and of having nothing t\n",
      "iter 9600: alice was peginning to get very tired of sitting py her sister on the pank  and of having nothing t\n",
      "iter 9700: alice was peginning to get very tired of sitting py her sister on the pank  and of having nothing t\n",
      "iter 9800: alice was peginning to get very tired of sitting py her sister on the pank  and of having nothing t\n",
      "iter 9900: alice was peginning to get very tired of sitting py her sister on the pank  and of having nothing t\n",
      "iter 10000: alice was peginning to get very tired of sitting py her sister on the pank  and of having nothing t\n"
     ]
    },
    {
     "name": "stderr",
     "output_type": "stream",
     "text": [
      "\r",
      "  0%|          | 0/10000 [00:00<?, ?it/s]"
     ]
    },
    {
     "name": "stdout",
     "output_type": "stream",
     "text": [
      "iter 100: osewa ior qagenneng py gap valm pelad yf reppeng qm tal rerpal yn pta qonh  ond yf toveng nypteng p\n",
      "iter 200: iseho air wopennenp ly pol vomf lemod yc rellenp wf tom rerlom yn lto wing  ind yc tivenp nyltenp l\n",
      "iter 300: aseho bar wokennenk tu kot vomf temod ug rettenk wf lom rertom un tlo wanc  and ug lavenk nutlenk t\n",
      "iter 400: asuyo bar woiunnuni te iot vomf tumod eg ruttuni wf lom rurtom en tlo wanc  and eg lavuni netluni t\n",
      "iter 500: alupo bar woiunnuni se ios vomf sumod ey russuni wf tom rursom en sto wanc  and ey tavuni nestuni s\n",
      "iter 600: alupo bar woiunnuni se ios vomf sumod ey russuni wf tom rursom en sto wanc  and ey tavuni nestuni s\n",
      "iter 700: alipo bar couinninu se uos vomf simod ey rissinu cf tom rirsom en sto cang  and ey tavinu nestinu s\n",
      "iter 800: alipo bar cofinninf se fos vomu simod ey rissinf cu tom rirsom en sto cang  and ey tavinf nestinf s\n",
      "iter 900: alico war pofinninf se fos vomy simod eu rissinf py tom rirsom en sto pang  and eu tavinf nestinf s\n",
      "iter 1000: alico wau poginning se gos vory sirod em uissing py tor uiusor en sto panf  and em taving nesting s\n",
      "iter 1100: alice wau peginning so ges very sired om uissing py ter uiuser on ste panf  and om taving nosting s\n",
      "iter 1200: alice haf peginning so ges very sired om fissing py ter fifser on ste panu  and om taving nosting s\n",
      "iter 1300: alice tak peginning so ges very sired om kissing py her kikser on she panu  and om having noshing s\n",
      "iter 1400: alice kat peginning so ges very sired om tissing py her titser on she panu  and om having noshing s\n",
      "iter 1500: alice kat peginning so ges very sired om tissing py her titser on she panu  and om having noshing s\n",
      "iter 1600: alice wat peginning so ges kery sired om tissing py her titser on she panu  and om haking noshing s\n",
      "iter 1700: alice wat peginning so ges very sired om tissing py her titser on she panu  and om having noshing s\n",
      "iter 1800: alice wat keginning so ges very sired om tissing ky her titser on she kanp  and om having noshing s\n",
      "iter 1900: alice wat keginning so ges very sired om tissing ky her titser on she kanf  and om having noshing s\n",
      "iter 2000: alice wat peginning so ges very sired om tissing py her titser on she panf  and om having noshing s\n",
      "iter 2100: alice wat peginning so ges kery sired om tissing py her titser on she panf  and om haking noshing s\n",
      "iter 2200: alice wat peginning so ges mery sired of tissing py her titser on she pank  and of haming noshing s\n",
      "iter 2300: alice was peginning to get mery tired of sitting py her sister on the pank  and of haming nothing t\n",
      "iter 2400: alice was peginning to get mery tired of sitting py her sister on the pank  and of haming nothing t\n"
     ]
    },
    {
     "name": "stderr",
     "output_type": "stream",
     "text": [
      " 61%|██████    | 6121/10000 [00:00<00:00, 30667.35it/s]"
     ]
    },
    {
     "name": "stdout",
     "output_type": "stream",
     "text": [
      "iter 2500: alice was peginning to get mery tired of sitting py her sister on the pank  and of haming nothing t\n",
      "iter 2600: alice was peginning to get mery tired of sitting py her sister on the pank  and of haming nothing t\n",
      "iter 2700: alice was peginning to get mery tired of sitting py her sister on the pank  and of haming nothing t\n",
      "iter 2800: alice was peginning to get mery tired of sitting py her sister on the pank  and of haming nothing t\n",
      "iter 2900: alice was peginning to get mery tired of sitting py her sister on the pank  and of haming nothing t\n",
      "iter 3000: alice was peginning to get mery tired of sitting py her sister on the pank  and of haming nothing t\n",
      "iter 3100: alice was peginning to get mery tired of sitting py her sister on the pank  and of haming nothing t\n",
      "iter 3200: alice was peginning to get very tired of sitting py her sister on the pank  and of having nothing t\n",
      "iter 3300: alice was peginning to get very tired of sitting py her sister on the pank  and of having nothing t\n",
      "iter 3400: alice was peginning to get very tired of sitting py her sister on the pank  and of having nothing t\n",
      "iter 3500: alice was peginning to get very tired of sitting py her sister on the pank  and of having nothing t\n",
      "iter 3600: alice was peginning to get very tired of sitting py her sister on the pank  and of having nothing t\n",
      "iter 3700: alice was beginning to get very tired of sitting by her sister on the bank  and of having nothing t\n",
      "iter 3800: alice was beginning to get very tired of sitting by her sister on the bank  and of having nothing t\n",
      "iter 3900: alice was beginning to get very tired of sitting by her sister on the bank  and of having nothing t\n",
      "iter 4000: alice was beginning to get very tired of sitting by her sister on the bank  and of having nothing t\n",
      "iter 4100: alice was beginning to get very tired of sitting by her sister on the bank  and of having nothing t\n",
      "iter 4200: alice was beginning to get very tired of sitting by her sister on the bank  and of having nothing t\n",
      "iter 4300: alice was beginning to get very tired of sitting by her sister on the bank  and of having nothing t\n",
      "iter 4400: alice was beginning to get very tired of sitting by her sister on the bank  and of having nothing t\n",
      "iter 4500: alice was beginning to get very tired of sitting by her sister on the bank  and of having nothing t\n",
      "iter 4600: alice was beginning to get very tired of sitting by her sister on the bank  and of having nothing t\n",
      "iter 4700: alice was beginning to get very tired of sitting by her sister on the bank  and of having nothing t\n",
      "iter 4800: alice was beginning to get very tired of sitting by her sister on the bank  and of having nothing t\n",
      "iter 4900: alice was beginning to get very tired of sitting by her sister on the bank  and of having nothing t\n",
      "iter 5000: alice was beginning to get very tired of sitting by her sister on the bank  and of having nothing t\n",
      "iter 5100: alice was beginning to get very tired of sitting by her sister on the bank  and of having nothing t\n",
      "iter 5200: alice was beginning to get very tired of sitting by her sister on the bank  and of having nothing t\n",
      "iter 5300: alice was beginning to get very tired of sitting by her sister on the bank  and of having nothing t\n",
      "iter 5400: alice was beginning to get very tired of sitting by her sister on the bank  and of having nothing t\n",
      "iter 5500: alice was beginning to get very tired of sitting by her sister on the bank  and of having nothing t\n",
      "iter 5600: alice was beginning to get very tired of sitting by her sister on the bank  and of having nothing t\n",
      "iter 5700: alice was beginning to get very tired of sitting by her sister on the bank  and of having nothing t\n",
      "iter 5800: alice was beginning to get very tired of sitting by her sister on the bank  and of having nothing t\n",
      "iter 5900: alice was beginning to get very tired of sitting by her sister on the bank  and of having nothing t\n",
      "iter 6000: alice was beginning to get very tired of sitting by her sister on the bank  and of having nothing t\n",
      "iter 6100: alice was beginning to get very tired of sitting by her sister on the bank  and of having nothing t\n",
      "iter 6200: alice was beginning to get very tired of sitting by her sister on the bank  and of having nothing t\n",
      "iter 6300: alice was beginning to get very tired of sitting by her sister on the bank  and of having nothing t\n",
      "iter 6400: alice was beginning to get very tired of sitting by her sister on the bank  and of having nothing t\n",
      "iter 6500: alice was beginning to get very tired of sitting by her sister on the bank  and of having nothing t\n",
      "iter 6600: alice was beginning to get very tired of sitting by her sister on the bank  and of having nothing t\n",
      "iter 6700: alice was beginning to get very tired of sitting by her sister on the bank  and of having nothing t\n",
      "iter 6800: alice was beginning to get very tired of sitting by her sister on the bank  and of having nothing t\n",
      "iter 6900: alice was beginning to get very tired of sitting by her sister on the bank  and of having nothing t\n",
      "iter 7000: alice was beginning to get very tired of sitting by her sister on the bank  and of having nothing t\n",
      "iter 7100: alice was beginning to get very tired of sitting by her sister on the bank  and of having nothing t\n",
      "iter 7200: alice was beginning to get very tired of sitting by her sister on the bank  and of having nothing t\n",
      "iter 7300: alice was beginning to get very tired of sitting by her sister on the bank  and of having nothing t\n",
      "iter 7400: alice was beginning to get very tired of sitting by her sister on the bank  and of having nothing t\n",
      "iter 7500: alice was beginning to get very tired of sitting by her sister on the bank  and of having nothing t\n",
      "iter 7600: alice was beginning to get very tired of sitting by her sister on the bank  and of having nothing t\n",
      "iter 7700: alice was beginning to get very tired of sitting by her sister on the bank  and of having nothing t\n",
      "iter 7800: alice was beginning to get very tired of sitting by her sister on the bank  and of having nothing t\n",
      "iter 7900: alice was beginning to get very tired of sitting by her sister on the bank  and of having nothing t\n",
      "iter 8000: alice was beginning to get very tired of sitting by her sister on the bank  and of having nothing t\n",
      "iter 8100: alice was beginning to get very tired of sitting by her sister on the bank  and of having nothing t\n",
      "iter 8200: alice was beginning to get very tired of sitting by her sister on the bank  and of having nothing t\n",
      "iter 8300: alice was beginning to get very tired of sitting by her sister on the bank  and of having nothing t\n",
      "iter 8400: alice was beginning to get very tired of sitting by her sister on the bank  and of having nothing t\n",
      "iter 8500: alice was beginning to get very tired of sitting by her sister on the bank  and of having nothing t\n",
      "iter 8600: alice was beginning to get very tired of sitting by her sister on the bank  and of having nothing t\n"
     ]
    },
    {
     "name": "stderr",
     "output_type": "stream",
     "text": [
      "100%|██████████| 10000/10000 [00:00<00:00, 30527.85it/s]\n"
     ]
    },
    {
     "name": "stdout",
     "output_type": "stream",
     "text": [
      "iter 8700: alice was beginning to get very tired of sitting by her sister on the bank  and of having nothing t\n",
      "iter 8800: alice was beginning to get very tired of sitting by her sister on the bank  and of having nothing t\n",
      "iter 8900: alice was beginning to get very tired of sitting by her sister on the bank  and of having nothing t\n",
      "iter 9000: alice was beginning to get very tired of sitting by her sister on the bank  and of having nothing t\n",
      "iter 9100: alice was beginning to get very tired of sitting by her sister on the bank  and of having nothing t\n",
      "iter 9200: alice was beginning to get very tired of sitting by her sister on the bank  and of having nothing t\n",
      "iter 9300: alice was beginning to get very tired of sitting by her sister on the bank  and of having nothing t\n",
      "iter 9400: alice was beginning to get very tired of sitting by her sister on the bank  and of having nothing t\n",
      "iter 9500: alice was beginning to get very tired of sitting by her sister on the bank  and of having nothing t\n",
      "iter 9600: alice was beginning to get very tired of sitting by her sister on the bank  and of having nothing t\n",
      "iter 9700: alice was beginning to get very tired of sitting by her sister on the bank  and of having nothing t\n",
      "iter 9800: alice was beginning to get very tired of sitting by her sister on the bank  and of having nothing t\n",
      "iter 9900: alice was beginning to get very tired of sitting by her sister on the bank  and of having nothing t\n",
      "iter 10000: alice was beginning to get very tired of sitting by her sister on the bank  and of having nothing t\n"
     ]
    },
    {
     "name": "stderr",
     "output_type": "stream",
     "text": [
      "\r",
      "  0%|          | 0/10000 [00:00<?, ?it/s]"
     ]
    },
    {
     "name": "stdout",
     "output_type": "stream",
     "text": [
      "iter 100: atuyo sar pomuiiuim ne mon cobz nubof ew runnuim pz gob rurnob ei ngo pail  aif ew gacuim ienguim n\n",
      "iter 200: atuyo wam pohurrurh ne hon docv nucof eg munnurh pv soc mumnoc er nso parl  arf eg sadurh rensurh n\n",
      "iter 300: atuhe wam peyurrury no yen defv nufel og munnury pv sef mumnef or nse park  arl og sadury ronsury n\n",
      "iter 400: atude wam beyurrury no yen pefv nufel og munnury bv sef mumnef or nse bark  arl og sapury ronsury n\n",
      "iter 500: atude wam ceyurrury no yen pefg nufel ov munnury cg sef mumnef or nse cark  arl ov sapury ronsury n\n",
      "iter 600: ayude was cemurrurm no men pefg nufel ov sunnurm cg tef susnef or nte cark  arl ov tapurm ronturm n\n",
      "iter 700: adipe was cemirrirm no men befy nifel ov sinnirm cy tef sisnef or nte cark  arl ov tabirm rontirm n\n",
      "iter 800: adive was cepirrirp no pen bemy nimel of sinnirp cy tem sisnem or nte cark  arl of tabirp rontirp n\n",
      "iter 900: alive was cehirrirh no hen bemy nimed of sinnirh cy tem sisnem or nte cark  ard of tabirh rontirh n\n",
      "iter 1000: alive wam cehirrirh so hes beny sined of missirh cy ten mimsen or ste cark  ard of tabirh rostirh s\n",
      "iter 1100: alige haf ceyirriry so yes benm sined ow fissiry cm ten fifsen or ste carv  ard ow tabiry rostiry s\n",
      "iter 1200: alige haf ceyirriry so yes benm sined ow fissiry cm ten fifsen or ste carv  ard ow tabiry rostiry s\n",
      "iter 1300: alige haf ceyirriry so yes benm sined ow fissiry cm ten fifsen or ste carv  ard ow tabiry rostiry s\n",
      "iter 1400: alime cat gefirrirf so fes beny sined ow tissirf gy hen titsen or she garv  ard ow habirf roshirf s\n",
      "iter 1500: alime cat fegirrirg so ges beny sined ow tissirg fy hen titsen or she farv  ard ow habirg roshirg s\n",
      "iter 1600: alime cat feginning so ges very sired ow tissing fy her titser on she fank  and ow having noshing s\n",
      "iter 1700: alime cat feginning so ges very sired ow tissing fy her titser on she fank  and ow having noshing s\n",
      "iter 1800: alime cat feginning so ges very sired ow tissing fy her titser on she fank  and ow having noshing s\n",
      "iter 1900: alipe cat feginning so ges very sired ow tissing fy her titser on she fank  and ow having noshing s\n",
      "iter 2000: alipe cat feginning so ges very sired ow tissing fy her titser on she fank  and ow having noshing s\n",
      "iter 2100: alipe cas feginning to get very tired ow sitting fy her sister on the fank  and ow having nothing t\n",
      "iter 2200: alipe cas feginning to get very tired ow sitting fy her sister on the fank  and ow having nothing t\n",
      "iter 2300: alipe was fecinninc to cet very tired om sittinc fy her sister on the fank  and om havinc nothinc t\n",
      "iter 2400: alice was fepinninp to pet very tired om sittinp fy her sister on the fank  and om havinp nothinp t\n",
      "iter 2500: alice was fepinninp to pet very tired om sittinp fy her sister on the fank  and om havinp nothinp t\n"
     ]
    },
    {
     "name": "stderr",
     "output_type": "stream",
     "text": [
      "\r",
      " 30%|██▉       | 2991/10000 [00:00<00:00, 29903.40it/s]"
     ]
    },
    {
     "name": "stdout",
     "output_type": "stream",
     "text": [
      "iter 2600: alice was mepinninp to pet very tired of sittinp my her sister on the mank  and of havinp nothinp t\n",
      "iter 2700: alice was mepinninp to pet very tired of sittinp my her sister on the mank  and of havinp nothinp t\n",
      "iter 2800: alice was mepinninp to pet very tired of sittinp my her sister on the mank  and of havinp nothinp t\n",
      "iter 2900: alice was pefinninf to fet very tired om sittinf py her sister on the pank  and om havinf nothinf t\n",
      "iter 3000: alice was pefinninf to fet very tired om sittinf py her sister on the pank  and om havinf nothinf t\n",
      "iter 3100: alice was pefinninf to fet very tired om sittinf py her sister on the pank  and om havinf nothinf t\n",
      "iter 3200: alice was peginning to get very tired om sitting py her sister on the pank  and om having nothing t\n",
      "iter 3300: alice was peginning to get very tired of sitting py her sister on the pank  and of having nothing t\n",
      "iter 3400: alice was peginning to get very tired of sitting py her sister on the pank  and of having nothing t\n",
      "iter 3500: alice was peginning to get very tired of sitting py her sister on the pank  and of having nothing t\n",
      "iter 3600: alice was peginning to get very tired of sitting py her sister on the pank  and of having nothing t\n",
      "iter 3700: alice was peginning to get very tired of sitting py her sister on the pank  and of having nothing t\n",
      "iter 3800: alice was peginning to get very tired of sitting py her sister on the pank  and of having nothing t\n",
      "iter 3900: alice was peginning to get very tired of sitting py her sister on the pank  and of having nothing t\n",
      "iter 4000: alice was peginning to get very tired of sitting py her sister on the pank  and of having nothing t\n",
      "iter 4100: alice was peginning to get very tired of sitting py her sister on the pank  and of having nothing t\n",
      "iter 4200: alice was peginning to get very tired of sitting py her sister on the pank  and of having nothing t\n",
      "iter 4300: alice was peginning to get very tired of sitting py her sister on the pank  and of having nothing t\n",
      "iter 4400: alice was peginning to get very tired of sitting py her sister on the pank  and of having nothing t\n",
      "iter 4500: alice was peginning to get very tired of sitting py her sister on the pank  and of having nothing t\n",
      "iter 4600: alice was peginning to get very tired of sitting py her sister on the pank  and of having nothing t\n"
     ]
    },
    {
     "name": "stderr",
     "output_type": "stream",
     "text": [
      "\r",
      " 60%|██████    | 6025/10000 [00:00<00:00, 30153.96it/s]"
     ]
    },
    {
     "name": "stdout",
     "output_type": "stream",
     "text": [
      "iter 4700: alice was peginning to get very tired of sitting py her sister on the pank  and of having nothing t\n",
      "iter 4800: alice was peginning to get very tired of sitting py her sister on the pank  and of having nothing t\n",
      "iter 4900: alice was peginning to get very tired of sitting py her sister on the pank  and of having nothing t\n",
      "iter 5000: alice was peginning to get very tired of sitting py her sister on the pank  and of having nothing t\n",
      "iter 5100: alice was peginning to get very tired of sitting py her sister on the pank  and of having nothing t\n",
      "iter 5200: alice was peginning to get very tired of sitting py her sister on the pank  and of having nothing t\n",
      "iter 5300: alice was peginning to get very tired of sitting py her sister on the pank  and of having nothing t\n",
      "iter 5400: alice was peginning to get very tired of sitting py her sister on the pank  and of having nothing t\n",
      "iter 5500: alice was peginning to get very tired of sitting py her sister on the pank  and of having nothing t\n",
      "iter 5600: alice was peginning to get very tired of sitting py her sister on the pank  and of having nothing t\n",
      "iter 5700: alice was peginning to get very tired of sitting py her sister on the pank  and of having nothing t\n",
      "iter 5800: alice was peginning to get very tired of sitting py her sister on the pank  and of having nothing t\n",
      "iter 5900: alice was peginning to get very tired of sitting py her sister on the pank  and of having nothing t\n",
      "iter 6000: alice was peginning to get very tired of sitting py her sister on the pank  and of having nothing t\n",
      "iter 6100: alice was peginning to get very tired of sitting py her sister on the pank  and of having nothing t\n",
      "iter 6200: alice was peginning to get very tired of sitting py her sister on the pank  and of having nothing t\n",
      "iter 6300: alice was peginning to get very tired of sitting py her sister on the pank  and of having nothing t\n",
      "iter 6400: alice was peginning to get very tired of sitting py her sister on the pank  and of having nothing t\n",
      "iter 6500: alice was peginning to get very tired of sitting py her sister on the pank  and of having nothing t\n",
      "iter 6600: alice was peginning to get very tired of sitting py her sister on the pank  and of having nothing t\n",
      "iter 6700: alice was peginning to get very tired of sitting py her sister on the pank  and of having nothing t\n",
      "iter 6800: alice was peginning to get very tired of sitting py her sister on the pank  and of having nothing t\n",
      "iter 6900: alice was peginning to get very tired of sitting py her sister on the pank  and of having nothing t\n",
      "iter 7000: alice was peginning to get very tired of sitting py her sister on the pank  and of having nothing t\n",
      "iter 7100: alice was peginning to get very tired of sitting py her sister on the pank  and of having nothing t\n",
      "iter 7200: alice was peginning to get very tired of sitting py her sister on the pank  and of having nothing t\n",
      "iter 7300: alice was peginning to get very tired of sitting py her sister on the pank  and of having nothing t\n",
      "iter 7400: alice was peginning to get very tired of sitting py her sister on the pank  and of having nothing t\n",
      "iter 7500: alice was peginning to get very tired of sitting py her sister on the pank  and of having nothing t\n",
      "iter 7600: alice was peginning to get very tired of sitting py her sister on the pank  and of having nothing t\n",
      "iter 7700: alice was peginning to get very tired of sitting py her sister on the pank  and of having nothing t\n",
      "iter 7800: alice was peginning to get very tired of sitting py her sister on the pank  and of having nothing t\n",
      "iter 7900: alice was peginning to get very tired of sitting py her sister on the pank  and of having nothing t\n",
      "iter 8000: alice was peginning to get very tired of sitting py her sister on the pank  and of having nothing t\n",
      "iter 8100: alice was peginning to get very tired of sitting py her sister on the pank  and of having nothing t\n",
      "iter 8200: alice was peginning to get very tired of sitting py her sister on the pank  and of having nothing t\n",
      "iter 8300: alice was peginning to get very tired of sitting py her sister on the pank  and of having nothing t\n",
      "iter 8400: alice was peginning to get very tired of sitting py her sister on the pank  and of having nothing t\n",
      "iter 8500: alice was peginning to get very tired of sitting py her sister on the pank  and of having nothing t\n",
      "iter 8600: alice was peginning to get very tired of sitting py her sister on the pank  and of having nothing t\n"
     ]
    },
    {
     "name": "stderr",
     "output_type": "stream",
     "text": [
      "100%|██████████| 10000/10000 [00:00<00:00, 30141.19it/s]\n"
     ]
    },
    {
     "name": "stdout",
     "output_type": "stream",
     "text": [
      "iter 8700: alice was peginning to get very tired of sitting py her sister on the pank  and of having nothing t\n",
      "iter 8800: alice was peginning to get very tired of sitting py her sister on the pank  and of having nothing t\n",
      "iter 8900: alice was peginning to get very tired of sitting py her sister on the pank  and of having nothing t\n",
      "iter 9000: alice was peginning to get very tired of sitting py her sister on the pank  and of having nothing t\n",
      "iter 9100: alice was peginning to get very tired of sitting py her sister on the pank  and of having nothing t\n",
      "iter 9200: alice was peginning to get very tired of sitting py her sister on the pank  and of having nothing t\n",
      "iter 9300: alice was peginning to get very tired of sitting py her sister on the pank  and of having nothing t\n",
      "iter 9400: alice was peginning to get very tired of sitting py her sister on the pank  and of having nothing t\n",
      "iter 9500: alice was peginning to get very tired of sitting py her sister on the pank  and of having nothing t\n",
      "iter 9600: alice was peginning to get very tired of sitting py her sister on the pank  and of having nothing t\n",
      "iter 9700: alice was peginning to get very tired of sitting py her sister on the pank  and of having nothing t\n",
      "iter 9800: alice was peginning to get very tired of sitting py her sister on the pank  and of having nothing t\n",
      "iter 9900: alice was peginning to get very tired of sitting py her sister on the pank  and of having nothing t\n",
      "iter 10000: alice was peginning to get very tired of sitting py her sister on the pank  and of having nothing t\n"
     ]
    },
    {
     "name": "stderr",
     "output_type": "stream",
     "text": [
      "\r",
      "  0%|          | 0/10000 [00:00<?, ?it/s]"
     ]
    },
    {
     "name": "stdout",
     "output_type": "stream",
     "text": [
      "iter 100: utaeo fuk iogarrarg nl gon pomh namoy lb kannarg ih com kaknom lr nco iurw  ury lb cuparg rlncarg n\n",
      "iter 200: itabo fiu gosannans rl sor codh radom lp uarrans gh yod uaurod ln ryo gink  inm lp yicans nlryans r\n",
      "iter 300: itabo fiu gosannans rl sor codh radom lp uarrans gh yod uaurod ln ryo gink  inm lp yicans nlryans r\n",
      "iter 400: isaco biu gofannanf rl for jodh radot lp uarranf gh yod uaurod ln ryo ginm  int lp yijanf nlryanf r\n",
      "iter 500: isamo bic gofannanf rl for jodk radot lp carranf gk yod cacrod ln ryo ginu  int lp yijanf nlryanf r\n",
      "iter 600: isabo mig cofannanf rl for jodk radot lp garranf ck yod gagrod ln ryo cinu  int lp yijanf nlryanf r\n",
      "iter 700: isabo mig cofannanf rl for jodk radot lp garranf ck yod gagrod ln ryo cinu  int lp yijanf nlryanf r\n",
      "iter 800: isabo uig coyannany rl yor jodk radof lp garrany ck tod gagrod ln rto cinm  inf lp tijany nlrtany r\n",
      "iter 900: isebo hin coyeaaeay rl yor jodk redof lp nerreay ck tod nenrod la rto ciam  iaf lp tijeay alrteay r\n",
      "iter 1000: isebo hin coyeaaeay rl yor jodk redof lp nerreay ck tod nenrod la rto ciam  iaf lp tijeay alrteay r\n",
      "iter 1100: isebo hin comeaaeam rl mor jodk redof lp nerream ck tod nenrod la rto ciay  iaf lp tijeam alrteam r\n",
      "iter 1200: isebo hin comettetm ra mor jolk relof ap nerretm ck dol nenrol at rdo city  itf ap dijetm tardetm r\n",
      "iter 1300: isebo hin comeddedm ra mor jolk relof ap nerredm ck tol nenrol ad rto cidy  idf ap tijedm dartedm r\n",
      "iter 1400: isebo hin comeddedm ra mor jolk relof ap nerredm ck tol nenrol ad rto cidy  idf ap tijedm dartedm r\n",
      "iter 1500: isego hir comeddedm na mon volk nelof ap rennedm ck tol rernol ad nto cidy  idf ap tivedm dantedm n\n",
      "iter 1600: idego his coyerrery na yon volf nelom ap sennery cf tol sesnol ar nto cirk  irm ap tivery rantery n\n",
      "iter 1700: idego his coyerrery na yon volf nelom ap sennery cf tol sesnol ar nto cirk  irm ap tivery rantery n\n",
      "iter 1800: imego his coyerrery na yon volf nelod ap sennery cf tol sesnol ar nto cirk  ird ap tivery rantery n\n",
      "iter 1900: imego hin coyellely sa yos vorf serod ap nessely cf tor nensor al sto cilk  ild ap tively lastely s\n",
      "iter 2000: imego hin coyellely sa yos vorf serod ap nessely cf tor nensor al sto cilk  ild ap tively lastely s\n",
      "iter 2100: imobe hin ceyolloly sa yes verf sored ag nossoly cf ter nonser al ste cilk  ild ag tivoly lastoly s\n"
     ]
    },
    {
     "name": "stderr",
     "output_type": "stream",
     "text": [
      "\r",
      " 29%|██▉       | 2934/10000 [00:00<00:00, 29334.15it/s]"
     ]
    },
    {
     "name": "stdout",
     "output_type": "stream",
     "text": [
      "iter 2200: imobe hin ceyolloly sa yes verf sored ag nossoly cf ter nonser al ste cilk  ild ag tivoly lastoly s\n",
      "iter 2300: imope hin beyolloly sa yes verf sored ag nossoly bf ter nonser al ste bilk  ild ag tivoly lastoly s\n",
      "iter 2400: imope hin beyolloly sa yes verf sored ag nossoly bf ter nonser al ste bilk  ild ag tivoly lastoly s\n",
      "iter 2500: imope hin beyolloly sa yes verf sored ag nossoly bf ter nonser al ste bilk  ild ag tivoly lastoly s\n",
      "iter 2600: omipe hon beyillily sa yes verf sired ag nissily bf ter ninser al ste bolk  old ag tovily lastily s\n",
      "iter 2700: omipe hon beyillily sa yes verf sired ag nissily bf ter ninser al ste bolk  old ag tovily lastily s\n",
      "iter 2800: omipe hon beyillily sa yes verf sired aw nissily bf ter ninser al ste bolk  old aw tovily lastily s\n",
      "iter 2900: omipe hon beyillily sa yes verf sired aw nissily bf ter ninser al ste bolk  old aw tovily lastily s\n",
      "iter 3000: omipe hon beyillily sa yes verf sired aw nissily bf ter ninser al ste bolk  old aw tovily lastily s\n",
      "iter 3100: amipe har beyillily so yes venf sined ow rissily bf ten rirsen ol ste balk  ald ow tavily lostily s\n",
      "iter 3200: afime tar beyillily so yes veng sined ow rissily bg hen rirsen ol she balk  ald ow havily loshily s\n",
      "iter 3300: afime tar begillilg so ges veny sined ow rissilg by hen rirsen ol she balk  ald ow havilg loshilg s\n",
      "iter 3400: afime tar begillilg so ges veny sined ow rissilg by hen rirsen ol she balk  ald ow havilg loshilg s\n",
      "iter 3500: afime tar begillilg so ges veny sined ow rissilg by hen rirsen ol she balk  ald ow havilg loshilg s\n",
      "iter 3600: afime tar begillilg so ges veny sined ow rissilg by hen rirsen ol she balk  ald ow havilg loshilg s\n",
      "iter 3700: acime wat begillilg so ges veny sined or tissilg by hen titsen ol she balk  ald or havilg loshilg s\n",
      "iter 3800: acime wat begillilg so ges veny sined or tissilg by hen titsen ol she balk  ald or havilg loshilg s\n",
      "iter 3900: acime was begillilg to get veny tined or sittilg by hen sisten ol the balk  ald or havilg lothilg t\n",
      "iter 4000: acime was begillilg to get veny tined or sittilg by hen sisten ol the balk  ald or havilg lothilg t\n",
      "iter 4100: alime was beginning to get cery tired ov sitting by her sister on the bank  and ov hacing nothing t\n",
      "iter 4200: alime was beginning to get cery tired ov sitting by her sister on the bank  and ov hacing nothing t\n",
      "iter 4300: alime was beginning to get cery tired ov sitting by her sister on the bank  and ov hacing nothing t\n",
      "iter 4400: alime was beginning to get cery tired ov sitting by her sister on the bank  and ov hacing nothing t\n",
      "iter 4500: alime was beginning to get cery tired ov sitting by her sister on the bank  and ov hacing nothing t\n",
      "iter 4600: alime was beginning to get cery tired ov sitting by her sister on the bank  and ov hacing nothing t\n"
     ]
    },
    {
     "name": "stderr",
     "output_type": "stream",
     "text": [
      "\r",
      " 59%|█████▊    | 5868/10000 [00:00<00:00, 29003.24it/s]"
     ]
    },
    {
     "name": "stdout",
     "output_type": "stream",
     "text": [
      "iter 4700: alime was beginning to get cery tired ov sitting by her sister on the bank  and ov hacing nothing t\n",
      "iter 4800: alime was beginning to get cery tired ov sitting by her sister on the bank  and ov hacing nothing t\n",
      "iter 4900: alime was beginning to get cery tired ov sitting by her sister on the bank  and ov hacing nothing t\n",
      "iter 5000: alime was beginning to get cery tired ov sitting by her sister on the bank  and ov hacing nothing t\n",
      "iter 5100: alime was beginning to get very tired oc sitting by her sister on the bank  and oc having nothing t\n",
      "iter 5200: alime was beginning to get very tired oc sitting by her sister on the bank  and oc having nothing t\n",
      "iter 5300: alime was beginning to get very tired op sitting by her sister on the bank  and op having nothing t\n",
      "iter 5400: alime was beginning to get very tired op sitting by her sister on the bank  and op having nothing t\n",
      "iter 5500: alime was beginning to get very tired op sitting by her sister on the bank  and op having nothing t\n",
      "iter 5600: alime was beginning to get very tired op sitting by her sister on the bank  and op having nothing t\n",
      "iter 5700: alime was beginning to get very tired op sitting by her sister on the bank  and op having nothing t\n",
      "iter 5800: alime was beginning to get very tired op sitting by her sister on the bank  and op having nothing t\n",
      "iter 5900: alime was beginning to get very tired op sitting by her sister on the bank  and op having nothing t\n",
      "iter 6000: alime was beginning to get very tired op sitting by her sister on the bank  and op having nothing t\n",
      "iter 6100: alime was beginning to get very tired op sitting by her sister on the bank  and op having nothing t\n",
      "iter 6200: alime was beginning to get very tired op sitting by her sister on the bank  and op having nothing t\n",
      "iter 6300: alime was beginning to get very tired op sitting by her sister on the bank  and op having nothing t\n",
      "iter 6400: alime was beginning to get very tired op sitting by her sister on the bank  and op having nothing t\n",
      "iter 6500: alime was beginning to get very tired op sitting by her sister on the bank  and op having nothing t\n",
      "iter 6600: alime was beginning to get very tired op sitting by her sister on the bank  and op having nothing t\n",
      "iter 6700: alime was beginning to get very tired op sitting by her sister on the bank  and op having nothing t\n",
      "iter 6800: alime was beginning to get very tired op sitting by her sister on the bank  and op having nothing t\n",
      "iter 6900: alime was beginning to get very tired op sitting by her sister on the bank  and op having nothing t\n",
      "iter 7000: alime was beginning to get very tired op sitting by her sister on the bank  and op having nothing t\n",
      "iter 7100: alime was beginning to get very tired op sitting by her sister on the bank  and op having nothing t\n",
      "iter 7200: alime was beginning to get very tired op sitting by her sister on the bank  and op having nothing t\n",
      "iter 7300: alime was beginning to get very tired op sitting by her sister on the bank  and op having nothing t\n",
      "iter 7400: alime was beginning to get very tired op sitting by her sister on the bank  and op having nothing t\n",
      "iter 7500: alime was beginning to get very tired op sitting by her sister on the bank  and op having nothing t\n",
      "iter 7600: alime was beginning to get very tired op sitting by her sister on the bank  and op having nothing t\n",
      "iter 7700: alime was beginning to get very tired op sitting by her sister on the bank  and op having nothing t\n",
      "iter 7800: alime was beginning to get very tired op sitting by her sister on the bank  and op having nothing t\n",
      "iter 7900: alime was beginning to get very tired op sitting by her sister on the bank  and op having nothing t\n",
      "iter 8000: alime was beginning to get very tired op sitting by her sister on the bank  and op having nothing t\n"
     ]
    },
    {
     "name": "stderr",
     "output_type": "stream",
     "text": [
      "100%|██████████| 10000/10000 [00:00<00:00, 29213.21it/s]\n"
     ]
    },
    {
     "name": "stdout",
     "output_type": "stream",
     "text": [
      "iter 8100: alime was beginning to get very tired op sitting by her sister on the bank  and op having nothing t\n",
      "iter 8200: alime was beginning to get very tired op sitting by her sister on the bank  and op having nothing t\n",
      "iter 8300: alime was beginning to get very tired op sitting by her sister on the bank  and op having nothing t\n",
      "iter 8400: alime was beginning to get very tired op sitting by her sister on the bank  and op having nothing t\n",
      "iter 8500: alime was beginning to get very tired op sitting by her sister on the bank  and op having nothing t\n",
      "iter 8600: alime was beginning to get very tired op sitting by her sister on the bank  and op having nothing t\n",
      "iter 8700: alife was beginning to get very tired op sitting by her sister on the bank  and op having nothing t\n",
      "iter 8800: alife was beginning to get very tired op sitting by her sister on the bank  and op having nothing t\n",
      "iter 8900: alife was beginning to get very tired op sitting by her sister on the bank  and op having nothing t\n",
      "iter 9000: alife was beginning to get very tired op sitting by her sister on the bank  and op having nothing t\n",
      "iter 9100: alife was beginning to get very tired op sitting by her sister on the bank  and op having nothing t\n",
      "iter 9200: alife was beginning to get very tired op sitting by her sister on the bank  and op having nothing t\n",
      "iter 9300: alife was beginning to get very tired op sitting by her sister on the bank  and op having nothing t\n",
      "iter 9400: alice was beginning to get very tired op sitting by her sister on the bank  and op having nothing t\n",
      "iter 9500: alice was beginning to get very tired op sitting by her sister on the bank  and op having nothing t\n",
      "iter 9600: alice was beginning to get very tired om sitting by her sister on the bank  and om having nothing t\n",
      "iter 9700: alice was beginning to get very tired om sitting by her sister on the bank  and om having nothing t\n",
      "iter 9800: alice was beginning to get very tired om sitting by her sister on the bank  and om having nothing t\n",
      "iter 9900: alice was beginning to get very tired om sitting by her sister on the bank  and om having nothing t\n",
      "iter 10000: alice was beginning to get very tired om sitting by her sister on the bank  and om having nothing t\n"
     ]
    },
    {
     "name": "stderr",
     "output_type": "stream",
     "text": [
      "\r",
      "  0%|          | 0/10000 [00:00<?, ?it/s]"
     ]
    },
    {
     "name": "stdout",
     "output_type": "stream",
     "text": [
      "iter 100: dyal okdnoj carrarcosboc sov tqosat iobponassarcojqoe tonans tobrose ojdrwoodriobpoedvarcorbsearcos\n",
      "iter 200: fvau okfnoy caiiaicosroc sop tlosat morbonassaicoyloe tonans toriose oyfigoofimorboefpaicoirseaicos\n",
      "iter 300: nvay okngom caiiaicosroc sop tlosat forbogassaicomloe togags toriose omniqooniforboenpaicoirseaicos\n",
      "iter 400: nvay ownhom caiiaicosroc sop tlosat forbohassaicomloe tohahs toriose omnidooniforboenpaicoirseaicos\n",
      "iter 500: nvay ownhom caiiaicosroc sop tlosat forbohassaicomloe tohahs toriose omnidooniforboenpaicoirseaicos\n",
      "iter 600: nlay ownhom caiiaicosroc sod tvosat forbohassaicomvoe tohahs toriose omnipooniforboendaicoirseaicos\n",
      "iter 700: noaye wnh cemauuaum sl mes detv sateg lp hassaum cv iet hahset lu sie cnuf  nug lp indaum ulsiaum s\n",
      "iter 800: noape wnh ceuaddadu sl ues betv sateg ly hassadu cv iet hahset ld sie cndf  ndg ly inbadu dlsiadu s\n",
      "iter 900: noape wnr ceuaddadu sl ues betf sateg ly rassadu cf iet rarset ld sie cndh  ndg ly inbadu dlsiadu s\n",
      "iter 1000: noape wnr ceyaddady sl yes betx sateg lk rassady cx iet rarset ld sie cndh  ndg lk inbady dlsiady s\n",
      "iter 1100: nlapi wnt ciyaddady se yis biog saoir ek tassady cg hio tatsio ed shi cndm  ndr ek hnbady deshady s\n",
      "iter 1200: nlapi wnt ciyaddady se yis biog saoir ek tassady cg hio tatsio ed shi cndm  ndr ek hnbady deshady s\n",
      "iter 1300: nlapi wnt ciyaddady se yis biog saoir ek tassady cg hio tatsio ed shi cndm  ndr ek hnbady deshady s\n",
      "iter 1400: alopi wat niyoddody se yis bicg socir ek tossody ng hic totsic ed shi nadm  adr ek habody deshody s\n",
      "iter 1500: alopi wat biyoddody se yis kicg socir en tossody bg hic totsic ed shi badm  adr en hakody deshody s\n",
      "iter 1600: alopi wat biyoddody se yis xicg socir en tossody bg hic totsic ed shi badm  adr en haxody deshody s\n",
      "iter 1700: alopi wat biyoddody se yis xicg socir en tossody bg hic totsic ed shi badm  adr en haxody deshody s\n",
      "iter 1800: alopi wat biyoddody se yis xicg socir en tossody bg hic totsic ed shi badm  adr en haxody deshody s\n",
      "iter 1900: alopi wat biyoddody se yis xicg socir en tossody bg hic totsic ed shi badm  adr en haxody deshody s\n",
      "iter 2000: alico wat boyiddidy se yos xonp sinor ek tissidy bp hon titson ed sho badm  adr ek haxidy deshidy s\n",
      "iter 2100: amico wat bogillilg se gos donp sinor ek tissilg bp hon titson el sho baly  alr ek hadilg leshilg s\n",
      "iter 2200: amico wat bogillilg se gos donp sinor ek tissilg bp hon titson el sho baly  alr ek hadilg leshilg s\n",
      "iter 2300: amico wat bogillilg se gos donp sinor ek tissilg bp hon titson el sho baly  alr ek hadilg leshilg s\n"
     ]
    },
    {
     "name": "stderr",
     "output_type": "stream",
     "text": [
      "\r",
      " 27%|██▋       | 2652/10000 [00:00<00:00, 26515.79it/s]"
     ]
    },
    {
     "name": "stdout",
     "output_type": "stream",
     "text": [
      "iter 2400: amico wat bogillilg se gos donp sinor ek tissilg bp hon titson el sho baly  alr ek hadilg leshilg s\n",
      "iter 2500: amico wat bogillilg se gos donk sinor ev tissilg bk hon titson el sho baly  alr ev hadilg leshilg s\n",
      "iter 2600: amico wat bogillilg se gos donk sinor ev tissilg bk hon titson el sho baly  alr ev hadilg leshilg s\n",
      "iter 2700: avice was begimmimg to get denk tiner ol sittimg bk hen sisten om the bamy  amr ol hadimg mothimg t\n",
      "iter 2800: avice was begimmimg to get denk tiner ol sittimg bk hen sisten om the bamy  amr ol hadimg mothimg t\n",
      "iter 2900: avice mas begiddidg to get fenk tiner ol sittidg bk hen sisten od the bady  adr ol hafidg dothidg t\n",
      "iter 3000: avice mas pegiddidg to get fenk tiner ol sittidg pk hen sisten od the pady  adr ol hafidg dothidg t\n",
      "iter 3100: avice mas pegiddidg to get fenk tiner ol sittidg pk hen sisten od the pady  adr ol hafidg dothidg t\n",
      "iter 3200: avice mas pegiddidg to get fenk tiner ol sittidg pk hen sisten od the pady  adr ol hafidg dothidg t\n",
      "iter 3300: avice was pegirrirg to get fenk tiney ol sittirg pk hen sisten or the pard  ary ol hafirg rothirg t\n",
      "iter 3400: avice was pegirrirg to get yenk tined ol sittirg pk hen sisten or the parf  ard ol hayirg rothirg t\n",
      "iter 3500: avice was pegirrirg to get yenk tined ol sittirg pk hen sisten or the parf  ard ol hayirg rothirg t\n",
      "iter 3600: avice was pegirrirg to get yenk tined ol sittirg pk hen sisten or the parf  ard ol hayirg rothirg t\n"
     ]
    },
    {
     "name": "stderr",
     "output_type": "stream",
     "text": [
      "\r",
      " 56%|█████▌    | 5584/10000 [00:00<00:00, 28159.59it/s]"
     ]
    },
    {
     "name": "stdout",
     "output_type": "stream",
     "text": [
      "iter 3700: avice was pegirrirg to get yenk tined ol sittirg pk hen sisten or the parf  ard ol hayirg rothirg t\n",
      "iter 3800: avice was pegirrirg to get yenk tined ol sittirg pk hen sisten or the parf  ard ol hayirg rothirg t\n",
      "iter 3900: alice was pegirrirg to get yenk tined ob sittirg pk hen sisten or the parf  ard ob hayirg rothirg t\n",
      "iter 4000: alice bas pegirrirg to get wenk tined of sittirg pk hen sisten or the pary  ard of hawirg rothirg t\n",
      "iter 4100: alice bas pegirrirg to get wenk tined of sittirg pk hen sisten or the pary  ard of hawirg rothirg t\n",
      "iter 4200: alice bas pegirrirg to get wenk tined of sittirg pk hen sisten or the pary  ard of hawirg rothirg t\n",
      "iter 4300: alice bas pegirrirg to get wenk tined of sittirg pk hen sisten or the pary  ard of hawirg rothirg t\n",
      "iter 4400: alice bas pegirrirg to get wenk tined of sittirg pk hen sisten or the pary  ard of hawirg rothirg t\n",
      "iter 4500: alice bas pegirrirg to get wenk tined of sittirg pk hen sisten or the pary  ard of hawirg rothirg t\n",
      "iter 4600: alice bas pegirrirg to get wenk tined of sittirg pk hen sisten or the pary  ard of hawirg rothirg t\n",
      "iter 4700: alice bas pegirrirg to get wenk tined of sittirg pk hen sisten or the pary  ard of hawirg rothirg t\n",
      "iter 4800: alice bas pegirrirg to get wenk tined of sittirg pk hen sisten or the pary  ard of hawirg rothirg t\n",
      "iter 4900: alice bas pegirrirg to get wenk tined of sittirg pk hen sisten or the pary  ard of hawirg rothirg t\n",
      "iter 5000: alice bas pegirrirg to get wenk tined of sittirg pk hen sisten or the pary  ard of hawirg rothirg t\n",
      "iter 5100: alice bas pegirrirg to get wenk tined of sittirg pk hen sisten or the pary  ard of hawirg rothirg t\n",
      "iter 5200: alice bas peginning to get werk tired of sitting pk her sister on the pany  and of hawing nothing t\n",
      "iter 5300: alice bas peginning to get werk tired of sitting pk her sister on the pany  and of hawing nothing t\n",
      "iter 5400: alice bas peginning to get werk tired of sitting pk her sister on the pany  and of hawing nothing t\n",
      "iter 5500: alice bas peginning to get werk tired of sitting pk her sister on the pany  and of hawing nothing t\n",
      "iter 5600: alice bas peginning to get werk tired of sitting pk her sister on the pany  and of hawing nothing t\n",
      "iter 5700: alice bas peginning to get wery tired of sitting py her sister on the pank  and of hawing nothing t\n",
      "iter 5800: alice bas peginning to get wery tired of sitting py her sister on the pank  and of hawing nothing t\n",
      "iter 5900: alice pas beginning to get wery tired of sitting by her sister on the bank  and of hawing nothing t\n",
      "iter 6000: alice pas beginning to get wery tired of sitting by her sister on the bank  and of hawing nothing t\n",
      "iter 6100: alice pas beginning to get wery tired of sitting by her sister on the bank  and of hawing nothing t\n",
      "iter 6200: alice pas beginning to get wery tired of sitting by her sister on the bank  and of hawing nothing t\n",
      "iter 6300: alice pas beginning to get wery tired of sitting by her sister on the bank  and of hawing nothing t\n",
      "iter 6400: alice pas beginning to get wery tired of sitting by her sister on the bank  and of hawing nothing t\n",
      "iter 6500: alice pas beginning to get wery tired of sitting by her sister on the bank  and of hawing nothing t\n",
      "iter 6600: alice pas beginning to get wery tired of sitting by her sister on the bank  and of hawing nothing t\n",
      "iter 6700: alice pas beginning to get wery tired of sitting by her sister on the bank  and of hawing nothing t\n",
      "iter 6800: alice pas beginning to get wery tired of sitting by her sister on the bank  and of hawing nothing t\n",
      "iter 6900: alice pas beginning to get wery tired of sitting by her sister on the bank  and of hawing nothing t\n",
      "iter 7000: alice pas beginning to get wery tired of sitting by her sister on the bank  and of hawing nothing t\n",
      "iter 7100: alice pas beginning to get wery tired of sitting by her sister on the bank  and of hawing nothing t\n",
      "iter 7200: alice pas beginning to get wery tired of sitting by her sister on the bank  and of hawing nothing t\n",
      "iter 7300: alice pas beginning to get wery tired of sitting by her sister on the bank  and of hawing nothing t\n",
      "iter 7400: alice pas beginning to get wery tired of sitting by her sister on the bank  and of hawing nothing t\n",
      "iter 7500: alice pas beginning to get wery tired of sitting by her sister on the bank  and of hawing nothing t\n",
      "iter 7600: alice pas beginning to get wery tired of sitting by her sister on the bank  and of hawing nothing t\n",
      "iter 7700: alice pas beginning to get wery tired of sitting by her sister on the bank  and of hawing nothing t\n",
      "iter 7800: alice pas beginning to get wery tired of sitting by her sister on the bank  and of hawing nothing t\n",
      "iter 7900: alice pas beginning to get wery tired of sitting by her sister on the bank  and of hawing nothing t\n",
      "iter 8000: alice pas beginning to get wery tired of sitting by her sister on the bank  and of hawing nothing t\n",
      "iter 8100: alice pas beginning to get wery tired of sitting by her sister on the bank  and of hawing nothing t\n",
      "iter 8200: alice was meginning to get bery tired of sitting my her sister on the mank  and of habing nothing t\n"
     ]
    },
    {
     "name": "stderr",
     "output_type": "stream",
     "text": [
      "\r",
      " 85%|████████▍ | 8485/10000 [00:00<00:00, 28546.03it/s]"
     ]
    },
    {
     "name": "stdout",
     "output_type": "stream",
     "text": [
      "iter 8300: alice was meginning to get bery tired of sitting my her sister on the mank  and of habing nothing t\n",
      "iter 8400: alice was meginning to get bery tired of sitting my her sister on the mank  and of habing nothing t\n",
      "iter 8500: alice was meginning to get bery tired of sitting my her sister on the mank  and of habing nothing t\n",
      "iter 8600: alice was meginning to get bery tired of sitting my her sister on the mank  and of habing nothing t\n",
      "iter 8700: alice was meginning to get bery tired of sitting my her sister on the mank  and of habing nothing t\n",
      "iter 8800: alice was meginning to get bery tired of sitting my her sister on the mank  and of habing nothing t\n",
      "iter 8900: alice was meginning to get bery tired of sitting my her sister on the mank  and of habing nothing t\n",
      "iter 9000: alice was meginning to get bery tired of sitting my her sister on the mank  and of habing nothing t\n",
      "iter 9100: alice was meginning to get bery tired of sitting my her sister on the mank  and of habing nothing t\n",
      "iter 9200: alice was meginning to get bery tired of sitting my her sister on the mank  and of habing nothing t\n",
      "iter 9300: alice was meginning to get bery tired of sitting my her sister on the mank  and of habing nothing t\n",
      "iter 9400: alice was meginning to get bery tired of sitting my her sister on the mank  and of habing nothing t\n",
      "iter 9500: alice was meginning to get bery tired of sitting my her sister on the mank  and of habing nothing t\n"
     ]
    },
    {
     "name": "stderr",
     "output_type": "stream",
     "text": [
      "100%|██████████| 10000/10000 [00:00<00:00, 28362.83it/s]\n"
     ]
    },
    {
     "name": "stdout",
     "output_type": "stream",
     "text": [
      "iter 9600: alice was meginning to get bery tired of sitting my her sister on the mank  and of habing nothing t\n",
      "iter 9700: alice was meginning to get bery tired of sitting my her sister on the mank  and of habing nothing t\n",
      "iter 9800: alice was meginning to get bery tired of sitting my her sister on the mank  and of habing nothing t\n",
      "iter 9900: alice was meginning to get bery tired of sitting my her sister on the mank  and of habing nothing t\n",
      "iter 10000: alice was meginning to get bery tired of sitting my her sister on the mank  and of habing nothing t\n"
     ]
    },
    {
     "name": "stderr",
     "output_type": "stream",
     "text": [
      "\r",
      "  0%|          | 0/10000 [00:00<?, ?it/s]"
     ]
    },
    {
     "name": "stdout",
     "output_type": "stream",
     "text": [
      "iter 100: ywiue hyf tesirrirs ao sea qedg aidec ob fiaairs tg ned fifaed or ane tyrp  yrc ob nyqirs roanirs a\n",
      "iter 200: slice dsw hexiuuiux ao xea fent ainer oy wiaaiux ht men wiwaen ou ame hsup  sur oy msfiux uoamiux a\n",
      "iter 300: smrce lsw hexruurux ao xea fent arned oy wraarux ht ien wrwaen ou aie hsup  sud oy isfrux uoairux a\n",
      "iter 400: sbuce rst hexullulx ao xea fenm auned oy tuaaulx hm ien tutaen ol aie hslp  sld oy isfulx loaiulx a\n",
      "iter 500: sbuce rst hexullulx ao xea fenm auned oy tuaaulx hm ien tutaen ol aie hslp  sld oy isfulx loaiulx a\n",
      "iter 600: isuce tir hevullulv ao vea fenm auned oy ruaaulv hm ben ruraen ol abe hilp  ild oy bifulv loabulv a\n",
      "iter 700: isuce tir hevullulv ao vea fenm auned oy ruaaulv hm ben ruraen ol abe hilp  ild oy bifulv loabulv a\n",
      "iter 800: isuce hir wevullulv ao vea fenm auned ot ruaaulv wm ben ruraen ol abe wilp  ild ot bifulv loabulv a\n",
      "iter 900: isume hir wevullulv ao vea benc auned ot ruaaulv wc fen ruraen ol afe wilp  ild ot fibulv loafulv a\n",
      "iter 1000: ilume tif cehuddudh ao hea benv aunes ow fuaaudh cv ren fufaen od are cidg  ids ow ribudh doarudh a\n",
      "iter 1100: ilupe tif cehunnunh ao hea bemv aumes ow fuaaunh cv rem fufaem on are cing  ins ow ribunh noarunh a\n",
      "iter 1200: ilupe tif cehunnunh ao hea bemv aumes ow fuaaunh cv rem fufaem on are cing  ins ow ribunh noarunh a\n",
      "iter 1300: ilupe tih kedunnund ao dea besv ausem of huaaund kv res huhaes on are king  inm of ribund noarund a\n",
      "iter 1400: ilupe tih kedunnund ao dea besv ausem of huaaund kv res huhaes on are king  inm of ribund noarund a\n",
      "iter 1500: ilupe tih kedunnund ao dea besv ausem of huaaund kv res huhaes on are king  inm of ribund noarund a\n",
      "iter 1600: ilupe tih kedunnund ao dea besv ausem of huaaund kv res huhaes on are king  inm of ribund noarund a\n",
      "iter 1700: ilupe tih kedunnund ao dea besv ausem of huaaund kv res huhaes on are king  inm of ribund noarund a\n",
      "iter 1800: ilube aik pedunnund to det hesv tusem of kuttund pv res kuktes on tre ping  inm of rihund notrund t\n",
      "iter 1900: ilube aih pedunnund to det kesv tusem of huttund pv res huhtes on tre ping  inm of rikund notrund t\n",
      "iter 2000: ilube aih pedunnund to det kesv tusem of huttund pv res huhtes on tre ping  inm of rikund notrund t\n"
     ]
    },
    {
     "name": "stderr",
     "output_type": "stream",
     "text": [
      "\r",
      " 28%|██▊       | 2799/10000 [00:00<00:00, 27987.49it/s]"
     ]
    },
    {
     "name": "stdout",
     "output_type": "stream",
     "text": [
      "iter 2100: ilube aih pedunnund to det kesv tusem of huttund pv res huhtes on tre ping  inm of rikund notrund t\n",
      "iter 2200: ilube aih pedunnund to det kesv tusem of huttund pv res huhtes on tre ping  inm of rikund notrund t\n",
      "iter 2300: ilube aih pedunnund to det kesv tusem of huttund pv res huhtes on tre ping  inm of rikund notrund t\n",
      "iter 2400: ilube aih pedunnund to det kesv tusem ow huttund pv res huhtes on tre ping  inm ow rikund notrund t\n",
      "iter 2500: ilube aih pedunnund to det kesv tusem ow huttund pv res huhtes on tre ping  inm ow rikund notrund t\n",
      "iter 2600: ilube aih pedunnund to det kesv tusem ow huttund pv res huhtes on tre ping  inm ow rikund notrund t\n",
      "iter 2700: ilube aih pedunnund to det kesv tusem ow huttund pv res huhtes on tre ping  inm ow rikund notrund t\n",
      "iter 2800: ilube fih pedunnund to det kesg tusem oy huttund pg res huhtes on tre pinv  inm oy rikund notrund t\n",
      "iter 2900: ilube fih pedunnund to det kesg tusem oy huttund pg res huhtes on tre pinv  inm oy rikund notrund t\n",
      "iter 3000: ilube fih pedunnund to det kesg tusem oy huttund pg res huhtes on tre pinv  inm oy rikund notrund t\n",
      "iter 3100: ilube fih pedunnund to det kesg tusem oy huttund pg res huhtes on tre pinv  inm oy rikund notrund t\n",
      "iter 3200: ilube fih pedunnund to det kesg tusem oy huttund pg res huhtes on tre pinv  inm oy rikund notrund t\n",
      "iter 3300: ilube fih pedunnund to det kesg tusem oy huttund pg res huhtes on tre pinv  inm oy rikund notrund t\n",
      "iter 3400: ilube fih pedunnund to det kesg tusem oy huttund pg res huhtes on tre pinv  inm oy rikund notrund t\n",
      "iter 3500: ilube fih pedunnund to det kesg tusem oy huttund pg res huhtes on tre pinv  inm oy rikund notrund t\n",
      "iter 3600: ilube fih pedunnund to det kesg tusem oy huttund pg res huhtes on tre pinv  inm oy rikund notrund t\n",
      "iter 3700: ilube fih pedunnund to det kesg tusem oy huttund pg res huhtes on tre pinv  inm oy rikund notrund t\n",
      "iter 3800: ilube fih pedunnund to det kesg tusem oy huttund pg res huhtes on tre pinv  inm oy rikund notrund t\n",
      "iter 3900: ilube fih pedunnund to det kesg tusem oy huttund pg res huhtes on tre pinv  inm oy rikund notrund t\n",
      "iter 4000: ilube fih pedunnund to det kesg tusem oy huttund pg res huhtes on tre pinv  inm oy rikund notrund t\n",
      "iter 4100: ilube fih pedunnund to det kesg tusem oy huttund pg res huhtes on tre pinv  inm oy rikund notrund t\n",
      "iter 4200: ilube fih pedunnund to det kesg tusem oy huttund pg res huhtes on tre pinv  inm oy rikund notrund t\n",
      "iter 4300: iloue fiw pedonnond ta det xesg tosem ay wottond pg hes wowtes an the pinv  inm ay hixond nathond t\n",
      "iter 4400: iloue fiw pedonnond ta det xesg tosem ay wottond pg hes wowtes an the pinv  inm ay hixond nathond t\n",
      "iter 4500: iloue fiw pedonnond ta det xesg tosem ay wottond pg hes wowtes an the pinv  inm ay hixond nathond t\n",
      "iter 4600: iloue fiw pedonnond ta det xesg tosem ay wottond pg hes wowtes an the pinv  inm ay hixond nathond t\n",
      "iter 4700: iloue fiw cedonnond ta det xesg tosem ay wottond cg hes wowtes an the cinv  inm ay hixond nathond t\n",
      "iter 4800: iloue fiw cedonnond ta det xesg tosem ay wottond cg hes wowtes an the cinv  inm ay hixond nathond t\n",
      "iter 4900: iloue fiw cedonnond ta det xesg tosem ay wottond cg hes wowtes an the cinv  inm ay hixond nathond t\n",
      "iter 5000: iloue fiw cedonnond ta det xesg tosem ay wottond cg hes wowtes an the cinv  inm ay hixond nathond t\n",
      "iter 5100: iloue fiw cedonnond ta det xesg tosem ay wottond cg hes wowtes an the cinv  inm ay hixond nathond t\n",
      "iter 5200: iloue fiw cedonnond ta det xesg tosem ay wottond cg hes wowtes an the cinv  inm ay hixond nathond t\n"
     ]
    },
    {
     "name": "stderr",
     "output_type": "stream",
     "text": [
      "\r",
      " 56%|█████▋    | 5629/10000 [00:00<00:00, 28168.80it/s]"
     ]
    },
    {
     "name": "stdout",
     "output_type": "stream",
     "text": [
      "iter 5300: iloue fiw cedonnond ta det xesg tosem ay wottond cg hes wowtes an the cinv  inm ay hixond nathond t\n",
      "iter 5400: iloue fiw cedonnond ta det xesg tosem ay wottond cg hes wowtes an the cinv  inm ay hixond nathond t\n",
      "iter 5500: iloue fiw cedonnond ta det xesg tosem ay wottond cg hes wowtes an the cinv  inm ay hixond nathond t\n",
      "iter 5600: aliue faw cedinnind to det xesg tisem oy wittind cg hes wiwtes on the canv  anm oy haxind nothind t\n",
      "iter 5700: aliue faw cedinnind to det xesg tisem oy wittind cg hes wiwtes on the canv  anm oy haxind nothind t\n",
      "iter 5800: aliue faw cedinnind to det xesg tisem oy wittind cg hes wiwtes on the canv  anm oy haxind nothind t\n",
      "iter 5900: aliue faw cedinnind to det xesg tisem oy wittind cg hes wiwtes on the canv  anm oy haxind nothind t\n",
      "iter 6000: aliue faw cedinnind to det xesg tisem oy wittind cg hes wiwtes on the canv  anm oy haxind nothind t\n",
      "iter 6100: aliue faw cedinnind to det xesg tisem oy wittind cg hes wiwtes on the canv  anm oy haxind nothind t\n",
      "iter 6200: aliue faw cedinnind to det xesg tisem oy wittind cg hes wiwtes on the canv  anm oy haxind nothind t\n",
      "iter 6300: aliue faw cedinnind to det xesg tisem oy wittind cg hes wiwtes on the canv  anm oy haxind nothind t\n",
      "iter 6400: aliue faw cedinnind to det xesg tisem oy wittind cg hes wiwtes on the canv  anm oy haxind nothind t\n",
      "iter 6500: alire fac gedinnind to det xesu tisem oy cittind gu hes cictes on the ganv  anm oy haxind nothind t\n",
      "iter 6600: apiwe sag ledinnind to det xery tirem of gittind ly her gigter on the lanv  anm of haxind nothind t\n",
      "iter 6700: apiwe sag ledinnind to det xery tirem of gittind ly her gigter on the lanv  anm of haxind nothind t\n",
      "iter 6800: apiwe sag ledinnind to det xery tirem of gittind ly her gigter on the lanv  anm of haxind nothind t\n",
      "iter 6900: apiwe sag ledinnind to det xery tirem of gittind ly her gigter on the lanv  anm of haxind nothind t\n",
      "iter 7000: apiwe sag ledinnind to det xery tirem of gittind ly her gigter on the lanv  anm of haxind nothind t\n",
      "iter 7100: apiwe sag ledinnind to det xery tirem of gittind ly her gigter on the lanv  anm of haxind nothind t\n",
      "iter 7200: apiwe sag ledinnind to det xery tirem of gittind ly her gigter on the lanv  anm of haxind nothind t\n",
      "iter 7300: apiwe sag ledinnind to det xery tirem of gittind ly her gigter on the lanv  anm of haxind nothind t\n",
      "iter 7400: apiwe sag ledinnind to det xery tirem of gittind ly her gigter on the lanv  anm of haxind nothind t\n",
      "iter 7500: apiwe sag ledinnind to det jery tirem of gittind ly her gigter on the lanv  anm of hajind nothind t\n",
      "iter 7600: apiwe sag ledinnind to det jery tirem of gittind ly her gigter on the lanv  anm of hajind nothind t\n",
      "iter 7700: apiwe sag ledinnind to det jery tirem of gittind ly her gigter on the lanv  anm of hajind nothind t\n"
     ]
    },
    {
     "name": "stderr",
     "output_type": "stream",
     "text": [
      "\r",
      " 85%|████████▌ | 8513/10000 [00:00<00:00, 28473.45it/s]"
     ]
    },
    {
     "name": "stdout",
     "output_type": "stream",
     "text": [
      "iter 7800: apiwe mag ledinnind to det jery tires of gittind ly her gigter on the lanv  ans of hajind nothind t\n",
      "iter 7900: apiwe mag ledinnind to det jery tires of gittind ly her gigter on the lanv  ans of hajind nothind t\n",
      "iter 8000: apiwe mag ledinnind to det jery tires of gittind ly her gigter on the lanv  ans of hajind nothind t\n",
      "iter 8100: apiwe mag ledinnind to det jery tires of gittind ly her gigter on the lanv  ans of hajind nothind t\n",
      "iter 8200: adike wag bepinninp to pet jery tires of gittinp by her gigter on the banv  ans of hajinp nothinp t\n",
      "iter 8300: adike wag bepinninp to pet jery tires of gittinp by her gigter on the banv  ans of hajinp nothinp t\n",
      "iter 8400: adike wag bepinninp to pet jery tires of gittinp by her gigter on the banv  ans of hajinp nothinp t\n",
      "iter 8500: adike wag bepinninp to pet jery tires of gittinp by her gigter on the banv  ans of hajinp nothinp t\n",
      "iter 8600: adike wag bepinninp to pet jery tires of gittinp by her gigter on the banv  ans of hajinp nothinp t\n",
      "iter 8700: adike wag bepinninp to pet jery tires of gittinp by her gigter on the banv  ans of hajinp nothinp t\n",
      "iter 8800: adike wag bepinninp to pet jery tires of gittinp by her gigter on the banv  ans of hajinp nothinp t\n",
      "iter 8900: adike wag bepinninp to pet jery tires of gittinp by her gigter on the banv  ans of hajinp nothinp t\n",
      "iter 9000: adike wag bepinninp to pet jery tires of gittinp by her gigter on the banv  ans of hajinp nothinp t\n",
      "iter 9100: adike wag bepinninp to pet jery tires of gittinp by her gigter on the banv  ans of hajinp nothinp t\n",
      "iter 9200: adike wag bepinninp to pet jery tires of gittinp by her gigter on the banv  ans of hajinp nothinp t\n",
      "iter 9300: adike wag bepinninp to pet jery tires of gittinp by her gigter on the banv  ans of hajinp nothinp t\n",
      "iter 9400: adike wag bepinninp to pet jery tires of gittinp by her gigter on the banv  ans of hajinp nothinp t\n",
      "iter 9500: apike wag bedinnind to det zery tires of gittind by her gigter on the banv  ans of hazind nothind t\n",
      "iter 9600: apike wag bedinnind to det zery tires of gittind by her gigter on the banv  ans of hazind nothind t\n",
      "iter 9700: apike wag bedinnind to det zery tires of gittind by her gigter on the banv  ans of hazind nothind t\n"
     ]
    },
    {
     "name": "stderr",
     "output_type": "stream",
     "text": [
      "\r",
      "100%|██████████| 10000/10000 [00:00<00:00, 28385.69it/s]"
     ]
    },
    {
     "name": "stdout",
     "output_type": "stream",
     "text": [
      "iter 9800: apike wag bedinnind to det zery tires of gittind by her gigter on the banv  ans of hazind nothind t\n",
      "iter 9900: apike wag bedinnind to det zery tires of gittind by her gigter on the banv  ans of hazind nothind t\n",
      "iter 10000: apike wag bedinnind to det zery tires of gittind by her gigter on the banv  ans of hazind nothind t\n"
     ]
    },
    {
     "name": "stderr",
     "output_type": "stream",
     "text": [
      "\n"
     ]
    }
   ],
   "source": [
    "for step in range(2, 8):\n",
    "    _, scores, it_num = decrypting(observed_frequences, empirical_frequences, 10000, m, step, 69, 100)\n",
    "\n",
    "    plot_info.append((step, scores, it_num))"
   ]
  },
  {
   "cell_type": "code",
   "execution_count": 39,
   "metadata": {},
   "outputs": [
    {
     "data": {
      "image/png": "[encoded data removed]",
      "text/plain": [
       "<Figure size 936x504 with 1 Axes>"
      ]
     },
     "metadata": {
      "needs_background": "light"
     },
     "output_type": "display_data"
    }
   ],
   "source": [
    "plt.figure(figsize=(13, 7))\n",
    "\n",
    "for step, scores, it_num in plot_info:\n",
    "    plt.plot(scores, label=f'step={step}, its_num={it_num}')\n",
    "#     plt.axvline(it_num, c='k', linestyle='--', alpha=0.8)\n",
    "\n",
    "plt.title('Scores progression per step')\n",
    "# plt.xlabel('x')\n",
    "\n",
    "plt.legend()\n",
    "plt.grid()\n",
    "plt.show()"
   ]
  },
  {
   "cell_type": "code",
   "execution_count": null,
   "metadata": {},
   "outputs": [],
   "source": []
  }
 ],
 "metadata": {
  "kernelspec": {
   "display_name": "firstEnv",
   "language": "python",
   "name": "firstenv"
  },
  "language_info": {
   "codemirror_mode": {
    "name": "ipython",
    "version": 3
   },
   "file_extension": ".py",
   "mimetype": "text/x-python",
   "name": "python",
   "nbconvert_exporter": "python",
   "pygments_lexer": "ipython3",
   "version": "3.8.8"
  }
 },
 "nbformat": 4,
 "nbformat_minor": 4
}
