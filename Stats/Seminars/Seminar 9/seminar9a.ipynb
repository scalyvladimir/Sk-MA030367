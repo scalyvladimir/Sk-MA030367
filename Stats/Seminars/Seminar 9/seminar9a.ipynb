{
 "cells": [
  {
   "cell_type": "markdown",
   "metadata": {
    "colab_type": "text",
    "id": "l1AIZdDLp96n"
   },
   "source": [
    "# Bornoulli coin tossing\n",
    "http://pyro.ai/examples/svi_part_i.html"
   ]
  },
  {
   "cell_type": "code",
   "execution_count": 1,
   "metadata": {
    "colab": {},
    "colab_type": "code",
    "id": "kuLiczgRec7s"
   },
   "outputs": [
    {
     "ename": "ModuleNotFoundError",
     "evalue": "No module named 'torch'",
     "output_type": "error",
     "traceback": [
      "\u001b[0;31m---------------------------------------------------------------------------\u001b[0m",
      "\u001b[0;31mModuleNotFoundError\u001b[0m                       Traceback (most recent call last)",
      "\u001b[0;32m<ipython-input-1-28656af9a0d2>\u001b[0m in \u001b[0;36m<module>\u001b[0;34m\u001b[0m\n\u001b[1;32m      1\u001b[0m \u001b[0;32mimport\u001b[0m \u001b[0mmath\u001b[0m\u001b[0;34m\u001b[0m\u001b[0;34m\u001b[0m\u001b[0m\n\u001b[0;32m----> 2\u001b[0;31m \u001b[0;32mimport\u001b[0m \u001b[0mtorch\u001b[0m\u001b[0;34m\u001b[0m\u001b[0;34m\u001b[0m\u001b[0m\n\u001b[0m\u001b[1;32m      3\u001b[0m \u001b[0;32mimport\u001b[0m \u001b[0mtorch\u001b[0m\u001b[0;34m.\u001b[0m\u001b[0mdistributions\u001b[0m\u001b[0;34m.\u001b[0m\u001b[0mconstraints\u001b[0m \u001b[0;32mas\u001b[0m \u001b[0mconstraints\u001b[0m\u001b[0;34m\u001b[0m\u001b[0;34m\u001b[0m\u001b[0m\n\u001b[1;32m      4\u001b[0m \u001b[0;32mimport\u001b[0m \u001b[0mpyro\u001b[0m\u001b[0;34m\u001b[0m\u001b[0;34m\u001b[0m\u001b[0m\n\u001b[1;32m      5\u001b[0m \u001b[0;32mfrom\u001b[0m \u001b[0mpyro\u001b[0m\u001b[0;34m.\u001b[0m\u001b[0moptim\u001b[0m \u001b[0;32mimport\u001b[0m \u001b[0mAdam\u001b[0m\u001b[0;34m\u001b[0m\u001b[0;34m\u001b[0m\u001b[0m\n",
      "\u001b[0;31mModuleNotFoundError\u001b[0m: No module named 'torch'"
     ]
    }
   ],
   "source": [
    "import math\n",
    "import torch\n",
    "import torch.distributions.constraints as constraints\n",
    "import pyro\n",
    "from pyro.optim import Adam\n",
    "from pyro.infer import SVI, Trace_ELBO\n",
    "import pyro.distributions as dist\n",
    "\n",
    "from pyro.infer.autoguide import AutoDiagonalNormal"
   ]
  },
  {
   "cell_type": "code",
   "execution_count": 2,
   "metadata": {
    "colab": {},
    "colab_type": "code",
    "id": "f0T3LAkQp77c"
   },
   "outputs": [
    {
     "ename": "NameError",
     "evalue": "name 'pyro' is not defined",
     "output_type": "error",
     "traceback": [
      "\u001b[0;31m---------------------------------------------------------------------------\u001b[0m",
      "\u001b[0;31mNameError\u001b[0m                                 Traceback (most recent call last)",
      "\u001b[0;32m<ipython-input-2-f5612cb8dc43>\u001b[0m in \u001b[0;36m<module>\u001b[0;34m\u001b[0m\n\u001b[1;32m      1\u001b[0m \u001b[0;31m# Pyro stores some info between computations, we need to clear that\u001b[0m\u001b[0;34m\u001b[0m\u001b[0;34m\u001b[0m\u001b[0;34m\u001b[0m\u001b[0m\n\u001b[0;32m----> 2\u001b[0;31m \u001b[0mpyro\u001b[0m\u001b[0;34m.\u001b[0m\u001b[0mclear_param_store\u001b[0m\u001b[0;34m(\u001b[0m\u001b[0;34m)\u001b[0m\u001b[0;34m\u001b[0m\u001b[0;34m\u001b[0m\u001b[0m\n\u001b[0m",
      "\u001b[0;31mNameError\u001b[0m: name 'pyro' is not defined"
     ]
    }
   ],
   "source": [
    "# Pyro stores some info between computations, we need to clear that\n",
    "pyro.clear_param_store()"
   ]
  },
  {
   "cell_type": "code",
   "execution_count": 3,
   "metadata": {
    "colab": {
     "base_uri": "https://localhost:8080/",
     "height": 54
    },
    "colab_type": "code",
    "id": "n7hGUuJreOn8",
    "outputId": "204469e7-67ca-4bb5-8351-365a2ee11c66"
   },
   "outputs": [
    {
     "name": "stdout",
     "output_type": "stream",
     "text": [
      "[tensor(1.), tensor(1.), tensor(1.), tensor(1.), tensor(1.), tensor(1.), tensor(1.), tensor(1.), tensor(1.), tensor(1.), tensor(0.), tensor(0.), tensor(0.), tensor(0.), tensor(0.), tensor(0.), tensor(0.), tensor(0.), tensor(0.), tensor(0.), tensor(0.), tensor(0.), tensor(0.), tensor(0.), tensor(0.), tensor(0.), tensor(0.), tensor(0.), tensor(0.), tensor(0.)]\n"
     ]
    }
   ],
   "source": [
    "# create a dataset of 10 tails and 20 heads\n",
    "data = []\n",
    "\n",
    "tails_number = 10\n",
    "heads_number = 20\n",
    "\n",
    "for _ in range(tails_number):\n",
    "    data.append(torch.tensor(1.0))\n",
    "for _ in range(heads_number):\n",
    "    data.append(torch.tensor(0.0))\n",
    "print(data)"
   ]
  },
  {
   "cell_type": "markdown",
   "metadata": {
    "colab_type": "text",
    "id": "Ky7B4bvYgLva"
   },
   "source": [
    "We will use the Bete distribution with parameters $\\alpha$ and $\\beta$ as a prior for the parameter of our Bernoulli random variable.\n",
    "\n",
    "<img src='https://upload.wikimedia.org/wikipedia/commons/thumb/f/f3/Beta_distribution_pdf.svg/488px-Beta_distribution_pdf.svg.png' style='background:white' />"
   ]
  },
  {
   "cell_type": "code",
   "execution_count": 4,
   "metadata": {
    "colab": {},
    "colab_type": "code",
    "id": "bdTgHKc4fWSI"
   },
   "outputs": [],
   "source": [
    "def model(data):\n",
    "    \"\"\"\n",
    "    Generative model: \n",
    "    * sample Bernoulli parameter from the prior Beta distribution\n",
    "    * 'toss' a coin with sampled parameter of heads, mark as observed and plug in data\n",
    "    \"\"\"  \n",
    "    # Prior\n",
    "    alpha_zero = torch.tensor(10.0)\n",
    "    beta_zero = torch.tensor(10.0)\n",
    "    # Sample heads probability\n",
    "    fairness = pyro.sample(\"latent_fairness\", dist.Beta(alpha_zero, beta_zero))\n",
    "\n",
    "    # Each toss is independent with the same probability\n",
    "    for i in range(len(data)):\n",
    "        # Provide observed values\n",
    "        pyro.sample(\"obs_{}\".format(i), dist.Bernoulli(fairness), obs=data[i])"
   ]
  },
  {
   "cell_type": "code",
   "execution_count": 5,
   "metadata": {
    "colab": {},
    "colab_type": "code",
    "id": "3xlsQu-igGxu"
   },
   "outputs": [],
   "source": [
    "def guide(data):\n",
    "    # Posterior distribution will be in the same family: Beta\n",
    "    # Initial values of the parameters will be equal\n",
    "    alpha_q = pyro.param(\"alpha_q\", torch.tensor(20.0),\n",
    "                        constraint=constraints.positive)\n",
    "    beta_q = pyro.param(\"beta_q\", torch.tensor(20.0),\n",
    "                      constraint=constraints.positive)\n",
    "    # Sample from approximate posterior\n",
    "    pyro.sample(\"latent_fairness\", dist.Beta(alpha_q, beta_q))"
   ]
  },
  {
   "cell_type": "code",
   "execution_count": 6,
   "metadata": {
    "colab": {},
    "colab_type": "code",
    "id": "RHzS5-CuhA38"
   },
   "outputs": [],
   "source": [
    "# setup the optimizer\n",
    "adam_parameters = {\"lr\": 0.0005, \"betas\": (0.90, 0.999)}\n",
    "optimizer = Adam(adam_parameters)\n",
    "\n",
    "# setup the inference algorithm\n",
    "svi = SVI(model, guide, optimizer, loss=Trace_ELBO())"
   ]
  },
  {
   "cell_type": "code",
   "execution_count": 7,
   "metadata": {
    "colab": {
     "base_uri": "https://localhost:8080/",
     "height": 280
    },
    "colab_type": "code",
    "id": "ZvkZUxJRktq_",
    "outputId": "72bdc880-4548-45d6-8f8d-b7142eaf2968"
   },
   "outputs": [
    {
     "name": "stdout",
     "output_type": "stream",
     "text": [
      "[iteration 1 / 1900] loss: 22.24\n",
      "[iteration 101 / 1900] loss: 22.76\n",
      "[iteration 201 / 1900] loss: 19.37\n",
      "[iteration 301 / 1900] loss: 20.12\n",
      "[iteration 401 / 1900] loss: 20.32\n",
      "[iteration 501 / 1900] loss: 19.74\n",
      "[iteration 601 / 1900] loss: 19.94\n",
      "[iteration 701 / 1900] loss: 20.38\n",
      "[iteration 801 / 1900] loss: 20.36\n",
      "[iteration 901 / 1900] loss: 20.16\n",
      "[iteration 1001 / 1900] loss: 20.31\n",
      "[iteration 1101 / 1900] loss: 20.11\n",
      "[iteration 1201 / 1900] loss: 20.35\n",
      "[iteration 1301 / 1900] loss: 20.44\n",
      "[iteration 1401 / 1900] loss: 20.13\n",
      "[iteration 1501 / 1900] loss: 20.19\n",
      "[iteration 1601 / 1900] loss: 20.5\n",
      "[iteration 1701 / 1900] loss: 20.46\n",
      "[iteration 1801 / 1900] loss: 20.27\n"
     ]
    }
   ],
   "source": [
    "pyro.clear_param_store()\n",
    "\n",
    "step_number = 1900\n",
    "\n",
    "for j in range(step_number):\n",
    "    # calculate the loss and take a gradient step\n",
    "    loss = svi.step(data)\n",
    "    if j % 100 == 0:\n",
    "        print(\"[iteration {:} / {:}] loss: {:.4}\".format(j + 1, step_number, loss))"
   ]
  },
  {
   "cell_type": "markdown",
   "metadata": {},
   "source": [
    "Extract posterior parameters:"
   ]
  },
  {
   "cell_type": "code",
   "execution_count": 8,
   "metadata": {
    "colab": {
     "base_uri": "https://localhost:8080/",
     "height": 331
    },
    "colab_type": "code",
    "id": "aGteZXmzlQ41",
    "outputId": "81021d58-6377-47c9-daa9-9a6433bbfbae"
   },
   "outputs": [],
   "source": [
    "alpha_q = pyro.param(\"alpha_q\").item()\n",
    "beta_q = pyro.param(\"beta_q\").item()"
   ]
  },
  {
   "cell_type": "markdown",
   "metadata": {},
   "source": [
    "Here we use some facts about the beta distribution:\n",
    "* compute the inferred mean of the coin's fairness\n",
    "* compute inferred standard deviation"
   ]
  },
  {
   "cell_type": "code",
   "execution_count": 10,
   "metadata": {
    "colab": {
     "base_uri": "https://localhost:8080/",
     "height": 52
    },
    "colab_type": "code",
    "id": "1c7y0RJRlU7N",
    "outputId": "ca5927ef-0379-420a-acb4-60767f213d30"
   },
   "outputs": [
    {
     "name": "stdout",
     "output_type": "stream",
     "text": [
      "Based on the data and our prior belief, the fairness of the coin is 0.400 +- 0.076\n"
     ]
    }
   ],
   "source": [
    "inferred_mean = alpha_q / (alpha_q + beta_q)\n",
    "inferred_std = math.sqrt(alpha_q * beta_q / (alpha_q + beta_q)**2 / (1.0 + alpha_q + beta_q))\n",
    "\n",
    "print(f\"Based on the data and our prior belief, the fairness of the coin is {inferred_mean:.3f} +- {inferred_std:.3f}\")"
   ]
  },
  {
   "cell_type": "code",
   "execution_count": null,
   "metadata": {},
   "outputs": [],
   "source": []
  }
 ],
 "metadata": {
  "kernelspec": {
   "display_name": "firstEnv",
   "language": "python",
   "name": "firstenv"
  },
  "language_info": {
   "codemirror_mode": {
    "name": "ipython",
    "version": 3
   },
   "file_extension": ".py",
   "mimetype": "text/x-python",
   "name": "python",
   "nbconvert_exporter": "python",
   "pygments_lexer": "ipython3",
   "version": "3.8.8"
  }
 },
 "nbformat": 4,
 "nbformat_minor": 4
}
