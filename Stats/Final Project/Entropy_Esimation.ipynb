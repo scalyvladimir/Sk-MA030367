{
  "cells": [
    {
      "cell_type": "markdown",
      "metadata": {
        "id": "5WUxtbcRRaMz"
      },
      "source": [
        "#*Shannon’s entropy and Its Generalizations towards Statistics, Reliability and Information Science during 1948-2018*"
      ]
    },
    {
      "cell_type": "markdown",
      "source": [
        "## Report on the work done. Zakharov, Marin, Chernyy."
      ],
      "metadata": {
        "id": "5aG8mtvSqJ7i"
      }
    },
    {
      "cell_type": "markdown",
      "metadata": {
        "id": "X9CgAfr4ROAF"
      },
      "source": [
        "[Paper link](https://arxiv.org/pdf/1901.09779.pdf)"
      ]
    },
    {
      "cell_type": "markdown",
      "metadata": {
        "id": "8TKVgUHC5Eoj"
      },
      "source": [
        "## Estimation of $H(\\xi)$"
      ]
    },
    {
      "cell_type": "markdown",
      "metadata": {
        "id": "v6rOZK7JC4wA"
      },
      "source": [
        "$H(\\xi)=-\\int_{-\\infty}^{\\infty} f(\\xi) \\log _{2} f(\\xi) d x$"
      ]
    },
    {
      "cell_type": "code",
      "execution_count": null,
      "metadata": {
        "id": "ju-nujprI1xL"
      },
      "outputs": [],
      "source": [
        "import numpy as np\n",
        "import numpy.linalg as nla\n",
        "import scipy\n",
        "import scipy.stats\n",
        "import pandas as pd\n",
        "from tqdm import tqdm \n",
        "import matplotlib.pyplot as plt\n",
        "from scipy.stats import norm"
      ]
    },
    {
      "cell_type": "markdown",
      "source": [
        "## Data and their real entropy value"
      ],
      "metadata": {
        "id": "wG5S0jjFJMvv"
      }
    },
    {
      "cell_type": "code",
      "execution_count": null,
      "metadata": {
        "id": "ss9xgzWll5h6"
      },
      "outputs": [],
      "source": [
        "n = 1000\n",
        "X_normal = np.random.normal(0, 1, n)\n",
        "X_uniform = np.random.uniform(0, 1, n)\n",
        "X_exponential = np.random.exponential(1, n)"
      ]
    },
    {
      "cell_type": "code",
      "source": [
        "def real_H_normal(sigma):\n",
        "    return np.log(sigma * np.sqrt(2 * np.pi * np.e))\n",
        "def real_H_uniform(a, b):\n",
        "    return np.log(b - a)\n",
        "def real_H_exponential(lmbda):\n",
        "    return 1 - np.log(lmbda)\n",
        "def real_H_laplace(b):\n",
        "\treturn 1 + np.log(2 * b)\n",
        "def real_H_chi_squared(k):\n",
        "\treturn np.log(2 * gamma(k/2)) - (1 - k/2) * digamma(k/2) + k/2\n",
        "def real_H_gamma(k, theta):\n",
        "\treturn np.log(theta * gamma(k)) + (1 - k) * digamma(k) + k\n",
        "\n",
        "print(\"Entropy for N(0, 1) equals to\", real_H_normal(1))\n",
        "print(\"Entropy for U(0, 1) equals to\", real_H_uniform(0, 1))\n",
        "print(\"Entropy for Exp(1) equals to\", real_H_exponential(1))"
      ],
      "metadata": {
        "colab": {
          "base_uri": "https://localhost:8080/"
        },
        "id": "gNpJpuZYsgvE",
        "outputId": "c58e6b6b-fcc9-4d7c-de43-c5550bf87e84"
      },
      "execution_count": null,
      "outputs": [
        {
          "output_type": "stream",
          "name": "stdout",
          "text": [
            "Entropy for N(0, 1) equals to 1.4189385332046727\n",
            "Entropy for U(0, 1) equals to 0.0\n",
            "Entropy for Exp(1) equals to 1.0\n"
          ]
        }
      ]
    },
    {
      "cell_type": "markdown",
      "metadata": {
        "id": "4jITI27S1Brw"
      },
      "source": [
        "## Finding optimal h for kernel and histogram estimates using cv"
      ]
    },
    {
      "cell_type": "markdown",
      "metadata": {
        "id": "QF7uXH9NGlcn"
      },
      "source": [
        "[ON THE ESTIMATION OF ENTROPY(1991)](https://www.ism.ac.jp/editsec/aism/pdf/045_1_0069.pdf)"
      ]
    },
    {
      "cell_type": "code",
      "execution_count": null,
      "metadata": {
        "id": "LbtqPSwOLhNH"
      },
      "outputs": [],
      "source": [
        "# Histogram estimate\n",
        "\n",
        "def cross_val_hist(sample, h):\n",
        "    n = len(sample)\n",
        "    sample_min, sample_max = np.min(sample), np.max(sample)\n",
        "    bins = int((sample_max - sample_min) / h)\n",
        "    summ = 0\n",
        "    deltas = [[sample_min + (i - 1) * h, sample_min + i * h] for i in range(1, bins+1)]\n",
        "    \n",
        "    N = []\n",
        "    \n",
        "    for l, r in deltas:\n",
        "        nu = np.sum([1 if l <= v <= r else 0 for v in sample])\n",
        "        summ += (nu / n)**2\n",
        "        \n",
        "        N.append(nu)\n",
        "    \n",
        "    return 2 / ((n - 1) * h) - (n + 1) / ((n - 1) * h) * summ, N"
      ]
    },
    {
      "cell_type": "markdown",
      "metadata": {
        "id": "tr2l03ub_ahk"
      },
      "source": [
        "**Kernel**: $\\hat{f}_{i}(\\mathbf{x})=\\frac{1}{(n-1) h} \\sum_{j(\\neq i)=1}^{n} k\\left(\\frac{\\mathbf{x}-\\mathbf{X}_{j}}{h}\\right)$"
      ]
    },
    {
      "cell_type": "code",
      "execution_count": null,
      "metadata": {
        "id": "nkBgX-nHSR20"
      },
      "outputs": [],
      "source": [
        "# Kernel estimate\n",
        "\n",
        "def gaussian(u):\n",
        "    return np.exp(-u ** 2 / 2.0) / np.sqrt(2.0 * np.pi)\n",
        "\n",
        "def gaussian_star(u):\n",
        "    return np.exp(-u ** 2 / 4.0) / (2.0 * np.sqrt(np.pi))\n",
        "\n",
        "def cross_val_gaus(sample, h):\n",
        "    n = len(sample)\n",
        "    J_sum = 0\n",
        "    for i in range(n):\n",
        "        for j in range(n):\n",
        "            u = (sample[i] - sample[j]) / h\n",
        "            J_sum += gaussian_star(u) - 2.0 * gaussian(u)\n",
        "    J_sum /= (h * n ** 2)\n",
        "    J_sum += 2.0 * gaussian(0) / (n * h)\n",
        "    return J_sum"
      ]
    },
    {
      "cell_type": "code",
      "execution_count": null,
      "metadata": {
        "id": "BhCrUmWXTB76"
      },
      "outputs": [],
      "source": [
        "h_hist_list = np.logspace(-1, 1, 100)"
      ]
    },
    {
      "cell_type": "code",
      "execution_count": null,
      "metadata": {
        "id": "3H5zIOOONDoL"
      },
      "outputs": [],
      "source": [
        "cv_hist_normal = [cross_val_hist(X_normal, hi)[0] for hi in h_hist_list]\n",
        "h_hist_normal = h_hist_list[np.argmin(cv_hist_normal)]\n",
        "\n",
        "cv_hist_uniform = [cross_val_hist(X_uniform, hi)[0] for hi in h_hist_list]\n",
        "h_hist_uniform = h_hist_list[np.argmin(cv_hist_uniform)]\n",
        "\n",
        "cv_hist_exponential = [cross_val_hist(X_exponential, hi)[0] for hi in h_hist_list]\n",
        "h_hist_exponential = h_hist_list[np.argmin(cv_hist_exponential)]"
      ]
    },
    {
      "cell_type": "code",
      "execution_count": null,
      "metadata": {
        "id": "--G1RjaoTRK-"
      },
      "outputs": [],
      "source": [
        "h_kernel_list = np.logspace(-1, 1, 10)"
      ]
    },
    {
      "cell_type": "code",
      "execution_count": null,
      "metadata": {
        "id": "ddIWdiNONBME"
      },
      "outputs": [],
      "source": [
        "cv_kernel_normal = [cross_val_gaus(X_normal, hi) for hi in h_kernel_list]\n",
        "h_kernel_normal = h_kernel_list[np.argmin(cv_kernel_normal)]\n",
        "\n",
        "cv_kernel_uniform = [cross_val_gaus(X_uniform, hi) for hi in h_kernel_list]\n",
        "h_kernel_uniform = h_kernel_list[np.argmin(cv_kernel_uniform)]\n",
        "\n",
        "cv_kernel_exponential = [cross_val_gaus(X_exponential, hi) for hi in h_kernel_list]\n",
        "h_kernel_exponential = h_kernel_list[np.argmin(cv_kernel_exponential)]"
      ]
    },
    {
      "cell_type": "code",
      "execution_count": null,
      "metadata": {
        "colab": {
          "base_uri": "https://localhost:8080/"
        },
        "id": "XT5MAUpKYCbj",
        "outputId": "eb1aca57-6a42-4fe2-b41b-73da99f1760d"
      },
      "outputs": [
        {
          "output_type": "stream",
          "name": "stdout",
          "text": [
            "Optimal histogram bandwidth for N(0, 1) equals to 0.242\n",
            "Optimal histogram bandwidth for U(0, 1) equals to 0.11\n",
            "Optimal histogram bandwidth for Exp(1) equals to 0.159\n"
          ]
        }
      ],
      "source": [
        "print(\"Optimal histogram bandwidth for N(0, 1) equals to\", round(h_hist_normal, 3))\n",
        "print(\"Optimal histogram bandwidth for U(0, 1) equals to\", round(h_hist_uniform, 3))\n",
        "print(\"Optimal histogram bandwidth for Exp(1) equals to\", round(h_hist_exponential, 3))"
      ]
    },
    {
      "cell_type": "code",
      "execution_count": null,
      "metadata": {
        "colab": {
          "base_uri": "https://localhost:8080/"
        },
        "id": "oWg1XmstYmMD",
        "outputId": "dcf0319f-1654-46ef-cca9-3ee837a8d699"
      },
      "outputs": [
        {
          "output_type": "stream",
          "name": "stdout",
          "text": [
            "Optimal kernel bandwidth for N(0, 1) equals to 0.167\n",
            "Optimal kernel bandwidth for U(0, 1) equals to 0.1\n",
            "Optimal kernel bandwidth for Exp(1) equals to 0.1\n"
          ]
        }
      ],
      "source": [
        "print(\"Optimal kernel bandwidth for N(0, 1) equals to\", round(h_kernel_normal, 3))\n",
        "print(\"Optimal kernel bandwidth for U(0, 1) equals to\", round(h_kernel_uniform, 3))\n",
        "print(\"Optimal kernel bandwidth for Exp(1) equals to\", round(h_kernel_exponential, 3))"
      ]
    },
    {
      "cell_type": "code",
      "execution_count": null,
      "metadata": {
        "id": "ITRQNC5qLh08"
      },
      "outputs": [],
      "source": [
        "def draw_bandwidth(cv_hist, cv_kernel, h_hist, h_kernel):\n",
        "    z_, ax = plt.subplots(figsize=(15, 5), ncols=2, nrows=1, sharey=True)\n",
        "\n",
        "    ax[0].plot(h_hist_list, cv_hist, alpha=0.9)\n",
        "    ax[0].axhline(min(cv_hist), c='r', linestyle='--', alpha=0.8, label=r'${\\bf J}_{hist}=$'f'{min(cv_hist):.4f}')\n",
        "    ax[0].plot(h_hist, min(cv_hist), 'ro', markersize='5')\n",
        "\n",
        "    ax[0].set_xscale(\"log\")\n",
        "    ax[0].set_xlabel(r\"h, bandwidth\")\n",
        "    ax[0].set_ylabel(\"Risk surrogate estimate\")\n",
        "    ax[0].set_title(r\"${\\it Histogram}$\")\n",
        "    ax[0].legend(prop={'size': 15}, loc='upper right')\n",
        "    ax[0].grid()\n",
        "\n",
        "    ax[1].plot(h_kernel_list, cv_kernel, alpha=0.9)\n",
        "    ax[1].axhline(min(cv_kernel), c='r', linestyle='--', alpha=0.8, label=r'${\\bf J}_{kernel}=$'f'{min(cv_kernel):.4f}')\n",
        "    ax[1].plot(h_kernel, min(cv_kernel), 'ro', markersize='5')\n",
        "\n",
        "    ax[1].set_xscale(\"log\")\n",
        "    ax[1].set_xlabel(r\"h, bandwidth\")\n",
        "    ax[1].set_title(r\"${\\it Gaussian \\quad kernel}$\")\n",
        "    ax[1].legend(prop={'size': 15}, loc='upper right')\n",
        "    ax[1].grid()\n",
        "\n",
        "    plt.tight_layout()\n",
        "    plt.show()"
      ]
    },
    {
      "cell_type": "code",
      "source": [
        "draw_bandwidth(cv_hist_normal, cv_kernel_normal, h_hist_normal, h_kernel_normal)"
      ],
      "metadata": {
        "colab": {
          "base_uri": "https://localhost:8080/",
          "height": 369
        },
        "id": "wElyZCVRwf-f",
        "outputId": "9e5ebed1-54f5-4b39-82fe-3308031f63d6"
      },
      "execution_count": null,
      "outputs": [
        {
          "output_type": "display_data",
          "data": {
            "image/png": "[encoded data removed]",
            "text/plain": [
              "<Figure size 1080x360 with 2 Axes>"
            ]
          },
          "metadata": {
            "needs_background": "light"
          }
        }
      ]
    },
    {
      "cell_type": "code",
      "source": [
        "draw_bandwidth(cv_hist_uniform, cv_kernel_uniform, h_kernel_uniform, h_kernel_uniform)"
      ],
      "metadata": {
        "colab": {
          "base_uri": "https://localhost:8080/",
          "height": 369
        },
        "id": "464PCQD1wlco",
        "outputId": "90994e71-5979-487f-fe4c-fa1f817d4eb1"
      },
      "execution_count": null,
      "outputs": [
        {
          "output_type": "display_data",
          "data": {
            "image/png": "[encoded data removed]",
            "text/plain": [
              "<Figure size 1080x360 with 2 Axes>"
            ]
          },
          "metadata": {
            "needs_background": "light"
          }
        }
      ]
    },
    {
      "cell_type": "code",
      "source": [
        "draw_bandwidth(cv_hist_exponential, cv_kernel_exponential, h_kernel_exponential, h_kernel_exponential)"
      ],
      "metadata": {
        "colab": {
          "base_uri": "https://localhost:8080/",
          "height": 369
        },
        "id": "a-PH-AMuxDKz",
        "outputId": "1a4d517a-aed9-41a1-924e-577131ba421c"
      },
      "execution_count": null,
      "outputs": [
        {
          "output_type": "display_data",
          "data": {
            "image/png": "[encoded data removed]",
            "text/plain": [
              "<Figure size 1080x360 with 2 Axes>"
            ]
          },
          "metadata": {
            "needs_background": "light"
          }
        }
      ]
    },
    {
      "cell_type": "markdown",
      "metadata": {
        "id": "3nhk2tEo2aXV"
      },
      "source": [
        "## Estimates for $\\hat{H}(\\xi)$ using asymptotic normality(MLE) & bootstrap"
      ]
    },
    {
      "cell_type": "markdown",
      "metadata": {
        "id": "ThGN6IYQe-gQ"
      },
      "source": [
        "If $\\sigma^{2}=\\int f(\\log f)^{2}-H^{2}<\\infty$, then our estimators $\\bar{H}$ is root- $n$ consistent for $H$, and in fact $n^{1 / 2}(\\bar{H}-H)$ is asymptotically normal $\\mathcal{N\\left(0, \\sigma^{2}\\right)}$.\n",
        "\n",
        "Here:\n",
        "\n",
        "$\\bar{H}= {1 \\over n} \\sum \\log f\\left(X_{i}\\right)$ for both *histogram* and *kernel*."
      ]
    },
    {
      "cell_type": "markdown",
      "metadata": {
        "id": "y9h1PyFzj_bM"
      },
      "source": [
        "[page 73](https://www.ism.ac.jp/editsec/aism/pdf/045_1_0069.pdf)"
      ]
    },
    {
      "cell_type": "markdown",
      "metadata": {
        "id": "yvLGg2SOkrnq"
      },
      "source": [
        "$\\hat{H}= {1 \\over n} \\sum N_{i} \\log \\left\\{{N_{i} \\over n h}\\right\\}= {1 \\over n} \\sum N_{i} \\left[\\log N_{i}-\\log \\left(n h\\right)\\right]$\n",
        "\n",
        "$N_i \\equiv$ number of elements in $B_i$*-th* bin."
      ]
    },
    {
      "cell_type": "code",
      "execution_count": null,
      "metadata": {
        "id": "2JI5AhQHbToV"
      },
      "outputs": [],
      "source": [
        "# Histogram\n",
        "\n",
        "def get_hist_estimate(x, h):\n",
        "    N = np.array(cross_val_hist(x, h)[1])\n",
        "\n",
        "    N = N[np.nonzero(N)]\n",
        "\n",
        "    return 1 / x.shape[0] * np.sum(N * (np.log(N / (x.shape[0] * h))))"
      ]
    },
    {
      "cell_type": "markdown",
      "source": [
        "$\\hat{f}_{i}(\\mathbf{x})=\\frac{1}{(n-1) h} \\sum_{j(\\neq i)=1}^{n} k\\left(\\frac{\\mathbf{x}-\\mathbf{X}_{j}}{h}\\right)$"
      ],
      "metadata": {
        "id": "VM-dFvSsXZQS"
      }
    },
    {
      "cell_type": "code",
      "source": [
        "def get_density(x, index, h, samples):\n",
        "    n = samples.shape[0]\n",
        "\n",
        "    mask = np.ones(n, dtype=np.bool_)\n",
        "    mask[index] = False\n",
        "\n",
        "    sum = 0.\n",
        "\n",
        "    for i, s in enumerate(samples[mask]):\n",
        "        sum += gaussian((x - s) / h)\n",
        "        \n",
        "    return 1 / ((n - 1) * h) * sum"
      ],
      "metadata": {
        "id": "AAsV3NrMWiRg"
      },
      "execution_count": null,
      "outputs": []
    },
    {
      "cell_type": "markdown",
      "metadata": {
        "id": "Ppv0PL_CkDob"
      },
      "source": [
        "[page 85](https://www.ism.ac.jp/editsec/aism/pdf/045_1_0069.pdf)"
      ]
    },
    {
      "cell_type": "markdown",
      "metadata": {
        "id": "CkJ_GLNoNSZb"
      },
      "source": [
        "$\\hat{H}=n^{-1} \\sum_{i=1}^{n} \\log \\hat{f}_{i}\\left(X_{i}\\right)$"
      ]
    },
    {
      "cell_type": "code",
      "execution_count": null,
      "metadata": {
        "id": "d9PDk-qEi6TP"
      },
      "outputs": [],
      "source": [
        "# Kernel\n",
        "\n",
        "def get_kernel_estimate(x, h):\n",
        "    densities = [get_density(s, i, h, x) for i, s in enumerate(x)]\n",
        "    \n",
        "    return np.sum(np.log(densities)) / x.shape[0]"
      ]
    },
    {
      "cell_type": "code",
      "execution_count": null,
      "metadata": {
        "id": "aAMW3mnYu_LQ"
      },
      "outputs": [],
      "source": [
        "def get_mean(f):\n",
        "    return np.sum(np.log(f)) / len(f)\n",
        "\n",
        "def get_sigma(f, H_val):\n",
        "    return np.sqrt((np.sum(f * np.power(np.log(f), 2)) - H_val**2) / len(f))"
      ]
    },
    {
      "cell_type": "markdown",
      "metadata": {
        "id": "mmUVn04P0KB5"
      },
      "source": [
        "### ***Bootstrap CI:***"
      ]
    },
    {
      "cell_type": "code",
      "execution_count": null,
      "metadata": {
        "id": "xYcStmdY0U1z"
      },
      "outputs": [],
      "source": [
        "from numpy.random import choice\n",
        "def get_bootstrap_hist_var(sample, h_list, n_runs):\n",
        "    \n",
        "    boot_sample = []\n",
        "    n = sample.shape[0]\n",
        "    \n",
        "    for _ in range(n_runs):\n",
        "        smp = choice(a=sample, size=n, replace=True)\n",
        "        \n",
        "        cv = [cross_val_hist(smp, hi)[0] for hi in h_list]\n",
        "        \n",
        "        h = h_list[np.argmin(cv)] \n",
        "        \n",
        "        boot_sample.append(get_hist_estimate(smp, h))\n",
        "\n",
        "    mean = np.mean(boot_sample)\n",
        "    \n",
        "    return np.var(boot_sample)"
      ]
    },
    {
      "cell_type": "code",
      "execution_count": null,
      "metadata": {
        "id": "fskJTtftcjhd"
      },
      "outputs": [],
      "source": [
        "def get_bootstrap_kernel_var(sample, h_list, n_runs):\n",
        "    \n",
        "    boot_sample = []\n",
        "    n = sample.shape[0]\n",
        "    \n",
        "    for _ in range(n_runs):\n",
        "        smp = choice(a=sample, size=n, replace=True)\n",
        "        \n",
        "        cv = [cross_val_gaus(smp, hi) for hi in h_list]\n",
        "        h = h_list[np.argmin(cv)] \n",
        "        \n",
        "        boot_sample.append(get_kernel_estimate(smp, h))\n",
        "    \n",
        "\n",
        "    mean = np.mean(boot_sample)\n",
        "    \n",
        "    return np.var(boot_sample)"
      ]
    },
    {
      "cell_type": "code",
      "execution_count": null,
      "metadata": {
        "id": "9GZ2vDJe0QmT"
      },
      "outputs": [],
      "source": [
        "def get_bootstrap_hist_ci(sample, estimate, h_list, alpha, n_runs=100):    \n",
        "    z = norm.ppf(1 - alpha / 2)\n",
        "    error = np.sqrt(get_bootstrap_hist_var(sample, h_list, n_runs))\n",
        "    \n",
        "    return estimate, (estimate - z * error, estimate + z * error)"
      ]
    },
    {
      "cell_type": "code",
      "execution_count": null,
      "metadata": {
        "id": "QbWux85WnVbd"
      },
      "outputs": [],
      "source": [
        "def get_bootstrap_kernel_ci(sample, estimate, h_list, alpha, n_runs=100):    \n",
        "    z = norm.ppf(1 - alpha / 2)\n",
        "    error = np.sqrt(get_bootstrap_kernel_var(sample, h_list, n_runs))\n",
        "    \n",
        "    return estimate, (estimate - z * error, estimate + z * error)"
      ]
    },
    {
      "cell_type": "code",
      "source": [
        "def eval_esitmates_and_CI(X, h_hist, h_kernel, alpha=0.05):\n",
        "    hist_densities = [get_density(s, i, h_hist, X) for i, s in enumerate(X)]\n",
        "    \n",
        "    hist_mean = get_mean(hist_densities)\n",
        "    hist_estimate = get_hist_estimate(X, h_hist)\n",
        "    hist_sigma = get_sigma(hist_densities, hist_estimate)\n",
        "\n",
        "    kernel_densities = [get_density(s, i, h_kernel, X) for i, s in enumerate(X)]\n",
        "    \n",
        "    kernel_mean = get_mean(kernel_densities)\n",
        "    kernel_estimate = get_kernel_estimate(X, h_kernel)\n",
        "    kernel_sigma = get_sigma(kernel_densities, kernel_estimate)\n",
        "\n",
        "    print('Hist:', \\\n",
        "      f'mean: {hist_mean: >11.3f}', \\\n",
        "      f'estimate: {hist_estimate: >7.3f}', \\\n",
        "      f'sigma: {hist_sigma: >10.3f}', \\\n",
        "      sep='\\n')\n",
        "    z = norm.ppf(1 - alpha / 2)\n",
        "    hist_error = hist_sigma\n",
        "    hist_lower, hist_upper = hist_estimate - z * hist_error, hist_estimate + z * hist_error\n",
        "    print(f\"Asymptotic confidence interval for hist estimate: ({hist_lower:.3f}, {hist_upper:.3f})\")\n",
        "    hist_bs_estimate, (bs_hist_lower, bs_hist_upper) = get_bootstrap_hist_ci(X, hist_estimate, h_hist_list, alpha=0.05)\n",
        "    print(f\"Bootstrap hist estimate {hist_bs_estimate:.3f} with confidence interval ({bs_hist_lower:.3f}, {bs_hist_upper:.3f})\")\n",
        "    print()\n",
        "\n",
        "    print('Kernel:', \\\n",
        "        f'mean: {kernel_mean: >11.3f}', \\\n",
        "        f'estimate: {kernel_estimate: >7.3f}', \\\n",
        "        f'sigma: {kernel_sigma: >10.3f}', \\\n",
        "        sep='\\n')\n",
        "    kernel_error = kernel_sigma\n",
        "    kernel_lower, kernel_upper = kernel_estimate - z * kernel_error, kernel_estimate + z * kernel_error\n",
        "    print(f\"Asymptotic confidence interval for kernel estimate: ({kernel_lower:.3f}, {kernel_upper:.3f})\")\n",
        "\n",
        "    kernel_bs_estimate, (bs_kernel_lower, bs_kernel_upper) = get_bootstrap_hist_ci(X, kernel_estimate, h_kernel_list, alpha=0.05)\n",
        "    print(f\"Bootstrap kernel estimate {kernel_bs_estimate:.3f} with confidence interval ({bs_kernel_lower:.3f}, {bs_kernel_upper:.3f})\")"
      ],
      "metadata": {
        "id": "CV531Mzhx8z1"
      },
      "execution_count": null,
      "outputs": []
    },
    {
      "cell_type": "code",
      "source": [
        "print(\"For N(0, 1) we obtained (Negative entropy):\")\n",
        "eval_esitmates_and_CI(X_normal, h_hist_normal, h_kernel_normal)"
      ],
      "metadata": {
        "colab": {
          "base_uri": "https://localhost:8080/"
        },
        "id": "WR7H0SJlyszr",
        "outputId": "e337e54f-1363-493e-9232-522127db06e9"
      },
      "execution_count": null,
      "outputs": [
        {
          "output_type": "stream",
          "name": "stdout",
          "text": [
            "For N(0, 1) we obtained (Negative entropy):\n",
            "Hist:\n",
            "mean:      -1.393\n",
            "estimate:  -1.373\n",
            "sigma:      0.652\n",
            "Asymptotic confidence interval for hist estimate: (-2.650, -0.095)\n",
            "Bootstrap hist estimate -1.373 with confidence interval (-1.418, -1.327)\n",
            "\n",
            "Kernel:\n",
            "mean:      -1.394\n",
            "estimate:  -1.394\n",
            "sigma:      0.649\n",
            "Asymptotic confidence interval for kernel estimate: (-2.665, -0.122)\n",
            "Bootstrap kernel estimate -1.394 with confidence interval (-1.440, -1.348)\n"
          ]
        }
      ]
    },
    {
      "cell_type": "code",
      "source": [
        "print(\"For U(0, 1) we obtained:\")\n",
        "eval_esitmates_and_CI(X_uniform, h_hist_uniform, h_kernel_uniform)"
      ],
      "metadata": {
        "colab": {
          "base_uri": "https://localhost:8080/"
        },
        "id": "-hm6a-sj4jkh",
        "outputId": "c7a94cda-b7a0-489a-c19b-6dd573f51b23"
      },
      "execution_count": null,
      "outputs": [
        {
          "output_type": "stream",
          "name": "stdout",
          "text": [
            "For U(0, 1) we obtained:\n",
            "Hist:\n",
            "mean:      -0.117\n",
            "estimate:   0.006\n",
            "sigma:      0.165\n",
            "Asymptotic confidence interval for hist estimate: (-0.317, 0.330)\n",
            "Bootstrap hist estimate 0.006 with confidence interval (-0.002, 0.015)\n",
            "\n",
            "Kernel:\n",
            "mean:      -0.107\n",
            "estimate:  -0.107\n",
            "sigma:      0.158\n",
            "Asymptotic confidence interval for kernel estimate: (-0.417, 0.202)\n",
            "Bootstrap kernel estimate -0.107 with confidence interval (-0.126, -0.088)\n"
          ]
        }
      ]
    },
    {
      "cell_type": "code",
      "source": [
        "print(\"For Exp(1) we obtained (Negative entropy):\")\n",
        "eval_esitmates_and_CI(X_exponential, h_hist_exponential, h_kernel_exponential)"
      ],
      "metadata": {
        "colab": {
          "base_uri": "https://localhost:8080/"
        },
        "id": "otun5uv64cYc",
        "outputId": "546b3278-60da-4922-b49e-b75b0cea661d"
      },
      "execution_count": null,
      "outputs": [
        {
          "output_type": "stream",
          "name": "stdout",
          "text": [
            "For Exp(1) we obtained (Negative entropy):\n",
            "Hist:\n",
            "mean:      -1.105\n",
            "estimate:  -0.982\n",
            "sigma:      0.531\n",
            "Asymptotic confidence interval for hist estimate: (-2.023, 0.059)\n",
            "Bootstrap hist estimate -0.982 with confidence interval (-1.049, -0.914)\n",
            "\n",
            "Kernel:\n",
            "mean:      -1.080\n",
            "estimate:  -1.080\n",
            "sigma:      0.519\n",
            "Asymptotic confidence interval for kernel estimate: (-2.097, -0.063)\n",
            "Bootstrap kernel estimate -1.080 with confidence interval (-1.138, -1.022)\n"
          ]
        }
      ]
    },
    {
      "cell_type": "markdown",
      "metadata": {
        "id": "IDahwb6u6WSF"
      },
      "source": [
        "# Estimating entropy through sorted sample."
      ]
    },
    {
      "cell_type": "markdown",
      "metadata": {
        "id": "bvgbn8XYH66g"
      },
      "source": [
        "[Estimating Functionals Related to a Density by a Class of Statistics Based on Spacings(1992)](https://www.jstor.org/stable/4616225)"
      ]
    },
    {
      "cell_type": "markdown",
      "metadata": {
        "id": "OrRYUji_TPrw"
      },
      "source": [
        "$V_{m, n}^{*}:=\\frac{1}{n-m} \\sum_{j=1}^{n-m} \\log \\left(\\frac{n+1}{m}\\left(X_{j+m: \\pi}-X_{j: n}\\right)\\right)+\\sum_{k=m}^{n} \\frac{1}{k}+\\log (m)-\\log (n+1)$"
      ]
    },
    {
      "cell_type": "markdown",
      "metadata": {
        "id": "DJ7SsjCN2a1b"
      },
      "source": [
        "$T_{m,n} = \\hat{H}(f)={1 \\over 2(n-m)} \\sum_{j=1}^{n-m} \\ln \\left(\\frac{n+1}{m}\\left(X_{(j+m)}-X_{(j)}\\right)\\right)(w(X_{(j+m)}) + w(X_{(j)}))$, при $w(x) \\equiv 1$"
      ]
    },
    {
      "cell_type": "code",
      "execution_count": null,
      "metadata": {
        "id": "PVKYF5H33Pnl"
      },
      "outputs": [],
      "source": [
        "n = 30000\n",
        "X_normal = np.random.normal(0, 1, n)\n",
        "X_normal_sort = np.sort(X_normal)\n",
        "X_uniform = np.random.uniform(0, 1, n)\n",
        "X_uniform_sort = np.sort(X_uniform)\n",
        "X_exponential = np.random.exponential(1, n)\n",
        "X_exponential_sort = np.sort(X_exponential)"
      ]
    },
    {
      "cell_type": "code",
      "execution_count": null,
      "metadata": {
        "id": "HSNxiYw_Wmm7"
      },
      "outputs": [],
      "source": [
        "def get_H_hat_unbiased(X_sort, m):\n",
        "    return np.sum(np.log((X_sort.shape[0] * (X_sort[m:] - X_sort[:-m]) / float(m)))) / ((X_sort.shape[0] - float(m))) + np.sum(1.0 / np.arange(m, n + 1).astype(np.float32)) + np.log(m) - np.log(X_sort.shape[0] + 1)\n",
        "\n",
        "def get_H_hat(X_sort, m):\n",
        "    return np.sum(np.log((X_sort.shape[0] * (X_sort[m:] - X_sort[:-m]) / float(m)))) / ((X_sort.shape[0] - float(m)))\n"
      ]
    },
    {
      "cell_type": "code",
      "source": [
        "print(\"For N(0, 1):\")\n",
        "H_hat = get_H_hat(X_normal_sort, 25)\n",
        "print(f\"T_mn (biased) statistic is {H_hat:.4f}\")\n",
        "H_hat = get_H_hat_unbiased(X_normal_sort, 25)\n",
        "print(f\"V_mn (unbiased) statistic is {H_hat:.4f}\")\n",
        "\n",
        "print()\n",
        "print(\"For U(0, 1):\")\n",
        "H_hat = get_H_hat(X_uniform_sort, 25)\n",
        "print(f\"T_mn (biased) statistic is {H_hat:.4f}\")\n",
        "H_hat = get_H_hat_unbiased(X_uniform_sort, 25)\n",
        "print(f\"V_mn (unbiased) statistic is {H_hat:.4f}\")\n",
        "\n",
        "print()\n",
        "print(\"For Exp(1):\")\n",
        "H_hat = get_H_hat(X_exponential_sort, 25)\n",
        "print(f\"T_mn (biased) statistic is {H_hat:.4f}\")\n",
        "H_hat = get_H_hat_unbiased(X_exponential_sort, 25)\n",
        "print(f\"V_mn (unbiased) statistic is {H_hat:.4f}\")\n"
      ],
      "metadata": {
        "colab": {
          "base_uri": "https://localhost:8080/"
        },
        "id": "xyXR-F8bDKtW",
        "outputId": "8e226c0c-9133-4efc-ef2e-fef142775780"
      },
      "execution_count": null,
      "outputs": [
        {
          "output_type": "stream",
          "name": "stdout",
          "text": [
            "For N(0, 1):\n",
            "T_mn (biased) statistic is 1.3911\n",
            "V_mn (unbiased) statistic is 1.4112\n",
            "\n",
            "For U(0, 1):\n",
            "T_mn (biased) statistic is -0.0194\n",
            "V_mn (unbiased) statistic is 0.0007\n",
            "\n",
            "For Exp(1):\n",
            "T_mn (biased) statistic is 0.9724\n",
            "V_mn (unbiased) statistic is 0.9926\n"
          ]
        }
      ]
    },
    {
      "cell_type": "markdown",
      "metadata": {
        "id": "uFwL_3qS6IIz"
      },
      "source": [
        "## Study of the parameter m"
      ]
    },
    {
      "cell_type": "code",
      "execution_count": null,
      "metadata": {
        "id": "ZDp0QG_65hbm",
        "colab": {
          "base_uri": "https://localhost:8080/",
          "height": 448
        },
        "outputId": "68894359-5fa1-438c-eab8-1c52751524f4"
      },
      "outputs": [
        {
          "output_type": "display_data",
          "data": {
            "image/png": "[encoded data removed]",
            "text/plain": [
              "<Figure size 504x504 with 1 Axes>"
            ]
          },
          "metadata": {
            "needs_background": "light"
          }
        }
      ],
      "source": [
        "plt.rcParams['figure.figsize'] = 7, 7\n",
        "plt.rcParams.update({'font.size': 10})\n",
        "plt.rc('lines', linewidth=4)\n",
        "    \n",
        "import seaborn as sns\n",
        "\n",
        "m_s = np.arange(1, n)\n",
        "cv_H_hat_normal = [get_H_hat_unbiased(X_normal_sort, int(m)) for m in m_s]\n",
        "\n",
        "sns.histplot(cv_H_hat_normal)\n",
        "plt.grid()\n",
        "plt.show()"
      ]
    },
    {
      "cell_type": "code",
      "execution_count": null,
      "metadata": {
        "id": "S_BAmjHa7kSU",
        "colab": {
          "base_uri": "https://localhost:8080/",
          "height": 482
        },
        "outputId": "2612976d-5aa2-4012-c1a2-92e3aedc6c08"
      },
      "outputs": [
        {
          "output_type": "display_data",
          "data": {
            "image/png": "[encoded data removed]",
            "text/plain": [
              "<Figure size 504x504 with 1 Axes>"
            ]
          },
          "metadata": {
            "needs_background": "light"
          }
        }
      ],
      "source": [
        "plt.plot(cv_H_hat_normal)\n",
        "plt.title(r\"Estimate value versus parameter $m$\")\n",
        "plt.xlabel(r\"$m$ value\")\n",
        "plt.ylabel(r\"$V_{mn}$\")\n",
        "plt.grid()"
      ]
    },
    {
      "cell_type": "code",
      "source": [
        "m_s = np.arange(1, n)\n",
        "cv_H_hat_uniform = [get_H_hat_unbiased(X_uniform_sort, int(m)) for m in m_s]\n",
        "\n",
        "sns.histplot(cv_H_hat_uniform)\n",
        "plt.grid()\n",
        "plt.show()"
      ],
      "metadata": {
        "id": "CgjLKYAIEIYQ",
        "colab": {
          "base_uri": "https://localhost:8080/",
          "height": 448
        },
        "outputId": "92ac09c1-db06-43bd-8a19-eee987704110"
      },
      "execution_count": null,
      "outputs": [
        {
          "output_type": "display_data",
          "data": {
            "image/png": "[encoded data removed]",
            "text/plain": [
              "<Figure size 504x504 with 1 Axes>"
            ]
          },
          "metadata": {
            "needs_background": "light"
          }
        }
      ]
    },
    {
      "cell_type": "code",
      "source": [
        "plt.plot(cv_H_hat_uniform)\n",
        "plt.title(r\"Estimate value versus parameter $m$\")\n",
        "plt.xlabel(r\"$m$ value\")\n",
        "plt.ylabel(r\"$V_{mn}$\")\n",
        "plt.grid()\n",
        "plt.show()"
      ],
      "metadata": {
        "id": "LendxP3zEVq4",
        "colab": {
          "base_uri": "https://localhost:8080/",
          "height": 482
        },
        "outputId": "89a2b571-665f-447a-edf2-11c75b7d7975"
      },
      "execution_count": null,
      "outputs": [
        {
          "output_type": "display_data",
          "data": {
            "image/png": "[encoded data removed]",
            "text/plain": [
              "<Figure size 504x504 with 1 Axes>"
            ]
          },
          "metadata": {
            "needs_background": "light"
          }
        }
      ]
    },
    {
      "cell_type": "code",
      "source": [
        "m_s = np.arange(1, n)\n",
        "cv_H_hat_exponential = [get_H_hat_unbiased(X_exponential_sort, int(m)) for m in m_s]\n",
        "\n",
        "sns.histplot(cv_H_hat_exponential)\n",
        "plt.grid()\n",
        "plt.show()"
      ],
      "metadata": {
        "id": "7-aAXxgIEeiK",
        "colab": {
          "base_uri": "https://localhost:8080/",
          "height": 448
        },
        "outputId": "1de8ac5c-0231-4da2-8a66-3e5af33f3ac7"
      },
      "execution_count": null,
      "outputs": [
        {
          "output_type": "display_data",
          "data": {
            "image/png": "[encoded data removed]",
            "text/plain": [
              "<Figure size 504x504 with 1 Axes>"
            ]
          },
          "metadata": {
            "needs_background": "light"
          }
        }
      ]
    },
    {
      "cell_type": "code",
      "source": [
        "plt.plot(cv_H_hat_exponential)\n",
        "plt.title(r\"Estimate value versus parameter $m$\")\n",
        "plt.xlabel(r\"$m$ value\")\n",
        "plt.ylabel(r\"$V_{mn}$\")\n",
        "plt.grid()\n",
        "plt.show()"
      ],
      "metadata": {
        "id": "oIVVV1ExEjfZ",
        "colab": {
          "base_uri": "https://localhost:8080/",
          "height": 482
        },
        "outputId": "c07a4080-8f9b-44e0-f489-f8977cc48877"
      },
      "execution_count": null,
      "outputs": [
        {
          "output_type": "display_data",
          "data": {
            "image/png": "[encoded data removed]",
            "text/plain": [
              "<Figure size 504x504 with 1 Axes>"
            ]
          },
          "metadata": {
            "needs_background": "light"
          }
        }
      ]
    },
    {
      "cell_type": "markdown",
      "source": [
        "To achieve best estimation we need to take m small or approx n."
      ],
      "metadata": {
        "id": "sXphZvH-FSyh"
      }
    },
    {
      "cell_type": "markdown",
      "source": [
        "# Experiments on different distributions(hist & kernel)"
      ],
      "metadata": {
        "id": "WLa1CAMYLOIC"
      }
    },
    {
      "cell_type": "code",
      "source": [
        "def get_hist_kernel_estimate_and_sigmas(samples, h_hist_list, h_kernel_list):\n",
        "\n",
        "    cv_hist = [cross_val_hist(samples, hi)[0] for hi in h_hist_list]\n",
        "    h_hist = h_hist_list[np.argmin(cv_hist)]\n",
        "\n",
        "    cv_kernel = [cross_val_gaus(samples, hi) for hi in h_kernel_list]\n",
        "    h_kernel = h_kernel_list[np.argmin(cv_kernel)]\n",
        "\n",
        "    hist_densities = [get_density(s, i, h_hist, samples) for i, s in enumerate(samples)]\n",
        "    \n",
        "    hist_estimate = get_hist_estimate(samples, h_hist)\n",
        "    hist_sigma = get_sigma(hist_densities, hist_estimate)\n",
        "\n",
        "    kernel_densities = [get_density(s, i, h_kernel, samples) for i, s in enumerate(samples)]\n",
        "    \n",
        "    kernel_estimate = get_kernel_estimate(samples, h_kernel)\n",
        "    kernel_sigma = get_sigma(kernel_densities, kernel_estimate)\n",
        "\n",
        "    return (hist_estimate, hist_sigma), (kernel_estimate, kernel_sigma)"
      ],
      "metadata": {
        "id": "4jHtaD22RnLN"
      },
      "execution_count": null,
      "outputs": []
    },
    {
      "cell_type": "markdown",
      "source": [
        "## 1) Estimates for every kind"
      ],
      "metadata": {
        "id": "DKrYM4VDLS8P"
      }
    },
    {
      "cell_type": "code",
      "source": [
        "SIZE = 1000\n",
        "dist_names = ['normal', 'normal', 'normal', 'uniform', 'uniform', 'uniform', 'exponential', 'exponential', 'exponential',\n",
        "              'laplace', 'laplace', 'laplace', 'chisquare', 'chisquare', 'chisquare',  'gamma', 'gamma', 'gamma']\n",
        "dist_list = [\n",
        "             np.random.normal(size=SIZE),\n",
        "             np.random.normal(0, 5, size=SIZE),\n",
        "             np.random.normal(0, 30, size=SIZE),\n",
        "\n",
        "             np.random.uniform(size=SIZE),\n",
        "             np.random.uniform(0, 10, size=SIZE),\n",
        "             np.random.uniform(5, 20, size=SIZE),\n",
        "\n",
        "             np.random.exponential(size=SIZE),\n",
        "             np.random.exponential(0.5, size=SIZE),\n",
        "             np.random.exponential(0.1, size=SIZE),\n",
        "\n",
        "             np.random.laplace(size=SIZE),\n",
        "             np.random.laplace(scale=2, size=SIZE),\n",
        "             np.random.laplace(scale=4, size=SIZE),\n",
        "\n",
        "             np.random.chisquare(df=2, size=SIZE),\n",
        "             np.random.chisquare(df=3, size=SIZE),\n",
        "             np.random.chisquare(df=4, size=SIZE),\n",
        "\n",
        "             np.random.gamma(2, 2, size=SIZE),\n",
        "             np.random.gamma(3, 2, size=SIZE),\n",
        "             np.random.gamma(3, 3, size=SIZE)\n",
        "]"
      ],
      "metadata": {
        "id": "ijF38adgZ8T8"
      },
      "execution_count": null,
      "outputs": []
    },
    {
      "cell_type": "code",
      "source": [
        "h_hist_list = np.logspace(-1, 1, 100)\n",
        "h_kernel_list = np.logspace(-1, 1, 10)"
      ],
      "metadata": {
        "id": "z4MDtyBwOs-Z"
      },
      "execution_count": null,
      "outputs": []
    },
    {
      "cell_type": "code",
      "source": [
        "params = [\n",
        "          \"mean = 0, std = 1\",\n",
        "          \"mean = 0, std = 5\",\n",
        "          \"mean = 0, std = 30\",\n",
        "          \"a = 0, b = 1\",\n",
        "          \"a = 0, b = 10\",\n",
        "          \"a = 5, b = 20\",\n",
        "          \"lambda = 1\",\n",
        "          \"lambda = 2\",\n",
        "          \"lambda = 10\",\n",
        "          \"mean = 0.0, exponential decay = 1.0\",\n",
        "          \"mean = 0.0, exponential decay = 2.0\",\n",
        "          \"mean = 0.0, exponential decay = 4.0\",\n",
        "          \"df = 2\",\n",
        "          \"df = 3\",\n",
        "          \"df = 4\",\n",
        "          \"shape = 2, scale = 2\",\n",
        "          \"shape = 3, scale = 2\",\n",
        "          \"shape = 3, scale = 3\"\n",
        "]"
      ],
      "metadata": {
        "id": "Ck0tol-aD0he"
      },
      "execution_count": null,
      "outputs": []
    },
    {
      "cell_type": "code",
      "source": [
        "index = 0\n",
        "import pandas as pd\n",
        "\n",
        "df = pd.DataFrame(columns=['Distribution', \"Parameters\", 'Histogram estimate', 'Sigma histogram', 'Kernel estimate', 'Sigma kernel'])\n",
        "for data, name in zip(estimates_list, dist_names):\n",
        "    h_data, k_data = data\n",
        "    hist, h_sigma = h_data\n",
        "    kernel, k_sigma = k_data\n",
        "    cur_row = np.array([name, params[index], -round(hist, 3), round(h_sigma, 3), -round(kernel, 3), round(k_sigma, 3)])\n",
        "    df.loc[index] = cur_row\n",
        "\n",
        "    print('\\n{:-^30}'.format('['+ name.upper() + ']'))\n",
        "    print('Hist:', \\\n",
        "      f'estimate: {-hist: >7.3f}', \\\n",
        "      f'sigma: {h_sigma: >10.3f}', \\\n",
        "      sep='\\n')\n",
        "    \n",
        "    print('Kernel:', \\\n",
        "      f'estimate: {-kernel: >7.3f}', \\\n",
        "      f'sigma: {k_sigma: >10.3f}', \\\n",
        "      sep='\\n')\n",
        "    index += 1"
      ],
      "metadata": {
        "id": "h4qe_CYWY4ks"
      },
      "execution_count": null,
      "outputs": []
    },
    {
      "cell_type": "markdown",
      "source": [
        "\n",
        "## 2) Noised estimates with \"white noise\" for every kind"
      ],
      "metadata": {
        "id": "Pg9nctcfLTEh"
      }
    },
    {
      "cell_type": "code",
      "source": [
        "noised_dist_list = [d + np.random.standard_normal(size=SIZE) for d in dist_list]"
      ],
      "metadata": {
        "id": "zCRVdqGShY-X"
      },
      "execution_count": null,
      "outputs": []
    },
    {
      "cell_type": "code",
      "source": [
        "df_1 = pd.DataFrame(columns=['Distribution', \"Parameters\", 'Histogram estimate', 'Sigma histogram', 'Kernel estimate', 'Sigma kernel'])\n",
        "index = 0\n",
        "for data, name in zip(noised_estimates_list, dist_names):\n",
        "    h_data, k_data = data\n",
        "    hist, h_sigma = h_data\n",
        "    kernel, k_sigma = k_data\n",
        "    cur_row = np.array([name, params[index], -round(hist, 3), round(h_sigma, 3), -round(kernel, 3), round(k_sigma, 3)])\n",
        "    df_1.loc[index] = cur_row\n",
        "\n",
        "    print('\\n{:-^30}'.format('['+ name.upper() + ']'))\n",
        "\n",
        "    print('Hist:', \\\n",
        "      f'estimate: {-hist: >7.3f}', \\\n",
        "      f'sigma: {h_sigma: >10.3f}', \\\n",
        "      sep='\\n')\n",
        "    \n",
        "    print('Kernel:', \\\n",
        "      f'estimate: {-kernel: >7.3f}', \\\n",
        "      f'sigma: {k_sigma: >10.3f}', \\\n",
        "      sep='\\n')\n",
        "    index += 1"
      ],
      "metadata": {
        "id": "T_QQoapdhpkY"
      },
      "execution_count": null,
      "outputs": []
    },
    {
      "cell_type": "code",
      "source": [
        "import csv"
      ],
      "metadata": {
        "id": "Brlhmit7j9De"
      },
      "execution_count": null,
      "outputs": []
    },
    {
      "cell_type": "markdown",
      "source": [
        "Now let's compare the obtained estimates with the real entropy valeus."
      ],
      "metadata": {
        "id": "YGccEe21ZCKg"
      }
    },
    {
      "cell_type": "code",
      "source": [
        "SIZE = 1000\n",
        "dist_names = ['normal', 'normal', 'normal', 'uniform', 'uniform', 'uniform', 'exponential', 'exponential', 'exponential',\n",
        "              'laplace', 'laplace', 'laplace', 'chisquare', 'chisquare', 'chisquare',  'gamma', 'gamma', 'gamma']\n",
        "dist_list = [\n",
        "             np.random.normal(size=SIZE),\n",
        "             np.random.normal(0, 5, size=SIZE),\n",
        "             np.random.normal(0, 30, size=SIZE),\n",
        "\n",
        "             np.random.uniform(size=SIZE),\n",
        "             np.random.uniform(0, 10, size=SIZE),\n",
        "             np.random.uniform(5, 20, size=SIZE),\n",
        "\n",
        "             np.random.exponential(size=SIZE),\n",
        "             np.random.exponential(0.5, size=SIZE),\n",
        "             np.random.exponential(0.1, size=SIZE),\n",
        "\n",
        "             np.random.laplace(size=SIZE),\n",
        "             np.random.laplace(scale=2, size=SIZE),\n",
        "             np.random.laplace(scale=4, size=SIZE),\n",
        "\n",
        "             np.random.chisquare(df=2, size=SIZE),\n",
        "             np.random.chisquare(df=3, size=SIZE),\n",
        "             np.random.chisquare(df=4, size=SIZE),\n",
        "\n",
        "             np.random.gamma(2, 2, size=SIZE),\n",
        "             np.random.gamma(3, 2, size=SIZE),\n",
        "             np.random.gamma(3, 3, size=SIZE)\n",
        "]"
      ],
      "metadata": {
        "id": "EPTJhPCPYj3g"
      },
      "execution_count": null,
      "outputs": []
    },
    {
      "cell_type": "code",
      "source": [
        "from scipy.special import digamma, gamma\n",
        "\n",
        "H_normal_1 = round(real_H_normal(1),3)\n",
        "H_normal_2 = round(real_H_normal(5), 3)\n",
        "H_normal_3 = round(real_H_normal(30), 3)\n",
        "\n",
        "H_uniform_1 = round(real_H_uniform(0, 1), 3)\n",
        "H_uniform_2 = round(real_H_uniform(0, 10), 3)\n",
        "H_uniform_3 = round(real_H_uniform(5, 20), 3)\n",
        "\n",
        "H_exponential_1 = round(real_H_exponential(1), 3)\n",
        "H_exponential_2 = round(real_H_exponential(5), 3)\n",
        "H_exponential_3 = round(real_H_exponential(10), 3)\n",
        "\n",
        "H_laplace_1 = round(real_H_laplace(1), 3)\n",
        "H_laplace_2 = round(real_H_laplace(2), 3)\n",
        "H_laplace_3 = round(real_H_laplace(4), 3)\n",
        "\n",
        "H_chisquare_1 = round(real_H_chi_squared(2), 3)\n",
        "H_chisquare_2 = round(real_H_chi_squared(3), 3)\n",
        "H_chisquare_3 = round(real_H_chi_squared(4), 3)\n",
        "\n",
        "H_gamma_1 = round(real_H_gamma(2, 2), 3)\n",
        "H_gamma_2 = round(real_H_gamma(3, 2), 3)\n",
        "H_gamma_3 = round(real_H_gamma(3, 3), 3)"
      ],
      "metadata": {
        "id": "vmtTasufZXZu"
      },
      "execution_count": null,
      "outputs": []
    },
    {
      "cell_type": "code",
      "source": [
        "real_Hs = [H_normal_1,\n",
        "           H_normal_2,\n",
        "           H_normal_3,\n",
        "           H_uniform_1,\n",
        "           H_uniform_2,\n",
        "           H_uniform_3,\n",
        "           H_exponential_1,\n",
        "           H_exponential_2,\n",
        "           H_exponential_3,\n",
        "           H_laplace_1,\n",
        "           H_laplace_2,\n",
        "           H_laplace_3,\n",
        "           H_chisquare_1,\n",
        "           H_chisquare_2,\n",
        "           H_chisquare_3,\n",
        "           H_gamma_1,\n",
        "           H_gamma_2,\n",
        "           H_gamma_3\n",
        "]"
      ],
      "metadata": {
        "id": "rPOWSTE8axiB"
      },
      "execution_count": null,
      "outputs": []
    },
    {
      "cell_type": "code",
      "source": [
        "data = pd.read_csv('/content/estims-2.uu')\n",
        "data['Real H'] = real_Hs"
      ],
      "metadata": {
        "id": "tP9CWhhskrTx",
        "colab": {
          "base_uri": "https://localhost:8080/",
          "height": 618
        },
        "outputId": "bcd6cb53-dfec-4586-aed3-cdc2a67039c2"
      },
      "execution_count": null,
      "outputs": [
        {
          "output_type": "execute_result",
          "data": {
            "text/html": [
              "\n",
              "  <div id=\"df-e4c1a6aa-84ec-457a-b679-0cbc08ba5cd2\">\n",
              "    <div class=\"colab-df-container\">\n",
              "      <div>\n",
              "<style scoped>\n",
              "    .dataframe tbody tr th:only-of-type {\n",
              "        vertical-align: middle;\n",
              "    }\n",
              "\n",
              "    .dataframe tbody tr th {\n",
              "        vertical-align: top;\n",
              "    }\n",
              "\n",
              "    .dataframe thead th {\n",
              "        text-align: right;\n",
              "    }\n",
              "</style>\n",
              "<table border=\"1\" class=\"dataframe\">\n",
              "  <thead>\n",
              "    <tr style=\"text-align: right;\">\n",
              "      <th></th>\n",
              "      <th>Distribution</th>\n",
              "      <th>Parameters</th>\n",
              "      <th>Histogram estimate</th>\n",
              "      <th>Sigma histogram</th>\n",
              "      <th>Kernel estimate</th>\n",
              "      <th>Sigma kernel</th>\n",
              "      <th>Real H</th>\n",
              "    </tr>\n",
              "  </thead>\n",
              "  <tbody>\n",
              "    <tr>\n",
              "      <th>0</th>\n",
              "      <td>normal</td>\n",
              "      <td>mean = 0, std = 1</td>\n",
              "      <td>1.360</td>\n",
              "      <td>0.640</td>\n",
              "      <td>1.388</td>\n",
              "      <td>0.637</td>\n",
              "      <td>1.419</td>\n",
              "    </tr>\n",
              "    <tr>\n",
              "      <th>1</th>\n",
              "      <td>normal</td>\n",
              "      <td>mean = 0, std = 5</td>\n",
              "      <td>2.971</td>\n",
              "      <td>0.661</td>\n",
              "      <td>2.996</td>\n",
              "      <td>0.661</td>\n",
              "      <td>3.028</td>\n",
              "    </tr>\n",
              "    <tr>\n",
              "      <th>2</th>\n",
              "      <td>normal</td>\n",
              "      <td>mean = 0, std = 30</td>\n",
              "      <td>4.773</td>\n",
              "      <td>0.420</td>\n",
              "      <td>4.834</td>\n",
              "      <td>0.422</td>\n",
              "      <td>4.820</td>\n",
              "    </tr>\n",
              "    <tr>\n",
              "      <th>3</th>\n",
              "      <td>uniform</td>\n",
              "      <td>a = 0, b = 1</td>\n",
              "      <td>-0.007</td>\n",
              "      <td>0.163</td>\n",
              "      <td>0.100</td>\n",
              "      <td>0.155</td>\n",
              "      <td>0.000</td>\n",
              "    </tr>\n",
              "    <tr>\n",
              "      <th>4</th>\n",
              "      <td>uniform</td>\n",
              "      <td>a = 0, b = 5</td>\n",
              "      <td>2.289</td>\n",
              "      <td>0.715</td>\n",
              "      <td>2.324</td>\n",
              "      <td>0.722</td>\n",
              "      <td>2.303</td>\n",
              "    </tr>\n",
              "    <tr>\n",
              "      <th>5</th>\n",
              "      <td>uniform</td>\n",
              "      <td>a = 5, b = 20</td>\n",
              "      <td>2.701</td>\n",
              "      <td>0.659</td>\n",
              "      <td>2.723</td>\n",
              "      <td>0.691</td>\n",
              "      <td>2.708</td>\n",
              "    </tr>\n",
              "    <tr>\n",
              "      <th>6</th>\n",
              "      <td>exponential</td>\n",
              "      <td>lambda = 1</td>\n",
              "      <td>0.942</td>\n",
              "      <td>0.523</td>\n",
              "      <td>1.048</td>\n",
              "      <td>0.505</td>\n",
              "      <td>1.000</td>\n",
              "    </tr>\n",
              "    <tr>\n",
              "      <th>7</th>\n",
              "      <td>exponential</td>\n",
              "      <td>lambda = 2</td>\n",
              "      <td>0.211</td>\n",
              "      <td>0.356</td>\n",
              "      <td>0.339</td>\n",
              "      <td>0.394</td>\n",
              "      <td>-0.609</td>\n",
              "    </tr>\n",
              "    <tr>\n",
              "      <th>8</th>\n",
              "      <td>exponential</td>\n",
              "      <td>lambda = 10</td>\n",
              "      <td>-1.276</td>\n",
              "      <td>1.669</td>\n",
              "      <td>-0.855</td>\n",
              "      <td>1.670</td>\n",
              "      <td>-1.303</td>\n",
              "    </tr>\n",
              "    <tr>\n",
              "      <th>9</th>\n",
              "      <td>laplace</td>\n",
              "      <td>mean = 0.0, exponential decay = 1.0</td>\n",
              "      <td>1.677</td>\n",
              "      <td>0.651</td>\n",
              "      <td>2.333</td>\n",
              "      <td>0.637</td>\n",
              "      <td>1.693</td>\n",
              "    </tr>\n",
              "    <tr>\n",
              "      <th>10</th>\n",
              "      <td>laplace</td>\n",
              "      <td>mean = 0.0, exponential decay = 2.0</td>\n",
              "      <td>2.354</td>\n",
              "      <td>0.694</td>\n",
              "      <td>2.417</td>\n",
              "      <td>0.688</td>\n",
              "      <td>2.386</td>\n",
              "    </tr>\n",
              "    <tr>\n",
              "      <th>11</th>\n",
              "      <td>laplace</td>\n",
              "      <td>mean = 0.0, exponential decay = 4.0</td>\n",
              "      <td>3.104</td>\n",
              "      <td>0.646</td>\n",
              "      <td>3.136</td>\n",
              "      <td>0.645</td>\n",
              "      <td>3.079</td>\n",
              "    </tr>\n",
              "    <tr>\n",
              "      <th>12</th>\n",
              "      <td>chisquare</td>\n",
              "      <td>df = 2</td>\n",
              "      <td>1.698</td>\n",
              "      <td>0.681</td>\n",
              "      <td>1.789</td>\n",
              "      <td>0.647</td>\n",
              "      <td>1.693</td>\n",
              "    </tr>\n",
              "    <tr>\n",
              "      <th>13</th>\n",
              "      <td>chisquare</td>\n",
              "      <td>df = 3</td>\n",
              "      <td>2.060</td>\n",
              "      <td>0.704</td>\n",
              "      <td>2.104</td>\n",
              "      <td>0.694</td>\n",
              "      <td>2.091</td>\n",
              "    </tr>\n",
              "    <tr>\n",
              "      <th>14</th>\n",
              "      <td>chisquare</td>\n",
              "      <td>df = 4</td>\n",
              "      <td>2.243</td>\n",
              "      <td>0.704</td>\n",
              "      <td>2.310</td>\n",
              "      <td>0.703</td>\n",
              "      <td>3.116</td>\n",
              "    </tr>\n",
              "    <tr>\n",
              "      <th>15</th>\n",
              "      <td>gamma</td>\n",
              "      <td>shape = 2, scale = 2</td>\n",
              "      <td>2.277</td>\n",
              "      <td>0.706</td>\n",
              "      <td>2.307</td>\n",
              "      <td>0.703</td>\n",
              "      <td>2.270</td>\n",
              "    </tr>\n",
              "    <tr>\n",
              "      <th>16</th>\n",
              "      <td>gamma</td>\n",
              "      <td>shape = 3, scale = 2</td>\n",
              "      <td>2.520</td>\n",
              "      <td>0.697</td>\n",
              "      <td>2.630</td>\n",
              "      <td>0.696</td>\n",
              "      <td>2.541</td>\n",
              "    </tr>\n",
              "    <tr>\n",
              "      <th>17</th>\n",
              "      <td>gamma</td>\n",
              "      <td>shape = 3, scale = 3</td>\n",
              "      <td>2.885</td>\n",
              "      <td>0.669</td>\n",
              "      <td>2.973</td>\n",
              "      <td>0.669</td>\n",
              "      <td>2.946</td>\n",
              "    </tr>\n",
              "  </tbody>\n",
              "</table>\n",
              "</div>\n",
              "      <button class=\"colab-df-convert\" onclick=\"convertToInteractive('df-e4c1a6aa-84ec-457a-b679-0cbc08ba5cd2')\"\n",
              "              title=\"Convert this dataframe to an interactive table.\"\n",
              "              style=\"display:none;\">\n",
              "        \n",
              "  <svg xmlns=\"http://www.w3.org/2000/svg\" height=\"24px\"viewBox=\"0 0 24 24\"\n",
              "       width=\"24px\">\n",
              "    <path d=\"M0 0h24v24H0V0z\" fill=\"none\"/>\n",
              "    <path d=\"M18.56 5.44l.94 2.06.94-2.06 2.06-.94-2.06-.94-.94-2.06-.94 2.06-2.06.94zm-11 1L8.5 8.5l.94-2.06 2.06-.94-2.06-.94L8.5 2.5l-.94 2.06-2.06.94zm10 10l.94 2.06.94-2.06 2.06-.94-2.06-.94-.94-2.06-.94 2.06-2.06.94z\"/><path d=\"M17.41 7.96l-1.37-1.37c-.4-.4-.92-.59-1.43-.59-.52 0-1.04.2-1.43.59L10.3 9.45l-7.72 7.72c-.78.78-.78 2.05 0 2.83L4 21.41c.39.39.9.59 1.41.59.51 0 1.02-.2 1.41-.59l7.78-7.78 2.81-2.81c.8-.78.8-2.07 0-2.86zM5.41 20L4 18.59l7.72-7.72 1.47 1.35L5.41 20z\"/>\n",
              "  </svg>\n",
              "      </button>\n",
              "      \n",
              "  <style>\n",
              "    .colab-df-container {\n",
              "      display:flex;\n",
              "      flex-wrap:wrap;\n",
              "      gap: 12px;\n",
              "    }\n",
              "\n",
              "    .colab-df-convert {\n",
              "      background-color: #E8F0FE;\n",
              "      border: none;\n",
              "      border-radius: 50%;\n",
              "      cursor: pointer;\n",
              "      display: none;\n",
              "      fill: #1967D2;\n",
              "      height: 32px;\n",
              "      padding: 0 0 0 0;\n",
              "      width: 32px;\n",
              "    }\n",
              "\n",
              "    .colab-df-convert:hover {\n",
              "      background-color: #E2EBFA;\n",
              "      box-shadow: 0px 1px 2px rgba(60, 64, 67, 0.3), 0px 1px 3px 1px rgba(60, 64, 67, 0.15);\n",
              "      fill: #174EA6;\n",
              "    }\n",
              "\n",
              "    [theme=dark] .colab-df-convert {\n",
              "      background-color: #3B4455;\n",
              "      fill: #D2E3FC;\n",
              "    }\n",
              "\n",
              "    [theme=dark] .colab-df-convert:hover {\n",
              "      background-color: #434B5C;\n",
              "      box-shadow: 0px 1px 3px 1px rgba(0, 0, 0, 0.15);\n",
              "      filter: drop-shadow(0px 1px 2px rgba(0, 0, 0, 0.3));\n",
              "      fill: #FFFFFF;\n",
              "    }\n",
              "  </style>\n",
              "\n",
              "      <script>\n",
              "        const buttonEl =\n",
              "          document.querySelector('#df-e4c1a6aa-84ec-457a-b679-0cbc08ba5cd2 button.colab-df-convert');\n",
              "        buttonEl.style.display =\n",
              "          google.colab.kernel.accessAllowed ? 'block' : 'none';\n",
              "\n",
              "        async function convertToInteractive(key) {\n",
              "          const element = document.querySelector('#df-e4c1a6aa-84ec-457a-b679-0cbc08ba5cd2');\n",
              "          const dataTable =\n",
              "            await google.colab.kernel.invokeFunction('convertToInteractive',\n",
              "                                                     [key], {});\n",
              "          if (!dataTable) return;\n",
              "\n",
              "          const docLinkHtml = 'Like what you see? Visit the ' +\n",
              "            '<a target=\"_blank\" href=https://colab.research.google.com/notebooks/data_table.ipynb>data table notebook</a>'\n",
              "            + ' to learn more about interactive tables.';\n",
              "          element.innerHTML = '';\n",
              "          dataTable['output_type'] = 'display_data';\n",
              "          await google.colab.output.renderOutput(dataTable, element);\n",
              "          const docLink = document.createElement('div');\n",
              "          docLink.innerHTML = docLinkHtml;\n",
              "          element.appendChild(docLink);\n",
              "        }\n",
              "      </script>\n",
              "    </div>\n",
              "  </div>\n",
              "  "
            ],
            "text/plain": [
              "   Distribution                           Parameters  ...  Sigma kernel  Real H\n",
              "0        normal                    mean = 0, std = 1  ...         0.637   1.419\n",
              "1        normal                    mean = 0, std = 5  ...         0.661   3.028\n",
              "2        normal                   mean = 0, std = 30  ...         0.422   4.820\n",
              "3       uniform                         a = 0, b = 1  ...         0.155   0.000\n",
              "4       uniform                         a = 0, b = 5  ...         0.722   2.303\n",
              "5       uniform                        a = 5, b = 20  ...         0.691   2.708\n",
              "6   exponential                           lambda = 1  ...         0.505   1.000\n",
              "7   exponential                           lambda = 2  ...         0.394  -0.609\n",
              "8   exponential                          lambda = 10  ...         1.670  -1.303\n",
              "9       laplace  mean = 0.0, exponential decay = 1.0  ...         0.637   1.693\n",
              "10      laplace  mean = 0.0, exponential decay = 2.0  ...         0.688   2.386\n",
              "11      laplace  mean = 0.0, exponential decay = 4.0  ...         0.645   3.079\n",
              "12    chisquare                               df = 2  ...         0.647   1.693\n",
              "13    chisquare                               df = 3  ...         0.694   2.091\n",
              "14    chisquare                               df = 4  ...         0.703   3.116\n",
              "15        gamma                 shape = 2, scale = 2  ...         0.703   2.270\n",
              "16        gamma                 shape = 3, scale = 2  ...         0.696   2.541\n",
              "17        gamma                 shape = 3, scale = 3  ...         0.669   2.946\n",
              "\n",
              "[18 rows x 7 columns]"
            ]
          },
          "metadata": {},
          "execution_count": 60
        }
      ]
    },
    {
      "cell_type": "code",
      "source": [
        "noised_data = pd.read_csv('/content/noised_estims')\n",
        "noised_data['Real H'] = real_Hs"
      ],
      "metadata": {
        "colab": {
          "base_uri": "https://localhost:8080/",
          "height": 618
        },
        "id": "lnF8XVojUlhN",
        "outputId": "068a12ec-e11f-4b85-cf1c-ef8288732385"
      },
      "execution_count": null,
      "outputs": [
        {
          "output_type": "execute_result",
          "data": {
            "text/html": [
              "\n",
              "  <div id=\"df-67e28bc3-fa11-454a-b258-928dc9223a29\">\n",
              "    <div class=\"colab-df-container\">\n",
              "      <div>\n",
              "<style scoped>\n",
              "    .dataframe tbody tr th:only-of-type {\n",
              "        vertical-align: middle;\n",
              "    }\n",
              "\n",
              "    .dataframe tbody tr th {\n",
              "        vertical-align: top;\n",
              "    }\n",
              "\n",
              "    .dataframe thead th {\n",
              "        text-align: right;\n",
              "    }\n",
              "</style>\n",
              "<table border=\"1\" class=\"dataframe\">\n",
              "  <thead>\n",
              "    <tr style=\"text-align: right;\">\n",
              "      <th></th>\n",
              "      <th>Distribution</th>\n",
              "      <th>Parameters</th>\n",
              "      <th>Histogram estimate</th>\n",
              "      <th>Sigma histogram</th>\n",
              "      <th>Kernel estimate</th>\n",
              "      <th>Sigma kernel</th>\n",
              "      <th>Real H</th>\n",
              "    </tr>\n",
              "  </thead>\n",
              "  <tbody>\n",
              "    <tr>\n",
              "      <th>0</th>\n",
              "      <td>normal</td>\n",
              "      <td>mean = 0, std = 1</td>\n",
              "      <td>1.771</td>\n",
              "      <td>0.704</td>\n",
              "      <td>1.788</td>\n",
              "      <td>0.701</td>\n",
              "      <td>1.419</td>\n",
              "    </tr>\n",
              "    <tr>\n",
              "      <th>1</th>\n",
              "      <td>normal</td>\n",
              "      <td>mean = 0, std = 5</td>\n",
              "      <td>2.980</td>\n",
              "      <td>0.658</td>\n",
              "      <td>3.014</td>\n",
              "      <td>0.659</td>\n",
              "      <td>3.028</td>\n",
              "    </tr>\n",
              "    <tr>\n",
              "      <th>2</th>\n",
              "      <td>normal</td>\n",
              "      <td>mean = 0, std = 30</td>\n",
              "      <td>4.769</td>\n",
              "      <td>0.419</td>\n",
              "      <td>4.806</td>\n",
              "      <td>0.418</td>\n",
              "      <td>4.820</td>\n",
              "    </tr>\n",
              "    <tr>\n",
              "      <th>3</th>\n",
              "      <td>uniform</td>\n",
              "      <td>a = 0, b = 1</td>\n",
              "      <td>1.421</td>\n",
              "      <td>0.669</td>\n",
              "      <td>1.432</td>\n",
              "      <td>0.654</td>\n",
              "      <td>0.000</td>\n",
              "    </tr>\n",
              "    <tr>\n",
              "      <th>4</th>\n",
              "      <td>uniform</td>\n",
              "      <td>a = 0, b = 5</td>\n",
              "      <td>2.426</td>\n",
              "      <td>0.708</td>\n",
              "      <td>2.491</td>\n",
              "      <td>0.708</td>\n",
              "      <td>2.303</td>\n",
              "    </tr>\n",
              "    <tr>\n",
              "      <th>5</th>\n",
              "      <td>uniform</td>\n",
              "      <td>a = 5, b = 20</td>\n",
              "      <td>2.814</td>\n",
              "      <td>0.679</td>\n",
              "      <td>2.835</td>\n",
              "      <td>0.680</td>\n",
              "      <td>2.708</td>\n",
              "    </tr>\n",
              "    <tr>\n",
              "      <th>6</th>\n",
              "      <td>exponential</td>\n",
              "      <td>lambda = 1</td>\n",
              "      <td>1.692</td>\n",
              "      <td>0.700</td>\n",
              "      <td>1.727</td>\n",
              "      <td>0.689</td>\n",
              "      <td>1.000</td>\n",
              "    </tr>\n",
              "    <tr>\n",
              "      <th>7</th>\n",
              "      <td>exponential</td>\n",
              "      <td>lambda = 2</td>\n",
              "      <td>1.514</td>\n",
              "      <td>0.674</td>\n",
              "      <td>1.541</td>\n",
              "      <td>0.669</td>\n",
              "      <td>-0.609</td>\n",
              "    </tr>\n",
              "    <tr>\n",
              "      <th>8</th>\n",
              "      <td>exponential</td>\n",
              "      <td>lambda = 10</td>\n",
              "      <td>1.381</td>\n",
              "      <td>0.654</td>\n",
              "      <td>1.416</td>\n",
              "      <td>0.651</td>\n",
              "      <td>-1.303</td>\n",
              "    </tr>\n",
              "    <tr>\n",
              "      <th>9</th>\n",
              "      <td>laplace</td>\n",
              "      <td>mean = 0.0, exponential decay = 1.0</td>\n",
              "      <td>1.933</td>\n",
              "      <td>0.697</td>\n",
              "      <td>2.005</td>\n",
              "      <td>0.695</td>\n",
              "      <td>1.693</td>\n",
              "    </tr>\n",
              "    <tr>\n",
              "      <th>10</th>\n",
              "      <td>laplace</td>\n",
              "      <td>mean = 0.0, exponential decay = 2.0</td>\n",
              "      <td>2.457</td>\n",
              "      <td>0.696</td>\n",
              "      <td>2.501</td>\n",
              "      <td>0.694</td>\n",
              "      <td>2.386</td>\n",
              "    </tr>\n",
              "    <tr>\n",
              "      <th>11</th>\n",
              "      <td>laplace</td>\n",
              "      <td>mean = 0.0, exponential decay = 4.0</td>\n",
              "      <td>3.139</td>\n",
              "      <td>0.644</td>\n",
              "      <td>3.221</td>\n",
              "      <td>0.642</td>\n",
              "      <td>3.079</td>\n",
              "    </tr>\n",
              "    <tr>\n",
              "      <th>12</th>\n",
              "      <td>chisquare</td>\n",
              "      <td>df = 2</td>\n",
              "      <td>2.095</td>\n",
              "      <td>0.700</td>\n",
              "      <td>2.128</td>\n",
              "      <td>0.698</td>\n",
              "      <td>1.693</td>\n",
              "    </tr>\n",
              "    <tr>\n",
              "      <th>13</th>\n",
              "      <td>chisquare</td>\n",
              "      <td>df = 3</td>\n",
              "      <td>2.246</td>\n",
              "      <td>0.702</td>\n",
              "      <td>2.285</td>\n",
              "      <td>0.701</td>\n",
              "      <td>2.091</td>\n",
              "    </tr>\n",
              "    <tr>\n",
              "      <th>14</th>\n",
              "      <td>chisquare</td>\n",
              "      <td>df = 4</td>\n",
              "      <td>2.378</td>\n",
              "      <td>0.703</td>\n",
              "      <td>2.410</td>\n",
              "      <td>0.702</td>\n",
              "      <td>3.116</td>\n",
              "    </tr>\n",
              "    <tr>\n",
              "      <th>15</th>\n",
              "      <td>gamma</td>\n",
              "      <td>shape = 2, scale = 2</td>\n",
              "      <td>2.390</td>\n",
              "      <td>0.700</td>\n",
              "      <td>2.466</td>\n",
              "      <td>0.699</td>\n",
              "      <td>2.270</td>\n",
              "    </tr>\n",
              "    <tr>\n",
              "      <th>16</th>\n",
              "      <td>gamma</td>\n",
              "      <td>shape = 3, scale = 2</td>\n",
              "      <td>2.596</td>\n",
              "      <td>0.694</td>\n",
              "      <td>2.650</td>\n",
              "      <td>0.693</td>\n",
              "      <td>2.541</td>\n",
              "    </tr>\n",
              "    <tr>\n",
              "      <th>17</th>\n",
              "      <td>gamma</td>\n",
              "      <td>shape = 3, scale = 3</td>\n",
              "      <td>2.934</td>\n",
              "      <td>0.664</td>\n",
              "      <td>2.976</td>\n",
              "      <td>0.665</td>\n",
              "      <td>2.946</td>\n",
              "    </tr>\n",
              "  </tbody>\n",
              "</table>\n",
              "</div>\n",
              "      <button class=\"colab-df-convert\" onclick=\"convertToInteractive('df-67e28bc3-fa11-454a-b258-928dc9223a29')\"\n",
              "              title=\"Convert this dataframe to an interactive table.\"\n",
              "              style=\"display:none;\">\n",
              "        \n",
              "  <svg xmlns=\"http://www.w3.org/2000/svg\" height=\"24px\"viewBox=\"0 0 24 24\"\n",
              "       width=\"24px\">\n",
              "    <path d=\"M0 0h24v24H0V0z\" fill=\"none\"/>\n",
              "    <path d=\"M18.56 5.44l.94 2.06.94-2.06 2.06-.94-2.06-.94-.94-2.06-.94 2.06-2.06.94zm-11 1L8.5 8.5l.94-2.06 2.06-.94-2.06-.94L8.5 2.5l-.94 2.06-2.06.94zm10 10l.94 2.06.94-2.06 2.06-.94-2.06-.94-.94-2.06-.94 2.06-2.06.94z\"/><path d=\"M17.41 7.96l-1.37-1.37c-.4-.4-.92-.59-1.43-.59-.52 0-1.04.2-1.43.59L10.3 9.45l-7.72 7.72c-.78.78-.78 2.05 0 2.83L4 21.41c.39.39.9.59 1.41.59.51 0 1.02-.2 1.41-.59l7.78-7.78 2.81-2.81c.8-.78.8-2.07 0-2.86zM5.41 20L4 18.59l7.72-7.72 1.47 1.35L5.41 20z\"/>\n",
              "  </svg>\n",
              "      </button>\n",
              "      \n",
              "  <style>\n",
              "    .colab-df-container {\n",
              "      display:flex;\n",
              "      flex-wrap:wrap;\n",
              "      gap: 12px;\n",
              "    }\n",
              "\n",
              "    .colab-df-convert {\n",
              "      background-color: #E8F0FE;\n",
              "      border: none;\n",
              "      border-radius: 50%;\n",
              "      cursor: pointer;\n",
              "      display: none;\n",
              "      fill: #1967D2;\n",
              "      height: 32px;\n",
              "      padding: 0 0 0 0;\n",
              "      width: 32px;\n",
              "    }\n",
              "\n",
              "    .colab-df-convert:hover {\n",
              "      background-color: #E2EBFA;\n",
              "      box-shadow: 0px 1px 2px rgba(60, 64, 67, 0.3), 0px 1px 3px 1px rgba(60, 64, 67, 0.15);\n",
              "      fill: #174EA6;\n",
              "    }\n",
              "\n",
              "    [theme=dark] .colab-df-convert {\n",
              "      background-color: #3B4455;\n",
              "      fill: #D2E3FC;\n",
              "    }\n",
              "\n",
              "    [theme=dark] .colab-df-convert:hover {\n",
              "      background-color: #434B5C;\n",
              "      box-shadow: 0px 1px 3px 1px rgba(0, 0, 0, 0.15);\n",
              "      filter: drop-shadow(0px 1px 2px rgba(0, 0, 0, 0.3));\n",
              "      fill: #FFFFFF;\n",
              "    }\n",
              "  </style>\n",
              "\n",
              "      <script>\n",
              "        const buttonEl =\n",
              "          document.querySelector('#df-67e28bc3-fa11-454a-b258-928dc9223a29 button.colab-df-convert');\n",
              "        buttonEl.style.display =\n",
              "          google.colab.kernel.accessAllowed ? 'block' : 'none';\n",
              "\n",
              "        async function convertToInteractive(key) {\n",
              "          const element = document.querySelector('#df-67e28bc3-fa11-454a-b258-928dc9223a29');\n",
              "          const dataTable =\n",
              "            await google.colab.kernel.invokeFunction('convertToInteractive',\n",
              "                                                     [key], {});\n",
              "          if (!dataTable) return;\n",
              "\n",
              "          const docLinkHtml = 'Like what you see? Visit the ' +\n",
              "            '<a target=\"_blank\" href=https://colab.research.google.com/notebooks/data_table.ipynb>data table notebook</a>'\n",
              "            + ' to learn more about interactive tables.';\n",
              "          element.innerHTML = '';\n",
              "          dataTable['output_type'] = 'display_data';\n",
              "          await google.colab.output.renderOutput(dataTable, element);\n",
              "          const docLink = document.createElement('div');\n",
              "          docLink.innerHTML = docLinkHtml;\n",
              "          element.appendChild(docLink);\n",
              "        }\n",
              "      </script>\n",
              "    </div>\n",
              "  </div>\n",
              "  "
            ],
            "text/plain": [
              "   Distribution                           Parameters  ...  Sigma kernel  Real H\n",
              "0        normal                    mean = 0, std = 1  ...         0.701   1.419\n",
              "1        normal                    mean = 0, std = 5  ...         0.659   3.028\n",
              "2        normal                   mean = 0, std = 30  ...         0.418   4.820\n",
              "3       uniform                         a = 0, b = 1  ...         0.654   0.000\n",
              "4       uniform                         a = 0, b = 5  ...         0.708   2.303\n",
              "5       uniform                        a = 5, b = 20  ...         0.680   2.708\n",
              "6   exponential                           lambda = 1  ...         0.689   1.000\n",
              "7   exponential                           lambda = 2  ...         0.669  -0.609\n",
              "8   exponential                          lambda = 10  ...         0.651  -1.303\n",
              "9       laplace  mean = 0.0, exponential decay = 1.0  ...         0.695   1.693\n",
              "10      laplace  mean = 0.0, exponential decay = 2.0  ...         0.694   2.386\n",
              "11      laplace  mean = 0.0, exponential decay = 4.0  ...         0.642   3.079\n",
              "12    chisquare                               df = 2  ...         0.698   1.693\n",
              "13    chisquare                               df = 3  ...         0.701   2.091\n",
              "14    chisquare                               df = 4  ...         0.702   3.116\n",
              "15        gamma                 shape = 2, scale = 2  ...         0.699   2.270\n",
              "16        gamma                 shape = 3, scale = 2  ...         0.693   2.541\n",
              "17        gamma                 shape = 3, scale = 3  ...         0.665   2.946\n",
              "\n",
              "[18 rows x 7 columns]"
            ]
          },
          "metadata": {},
          "execution_count": 61
        }
      ]
    },
    {
      "cell_type": "markdown",
      "source": [
        "From the above we can see, that our estimates perform really well for all types of distributions. For all families (besides normal one) histogram estimate gives us a better approximation to a real value. For normal one kernel performs better which can be connected with the fact that we used Gaussian kernel in this case.\n",
        "\n",
        "On the other hand, noising the distributions breaks the estimate in the most cases. Estimates are alright just for gamma distribution and normal distribution. That most likely happens because the noise distribution is normal, hence it doesn't break the structure of the initial sample really hard."
      ],
      "metadata": {
        "id": "V6lolryleiI-"
      }
    },
    {
      "cell_type": "markdown",
      "source": [
        "# Experiments with normal distribution using spacings estimate."
      ],
      "metadata": {
        "id": "mFerMVWdgCGo"
      }
    },
    {
      "cell_type": "markdown",
      "source": [
        "For each experience I took parameter m small, because we investigated it earlier."
      ],
      "metadata": {
        "id": "oGYRr4sunXKh"
      }
    },
    {
      "cell_type": "markdown",
      "source": [
        "## Experiment 1 : different means"
      ],
      "metadata": {
        "id": "UvFIXKmIo6Pt"
      }
    },
    {
      "cell_type": "code",
      "source": [
        "n = 30000\n",
        "X_normal_0 = np.random.normal(0, 3, n)\n",
        "X_normal_p3 = np.random.normal(3, 3, n)\n",
        "X_normal_m3 = np.random.normal(-3, 3, n)\n",
        "X_normal_p10 = np.random.normal(10, 3, n)\n",
        "X_normal_m10 = np.random.normal(-10, 3, n)"
      ],
      "metadata": {
        "id": "tNqhDbUvgUWI"
      },
      "execution_count": null,
      "outputs": []
    },
    {
      "cell_type": "code",
      "source": [
        "print(f\"For normal distribution with std = 3 H value equals {real_H_normal(3):.4f}\")\n",
        "print(\"---------------------------------\")\n",
        "print(f\"For sample with mean {0} estimate is {get_H_hat_unbiased(np.sort(X_normal_0), 10):.4f}\")\n",
        "print(f\"For sample with mean {3} estimate is {get_H_hat_unbiased(np.sort(X_normal_p3), 10):.4f}\")\n",
        "print(f\"For sample with mean {-3} estimate is {get_H_hat_unbiased(np.sort(X_normal_m3), 10):.4f}\")\n",
        "print(f\"For sample with mean {10} estimate is {get_H_hat_unbiased(np.sort(X_normal_p10), 10):.4f}\")\n",
        "print(f\"For sample with mean {-10} estimate is {get_H_hat_unbiased(np.sort(X_normal_m10), 10):.4f}\")"
      ],
      "metadata": {
        "colab": {
          "base_uri": "https://localhost:8080/"
        },
        "id": "ouhtoGl8gsfc",
        "outputId": "374ba091-1a38-4bb9-e946-d7c52878d07d"
      },
      "execution_count": null,
      "outputs": [
        {
          "output_type": "stream",
          "name": "stdout",
          "text": [
            "For normal distribution with std = 3 H value equals 2.5176\n",
            "---------------------------------\n",
            "For sample with mean 0 estimate is 2.5159\n",
            "For sample with mean 3 estimate is 2.5134\n",
            "For sample with mean -3 estimate is 2.5130\n",
            "For sample with mean 10 estimate is 2.5112\n",
            "For sample with mean -10 estimate is 2.5142\n"
          ]
        }
      ]
    },
    {
      "cell_type": "code",
      "source": [
        "plt.rcParams['figure.figsize'] = 7, 7\n",
        "plt.rcParams.update({'font.size': 15})\n",
        "plt.rc('lines', linewidth=4)\n",
        "\n",
        "import seaborn as sns\n",
        "\n",
        "m_s = np.arange(1, n)\n",
        "cv_H_hat_normal = [get_H_hat_unbiased(np.sort(X_normal_0), m) for m in m_s]\n",
        "\n",
        "plt.plot(cv_H_hat_normal)\n",
        "plt.grid()\n",
        "plt.show()"
      ],
      "metadata": {
        "colab": {
          "base_uri": "https://localhost:8080/",
          "height": 453
        },
        "id": "XXrSFGvg1bHk",
        "outputId": "4c20d828-de61-4520-fc4d-cbd7fc03d47f"
      },
      "execution_count": null,
      "outputs": [
        {
          "output_type": "display_data",
          "data": {
            "image/png": "[encoded data removed]",
            "text/plain": [
              "<Figure size 504x504 with 1 Axes>"
            ]
          },
          "metadata": {
            "needs_background": "light"
          }
        }
      ]
    },
    {
      "cell_type": "code",
      "source": [
        "m_s = np.arange(1, n)\n",
        "cv_H_hat_normal = [get_H_hat_unbiased(np.sort(X_normal_p3), m) for m in m_s]\n",
        "\n",
        "plt.plot(cv_H_hat_normal)\n",
        "plt.grid()\n",
        "plt.show()"
      ],
      "metadata": {
        "colab": {
          "base_uri": "https://localhost:8080/",
          "height": 736
        },
        "id": "wVMfJszJ14Gs",
        "outputId": "43e6edc4-43f2-4e35-c048-67389a04010e"
      },
      "execution_count": null,
      "outputs": [
        {
          "output_type": "display_data",
          "data": {
            "image/png": "[encoded data removed]",
            "text/plain": [
              "<Figure size 864x864 with 1 Axes>"
            ]
          },
          "metadata": {
            "needs_background": "light"
          }
        }
      ]
    },
    {
      "cell_type": "code",
      "source": [
        "m_s = np.arange(1, n)\n",
        "cv_H_hat_normal = [get_H_hat_unbiased(np.sort(X_normal_m3), m) for m in m_s]\n",
        "\n",
        "plt.plot(cv_H_hat_normal)\n",
        "plt.grid()\n",
        "plt.show()"
      ],
      "metadata": {
        "colab": {
          "base_uri": "https://localhost:8080/",
          "height": 736
        },
        "id": "Rkcq8ckD16SF",
        "outputId": "f9a536ce-8e4b-43c9-c8bf-d6a3c51391cc"
      },
      "execution_count": null,
      "outputs": [
        {
          "output_type": "display_data",
          "data": {
            "image/png": "[encoded data removed]",
            "text/plain": [
              "<Figure size 864x864 with 1 Axes>"
            ]
          },
          "metadata": {
            "needs_background": "light"
          }
        }
      ]
    },
    {
      "cell_type": "code",
      "source": [
        "m_s = np.arange(1, n)\n",
        "cv_H_hat_normal = [get_H_hat_unbiased(np.sort(X_normal_p10), m) for m in m_s]\n",
        "\n",
        "plt.plot(cv_H_hat_normal)\n",
        "plt.grid()\n",
        "plt.show()"
      ],
      "metadata": {
        "colab": {
          "base_uri": "https://localhost:8080/",
          "height": 736
        },
        "id": "YzJ8Hnbx17YE",
        "outputId": "00c28a75-6e96-450a-b2f7-8da57fb99f13"
      },
      "execution_count": null,
      "outputs": [
        {
          "output_type": "display_data",
          "data": {
            "image/png": "[encoded data removed]",
            "text/plain": [
              "<Figure size 864x864 with 1 Axes>"
            ]
          },
          "metadata": {
            "needs_background": "light"
          }
        }
      ]
    },
    {
      "cell_type": "code",
      "source": [
        "m_s = np.arange(1, n)\n",
        "cv_H_hat_normal = [get_H_hat_unbiased(np.sort(X_normal_m10), m) for m in m_s]\n",
        "\n",
        "plt.plot(cv_H_hat_normal)\n",
        "plt.grid()\n",
        "plt.show()"
      ],
      "metadata": {
        "colab": {
          "base_uri": "https://localhost:8080/",
          "height": 736
        },
        "id": "X84L76jH18o7",
        "outputId": "6aa3c67b-84ab-4bf6-9aa6-3bbed8e1a261"
      },
      "execution_count": null,
      "outputs": [
        {
          "output_type": "display_data",
          "data": {
            "image/png": "[encoded data removed]",
            "text/plain": [
              "<Figure size 864x864 with 1 Axes>"
            ]
          },
          "metadata": {
            "needs_background": "light"
          }
        }
      ]
    },
    {
      "cell_type": "markdown",
      "source": [
        "This experiment shows us that different mean does not change spacing estimate."
      ],
      "metadata": {
        "id": "RJxUz7j0kBm5"
      }
    },
    {
      "cell_type": "markdown",
      "source": [
        "## Experiment 2 : different vars"
      ],
      "metadata": {
        "id": "nAfaIb3Qo_xJ"
      }
    },
    {
      "cell_type": "code",
      "source": [
        "n = 30000\n",
        "X_normal_1 = np.random.normal(0, 1, n)\n",
        "X_normal_5 = np.random.normal(0, 5, n)\n",
        "X_normal_10 = np.random.normal(0, 10, n)\n",
        "X_normal_20 = np.random.normal(0, 20, n)\n",
        "X_normal_50 = np.random.normal(0, 50, n)"
      ],
      "metadata": {
        "id": "ZyRWwTaK1Jtp"
      },
      "execution_count": null,
      "outputs": []
    },
    {
      "cell_type": "code",
      "source": [
        "print(\"---------------------------------\")\n",
        "print(f\"For sample with std {1} estimate is {get_H_hat_unbiased(np.sort(X_normal_1), 10):.4f}\")\n",
        "print(f\"For normal distribution with std = 1 H value equals {real_H_normal(1):.4f}\")\n",
        "print(\"---------------------------------\")\n",
        "print(f\"For sample with std {5} estimate is {get_H_hat_unbiased(np.sort(X_normal_5), 10):.4f}\")\n",
        "print(f\"For normal distribution with std = 5 H value equals {real_H_normal(5):.4f}\")\n",
        "print(\"---------------------------------\")\n",
        "print(f\"For sample with std {10} estimate is {get_H_hat_unbiased(np.sort(X_normal_10), 10):.4f}\")\n",
        "print(f\"For normal distribution with std = 10 H value equals {real_H_normal(10):.4f}\")\n",
        "print(\"---------------------------------\")\n",
        "print(f\"For sample with std {20} estimate is {get_H_hat_unbiased(np.sort(X_normal_20), 10):.4f}\")\n",
        "print(f\"For normal distribution with std = 20 H value equals {real_H_normal(20):.4f}\")\n",
        "print(\"---------------------------------\")\n",
        "print(f\"For sample with std {50} estimate is {get_H_hat_unbiased(np.sort(X_normal_50), 10):.4f}\")\n",
        "print(f\"For normal distribution with std = 50 H value equals {real_H_normal(50):.4f}\")"
      ],
      "metadata": {
        "colab": {
          "base_uri": "https://localhost:8080/"
        },
        "id": "rp3T7T9v39uG",
        "outputId": "d5193ec2-0913-4868-89ee-5f5a94345c1a"
      },
      "execution_count": null,
      "outputs": [
        {
          "output_type": "stream",
          "name": "stdout",
          "text": [
            "---------------------------------\n",
            "For sample with std 1 estimate is 1.4222\n",
            "For normal distribution with std = 1 H value equals 1.4189\n",
            "---------------------------------\n",
            "For sample with std 5 estimate is 3.0225\n",
            "For normal distribution with std = 5 H value equals 3.0284\n",
            "---------------------------------\n",
            "For sample with std 10 estimate is 3.7188\n",
            "For normal distribution with std = 10 H value equals 3.7215\n",
            "---------------------------------\n",
            "For sample with std 20 estimate is 4.4128\n",
            "For normal distribution with std = 20 H value equals 4.4147\n",
            "---------------------------------\n",
            "For sample with std 50 estimate is 5.3303\n",
            "For normal distribution with std = 50 H value equals 5.3310\n"
          ]
        }
      ]
    },
    {
      "cell_type": "markdown",
      "source": [
        "We can see that for any sigma this method gives us good estimate."
      ],
      "metadata": {
        "id": "Bs_bvVV5kSiU"
      }
    },
    {
      "cell_type": "code",
      "source": [
        "m_s = np.arange(1, n)\n",
        "cv_H_hat_normal = [get_H_hat_unbiased(np.sort(X_normal_1), m) for m in m_s]\n",
        "\n",
        "plt.plot(cv_H_hat_normal)\n",
        "plt.grid()\n",
        "plt.show()"
      ],
      "metadata": {
        "colab": {
          "base_uri": "https://localhost:8080/",
          "height": 736
        },
        "id": "O4XD-jL45K2h",
        "outputId": "1f58a9d3-bf79-4eab-9848-3b895087d7ac"
      },
      "execution_count": null,
      "outputs": [
        {
          "output_type": "display_data",
          "data": {
            "image/png": "[encoded data removed]",
            "text/plain": [
              "<Figure size 864x864 with 1 Axes>"
            ]
          },
          "metadata": {
            "needs_background": "light"
          }
        }
      ]
    },
    {
      "cell_type": "code",
      "source": [
        "m_s = np.arange(1, n)\n",
        "cv_H_hat_normal = [get_H_hat_unbiased(np.sort(X_normal_5), m) for m in m_s]\n",
        "\n",
        "plt.plot(cv_H_hat_normal)\n",
        "plt.grid()\n",
        "plt.show()"
      ],
      "metadata": {
        "colab": {
          "base_uri": "https://localhost:8080/",
          "height": 736
        },
        "id": "Yfl1Kq_T5ZdY",
        "outputId": "4ecfa32b-ab9d-431f-ffc6-63c90347ef92"
      },
      "execution_count": null,
      "outputs": [
        {
          "output_type": "display_data",
          "data": {
            "image/png": "[encoded data removed]",
            "text/plain": [
              "<Figure size 864x864 with 1 Axes>"
            ]
          },
          "metadata": {
            "needs_background": "light"
          }
        }
      ]
    },
    {
      "cell_type": "code",
      "source": [
        "m_s = np.arange(1, n)\n",
        "cv_H_hat_normal = [get_H_hat_unbiased(np.sort(X_normal_50), m) for m in m_s]\n",
        "\n",
        "plt.plot(cv_H_hat_normal)\n",
        "plt.grid()\n",
        "plt.show()"
      ],
      "metadata": {
        "colab": {
          "base_uri": "https://localhost:8080/",
          "height": 736
        },
        "id": "M2-rFrEQ5cgJ",
        "outputId": "b0402058-fe33-492c-af97-667c49c94f59"
      },
      "execution_count": null,
      "outputs": [
        {
          "output_type": "display_data",
          "data": {
            "image/png": "[encoded data removed]",
            "text/plain": [
              "<Figure size 864x864 with 1 Axes>"
            ]
          },
          "metadata": {
            "needs_background": "light"
          }
        }
      ]
    },
    {
      "cell_type": "markdown",
      "source": [
        "## Experiment 3. Different distributions."
      ],
      "metadata": {
        "id": "1AhdkCMIlBv_"
      }
    },
    {
      "cell_type": "code",
      "source": [
        "SIZE = 30000\n",
        "dist_names = ['normal', 'normal', 'normal', 'uniform', 'uniform', 'uniform', 'exponential', 'exponential', 'exponential',\n",
        "              'laplace', 'laplace', 'laplace', 'chisquare', 'chisquare', 'chisquare',  'gamma', 'gamma', 'gamma']\n",
        "dist_list = [\n",
        "             np.random.normal(size=SIZE),\n",
        "             np.random.normal(0, 5, size=SIZE),\n",
        "             np.random.normal(0, 30, size=SIZE),\n",
        "\n",
        "             np.random.uniform(size=SIZE),\n",
        "             np.random.uniform(0, 10, size=SIZE),\n",
        "             np.random.uniform(5, 20, size=SIZE),\n",
        "\n",
        "             np.random.exponential(size=SIZE),\n",
        "             np.random.exponential(0.5, size=SIZE),\n",
        "             np.random.exponential(0.1, size=SIZE),\n",
        "\n",
        "             np.random.laplace(size=SIZE),\n",
        "             np.random.laplace(scale=2, size=SIZE),\n",
        "             np.random.laplace(scale=4, size=SIZE),\n",
        "\n",
        "             np.random.chisquare(df=2, size=SIZE),\n",
        "             np.random.chisquare(df=3, size=SIZE),\n",
        "             np.random.chisquare(df=4, size=SIZE),\n",
        "\n",
        "             np.random.gamma(2, 2, size=SIZE),\n",
        "             np.random.gamma(3, 2, size=SIZE),\n",
        "             np.random.gamma(3, 3, size=SIZE)\n",
        "]\n",
        "\n",
        "params = [\n",
        "          \"mean = 0, std = 1\",\n",
        "          \"mean = 0, std = 5\",\n",
        "          \"mean = 0, std = 30\",\n",
        "          \"a = 0, b = 1\",\n",
        "          \"a = 0, b = 10\",\n",
        "          \"a = 5, b = 20\",\n",
        "          \"lambda = 1\",\n",
        "          \"lambda = 2\",\n",
        "          \"lambda = 10\",\n",
        "          \"mean = 0.0, exponential decay = 1.0\",\n",
        "          \"mean = 0.0, exponential decay = 2.0\",\n",
        "          \"mean = 0.0, exponential decay = 4.0\",\n",
        "          \"df = 2\",\n",
        "          \"df = 3\",\n",
        "          \"df = 4\",\n",
        "          \"shape = 2, scale = 2\",\n",
        "          \"shape = 3, scale = 2\",\n",
        "          \"shape = 3, scale = 3\"\n",
        "]\n",
        "\n",
        "grounds = [real_H_normal(1), \n",
        "           real_H_normal(5),\n",
        "           real_H_normal(30),\n",
        "           real_H_uniform(0, 1),\n",
        "           real_H_uniform(0, 10),\n",
        "           real_H_uniform(5, 20),\n",
        "           real_H_exponential(1),\n",
        "           real_H_exponential(2),\n",
        "           real_H_exponential(10),\n",
        "           real_H_laplace(1),\n",
        "           real_H_laplace(2),\n",
        "           real_H_laplace(4),\n",
        "           real_H_chi_squared(2),\n",
        "           real_H_chi_squared(3),\n",
        "           real_H_chi_squared(4),\n",
        "           real_H_gamma(2, 2),\n",
        "           real_H_gamma(2, 3),\n",
        "           real_H_gamma(3, 3)\n",
        "           ]\n"
      ],
      "metadata": {
        "id": "Co_M2ozwlIX_"
      },
      "execution_count": null,
      "outputs": []
    },
    {
      "cell_type": "code",
      "source": [
        "estims = [get_H_hat_unbiased(np.sort(dist), 10) for dist in dist_list]\n",
        "#estims_1 = [get_H_hat_unbiased(np.sort(dist), 10) for dist in dist_list]"
      ],
      "metadata": {
        "id": "OVHVppkmlRvI"
      },
      "execution_count": null,
      "outputs": []
    },
    {
      "cell_type": "code",
      "source": [
        "index = 0\n",
        "import pandas as pd\n",
        "\n",
        "df = pd.DataFrame(columns=['Distribution', \"Parameters\", 'Estimate (n=30000)', 'Estimate (n=1000)', 'Real Value'])\n",
        "for data, est1, name, ground in zip(estims, estims_1, dist_names, grounds):\n",
        "    cur_row = np.array([name, params[index], round(data, 3), round(est1, 3), round(ground, 3)])\n",
        "    df.loc[index] = cur_row\n",
        "    index += 1"
      ],
      "metadata": {
        "id": "Hs_pAJnhlUJh"
      },
      "execution_count": null,
      "outputs": []
    },
    {
      "cell_type": "code",
      "source": [
        "df"
      ],
      "metadata": {
        "colab": {
          "base_uri": "https://localhost:8080/",
          "height": 618
        },
        "id": "t3icw7qhlXy7",
        "outputId": "2e6a8f3b-ac9d-4e58-d137-b3b25cdafb19"
      },
      "execution_count": null,
      "outputs": [
        {
          "output_type": "execute_result",
          "data": {
            "text/html": [
              "\n",
              "  <div id=\"df-aae2e7b5-df52-451e-9687-0d41ae00ed10\">\n",
              "    <div class=\"colab-df-container\">\n",
              "      <div>\n",
              "<style scoped>\n",
              "    .dataframe tbody tr th:only-of-type {\n",
              "        vertical-align: middle;\n",
              "    }\n",
              "\n",
              "    .dataframe tbody tr th {\n",
              "        vertical-align: top;\n",
              "    }\n",
              "\n",
              "    .dataframe thead th {\n",
              "        text-align: right;\n",
              "    }\n",
              "</style>\n",
              "<table border=\"1\" class=\"dataframe\">\n",
              "  <thead>\n",
              "    <tr style=\"text-align: right;\">\n",
              "      <th></th>\n",
              "      <th>Distribution</th>\n",
              "      <th>Parameters</th>\n",
              "      <th>Estimate (n=30000)</th>\n",
              "      <th>Estimate (n=1000)</th>\n",
              "      <th>Real Value</th>\n",
              "    </tr>\n",
              "  </thead>\n",
              "  <tbody>\n",
              "    <tr>\n",
              "      <th>0</th>\n",
              "      <td>normal</td>\n",
              "      <td>mean = 0, std = 1</td>\n",
              "      <td>1.416</td>\n",
              "      <td>4.729</td>\n",
              "      <td>1.419</td>\n",
              "    </tr>\n",
              "    <tr>\n",
              "      <th>1</th>\n",
              "      <td>normal</td>\n",
              "      <td>mean = 0, std = 5</td>\n",
              "      <td>3.023</td>\n",
              "      <td>6.349</td>\n",
              "      <td>3.028</td>\n",
              "    </tr>\n",
              "    <tr>\n",
              "      <th>2</th>\n",
              "      <td>normal</td>\n",
              "      <td>mean = 0, std = 30</td>\n",
              "      <td>4.816</td>\n",
              "      <td>8.161</td>\n",
              "      <td>4.82</td>\n",
              "    </tr>\n",
              "    <tr>\n",
              "      <th>3</th>\n",
              "      <td>uniform</td>\n",
              "      <td>a = 0, b = 1</td>\n",
              "      <td>-0.001</td>\n",
              "      <td>3.396</td>\n",
              "      <td>0.0</td>\n",
              "    </tr>\n",
              "    <tr>\n",
              "      <th>4</th>\n",
              "      <td>uniform</td>\n",
              "      <td>a = 0, b = 10</td>\n",
              "      <td>2.302</td>\n",
              "      <td>5.702</td>\n",
              "      <td>2.303</td>\n",
              "    </tr>\n",
              "    <tr>\n",
              "      <th>5</th>\n",
              "      <td>uniform</td>\n",
              "      <td>a = 5, b = 20</td>\n",
              "      <td>2.71</td>\n",
              "      <td>6.111</td>\n",
              "      <td>2.708</td>\n",
              "    </tr>\n",
              "    <tr>\n",
              "      <th>6</th>\n",
              "      <td>exponential</td>\n",
              "      <td>lambda = 1</td>\n",
              "      <td>1.003</td>\n",
              "      <td>4.363</td>\n",
              "      <td>1.0</td>\n",
              "    </tr>\n",
              "    <tr>\n",
              "      <th>7</th>\n",
              "      <td>exponential</td>\n",
              "      <td>lambda = 2</td>\n",
              "      <td>0.297</td>\n",
              "      <td>3.728</td>\n",
              "      <td>0.307</td>\n",
              "    </tr>\n",
              "    <tr>\n",
              "      <th>8</th>\n",
              "      <td>exponential</td>\n",
              "      <td>lambda = 10</td>\n",
              "      <td>-1.307</td>\n",
              "      <td>2.033</td>\n",
              "      <td>-1.303</td>\n",
              "    </tr>\n",
              "    <tr>\n",
              "      <th>9</th>\n",
              "      <td>laplace</td>\n",
              "      <td>mean = 0.0, exponential decay = 1.0</td>\n",
              "      <td>1.686</td>\n",
              "      <td>4.998</td>\n",
              "      <td>1.693</td>\n",
              "    </tr>\n",
              "    <tr>\n",
              "      <th>10</th>\n",
              "      <td>laplace</td>\n",
              "      <td>mean = 0.0, exponential decay = 2.0</td>\n",
              "      <td>2.381</td>\n",
              "      <td>5.718</td>\n",
              "      <td>2.386</td>\n",
              "    </tr>\n",
              "    <tr>\n",
              "      <th>11</th>\n",
              "      <td>laplace</td>\n",
              "      <td>mean = 0.0, exponential decay = 4.0</td>\n",
              "      <td>3.076</td>\n",
              "      <td>6.377</td>\n",
              "      <td>3.079</td>\n",
              "    </tr>\n",
              "    <tr>\n",
              "      <th>12</th>\n",
              "      <td>chisquare</td>\n",
              "      <td>df = 2</td>\n",
              "      <td>1.68</td>\n",
              "      <td>5.064</td>\n",
              "      <td>1.693</td>\n",
              "    </tr>\n",
              "    <tr>\n",
              "      <th>13</th>\n",
              "      <td>chisquare</td>\n",
              "      <td>df = 3</td>\n",
              "      <td>2.047</td>\n",
              "      <td>5.42</td>\n",
              "      <td>2.091</td>\n",
              "    </tr>\n",
              "    <tr>\n",
              "      <th>14</th>\n",
              "      <td>chisquare</td>\n",
              "      <td>df = 4</td>\n",
              "      <td>2.266</td>\n",
              "      <td>5.652</td>\n",
              "      <td>3.116</td>\n",
              "    </tr>\n",
              "    <tr>\n",
              "      <th>15</th>\n",
              "      <td>gamma</td>\n",
              "      <td>shape = 2, scale = 2</td>\n",
              "      <td>2.267</td>\n",
              "      <td>5.622</td>\n",
              "      <td>2.27</td>\n",
              "    </tr>\n",
              "    <tr>\n",
              "      <th>16</th>\n",
              "      <td>gamma</td>\n",
              "      <td>shape = 3, scale = 2</td>\n",
              "      <td>2.539</td>\n",
              "      <td>5.904</td>\n",
              "      <td>2.676</td>\n",
              "    </tr>\n",
              "    <tr>\n",
              "      <th>17</th>\n",
              "      <td>gamma</td>\n",
              "      <td>shape = 3, scale = 3</td>\n",
              "      <td>2.943</td>\n",
              "      <td>6.312</td>\n",
              "      <td>2.946</td>\n",
              "    </tr>\n",
              "  </tbody>\n",
              "</table>\n",
              "</div>\n",
              "      <button class=\"colab-df-convert\" onclick=\"convertToInteractive('df-aae2e7b5-df52-451e-9687-0d41ae00ed10')\"\n",
              "              title=\"Convert this dataframe to an interactive table.\"\n",
              "              style=\"display:none;\">\n",
              "        \n",
              "  <svg xmlns=\"http://www.w3.org/2000/svg\" height=\"24px\"viewBox=\"0 0 24 24\"\n",
              "       width=\"24px\">\n",
              "    <path d=\"M0 0h24v24H0V0z\" fill=\"none\"/>\n",
              "    <path d=\"M18.56 5.44l.94 2.06.94-2.06 2.06-.94-2.06-.94-.94-2.06-.94 2.06-2.06.94zm-11 1L8.5 8.5l.94-2.06 2.06-.94-2.06-.94L8.5 2.5l-.94 2.06-2.06.94zm10 10l.94 2.06.94-2.06 2.06-.94-2.06-.94-.94-2.06-.94 2.06-2.06.94z\"/><path d=\"M17.41 7.96l-1.37-1.37c-.4-.4-.92-.59-1.43-.59-.52 0-1.04.2-1.43.59L10.3 9.45l-7.72 7.72c-.78.78-.78 2.05 0 2.83L4 21.41c.39.39.9.59 1.41.59.51 0 1.02-.2 1.41-.59l7.78-7.78 2.81-2.81c.8-.78.8-2.07 0-2.86zM5.41 20L4 18.59l7.72-7.72 1.47 1.35L5.41 20z\"/>\n",
              "  </svg>\n",
              "      </button>\n",
              "      \n",
              "  <style>\n",
              "    .colab-df-container {\n",
              "      display:flex;\n",
              "      flex-wrap:wrap;\n",
              "      gap: 12px;\n",
              "    }\n",
              "\n",
              "    .colab-df-convert {\n",
              "      background-color: #E8F0FE;\n",
              "      border: none;\n",
              "      border-radius: 50%;\n",
              "      cursor: pointer;\n",
              "      display: none;\n",
              "      fill: #1967D2;\n",
              "      height: 32px;\n",
              "      padding: 0 0 0 0;\n",
              "      width: 32px;\n",
              "    }\n",
              "\n",
              "    .colab-df-convert:hover {\n",
              "      background-color: #E2EBFA;\n",
              "      box-shadow: 0px 1px 2px rgba(60, 64, 67, 0.3), 0px 1px 3px 1px rgba(60, 64, 67, 0.15);\n",
              "      fill: #174EA6;\n",
              "    }\n",
              "\n",
              "    [theme=dark] .colab-df-convert {\n",
              "      background-color: #3B4455;\n",
              "      fill: #D2E3FC;\n",
              "    }\n",
              "\n",
              "    [theme=dark] .colab-df-convert:hover {\n",
              "      background-color: #434B5C;\n",
              "      box-shadow: 0px 1px 3px 1px rgba(0, 0, 0, 0.15);\n",
              "      filter: drop-shadow(0px 1px 2px rgba(0, 0, 0, 0.3));\n",
              "      fill: #FFFFFF;\n",
              "    }\n",
              "  </style>\n",
              "\n",
              "      <script>\n",
              "        const buttonEl =\n",
              "          document.querySelector('#df-aae2e7b5-df52-451e-9687-0d41ae00ed10 button.colab-df-convert');\n",
              "        buttonEl.style.display =\n",
              "          google.colab.kernel.accessAllowed ? 'block' : 'none';\n",
              "\n",
              "        async function convertToInteractive(key) {\n",
              "          const element = document.querySelector('#df-aae2e7b5-df52-451e-9687-0d41ae00ed10');\n",
              "          const dataTable =\n",
              "            await google.colab.kernel.invokeFunction('convertToInteractive',\n",
              "                                                     [key], {});\n",
              "          if (!dataTable) return;\n",
              "\n",
              "          const docLinkHtml = 'Like what you see? Visit the ' +\n",
              "            '<a target=\"_blank\" href=https://colab.research.google.com/notebooks/data_table.ipynb>data table notebook</a>'\n",
              "            + ' to learn more about interactive tables.';\n",
              "          element.innerHTML = '';\n",
              "          dataTable['output_type'] = 'display_data';\n",
              "          await google.colab.output.renderOutput(dataTable, element);\n",
              "          const docLink = document.createElement('div');\n",
              "          docLink.innerHTML = docLinkHtml;\n",
              "          element.appendChild(docLink);\n",
              "        }\n",
              "      </script>\n",
              "    </div>\n",
              "  </div>\n",
              "  "
            ],
            "text/plain": [
              "   Distribution  ... Real Value\n",
              "0        normal  ...      1.419\n",
              "1        normal  ...      3.028\n",
              "2        normal  ...       4.82\n",
              "3       uniform  ...        0.0\n",
              "4       uniform  ...      2.303\n",
              "5       uniform  ...      2.708\n",
              "6   exponential  ...        1.0\n",
              "7   exponential  ...      0.307\n",
              "8   exponential  ...     -1.303\n",
              "9       laplace  ...      1.693\n",
              "10      laplace  ...      2.386\n",
              "11      laplace  ...      3.079\n",
              "12    chisquare  ...      1.693\n",
              "13    chisquare  ...      2.091\n",
              "14    chisquare  ...      3.116\n",
              "15        gamma  ...       2.27\n",
              "16        gamma  ...      2.676\n",
              "17        gamma  ...      2.946\n",
              "\n",
              "[18 rows x 5 columns]"
            ]
          },
          "metadata": {},
          "execution_count": 85
        }
      ]
    },
    {
      "cell_type": "markdown",
      "source": [
        "For almost all distributions given method works very good only with big sample size, and only for Chi-square distribution with df = 4 sparcings estimate shows very biased result. "
      ],
      "metadata": {
        "id": "eSk-54W1lc_9"
      }
    },
    {
      "cell_type": "markdown",
      "source": [
        "So now compare this estimate with previous ones."
      ],
      "metadata": {
        "id": "VeKPK74woVlP"
      }
    },
    {
      "cell_type": "code",
      "source": [
        "data = pd.read_csv('/content/estims-2.uu')\n",
        "data['Real H'] = real_Hs\n",
        "data[\"Spacings estimate (1000)\"] = estims_1\n",
        "data[\"Spacings estimate (30000)\"] = estims\n",
        "data"
      ],
      "metadata": {
        "colab": {
          "base_uri": "https://localhost:8080/",
          "height": 728
        },
        "id": "1LQ2E5kooAVU",
        "outputId": "af04dbb4-dc44-4385-83d4-8cceff26d3e2"
      },
      "execution_count": null,
      "outputs": [
        {
          "output_type": "execute_result",
          "data": {
            "text/html": [
              "\n",
              "  <div id=\"df-0507f913-f35e-44a8-aa11-1aa472e78991\">\n",
              "    <div class=\"colab-df-container\">\n",
              "      <div>\n",
              "<style scoped>\n",
              "    .dataframe tbody tr th:only-of-type {\n",
              "        vertical-align: middle;\n",
              "    }\n",
              "\n",
              "    .dataframe tbody tr th {\n",
              "        vertical-align: top;\n",
              "    }\n",
              "\n",
              "    .dataframe thead th {\n",
              "        text-align: right;\n",
              "    }\n",
              "</style>\n",
              "<table border=\"1\" class=\"dataframe\">\n",
              "  <thead>\n",
              "    <tr style=\"text-align: right;\">\n",
              "      <th></th>\n",
              "      <th>Distribution</th>\n",
              "      <th>Parameters</th>\n",
              "      <th>Histogram estimate</th>\n",
              "      <th>Sigma histogram</th>\n",
              "      <th>Kernel estimate</th>\n",
              "      <th>Sigma kernel</th>\n",
              "      <th>Real H</th>\n",
              "      <th>Spacings estimate (1000)</th>\n",
              "      <th>Spacings estimate (30000)</th>\n",
              "    </tr>\n",
              "  </thead>\n",
              "  <tbody>\n",
              "    <tr>\n",
              "      <th>0</th>\n",
              "      <td>normal</td>\n",
              "      <td>mean = 0, std = 1</td>\n",
              "      <td>1.360</td>\n",
              "      <td>0.640</td>\n",
              "      <td>1.388</td>\n",
              "      <td>0.637</td>\n",
              "      <td>1.419</td>\n",
              "      <td>4.728675</td>\n",
              "      <td>1.415909</td>\n",
              "    </tr>\n",
              "    <tr>\n",
              "      <th>1</th>\n",
              "      <td>normal</td>\n",
              "      <td>mean = 0, std = 5</td>\n",
              "      <td>2.971</td>\n",
              "      <td>0.661</td>\n",
              "      <td>2.996</td>\n",
              "      <td>0.661</td>\n",
              "      <td>3.028</td>\n",
              "      <td>6.349098</td>\n",
              "      <td>3.022683</td>\n",
              "    </tr>\n",
              "    <tr>\n",
              "      <th>2</th>\n",
              "      <td>normal</td>\n",
              "      <td>mean = 0, std = 30</td>\n",
              "      <td>4.773</td>\n",
              "      <td>0.420</td>\n",
              "      <td>4.834</td>\n",
              "      <td>0.422</td>\n",
              "      <td>4.820</td>\n",
              "      <td>8.160778</td>\n",
              "      <td>4.816107</td>\n",
              "    </tr>\n",
              "    <tr>\n",
              "      <th>3</th>\n",
              "      <td>uniform</td>\n",
              "      <td>a = 0, b = 1</td>\n",
              "      <td>-0.007</td>\n",
              "      <td>0.163</td>\n",
              "      <td>0.100</td>\n",
              "      <td>0.155</td>\n",
              "      <td>0.000</td>\n",
              "      <td>3.395553</td>\n",
              "      <td>-0.000983</td>\n",
              "    </tr>\n",
              "    <tr>\n",
              "      <th>4</th>\n",
              "      <td>uniform</td>\n",
              "      <td>a = 0, b = 5</td>\n",
              "      <td>2.289</td>\n",
              "      <td>0.715</td>\n",
              "      <td>2.324</td>\n",
              "      <td>0.722</td>\n",
              "      <td>2.303</td>\n",
              "      <td>5.701646</td>\n",
              "      <td>2.301599</td>\n",
              "    </tr>\n",
              "    <tr>\n",
              "      <th>5</th>\n",
              "      <td>uniform</td>\n",
              "      <td>a = 5, b = 20</td>\n",
              "      <td>2.701</td>\n",
              "      <td>0.659</td>\n",
              "      <td>2.723</td>\n",
              "      <td>0.691</td>\n",
              "      <td>2.708</td>\n",
              "      <td>6.110947</td>\n",
              "      <td>2.709855</td>\n",
              "    </tr>\n",
              "    <tr>\n",
              "      <th>6</th>\n",
              "      <td>exponential</td>\n",
              "      <td>lambda = 1</td>\n",
              "      <td>0.942</td>\n",
              "      <td>0.523</td>\n",
              "      <td>1.048</td>\n",
              "      <td>0.505</td>\n",
              "      <td>1.000</td>\n",
              "      <td>4.362730</td>\n",
              "      <td>1.002654</td>\n",
              "    </tr>\n",
              "    <tr>\n",
              "      <th>7</th>\n",
              "      <td>exponential</td>\n",
              "      <td>lambda = 2</td>\n",
              "      <td>0.211</td>\n",
              "      <td>0.356</td>\n",
              "      <td>0.339</td>\n",
              "      <td>0.394</td>\n",
              "      <td>-0.609</td>\n",
              "      <td>3.728439</td>\n",
              "      <td>0.297170</td>\n",
              "    </tr>\n",
              "    <tr>\n",
              "      <th>8</th>\n",
              "      <td>exponential</td>\n",
              "      <td>lambda = 10</td>\n",
              "      <td>-1.276</td>\n",
              "      <td>1.669</td>\n",
              "      <td>-0.855</td>\n",
              "      <td>1.670</td>\n",
              "      <td>-1.303</td>\n",
              "      <td>2.033251</td>\n",
              "      <td>-1.306775</td>\n",
              "    </tr>\n",
              "    <tr>\n",
              "      <th>9</th>\n",
              "      <td>laplace</td>\n",
              "      <td>mean = 0.0, exponential decay = 1.0</td>\n",
              "      <td>1.677</td>\n",
              "      <td>0.651</td>\n",
              "      <td>2.333</td>\n",
              "      <td>0.637</td>\n",
              "      <td>1.693</td>\n",
              "      <td>4.998414</td>\n",
              "      <td>1.685812</td>\n",
              "    </tr>\n",
              "    <tr>\n",
              "      <th>10</th>\n",
              "      <td>laplace</td>\n",
              "      <td>mean = 0.0, exponential decay = 2.0</td>\n",
              "      <td>2.354</td>\n",
              "      <td>0.694</td>\n",
              "      <td>2.417</td>\n",
              "      <td>0.688</td>\n",
              "      <td>2.386</td>\n",
              "      <td>5.717778</td>\n",
              "      <td>2.381358</td>\n",
              "    </tr>\n",
              "    <tr>\n",
              "      <th>11</th>\n",
              "      <td>laplace</td>\n",
              "      <td>mean = 0.0, exponential decay = 4.0</td>\n",
              "      <td>3.104</td>\n",
              "      <td>0.646</td>\n",
              "      <td>3.136</td>\n",
              "      <td>0.645</td>\n",
              "      <td>3.079</td>\n",
              "      <td>6.376784</td>\n",
              "      <td>3.076113</td>\n",
              "    </tr>\n",
              "    <tr>\n",
              "      <th>12</th>\n",
              "      <td>chisquare</td>\n",
              "      <td>df = 2</td>\n",
              "      <td>1.698</td>\n",
              "      <td>0.681</td>\n",
              "      <td>1.789</td>\n",
              "      <td>0.647</td>\n",
              "      <td>1.693</td>\n",
              "      <td>5.064453</td>\n",
              "      <td>1.679616</td>\n",
              "    </tr>\n",
              "    <tr>\n",
              "      <th>13</th>\n",
              "      <td>chisquare</td>\n",
              "      <td>df = 3</td>\n",
              "      <td>2.060</td>\n",
              "      <td>0.704</td>\n",
              "      <td>2.104</td>\n",
              "      <td>0.694</td>\n",
              "      <td>2.091</td>\n",
              "      <td>5.419717</td>\n",
              "      <td>2.047036</td>\n",
              "    </tr>\n",
              "    <tr>\n",
              "      <th>14</th>\n",
              "      <td>chisquare</td>\n",
              "      <td>df = 4</td>\n",
              "      <td>2.243</td>\n",
              "      <td>0.704</td>\n",
              "      <td>2.310</td>\n",
              "      <td>0.703</td>\n",
              "      <td>3.116</td>\n",
              "      <td>5.651837</td>\n",
              "      <td>2.265720</td>\n",
              "    </tr>\n",
              "    <tr>\n",
              "      <th>15</th>\n",
              "      <td>gamma</td>\n",
              "      <td>shape = 2, scale = 2</td>\n",
              "      <td>2.277</td>\n",
              "      <td>0.706</td>\n",
              "      <td>2.307</td>\n",
              "      <td>0.703</td>\n",
              "      <td>2.270</td>\n",
              "      <td>5.622257</td>\n",
              "      <td>2.267362</td>\n",
              "    </tr>\n",
              "    <tr>\n",
              "      <th>16</th>\n",
              "      <td>gamma</td>\n",
              "      <td>shape = 3, scale = 2</td>\n",
              "      <td>2.520</td>\n",
              "      <td>0.697</td>\n",
              "      <td>2.630</td>\n",
              "      <td>0.696</td>\n",
              "      <td>2.541</td>\n",
              "      <td>5.903539</td>\n",
              "      <td>2.538567</td>\n",
              "    </tr>\n",
              "    <tr>\n",
              "      <th>17</th>\n",
              "      <td>gamma</td>\n",
              "      <td>shape = 3, scale = 3</td>\n",
              "      <td>2.885</td>\n",
              "      <td>0.669</td>\n",
              "      <td>2.973</td>\n",
              "      <td>0.669</td>\n",
              "      <td>2.946</td>\n",
              "      <td>6.311882</td>\n",
              "      <td>2.942644</td>\n",
              "    </tr>\n",
              "  </tbody>\n",
              "</table>\n",
              "</div>\n",
              "      <button class=\"colab-df-convert\" onclick=\"convertToInteractive('df-0507f913-f35e-44a8-aa11-1aa472e78991')\"\n",
              "              title=\"Convert this dataframe to an interactive table.\"\n",
              "              style=\"display:none;\">\n",
              "        \n",
              "  <svg xmlns=\"http://www.w3.org/2000/svg\" height=\"24px\"viewBox=\"0 0 24 24\"\n",
              "       width=\"24px\">\n",
              "    <path d=\"M0 0h24v24H0V0z\" fill=\"none\"/>\n",
              "    <path d=\"M18.56 5.44l.94 2.06.94-2.06 2.06-.94-2.06-.94-.94-2.06-.94 2.06-2.06.94zm-11 1L8.5 8.5l.94-2.06 2.06-.94-2.06-.94L8.5 2.5l-.94 2.06-2.06.94zm10 10l.94 2.06.94-2.06 2.06-.94-2.06-.94-.94-2.06-.94 2.06-2.06.94z\"/><path d=\"M17.41 7.96l-1.37-1.37c-.4-.4-.92-.59-1.43-.59-.52 0-1.04.2-1.43.59L10.3 9.45l-7.72 7.72c-.78.78-.78 2.05 0 2.83L4 21.41c.39.39.9.59 1.41.59.51 0 1.02-.2 1.41-.59l7.78-7.78 2.81-2.81c.8-.78.8-2.07 0-2.86zM5.41 20L4 18.59l7.72-7.72 1.47 1.35L5.41 20z\"/>\n",
              "  </svg>\n",
              "      </button>\n",
              "      \n",
              "  <style>\n",
              "    .colab-df-container {\n",
              "      display:flex;\n",
              "      flex-wrap:wrap;\n",
              "      gap: 12px;\n",
              "    }\n",
              "\n",
              "    .colab-df-convert {\n",
              "      background-color: #E8F0FE;\n",
              "      border: none;\n",
              "      border-radius: 50%;\n",
              "      cursor: pointer;\n",
              "      display: none;\n",
              "      fill: #1967D2;\n",
              "      height: 32px;\n",
              "      padding: 0 0 0 0;\n",
              "      width: 32px;\n",
              "    }\n",
              "\n",
              "    .colab-df-convert:hover {\n",
              "      background-color: #E2EBFA;\n",
              "      box-shadow: 0px 1px 2px rgba(60, 64, 67, 0.3), 0px 1px 3px 1px rgba(60, 64, 67, 0.15);\n",
              "      fill: #174EA6;\n",
              "    }\n",
              "\n",
              "    [theme=dark] .colab-df-convert {\n",
              "      background-color: #3B4455;\n",
              "      fill: #D2E3FC;\n",
              "    }\n",
              "\n",
              "    [theme=dark] .colab-df-convert:hover {\n",
              "      background-color: #434B5C;\n",
              "      box-shadow: 0px 1px 3px 1px rgba(0, 0, 0, 0.15);\n",
              "      filter: drop-shadow(0px 1px 2px rgba(0, 0, 0, 0.3));\n",
              "      fill: #FFFFFF;\n",
              "    }\n",
              "  </style>\n",
              "\n",
              "      <script>\n",
              "        const buttonEl =\n",
              "          document.querySelector('#df-0507f913-f35e-44a8-aa11-1aa472e78991 button.colab-df-convert');\n",
              "        buttonEl.style.display =\n",
              "          google.colab.kernel.accessAllowed ? 'block' : 'none';\n",
              "\n",
              "        async function convertToInteractive(key) {\n",
              "          const element = document.querySelector('#df-0507f913-f35e-44a8-aa11-1aa472e78991');\n",
              "          const dataTable =\n",
              "            await google.colab.kernel.invokeFunction('convertToInteractive',\n",
              "                                                     [key], {});\n",
              "          if (!dataTable) return;\n",
              "\n",
              "          const docLinkHtml = 'Like what you see? Visit the ' +\n",
              "            '<a target=\"_blank\" href=https://colab.research.google.com/notebooks/data_table.ipynb>data table notebook</a>'\n",
              "            + ' to learn more about interactive tables.';\n",
              "          element.innerHTML = '';\n",
              "          dataTable['output_type'] = 'display_data';\n",
              "          await google.colab.output.renderOutput(dataTable, element);\n",
              "          const docLink = document.createElement('div');\n",
              "          docLink.innerHTML = docLinkHtml;\n",
              "          element.appendChild(docLink);\n",
              "        }\n",
              "      </script>\n",
              "    </div>\n",
              "  </div>\n",
              "  "
            ],
            "text/plain": [
              "   Distribution  ... Spacings estimate (30000)\n",
              "0        normal  ...                  1.415909\n",
              "1        normal  ...                  3.022683\n",
              "2        normal  ...                  4.816107\n",
              "3       uniform  ...                 -0.000983\n",
              "4       uniform  ...                  2.301599\n",
              "5       uniform  ...                  2.709855\n",
              "6   exponential  ...                  1.002654\n",
              "7   exponential  ...                  0.297170\n",
              "8   exponential  ...                 -1.306775\n",
              "9       laplace  ...                  1.685812\n",
              "10      laplace  ...                  2.381358\n",
              "11      laplace  ...                  3.076113\n",
              "12    chisquare  ...                  1.679616\n",
              "13    chisquare  ...                  2.047036\n",
              "14    chisquare  ...                  2.265720\n",
              "15        gamma  ...                  2.267362\n",
              "16        gamma  ...                  2.538567\n",
              "17        gamma  ...                  2.942644\n",
              "\n",
              "[18 rows x 9 columns]"
            ]
          },
          "metadata": {},
          "execution_count": 86
        }
      ]
    },
    {
      "cell_type": "markdown",
      "source": [
        "We can see, that estimate based on spacings gives us best approximation with big sample size. But if compare with n = 1000, kernel and histogram estimates shows very good result."
      ],
      "metadata": {
        "id": "mFw1-feSodts"
      }
    },
    {
      "cell_type": "markdown",
      "metadata": {
        "id": "nSh_P7a_DEpE"
      },
      "source": [
        "# Experimential approach to estimate entropy using k-ordered statistic."
      ]
    },
    {
      "cell_type": "markdown",
      "metadata": {
        "id": "cNVeK_gbIOBL"
      },
      "source": [
        "[A new class of random vector entropy estimators and its applications in testing statistical hypotheses(2003)](https://www.tandfonline.com/doi/pdf/10.1080/104852504200026815?needAccess=true)"
      ]
    },
    {
      "cell_type": "markdown",
      "source": [
        "$H_{k}^n = \\frac{p}{n}\\sum_{i=1}^{n} ln(R_{i,k,n}) + ln(\\frac{\\pi^{p/2}}{Г(p/2 + 1)} - \\psi(k) + ln(n)$"
      ],
      "metadata": {
        "id": "bxKZ0ix0PQZA"
      }
    },
    {
      "cell_type": "markdown",
      "metadata": {
        "id": "44EVHYiEDHme"
      },
      "source": [
        "$H_{k, N}=p \\ln \\bar{\\rho}_{k}+\\ln (N-1)-\\psi(k)+\\ln c(p)$"
      ]
    },
    {
      "cell_type": "markdown",
      "metadata": {
        "id": "Djt9MnMWACZi"
      },
      "source": [
        "$\\rho(x,y) = \\sqrt{\\sum_{i}^m (x_i - y_i})$ "
      ]
    },
    {
      "cell_type": "markdown",
      "metadata": {
        "id": "cVeIAa-wDIOw"
      },
      "source": [
        "$\\psi(z)=\\frac{\\Gamma^{\\prime}(z)}{\\Gamma(z)} \\approx ln(x) - \\frac{1}{2x}$. Digamma function"
      ]
    },
    {
      "cell_type": "markdown",
      "metadata": {
        "id": "yVcbBN7bDakP"
      },
      "source": [
        "$c(p)={2 \\pi^{p / 2} \\over p \\Gamma(p / 2)}$"
      ]
    },
    {
      "cell_type": "markdown",
      "metadata": {
        "id": "qB7KkZR0D1Lw"
      },
      "source": [
        "$\\bar{\\rho}_{k}=$ Geometric mean of $\\rho(1, k), \\ldots, \\rho(N, k)$"
      ]
    },
    {
      "cell_type": "markdown",
      "metadata": {
        "id": "Krd6ZcDnED1d"
      },
      "source": [
        "$\\rho_{i, k}=\\min \\left\\{\\rho\\left(\\mathbf{X}_{i}, \\mathbf{X}_{j}\\right), j \\in\\{1,2, \\ldots, N\\} \\backslash\\left\\{i, j_{1}, \\ldots, j_{k-1}\\right\\}\\right\\}=\\rho\\left(\\mathbf{X}_{i}, \\mathbf{X}_{j_{k}}\\right)$"
      ]
    },
    {
      "cell_type": "code",
      "execution_count": null,
      "metadata": {
        "id": "9i03JhCKBIwQ"
      },
      "outputs": [],
      "source": [
        "n = 1000\n",
        "X_normal = np.random.normal(0, 1, n)\n",
        "X_uniform = np.random.uniform(0, 1, n)\n",
        "X_exponential = np.random.exponential(1, n)"
      ]
    },
    {
      "cell_type": "code",
      "execution_count": null,
      "metadata": {
        "id": "_boSi5CAZLr6"
      },
      "outputs": [],
      "source": [
        "from tqdm import tqdm \n",
        "\n",
        "plt.rcParams['figure.figsize'] = 12, 12\n",
        "plt.rcParams.update({'font.size': 27})\n",
        "plt.rc('lines', linewidth=4)\n",
        "    \n",
        "    \n",
        "def distance(x1, x2):\n",
        "    return np.abs(x1 - x2)\n",
        "\n",
        "def calc_mean_distance(X, k):\n",
        "    n = X.shape[0]\n",
        "    idx, idy = np.meshgrid(X, X)\n",
        "    distance_matrix =  np.abs(idx - idy)\n",
        "    \n",
        "    k_ordered_stat = np.sort(distance_matrix, axis=1)[:, k]\n",
        "    log_average = np.sum(np.log(k_ordered_stat)) / n\n",
        "\n",
        "    return np.exp(log_average)\n"
      ]
    },
    {
      "cell_type": "code",
      "execution_count": null,
      "metadata": {
        "id": "qmg-cworcVw6",
        "colab": {
          "base_uri": "https://localhost:8080/"
        },
        "outputId": "5e7d1438-a6c0-4e0e-d112-d6c3d1a9665a"
      },
      "outputs": [
        {
          "output_type": "stream",
          "name": "stdout",
          "text": [
            "H_k,N estimation for N(0, 1) is 4.4495\n",
            "H_k,N estimation for U(0, 1) is 4.4136\n",
            "H_k,N estimation for Exp(0, 1) is 4.4350\n"
          ]
        }
      ],
      "source": [
        "from scipy.special import digamma, gamma\n",
        "p = 1.0\n",
        "k = 25\n",
        "\n",
        "def get_statistic(X, k, p):\n",
        "    p_dist = p * calc_mean_distance(X, k)\n",
        "    log_N_1 = np.log(X.shape[0] - 1)\n",
        "    digamma_k = digamma(k)\n",
        "    log_c = np.log(np.pi ** (p / 2.0) / (gamma(1 + p / 2.0)))\n",
        "\n",
        "    statistic = p_dist + log_N_1 - digamma_k + log_c\n",
        "    return statistic\n",
        "\n",
        "print(f\"H_k,N estimation for N(0, 1) is {get_statistic(X_normal, k, p):.4f}\")\n",
        "print(f\"H_k,N estimation for U(0, 1) is {get_statistic(X_uniform, k, p):.4f}\")\n",
        "print(f\"H_k,N estimation for Exp(0, 1) is {get_statistic(X_exponential, k, p):.4f}\")"
      ]
    },
    {
      "cell_type": "code",
      "execution_count": null,
      "metadata": {
        "id": "8bTwXwUbD7j5",
        "colab": {
          "base_uri": "https://localhost:8080/",
          "height": 818
        },
        "outputId": "6fa18270-99dc-4570-b43f-da157eee83d7"
      },
      "outputs": [
        {
          "output_type": "stream",
          "name": "stderr",
          "text": [
            "100%|██████████| 998/998 [00:59<00:00, 16.75it/s]\n"
          ]
        },
        {
          "output_type": "display_data",
          "data": {
            "image/png": "[encoded data removed]",
            "text/plain": [
              "<Figure size 864x864 with 1 Axes>"
            ]
          },
          "metadata": {
            "needs_background": "light"
          }
        }
      ],
      "source": [
        "stats = []\n",
        "for k in tqdm(range(1, n - 1)):\n",
        "    stats.append(get_statistic(X_normal, k, p))\n",
        "\n",
        "plt.plot(stats)\n",
        "\n",
        "plt.plot(np.argmin(stats), np.min(stats), 'ro', markersize='5')\n",
        "plt.title(r\"Estimate value versus parameter $k$ for N(0, 1)\")\n",
        "plt.xlabel(r\"$k$ value\")\n",
        "plt.ylabel(r\"$H_{kN}$\")\n",
        "plt.savefig(\"lupa.png\")\n",
        "plt.grid()\n",
        "plt.show()"
      ]
    },
    {
      "cell_type": "code",
      "source": [
        "stats = []\n",
        "for k in tqdm(range(1, n - 1)):\n",
        "    stats.append(get_statistic(X_uniform, k, p))\n",
        "\n",
        "plt.plot(stats)\n",
        "\n",
        "plt.plot(np.argmin(stats), np.min(stats), 'ro', markersize='5')\n",
        "plt.title(r\"Estimate value versus parameter $k$ for U(0, 1)\")\n",
        "plt.xlabel(r\"$k$ value\")\n",
        "plt.ylabel(r\"$H_{kN}$\")\n",
        "plt.grid()\n",
        "plt.show()"
      ],
      "metadata": {
        "colab": {
          "base_uri": "https://localhost:8080/",
          "height": 316
        },
        "id": "hYo3u0rgGUGi",
        "outputId": "03e696db-ffb1-45c8-9a0e-52451cd7b76d"
      },
      "execution_count": null,
      "outputs": [
        {
          "output_type": "stream",
          "name": "stderr",
          "text": [
            "100%|██████████| 998/998 [00:59<00:00, 16.69it/s]\n"
          ]
        },
        {
          "output_type": "display_data",
          "data": {
            "image/png": "[encoded data removed]",
            "text/plain": [
              "<Figure size 432x288 with 1 Axes>"
            ]
          },
          "metadata": {
            "needs_background": "light"
          }
        }
      ]
    },
    {
      "cell_type": "code",
      "source": [
        "stats = []\n",
        "for k in tqdm(range(1, n - 1)):\n",
        "    stats.append(get_statistic(X_exponential, k, p))\n",
        "\n",
        "plt.plot(stats)\n",
        "\n",
        "plt.plot(np.argmin(stats), np.min(stats), 'ro', markersize='5')\n",
        "plt.title(r\"Estimate value versus parameter $k$ for Exp(1)\")\n",
        "plt.xlabel(r\"$k$ value\")\n",
        "plt.ylabel(r\"$H_{kN}$\")\n",
        "plt.grid()\n",
        "plt.show()"
      ],
      "metadata": {
        "colab": {
          "base_uri": "https://localhost:8080/",
          "height": 316
        },
        "id": "-QPtg-DYGWtX",
        "outputId": "d5fb116f-f256-4d5c-d7d7-1e647ebbc3ff"
      },
      "execution_count": null,
      "outputs": [
        {
          "output_type": "stream",
          "name": "stderr",
          "text": [
            "100%|██████████| 998/998 [00:59<00:00, 16.71it/s]\n"
          ]
        },
        {
          "output_type": "display_data",
          "data": {
            "image/png": "[encoded data removed]",
            "text/plain": [
              "<Figure size 432x288 with 1 Axes>"
            ]
          },
          "metadata": {
            "needs_background": "light"
          }
        }
      ]
    },
    {
      "cell_type": "markdown",
      "source": [
        "There is a problem with this estimate. It should be unbiased under some conditions, but we can see that it isn't. This conditions can easily be checked theoretically, but on practice we have too wide range of parameters, so we just can take a look on the graphs. Sadly, but we've decided not to compare this result with other estimates."
      ],
      "metadata": {
        "id": "ORhByrSlf77D"
      }
    }
  ],
  "metadata": {
    "colab": {
      "collapsed_sections": [],
      "name": "Report Statistic Marin, Zakharov,Chernyy.ipynb",
      "provenance": []
    },
    "kernelspec": {
      "display_name": "Python 3",
      "name": "python3"
    },
    "language_info": {
      "name": "python"
    }
  },
  "nbformat": 4,
  "nbformat_minor": 0
}