{
 "cells": [
  {
   "cell_type": "markdown",
   "id": "93e49081",
   "metadata": {},
   "source": [
    "## Q1"
   ]
  },
  {
   "cell_type": "markdown",
   "id": "fa4d7490",
   "metadata": {},
   "source": [
    "Convergence in distribution:$ \\quad X_{1} \\ldots X_{n} \\stackrel{d}{\\rightarrow} c$\n",
    "\n",
    "$? \\Rightarrow$ Convergence in probability: $\\quad X_{1} \\ldots X_{n} \\stackrel{\\mathbb{P}}{\\rightarrow} c$ ?\n",
    "\n",
    "By prob. conv. definition:\n",
    "\n",
    "$\\lim_{n \\rightarrow+\\infty}P\\left[\\left|x_{n}-c\\right|\\geq\\varepsilon\\right]=P\\left[x_{n}>\\varepsilon+c\\right]+P\\left[x_{n}<c-\\varepsilon\\right]$\n",
    "$=1-F_{x_{n}}(c+\\varepsilon)+F_{x_{n}}(c-\\varepsilon) \\rightarrow 1-1+0=0$"
   ]
  },
  {
   "cell_type": "markdown",
   "id": "0dcb5bb2",
   "metadata": {},
   "source": [
    "## Q2"
   ]
  },
  {
   "cell_type": "markdown",
   "id": "1fc4607e",
   "metadata": {},
   "source": [
    "$X_{1} \\ldots X_{n}:$\n",
    "\n",
    "$P\\left[X_{n}=\\frac{1}{n}\\right]=1-\\frac{1}{n};$\n",
    "\n",
    "$P\\left[X_{n}=n\\right]=\\frac{1}{n}$\n",
    "\n",
    "Consider following definition:\n",
    "\n",
    "$\\lim_{n \\rightarrow+\\infty}P\\left[\\left|x_{n}-0\\right|\\geq\\varepsilon\\right] = P\\left[x_{n}>\\varepsilon\\right] + P\\left[x_{n}<-\\varepsilon\\right] = \\lim P\\left[x_{n}>\\varepsilon\\right] = \\lim P\\left[x_{n}=n\\right] = \\lim_{n \\rightarrow+\\infty} \\frac{1}{n} = 0$"
   ]
  },
  {
   "cell_type": "markdown",
   "id": "d8d4bf4e",
   "metadata": {},
   "source": [
    "## Q3"
   ]
  },
  {
   "cell_type": "markdown",
   "id": "d6a279d5",
   "metadata": {},
   "source": [
    "We know, that MLE is consistent. Let's apply it to:\n",
    "\n",
    "$\\boldsymbol{X}=\\left(X_{1}, \\ldots, X_{n}\\right) \\sim \\mathcal{N}\\left(\\mu, \\sigma^{2}\\right)$ in order to find estimate on $\\sigma^2$\n",
    "\n",
    "$$...$$\n",
    "\n",
    "$\\Rightarrow \\hat{\\sigma}^{2}(\\boldsymbol{X})=\\frac{1}{n} \\sum_{i=1}^{n}\\left(X_{i}-\\frac{1}{n} \\sum_{i=1}^{n} X_{i}\\right)^{2}=S^{2}$\n",
    "\n",
    "It could be proved, that it is biased:\n",
    "\n",
    "$\\mathbb{E} \\hat{\\sigma^2}=\\frac{n}{n+1} \\sigma^2$"
   ]
  },
  {
   "cell_type": "markdown",
   "id": "2efeb2ba",
   "metadata": {},
   "source": [
    "## Q4"
   ]
  },
  {
   "cell_type": "markdown",
   "id": "532baa2b",
   "metadata": {},
   "source": [
    "According to CLT:\n",
    "\n",
    "$\\frac{\\sqrt{n}\\cdot(mean - 0)}{\\sqrt{\\sigma}} \\stackrel{d}{\\rightarrow} \\mathcal{N}(0,1)$\n",
    "\n",
    "$\\frac{\\sqrt{n}\\cdot(median - 0)}{\\sqrt{\\sigma}} \\stackrel{d}{\\rightarrow} \\mathcal{N}(0,\\frac{1}{4f^2(0)}) = \\mathcal{N}(0,{\\frac{\\pi}{2}})$\n",
    "\n",
    "Now, if $\\sigma^2 = 2$:\n",
    "\n",
    "$\\hat{\\sigma}_{mean} = 1$\n",
    "\n",
    "$\\hat{\\sigma}_{median} = \\frac{\\pi}{2}$"
   ]
  },
  {
   "cell_type": "markdown",
   "id": "b6f26204",
   "metadata": {},
   "source": [
    "## Q5"
   ]
  },
  {
   "cell_type": "markdown",
   "id": "23c46162",
   "metadata": {},
   "source": [
    "$\\frac{n \\hat{\\theta}-n \\theta}{\\sqrt{n \\sigma^{2}}} \\stackrel{d}{\\longrightarrow} \\mathcal{N}( 0 , 1 )$\n",
    "\n",
    "We understand precision in the way, that it is reciprocal with sample variance.\n",
    "\n",
    "In order to increase our precision by 5 times, let's add $24n$ extra-elements\n",
    "\n",
    "Thus, we obrain $std = \\sqrt{25n\\sigma^2} = 5\\sqrt{n\\sigma^2}$, where $\\sqrt{n\\sigma^2}$ our former precision. "
   ]
  },
  {
   "cell_type": "markdown",
   "id": "aee3b230",
   "metadata": {},
   "source": [
    "## Q6"
   ]
  },
  {
   "cell_type": "code",
   "execution_count": 19,
   "id": "638cad1c",
   "metadata": {},
   "outputs": [
    {
     "name": "stdout",
     "output_type": "stream",
     "text": [
      "z=1.960\n"
     ]
    }
   ],
   "source": [
    "from scipy.stats import norm\n",
    "\n",
    "print(f'z={norm.ppf(1 - .05 / 2):.3f}', sep='')"
   ]
  },
  {
   "cell_type": "markdown",
   "id": "9939be04",
   "metadata": {},
   "source": [
    "Under the gives conditions all we need is to compare two values for $n = 10$\n",
    "\n",
    "$\\epsilon_{1}= \\sqrt{\\frac{\\log (2 / \\alpha)}{2 n}} = \\epsilon_{n}= \\sqrt{\\frac{\\log (2 / \\alpha)}{20}}$\n",
    "\n",
    "vs \n",
    "\n",
    "$\\epsilon_{2}=z_{\\alpha / 2} \\sqrt{\\frac{\\widehat{p}_{n}\\left(1-\\widehat{p}_{n}\\right)}{n}} = z_{\\alpha / 2} \\sqrt{\\frac{\\widehat{p}_{n}\\left(1-\\widehat{p}_{n}\\right)}{10}}$\n",
    "\n",
    "let $\\alpha$ be 0.05\n",
    "\n",
    "$\\epsilon_{1} \\leq \\sqrt{\\frac{1.8}{10}}$ vs $\\epsilon_{2} \\leq \\frac{z_{\\alpha / 2}}{2} \\sqrt{\\frac{1}{10}} \\leq \\frac{1}{10} $\n",
    "\n",
    "$\\Rightarrow \\epsilon_{1} > \\epsilon_{2}$\n",
    "\n",
    "More narrow interval considered more precise, and derivation above doesnt change this inequality any $\\alpha$ "
   ]
  },
  {
   "cell_type": "markdown",
   "id": "07fda456",
   "metadata": {},
   "source": [
    "## Q10"
   ]
  },
  {
   "cell_type": "markdown",
   "id": "baa3de43",
   "metadata": {},
   "source": [
    "Mean is undefined for Cauchy destribution because the corresponding integral diverges. So, there is only one possible answer"
   ]
  },
  {
   "cell_type": "markdown",
   "id": "2c026a62",
   "metadata": {},
   "source": [
    "b)\n",
    "\n",
    "Lecture 3, slide 29:\n",
    "    \n",
    "$\\textbf{Theorem}$:\n",
    "\n",
    "\n",
    "Let $\\tau=g(\\theta)$ be a function of the parameter $\\theta$ and let $\\widehat{\\theta}_{n}$ be its $M L E$ estimate.\n",
    "\n",
    "Then $\\widehat{\\tau}_{n}=g\\left(\\widehat{\\theta}_{n}\\right)$ is MLE for $\\tau=g(\\theta)$.\n",
    "\n",
    "To prove that we required the existence of inverse function $\\tau$, inducing bijection."
   ]
  },
  {
   "cell_type": "markdown",
   "id": "ca05bbb7",
   "metadata": {},
   "source": [
    "a)\n",
    "\n",
    "Lecture 3, slide 43:\n",
    "\n",
    "$\\textbf{Theorem}:$\n",
    "If $\\tau=g(\\theta)$, where $g$ is differentiable and $g^{\\prime}(\\theta) \\neq 0$, then\n",
    "\n",
    "$$\n",
    "\\frac{\\widehat{\\tau}_{n}-\\tau_{*}}{\\widehat{s e}\\left(\\widehat{\\tau}_{n}\\right)} \\rightsquigarrow \\mathcal{N}(0,1)\n",
    "$$\n",
    "\n",
    "Thus, differentiality is not enough."
   ]
  },
  {
   "cell_type": "code",
   "execution_count": null,
   "id": "0da5d150",
   "metadata": {},
   "outputs": [],
   "source": []
  }
 ],
 "metadata": {
  "kernelspec": {
   "display_name": "firstEnv",
   "language": "python",
   "name": "firstenv"
  },
  "language_info": {
   "codemirror_mode": {
    "name": "ipython",
    "version": 3
   },
   "file_extension": ".py",
   "mimetype": "text/x-python",
   "name": "python",
   "nbconvert_exporter": "python",
   "pygments_lexer": "ipython3",
   "version": "3.8.8"
  }
 },
 "nbformat": 4,
 "nbformat_minor": 5
}
