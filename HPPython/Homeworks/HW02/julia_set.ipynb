{
 "cells": [
  {
   "cell_type": "code",
   "execution_count": 15,
   "id": "3f508df5",
   "metadata": {},
   "outputs": [
    {
     "name": "stdout",
     "output_type": "stream",
     "text": [
      "Populating the interactive namespace from numpy and matplotlib\n"
     ]
    }
   ],
   "source": [
    "%pylab inline"
   ]
  },
  {
   "cell_type": "markdown",
   "id": "e576c96f",
   "metadata": {},
   "source": [
    "For a fixed complex number c, the Julia set Jc is the set of complex numbers for which the iterative process\n",
    "\n",
    "z -> z^2 + c\n",
    "\n",
    "does not diverge to infinity.\n",
    "\n",
    " \n",
    "\n",
    "Step-by-step guide:\n",
    "- fix a value of C (can be 0)\n",
    "- implement the map, plot the\n",
    "evolution of z (Re(z), Im(z))\n",
    "- play around with values of z0, see the\n",
    "change of evolution\n",
    "- for a given z0 if the sequence converges use black color, if it\n",
    "exponentially diverges use white color, if it starts jumping between “n”\n",
    "values use different colors\n",
    "- plot the Julia set"
   ]
  },
  {
   "cell_type": "markdown",
   "id": "ed533562",
   "metadata": {},
   "source": [
    "1. Black and white colors of pixels are correct (1 point)\n",
    "2. Different colors for bifurcation points (you can also create your own coloring logic or look for proposals on the internet) (1 point)"
   ]
  },
  {
   "cell_type": "code",
   "execution_count": 2,
   "id": "26173764",
   "metadata": {},
   "outputs": [],
   "source": [
    "NUM_ITS = 100\n",
    "tmp = -.1 - .65j\n",
    "CONST = 0\n",
    "WIDTH = 2\n",
    "RANGE_SIZE = 1000"
   ]
  },
  {
   "cell_type": "code",
   "execution_count": 3,
   "id": "89655bf1",
   "metadata": {},
   "outputs": [
    {
     "ename": "KeyboardInterrupt",
     "evalue": "",
     "output_type": "error",
     "traceback": [
      "\u001b[0;31m---------------------------------------------------------------------------\u001b[0m",
      "\u001b[0;31mKeyboardInterrupt\u001b[0m                         Traceback (most recent call last)",
      "\u001b[0;32m<ipython-input-3-e6428264e379>\u001b[0m in \u001b[0;36m<module>\u001b[0;34m\u001b[0m\n\u001b[1;32m      6\u001b[0m         \u001b[0mz\u001b[0m \u001b[0;34m=\u001b[0m \u001b[0mcomplex\u001b[0m\u001b[0;34m(\u001b[0m\u001b[0mi\u001b[0m \u001b[0;34m/\u001b[0m \u001b[0mRANGE_SIZE\u001b[0m \u001b[0;34m*\u001b[0m \u001b[0mWIDTH\u001b[0m\u001b[0;34m,\u001b[0m \u001b[0mj\u001b[0m \u001b[0;34m/\u001b[0m \u001b[0mRANGE_SIZE\u001b[0m \u001b[0;34m*\u001b[0m \u001b[0mWIDTH\u001b[0m\u001b[0;34m)\u001b[0m \u001b[0;34m+\u001b[0m \u001b[0mCONST\u001b[0m\u001b[0;34m\u001b[0m\u001b[0;34m\u001b[0m\u001b[0m\n\u001b[1;32m      7\u001b[0m         \u001b[0mcnt\u001b[0m \u001b[0;34m=\u001b[0m \u001b[0;36m0\u001b[0m\u001b[0;34m\u001b[0m\u001b[0;34m\u001b[0m\u001b[0m\n\u001b[0;32m----> 8\u001b[0;31m         \u001b[0;32mwhile\u001b[0m \u001b[0mabs\u001b[0m\u001b[0;34m(\u001b[0m\u001b[0mz\u001b[0m\u001b[0;34m)\u001b[0m \u001b[0;34m<\u001b[0m \u001b[0;36m2\u001b[0m \u001b[0;32mand\u001b[0m \u001b[0mcnt\u001b[0m \u001b[0;34m<\u001b[0m \u001b[0mNUM_ITS\u001b[0m\u001b[0;34m:\u001b[0m\u001b[0;34m\u001b[0m\u001b[0;34m\u001b[0m\u001b[0m\n\u001b[0m\u001b[1;32m      9\u001b[0m             \u001b[0mz\u001b[0m \u001b[0;34m=\u001b[0m \u001b[0mz\u001b[0m\u001b[0;34m**\u001b[0m\u001b[0;36m2\u001b[0m \u001b[0;34m+\u001b[0m \u001b[0mtmp\u001b[0m\u001b[0;34m\u001b[0m\u001b[0;34m\u001b[0m\u001b[0m\n\u001b[1;32m     10\u001b[0m             \u001b[0mcnt\u001b[0m \u001b[0;34m+=\u001b[0m \u001b[0;36m1\u001b[0m\u001b[0;34m\u001b[0m\u001b[0;34m\u001b[0m\u001b[0m\n",
      "\u001b[0;31mKeyboardInterrupt\u001b[0m: "
     ]
    }
   ],
   "source": [
    "data = zeros((RANGE_SIZE, RANGE_SIZE))\n",
    "\n",
    "for i in range(RANGE_SIZE):\n",
    "    for j in range(RANGE_SIZE):\n",
    "        \n",
    "        z = complex(i / RANGE_SIZE * WIDTH, j / RANGE_SIZE * WIDTH) + CONST\n",
    "        cnt = 0\n",
    "        while abs(z) < 2 and cnt < NUM_ITS:\n",
    "            z = z**2 + tmp\n",
    "            cnt += 1\n",
    "            \n",
    "        if abs(z) >= 2.:\n",
    "            data[i, j] = 1.\n",
    "        \n",
    "fig, ax = subplots(figsize=(14, 11))\n",
    "\n",
    "ax.imshow(data, interpolation='nearest', cmap=cm.gnuplot2)\n",
    "\n",
    "axis('off')\n",
    "show()"
   ]
  },
  {
   "cell_type": "markdown",
   "id": "5d619bf3",
   "metadata": {},
   "source": [
    "3. Generate figure of Julia set (c = 1-r) where r is the golden ratio. Label\n",
    "the axes (Re(z0), Im(z0)), fontsize should be 20, figsize = (14,11) (2 points)"
   ]
  },
  {
   "cell_type": "code",
   "execution_count": null,
   "id": "fc3cd9e7",
   "metadata": {},
   "outputs": [],
   "source": [
    "GOLDEN_RATIO = (1 + sqrt(5)) / 2"
   ]
  },
  {
   "cell_type": "code",
   "execution_count": null,
   "id": "7e90521d",
   "metadata": {},
   "outputs": [],
   "source": [
    "CONST = 1 - GOLDEN_RATIO"
   ]
  },
  {
   "cell_type": "code",
   "execution_count": null,
   "id": "152d2957",
   "metadata": {},
   "outputs": [],
   "source": [
    "data = zeros((RANGE_SIZE, RANGE_SIZE))\n",
    "\n",
    "for i in range(RANGE_SIZE):\n",
    "    for j in range(RANGE_SIZE):\n",
    "        \n",
    "        z = complex(i / RANGE_SIZE * WIDTH, j / RANGE_SIZE * WIDTH) + CONST\n",
    "        cnt = 0\n",
    "        while abs(z) < 2 and cnt < NUM_ITS:\n",
    "            z = z**2 + CONST\n",
    "            cnt += 1\n",
    "            \n",
    "        data[i, j] = cnt / NUM_ITS\n",
    "        \n",
    "fig, ax = subplots(figsize=(14, 11))\n",
    "\n",
    "ax.set_xlabel('Re(z0)', fontsize=20)\n",
    "ax.set_ylabel('Im(z0)', fontsize=20)\n",
    "\n",
    "ax.imshow(data, interpolation='nearest', cmap=cm.gnuplot2)\n",
    "show()"
   ]
  },
  {
   "cell_type": "markdown",
   "id": "0b3a5014",
   "metadata": {},
   "source": [
    "4. Plot figures for c=exp(ia), a = range(0,2pi) & write down axes like in\n",
    "subtask 3, create animation of these figures slowly changing the a (3 points)"
   ]
  },
  {
   "cell_type": "code",
   "execution_count": null,
   "id": "46064542",
   "metadata": {},
   "outputs": [],
   "source": [
    "data = zeros((RANGE_SIZE, RANGE_SIZE))\n",
    "\n",
    "fig, ax = subplots(figsize=(14, 11))\n",
    "\n",
    "ax.set_xlabel('Re(z0)', fontsize=20)\n",
    "ax.set_ylabel('Im(z0)', fontsize=20)\n",
    "\n",
    "filenames = []\n",
    "a_grid = linspace(0, 2 * pi, 150)\n",
    "\n",
    "for index, a in enumerate(a_grid):\n",
    "    CONST = exp(1.j * a)\n",
    "    \n",
    "    for i in range(RANGE_SIZE):\n",
    "        for j in range(RANGE_SIZE):\n",
    "\n",
    "            z = complex(i / RANGE_SIZE * WIDTH, j / RANGE_SIZE * WIDTH) + CONST\n",
    "            cnt = 0\n",
    "            while abs(z) < 2 and cnt < NUM_ITS:\n",
    "                z = z**2 + CONST\n",
    "                cnt += 1\n",
    "\n",
    "            data[i, j] = cnt / NUM_ITS\n",
    "\n",
    "    filenames.append(f'j_{index}.png')\n",
    "    ax.imshow(data, cmap=cm.gnuplot2, interpolation='nearest')\n",
    "    savefig(f'julia_pics/{filenames[-1]}', dpi=200)\n",
    "pass"
   ]
  },
  {
   "cell_type": "code",
   "execution_count": 16,
   "id": "cb452dd0",
   "metadata": {},
   "outputs": [],
   "source": [
    "import imageio"
   ]
  },
  {
   "cell_type": "code",
   "execution_count": null,
   "id": "015d56e1",
   "metadata": {},
   "outputs": [],
   "source": [
    "images = []\n",
    "for filename in filenames:\n",
    "    images.append(imageio.imread(f'julia_pics/{filename}'))\n",
    "imageio.mimsave('julia_set.gif', images)"
   ]
  },
  {
   "cell_type": "code",
   "execution_count": 10,
   "id": "ca70e5e4",
   "metadata": {},
   "outputs": [],
   "source": [
    "from IPython.display import Image, HTML\n",
    "rcParams['animation.embed_limit'] = 200"
   ]
  },
  {
   "cell_type": "code",
   "execution_count": 8,
   "id": "8db97e62",
   "metadata": {},
   "outputs": [
    {
     "ename": "NameError",
     "evalue": "name 'Image' is not defined",
     "output_type": "error",
     "traceback": [
      "\u001b[0;31m---------------------------------------------------------------------------\u001b[0m",
      "\u001b[0;31mNameError\u001b[0m                                 Traceback (most recent call last)",
      "\u001b[0;32m<ipython-input-8-1e9a420ac757>\u001b[0m in \u001b[0;36m<module>\u001b[0;34m\u001b[0m\n\u001b[0;32m----> 1\u001b[0;31m \u001b[0mImage\u001b[0m\u001b[0;34m(\u001b[0m\u001b[0murl\u001b[0m\u001b[0;34m=\u001b[0m\u001b[0;34m'julia_set.gif'\u001b[0m\u001b[0;34m)\u001b[0m\u001b[0;34m\u001b[0m\u001b[0;34m\u001b[0m\u001b[0m\n\u001b[0m",
      "\u001b[0;31mNameError\u001b[0m: name 'Image' is not defined"
     ]
    }
   ],
   "source": [
    "Image(url='julia_set.gif')"
   ]
  },
  {
   "cell_type": "code",
   "execution_count": null,
   "id": "80008925",
   "metadata": {},
   "outputs": [],
   "source": []
  }
 ],
 "metadata": {
  "kernelspec": {
   "display_name": "firstEnv",
   "language": "python",
   "name": "firstenv"
  },
  "language_info": {
   "codemirror_mode": {
    "name": "ipython",
    "version": 3
   },
   "file_extension": ".py",
   "mimetype": "text/x-python",
   "name": "python",
   "nbconvert_exporter": "python",
   "pygments_lexer": "ipython3",
   "version": "3.8.8"
  }
 },
 "nbformat": 4,
 "nbformat_minor": 5
}
