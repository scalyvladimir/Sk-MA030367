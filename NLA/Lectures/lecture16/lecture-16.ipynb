{
 "cells": [
  {
   "cell_type": "markdown",
   "metadata": {
    "slideshow": {
     "slide_type": "slide"
    }
   },
   "source": [
    "# Lecture 16: Matrix functions. Introduction to randomized linear algebra"
   ]
  },
  {
   "cell_type": "markdown",
   "metadata": {
    "slideshow": {
     "slide_type": "slide"
    }
   },
   "source": [
    "## Previous lecture\n",
    "\n",
    "- Large scale eigenvalue problem\n",
    "- Krylov subspace based methods\n",
    "- Preconditioned inverse iteration\n",
    "- LOBPCG\n",
    "- Jacobi-Davidson method"
   ]
  },
  {
   "cell_type": "markdown",
   "metadata": {
    "slideshow": {
     "slide_type": "slide"
    }
   },
   "source": [
    "## Today lecture\n",
    "\n",
    "- Matrix function\n",
    "- Matrix exponential and rational Krylov subspaces\n",
    "- Randomized numerical linear algebra"
   ]
  },
  {
   "cell_type": "markdown",
   "metadata": {
    "slideshow": {
     "slide_type": "slide"
    }
   },
   "source": [
    "## Outline of this part\n",
    "\n",
    "- What is a matrix function\n",
    "- Matrix exponential\n",
    "- (Some) applications\n",
    "\n",
    "Book to read: [Functions of matrices by Nick Higham](http://www.google.ru/books?hl=ru&lr=&id=2Wz_zVUEwPkC&oi=fnd&pg=PR3&dq=Higham+matrix+function&ots=pTt6fpLGRX&sig=DgUuX-SpBZGin8CFUo-4MYnOcHE&redir_esc=y#v=onepage&q=Higham%20matrix%20function&f=false)"
   ]
  },
  {
   "cell_type": "markdown",
   "metadata": {
    "slideshow": {
     "slide_type": "slide"
    }
   },
   "source": [
    "## The simplest matrix function: matrix polynomial\n",
    "\n",
    "It is very easy to define a matrix polynomial as  \n",
    "\n",
    "$$ P(A) = \\sum_{k=0}^n c_k A^k. $$\n",
    "\n",
    "**Side-note:** [Hamilton-Cayley theorem](https://en.wikipedia.org/wiki/Cayley%E2%80%93Hamilton_theorem) states that $F(A) = 0$ where $F(\\lambda) = \\det(A - \\lambda I)$, thus all matrix polynomials have degree $\\leq n-1$."
   ]
  },
  {
   "cell_type": "markdown",
   "metadata": {
    "slideshow": {
     "slide_type": "slide"
    }
   },
   "source": [
    "## Matrix polynomials as building blocks\n",
    "We can define a function of the matrix by **Taylor series**:  \n",
    "\n",
    "$$ f(A) = \\sum_{k=0}^{\\infty} c_k A^k. $$\n",
    "\n",
    "The convergence is understood as the convergence in some **matrix norm**.  \n",
    "\n",
    "Example of such series is the **Neumann series**  \n",
    "\n",
    "$$ (I - F)^{-1} = \\sum_{k=0}^{\\infty} F^k, $$\n",
    "\n",
    "which is well defined for $\\rho(F) < 1$."
   ]
  },
  {
   "cell_type": "markdown",
   "metadata": {
    "slideshow": {
     "slide_type": "slide"
    }
   },
   "source": [
    "## Matrix exponential series\n",
    "The most well-known matrix function is **matrix exponential**. In the scalar case,  \n",
    "\n",
    "$$ e^x = 1 + x + \\frac{x^2}{2} + \\frac{x^3}{6} + \\ldots = \\sum_{k=0}^{\\infty} \\frac{x^k}{k!}, $$\n",
    "\n",
    "and it directly translates to the matrix case:  \n",
    "\n",
    "$$ e^A = \\sum_{k=0}^{\\infty} \\frac{A^k}{k!}, $$\n",
    "\n",
    "the series that always converges, because the series\n",
    "\n",
    "$$\\sum_{k=0}^{\\infty} \\frac{\\Vert A \\Vert^k}{k!} = e^{\\Vert A \\Vert}.$$"
   ]
  },
  {
   "cell_type": "markdown",
   "metadata": {
    "slideshow": {
     "slide_type": "slide"
    }
   },
   "source": [
    "## Why matrix exponential is important\n",
    "\n",
    "A **lot of** practical problems are reduced to a system of linear ODEs of the form  \n",
    "\n",
    "$$ \\frac{dy}{dt} = Ay, \\quad y(0) = y_0. $$\n"
   ]
  },
  {
   "cell_type": "markdown",
   "metadata": {
    "slideshow": {
     "slide_type": "slide"
    }
   },
   "source": [
    "## ODE and matrix exponentials\n",
    "\n",
    "- Given the equation \n",
    "\n",
    "$$\\frac{dy}{dt} = Ay, \\quad y(0) = y_0$$\n",
    "\n",
    "- The formal solution is given by $y(t) = e^{At} y_0$, so if we know  $e^{At}$ (or can compute matrix-by-vector product fast) there is a big gain over the time-stepping schemes.\n",
    "\n",
    "- Indeed,\n",
    "\n",
    "$$\\frac{d}{dt} e^{At} = \\frac{d}{dt} \\sum_{k=0}^{\\infty} \\frac{t^k A^k}{k!} = \\sum_{k=1}^{\\infty} \\frac{t^{k-1} A^{k}}{(k-1)!}  = A e^{At}.$$"
   ]
  },
  {
   "cell_type": "markdown",
   "metadata": {
    "slideshow": {
     "slide_type": "slide"
    }
   },
   "source": [
    "## Sidenote: matrix exponential and time stepping\n",
    "\n",
    "Matrix exponential can be much better than solving using, say, Euler scheme:\n",
    "\n",
    "$$\\frac{dy}{dt} \\approx \\frac{y_{k+1} - y_k}{\\tau} = A y_k, \\quad y_{k+1} = y_k + \\tau A y_k,$$\n",
    "\n",
    "if we know how to compute the product of the matrix exponential by vector using only matrix-by-vector product.\n",
    "\n",
    "For dense matrices matrix exponential also provides **exact** answer to the ODE for any $t$, compared to the **approximation** by time-stepping schemes."
   ]
  },
  {
   "cell_type": "markdown",
   "metadata": {
    "slideshow": {
     "slide_type": "slide"
    }
   },
   "source": [
    "## How to compute matrix functions, including exponential?\n",
    "\n",
    "- There are many ways, even for the matrix exponential!\n",
    "\n",
    "- See [C. Van Loan, C. Moler, Nineteen Dubious Ways to Compute the Exponential of a Matrix, Twenty-Five Years Later](http://www.cs.cornell.edu/cv/researchpdf/19ways+.pdf)\n",
    "\n",
    "- The simplest way is to diagonalize the matrix:  \n",
    "\n",
    "$$ A = S \\Lambda S^{-1}, $$\n",
    "\n",
    "where the columns of $S$ are **eigenvectors** of the matrix $A$,  then  \n",
    "\n",
    "$$ F(A) = S F(\\Lambda) S^{-1}. $$\n",
    "\n",
    "**Problem: diagonalization can be unstable!** (and not every matrix is diagonalizable)\n",
    "\n",
    "Let us look how matrices are diagonalizable:"
   ]
  },
  {
   "cell_type": "code",
   "execution_count": 24,
   "metadata": {
    "slideshow": {
     "slide_type": "slide"
    }
   },
   "outputs": [
    {
     "name": "stdout",
     "output_type": "stream",
     "text": [
      "[[1. 1. 0. 0. 0.]\n",
      " [0. 1. 1. 0. 0.]\n",
      " [0. 0. 1. 1. 0.]\n",
      " [0. 0. 0. 1. 1.]\n",
      " [0. 0. 0. 0. 1.]]\n",
      "[1. 1. 1. 1. 1.]\n",
      "[[ 1.00000000e+00 -1.00000000e+00  1.00000000e+00 -1.00000000e+00\n",
      "   1.00000000e+00]\n",
      " [ 0.00000000e+00  2.22044605e-16 -2.22044605e-16  2.22044605e-16\n",
      "  -2.22044605e-16]\n",
      " [ 0.00000000e+00  0.00000000e+00  4.93038066e-32 -4.93038066e-32\n",
      "   4.93038066e-32]\n",
      " [ 0.00000000e+00  0.00000000e+00  0.00000000e+00  1.09476443e-47\n",
      "  -1.09476443e-47]\n",
      " [ 0.00000000e+00  0.00000000e+00  0.00000000e+00  0.00000000e+00\n",
      "   2.43086534e-63]]\n",
      "2.0\n",
      "[[1. 0. 0. 0. 0.]\n",
      " [0. 1. 0. 0. 0.]\n",
      " [0. 0. 1. 0. 0.]\n",
      " [0. 0. 0. 1. 0.]\n",
      " [0. 0. 0. 0. 1.]]\n"
     ]
    }
   ],
   "source": [
    "import numpy as np\n",
    "eps = 0\n",
    "p = 5\n",
    "a = np.eye(p)\n",
    "for i in range(p-1):\n",
    "    a[i, i+1] = 1\n",
    "    \n",
    "a[p-1, 2] = eps\n",
    "\n",
    "print(a)\n",
    "val, vec = np.linalg.eig(a)\n",
    "print(val)\n",
    "print(vec)\n",
    "print(np.linalg.norm(a - vec @ np.diag(val) @ np.linalg.inv(vec)))\n",
    "print(vec.dot(val[:, np.newaxis] * np.linalg.inv(vec)))\n"
   ]
  },
  {
   "cell_type": "markdown",
   "metadata": {
    "slideshow": {
     "slide_type": "slide"
    }
   },
   "source": [
    "Now we can compute a function for **perturbed Jordan block.**"
   ]
  },
  {
   "cell_type": "code",
   "execution_count": 25,
   "metadata": {
    "slideshow": {
     "slide_type": "slide"
    }
   },
   "outputs": [
    {
     "name": "stdout",
     "output_type": "stream",
     "text": [
      "2.0\n",
      "Difference = 5.959978842992802\n"
     ]
    }
   ],
   "source": [
    "import numpy as np\n",
    "eps = 1e-16\n",
    "p = 5\n",
    "a = np.eye(p)\n",
    "for i in range(p-1):\n",
    "    a[i, i+1] = 1\n",
    "    \n",
    "a[p-1, 0] = eps\n",
    "a = np.array(a)\n",
    "val, vec = np.linalg.eig(a)\n",
    "print(np.linalg.norm(a - vec.dot(np.diag(val)).dot(np.linalg.inv(vec))))\n",
    "\n",
    "fun = lambda x: np.exp(x)\n",
    "\n",
    "#Using diagonalization\n",
    "fun_diag = vec.dot(np.diag(fun(val))).dot(np.linalg.inv(vec))\n",
    "\n",
    "\n",
    "#Using Schur\n",
    "import scipy.linalg\n",
    "fun_m = scipy.linalg.expm(a)\n",
    "print('Difference = {}'.format(np.linalg.norm(fun_m - fun_diag)))"
   ]
  },
  {
   "cell_type": "markdown",
   "metadata": {
    "slideshow": {
     "slide_type": "slide"
    }
   },
   "source": [
    "## How ```funm``` function works\n",
    "\n",
    "- The exponential of a matrix is a special function, so there are special methods for its computation.  \n",
    "\n",
    "- For a general function $F$,  there is a beautiful **Schur-Parlett algorithm**, which is based on the **Schur theorem**"
   ]
  },
  {
   "cell_type": "markdown",
   "metadata": {
    "slideshow": {
     "slide_type": "slide"
    }
   },
   "source": [
    "## Schur-Parlett algorithm\n",
    "\n",
    "- Given a matrix $A$ we want to compute $F(A)$, and we only can evaluate $F$ at **scalar points**.  \n",
    "- First, we reduce $A$ to the **triangular form** as  \n",
    "\n",
    "$$ A = U T U^*. $$\n",
    "\n",
    "- Therefore,  $F(A)=U F(T) U^*$\n",
    "\n",
    "- We only need to compute the function of triangular matrices."
   ]
  },
  {
   "cell_type": "markdown",
   "metadata": {
    "slideshow": {
     "slide_type": "slide"
    }
   },
   "source": [
    "## Computing functions of triangular matrices\n",
    "We know values on the diagonals\n",
    "\n",
    "$$ F_{ii} = F(T_{ii}), $$\n",
    "\n",
    "and also we know that\n",
    "\n",
    "$$ F T = T F $$\n",
    "\n",
    "the matrix function commutes with the matrix itself. The function of a triangular matrix is a triangular matrix as well.\n",
    "Using the known values on the diagonal and the commutativity property, we get the diagonals of the matrix one-by-one:\n",
    "\n",
    "\n",
    "$$f_{ij} = t_{ij} \\frac{f_{ii} - f_{jj}}{t_{ii} - t_{jj}} + \\sum_{k=i+1}^{j-1} \\frac{f_{ik} t_{kj} - t_{ik}f_{kj}}{t_{ii} - t_{jj}}.$$"
   ]
  },
  {
   "cell_type": "markdown",
   "metadata": {
    "slideshow": {
     "slide_type": "slide"
    }
   },
   "source": [
    "## Matrix functions: definition\n",
    "\n",
    "- One way to define a matrix function $f(A)$ is to use **Jordan canonical form**.\n",
    "\n",
    "- A much more elegant way is to use **Cauchy integral representation:**\n",
    "\n",
    "$$\n",
    "    f(A) = \\frac{1}{2\\pi i}\\int_{\\Gamma} f(z) (zI - A)^{-1} dz,\n",
    "$$\n",
    "\n",
    "where $f(z)$ is analytic on and inside a closed contour $\\Gamma$ that encloses the spectrum of $A$.\n",
    "\n",
    "- This definition can be generalized to the **operator case.**"
   ]
  },
  {
   "cell_type": "markdown",
   "metadata": {
    "slideshow": {
     "slide_type": "slide"
    }
   },
   "source": [
    "## Important matrix functions\n",
    "\n",
    "- Matrix exponential, used to solve $\\frac{dy}{dt} = Ay$ in the \"explicit\" way, $y = e^{At}y_0.$\n",
    "- $\\cos(A), \\sin(A)$ used to solve wave equation $\\frac{d^2 y}{dt^2} + Ay = 0.$\n",
    "- Sign function, $\\mathrm{sign}(A)$, used to compute **spectral projections.**\n",
    "- Inverse square root $A^{-1/2}$ used in many places, for example, to generate samples from a Gaussian distributions"
   ]
  },
  {
   "cell_type": "markdown",
   "metadata": {
    "slideshow": {
     "slide_type": "slide"
    }
   },
   "source": [
    "## Matrix exponential\n",
    "\n",
    "- The matrix exponential is given by the following series:\n",
    "\n",
    "$$e^A = I + A + \\frac{1}{2} A^2 + \\frac{1}{3!} A^3 + \\ldots$$\n",
    "\n",
    "- This series is a bad idea (even for a scalar case, can you guess why?)\n",
    "\n",
    "- This form for $e^A$ almost assumes a **Krylov method** for the evaluation of $e^{At} y_0,$ by the way."
   ]
  },
  {
   "cell_type": "code",
   "execution_count": 26,
   "metadata": {
    "slideshow": {
     "slide_type": "slide"
    }
   },
   "outputs": [
    {
     "name": "stdout",
     "output_type": "stream",
     "text": [
      "Error in the exponent: 65220007.32064143\n"
     ]
    }
   ],
   "source": [
    "import numpy as np\n",
    "\n",
    "x = -30.0 #Point\n",
    "k = 1000000 #Number of terms\n",
    "b = 1.0\n",
    "x0 = x\n",
    "for i in range(1, k):\n",
    "    b += x0\n",
    "    x0 *= x/(i+1)\n",
    "    \n",
    "print('Error in the exponent: {}'.format((b - np.exp(x))/np.exp(x)))"
   ]
  },
  {
   "cell_type": "markdown",
   "metadata": {
    "slideshow": {
     "slide_type": "slide"
    }
   },
   "source": [
    "## Series convergence\n",
    "\n",
    "- The series convergence for the matrix exponential can be slow for large $x!$ (and slow for big norm).\n",
    "\n",
    "- What we can do?"
   ]
  },
  {
   "cell_type": "markdown",
   "metadata": {
    "slideshow": {
     "slide_type": "slide"
    }
   },
   "source": [
    "## Method 1: Krylov method\n",
    "\n",
    "- We can use the idea of Krylov method: using the Arnoldi method, generate the orthogonal basis in the Krylov subspace, and compute (it can be used in general for any function)\n",
    "\n",
    "$$ f(A)v \\approx f(Q H Q^*)v = Q f(H) Q^*v,$$\n",
    "\n",
    "where $H$ is a small upper Hessenberg matrix, for which we can use, for example, the **Schur-Parlett algorithm.**\n",
    "\n",
    "- The convergence of the Krylov method can be quite slow: it is actually a **polynomial approximation** to a function.\n",
    "\n",
    "- And convergence of polynomial approximation to the matrix function **can be slow.**\n",
    "\n",
    "- **Idea:** Replace by rational approximation!"
   ]
  },
  {
   "cell_type": "markdown",
   "metadata": {
    "slideshow": {
     "slide_type": "slide"
    }
   },
   "source": [
    "## Pade approximations\n",
    "\n",
    "- Matrix exponential is well approximated by **rational function**:  \n",
    "\n",
    "$$\n",
    "\\exp(x) \\approx \\frac{p(x)}{q(x)},\n",
    "$$\n",
    "\n",
    "where $p(x)$ and $q(x)$ are polynomials and computation of a rational function of a matrix is reduced to **matrix-matrix products** and **matrix inversions**.  \n",
    "\n",
    "- The rational form is also very useful when only a product of a matrix exponential by vector is needed, since evaluation reduces to **matrix-by-vector products** and **linear systems solvers**"
   ]
  },
  {
   "cell_type": "code",
   "execution_count": 27,
   "metadata": {
    "slideshow": {
     "slide_type": "slide"
    }
   },
   "outputs": [
    {
     "data": {
      "image/png": "[encoded data removed]",
      "text/plain": [
       "<Figure size 432x288 with 1 Axes>"
      ]
     },
     "metadata": {
      "needs_background": "light"
     },
     "output_type": "display_data"
    }
   ],
   "source": [
    "#Computing Pade approximant\n",
    "import numpy as np\n",
    "import mpmath\n",
    "%matplotlib inline\n",
    "from mpmath import pade, taylor, polyval\n",
    "import matplotlib.pyplot as plt\n",
    "x = np.linspace(-5, -1, 128)\n",
    "a = taylor(mpmath.exp, 0, 20) #Taylor series\n",
    "k1 = 10\n",
    "k2 = 10\n",
    "p, q = pade(a, k1, k2) #Pade approximant\n",
    "#plt.plot(x, polyval(p[::-1], x)/polyval(q[::-1], x) - np.exp(x))\n",
    "plt.semilogy(x, polyval(a[::-1], x) - np.exp(x))\n",
    "\n",
    "_ = plt.title('Error of the Pade of order {0:d}/{1:d}'.format(k1, k2) )"
   ]
  },
  {
   "cell_type": "markdown",
   "metadata": {
    "slideshow": {
     "slide_type": "slide"
    }
   },
   "source": [
    "## Scaling & squaring algorithm\n",
    "\n",
    "The \"canonical algorithm\" for the computation of the matrix exponential also relies on **scaling** of the matrix $A:$\n",
    "\n",
    "$$\\exp(A) = \\exp(A/2^k)^{(2^k)}.$$\n",
    "\n",
    "The matrix then can have a small norm, thus:\n",
    "\n",
    "- Scale the matrix as $B := A/2^k$ to make it norm less than $1$.\n",
    "- Compute exponent of $C = e^B$ by a **Pade approximant**\n",
    "- Square $e^A \\approx C^{(2^k)}$ in $k$ matrix-by-matrix products."
   ]
  },
  {
   "cell_type": "markdown",
   "metadata": {
    "slideshow": {
     "slide_type": "slide"
    }
   },
   "source": [
    "## Large-scale matrix exponentials\n",
    "\n",
    "- Large-scale matrices obviously do not allow for efficient scaling-and-squaring (need to work with dense matrices), thus we can use **Krylov methods** or (better) Rational Krylov methods.\n",
    "\n",
    "- The idea of a rational Krylov subspace is motivated by the idea of rational approximation instead of polynomial approximation.\n",
    "\n",
    "- Krylov methods rely on polynomial approximations"
   ]
  },
  {
   "cell_type": "markdown",
   "metadata": {
    "slideshow": {
     "slide_type": "slide"
    }
   },
   "source": [
    "## Rational Krylov subspaces\n",
    "\n",
    "The simplest (yet efficient) approach is based on the so-called **extended Krylov subspaces:**\n",
    "\n",
    "$$KE(A, b) = \\mathrm{Span}(\\ldots, A^{-2} b, A^{-1} b, b, A b, A^2 b, \\ldots)$$\n",
    "\n",
    "At each step you add a vector of the form $A w$ and $A^{-1} w$ to the subspace, and orthogonalize the result (**rational Arnoldi method**).\n",
    "\n",
    "I.e., we need only linear system solver for one step, but since the matrix $A$ is fixed, we can **factorize it** once"
   ]
  },
  {
   "cell_type": "markdown",
   "metadata": {
    "slideshow": {
     "slide_type": "slide"
    }
   },
   "source": [
    "## Rational Krylov methods\n",
    "\n",
    "Rational Krylov methods are the most efficient for the computation of matrix functions:\n",
    "\n",
    "- we construct an orthogonal basis in the span,\n",
    "\n",
    "$$KE(A, b) = \\mathrm{Span}(\\ldots, A^{-2} b, A^{-1} b, b, A b, A^2 b, \\ldots)$$\n",
    "\n",
    "- compute\n",
    "\n",
    "$$f(A)b \\approx Q f(H) Q^*b,$$\n",
    "\n",
    "where $H = Q^* A Q.$\n",
    "\n",
    "It requires one solver and matrix-by-vector product at each step."
   ]
  },
  {
   "cell_type": "markdown",
   "metadata": {
    "slideshow": {
     "slide_type": "slide"
    }
   },
   "source": [
    "## Inverse square root of the matrix\n",
    "\n",
    "- The inverse square root of the matrix, $A^{-1/2}$ is also often important.\n",
    "\n",
    "- For example, the multidimensional Gaussian distribution with covariance matrix $A = A^* > 0$ is given by the \n",
    "\n",
    "$$e^{A^{-1} x, x}.$$\n",
    "\n",
    "- Suppose $x$ is really huge (millions), how we **generate samples**, given a structured matrix $A$?\n",
    "\n",
    "- The simplest algorithm is to generate a normally distributed vector $y$ with $y_i$ from $N(0, 1)$, and then compute\n",
    "\n",
    "$$x = A^{-\\frac{1}{2}} y.$$\n",
    "\n",
    "- The vector $x$ will have the desired distribution.\n",
    "\n",
    "- To compute matrix square root it is very efficient to use **rational Krylov subspaces.**"
   ]
  },
  {
   "cell_type": "markdown",
   "metadata": {
    "slideshow": {
     "slide_type": "slide"
    }
   },
   "source": [
    "## Application to compute distance between manifolds\n",
    "\n",
    "- Represent two manifolds $\\mathcal{M}$ and $\\mathcal{N}$ with point clouds\n",
    "- Construct two graphs from these point clouds\n",
    "- Every graph has its own graph Laplacian ($L_{\\mathcal{M}}$ and $L_{\\mathcal{N}}$) (check the lecture about Fiedler vector!)\n",
    "- Heat kernel trace \n",
    "\n",
    "$$\\mathrm{hkt}_{\\mathcal{M}}(t) = \\mathrm{trace}(\\exp(-t L_{\\mathcal{M}}))$$\n",
    "\n",
    "contains all information about graph's spectrum\n",
    "\n",
    "- Gromov-Wasserstein distance between manifolds $\\mathcal{M}$ and $\\mathcal{N}$:\n",
    "\n",
    "$$d_{GW}(\\mathcal{M}, \\mathcal{N}) \\geq \\sup_{t > 0} \\exp(-2(t + t^{-1}))|\\mathrm{hkt}_{\\mathcal{M}}(t) - \\mathrm{hkt}_{\\mathcal{N}}(t)|$$"
   ]
  },
  {
   "cell_type": "markdown",
   "metadata": {
    "slideshow": {
     "slide_type": "slide"
    }
   },
   "source": [
    "### Stochastic trace estimator\n",
    "\n",
    "- Hutchinson [proposes](https://www.tandfonline.com/doi/abs/10.1080/03610919008812866) the following method\n",
    "\n",
    "$$ \\mathrm{trace}(A) = \\mathbb{E}_{p(x)}(x^{\\top}Ax), $$\n",
    "\n",
    "where $p(x)$ is distribution with zero mean and unit variance, e.g. Rademacher or standard normal distributions\n",
    "\n",
    "- To estimate trace we need the fast matrix by vector product!\n",
    "- And here the rational Krylov subspace helps a lot since $\\mathrm{hkt}$ requires trace of matrix exponential"
   ]
  },
  {
   "cell_type": "markdown",
   "metadata": {
    "slideshow": {
     "slide_type": "slide"
    }
   },
   "source": [
    "### Distances between languages ([original paper](https://openreview.net/pdf?id=HyebplHYwB))\n",
    "\n",
    "<img src=\"./gw_matexp.png\">"
   ]
  },
  {
   "cell_type": "markdown",
   "metadata": {
    "slideshow": {
     "slide_type": "slide"
    }
   },
   "source": [
    "## Where do stochastic methods also help?\n",
    "\n",
    "- SVD\n",
    "- Linear systems\n",
    "- Matrix multiplication"
   ]
  },
  {
   "cell_type": "markdown",
   "metadata": {
    "slideshow": {
     "slide_type": "slide"
    }
   },
   "source": [
    "## Randomized SVD ([Halko et al, 2011](https://epubs.siam.org/doi/pdf/10.1137/090771806?casa_token=isi3yX3QdPEAAAAA:j-7Qk87vS0kjKqGMLYeX3xg4QxqqyM8s4wn-XGX-SLOS2BRChFDRTPX-x9Hf7ltfuZYg9xsA0zksw1U))\n",
    "\n",
    "- Problem statement reminder\n",
    "\n",
    "$$ A \\approx U\\Sigma V^\\top, $$\n",
    "\n",
    "where $A$ is of size $m \\times n$, $U$ is of size $m \\times k$ and $V$ is of size $n \\times k$.\n",
    "\n",
    "- We have already known that the complexity of rank-$k$ approximation is $O(mnk)$\n",
    "- How can we reduce this complexity?"
   ]
  },
  {
   "cell_type": "markdown",
   "metadata": {
    "slideshow": {
     "slide_type": "slide"
    }
   },
   "source": [
    "- Assume we know orthogonal matrix $Q$ of size $m \\times k$ such that \n",
    "\n",
    "$$A \\approx Q Q^{\\top}A $$\n",
    "\n",
    "- In other words, columns of $Q$ represent orthogonal basis in the column space of matrix $A$\n",
    "- Then the following deterministic steps can give the factors $U$, $\\Sigma$ and $V$ corresponding of SVD of matrix $A$\n",
    "    - Form $k \\times n$ matrix $B = Q^{\\top}A$\n",
    "    - Compute SVD of small matrix $B = \\hat{U}\\Sigma V^{\\top}$\n",
    "    - Update left singular vectors $U = Q\\hat{U}$\n",
    "    \n",
    "- If $k \\ll \\min(m, n)$ then these steps can be performed fast\n",
    "- If $Q$ forms exact basis in column space of $A$, then $U$, $\\Sigma$ and $V$ are also exact!\n",
    "- So, how to compose matrix $Q$?"
   ]
  },
  {
   "cell_type": "markdown",
   "metadata": {
    "slideshow": {
     "slide_type": "slide"
    }
   },
   "source": [
    "### Randomized approximation of basis in column space of $A$\n",
    "\n",
    "- The main approach\n",
    "    - Generate $k + p$ Gaussian vectors of size $m$ and form matrix $G$\n",
    "    - Compute $Y = AG$\n",
    "    - Compute QR decomposition of $Y$ and use the resulting matrix $Q$ as an approximation of the basis \n",
    "- Parameter $p$ is called **oversampling** parameter and is needed to improve approximation of the leading $k$ left singular vectors later\n",
    "- Computing of $Y$ can be done in parallel\n",
    "- Here we need only matvec function for matrix $A$ rather than its elements as a 2D array - black-box concept!\n",
    "- Instead of Gaussian random matrix one can use more structured but still random matrix that can be multiplied by $A$ fast"
   ]
  },
  {
   "cell_type": "code",
   "execution_count": 107,
   "metadata": {
    "slideshow": {
     "slide_type": "slide"
    }
   },
   "outputs": [
    {
     "name": "stdout",
     "output_type": "stream",
     "text": [
      "Error from randomized SVD 1406.5506347825522\n",
      "Error from exact SVD 1206.4459662873328\n"
     ]
    },
    {
     "data": {
      "image/png": "[encoded data removed]",
      "text/plain": [
       "<Figure size 432x288 with 1 Axes>"
      ]
     },
     "metadata": {
      "needs_background": "light"
     },
     "output_type": "display_data"
    }
   ],
   "source": [
    "import numpy as np\n",
    "\n",
    "n = 1000\n",
    "k = 100\n",
    "m = 200\n",
    "# Lowrank matrix\n",
    "A = np.random.randn(n, k)\n",
    "B = np.random.randn(k, m)\n",
    "A = A @ B\n",
    "\n",
    "# Random matrix\n",
    "# A = np.random.randn(n, m)\n",
    "\n",
    "def randomized_svd(A, rank, p):\n",
    "    m, n = A.shape\n",
    "    G = np.random.randn(n, rank + p)\n",
    "    Y = A @ G\n",
    "    Q, _ = np.linalg.qr(Y)\n",
    "    B = Q.T @ A\n",
    "    u, S, V = np.linalg.svd(B)\n",
    "    U = Q @ u\n",
    "    return U, S, V\n",
    "\n",
    "rank = 70\n",
    "p = 20\n",
    "U, S, V = randomized_svd(A, rank, p)\n",
    "print(\"Error from randomized SVD\", np.linalg.norm(A - U[:, :rank] * S[None, :rank] @ V[:rank, :]))\n",
    "plt.semilogy(S[:rank] / S[0], label=\"Random SVD\")\n",
    "u, s, v = np.linalg.svd(A)\n",
    "print(\"Error from exact SVD\", np.linalg.norm(A - u[:, :rank] * s[None, :rank] @ v[:rank, :]))\n",
    "plt.semilogy(s[:rank] / s[0], label=\"Exact SVD\")\n",
    "plt.legend(fontsize=18)\n",
    "plt.xticks(fontsize=16)\n",
    "plt.yticks(fontsize=16)\n",
    "plt.ylabel(\"$\\sigma_i / \\sigma_0$\", fontsize=16)\n",
    "_ = plt.xlabel(\"Index of singular value\", fontsize=16)"
   ]
  },
  {
   "cell_type": "code",
   "execution_count": 111,
   "metadata": {
    "slideshow": {
     "slide_type": "slide"
    }
   },
   "outputs": [
    {
     "name": "stdout",
     "output_type": "stream",
     "text": [
      "9.47 ms ± 172 µs per loop (mean ± std. dev. of 7 runs, 100 loops each)\n",
      "1.65 ms ± 57.4 µs per loop (mean ± std. dev. of 7 runs, 1000 loops each)\n",
      "1.36 ms ± 81 µs per loop (mean ± std. dev. of 7 runs, 1000 loops each)\n"
     ]
    }
   ],
   "source": [
    "import scipy.sparse.linalg as spsplin\n",
    "# !pip install fbpca\n",
    "# More details about Facebook package for computing randomized SVD is here: https://research.fb.com/blog/2014/09/fast-randomized-svd/ \n",
    "import fbpca\n",
    "n = 1000\n",
    "m = 200\n",
    "A = np.random.randn(n, m)\n",
    "k = 10\n",
    "p = 10\n",
    "%timeit spsplin.svds(A, k=k)\n",
    "%timeit randomized_svd(A, k, p)\n",
    "%timeit fbpca.pca(A, k=k, raw=False) "
   ]
  },
  {
   "cell_type": "markdown",
   "metadata": {
    "slideshow": {
     "slide_type": "slide"
    }
   },
   "source": [
    "### Covergence theorem\n",
    "\n",
    "The averaged error of the presented algorithm, where $k$ is target rank and $p$ is oversampling parameter, is the following\n",
    "- in Frobenius norm\n",
    "\n",
    "$$ \\mathbb{E}\\|A - QQ^{\\top}A \\|_F \\leq \\left( 1 + \\frac{k}{p-1} \\right)^{1/2}\\left( \\sum_{j=k+1}^{\\min(m, n)} \\sigma^2_j \\right)^{1/2}  $$\n",
    "\n",
    "- in spectral norm\n",
    "\n",
    "$$ \\mathbb{E}\\|A - QQ^{\\top}A \\|_2 \\leq \\left( 1 + \\sqrt{\\frac{k}{p-1}} \\right)\\sigma_{k+1} + \\frac{e\\sqrt{k+p}}{p}\\left( \\sum_{j=k+1}^{\\min(m, n)} \\sigma^2_j \\right)^{1/2} $$\n",
    "\n",
    "The expectation is taken w.r.t. random matrix $G$ generated in the method described above.\n",
    "\n",
    "Compare these upper bounds with Eckart-Young theorem. Are these bounds good?\n",
    "\n"
   ]
  },
  {
   "cell_type": "markdown",
   "metadata": {
    "slideshow": {
     "slide_type": "slide"
    }
   },
   "source": [
    "## Accuracy enhanced randomized SVD\n",
    "\n",
    "- Main idea: power iteration\n",
    "- If $A = U \\Sigma V^\\top$, then $A^{(q)} = (AA^{\\top})^qA = U \\Sigma^{2q+1}V^\\top $, where $q$ some small natural number, e.g. 1 or 2\n",
    "- Then we sample from $A^{(q)}$, not from $A$\n",
    "\n",
    "$$ Y = (AA^{\\top})^qAG \\qquad Q, R = \\mathtt{qr}(Y) $$\n",
    "\n",
    "- The main reason: if singular values of $A$ decays slowly, the singular values of $A^{(q)}$ will decay faster "
   ]
  },
  {
   "cell_type": "code",
   "execution_count": 115,
   "metadata": {
    "slideshow": {
     "slide_type": "slide"
    }
   },
   "outputs": [
    {
     "data": {
      "image/png": "[encoded data removed]",
      "text/plain": [
       "<Figure size 432x288 with 1 Axes>"
      ]
     },
     "metadata": {
      "needs_background": "light"
     },
     "output_type": "display_data"
    }
   ],
   "source": [
    "n = 1000\n",
    "m = 200\n",
    "A = np.random.randn(n, m)\n",
    "s = np.linalg.svd(A, compute_uv=False)\n",
    "Aq = A @ A.T @ A\n",
    "sq = np.linalg.svd(Aq, compute_uv=False)\n",
    "plt.semilogy(s / s[0], label=\"$A$\")\n",
    "plt.semilogy(sq / sq[0], label=\"$A^{(1)}$\")\n",
    "plt.legend(fontsize=18)\n",
    "plt.xticks(fontsize=16)\n",
    "plt.yticks(fontsize=16)\n",
    "plt.ylabel(\"$\\sigma_i / \\sigma_0$\", fontsize=16)\n",
    "_ = plt.xlabel(\"Index of singular value\", fontsize=16)"
   ]
  },
  {
   "cell_type": "markdown",
   "metadata": {
    "slideshow": {
     "slide_type": "slide"
    }
   },
   "source": [
    "### Loss of accuracy with rounding errors\n",
    "\n",
    "- Compose $A^{(q)}$ naively leads to condition number grows and loss of accuracy\n",
    "\n",
    "**Q:** how can we battle with this issue?"
   ]
  },
  {
   "cell_type": "markdown",
   "metadata": {
    "slideshow": {
     "slide_type": "fragment"
    }
   },
   "source": [
    "**A:** sequential orthogonalization!"
   ]
  },
  {
   "cell_type": "code",
   "execution_count": 125,
   "metadata": {
    "slideshow": {
     "slide_type": "slide"
    }
   },
   "outputs": [
    {
     "name": "stdout",
     "output_type": "stream",
     "text": [
      "Error from randomized SVD 286.78254212536973\n",
      "Error from more accurate randomized SVD 250.30918436760263\n",
      "Error from exact SVD 249.43968443603225\n"
     ]
    },
    {
     "data": {
      "image/png": "[encoded data removed]",
      "text/plain": [
       "<Figure size 432x288 with 1 Axes>"
      ]
     },
     "metadata": {
      "needs_background": "light"
     },
     "output_type": "display_data"
    }
   ],
   "source": [
    "def more_accurate_randomized_svd(A, rank, p, q):\n",
    "    m, n = A.shape\n",
    "    G = np.random.randn(n, rank + p)\n",
    "    Y = A @ G\n",
    "    Q, _ = np.linalg.qr(Y)\n",
    "    for i in range(q):\n",
    "        W = A.T @ Q\n",
    "        W, _ = np.linalg.qr(W)\n",
    "        Q = A @ W\n",
    "        Q, _ = np.linalg.qr(Q)\n",
    "    B = Q.T @ A\n",
    "    u, S, V = np.linalg.svd(B)\n",
    "    U = Q @ u\n",
    "    return U, S, V\n",
    "\n",
    "n = 1000\n",
    "m = 200\n",
    "A = np.random.randn(n, m)\n",
    "\n",
    "rank = 100\n",
    "p = 20\n",
    "U, S, V = randomized_svd(A, rank, p)\n",
    "print(\"Error from randomized SVD\", np.linalg.norm(A - U[:, :rank] * S[None, :rank] @ V[:rank, :]))\n",
    "plt.semilogy(S[:rank] / S[0], label=\"Random SVD\")\n",
    "\n",
    "Uq, Sq, Vq = more_accurate_randomized_svd(A, rank, p, 5)\n",
    "print(\"Error from more accurate randomized SVD\", np.linalg.norm(A - Uq[:, :rank] * Sq[None, :rank] @ Vq[:rank, :]))\n",
    "plt.semilogy(Sq[:rank] / Sq[0], label=\"Accurate random SVD\")\n",
    "\n",
    "u, s, v = np.linalg.svd(A)\n",
    "print(\"Error from exact SVD\", np.linalg.norm(A - u[:, :rank] * s[None, :rank] @ v[:rank, :]))\n",
    "plt.semilogy(s[:rank] / s[0], label=\"Exact SVD\")\n",
    "plt.legend(fontsize=18)\n",
    "plt.xticks(fontsize=16)\n",
    "plt.yticks(fontsize=16)\n",
    "plt.ylabel(\"$\\sigma_i / \\sigma_0$\", fontsize=16)\n",
    "_ = plt.xlabel(\"Index of singular value\", fontsize=16)"
   ]
  },
  {
   "cell_type": "code",
   "execution_count": 126,
   "metadata": {
    "slideshow": {
     "slide_type": "slide"
    }
   },
   "outputs": [
    {
     "name": "stdout",
     "output_type": "stream",
     "text": [
      "9.05 ms ± 152 µs per loop (mean ± std. dev. of 7 runs, 100 loops each)\n",
      "1.4 ms ± 141 µs per loop (mean ± std. dev. of 7 runs, 1000 loops each)\n",
      "2.17 ms ± 22.7 µs per loop (mean ± std. dev. of 7 runs, 100 loops each)\n",
      "3.29 ms ± 97.6 µs per loop (mean ± std. dev. of 7 runs, 100 loops each)\n",
      "4.23 ms ± 55.9 µs per loop (mean ± std. dev. of 7 runs, 100 loops each)\n",
      "7.59 ms ± 309 µs per loop (mean ± std. dev. of 7 runs, 100 loops each)\n"
     ]
    }
   ],
   "source": [
    "%timeit spsplin.svds(A, k=k)\n",
    "%timeit fbpca.pca(A, k=k, raw=False)\n",
    "%timeit randomized_svd(A, k, p) \n",
    "%timeit more_accurate_randomized_svd(A, k, p, 1)\n",
    "%timeit more_accurate_randomized_svd(A, k, p, 2)\n",
    "%timeit more_accurate_randomized_svd(A, k, p, 5)"
   ]
  },
  {
   "cell_type": "markdown",
   "metadata": {
    "slideshow": {
     "slide_type": "slide"
    }
   },
   "source": [
    "### Convergence theorem\n",
    "\n",
    "The presented above method provides the following upper bound\n",
    "\n",
    "$$ \\mathbb{E}\\|A - QQ^{\\top}A \\|_2 \\leq \\left[\\left( 1 + \\sqrt{\\frac{k}{p-1}} \\right)\\sigma^{2q+1}_{k+1} + \\frac{e\\sqrt{k+p}}{p}\\left( \\sum_{j=k+1}^{\\min(m, n)} \\sigma^{2(2q+1)}_j \\right)^{1/2}\\right]^{1/(2q+1)} $$\n",
    "\n",
    "Consider the worst case, where no lowrank structure exists in the given matrix.\n",
    "\n",
    "**Q:** what is the degree of suboptimality w.r.t. Eckart-Young theorem? "
   ]
  },
  {
   "cell_type": "markdown",
   "metadata": {
    "slideshow": {
     "slide_type": "slide"
    }
   },
   "source": [
    "### Summary on randomized SVD\n",
    "\n",
    "- Efficient method to get approximate SVD\n",
    "- Simple to implement\n",
    "- It can be extended to one-pass method, where matrix $A$ is needed only to construct $Q$\n",
    "- It requires only matvec with target matrix"
   ]
  },
  {
   "cell_type": "markdown",
   "metadata": {
    "slideshow": {
     "slide_type": "slide"
    }
   },
   "source": [
    "## Kaczmarz method to solve linear systems \n",
    "\n",
    "- We have already discussed how to solve overdetermined linear systems $Ax = f$ in the least-squares manner\n",
    "    - pseudoinverse matrix\n",
    "    - QR decomposition\n",
    "- One more approach is based on iterative projections a.k.a. **Kaczmarz method** or **algebraic reconstruction technique** in compoutational tomography domain\n",
    "- Instead of solving all equations, pick one randomly, which reads\n",
    "\n",
    "$$a^{\\top}_i x = f_i,$$\n",
    "\n",
    "and given an approximation $x_k$ try to find $x_{k+1}$ as \n",
    "\n",
    "$$x_{k+1} = \\arg \\min_x \\frac12 \\Vert x - x_k \\Vert^2_2, \\quad \\mbox{s.t.} \\quad  a^{\\top}_i x = f_i.$$\n",
    "\n",
    "- A simple analysis gives \n",
    "\n",
    "$$x_{k+1} = x_k - \\frac{(a_i, x_k) - f_i}{(a_i, a_i)} a_i. $$\n",
    "\n",
    "- A cheap update, but the analysis is quite complicated.\n",
    "- You can recognize in this method stochastic gradient descent with specific step size equal to $\\frac{1}{\\|a_i\\|_2^2}$ for every sample"
   ]
  },
  {
   "cell_type": "markdown",
   "metadata": {
    "slideshow": {
     "slide_type": "slide"
    }
   },
   "source": [
    "## Convergence theorem\n",
    "\n",
    "- Assume we generate $i$ according to the distribution over the all available indices proportional to norms of the rows, i.e. $\\mathbb{P}[i = k] = \\frac{\\|a_k\\|_2^2}{\\| A \\|^2_F}$. This method is called Randomized Kaczmarz method (RKM)\n",
    "- Why sampling strategy is important here?\n",
    "- Investigation of the best sampling is provided [here](https://scholar.harvard.edu/files/yuelu/files/randkac_globalsip14.pdf)\n",
    "- If the overdetermined linear system is **consistent**, then\n",
    "\n",
    "$$ \\mathbb{E}[\\|x_{k+1} - x^*\\|^2_2] \\leq \\left(1 - \\frac{1}{\\kappa^2_F(A)}\\right) \\mathbb{E}[\\|x_{k} - x^*\\|^2_2], $$\n",
    "\n",
    "where $\\kappa_F(A) = \\frac{\\| A \\|_F}{\\sigma_{\\min}(A)}$ and $\\sigma_{\\min}(A)$ is a minimal non-zero singular value of $A$. This result was presented in ([Strohmer and Vershynin, 2009](http://people.eecs.berkeley.edu/~brecht/cs294docs/week1/09.Strohmer.pdf))\n",
    "\n",
    "- If the overdetermined linear system is **inconsistent**, then\n",
    "\n",
    "$$ \\mathbb{E}[\\|x_{k+1} - x^*\\|^2_2] \\leq \\left(1 - \\frac{1}{\\kappa^2_F(A)}\\right) \\mathbb{E}[\\|x_{k} - x^*\\|^2_2] + \\frac{\\|r^*\\|_2^2}{\\| A \\|^2_F}, $$\n",
    "\n",
    "where $r^* = Ax^* - f$"
   ]
  },
  {
   "cell_type": "markdown",
   "metadata": {
    "slideshow": {
     "slide_type": "slide"
    }
   },
   "source": [
    "### Inconsistent overdetermined linear system\n",
    "\n",
    "- It was shown in ([Needell, 2010](https://arxiv.org/pdf/0902.0958.pdf)) that RKM does not converge to $A^{\\dagger}f$\n",
    "- To address this issue Randomized extended Kaczmarz method was proposed in ([A Zouzias, N Freris, 2013](https://arxiv.org/pdf/1205.5770.pdf))\n",
    "- The main idea is to use two steps of RKM:\n",
    "    - the first step is for system $A^\\top z = 0$ starting from $z_k$\n",
    "    \n",
    "    $$ z^{k+1} = z^{k} - \\frac{a^\\top_{:, j} z^k}{\\| a_{:, j} \\|_2^2}a_{:, j}  $$ \n",
    "    \n",
    "    - the second step is for system $Ax = f - z_{k+1}$ starting from $x_k$\n",
    "    \n",
    "    $$x^{k+1} = x^k - \\frac{a_{i,:}x_k - f_i + z^{k+1}_i}{\\|a_{i,:}\\|_2^2}a^{\\top}_{i,:} $$\n",
    "    \n",
    "Here $a_{:, j}$ denotes the $j$-th column of $A$ and $a_{i, :}$ denotes the $i$-th row of $A$\n",
    "\n",
    "- If $z^0 \\in f + \\mathrm{range}(A)$ and $x^0 \\in \\mathrm{range}(A^\\top)$, then REK converges exponentially to $A^{\\dagger}f$ "
   ]
  },
  {
   "cell_type": "markdown",
   "metadata": {
    "slideshow": {
     "slide_type": "slide"
    }
   },
   "source": [
    "## Sampling and sketching\n",
    "\n",
    "- Sampling of a particular row can be considered as a particular case of more general approach called **sketching**\n",
    "- Idea: replace matrix $A$ with another matrix $SA$, where matrix $SA$ has significantly smaller number of rows but preserves some important properties of matrix $A$\n",
    "- Possible choices:\n",
    "    - random projection\n",
    "    - random row selection\n",
    "- Example: linear least squares problem $\\|Ax - b\\|_2^2 \\to \\min_x$ transforms to $\\| (SA)y - Sb \\|_2^2 \\to \\min_y$ and we expect that $x \\approx y$\n",
    "- [Blendenpick](https://pdos.csail.mit.edu/~petar/papers/blendenpik-v1.pdf) solver is based on that idea and outperforms LAPACK routine \n",
    "- More details see in [Sketching as a Tool for Numerical Linear Algebra](https://researcher.watson.ibm.com/researcher/files/us-dpwoodru/wNow3.pdf) by D. Woodruff"
   ]
  },
  {
   "cell_type": "markdown",
   "metadata": {
    "slideshow": {
     "slide_type": "slide"
    }
   },
   "source": [
    "### Summary on randomized methods in solving linear systems\n",
    "\n",
    "- Easy to use family of methods\n",
    "- Especially useful in problems with streaming data\n",
    "- Existing theoretical bounds for convergence\n",
    "- Many interpretations in different domains (SGD in deep learning, ART in computational tomography)"
   ]
  },
  {
   "cell_type": "markdown",
   "metadata": {
    "slideshow": {
     "slide_type": "slide"
    }
   },
   "source": [
    "## Randomized matrix multiplication\n",
    "\n",
    "- We know that matrix multiplication $AB$ costs $O(mnp)$ for matrices $m \\times p$ and $p \\times n$\n",
    "- We can construct approximation of this product by sampling rows and columns of the multipliers\n",
    "\n",
    "**Q:** how to sample them?\n",
    "\n",
    "**A:** generate probabilities from their norms!\n",
    "\n",
    "- So the final approximation expression\n",
    "\n",
    "$$ AB \\approx \\sum_{t=1}^k \\frac{1}{kp_{i_t}} A^{(i_t)} B_{(i_t)}, $$\n",
    "\n",
    "where $A^{(i_t)}$ is a column of $A$ and $B_{(i_t)}$ is a row of $B$\n",
    "\n",
    "- Complexity reduction from $O(mnp)$ to $O(mnk)$"
   ]
  },
  {
   "cell_type": "code",
   "execution_count": 174,
   "metadata": {
    "slideshow": {
     "slide_type": "slide"
    }
   },
   "outputs": [
    {
     "name": "stdout",
     "output_type": "stream",
     "text": [
      "0.7514219112352372\n",
      "1.496214137738649\n"
     ]
    }
   ],
   "source": [
    "import numpy as np\n",
    "\n",
    "n = 20\n",
    "p = 1000\n",
    "m = 20\n",
    "A = np.random.randn(n, p)\n",
    "B = np.random.randn(p, m)\n",
    "C = A @ B\n",
    "\n",
    "def randomized_matmul(A, B, k):\n",
    "    p = np.linalg.norm(A, axis=0) * np.linalg.norm(B, axis=1)\n",
    "    p = p.ravel() / p.sum()\n",
    "    n = A.shape[1]\n",
    "    idx = np.random.choice(np.arange(n), (k,), False, p)\n",
    "    d = 1 / np.sqrt(k * p[idx])\n",
    "    A_sketched = A[:, idx] * d[None, :]\n",
    "    B_sketched = B[idx, :] * d[:, None]\n",
    "    C = A_sketched @ B_sketched\n",
    "    return C\n",
    "\n",
    "def randomized_matmul_topk(A, B, K):\n",
    "    \n",
    "    norm_mult = np.linalg.norm(A,axis=0) * np.linalg.norm(B,axis=1)\n",
    "    top_k_idx = np.sort(np.argsort(norm_mult)[::-1][:K])\n",
    "    \n",
    "    A_top_k_cols = A[:, top_k_idx]\n",
    "    B_top_k_rows = B[top_k_idx, :]\n",
    "\n",
    "    C_approx = A_top_k_cols @ B_top_k_rows\n",
    "    return C_approx\n",
    "\n",
    "num_items = 300\n",
    "C_appr_samples = randomized_matmul(A, B, num_items)\n",
    "C_appr_topk = randomized_matmul_topk(A, B, num_items)\n",
    "print(np.linalg.norm(C_appr_topk - C) / np.linalg.norm(C))\n",
    "print(np.linalg.norm(C_appr_samples - C) / np.linalg.norm(C))"
   ]
  },
  {
   "cell_type": "markdown",
   "metadata": {
    "slideshow": {
     "slide_type": "slide"
    }
   },
   "source": [
    "## Approximation error\n",
    "\n",
    "$$ \\mathbb{E} [\\|AB - CR\\|^2_F] = \\frac{1}{k} \\left(\\sum_{i=1}^n \\| A^{(i)} \\|_2 \\| B_{(i)} \\|_2\\right)^2   - \\frac{1}{k}\\|AB\\|_F^2 $$ \n",
    "\n",
    "- Other sampling probabilities are possible\n",
    "- Use approximation\n",
    "$$ AB \\approx ASD(SD)^\\top B  = ACC^{\\top}B$$\n",
    "can replace sampling and scaling with another matrix that\n",
    "    \n",
    "    - reduces the dimension\n",
    "    - sufficiently accurately approximates\n",
    "\n",
    "**Q:** what matrices can be used?"
   ]
  },
  {
   "cell_type": "markdown",
   "metadata": {
    "slideshow": {
     "slide_type": "slide"
    }
   },
   "source": [
    "### Summary on randomized matmul\n",
    "\n",
    "- Simple method to get approximation of result\n",
    "- Can be used if the high accuracy is not crucial\n",
    "- Especially useful for large dense matrices"
   ]
  },
  {
   "cell_type": "markdown",
   "metadata": {
    "slideshow": {
     "slide_type": "slide"
    }
   },
   "source": [
    "## Take home message\n",
    "\n",
    "- Matrix functions: matrix exponential, methods to compute matrix exponential\n",
    "- Rational Krylov subspace\n",
    "- Randomized SVD and other examples of randomized methods in NLA"
   ]
  },
  {
   "cell_type": "markdown",
   "metadata": {
    "slideshow": {
     "slide_type": "slide"
    }
   },
   "source": [
    "## Plan for the next class\n",
    "\n",
    "- Tensors\n",
    "- Tensor decompositions\n",
    "- Applications"
   ]
  },
  {
   "cell_type": "code",
   "execution_count": 21,
   "metadata": {
    "slideshow": {
     "slide_type": "skip"
    }
   },
   "outputs": [
    {
     "data": {
      "text/html": [
       "<link href='http://fonts.googleapis.com/css?family=Fenix' rel='stylesheet' type='text/css'>\n",
       "<link href='http://fonts.googleapis.com/css?family=Alegreya+Sans:100,300,400,500,700,800,900,100italic,300italic,400italic,500italic,700italic,800italic,900italic' rel='stylesheet' type='text/css'>\n",
       "<link href='http://fonts.googleapis.com/css?family=Source+Code+Pro:300,400' rel='stylesheet' type='text/css'>\n",
       "<style>\n",
       "    @font-face {\n",
       "        font-family: \"Computer Modern\";\n",
       "        src: url('http://mirrors.ctan.org/fonts/cm-unicode/fonts/otf/cmunss.otf');\n",
       "    }\n",
       "    div.cell{\n",
       "        /*width:80%;*/\n",
       "        /*margin-left:auto !important;\n",
       "        margin-right:auto;*/\n",
       "    }\n",
       "    h1 {\n",
       "        font-family: 'Alegreya Sans', sans-serif;\n",
       "    }\n",
       "    h2 {\n",
       "        font-family: 'Fenix', serif;\n",
       "    }\n",
       "    h3{\n",
       "\t\tfont-family: 'Fenix', serif;\n",
       "        margin-top:12px;\n",
       "        margin-bottom: 3px;\n",
       "       }\n",
       "\th4{\n",
       "\t\tfont-family: 'Fenix', serif;\n",
       "       }\n",
       "    h5 {\n",
       "        font-family: 'Alegreya Sans', sans-serif;\n",
       "    }\t   \n",
       "    div.text_cell_render{\n",
       "        font-family: 'Alegreya Sans',Computer Modern, \"Helvetica Neue\", Arial, Helvetica, Geneva, sans-serif;\n",
       "        line-height: 1.2;\n",
       "        font-size: 120%;\n",
       "        /*width:70%;*/\n",
       "        /*margin-left:auto;*/\n",
       "        margin-right:auto;\n",
       "    }\n",
       "    .CodeMirror{\n",
       "            font-family: \"Source Code Pro\";\n",
       "\t\t\tfont-size: 90%;\n",
       "    }\n",
       "/*    .prompt{\n",
       "        display: None;\n",
       "    }*/\n",
       "    .text_cell_render h1 {\n",
       "        font-weight: 200;\n",
       "        font-size: 50pt;\n",
       "\t\tline-height: 110%;\n",
       "        color:#CD2305;\n",
       "        margin-bottom: 0.5em;\n",
       "        margin-top: 0.5em;\n",
       "        display: block;\n",
       "    }\t\n",
       "    .text_cell_render h5 {\n",
       "        font-weight: 300;\n",
       "        font-size: 16pt;\n",
       "        color: #CD2305;\n",
       "        font-style: italic;\n",
       "        margin-bottom: .5em;\n",
       "        margin-top: 0.5em;\n",
       "        display: block;\n",
       "    }\n",
       "    \n",
       "    li {\n",
       "        line-height: 110%;\n",
       "    }\n",
       "    .warning{\n",
       "        color: rgb( 240, 20, 20 )\n",
       "        }  \n",
       "\n",
       "</style>\n",
       "\n",
       "<script>\n",
       "    MathJax.Hub.Config({\n",
       "                        TeX: {\n",
       "                           extensions: [\"AMSmath.js\"]\n",
       "                           },\n",
       "                tex2jax: {\n",
       "                    inlineMath: [ ['$','$'], [\"\\\\(\",\"\\\\)\"] ],\n",
       "                    displayMath: [ ['$$','$$'], [\"\\\\[\",\"\\\\]\"] ]\n",
       "                },\n",
       "                displayAlign: 'center', // Change this to 'center' to center equations.\n",
       "                \"HTML-CSS\": {\n",
       "                    styles: {'.MathJax_Display': {\"margin\": 4}}\n",
       "                }\n",
       "        });\n",
       "</script>\n"
      ],
      "text/plain": [
       "<IPython.core.display.HTML object>"
      ]
     },
     "execution_count": 21,
     "metadata": {},
     "output_type": "execute_result"
    }
   ],
   "source": [
    "from IPython.core.display import HTML\n",
    "def css_styling():\n",
    "    styles = open(\"./styles/custom.css\", \"r\").read()\n",
    "    return HTML(styles)\n",
    "css_styling()"
   ]
  }
 ],
 "metadata": {
  "anaconda-cloud": {},
  "celltoolbar": "Slideshow",
  "kernelspec": {
   "display_name": "Python 3",
   "language": "python",
   "name": "python3"
  },
  "language_info": {
   "codemirror_mode": {
    "name": "ipython",
    "version": 3
   },
   "file_extension": ".py",
   "mimetype": "text/x-python",
   "name": "python",
   "nbconvert_exporter": "python",
   "pygments_lexer": "ipython3",
   "version": "3.7.7"
  },
  "nav_menu": {},
  "toc": {
   "navigate_menu": true,
   "number_sections": false,
   "sideBar": true,
   "threshold": 6,
   "toc_cell": false,
   "toc_section_display": "block",
   "toc_window_display": false
  }
 },
 "nbformat": 4,
 "nbformat_minor": 1
}
