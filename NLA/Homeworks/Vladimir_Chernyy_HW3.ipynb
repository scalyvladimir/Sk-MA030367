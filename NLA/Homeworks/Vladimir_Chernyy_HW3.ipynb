{
 "cells": [
  {
   "cell_type": "markdown",
   "metadata": {
    "id": "XFWbnjokXBiB"
   },
   "source": [
    "# Problem set 3 (90 pts)\n",
    "\n",
    "## Important note: the template for your solution filename is Name_Surname_PS3.ipynb\n",
    "\n",
    "### The correct answer to the bonus question can be used as an additional reason to increase the final grade in the border case"
   ]
  },
  {
   "cell_type": "markdown",
   "metadata": {
    "id": "THuWJ2kSXBiD"
   },
   "source": [
    "## Problem 1 (25 pts)\n",
    "\n",
    "- (5 pts) Prove that $\\mathrm{vec}(AXB) = (B^\\top \\otimes A)\\, \\mathrm{vec}(X)$ if $\\mathrm{vec}(X)$ is a columnwise reshape of a matrix into a long vector. What does it change if the reshape is rowwise? \n",
    "\n",
    "**Note:** To make a columnwise reshape in Python one should use ```np.reshape(X, order='f')```, where the string ```'f'``` stands for the Fortran ordering. \n",
    "\n",
    "- (2 pts) What is the complexity of a naive computation of $(A \\otimes B) x$? Show how it can be reduced.\n",
    "\n",
    "- (3 pts) Let matrices $A$ and $B$ have eigendecompositions $A = S_A\\Lambda_A S_A^{-1}$ and $B = S_B\\Lambda_B S^{-1}_B$. Find eigenvectors and eigenvalues of the matrix $A\\otimes I + I \\otimes B$, where dimension of $I$ coincides with the dimension of $A$ and $B$.\n",
    "\n",
    "\n",
    "- (10 pts) Let $A = \\mathrm{diag}\\left(\\frac{1}{1000},\\frac{2}{1000},\\dots \\frac{999}{1000}, 1, 1000 \\right)$. Estimate analytically the number of iterations required  to solve linear system with $A$ with the relative accuracy $10^{-4}$ using\n",
    "    - Richardson iteration with the optimal choice of parameter (use $2$-norm)\n",
    "    - Chebyshev iteration (use $2$-norm)\n",
    "    - Conjugate gradient method (use $A$-norm).\n",
    "    \n",
    "- (5 pts) Provide numerical confirmation of your estimate from theoretical point of view"
   ]
  },
  {
   "cell_type": "markdown",
   "metadata": {
    "id": "ISg6SK0KXBiE"
   },
   "source": [
    "### 1)"
   ]
  },
  {
   "cell_type": "markdown",
   "metadata": {
    "id": "oXztP8AB92hd"
   },
   "source": [
    "Let's check, that $\\mathrm{vec}(AXB) = (B^\\top \\otimes A)\\, \\mathrm{vec}(X)$ holds for columnwise reshape."
   ]
  },
  {
   "cell_type": "markdown",
   "metadata": {
    "id": "OYuiKyktAJlc"
   },
   "source": [
    "Let's consider $k$-th column of $AXB$\n",
    "\n",
    "$AXb_k=A(\\sum_{i = 1}^m b_{ik})=\\sum_{i=1}^nb_{ik}Ax{i}=(b_{1,k}A...b_{m,k}A)\\begin{pmatrix} x_1 \\\\ \\vdots \\\\ x_m \\end{pmatrix}$\n",
    "\n",
    "It is mean that:\n",
    "$\\mathrm{vec}(AXB)=\\begin{pmatrix} AXb_1 \\\\ ... \\\\ AXb_n \\end{pmatrix} = \n",
    " \\begin{pmatrix} b_1^T \\otimes A \\\\ ... \\\\ b_n^T \\otimes A\\end{pmatrix} \\mathrm{vec}(X) = (B^T \\otimes A) \\mathrm{vec}(X)$"
   ]
  },
  {
   "cell_type": "markdown",
   "metadata": {
    "id": "28bZ0J8Uy7D8"
   },
   "source": [
    "Similarly, let's look on row-wise approach:"
   ]
  },
  {
   "cell_type": "markdown",
   "metadata": {
    "id": "_YYWLJMm93Pj"
   },
   "source": [
    " $A = \\begin{pmatrix} a_1 \\\\ \\vdots \\\\ a_n \\end{pmatrix} , X = \\begin{pmatrix} x_1 \\\\ \\vdots \\\\ x_n \\end{pmatrix}$\n",
    "\n",
    "$a_k X B =  \\sum_{i=1}^n a_{ik} x_i B =  \\sum_{i=1}^n a_{ik} B^T x_i  = \\begin{pmatrix} a_{1k} B^T & ... & a_{nk} B^T \\end{pmatrix} \\begin{pmatrix} x_1 \\\\ \\vdots \\\\ x_n \\end{pmatrix} = (a_k \\otimes B^T) \\mathrm{vec}(X)$\n",
    "\n",
    "$\\mathrm{vec}(AXB) = \\begin{pmatrix} a_1XB &  \\ldots &  a_nXB \\end{pmatrix} = \n",
    " \\begin{pmatrix} a_1 \\otimes B^T & \\ldots & a_n \\otimes B^T\\end{pmatrix} \\mathrm{vec}(X) = (A \\otimes B^T ) \\mathrm{vec}(X)$\n",
    " "
   ]
  },
  {
   "cell_type": "markdown",
   "metadata": {
    "id": "EW03OdAg94yK"
   },
   "source": [
    "### 2)"
   ]
  },
  {
   "cell_type": "markdown",
   "metadata": {
    "id": "WwSHM3zu944_"
   },
   "source": [
    "Well, naive approach takes $\\mathcal{O}(n^4)$ to compute Kroneker product, $\\mathcal{O}(n^6)$ for matrix by vector product.\n",
    "\n",
    "To reduce complexity, we should reshape $x$ to $X \\in \\mathbb{R}^{n\\times n}$ matrix, complexity of reshaping is $\\mathcal{O}(n^2)$.\n",
    " \n",
    " $(A\\otimes B)x=(A\\otimes B)vec(X) \\iff x$ is long vector.\n",
    " Thus, we could apply 1) formula:\n",
    "\n",
    "$$\n",
    "(A\\otimes B)\\mathrm{vec}(X) = \\mathrm{vec}(BXA^\\top)\n",
    "$$\n",
    "\n",
    "$\n",
    "BXA^\\top \\text{product will take } \\mathcal{O}(n^3)\\text{, reshaping to } \\mathrm{vec(\\ldots)} - \\mathcal{O}(n^2).\n",
    "$\n",
    "\n",
    "So, in total, it is $\\mathcal{O}(n^3)$, which is way more efficient.\n"
   ]
  },
  {
   "cell_type": "markdown",
   "metadata": {
    "id": "3WfXg-fs9489"
   },
   "source": [
    "### 3)"
   ]
  },
  {
   "cell_type": "markdown",
   "metadata": {
    "id": "IIUS19d895AV"
   },
   "source": [
    "Applying separate EVDs and using auxillary formulas:\n",
    "\n",
    "$(A\\otimes B)(C\\otimes D)=AC\\otimes BD$\n",
    "\n",
    " $(A\\otimes B)^{-1}=(A^{-1}\\otimes B^{-1})$\n",
    "\n",
    "$A \\otimes I+I \\otimes B = S_{A} \\Lambda_{A} S_{A}^{-1} \\otimes I+I_{B} \\otimes S_{B} \\Lambda_{B} S_{B}^{-1}$\n",
    "\n",
    "$\n",
    "= S_{A} \\Lambda_{A} S_{A}^I+S_{A} S_{A}^{-1} \\otimes S_{B} \\Lambda_{B} S_{B}^{-1}\n",
    "$\n",
    "\n",
    "$\n",
    "=\\left(S_{A} \\otimes I\\right)\\left(\\Lambda_{A} S_{A}^{-1} \\otimes I+S_{A}^{-1} \\otimes S_{B} \\Lambda_{B} S_{B}^{-1}\\right)\n",
    "$\n",
    "\n",
    "$\n",
    "=\\left(S_{A} \\otimes I\\right)\\left(\\Lambda_{A} \\otimes S_{B} S_{0}^{-1}+I \\otimes S_{B} \\Lambda_{B} S_{B}^{-1}\\right)\\left(S_{A}^{-1} \\otimes I\\right)\n",
    "$\n",
    "\n",
    "$\n",
    "=\\left(S_{A} \\otimes I\\right)\\left(I \\otimes S_{B}\\right)\\left(\\Lambda_{A} \\otimes S_{B}^{-1}+I \\otimes \\Lambda_{B} S_{B}^{-1}\\right)\\left(S_{A}^{-1} \\otimes I\\right)\n",
    "$\n",
    "\n",
    "$\n",
    "= \\left(S_{A} \\otimes I\\right)\\left(I \\otimes S_{B}\\right)\\left(\\Lambda_{A} \\otimes I+I \\otimes \\Lambda_{B}\\right)\\left(I \\otimes S_{B}^{-1}\\right)\\left(S_{A}^{-1} \\otimes I\\right)\n",
    "$\n",
    "\n",
    "Thus, we found EVD for $A \\otimes I+I \\otimes B$, where multiples:\n",
    "\n",
    "1. $\\left(S_{A} \\otimes I\\right)\\left(I \\otimes S_{B}\\right)$ corresponds to left eigenvectors \n",
    "\n",
    "2. $\\left( \\Lambda_{A} \\otimes I+I \\otimes \\Lambda_{B}\\right)$ contains eigenvalues\n",
    "\n",
    "3. $\\left(I \\otimes S_{B}^{-1}\\right)\\left(S_{A}^{-1} \\otimes I\\right)$ corresponds to right eigenvectors \n",
    "\n"
   ]
  },
  {
   "cell_type": "markdown",
   "metadata": {
    "id": "-hapuG2dzfuV"
   },
   "source": [
    "### 4)"
   ]
  },
  {
   "cell_type": "markdown",
   "metadata": {
    "id": "2qY_N0Tgzf3d"
   },
   "source": [
    " **Richardson**\n",
    "\n",
    "Relative error using 2-norm:\n",
    "$e_{k} = \\frac{\\|x_k - x_*\\|_2}{\\|x_*\\|_2} \\leq \\|I - \\tau A\\|_2^k = \\sigma^k_{max} (I - \\tau A) = \n",
    " \\sigma^k_{max} \\left(I - \\frac{2}{\\lambda_{\\min} + \\lambda_{\\max}} A \\right) \n",
    " = \\left(1 - \\frac{2 \\lambda_{min}}{\\lambda_{\\min} + \\lambda_{\\max}}\\right)^k \n",
    " \\approx \\left( 1 - \\frac{2}{10^6}\\right)^k$\n",
    "\n",
    "As accuracy is less than $10^{-4}$, so\n",
    "\n",
    "$\\left( 1 - \\frac{2}{10^6}\\right)^k \\leq 10^{-4}$\n",
    "\n",
    "\n",
    "$\\Rightarrow k \\geq \\frac{-4 \\ln 10}{\\ln \\left( 1 - \\frac{2}{10^6} \\right)} \\approx {4,6 \\cdot 10^{6}}$"
   ]
  },
  {
   "cell_type": "markdown",
   "metadata": {
    "id": "2i3QQ-V9zf9N"
   },
   "source": [
    "**Chebyshev**\n",
    "\n",
    "we can describe convergence as\n",
    "$\n",
    "   e_{k+1} \\leq C q^k$, where $q = \\frac{\\sqrt{\\kappa(A)}-1}{\\sqrt{\\kappa(A)}+1},\n",
    "$\n",
    "\n",
    "so, we have $q^{k} = \\left( \\frac{\\sqrt{\\kappa(A)}-1}{\\sqrt{\\kappa(A)}+1} \\right)^k \\leq 10^{-4}$\n",
    "\n",
    "$\\Rightarrow k[ \\ln (\\sqrt{\\kappa(A)} - 1) -  \\ln (\\sqrt{\\kappa (A)} + 1)] \\leq -4 \\ln 10$\n",
    "\n",
    "$\n",
    "\\Rightarrow k \\leq \\frac{-4 \\ln 10}{\\ln \\left( \\frac{\\sqrt{\\kappa(A)} - 1}{\\sqrt{\\kappa(A)} +1}\\right)} \\approx 4,6 \\cdot 10^3$\n"
   ]
  },
  {
   "cell_type": "markdown",
   "metadata": {
    "id": "o7_vQ0x9-1Zx"
   },
   "source": [
    "**Conjugate gradient method**\n",
    "\n",
    "By fact for $A$ with $m$ various eigenvalues, \\textit{CG} converges in $m$ iterations. Hence, in our case we will witness convergence after $1001$ iterations."
   ]
  },
  {
   "cell_type": "markdown",
   "metadata": {
    "id": "dh0nKsm46hpo"
   },
   "source": [
    "## Problem 2 (65 pts)\n",
    "### On the performance of conjugate gradient method for BTTB matrices.\n",
    "\n",
    "You are given 2D image (QR-code) and convolution operator $T$. The application of $T$ results in smoothing of the image. In exact arithmetic, the proposed $T$ is non-singular. However, it becomes rather ill-conditioned with increasing $N$ in finite precision arithmetic. In this task you need to study how the conjugate gradient method performs in this case."
   ]
  },
  {
   "cell_type": "markdown",
   "metadata": {
    "id": "3gi5DJJz6hps"
   },
   "source": [
    "The original passcode is given below:"
   ]
  },
  {
   "cell_type": "code",
   "execution_count": 113,
   "metadata": {
    "colab": {
     "base_uri": "https://localhost:8080/",
     "height": 265
    },
    "id": "mxPusfbx6hps",
    "outputId": "5398a558-ad9e-4a92-e207-504eefd986a3"
   },
   "outputs": [
    {
     "data": {
      "text/plain": [
       "(-0.5, 329.5, 329.5, -0.5)"
      ]
     },
     "execution_count": 113,
     "metadata": {},
     "output_type": "execute_result"
    },
    {
     "data": {
      "image/png": "[encoded data removed]",
      "text/plain": [
       "<Figure size 432x288 with 1 Axes>"
      ]
     },
     "metadata": {
      "needs_background": "light"
     },
     "output_type": "display_data"
    }
   ],
   "source": [
    "import matplotlib.pyplot as plt\n",
    "x = plt.imread('qrcode.gif')[:,:,0]\n",
    "N = x.shape[0]\n",
    "plt.imshow(x, cmap=\"gray\")\n",
    "plt.axis(\"off\")"
   ]
  },
  {
   "cell_type": "markdown",
   "metadata": {
    "id": "uHzqVBAK6hpu"
   },
   "source": [
    "Blurring can be performed by convolving $n\\times n$ QR-code with the following filter:\n",
    "\n",
    "$$T_{i_1j_1,i_2j_2} = T_{i_1-j_1,i_2-j_2} = \\frac{\\alpha}{\\pi}e^{-\\alpha[(i_1-j_1)^2 + (i_2-j_2)^2]}, \\quad i_1,j_1,i_2,j_2 = 1 \\ldots n, \\quad 1 > \\alpha > 0.$$\n",
    "\n",
    "You know from lectures that this convolution can be viewed as a matrix-vector multiplication of some BTTB matrix $T$ of size $n^2 \\times n^2$."
   ]
  },
  {
   "cell_type": "markdown",
   "metadata": {
    "id": "nQSQVkG86hpu"
   },
   "source": [
    "## Task 1 (15 pts) \n",
    "\n",
    "- Write function `T_matvec()` that performs multiplication of $T$ by a given vector $x$ efficiently. Remember about FFT.\n",
    "- Use `scipy.sparse.linalg.LinearOperator` to create an object that has attribute `.dot()` (this object will be further used in the iterative process). Note that `.dot()` input and output must be 1D vectors, so do not forget to use reshape."
   ]
  },
  {
   "cell_type": "code",
   "execution_count": 114,
   "metadata": {
    "id": "4HmH8IHfMtjd"
   },
   "outputs": [],
   "source": [
    "import numpy as np"
   ]
  },
  {
   "cell_type": "code",
   "execution_count": 115,
   "metadata": {
    "id": "K6WfkIYrJzsc"
   },
   "outputs": [],
   "source": [
    "def get_toeplitz(x, aplha, N):\n",
    "    axis = np.hstack([np.arange(N), np.arange(1 - N, 0)])\n",
    "    grid = np.meshgrid(axis, axis)\n",
    "\n",
    "#     print(grid)\n",
    "    \n",
    "    N_DIM = 2 * N - 1\n",
    "    \n",
    "    T = np.zeros([N_DIM, N_DIM])\n",
    "    \n",
    "    for i in range(N_DIM):\n",
    "        for j in range(N_DIM):\n",
    "            T[i,j] = alpha / np.pi * np.exp(-alpha * ((grid[0][i,j]**2 + grid[1][i,j]**2)))\n",
    "    \n",
    "    return T"
   ]
  },
  {
   "cell_type": "code",
   "execution_count": 116,
   "metadata": {
    "id": "SKiL6Iky6hpv"
   },
   "outputs": [],
   "source": [
    "def T_matvec(x, alpha, N):\n",
    "    \n",
    "    tmp = x.reshape(int(np.sqrt(x.shape[0])), -1)\n",
    "    padded_x = np.pad(tmp, (N-1, N-1), constant_values=0)[N-1:, N-1:]\n",
    "    \n",
    "    padded_x = np.fft.fft2(padded_x)\n",
    "\n",
    "    T = np.fft.fft2(get_toeplitz(x, alpha, N=N))\n",
    "    \n",
    "    return np.fft.ifft2(padded_x * T)[:N,:N].reshape(1, -1)[0]"
   ]
  },
  {
   "cell_type": "code",
   "execution_count": 117,
   "metadata": {
    "id": "O0y8MglQKcrN"
   },
   "outputs": [
    {
     "data": {
      "image/png": "[encoded data removed]",
      "text/plain": [
       "<Figure size 432x288 with 1 Axes>"
      ]
     },
     "metadata": {
      "needs_background": "light"
     },
     "output_type": "display_data"
    }
   ],
   "source": [
    "alpha=0.1\n",
    "\n",
    "x_noised = T_matvec(x.reshape(-1), alpha=alpha, N=N).reshape(x.shape[0], -1)\n",
    "\n",
    "plt.imshow(np.abs(x_noised), cmap='gray')\n",
    "plt.axis('off')\n",
    "plt.show()"
   ]
  },
  {
   "cell_type": "markdown",
   "metadata": {
    "id": "Vpj3Llkc6hpv"
   },
   "source": [
    "**Remark.** The obtained matrix $T$ is positive definite (at least in the exact arithmetic), hence the conjugate gradient method can be applied to solve with $T$.\n",
    "\n",
    "**Bonus question: Prove the remark above.**"
   ]
  },
  {
   "cell_type": "markdown",
   "metadata": {
    "id": "fyoFYerG6hpw"
   },
   "source": [
    "## Task 2 (10 pts) \n",
    "- For $\\alpha \\in \\{ 0.1, 0.01,0.001\\}$ compute $y=Tx$ and deconvolve $x$ using `scipy.sparse.linalg.cg` with $tol \\in \\{10^{-3}, 10^{-4}, 10^{-5}, 10^{-6}, 10^{-7}\\}$. For each pair $\\alpha$, $tol$ write out `num_iters` and relative error $e = \\frac{\\|x - x^*\\|_2}{\\|x\\|_2}$ .\n",
    "- Comment on the results: \n",
    "\n",
    "    1) why the relative error does not converge to zero? \n",
    "    \n",
    "    2) why the relative error converges to different values for different $\\alpha$?"
   ]
  },
  {
   "cell_type": "code",
   "execution_count": 118,
   "metadata": {},
   "outputs": [],
   "source": [
    "import scipy.sparse.linalg as spla"
   ]
  },
  {
   "cell_type": "code",
   "execution_count": 119,
   "metadata": {},
   "outputs": [],
   "source": [
    "N = x.shape[0]"
   ]
  },
  {
   "cell_type": "code",
   "execution_count": 120,
   "metadata": {},
   "outputs": [],
   "source": [
    "x_star = ~x.reshape(-1)\n",
    "\n",
    "def error_inc(arg):\n",
    "    global errors, x_star\n",
    "    errors.append(np.linalg.norm(arg - x_star, ord=2) / np.linalg.norm(x_star, ord=2))"
   ]
  },
  {
   "cell_type": "code",
   "execution_count": 73,
   "metadata": {
    "id": "1ZziAoPv6hpw"
   },
   "outputs": [
    {
     "name": "stdout",
     "output_type": "stream",
     "text": [
      "0.1 0.001 done\n"
     ]
    }
   ],
   "source": [
    "alphas = [1e-1, 1e-2, 1e-3]\n",
    "tols = [1e-3, 1e-4, 1e-5, 1e-6, 1e-7]\n",
    "\n",
    "errors=[]\n",
    "report = []\n",
    "\n",
    "for alpha in alphas:\n",
    "    for tol in tols: \n",
    "        T = spla.LinearOperator((N**2, N**2), matvec = lambda x : T_matvec(x, alpha, N=N))\n",
    "        \n",
    "        y = T.dot(x_star)\n",
    "        sol, info = spla.cg(T, y, tol=tol, callback=error_inc)\n",
    "\n",
    "        r = (alpha, tol, errors, sol, info)\n",
    "        report.append(r)\n",
    "        print(alpha, tol, 'done')"
   ]
  },
  {
   "cell_type": "code",
   "execution_count": 74,
   "metadata": {},
   "outputs": [
    {
     "name": "stdout",
     "output_type": "stream",
     "text": [
      "alpha: 0.100, tol: 0.0010000, num_iters: 16, err: 0.18597\n"
     ]
    }
   ],
   "source": [
    "for r in report:\n",
    "    print(f'alpha: {r[0]:.3f}, tol: {r[1]:.7f}, num_iters: {len(r[2])}, err: {r[2][-1]:.5f}')"
   ]
  },
  {
   "cell_type": "markdown",
   "metadata": {},
   "source": [
    "Floating point numbers might have influence the convergence, as there are tolerance vals, for those it diverges.\n",
    "It converges to different values for different alpha's because of different condition numbers of Toeplitz's."
   ]
  },
  {
   "cell_type": "markdown",
   "metadata": {
    "id": "lJ4XOLfw6hpx"
   },
   "source": [
    "In all further tasks fix $\\alpha = 0.01$. Compute $y = Tx$, and add vector with Gaussian noise from $\\mathcal{N}(0, 1)$ to $y$ and get the final right-hand side $\\hat{y}$.\n",
    "\n",
    "## Task 3 (10 pts)\n",
    "- Try to deconvolve $\\hat{y}$ with matrix $T$ using $tol=10^{-5}$ in CG. Explain, why CG does not converge.\n",
    "- Suggest how CG can still be used to recover $x$. What are drawbacks of the suggested approach?"
   ]
  },
  {
   "cell_type": "code",
   "execution_count": 75,
   "metadata": {},
   "outputs": [],
   "source": [
    "alpha = .01\n",
    "tol = 1e-5"
   ]
  },
  {
   "cell_type": "code",
   "execution_count": 87,
   "metadata": {
    "id": "JzT0Wfzl6hpx"
   },
   "outputs": [
    {
     "name": "stdout",
     "output_type": "stream",
     "text": [
      "Diverged with = 1.00220\n"
     ]
    }
   ],
   "source": [
    "x_normed = x / 255\n",
    "errors=[]\n",
    "\n",
    "T = spla.LinearOperator((N**2, N**2), matvec = lambda x : T_matvec(x, alpha=0.1, N=N))\n",
    "y = T.dot(x_normed.reshape(-1)) + np.random.normal(0, 1)\n",
    "\n",
    "sol, info = spla.cg(T, y, tol=tol, maxiter=15, callback=error_inc)\n",
    "\n",
    "if info == 0.:\n",
    "    print(f\"Converged with {errors[-1]:.5f}\")\n",
    "else:\n",
    "    print(f'Diverged with = {errors[-1]:.5f}')"
   ]
  },
  {
   "cell_type": "markdown",
   "metadata": {},
   "source": [
    "We added white noise to x and now it doesnt fit original solution. One of modifications is to use regularisation. But, unfortunately, error will rise since approximate estimate of $x$ goes farther from original $x$."
   ]
  },
  {
   "cell_type": "markdown",
   "metadata": {
    "id": "ez3m0Y-n6hpy"
   },
   "source": [
    "## Task 4 (10 pts)\n",
    "\n",
    "- Implement Tikhonov regularization, i.e. deconvolve $\\hat{y}$ with the perturbed matrix $T_{\\lambda} = T + \\lambda^2I$ instead of $T$. Modify `T_matvec()` according to the template below.\n",
    "- Perform computations for all $\\lambda \\in \\{10, 1, 0.1\\}$ and $tol \\in \\{10^{-3}, 10^{-4}, 10^{-5},10^{-6}, 10^{-7} \\}$. For each pair $(\\lambda, tol)$ write out `num_iters` and relative error $e = \\frac{\\|x - x^*\\|_2}{\\|x\\|_2}$. Comment on the results: \n",
    "    - Compare robustness of the convergence with task 2. What the observed results indicate?"
   ]
  },
  {
   "cell_type": "code",
   "execution_count": 121,
   "metadata": {
    "id": "IIs9QI7R6hpy"
   },
   "outputs": [],
   "source": [
    "def T_lmbda_matvec(x, alpha, l_val, N):\n",
    "    tmp = x.reshape(int(np.sqrt(x.shape[0])), -1)\n",
    "    padded_x = np.pad(tmp, (N-1, N-1), constant_values=0)[N-1:, N-1:]\n",
    "    \n",
    "    padded_x = np.fft.fft2(padded_x)\n",
    "\n",
    "    T = get_toeplitz(x, alpha, N)\n",
    "    T += np.eye(len(T), dtype=float) * l_val**2\n",
    "    T = np.fft.fft2(T)\n",
    "    \n",
    "    return np.fft.ifft2(padded_x * T)[:N,:N].reshape(1, -1)"
   ]
  },
  {
   "cell_type": "code",
   "execution_count": 125,
   "metadata": {},
   "outputs": [
    {
     "data": {
      "image/png": "[encoded data removed]",
      "text/plain": [
       "<Figure size 432x288 with 1 Axes>"
      ]
     },
     "metadata": {
      "needs_background": "light"
     },
     "output_type": "display_data"
    }
   ],
   "source": [
    "x_noised = T_lmbda_matvec(y, alpha, 0.01, N).reshape(N, -1)\n",
    "\n",
    "plt.imshow(np.abs(x_noised), cmap='gray')\n",
    "plt.axis('off')\n",
    "\n",
    "plt.show()"
   ]
  },
  {
   "cell_type": "code",
   "execution_count": 132,
   "metadata": {},
   "outputs": [],
   "source": [
    "x_star = ~x.reshape(-1)\n",
    "\n",
    "def error_inc(arg):\n",
    "    global errors, x_star\n",
    "    errors.append(np.linalg.norm(arg - x_star, ord=2) / np.linalg.norm(x_star, ord=2))"
   ]
  },
  {
   "cell_type": "code",
   "execution_count": 135,
   "metadata": {},
   "outputs": [
    {
     "name": "stdout",
     "output_type": "stream",
     "text": [
      "0.1 0.001 done\n"
     ]
    }
   ],
   "source": [
    "lambdas = [1e1, 1e0, 1e-1]\n",
    "tols = [1e-3, 1e-4, 1e-5, 1e-6, 1e-7]\n",
    "\n",
    "errors=[]\n",
    "report = []\n",
    "\n",
    "for lam in lambdas:\n",
    "    for tol in tols: \n",
    "        T_lam = spla.LinearOperator((N**2, N**2), matvec = lambda x : T_lmbda_matvec(x, alpha, lam, N=N))\n",
    "        \n",
    "        y = T_lam.dot(x_star)\n",
    "        sol, info = spla.cg(T_lam, y, tol=tol, callback=error_inc)\n",
    "\n",
    "        r = (lam, tol, errors, sol, info)\n",
    "        report.append(r)\n",
    "        print(alpha, tol, 'done')"
   ]
  },
  {
   "cell_type": "code",
   "execution_count": 136,
   "metadata": {},
   "outputs": [
    {
     "name": "stdout",
     "output_type": "stream",
     "text": [
      "lambda: 10.000, tol: 0.0010000, num_iters: 6, err: 0.81428\n"
     ]
    }
   ],
   "source": [
    "for r in report:\n",
    "    print(f'lambda: {r[0]:.1f}, tol: {r[1]:.7f}, num_iters: {len(r[2])}, err: {r[2][-1]:.5f}')"
   ]
  },
  {
   "cell_type": "markdown",
   "metadata": {},
   "source": [
    "From error values we may guess, that regularization help us to make our system well-conditioned"
   ]
  },
  {
   "cell_type": "markdown",
   "metadata": {
    "id": "ut0QG1AW6hpy"
   },
   "source": [
    "## Task 5 (20 pts)\n",
    "\n",
    "- Implement BCCB preconditioner for $T_{\\lambda}$ based on Strang preconditioner for Toeplitz matrix (hint: build circulants using first columns of Toeplitz matrices on both levels). You know from lectures that circulants can be explicitly inverted using convolution theorem. Implement the corresponding matvec according to the template provided below.\n",
    "- Check speedup in iterations and runtime that can be gained from the preconditioning for $\\alpha = 0.01$, $\\lambda = 1$ compared with Task 4. Explain results."
   ]
  },
  {
   "cell_type": "code",
   "execution_count": null,
   "metadata": {
    "id": "DiJcm6XQ6hpz"
   },
   "outputs": [],
   "source": [
    "def C_inv_matvec(x, alpha, lmbda):\n",
    "    pass\n",
    "\n",
    "# your code is here"
   ]
  }
 ],
 "metadata": {
  "colab": {
   "collapsed_sections": [
    "ISg6SK0KXBiE",
    "EW03OdAg94yK",
    "3WfXg-fs9489",
    "-hapuG2dzfuV"
   ],
   "name": "Vladimir_Chernyy_PS3.ipynb",
   "provenance": []
  },
  "kernelspec": {
   "display_name": "firstEnv",
   "language": "python",
   "name": "firstenv"
  },
  "language_info": {
   "codemirror_mode": {
    "name": "ipython",
    "version": 3
   },
   "file_extension": ".py",
   "mimetype": "text/x-python",
   "name": "python",
   "nbconvert_exporter": "python",
   "pygments_lexer": "ipython3",
   "version": "3.8.8"
  },
  "toc": {
   "base_numbering": 1,
   "nav_menu": {},
   "number_sections": true,
   "sideBar": true,
   "skip_h1_title": false,
   "title_cell": "Table of Contents",
   "title_sidebar": "Contents",
   "toc_cell": false,
   "toc_position": {},
   "toc_section_display": true,
   "toc_window_display": false
  }
 },
 "nbformat": 4,
 "nbformat_minor": 4
}
