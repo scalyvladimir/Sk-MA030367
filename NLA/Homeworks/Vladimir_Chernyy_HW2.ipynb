{
 "cells": [
  {
   "cell_type": "markdown",
   "metadata": {
    "id": "t9v1vX4-OGIT"
   },
   "source": [
    "# Problem set 2 (45 + 50 + 33 + 15 = 143 pts)"
   ]
  },
  {
   "cell_type": "markdown",
   "metadata": {
    "id": "FOMNJ4TcOGIV"
   },
   "source": [
    "## Problem 1 (LU decomposition) 45 pts\n"
   ]
  },
  {
   "cell_type": "markdown",
   "metadata": {
    "id": "pYHDl6ppOGIV"
   },
   "source": [
    "### 1. LU  for band matrices and Cholesky decomposition (13 pts)\n",
    "\n",
    "The complexity to find an LU decomposition of a dense $n\\times n$ matrix is $\\mathcal{O}(n^3)$.\n",
    "Significant reduction in complexity can be achieved if the matrix has a certain structure, e.g. it is sparse. \n",
    "In the following task we consider an important example of $LU$ for a special type of matrices –– band matrices with top left entry equal to 1 and the bandwidth $m$ equal to 3 or 5 which called tridiagonal and pentadiagonal respectively. The bands may be ```[1, 2, 1]``` and ```[1, 1, 2, 1, 1]``` respectively\n",
    "\n",
    "- (4 pts) Write a function ```band_lu(diag_broadcast, n)``` which computes LU decomposition for tridiagonal or pentadiagonal matrix with top left entry equal to 1 with given diagonal bands. \n",
    "For example, input parametres ```(diag_broadcast = [1,2,1], n = 4)``` mean that we need to find LU decomposition for the triangular matrix of the form:\n",
    "\n",
    "$$A = \\begin{pmatrix}\n",
    "1 & 1 & 0 & 0\\\\\n",
    "1 & 2 & 1 & 0 \\\\\n",
    "0 & 1 & 2 & 1 \\\\\n",
    "0 & 0 & 1 & 2 \\\\\n",
    "\\end{pmatrix}.$$\n",
    "\n",
    "Provide the extensive testing of the implemented function that will works correctly for large $n$,  e.g. $n=100$.\n",
    "As an output it is considered to make ```L``` and ```U``` - 2D arrays representing diagonals in factors $L$ (```L[0]``` keeps first lower diagonal, ```L[1]``` keeps second lower, ...), and $U$ (```U[:,0]``` keeps main diagonal, ```U[:,1]``` keeps first upper, ...).\n",
    "\n",
    "- (2 pts) Compare execution time of the band LU decomposition using standard function from ```scipy```, i.e. which takes the whole matrix and does not know about its special structure, and band decomposition of yours implementation. Comment on the results.\n",
    "\n",
    "- (7 pts) Write a function ```cholesky(n)``` for computing Cholesky decomposition. It should take the the single argument - the matrix that will be factorized and return the single output - lower-triangular factor $L$. Think about the efficiency of your implementation and if necessary update it to achieve the best performance (eliminate Python loops, where it is possible and so on). Explicitly describe the difference with LU decomposition that reduces the complexity from $2n^3/3$ for LU to $n^3/3$ for Cholesky. \n",
    "Test the implemented function on the Pascal matrix of given size $n$ for $n = 5, 10, 50$. \n",
    "Pascal matrix is square matrix of the following form (here for $n=4$)\n",
    "$$P = \\begin{pmatrix}\n",
    "1 & 1 & 1 & 1\\\\\n",
    "1 & 2 & 3 & 4 \\\\\n",
    "1 & 3 & 6 & 10 \\\\\n",
    "1 & 4 & 10 & 20 \\\\\n",
    "\\end{pmatrix}.$$\n",
    "\n",
    "    [Here](https://en.wikipedia.org/wiki/Pascal_matrix) you can find more details about such matrices and analytical form for factor $L$ from Cholesky decomposition. Compare the result of your implementation with analytical expression in terms of some matrix norm of difference.  "
   ]
  },
  {
   "cell_type": "markdown",
   "metadata": {
    "id": "V3cTX8P6xED6"
   },
   "source": [
    "### 1)"
   ]
  },
  {
   "cell_type": "code",
   "execution_count": 1,
   "metadata": {
    "id": "AJ6umn6ebyL5"
   },
   "outputs": [],
   "source": [
    "from scipy.sparse import diags # can be used with broadcasting of scalars if desired dimensions are large\n",
    "import numpy as np"
   ]
  },
  {
   "cell_type": "code",
   "execution_count": 2,
   "metadata": {
    "id": "BvY7icWBOGIW"
   },
   "outputs": [],
   "source": [
    "# INPUT : diag_broadcast - list of diagonals value to broadcast,length equal to 3 or 5; n - integer, band matrix shape.\n",
    "# OUTPUT : L - 2D np.ndarray, L.shape[0] depends on bandwidth, L.shape[1] = n-1, do not store main diagonal, where all ones;                  add zeros to the right side of rows to handle with changing length of diagonals.\n",
    "#          U - 2D np.ndarray, U.shape[0] = n, U.shape[1] depends on bandwidth;\n",
    "#              add zeros to the bottom of columns to handle with changing length of diagonals.\n",
    "def band_lu(diag_broadcast, n):\n",
    "    if len(diag_broadcast) == 3:\n",
    "        a, b, c = tuple([float(x) for x in diag_broadcast])\n",
    "\n",
    "        alpha, beta = np.zeros(n-1), np.repeat(1., n)\n",
    "        \n",
    "        for i in range(1, n):\n",
    "            alpha[i-1] = a / beta[i-1]\n",
    "            beta[i] = b - alpha[i-1] * c\n",
    "\n",
    "        L, U = alpha, [beta, np.repeat(c, n-1)]\n",
    "        \n",
    "    elif len(diag_broadcast) == 5:\n",
    "        \n",
    "        a, b, c, d, e = tuple([float(x) for x in diag_broadcast])\n",
    "\n",
    "        mu = np.repeat(1., n)\n",
    "        beta = np.repeat(a / mu[0], n-2)\n",
    "        alpha = np.repeat(b / mu[0], n-1) \n",
    "        nu = np.repeat(d, n-1)\n",
    "\n",
    "        mu[1] = c - alpha[0] * nu[0]\n",
    "\n",
    "        for i in range(1, n-1):\n",
    "            if i < n-2:\n",
    "                beta[i] = a / mu[i]\n",
    "            alpha[i] = (b - beta[i-1] * nu[i-1]) / mu[i]\n",
    "            nu[i] = d - alpha[i-1] * e\n",
    "            mu[i+1] = c - beta[i-1] * e - alpha[i] * nu[i]\n",
    "            \n",
    "        L, U = [beta, alpha], [mu, nu, np.repeat(e, n-2)]\n",
    "        \n",
    "    else:\n",
    "        raise NotImplementedError\n",
    "\n",
    "    return L, U"
   ]
  },
  {
   "cell_type": "markdown",
   "metadata": {
    "id": "StdUi9EkaRKT"
   },
   "source": [
    "### 2)"
   ]
  },
  {
   "cell_type": "markdown",
   "metadata": {
    "id": "9SWSQZD-w_SN"
   },
   "source": [
    "### Perform consistency test for 3x3:"
   ]
  },
  {
   "cell_type": "code",
   "execution_count": 3,
   "metadata": {
    "id": "5zmywZVr5Y9P"
   },
   "outputs": [],
   "source": [
    "N = 3"
   ]
  },
  {
   "cell_type": "code",
   "execution_count": 4,
   "metadata": {
    "id": "HH7Ryll2w_y9"
   },
   "outputs": [],
   "source": [
    "a = [1, 2, 1]\n",
    "\n",
    "l, u = band_lu(a, n=N)\n",
    "\n",
    "d_list = [l, u[0]]\n",
    "\n",
    "L = diags(d_list, [-1, 0], shape=(N, N)).toarray()\n",
    "U = diags(u, [0, 1], shape=(N, N)).toarray()\n",
    "\n",
    "A = diags(a, [-1, 0, 1], shape=(N, N)).toarray()\n",
    "A[0, 0] = 1."
   ]
  },
  {
   "cell_type": "code",
   "execution_count": 5,
   "metadata": {
    "id": "2H0siiT85mcN"
   },
   "outputs": [],
   "source": [
    "assert np.allclose(L @ U, A)"
   ]
  },
  {
   "cell_type": "markdown",
   "metadata": {
    "id": "tYhNb70wzZrh"
   },
   "source": [
    "### Perform consistency test for 5x5:"
   ]
  },
  {
   "cell_type": "code",
   "execution_count": 6,
   "metadata": {
    "id": "hpfWtlVP5ekD"
   },
   "outputs": [],
   "source": [
    "N = 5"
   ]
  },
  {
   "cell_type": "code",
   "execution_count": 7,
   "metadata": {
    "id": "Kpwyaeji3N-O"
   },
   "outputs": [],
   "source": [
    "a = [1, 2, 3, 2, 1]\n",
    "\n",
    "l, u = band_lu(a, n=N)\n",
    "\n",
    "d_list = [*l, 1]\n",
    "\n",
    "L = diags(d_list, [-2, -1, 0], shape=(N, N)).toarray()\n",
    "U = diags([u[0], u[1], u[2]], [0, 1, 2], shape=(N, N)).toarray()\n",
    "\n",
    "A = diags(a, [-2, -1, 0, 1, 2], shape=(N, N)).toarray()\n",
    "A[0, 0] = 1."
   ]
  },
  {
   "cell_type": "code",
   "execution_count": 8,
   "metadata": {
    "id": "SkbfseBF38oI"
   },
   "outputs": [],
   "source": [
    "assert np.allclose(L @ U, A)"
   ]
  },
  {
   "cell_type": "markdown",
   "metadata": {
    "id": "vtK1ZIph38tO"
   },
   "source": [
    "### Same tests, but for $n = 100$:"
   ]
  },
  {
   "cell_type": "code",
   "execution_count": 9,
   "metadata": {
    "id": "XVySYJbTOGIa"
   },
   "outputs": [],
   "source": [
    "N = 100"
   ]
  },
  {
   "cell_type": "code",
   "execution_count": 10,
   "metadata": {
    "id": "bblwbDcXZ_BD"
   },
   "outputs": [],
   "source": [
    "a = [1, 2, 1]\n",
    "\n",
    "l, u = band_lu(a, n=N)\n",
    "\n",
    "d_list = [l, u[0]]\n",
    "\n",
    "L = diags(d_list, [-1, 0], shape=(N, N)).toarray()\n",
    "U = diags(u, [0, 1], shape=(N, N)).toarray()\n",
    "\n",
    "A = diags(a, [-1, 0, 1], shape=(N, N)).toarray()\n",
    "A[0, 0] = 1."
   ]
  },
  {
   "cell_type": "code",
   "execution_count": 11,
   "metadata": {
    "id": "3OQrNDfFZ_YI"
   },
   "outputs": [],
   "source": [
    "assert np.allclose(L @ U, A)"
   ]
  },
  {
   "cell_type": "code",
   "execution_count": 12,
   "metadata": {
    "id": "jU8F1EFWafZJ"
   },
   "outputs": [],
   "source": [
    "a = [1, 8, 1, 4, 1]\n",
    "\n",
    "l, u = band_lu(a, n=N)\n",
    "\n",
    "d_list = [*l, 1]\n",
    "\n",
    "L = diags(d_list, [-2, -1, 0], shape=(N, N)).toarray()\n",
    "U = diags([u[0], u[1], u[2]], [0, 1, 2], shape=(N, N)).toarray()\n",
    "\n",
    "A = diags(a, [-2, -1, 0, 1, 2], shape=(N, N)).toarray()\n",
    "A[0, 0] = 1."
   ]
  },
  {
   "cell_type": "code",
   "execution_count": 13,
   "metadata": {
    "id": "9EJaUoh3afzg"
   },
   "outputs": [],
   "source": [
    "assert np.allclose(L @ U, A)"
   ]
  },
  {
   "cell_type": "markdown",
   "metadata": {
    "id": "-XRr9PhGaz21"
   },
   "source": [
    "### Let's compare our approach's performance with out-of-box solution:"
   ]
  },
  {
   "cell_type": "markdown",
   "metadata": {
    "id": "8X5yab_Pp8Oz"
   },
   "source": [
    "### 3)"
   ]
  },
  {
   "cell_type": "code",
   "execution_count": 14,
   "metadata": {
    "id": "Fvq7zW5Ddj86"
   },
   "outputs": [],
   "source": [
    "import scipy.linalg\n",
    "from timeit import default_timer"
   ]
  },
  {
   "cell_type": "code",
   "execution_count": 15,
   "metadata": {
    "id": "1SWm_5jfcNoh"
   },
   "outputs": [],
   "source": [
    "n_vals = [i for i in range(5, 1001)]"
   ]
  },
  {
   "cell_type": "code",
   "execution_count": 16,
   "metadata": {
    "id": "kk4hiOkmbFDy"
   },
   "outputs": [],
   "source": [
    "a = [1, 8, 1, 4, 1]\n",
    "\n",
    "custom_times = []\n",
    "\n",
    "start = default_timer()\n",
    "for n in n_vals:\n",
    "    band_lu(a, n=n)\n",
    "    custom_times.append(default_timer() - start)\n",
    "\n",
    "box_times = []\n",
    "\n",
    "start = default_timer()\n",
    "for n in n_vals:\n",
    "    A = diags(a, [-2, -1, 0, 1, 2], shape=(n, n)).toarray()\n",
    "    A[0, 0] = 1.\n",
    "\n",
    "    scipy.linalg.lu(A)\n",
    "    box_times.append(default_timer() - start)"
   ]
  },
  {
   "cell_type": "code",
   "execution_count": 17,
   "metadata": {
    "id": "RtLn4wDazd8_"
   },
   "outputs": [],
   "source": [
    "import matplotlib.pyplot as plt"
   ]
  },
  {
   "cell_type": "code",
   "execution_count": 18,
   "metadata": {
    "colab": {
     "base_uri": "https://localhost:8080/",
     "height": 337
    },
    "id": "LlNJw0apzYsj",
    "outputId": "b15f5e43-2b54-4163-b96c-361990286ffd"
   },
   "outputs": [
    {
     "data": {
      "image/png": "[encoded data removed]",
      "text/plain": [
       "<Figure size 1080x360 with 1 Axes>"
      ]
     },
     "metadata": {
      "needs_background": "light"
     },
     "output_type": "display_data"
    }
   ],
   "source": [
    "plt.figure(figsize=(15, 5))\n",
    "\n",
    "plt.plot(n_vals, custom_times, label='Bandwidth approach')\n",
    "\n",
    "plt.plot(n_vals, box_times, color='orange', label='Out-of-box approach')\n",
    "\n",
    "\n",
    "plt.xlabel('$N$, order of matrix')\n",
    "plt.ylabel('$t$, secs')\n",
    "plt.legend()\n",
    "plt.grid()\n",
    "plt.show()"
   ]
  },
  {
   "cell_type": "markdown",
   "metadata": {
    "id": "NaWqBvqmbFYy"
   },
   "source": [
    "#### Thus, we witnessed, that bandwidth matrix approach performs better and we should pay attention to how store our data"
   ]
  },
  {
   "cell_type": "markdown",
   "metadata": {
    "id": "7Hts1njAZ_cB"
   },
   "source": [
    "### 4)"
   ]
  },
  {
   "cell_type": "code",
   "execution_count": 19,
   "metadata": {
    "id": "XIAXjh6bZ_ff"
   },
   "outputs": [],
   "source": [
    "def cholesky(A):\n",
    "    L = np.zeros(A.shape)\n",
    "\n",
    "    for j in range(L.shape[0]):\n",
    "        s = np.sum(np.power(L[j, :j], 2))\n",
    "\n",
    "        L[j, j] = np.sqrt(A[j, j] - s)\n",
    "\n",
    "        for i in range(j+1, L.shape[0]):\n",
    "            s = np.sum(np.multiply(L[i, :j], L[j, :j]))\n",
    "            L[i, j] = 1. / L[j, j] * (A[i, j] - s)\n",
    "\n",
    "    return L"
   ]
  },
  {
   "cell_type": "markdown",
   "metadata": {
    "id": "DoO235YKqR5x"
   },
   "source": [
    "$$\n",
    "T(Cholesky) \\approx \\sum_{j=0}^{n-1}\\left(j + 1 + \\sum_{i=j+1}^{n-1}(j + 1)\\right) \\approx \\sum_{j=0}^{n-1} \\left(j + 1 + (n - j - 1)(j + 1)\\right) = \\sum_{j=0}^{n-1} (n + nj - j^2 - j) = n^2 + n\\frac{n(n-1)}{2} - \\frac{n(n-1)(2n-1)}{6} - \\frac{n(n-1)}{2} \\approx \\frac{n^3}{2} - \\frac{n^3}{3} = \\frac{n^3}{6} = \\mathcal{O}(n^3) \n",
    "$$"
   ]
  },
  {
   "cell_type": "markdown",
   "metadata": {
    "id": "IKLoa_OT0vxL"
   },
   "source": [
    "Well, i implemented slightly more efficient Cholesky, that is was expected, but anyway it'll take twice more time to find $LU$, because Cholesky requires computations for one triangular matrix, and it's quiet obvious, that $LU$ will take about twice more time."
   ]
  },
  {
   "cell_type": "markdown",
   "metadata": {
    "id": "4Bkte_bvka5v"
   },
   "source": [
    "### Cholesky consistency test:"
   ]
  },
  {
   "cell_type": "code",
   "execution_count": 20,
   "metadata": {
    "id": "FsCHSxcGoToA"
   },
   "outputs": [],
   "source": [
    "def get_pascal_matrix(n):\n",
    "    C = np.array([[0 for x in range(2 * n + 1)] \n",
    "                  for y in range(2 * n + 1)],\n",
    "                  dtype=float)\n",
    "             \n",
    "    for i in range(2 * n + 1):\n",
    "        for j in range(min(i, 2 * n) + 1):\n",
    "             \n",
    "            if j == 0 or j == i:\n",
    "                C[i, j] = 1.\n",
    "            else:\n",
    "                C[i, j] = C[i-1, j-1] + C[i-1, j]\n",
    " \n",
    "    P = np.zeros((n, n), dtype=float)\n",
    "    for i in range(n):\n",
    "        for j in range(n):\n",
    "            P[i, j] = C[i+j, i]\n",
    " \n",
    "    return P"
   ]
  },
  {
   "cell_type": "code",
   "execution_count": 21,
   "metadata": {
    "colab": {
     "base_uri": "https://localhost:8080/"
    },
    "id": "F0zrUqgOUqCS",
    "outputId": "a89d4467-4a6d-44c9-9413-b4ef0d3317e4"
   },
   "outputs": [
    {
     "name": "stdout",
     "output_type": "stream",
     "text": [
      "Fail encountered for n = 50\n",
      "\n"
     ]
    },
    {
     "name": "stderr",
     "output_type": "stream",
     "text": [
      "/usr/local/lib/python3.7/dist-packages/ipykernel_launcher.py:7: RuntimeWarning: invalid value encountered in sqrt\n",
      "  import sys\n"
     ]
    },
    {
     "data": {
      "text/plain": [
       "True"
      ]
     },
     "execution_count": 21,
     "metadata": {},
     "output_type": "execute_result"
    }
   ],
   "source": [
    "for n in [5, 10, 50]:\n",
    "    P = get_pascal_matrix(n)\n",
    "    L = cholesky(P)\n",
    "\n",
    "    if not np.allclose(L @ L.T, P):\n",
    "        print(f'Fail encountered for n = {n}\\n')\n",
    "\n",
    "np.allclose(np.array(scipy.linalg.pascal(50), dtype=float), get_pascal_matrix(50))"
   ]
  },
  {
   "cell_type": "markdown",
   "metadata": {
    "id": "_iM6NwHQOGId"
   },
   "source": [
    "### 2. Stability of LU (8 pts)\n",
    "\n",
    "* (4 pts) Show, that for these  matrices $A$ and $B$ LU decomposition fails. Why does it happen?\n",
    "\n",
    "\n",
    "\n",
    "$\n",
    "A = \\begin{pmatrix}\n",
    "0 & 1 \\\\\n",
    "2 & 3\n",
    "\\end{pmatrix}.$ \n",
    "\n",
    "$B = \\begin{pmatrix}\n",
    "1 & 1 & 0\\\\\n",
    "1 & 1 & 2 \\\\\n",
    "1 & 2 & 1\n",
    "\\end{pmatrix}.$ \n",
    "\n",
    "* (4 pts) In the LU decomposition, a pivot position is a position of the element that identifies the row and column that will be eliminated in the current step. For example, first pivot in LU is usually the left top element. What value of $c$ leads to zero in the second pivot position? What $c$ produces zero in the third pivot position? What modification of LU should we use in order to address the possible zeros in pivot position?\n",
    "\n",
    "$A = \\begin{pmatrix}\n",
    "1 & c & 0\\\\\n",
    "2 & 4 & 1 \\\\\n",
    "3 & 5 & 1\n",
    "\\end{pmatrix}.$ "
   ]
  },
  {
   "cell_type": "markdown",
   "metadata": {
    "id": "mXmyaZnK7nFO"
   },
   "source": [
    "### 1)"
   ]
  },
  {
   "cell_type": "markdown",
   "metadata": {
    "id": "l_HyoB6W6XSX"
   },
   "source": [
    "$\\left(\\begin{array}{ll}0 & 1 \\\\ 2 & 3\\end{array}\\right)=\\left(\\begin{array}{ll}1 & 0 \\\\ \\alpha & 1\\end{array}\\right)\\left(\\begin{array}{ll}\\beta & \\gamma \\\\ 0 & \\varepsilon\\end{array}\\right)$\n",
    "\n",
    "Obtained:\n",
    "\n",
    "$\\beta=0$\n",
    "\n",
    "$\\varepsilon=1$\n",
    "\n",
    "$\\alpha \\beta=2$\n",
    "\n",
    "From the other hand:\n",
    "\n",
    "$\\alpha \\beta= \\alpha \\cdot 0 \\neq2$.\n",
    "\n",
    "Contradiction.\n",
    "\n",
    "$\\Rightarrow$ we can't express A in terms of LU."
   ]
  },
  {
   "cell_type": "markdown",
   "metadata": {
    "id": "WydiYvrn64Op"
   },
   "source": [
    "$\\left(\\begin{array}{ll}1 & 1 & 0 \\\\ 1 & 2 & 2 \\\\ 1 & 2 & 1\\end{array}\\right)=\\left(\\begin{array}{lll}1 & 0 & 0 \\\\ \\alpha_{1} & 1 & 0\\\\ \\alpha_{2} & \\alpha_{3} & 1\\end{array}\\right)\\left(\\begin{array}{lll}\\beta_{1} & \\gamma_{1} & \\varepsilon \\\\ 0 & \\beta_{2} & \\gamma_{2} \\\\ 0 & 0 & \\beta_{2}\\end{array}\\right)$\n",
    "\n",
    "Similarly, got:\n",
    "\n",
    "$\\beta_{1}=1 \\quad \\alpha_{1}\\beta_{1}=1 \\Rightarrow \\alpha_{1}=1$\n",
    "\n",
    "$\\gamma_{1}=1 \\quad \\alpha_{1} \\gamma_{1}+\\beta_{2}=1 \\Rightarrow \\beta_{2}=0$\n",
    "\n",
    "$\\varepsilon=0 \\quad \\alpha_{1} \\varepsilon+\\gamma_{2}=2 \\Rightarrow \\gamma_{2}=2$\n",
    "\n",
    "$\\alpha_{2} \\beta_{1}=1 \\Rightarrow \\alpha_{2}=1$\n",
    "\n",
    "$\\alpha_{2} \\gamma_{1}+\\alpha_{1} \\beta_{2}=2$\n",
    "\n",
    "From the other side,\n",
    "\n",
    "$\\alpha_{2} \\gamma_{1}+\\alpha_{1} \\beta_{2}= 1 \\cdot 1+1\\cdot 0 \\neq 2$\n",
    "\n",
    "Contradiction."
   ]
  },
  {
   "cell_type": "markdown",
   "metadata": {
    "id": "b9gr8lRC-B-X"
   },
   "source": [
    "### 2)"
   ]
  },
  {
   "cell_type": "markdown",
   "metadata": {
    "id": "kbsLXeAG_P89"
   },
   "source": [
    "### LU only exists if A is strictly regular(all leading minors is positive). Let's find such $c$ values, that fail LU in our case:"
   ]
  },
  {
   "cell_type": "markdown",
   "metadata": {
    "id": "jHE2XefV_PqU"
   },
   "source": [
    "$\\det\\left(\\begin{array}{ll}1 & c \\\\ 2 & 4\\end{array}\\right)=4-2c =0 \\iff c=2$"
   ]
  },
  {
   "cell_type": "markdown",
   "metadata": {
    "id": "Bo8jP-osAUC5"
   },
   "source": [
    "$\\operatorname{det}\\left(\\begin{array}{lll}1 & c & 0 \\\\ 2 & 4 & 1 \\\\ 3 & 5 & 1\\end{array}\\right)=-1 + c=0 \\iff c=1$"
   ]
  },
  {
   "cell_type": "markdown",
   "metadata": {
    "id": "8IO5l9PR_PUe"
   },
   "source": [
    "#### From lectures we know that in this case we should use PLU decomposition."
   ]
  },
  {
   "cell_type": "markdown",
   "metadata": {
    "id": "YFc3BR_TOGIj"
   },
   "source": [
    "### 3. Implementation of PLU decomposition (14 pts)\n",
    "\n",
    "As you have noticed before, LU decomposition may fail. In order to make it stable, we can use LU decomposition with pivoting  (PLU).\n",
    "\n",
    "We want to find such permutation matrix $P$ that LU decomposition of $PA$ exists\n",
    "\n",
    "$$ PA = LU $$\n",
    "\n",
    "- (7 pts) Implement efficiently PLU decomposition (without loops and with appropriate level of BLAS operations).  Also, pay attention to the way of permutation matrix storage.\n",
    "\n",
    "- (4 pts ) Compare your function for computing PLU with built-in function on matrices of such type ```(mirror_diag = [1,2,1], n = 4)```. (Bandwidth and matrix size may vary). So, you can pass them as dense 2D NumPy array and do not tune your implementation to this special structure. Compare them in terms of running time (use ```%timeit``` magic) for range of dimensions to recover the asymptotic rate of time increasing and in terms of acuracy. We expect you plot the running time vs matrix dimension for built-in function and your implementation. So you should get the plot with two lines.\n",
    "Consider additionally one of the pathological examples from above, where LU fails, but PLU has to work.\n",
    "\n",
    "\n",
    "$$A = \\begin{pmatrix}\n",
    "0 & 0 & 1 & 1 \\\\\n",
    " 0 &1 & 2 & 1  \\\\\n",
    " 1 & 2 & 1  & 0\\\\\n",
    "1 & 2  & 0 & 0  \\\\\n",
    "\\end{pmatrix}.$$\n",
    "\n",
    "\n",
    "- (3 pts) Discuss the obtained results and explain how is it possible to accelerate computing the PLU factorization. \n",
    "\n",
    "NumPy or JAX are both ok in this problem, but please use the single library for all implementations. "
   ]
  },
  {
   "cell_type": "markdown",
   "metadata": {
    "id": "10JuQ3hSBDmS"
   },
   "source": [
    "### 1)"
   ]
  },
  {
   "cell_type": "code",
   "execution_count": 26,
   "metadata": {
    "id": "32HpfOPMOGIg"
   },
   "outputs": [],
   "source": [
    "def get_plu(A):\n",
    "    P, L, U = np.eye(A.shape[0]), np.eye(A.shape[0]), np.array(A, dtype=float)\n",
    "    \n",
    "    for i in range(A.shape[0]):\n",
    "        if not np.isclose(np.abs(U[i, i]), 0.):\n",
    "                continue\n",
    "        for k in range(i, A.shape[0]-1):  \n",
    "            U[k], U[k+1] = U[k+1], U[k]\n",
    "            P[k], P[k+1] = P[k+1], P[k]\n",
    "            \n",
    "        L[i+1:, i] = U[i+1:, i] / U[i, i]\n",
    "        U[i+1:] -= L[i+1:, i][np.newaxis, :].T * U[i]\n",
    "        \n",
    "    return P, L, U"
   ]
  },
  {
   "cell_type": "markdown",
   "metadata": {
    "id": "YKqo51Cj8TiB"
   },
   "source": [
    "#### Consistency of custom PLU:"
   ]
  },
  {
   "cell_type": "code",
   "execution_count": 27,
   "metadata": {
    "colab": {
     "base_uri": "https://localhost:8080/"
    },
    "id": "WfyBrnTfCpK7",
    "outputId": "66465c3e-3dc5-4eba-e5c6-3fd72335e30e"
   },
   "outputs": [
    {
     "data": {
      "text/plain": [
       "True"
      ]
     },
     "execution_count": 27,
     "metadata": {},
     "output_type": "execute_result"
    }
   ],
   "source": [
    "A = np.array(np.random.randint(100, size=(5, 5)))\n",
    "    \n",
    "p, l, u = get_plu(A)\n",
    "P, L, U = scipy.linalg.lu(A)\n",
    "\n",
    "np.allclose(p @ l @ u, P @ L @ U)"
   ]
  },
  {
   "cell_type": "markdown",
   "metadata": {
    "id": "gpN0V9X0GdVK"
   },
   "source": [
    "### 2)"
   ]
  },
  {
   "cell_type": "code",
   "execution_count": 30,
   "metadata": {
    "id": "2mMmLMB2DF4r"
   },
   "outputs": [],
   "source": [
    "n_vals = [i for i in [5, 10, 50, 100, 500, 1000]]\n",
    "    \n",
    "custom_times = []\n",
    "\n",
    "start = default_timer()\n",
    "for n in n_vals:\n",
    "    A = np.array(np.random.randint(100, size=(n, n)))\n",
    "    get_plu(A)\n",
    "    custom_times.append(default_timer() - start)\n",
    "\n",
    "box_times = []\n",
    "\n",
    "start = default_timer()\n",
    "for n in n_vals:\n",
    "    A = np.array(np.random.randint(100, size=(n, n)), dtype=float)\n",
    "    scipy.linalg.lu(A)\n",
    "    box_times.append(default_timer() - start)"
   ]
  },
  {
   "cell_type": "code",
   "execution_count": 31,
   "metadata": {
    "colab": {
     "base_uri": "https://localhost:8080/",
     "height": 341
    },
    "id": "uujdUZHOz5kU",
    "outputId": "a1f22429-8433-4172-a402-f4686fc8f72c"
   },
   "outputs": [
    {
     "data": {
      "image/png": "[encoded data removed]",
      "text/plain": [
       "<Figure size 1080x360 with 1 Axes>"
      ]
     },
     "metadata": {
      "needs_background": "light"
     },
     "output_type": "display_data"
    }
   ],
   "source": [
    "plt.figure(figsize=(15, 5))\n",
    "\n",
    "plt.plot(n_vals, custom_times, label='Custom PLU approach')\n",
    "\n",
    "plt.plot(n_vals, box_times, color='orange', label='Out-of-box PLU approach')\n",
    "\n",
    "plt.xlabel('$N$, order of matrix')\n",
    "plt.ylabel('$t$, secs')\n",
    "plt.xscale('log')\n",
    "plt.legend()\n",
    "plt.grid()\n",
    "plt.show()"
   ]
  },
  {
   "cell_type": "markdown",
   "metadata": {
    "id": "LhdQVD2PEsAv"
   },
   "source": [
    "#### Our implementation seems worse, maybe its because of lack of vectorization"
   ]
  },
  {
   "cell_type": "markdown",
   "metadata": {
    "id": "XZUUXVH_HILr"
   },
   "source": [
    "#### $LU$ fails then our matrix is not strictrly regular(it's highly probable for some arbitrary matrix, but let's just use simple example with non-positive main minors)"
   ]
  },
  {
   "cell_type": "code",
   "execution_count": 32,
   "metadata": {
    "colab": {
     "base_uri": "https://localhost:8080/"
    },
    "id": "uI-72rvCHG4b",
    "outputId": "266c7ce6-df64-47be-a34c-547176ceff8f"
   },
   "outputs": [
    {
     "data": {
      "text/plain": [
       "False"
      ]
     },
     "execution_count": 32,
     "metadata": {},
     "output_type": "execute_result"
    }
   ],
   "source": [
    "A = np.array([[-1, 1], [3, -3]])\n",
    "\n",
    "_, L, U = scipy.linalg.lu(A)\n",
    "\n",
    "np.allclose(L @ U, A)"
   ]
  },
  {
   "cell_type": "markdown",
   "metadata": {
    "id": "n8DKQDsmIFbT"
   },
   "source": [
    "#### What's about $PLU$?"
   ]
  },
  {
   "cell_type": "code",
   "execution_count": 33,
   "metadata": {
    "colab": {
     "base_uri": "https://localhost:8080/"
    },
    "id": "-JSoyz5LIJb_",
    "outputId": "41fce009-a706-4c38-e89a-3c0b07eb52f4"
   },
   "outputs": [
    {
     "data": {
      "text/plain": [
       "True"
      ]
     },
     "execution_count": 33,
     "metadata": {},
     "output_type": "execute_result"
    }
   ],
   "source": [
    "P, L, U = scipy.linalg.lu(A)\n",
    "\n",
    "np.allclose(P @ L @ U, A)"
   ]
  },
  {
   "cell_type": "markdown",
   "metadata": {
    "id": "uUdxkkZHhJHF"
   },
   "source": [
    "#### Seems ok 🍺"
   ]
  },
  {
   "cell_type": "markdown",
   "metadata": {
    "id": "EQwdRJSIOGIg"
   },
   "source": [
    "### 4. Block LU (10 pts)\n",
    "\n",
    "Let $A = \\begin{bmatrix} A_{11} & A_{12} \\\\ A_{21} & A_{22} \\end{bmatrix}$ be a block matrix. The goal is to solve the linear system\n",
    "\n",
    "$$\n",
    "     \\begin{bmatrix} A_{11} & A_{12} \\\\ A_{21} & A_{22} \\end{bmatrix} \\begin{bmatrix} u_1 \\\\ u_2 \\end{bmatrix} = \\begin{bmatrix} f_1 \\\\ f_2 \\end{bmatrix}.\n",
    "$$\n",
    "\n",
    "* (2 pts) Using block elimination find matrix $S$ and right-hand side $\\hat{f_2}$ so that $u_2$ can be found from $S u_2 = \\hat{f_2}$. Note that the matrix $S$ is called <span style=\"color:red\">Schur complement</span> of the block $A_{11}$.\n",
    "* (4 pts) Using Schur complement properties prove that \n",
    "\n",
    "$$\\det(X+AB) = \\det(X)\\det(I+BX^{-1}A), $$\n",
    "\n",
    "\n",
    "where $X$ - nonsingular square matrix.\n",
    "* (4 pts) Let matrix $F \\in \\mathbb{R}^{m \\times n}$ and $G \\in \\mathbb{R}^{n \\times m}$. Prove that \n",
    "\n",
    "$$\\det(I_m - FG) = \\det(I_n - GF).$$"
   ]
  },
  {
   "cell_type": "markdown",
   "metadata": {
    "id": "Zou51BUVD9WK"
   },
   "source": [
    "### 1)"
   ]
  },
  {
   "cell_type": "markdown",
   "metadata": {
    "id": "XFOzTFz7D9N2"
   },
   "source": [
    "Let's transform $$\n",
    "     \\begin{bmatrix} A_{11} & A_{12} \\\\ A_{21} & A_{22} \\end{bmatrix} \\begin{bmatrix} u_1 \\\\ u_2 \\end{bmatrix} = \\begin{bmatrix} f_1 \\\\ f_2 \\end{bmatrix}.\n",
    "$$\n",
    "\n",
    "to:\n",
    "\n",
    "$\\begin{cases} A_{11} u_{1}+ A_{12} u_{2} = f_{1} \\\\ A_{21} u_{1}+ A_{22} u_{2} = f_{2} | \\quad A_{11}A_{21}^{-1} \\cdot \\end{cases}$\n",
    "\n",
    "\n",
    "$\\begin{cases} A_{11} u_{1}+ A_{12} u_{2} = f_{1} \\\\ A_{11}A_{21}^{-1}A_{21} u_{1}+ A_{11}A_{21}^{-1}A_{22} u_{2} = A_{11} u_{1}+ A_{11}A_{21}^{-1}A_{22} u_{2} = A_{11}A_{21}^{-1}f_{2} \\end{cases}$\n",
    "\n",
    "(1) - (2):\n",
    "\n",
    "$$(A_{12} - A_{11}A_{21}^{-1}A_{22}) u_{2} = f_{1} - A_{11}A_{21}^{-1}f_{2}$$\n",
    "\n",
    "Thus, we obtained:\n",
    "\n",
    "$S = A_{12} - A_{11}A_{21}^{-1}A_{22}$\n",
    "\n",
    "$\\hat{f_2} = f_{1} - A_{11}A_{21}^{-1}f_{2}$"
   ]
  },
  {
   "cell_type": "markdown",
   "metadata": {
    "id": "7JN6SPoUD9Dr"
   },
   "source": [
    "### 2)"
   ]
  },
  {
   "cell_type": "markdown",
   "metadata": {
    "id": "je3XDa9UGYOH"
   },
   "source": [
    "If $D$ is non-singular, we could decompose block-matrix like:"
   ]
  },
  {
   "cell_type": "markdown",
   "metadata": {
    "id": "boUvUkATD833"
   },
   "source": [
    "$\\left[\\begin{array}{ll}A & B \\\\ C & D\\end{array}\\right]=\\left[\\begin{array}{cc}I & B D^{-1} \\\\ 0 & I\\end{array}\\right]\\left[\\begin{array}{cc}A-B D^{-1} C & 0 \\\\ 0 & D\\end{array}\\right]\\left[\\begin{array}{cc}I & 0 \\\\ D^{-1} C & I\\end{array}\\right]$"
   ]
  },
  {
   "cell_type": "markdown",
   "metadata": {
    "id": "yWxENAPrGPCQ"
   },
   "source": [
    "In our case we have non-singular $X$, let's use it."
   ]
  },
  {
   "cell_type": "markdown",
   "metadata": {
    "id": "vOVwIvsxGRGv"
   },
   "source": [
    "$\\left[\\begin{array}{ll}I & -B \\\\ A & X\\end{array}\\right]=\\left[\\begin{array}{cc}I & -B X^{-1} \\\\ 0 & I\\end{array}\\right]\\left[\\begin{array}{cc}I+B X^{-1}A & 0 \\\\ 0 & X\\end{array}\\right]\\left[\\begin{array}{cc}I & 0 \\\\ X^{-1}A & I\\end{array}\\right]$"
   ]
  },
  {
   "cell_type": "markdown",
   "metadata": {
    "id": "Ngz_k2cxHaRo"
   },
   "source": [
    "Now let's apply $det(\\cdot)$ operator and use its properties:"
   ]
  },
  {
   "cell_type": "markdown",
   "metadata": {
    "id": "_Vj8adTJHip4"
   },
   "source": [
    "$\\det(X + AB) = \\underbrace{\\det(I)}_{1}\\det(X + BX^{-1}AX)\\underbrace{\\det(I)}_{1} = \\det([I + BX^{-1}A]X) = \\det(I + BX^{-1}A)\\det(X)$ $$= \\det(X)\\det(I + BX^{-1}A)$$"
   ]
  },
  {
   "cell_type": "markdown",
   "metadata": {
    "id": "-pfQD_L8IpK4"
   },
   "source": [
    "### 3)"
   ]
  },
  {
   "cell_type": "markdown",
   "metadata": {
    "id": "73BbszD2Is0J"
   },
   "source": [
    "We could also use another form of same block representation:\n",
    "\n",
    "$\\begin{bmatrix} A & B \\\\ C & D \\end{bmatrix} =\\begin{bmatrix} I & 0 \\\\ CA^{-1} & I \\end{bmatrix} \\begin{bmatrix} A & 0 \\\\ 0 & D-CA^{-1}B \\end{bmatrix} \\begin{bmatrix} I & A^{-1}B \\\\ 0 & I \\end{bmatrix}$\n",
    "\n",
    "Using derevated above property:\n",
    "\n",
    "$\\det \\begin{bmatrix} A & B \\\\ C & D \\end{bmatrix} = \\det(A) \\det (D - CA^{-1}B)$\n",
    "\n",
    "Now we could apply our result to non-singular $I_m$ and $I_n$:\n",
    "\n",
    "$\\det \\begin{bmatrix} I_{n} & G \\\\ F & I_{m} \\end{bmatrix} = \\det(I_n) \\det (I_m - FI_{n}^{-1}G) = \\det(I_m) \\det (I_n - GI_{m}^{-1}F)$\n",
    "\n",
    "Finally obtained:\n",
    "\n",
    "$\\det(I_m - FG) = \\det(I_n - GF)$"
   ]
  },
  {
   "cell_type": "markdown",
   "metadata": {
    "id": "qUER4idZjwwI"
   },
   "source": [
    "## Problem 2 (eigenvalues)  (50 pts)\n",
    "\n",
    "### 1. Theoretical tasks (15 pts)\n",
    "\n",
    "* (2 pts) Prove that eigenvectors that correspond to distinct eigenvalues are linearly independent.\n",
    "\n",
    "* (3 pts) $A$ is a matrix such that $a_{i,j} \\ge 0$ and $\\sum_{j}a_{i,j} = 1$ (sum of the elements in each row is 1). Prove that $A$ has an eigenvalue $\\lambda=1$ and that any eigenvalue $\\lambda_i$: $|\\lambda_i| \\le 1$.\n",
    "\n",
    "* (5 pts) Prove that normal matrix is Hermitian iff its eigenvalues are real. Prove that normal matrix is unitary iff its eigenvalues satisfy $|\\lambda| = 1$. \n",
    "\n",
    "* (5 pts) The following problem illustrates instability of the Jordan form. Find theoretically the eigenvalues of the perturbed Jordan block (there is only one $\\varepsilon$ - in the left lower corner):\n",
    "\n",
    "$$\n",
    "    J(\\varepsilon) = \n",
    "    \\begin{bmatrix} \n",
    "     \\lambda & 1 & & & 0 \\\\ \n",
    "     0 & \\lambda & 1 & & \\\\ \n",
    "     & 0 & \\ddots & \\ddots & \\\\ \n",
    "     & & 0 & \\lambda & 1 \\\\ \n",
    "     \\varepsilon & & & 0 & \\lambda  \\\\ \n",
    "    \\end{bmatrix}_{n\\times n}\n",
    "$$\n",
    "\n",
    "   Comment how eigenvalues of $J(0)$ are perturbed for large $n$."
   ]
  },
  {
   "cell_type": "markdown",
   "metadata": {
    "id": "OzThXAEFhNsp"
   },
   "source": [
    "### 1)"
   ]
  },
  {
   "cell_type": "markdown",
   "metadata": {
    "id": "JUeBv-mJhQbJ"
   },
   "source": [
    "Let's assume our vectors are LD\n",
    "\n",
    "Let $\n",
    "P=\\left[\\overrightarrow{v_{1}}, \\overrightarrow{v_{2}}, \\ldots, \\overrightarrow{v_{n}}\\right],\n",
    "$\n",
    "\n",
    "$\\vec{c}=\\left(c_{1}, c_{2}, \\ldots, c_{n}\\right)^{T}$\n",
    "\n",
    "We need to show that $\\forall i \\rightarrow c_{i}=0\n",
    "\\iff \\sum_{i} {c_{i} \\vec{v_{i}}}=\\overrightarrow{0}\n",
    "$\n",
    "\n",
    "$\\Lambda=diag(\\lambda_{1}, \\lambda_{2}, \\dots, \\lambda_{n})\n",
    "$\n",
    "\n",
    "Applying the matrix to this equation gives:\n",
    "$$\n",
    "P \\Lambda \\vec{c}=\\overrightarrow{0}\n",
    "$$\n",
    "We know $P \\Lambda=A P$\n",
    "\n",
    "Thus,\n",
    "\n",
    "$\n",
    "\\Rightarrow A P \\vec{c}=\\overrightarrow{0}\n",
    "$\n",
    "\n",
    "Since $A P \\neq 0$, we have $\\vec{c}=0$.\n",
    "\n",
    "Contradiction."
   ]
  },
  {
   "cell_type": "markdown",
   "metadata": {
    "id": "vvtmVCPThQTV"
   },
   "source": [
    "### 2)"
   ]
  },
  {
   "cell_type": "markdown",
   "metadata": {
    "id": "eCbNr-AXhHJT"
   },
   "source": [
    "$$\n",
    "\\left(\\begin{array}{ccc}\n",
    "a_{11} & a_{12} & \\ldots & a_{1 m} \\\\\n",
    "a_{21} & a_{22} & \\ldots \\\\ \n",
    "\\vdots &  & \\ddots \\\\\n",
    "a_{n 1} & &  & a_{nm}\n",
    "\\end{array}\\right)\\left(\\begin{array}{c}\n",
    "1 \\\\\n",
    "1 \\\\\n",
    "\\vdots \\\\\n",
    "1\n",
    "\\end{array}\\right)= \\lambda*\\left(\\begin{array}{c}\n",
    "1 \\\\\n",
    "1 \\\\\n",
    "\\vdots \\\\\n",
    "1\n",
    "\\end{array}\\right) = \\left(\\begin{array}{c}\n",
    "\\sum_{j=1}^{n} a_{ij} \\\\\n",
    "\\vdots \\\\\n",
    "\\end{array}\\right) = \\left(\\begin{array}{c}\n",
    "1 \\\\\n",
    "1 \\\\\n",
    "\\vdots \\\\\n",
    "1\n",
    "\\end{array}\\right)  \n",
    "$$ $\\rightarrow \\lambda = 1$\n",
    "\n",
    "$$\\left(\\begin{array}{ccc}\n",
    "a_{11} & a_{12} & \\ldots & a_{1 m} \\\\\n",
    "a_{21} & a_{22} & \\ldots \\\\ \n",
    "\\vdots &  & \\ddots \\\\\n",
    "a_{n 1} & &  & a_{nm}\n",
    "\\end{array}\\right)\\left(\\begin{array}{c}\n",
    "v_{1} \\\\\n",
    "v_{2} \\\\\n",
    "\\vdots \\\\\n",
    "v_{n}\n",
    "\\end{array}\\right)=\\left(\\begin{array}{c}\n",
    "(1+\\varepsilon) v_{1} \\\\\n",
    "(1+\\varepsilon) v_{2} \\\\\n",
    "\\vdots \\\\\n",
    "(1+\\varepsilon) v_{n}\n",
    "\\end{array}\\right)\n",
    "$$\n",
    "\n",
    "$\n",
    "\\left\\{\\begin{aligned}\n",
    "(1+\\varepsilon) v_{1} &=\\sum_{i=1}^{m} a_{i i} v_{i} \\\\\n",
    "(1+\\varepsilon) v_{2} &=\\sum_{i=1}^{m} a_{2 i} v_{i} \\Rightarrow \\\\\n",
    "\\vdots &=\\sum_{i=1}^{m} a_{n i} v_{i}\n",
    "\\end{aligned}\\right.\n",
    "$\n",
    "\n",
    "$\n",
    "\\begin{aligned}\n",
    "(1+\\varepsilon) \\sum_{i=1}^{n} v_{i} &=\\sum_{j=1}^{n} \\sum_{i=1}^{n} a_{j i} v_{j}\\neq\\sum_{j=1}^{n} v_{j}\n",
    "\\end{aligned}\n",
    "$\n",
    "\n",
    "Contradiction."
   ]
  },
  {
   "cell_type": "markdown",
   "metadata": {
    "id": "AsBBsf7RhQLR"
   },
   "source": [
    "### 3)"
   ]
  },
  {
   "cell_type": "markdown",
   "metadata": {
    "id": "SZejGoDJkg2c"
   },
   "source": [
    "#### 3.1"
   ]
  },
  {
   "cell_type": "markdown",
   "metadata": {
    "id": "nN9585NQkgop"
   },
   "source": [
    "$A$ is normal $\\iff \\exists$ unitary $U$:\n",
    "\n",
    "$\n",
    "A=U^{*} D U\n",
    "$, where $D = diag(\\lambda_1, \\lambda_2,\\dots, \\lambda_n)$ \n",
    "\n",
    "\n",
    "Otherwise, $A$ is hermitian:\n",
    "\n",
    "$\n",
    "A^{*}=\\left(U^{*} D U\\right)^{*}=U^{*} D^{*} U=U^{*} D U=A\n",
    "$\n",
    "\n",
    "Thus, \n",
    "\n",
    "$D^{*}=D$\n",
    "$\\implies \\forall i \\rightarrow \\lambda_i \\in \\mathbb{R}$ \n"
   ]
  },
  {
   "cell_type": "markdown",
   "metadata": {
    "id": "H2SewWHHkgYj"
   },
   "source": [
    "#### 3.2"
   ]
  },
  {
   "cell_type": "markdown",
   "metadata": {
    "id": "_k-nVZsvmNj0"
   },
   "source": [
    "For Normal matrix to be unitary: \n",
    "\n",
    "$\n",
    "A v=\\lambda v\n",
    "$\n",
    "\n",
    "We could apply property $u v=v^{*} u$\n",
    "\n",
    "$\n",
    "v^{*} A^{*}=\\lambda^{*} v^{*}\n",
    "$\n",
    "\n",
    "$\n",
    "\\begin{aligned}\n",
    "v^{*} A^{*} A v &=\\lambda^{*} v^{*} \\lambda v \n",
    "\\end{aligned}\n",
    "$\n",
    "\n",
    "For diagonal matrices multiplication we could it rewrite it in following way:\n",
    "$\n",
    "v^{*} I v =\\left(\\lambda^{*} \\lambda\\right) v^{*} v \\Rightarrow v^{*} v =\\left(\\lambda^{*} \\lambda\\right) v^{*} v\n",
    "$\n",
    "\n",
    "$\n",
    "\\|v\\|^{2} =|\\lambda|^{2}\\|v\\|^{2}\n",
    "$\n",
    "\n",
    "$\n",
    "\\sqrt{1} =|\\lambda| \\Rightarrow |\\lambda| = 1\n",
    "$"
   ]
  },
  {
   "cell_type": "markdown",
   "metadata": {
    "id": "nZtjD2QNhQDJ"
   },
   "source": [
    "### 4)"
   ]
  },
  {
   "cell_type": "markdown",
   "metadata": {
    "id": "Qg0BhWM7oYL7"
   },
   "source": [
    "$\\det (J(\\varepsilon) - \\alpha I) = 0 \\Leftrightarrow  (\\lambda - \\alpha)^{n} + (-1)^{n-1} \\varepsilon = 0$\n",
    "\n",
    "$(\\lambda - \\alpha)^{n} = (-1)^{n} \\varepsilon $, where $\\alpha$ is an eigenvalue.\n",
    "\n",
    "$$ \\alpha_{k} = \\begin{cases}\\lambda - e^{i \\dfrac{2 \\pi k}{n}} \\sqrt[n]{\\varepsilon}, ~\\text{if} ~n ~\\text{is even}, ~k=0, \\cdots, n-1  \\\\\n",
    "\\lambda - e^{i (\\dfrac{2 \\pi k}{n} + \\dfrac{\\pi}{n})}\\sqrt[n]{\\varepsilon}, ~\\text{if} ~n ~\\text{is odd}, ~k=0, \\cdots, n-1 \\end{cases}\n",
    "$$\n",
    "\n",
    "If $\\varepsilon = 0$, then analytically our eigenvalues should be equal to zero. But in computer arithmetic there can be case, then $\\varepsilon$ is very small value, almost equal to zero (like $e^{-16}$). Then,  $\\sqrt[n]{\\varepsilon}, ~n \\rightarrow \\infty$ will be some value, not equal to zero. And this will mean, that our eigenvalues will be differ from each other, although analytically they should be $\\lambda$. So, we can see that in this case Jordan form is unstable."
   ]
  },
  {
   "cell_type": "markdown",
   "metadata": {
    "id": "xWcyqKyrOGIp"
   },
   "source": [
    "### 2. PageRank (35 pts)\n",
    "\n",
    "\n",
    "#### Damping factor importance\n",
    "\n",
    "* (5 pts) Write the function ```pagerank_matrix(G)``` that takes an adjacency matrix $G$ (in both sparse and dense formats) as an input and outputs the corresponding PageRank matrix $A$."
   ]
  },
  {
   "cell_type": "markdown",
   "metadata": {
    "id": "B2ozq-CkHssr"
   },
   "source": [
    "### 1)"
   ]
  },
  {
   "cell_type": "code",
   "execution_count": 34,
   "metadata": {
    "id": "2jktwIc8OGIp"
   },
   "outputs": [],
   "source": [
    "# INPUT:  G - np.ndarray or sparse matrix\n",
    "# OUTPUT: A - np.ndarray (of size G.shape) or sparse matrix\n",
    "def pagerank_matrix(G):\n",
    "    p_list = np.sum(G, axis=0)\n",
    "    \n",
    "    for i in range(G.shape[0]):\n",
    "        if p_list[i] != 0:\n",
    "            G[:, i] /= p_list[i]\n",
    "\n",
    "    return G"
   ]
  },
  {
   "cell_type": "markdown",
   "metadata": {
    "id": "BtVmgGnYOGIs"
   },
   "source": [
    "* (3 pts) Find PageRank matrix $A$ that corresponds to the following graph:\n",
    "<img src=\"https://github.com/oseledets/nla2021/blob/master/hw/hw2/graph.png?raw=1\" width='250'>\n",
    "\n",
    "    What is its largest eigenvalue? What multiplicity does it have?\n",
    "\n",
    "\n",
    "* (5 pts) Implement the power method for a given matrix $A$, an initial guess $x_0$ and a number of iterations ```num_iter```. It should be organized as a function ```power_method(A, x0, num_iter)``` that outputs approximation to eigenvector $x$, eigenvalue $\\lambda$ and history of residuals $\\{\\|Ax_k - \\lambda_k x_k\\|_2\\}$. Make sure that the method converges to the correct solution on a matrix $\\begin{bmatrix} 2 & -1 \\\\ -1 & 2 \\end{bmatrix}$ which is known to have the largest eigenvalue equal to $3$."
   ]
  },
  {
   "cell_type": "markdown",
   "metadata": {
    "id": "MGkALIcxHyfw"
   },
   "source": [
    "### 2)"
   ]
  },
  {
   "cell_type": "code",
   "execution_count": 35,
   "metadata": {
    "id": "IiQ66Hh9rymD"
   },
   "outputs": [],
   "source": [
    "G = np.array([[0, 1, 0, 0, 0], [0, 0, 1, 0, 0], [1, 1, 0, 0, 0], [0, 0, 0, 0, 1], [0, 0, 0, 1, 0]], dtype=np.float) "
   ]
  },
  {
   "cell_type": "code",
   "execution_count": 36,
   "metadata": {
    "colab": {
     "base_uri": "https://localhost:8080/"
    },
    "id": "4S3E_OvjrvFm",
    "outputId": "e2341177-d955-4c6f-8e3c-16800c300913"
   },
   "outputs": [
    {
     "data": {
      "text/plain": [
       "array([[0. , 0.5, 0. , 0. , 0. ],\n",
       "       [0. , 0. , 1. , 0. , 0. ],\n",
       "       [1. , 0.5, 0. , 0. , 0. ],\n",
       "       [0. , 0. , 0. , 0. , 1. ],\n",
       "       [0. , 0. , 0. , 1. , 0. ]])"
      ]
     },
     "execution_count": 36,
     "metadata": {},
     "output_type": "execute_result"
    }
   ],
   "source": [
    "A = pagerank_matrix(G)\n",
    "A"
   ]
  },
  {
   "cell_type": "code",
   "execution_count": 37,
   "metadata": {
    "colab": {
     "base_uri": "https://localhost:8080/"
    },
    "id": "W17v_y0YIwwL",
    "outputId": "737143a8-6057-4e59-f1bb-e20ee6d0e407"
   },
   "outputs": [
    {
     "data": {
      "text/plain": [
       "array([-0.5+0.5j, -0.5-0.5j,  1. +0.j ,  1. +0.j , -1. +0.j ])"
      ]
     },
     "execution_count": 37,
     "metadata": {},
     "output_type": "execute_result"
    }
   ],
   "source": [
    "np.linalg.eigvals(A)"
   ]
  },
  {
   "cell_type": "markdown",
   "metadata": {
    "id": "AQDZzh4iKTde"
   },
   "source": [
    "$\\lambda_{max}^{(2)} = 1$\n",
    "\n",
    "$(2)$ stands for algebraic muliplicity"
   ]
  },
  {
   "cell_type": "markdown",
   "metadata": {
    "id": "7S0tqOtBMwqP"
   },
   "source": [
    "### 3)"
   ]
  },
  {
   "cell_type": "code",
   "execution_count": 74,
   "metadata": {
    "id": "sQgNsuKiIJuv"
   },
   "outputs": [],
   "source": [
    "# INPUT:  A - np.ndarray (2D), x0 - np.ndarray (1D), num_iter - integer (positive)\n",
    "# OUTPUT: x - np.ndarray (of size x0), l - float, res - np.ndarray (of size num_iter + 1 [include initial guess])\n",
    "def power_method(A, x0, num_iter): # 5 pts\n",
    "    l = 1.0\n",
    "    x = x0\n",
    "\n",
    "    res = [np.linalg.norm(A @ x - l * x, ord=2)]\n",
    "\n",
    "    for i in range(num_iter):\n",
    "        \n",
    "        x = A @ x\n",
    "        x /= np.linalg.norm(x, ord=2)\n",
    "        \n",
    "        l = np.dot(A @ x, x)\n",
    "        res.append(np.linalg.norm(A @ x - l * x, ord=2))\n",
    "\n",
    "    return x, l, res"
   ]
  },
  {
   "cell_type": "code",
   "execution_count": 75,
   "metadata": {
    "colab": {
     "base_uri": "https://localhost:8080/"
    },
    "id": "5VcT35jPNV1z",
    "outputId": "5f24d563-b574-49fa-daca-1b47be3b559e"
   },
   "outputs": [
    {
     "name": "stdout",
     "output_type": "stream",
     "text": [
      "3.0\n"
     ]
    }
   ],
   "source": [
    "A = np.array([[2, -1], [-1, 2]], dtype=float)\n",
    "x0 = np.random.rand(2)\n",
    "\n",
    "_, l, res = power_method(A, x0=x0, num_iter=1000)\n",
    "\n",
    "print(l)"
   ]
  },
  {
   "cell_type": "markdown",
   "metadata": {
    "id": "5Na2FXriQuIr"
   },
   "source": [
    "#### OK"
   ]
  },
  {
   "cell_type": "markdown",
   "metadata": {
    "id": "9hAowO6zOGIu"
   },
   "source": [
    "* (2 pts) Run the power method for the graph presented above and plot residuals $\\|Ax_k - \\lambda_k x_k\\|_2$ as a function of $k$ for ```num_iter=100``` and random initial guess ```x0```.  Explain the absence of convergence. \n",
    "\n",
    "\n",
    "* (2 pts) Consider the same graph, but with additional self loop at node 4 (self loop is an edge that connects a vertex with itself). Plot residuals as in the previous task and discuss the convergence. Now, run the power method with ```num_iter=100``` for 10 different initial guesses and print/plot the resulting approximated eigenvectors. Why do they depend on the initial guess?\n",
    "\n",
    "\n",
    "In order to avoid this problem Larry Page and Sergey Brin [proposed](http://ilpubs.stanford.edu:8090/422/1/1999-66.pdf) to use the following regularization technique:\n",
    "\n",
    "$$\n",
    "A_d = dA + \\frac{1-d}{N} \\begin{pmatrix} 1 & \\dots & 1 \\\\ \\vdots & & \\vdots \\\\ 1 & \\dots & 1 \\end{pmatrix},\n",
    "$$\n",
    "\n",
    "where $d$ is a small parameter in $[0,1]$ (typically $d=0.85$), which is called **damping factor**, $A$ is of size $N\\times N$. Now $A_d$ is the matrix with multiplicity of the largest eigenvalue equal to 1. \n",
    "Recall that computing the eigenvector of the PageRank matrix, which corresponds to the largest eigenvalue, has the following interpretation. Consider a person who stays in a random node of a graph (i.e. opens a random web page); at each step s/he follows one of the outcoming edges uniformly at random (i.e. opens one of the links). So the person randomly walks through the graph and the eigenvector we are looking for is exactly his/her stationary distribution â€” for each node it tells you the probability of visiting this particular node. Therefore, if the person has started from a part of the graph which is not connected with the other part, he will never get there.  In the regularized model, the person at each step follows one of the outcoming links with probability $d$ OR teleports to a random node from the whole graph with probability $(1-d)$.\n",
    "\n",
    "* (2 pts) Now, run the power method with $A_d$ and plot residuals $\\|A_d x_k - \\lambda_k x_k\\|_2$ as a function of $k$ for $d=0.97$, ```num_iter=100``` and a random initial guess ```x0```.\n",
    "\n",
    "* (5 pts) Find the second largest in the absolute value eigenvalue of the obtained matrix $A_d$. How and why is it connected to the damping factor $d$? What is the convergence rate of the PageRank algorithm when using damping factor?\n",
    "\n",
    "Usually, graphs that arise in various areas are sparse (social, web, road networks, etc.) and, thus, computation of a matrix-vector product for corresponding PageRank matrix $A$ is much cheaper than $\\mathcal{O}(N^2)$. However, if $A_d$ is calculated directly, it becomes dense and, therefore, $\\mathcal{O}(N^2)$ cost grows prohibitively large for  big $N$.\n",
    "\n",
    "\n",
    "* (2 pts) Implement fast matrix-vector product for $A_d$ as a function ```pagerank_matvec(A, d, x)```, which takes a PageRank matrix $A$ (in sparse format, e.g., ```csr_matrix```), damping factor $d$ and a vector $x$ as an input and returns $A_dx$ as an output. \n",
    "\n",
    "* (1 pts) Generate a random adjacency matrix of size $10000 \\times 10000$ with only 100 non-zero elements and compare ```pagerank_matvec``` performance with direct evaluation of $A_dx$."
   ]
  },
  {
   "cell_type": "markdown",
   "metadata": {
    "id": "FsB_ftoaQ8HM"
   },
   "source": [
    "### 4)"
   ]
  },
  {
   "cell_type": "code",
   "execution_count": 87,
   "metadata": {
    "id": "3bakJPeIQ-O0"
   },
   "outputs": [],
   "source": [
    "G = np.array([[0, 1, 0, 0, 0], [0, 0, 1, 0, 0], [1, 1, 0, 0, 0], [0, 0, 0, 0, 1], [0, 0, 0, 1, 0]], dtype=np.float) "
   ]
  },
  {
   "cell_type": "code",
   "execution_count": 88,
   "metadata": {
    "id": "ffrb4dqxQ-H3"
   },
   "outputs": [],
   "source": [
    "x0 = np.random.rand(5)\n",
    "\n",
    "_, l, res = power_method(A=G, x0=x0, num_iter=100)"
   ]
  },
  {
   "cell_type": "code",
   "execution_count": 93,
   "metadata": {
    "colab": {
     "base_uri": "https://localhost:8080/",
     "height": 342
    },
    "id": "3OvZZ8hZQ-BF",
    "outputId": "715aaa50-cf33-4cfb-f5a8-407969c5c25a"
   },
   "outputs": [
    {
     "data": {
      "image/png": "[encoded data removed]",
      "text/plain": [
       "<Figure size 1080x360 with 1 Axes>"
      ]
     },
     "metadata": {
      "needs_background": "light"
     },
     "output_type": "display_data"
    }
   ],
   "source": [
    "plt.figure(figsize=(15, 5))\n",
    "\n",
    "plt.plot(res, label='Convergense of power method')\n",
    "\n",
    "plt.xlabel('$k$, number of step')\n",
    "plt.xscale('log')\n",
    "plt.legend()\n",
    "plt.grid()\n",
    "plt.show()"
   ]
  },
  {
   "cell_type": "markdown",
   "metadata": {
    "id": "R47AGo7BUmyl"
   },
   "source": [
    "### 5)"
   ]
  },
  {
   "cell_type": "code",
   "execution_count": 94,
   "metadata": {
    "id": "3NGa3-weUuz8"
   },
   "outputs": [],
   "source": [
    "G = np.array([[0, 1, 0, 0, 0], [0, 0, 1, 0, 0], [1, 1, 0, 0, 0], [0, 0, 0, 0, 1], [0, 0, 0, 1, 1]], dtype=np.float) "
   ]
  },
  {
   "cell_type": "code",
   "execution_count": 95,
   "metadata": {
    "id": "Upv3leh5VDZN"
   },
   "outputs": [],
   "source": [
    "x0 = np.random.rand(5)\n",
    "\n",
    "_, l, res = power_method(A=G, x0=x0, num_iter=100)"
   ]
  },
  {
   "cell_type": "code",
   "execution_count": 103,
   "metadata": {
    "colab": {
     "base_uri": "https://localhost:8080/",
     "height": 338
    },
    "id": "AuVkGr3KVDS_",
    "outputId": "1a4ae2ad-0bcc-46d6-e880-3033a696cce5"
   },
   "outputs": [
    {
     "data": {
      "image/png": "[encoded data removed]",
      "text/plain": [
       "<Figure size 1080x360 with 1 Axes>"
      ]
     },
     "metadata": {
      "needs_background": "light"
     },
     "output_type": "display_data"
    }
   ],
   "source": [
    "plt.figure(figsize=(15, 5))\n",
    "\n",
    "plt.plot(res, label='Convergense of power method')\n",
    "\n",
    "plt.xlabel('$k$, number of step')\n",
    "# plt.xscale('log')\n",
    "plt.legend()\n",
    "plt.grid()\n",
    "plt.show()"
   ]
  },
  {
   "cell_type": "code",
   "execution_count": 107,
   "metadata": {
    "colab": {
     "base_uri": "https://localhost:8080/",
     "height": 729
    },
    "id": "vo6_kipjVDMY",
    "outputId": "ff4b9d34-7bb4-458a-d39f-ff4030b85d8a"
   },
   "outputs": [
    {
     "data": {
      "image/png": "[encoded data removed]",
      "text/plain": [
       "<Figure size 1080x720 with 1 Axes>"
      ]
     },
     "metadata": {
      "needs_background": "light"
     },
     "output_type": "display_data"
    }
   ],
   "source": [
    "plt.figure(figsize=(15, 10))\n",
    "\n",
    "plt.title('Convergence of power method')\n",
    "\n",
    "for _ in range(10):\n",
    "    x0 = np.random.rand(5)\n",
    "    x, l, res = power_method(A=G, x0=x0, num_iter=100)\n",
    "    plt.plot(res, label=f'{x}')\n",
    "\n",
    "plt.xlabel('$k$, number of step')\n",
    "# plt.xscale('log')\n",
    "\n",
    "plt.tight_layout()\n",
    "plt.legend()\n",
    "plt.grid()\n",
    "plt.show()"
   ]
  },
  {
   "cell_type": "markdown",
   "metadata": {
    "id": "kN6gc8mqZtX8"
   },
   "source": [
    "### 6)"
   ]
  },
  {
   "cell_type": "code",
   "execution_count": 119,
   "metadata": {
    "id": "L8FDUNC9aYq9"
   },
   "outputs": [],
   "source": [
    "G = np.array([[0, 1, 0, 0, 0], [0, 0, 1, 0, 0], [1, 1, 0, 0, 0], [0, 0, 0, 0, 1], [0, 0, 0, 1, 0]], dtype=np.float) "
   ]
  },
  {
   "cell_type": "code",
   "execution_count": 120,
   "metadata": {
    "colab": {
     "base_uri": "https://localhost:8080/",
     "height": 729
    },
    "id": "lCLB3Ji-VDFm",
    "outputId": "951629f2-ebf3-4669-a573-9f7b9490806c"
   },
   "outputs": [
    {
     "data": {
      "image/png": "[encoded data removed]",
      "text/plain": [
       "<Figure size 1080x720 with 1 Axes>"
      ]
     },
     "metadata": {
      "needs_background": "light"
     },
     "output_type": "display_data"
    }
   ],
   "source": [
    "plt.figure(figsize=(15, 10))\n",
    "plt.title('Convergence of power method')\n",
    "\n",
    "d =.97\n",
    "G = G * d + ((1-d)/5.) * np.ones([5, 5])\n",
    "\n",
    "x0 = np.random.rand(5)\n",
    "x, l, res = power_method(A=G, x0=x0, num_iter=100)\n",
    "plt.plot(res, label=f'{x}')\n",
    "\n",
    "plt.xlabel('$k$, number of step')\n",
    "# plt.xscale('log')\n",
    "\n",
    "plt.tight_layout()\n",
    "plt.legend()\n",
    "plt.grid()\n",
    "plt.show()"
   ]
  },
  {
   "cell_type": "code",
   "execution_count": 124,
   "metadata": {
    "colab": {
     "base_uri": "https://localhost:8080/"
    },
    "id": "9kkLzIn3anq2",
    "outputId": "54d38d8c-1e57-46b5-a381-ff5260c6557a"
   },
   "outputs": [
    {
     "data": {
      "text/plain": [
       "0.9813446084209441"
      ]
     },
     "execution_count": 124,
     "metadata": {},
     "output_type": "execute_result"
    }
   ],
   "source": [
    "np.sort(np.abs(np.linalg.eigvals(G)))[-2]"
   ]
  },
  {
   "cell_type": "code",
   "execution_count": null,
   "metadata": {
    "id": "4o3LKx5UOGIv"
   },
   "outputs": [],
   "source": [
    "# INPUT:  A - np.ndarray (2D), d - float (from 0.0 to 1.0), x - np.ndarray (1D, size of A.shape[0/1])\n",
    "# OUTPUT: y - np.ndarray (1D, size of x)\n",
    "def pagerank_matvec(A, d, x): # 2 pts\n",
    "    # enter your code here\n",
    "    return y"
   ]
  },
  {
   "cell_type": "code",
   "execution_count": null,
   "metadata": {
    "id": "2-JxEaP0Q4aN"
   },
   "outputs": [],
   "source": [
    "# # INPUT:  G - np.ndarray or sparse matrix\n",
    "# # OUTPUT: A - np.ndarray (of size G.shape) or sparse matrix\n",
    "# def pagerank_matrix(G):\n",
    "#     w_list = np.array([1/(g + 1) for g in range(G.shape[0])], dtype=float)\n",
    "\n",
    "#     eps = 1e-3\n",
    "#     delta = 1e-2\n",
    "\n",
    "#     while np.abs(delta - eps) > 1e-3:\n",
    "#         delta = eps\n",
    "#         for u in range(G.shape[0]):\n",
    "#             neighbors = [index for index, val in enumerate(G[:, u]) if val == 1.]\n",
    "            \n",
    "#             new_w = np.sum([w_list[v] / np.sum(G[v]) for v in neighbors])\n",
    "\n",
    "#             delta = max(np.abs(w_list[u] - new_w), delta)\n",
    "#             w_list[u] = new_w\n",
    "\n",
    "#     return A"
   ]
  },
  {
   "cell_type": "markdown",
   "metadata": {
    "id": "ru70NGUlOGIy"
   },
   "source": [
    "#### DBLP: computer science bibliography\n",
    "\n",
    "Download the dataset from [here](https://goo.gl/oZVxEa), unzip it and put `dblp_authors.npz`  and `dblp_graph.npz` in the same folder with this notebook. Each value (author name) from `dblp_authors.npz` corresponds to the row/column of the matrix from `dblp_graph.npz`. Value at row `i` and column `j` of the matrix from `dblp_graph.npz` corresponds to the number of times author `i` cited papers of the author `j`. Let us now find the most significant scientists according to PageRank model over DBLP data.\n",
    "\n",
    "* (4 pts) Load the weighted adjacency matrix and the authors list into Python using ```load_dblp(...)``` function. Print its density (fraction of nonzero elements). Find top-10 most cited authors from the weighted adjacency matrix. Now, make all the weights of the adjacency matrix equal to 1 for simplicity (consider only existence of connection between authors, not its weight). Obtain the PageRank matrix $A$ from the adjacency matrix and verify that it is stochastic.\n",
    " \n",
    " \n",
    "* (1 pts) In order to provide ```pagerank_matvec``` to your ```power_method``` (without rewriting it) for fast calculation of $A_dx$, you can create a ```LinearOperator```: \n",
    "```python\n",
    "L = scipy.sparse.linalg.LinearOperator(A.shape, matvec=lambda x, A=A, d=d: pagerank_matvec(A, d, x))\n",
    "```\n",
    "Calling ```L@x``` or ```L.dot(x)``` will result in calculation of ```pagerank_matvec(A, d, x)``` and, thus, you can plug $L$ instead of the matrix $A$ in the ```power_method``` directly. **Note:** though in the previous subtask graph was very small (so you could disparage fast matvec implementation), here it is very large (but sparse), so that direct evaluation of $A_dx$ will require $\\sim 10^{12}$ matrix elements to store - good luck with that (^_<).\n",
    "\n",
    "\n",
    "* (2 pts) Run the power method starting from the vector of all ones and plot residuals $\\|A_dx_k - \\lambda_k x_k\\|_2$  as a function of $k$ for $d=0.85$.\n",
    "\n",
    "\n",
    "* (1 pts) Print names of the top-10 authors according to PageRank over DBLP when $d=0.85$. Comment on your findings."
   ]
  },
  {
   "cell_type": "code",
   "execution_count": null,
   "metadata": {
    "id": "L5ZnW7m-OGIz"
   },
   "outputs": [],
   "source": [
    "from scipy.sparse import load_npz\n",
    "import numpy as np\n",
    "def load_dblp(path_auth, path_graph):\n",
    "    G = load_npz(path_graph).astype(float)\n",
    "    with np.load(path_auth) as data: authors = data['authors']\n",
    "    return G, authors\n",
    "G, authors = load_dblp('dblp_authors.npz', 'dblp_graph.npz')"
   ]
  },
  {
   "cell_type": "code",
   "execution_count": null,
   "metadata": {
    "id": "QynfixvjOGI1"
   },
   "outputs": [],
   "source": [
    "# Your code is here"
   ]
  },
  {
   "cell_type": "markdown",
   "metadata": {
    "id": "hQ2vaIyMOGI3"
   },
   "source": [
    "## Problem 3. QR algorithm (33 pts)\n",
    "\n",
    "* Implement QR-algorithm without shifts. Prototype of the function is given below"
   ]
  },
  {
   "cell_type": "code",
   "execution_count": null,
   "metadata": {
    "id": "rMHBZLojOGI3"
   },
   "outputs": [],
   "source": [
    "# INPUT: \n",
    "# A_init - square matrix, \n",
    "# num_iter - number of iterations for QR algorithm\n",
    "# OUTPUT: \n",
    "# Ak - transformed matrix A_init given by QR algorithm, \n",
    "# convergence - numpy array of shape (num_iter, ), \n",
    "# where we store the maximal number from the Chebyshev norm \n",
    "# of triangular part of the Ak for every iteration\n",
    "def qr_algorithm(A_init, num_iter): # 3 pts\n",
    "    # enter your code here\n",
    "    return Ak, convergence"
   ]
  },
  {
   "cell_type": "markdown",
   "metadata": {
    "id": "UNrCBNRUOGI6"
   },
   "source": [
    "#### Symmetric case (3 pts)\n",
    "- Create symmetric tridiagonal $11 \\times 11$ matrix with elements $-1, 2, -1$ on sub-, main- and upper diagonal respectively without using loops.\n",
    "- Run $400$ iterations of the QR algorithm for this matrix.\n",
    "- Plot the output matrix with function ```plt.spy(Ak, precision=1e-7)```.\n",
    "- Plot convergence of QR-algorithm."
   ]
  },
  {
   "cell_type": "code",
   "execution_count": null,
   "metadata": {
    "id": "NuKwQGXbOGI6"
   },
   "outputs": [],
   "source": [
    "# Your solution is here"
   ]
  },
  {
   "cell_type": "markdown",
   "metadata": {
    "id": "-lomV2K-OGI8"
   },
   "source": [
    "#### Nonsymmetric case (5 pts)\n",
    "\n",
    "- Create nonsymmetric tridiagonal $11 \\times 11$ matrix with elements $5, 3, -2$ on sub-, main- and upper diagonal respectively without using loops.\n",
    "- Run $250$ iterations of the QR algorithm for this matrix.\n",
    "- Plot the result matrix with function ```plt.spy(Ak, precision=1e-7)```. Is this matrix lower triangular? How does this correspond to the claim about convergence of the QR algorithm?"
   ]
  },
  {
   "cell_type": "code",
   "execution_count": null,
   "metadata": {
    "id": "C2lGBHjaOGI9"
   },
   "outputs": [],
   "source": [
    "# Your solution is here"
   ]
  },
  {
   "cell_type": "markdown",
   "metadata": {
    "id": "bifLaqk_jwwO"
   },
   "source": [
    "### QR algorithms with Rayleigh Quotient shift (10 pts)\n",
    "\n",
    "In the lectures the Rayleigh Quotient shift was introduced to speed up convergence of power method. Here we ask you to generalize this approach to construct the shifts in QR algorithm.\n",
    "\n",
    "- How to compute the Rayleigh Quotient shift in QR algorithm fast? Provide formulas and explanations how they can be simplified.\n",
    "- Implement explicit QR algorithm with Rayleigh Quotient shift. Please do not worry about implicit orthogonalization, we want to compare convergence only in terms of iterations.\n",
    "- Test your implementation in the symmetric case. Plot the convergence of QR algorithm with and without shift. Choose the dimension $n \\sim 100 $ for more representative results. \n",
    "- How the convergence of the shifted algorithm compares to the simple QR? Why? "
   ]
  },
  {
   "cell_type": "code",
   "execution_count": null,
   "metadata": {
    "id": "359LGWiDjwwO"
   },
   "outputs": [],
   "source": [
    "def qr_algorithm_reileigh(A_init, num_iter):\n",
    "    # enter your code here\n",
    "    return Ak, convergence"
   ]
  },
  {
   "cell_type": "markdown",
   "metadata": {
    "id": "_g8rugRAjwwP"
   },
   "source": [
    "- Try QR with Rayleigh Quotient shift for a simple matrix $A = \\begin{bmatrix}\n",
    "0 & 1 \\\\\n",
    "1 & 0\n",
    "\\end{bmatrix}$. Does anything change from iteration to iteration? Does shift affect convergence here? Why?"
   ]
  },
  {
   "cell_type": "code",
   "execution_count": null,
   "metadata": {
    "id": "OCtWw8mljwwP"
   },
   "outputs": [],
   "source": [
    "# Your solution is here"
   ]
  },
  {
   "cell_type": "markdown",
   "metadata": {
    "id": "83aYa06AjwwP"
   },
   "source": [
    "### QR with Wilkinson shift  (15 pts)\n",
    "\n",
    "To solve the problem that appears in the last example, we can use the Wilkinson shift:\n",
    "\n",
    "$$\\mu = a_m - \\frac {sign(\\delta) b^2_{m-1}} {(|\\delta| + \\sqrt{\\delta^2 + b^2_{m-1}} )},$$\n",
    "\n",
    "where $\\delta = \\frac{(a_{m-1} - a_m)}{2}$. If $\\delta = 0$, then instead of $sign(\\delta)$ you have to choose $1$ or $-1$ arbitrary.\n",
    "The numbers $a_m, b_{m-1}, a_{m-1}$ are taken from matrix $B$:\n",
    "\n",
    "$$\n",
    "    B = \n",
    "    \\begin{bmatrix} \n",
    "     a_{m-1} & b_{m-1} \\\\ \n",
    "     b_{m-1} & a_m \\\\ \n",
    "    \\end{bmatrix},\n",
    "$$  \n",
    "which is a lower right bottom submatrix of $A^{(k)}$. Here $k$ is an iteration counter in QR algorithm.\n",
    "\n",
    "- Compare convergence in the symmetric cases: \n",
    "    - distinctive eigenvalues\n",
    "    - two coincident eigenvalues\n",
    "    - maximum and minimum eigenvalues with the same absolute value\n",
    "Choose the dimension $n \\sim 100 $ for more representative results.\n",
    "What do you observe? "
   ]
  },
  {
   "cell_type": "code",
   "execution_count": null,
   "metadata": {
    "id": "j_nwoEQejwwP"
   },
   "outputs": [],
   "source": [
    "def qr_algorithm_wilkinson(A_init, num_iter):\n",
    "    # enter your code here\n",
    "    return Ak, convergence"
   ]
  },
  {
   "cell_type": "code",
   "execution_count": null,
   "metadata": {
    "id": "ZhpGmYE5jwwP"
   },
   "outputs": [],
   "source": [
    "# Your solution is here"
   ]
  },
  {
   "cell_type": "markdown",
   "metadata": {
    "id": "c_8OYe7wOGI-"
   },
   "source": [
    "## Problem 4. (Movie Recommender system) 15 pts\n",
    "\n",
    "Imagine the world without NLA where you have free evenings and you can watch movies!  \n",
    "But it is always hard to choose a movie to watch. \n",
    "In this problem we suggest you to build your own movie recommender system based on SVD decomposition, so you can combine two perfect things: Numerical Linear Algebra and cinematography!"
   ]
  },
  {
   "cell_type": "markdown",
   "metadata": {
    "id": "W2duSA-Su7CI"
   },
   "source": [
    "In order to build recommender system you need data. \n",
    "Here you are https://grouplens.org/datasets/movielens/1m/\n",
    "\n",
    "Usually all recommender systems may be devided into two groups\n",
    "\n",
    "#### Collaborative filtering. \n",
    "\n",
    "This approach is based on user-item interaction.\n",
    "It has one important assumption: user who has liked an item in the past will also likes the same in the future. Suppose the user A likes the films about vampires. \n",
    "He is Twilight saga fan and he has watched the film \"What we do in the shadows\" and liked it or unliked it, in other words he evaluated it somehow. And suppose another user B, who has the similair behavior to the first user (he is also Twilight saga fan). And the chance, that he will estimate \"What we do in the shadows\" in the same way that user A did, is huge. So, the purpose of the collaborative filtering is to predict a user's behavior based on behavior of the simular users.\n",
    "\n",
    "#### Content based filtering.\n",
    "\n",
    "Collaborative filtering has some essential flaws. The main one is called \"cold start\". \"Cold start\" happens when the new user comes and he has not react anyhow to the items. So we do not know his past behavior and we do not know what to advise. Here content based filtering helps. Often resources gather some extra info about users and items before a user comes down to utilising the resource. So, for example we would know that user likes horror movies before he watched anything on the resource."
   ]
  },
  {
   "cell_type": "markdown",
   "metadata": {
    "id": "mMvQV1zSu7Cg"
   },
   "source": [
    "\n",
    "- In this task you will implement Collaborative filtering based on SVD (we will use the function from the proper package and check if the result recommender system advices the similar movies)"
   ]
  },
  {
   "cell_type": "markdown",
   "metadata": {
    "id": "tMN7EK6gu7Ch"
   },
   "source": [
    "1) (1 pts)  Explore the data. Construct the interaction matrix $M$ of size $m \\times n$ which contains the information of how a certain user rated a certain film. \n",
    "\n",
    "2) (5 pts)  Compute SVD of this matrix. Remeber that matrix $M$ is sparse (one user can hardly watch all the movies) so the good choice would be to use method from ```scipy.sparse.linalg``` package\n",
    "\n",
    "$$ M = USV^{\\top}, $$\n",
    "\n",
    "where $U$ is a $m \\times r $ orthogonal matrix with left singular vectors, which represents the relationship between users and latent factors, $S$ is a $r \\times r $ diagonal matrix, which describes the strength of each latent factor and $V^\\top$ is a $r \\times n$ matrix with right singular vectors, which represent the embeddings of  items (movies in our case) in latent space.\n",
    "Describe any simple heuristic to choose appropriate value for $r$ and explain why do you expect that it will work.\n"
   ]
  },
  {
   "cell_type": "code",
   "execution_count": null,
   "metadata": {
    "id": "qxYtnm7au7Ci"
   },
   "outputs": [],
   "source": [
    "# Importing Libraries\n",
    "import numpy as np\n",
    "import pandas as pd\n",
    "\n",
    "# Read the dataset\n",
    "\n",
    "# Create the interaction matrix\n",
    "\n",
    "# Normalize the matrix\n"
   ]
  },
  {
   "cell_type": "code",
   "execution_count": null,
   "metadata": {
    "id": "3zUd9OvBu7Cj"
   },
   "outputs": [],
   "source": [
    "# Compute Singular Value Decomposition of interaction matrix. You can use built-in functions\n",
    "\n",
    "U,S, V = svd(M) # Update this line, it is just example"
   ]
  },
  {
   "cell_type": "markdown",
   "metadata": {
    "id": "SMXnKF5Tu7Cj"
   },
   "source": [
    "3) (2 pts) In order to get weighted item-latent factors, we can multiply $S$ and $V^{T}$. Please, remember that $S$ is diagonal and multiply them efficiently."
   ]
  },
  {
   "cell_type": "code",
   "execution_count": null,
   "metadata": {
    "id": "VEW4M5Ovu7Cj"
   },
   "outputs": [],
   "source": [
    "# Your solutuion is here"
   ]
  },
  {
   "cell_type": "markdown",
   "metadata": {
    "id": "eEMDQkkqu7Ck"
   },
   "source": [
    "Now we have vectors that represent our item space. In other words we have $N$ movies and $N$ vectors which describe each movie, a.k.a. embeddings. \n",
    "In order to know if two movies are similar or not we need just to check if the corresponding vectors are similair or not. How we can do this?\n",
    "\n",
    "4) (2 pts)  Implement the cosine metric. If the cosine metric between two vectors equals to $1$ both vectors are collinear, if $0$ vectors are orthogonal, as a result corresponding movies are completely different.\n",
    "\n",
    "$$\n",
    "cosine(u,v) = \\frac{u^{\\top}v}{\\|u\\|_2\\|v\\|_2}\n",
    "$$"
   ]
  },
  {
   "cell_type": "code",
   "execution_count": null,
   "metadata": {
    "id": "lAR4dXMOOGI_"
   },
   "outputs": [],
   "source": [
    "# Your solutuion is here"
   ]
  },
  {
   "cell_type": "markdown",
   "metadata": {
    "id": "6wRZh8ALu7C1"
   },
   "source": [
    "5) (5 pts) Check your result. Implement the fuction, which finds and prints $k$ similar movies to the one you have chosen"
   ]
  },
  {
   "cell_type": "code",
   "execution_count": null,
   "metadata": {
    "id": "26g7MzeWu7C1"
   },
   "outputs": [],
   "source": [
    "# Your solutuion is here"
   ]
  },
  {
   "cell_type": "markdown",
   "metadata": {
    "id": "oPIQfKcmu7C2"
   },
   "source": [
    "Enjoy watching the recommended movies!\n"
   ]
  }
 ],
 "metadata": {
  "colab": {
   "collapsed_sections": [
    "4Bkte_bvka5v",
    "Zou51BUVD9WK",
    "7JN6SPoUD9Dr",
    "-pfQD_L8IpK4",
    "OzThXAEFhNsp",
    "vvtmVCPThQTV",
    "SZejGoDJkg2c",
    "H2SewWHHkgYj",
    "MGkALIcxHyfw",
    "7S0tqOtBMwqP",
    "FsB_ftoaQ8HM",
    "R47AGo7BUmyl"
   ],
   "name": "Chernyy_Vladimir_HW2.ipynb",
   "provenance": []
  },
  "kernelspec": {
   "display_name": "Python 3 (ipykernel)",
   "language": "python",
   "name": "python3"
  },
  "language_info": {
   "codemirror_mode": {
    "name": "ipython",
    "version": 3
   },
   "file_extension": ".py",
   "mimetype": "text/x-python",
   "name": "python",
   "nbconvert_exporter": "python",
   "pygments_lexer": "ipython3",
   "version": "3.9.8"
  }
 },
 "nbformat": 4,
 "nbformat_minor": 1
}
