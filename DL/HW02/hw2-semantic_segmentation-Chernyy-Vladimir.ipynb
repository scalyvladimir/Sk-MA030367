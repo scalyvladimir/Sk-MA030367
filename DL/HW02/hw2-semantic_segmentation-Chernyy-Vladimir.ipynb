{
 "cells": [
  {
   "cell_type": "markdown",
   "metadata": {
    "id": "LVIxz9O1N7g6"
   },
   "source": [
    "# Homework 2. Semantic Segmentation (50 points)\n",
    "---\n",
    "In this part, you will study a problem of segmentation. The goal of this assignment is to study, implement, and compare different components of dense prediction models, including **data augmentation**, **backbones**, **classifiers** and **losses**.\n",
    "\n",
    "This assignment will require training multiple neural networks, therefore it is advised to use a **GPU** accelerator."
   ]
  },
  {
   "cell_type": "markdown",
   "metadata": {
    "id": "-5Hmx1Yko0c5"
   },
   "source": [
    "<font color='red'>**In this task, it is obligatory to provide accuracy plots on the training and validation datasets obtained during training, as well as examples of the work of each of the models on the images. Without plots, your work will get 0 points. Writing a report is just as important as writing code.**</font>"
   ]
  },
  {
   "cell_type": "markdown",
   "metadata": {
    "id": "8S99AsI9SPf0"
   },
   "source": [
    "**<font color='red'>Before the submission please convert your notebook to .py file and check that it runs correctly. How to get .py file in Colab: File -> Download -> Download .py**"
   ]
  },
  {
   "cell_type": "code",
   "execution_count": 1,
   "metadata": {},
   "outputs": [],
   "source": [
    "# from IPython.display import display, HTML\n",
    "# display(HTML(\"<style>.container { width:100% !important; }</style>\"))"
   ]
  },
  {
   "cell_type": "code",
   "execution_count": 2,
   "metadata": {
    "id": "ZFvqQe-C1tyO"
   },
   "outputs": [],
   "source": [
    "# !pip install -U gdown\n",
    "# !pip install pytorch_lightning"
   ]
  },
  {
   "cell_type": "code",
   "execution_count": 3,
   "metadata": {
    "id": "li5_q8eKHEDK"
   },
   "outputs": [],
   "source": [
    "# Determine the locations of auxiliary libraries and datasets.\n",
    "# `AUX_DATA_ROOT` is where 'tiny-imagenet-2022.zip' is.\n",
    "\n",
    "# Detect if we are in Google Colaboratory\n",
    "try:\n",
    "    import google.colab\n",
    "    IN_COLAB = True\n",
    "except ImportError:\n",
    "    IN_COLAB = False\n",
    "\n",
    "from pathlib import Path\n",
    "if IN_COLAB:\n",
    "    google.colab.drive.mount(\"/content/drive\")\n",
    "    \n",
    "    # Change this if you created the shortcut in a different location\n",
    "    AUX_DATA_ROOT = Path(\"/content/drive/My Drive/Colab Notebooks/SK DL 2022/HW2\")\n",
    "    \n",
    "    assert AUX_DATA_ROOT.is_dir(), \"Have you forgot to 'Add a shortcut to Drive'?\"\n",
    "    \n",
    "    import sys\n",
    "    sys.path.append(str(AUX_DATA_ROOT))\n",
    "else:\n",
    "    AUX_DATA_ROOT = Path(\".\")"
   ]
  },
  {
   "cell_type": "code",
   "execution_count": 4,
   "metadata": {
    "id": "lejJ-z2sIIAJ"
   },
   "outputs": [
    {
     "data": {
      "text/plain": [
       "PosixPath('.')"
      ]
     },
     "execution_count": 4,
     "metadata": {},
     "output_type": "execute_result"
    }
   ],
   "source": [
    "AUX_DATA_ROOT"
   ]
  },
  {
   "cell_type": "code",
   "execution_count": 5,
   "metadata": {
    "id": "m4zCqVdsIIlZ"
   },
   "outputs": [],
   "source": [
    "# pass a python variable to console in brckets {}\n",
    "# !ls {'\"%s\"' % AUX_DATA_ROOT}"
   ]
  },
  {
   "cell_type": "code",
   "execution_count": 6,
   "metadata": {
    "id": "_7EtbrFUN7hD"
   },
   "outputs": [],
   "source": [
    "# %%capture\n",
    "\n",
    "# Uncomment and run if in Colab\n",
    "# !mkdir datasets\n",
    "# !cp '{AUX_DATA_ROOT}/tiny-floodnet-challenge.tar' datasets/tiny-floodnet-challenge.tar\n",
    "# !tar -xvf datasets/tiny-floodnet-challenge.tar -C datasets\n",
    "# !rm datasets/tiny-floodnet-challenge.tar"
   ]
  },
  {
   "cell_type": "code",
   "execution_count": 7,
   "metadata": {
    "id": "RIOJYjRuJw87"
   },
   "outputs": [],
   "source": [
    "# !ls datasets/tiny-floodnet-challenge"
   ]
  },
  {
   "cell_type": "markdown",
   "metadata": {
    "id": "tI6a6z4eN7hE"
   },
   "source": [
    "## Dataset\n",
    "\n",
    "We will use a simplified version of a [FloodNet Challenge](http://www.classic.grss-ieee.org/earthvision2021/challenge.html).\n",
    "\n",
    "Compared to the original challenge, our version doesn't have difficult (and rare) \"flooded\" labels, and the images are downsampled\n",
    "\n",
    "<img src=\"https://i.imgur.com/RZuVuVp.png\" />"
   ]
  },
  {
   "cell_type": "markdown",
   "metadata": {
    "id": "vf0zwWxrN7hF"
   },
   "source": [
    "## Assignments and grading\n",
    "\n",
    "\n",
    "- **Part 1. Code**: fill in the empty gaps (marked with `#TODO`) in the code of the assignment (34 points):\n",
    "    - `dataset` -- 4 points\n",
    "    - `model` -- 20 points\n",
    "    - `loss` -- 8 points\n",
    "    - `train` -- 2 points\n",
    "- **Part 2. Train and benchmark** the performance of the required models (6 points):\n",
    "    - All 6 checkpoints are provided -- 3 points\n",
    "    - Checkpoints have > 0.5 accuracy -- 3 points\n",
    "- **Part 3. Report** your findings (10 points)\n",
    "    - Each task -- 2.5 points\n",
    "\n",
    "- **Total score**: 50 points.\n",
    "\n",
    "For detailed grading of each coding assignment, please refer to the comments inside the files. Please use the materials provided during a seminar and during a lecture to do a coding part, as this will help you to further familiarize yourself with PyTorch. Copy-pasting the code from Google Search will get penalized.\n",
    "\n",
    "In part 2, you should upload all your pre-trained checkpoints to your personal Google Drive, grant public access and provide a file ID, following the intructions in the notebook.\n",
    "\n",
    "Note that for each task in part 3 to count towards your final grade, you should complete the corresponding tasks in part 2.\n",
    "\n",
    "For example, if you are asked to compare Model X and Model Y, you should provide the checkpoints for these models in your submission, and their accuracies should be above minimal threshold."
   ]
  },
  {
   "cell_type": "markdown",
   "metadata": {
    "id": "tuS-7JPoSD6Q"
   },
   "source": [
    "## Part 1. Code\n"
   ]
  },
  {
   "cell_type": "markdown",
   "metadata": {
    "id": "DziabO6AN7hF"
   },
   "source": [
    "### `dataset`\n",
    "**TODO: implement and apply data augmentations**\n",
    "\n",
    "You'll need to study a popular augmentations library: [Albumentations](https://albumentations.ai/), and implement the requested augs. Remember that geometric augmentations need to be applied to both images and masks at the same time, and Albumentations has [native support](https://albumentations.ai/docs/getting_started/mask_augmentation/) for that."
   ]
  },
  {
   "cell_type": "code",
   "execution_count": 8,
   "metadata": {},
   "outputs": [],
   "source": [
    "# %%capture\n",
    "# !pip install albumentations"
   ]
  },
  {
   "cell_type": "code",
   "execution_count": 9,
   "metadata": {
    "id": "IfBtHlwB1Lzd"
   },
   "outputs": [],
   "source": [
    "from torch.utils.data import Dataset, DataLoader\n",
    "import albumentations as A\n",
    "from torchvision.transforms import ToTensor\n",
    "import os\n",
    "from PIL import Image\n",
    "import numpy as np\n",
    "import torch\n",
    "\n",
    "\n",
    "\n",
    "class FloodNet(Dataset):\n",
    "    \"\"\"\n",
    "    Labels semantic:\n",
    "    0: Background, 1: Building, 2: Road, 3: Water, 4: Tree, 5: Vehicle, 6: Pool, 7: Grass\n",
    "    \"\"\"\n",
    "    def __init__(\n",
    "        self,\n",
    "        data_path: str,\n",
    "        phase: str,\n",
    "        augment: bool,\n",
    "        img_size: int,\n",
    "    ):\n",
    "        self.num_classes = 8\n",
    "        self.data_path = data_path\n",
    "        self.phase = phase\n",
    "        self.augment = augment\n",
    "        self.img_size = img_size\n",
    "\n",
    "        self.items = [filename.split('.')[0] for filename in os.listdir(f'{data_path}/{phase}/image')]\n",
    "        \n",
    "        if augment:\n",
    "            self.transform = A.Compose([\n",
    "                A.RandomScale(scale_limit=[1.1, 1.5]),\n",
    "                A.RandomCrop(img_size, img_size),\n",
    "                A.Rotate(p=0.2),\n",
    "                A.HorizontalFlip(p=0.2),\n",
    "                A.VerticalFlip(p=0.2),\n",
    "                A.ColorJitter()\n",
    "            ])\n",
    "\n",
    "        else:\n",
    "            self.transform = A.RandomCrop(img_size, img_size)\n",
    "        \n",
    "        self.to_tensor = ToTensor()\n",
    "\n",
    "    def __len__(self):\n",
    "        return len(self.items)\n",
    "\n",
    "    def __getitem__(self, index):\n",
    "        image = np.asarray(Image.open(f'{self.data_path}/{self.phase}/image/{self.items[index]}.jpg'))\n",
    "        mask = np.asarray(Image.open(f'{self.data_path}/{self.phase}/mask/{self.items[index]}.png'))\n",
    "        \n",
    "        if self.phase == 'train':            \n",
    "            augumented = self.transform(image=image, mask=mask)\n",
    "            image = augumented['image']\n",
    "            mask = augumented['mask']\n",
    "        \n",
    "        image = self.to_tensor(image.copy())\n",
    "        mask = torch.from_numpy(mask.copy()).long()\n",
    "\n",
    "        if self.phase == 'train':\n",
    "            assert isinstance(image, torch.FloatTensor) and image.shape == (3, self.img_size, self.img_size)\n",
    "            assert isinstance(mask, torch.LongTensor) and mask.shape == (self.img_size, self.img_size)\n",
    "\n",
    "        return image, mask"
   ]
  },
  {
   "cell_type": "markdown",
   "metadata": {
    "id": "y-Qcudg1N7hG"
   },
   "source": [
    "### `model`\n",
    "**TODO: Implement the required models.**\n",
    "\n",
    "Typically, all segmentation networks consist of an encoder and decoder. Below is a scheme for a popular DeepLab v3 architecture:\n",
    "\n",
    "<img src=\"https://i.imgur.com/cdlkxvp.png\" />\n",
    "\n",
    "The encoder consists of a convolutional backbone, typically with extensive use of convs with dilations (atrous convs) and a head, which helps to further boost the receptive field. As you can see, the general idea for the encoders is to have as big of a receptive field, as possible.\n",
    "\n",
    "The decoder either does upsampling with convolutions (similarly to the scheme above, or to UNets), or even by simply interpolating the outputs of the encoder.\n",
    "\n",
    "In this assignment, you will need to implement **UNet** and **DeepLab** models. Example UNet looks like this:\n",
    "\n",
    "<img src=\"https://i.imgur.com/uVdcE4e.png\" />\n",
    "\n",
    "For **DeepLab** model we will have three variants for backbones: **ResNet18**, **VGG11 (with BatchNorm)**, and **MobileNet v3 (small).** Use `torchvision.models` to obtain pre-trained versions of these backbones and simply extract their convolutional parts. To familiarize yourself with **MobileNet v3** model, follow this [link](https://paperswithcode.com/paper/searching-for-mobilenetv3).\n",
    "\n",
    "We will also use **Atrous Spatial Pyramid Pooling (ASPP)** head. Its scheme can be seen in the DeepLab v3 architecture above. ASPP is one of the blocks which greatly increases the spatial size of the model, and hence boosts the model's performance. For more details, you can refer to this [link](https://paperswithcode.com/method/aspp)."
   ]
  },
  {
   "cell_type": "code",
   "execution_count": 10,
   "metadata": {
    "id": "g4YZ3736KaFd"
   },
   "outputs": [],
   "source": [
    "import torch\n",
    "from torch import nn\n",
    "from torch.nn import functional as F\n",
    "from torchvision import models\n",
    "\n",
    "\n",
    "class ConvLayer(nn.Module):\n",
    "\n",
    "    def __init__(self, in_channels, out_channels):\n",
    "        super().__init__()\n",
    "        self.conv = nn.Sequential(\n",
    "            nn.Conv2d(in_channels, out_channels, kernel_size=3, bias=False, padding=1),\n",
    "            nn.BatchNorm2d(out_channels),\n",
    "            nn.ReLU(),\n",
    "            \n",
    "            nn.Conv2d(out_channels, out_channels, kernel_size=3, bias=False, padding=1),\n",
    "            nn.BatchNorm2d(out_channels),\n",
    "            nn.ReLU()\n",
    "        )\n",
    "        \n",
    "    def forward(self, x):\n",
    "        return self.conv(x)\n",
    "\n",
    "\n",
    "class UNet(nn.Module):\n",
    "    \"\"\"\n",
    "    TODO: 8 points\n",
    "\n",
    "    A standard UNet network (with padding in covs).\n",
    "\n",
    "    For reference, see the scheme in materials/unet.png\n",
    "    - Use batch norm between conv and relu\n",
    "    - Use max pooling for downsampling\n",
    "    - Use conv transpose with kernel size = 3, stride = 2, padding = 1, and output padding = 1 for upsampling\n",
    "    - Use 0.5 dropout after concat\n",
    "\n",
    "    Args:\n",
    "      - num_classes: number of output classes\n",
    "      - min_channels: minimum number of channels in conv layers\n",
    "      - max_channels: number of channels in the bottleneck block\n",
    "      - num_down_blocks: number of blocks which end with downsampling\n",
    "\n",
    "    The full architecture includes downsampling blocks, a bottleneck block and upsampling blocks\n",
    "\n",
    "    You also need to account for inputs which size does not divide 2**num_down_blocks:\n",
    "    interpolate them before feeding into the blocks to the nearest size which divides 2**num_down_blocks,\n",
    "    and interpolate output logits back to the original shape\n",
    "    \"\"\"\n",
    "    def __init__(self, \n",
    "                 num_classes,\n",
    "                 min_channels=32,\n",
    "                 max_channels=512, \n",
    "                 num_down_blocks=4):\n",
    "        super(UNet, self).__init__()\n",
    "        \n",
    "        self.num_classes = num_classes\n",
    "        self.num_down_blocks = num_down_blocks\n",
    "        self.min_channels = min_channels\n",
    "        self.max_channels = max_channels\n",
    "            \n",
    "        self.pool = nn.MaxPool2d(kernel_size=2)\n",
    "            \n",
    "        l = int(np.log2(min_channels))\n",
    "        r = int(np.log2(max_channels))\n",
    "\n",
    "        features = np.logspace(l, r, self.num_down_blocks, base=2, dtype=int)\n",
    "            \n",
    "        # Downsampling blocks\n",
    "        self.convs = nn.ModuleList()\n",
    "        \n",
    "        in_channels = 3\n",
    "        \n",
    "        for feature in features:\n",
    "            self.convs.append(ConvLayer(in_channels, feature))\n",
    "            in_channels = feature\n",
    "        \n",
    "        # Bottleneck block\n",
    "        \n",
    "        self.bottleneck = ConvLayer(features[-1], features[-1])\n",
    "        \n",
    "        # Upsampling blocks\n",
    "        \n",
    "        self.ups = nn.ModuleList()\n",
    "        \n",
    "        in_channels = 2 * features[-1]\n",
    "        \n",
    "        features = features[::-1]\n",
    "                \n",
    "        for i, feature in enumerate(features[:-1:]):\n",
    "            self.ups.append(\n",
    "                nn.ConvTranspose2d(\n",
    "                    feature, feature, kernel_size=3,\n",
    "                    stride=2, padding=1, output_padding=1, bias=False\n",
    "                )\n",
    "           )\n",
    "            self.ups.append(nn.Sequential(nn.Dropout(p=0.5), ConvLayer(in_channels, features[i+1])))\n",
    "            in_channels = 2 * features[i+1]\n",
    "                                  \n",
    "        self.last_layer = nn.Sequential(\n",
    "            nn.Conv2d(features[-1], self.num_classes, kernel_size=1, bias=False, padding=1),\n",
    "            nn.BatchNorm2d(self.num_classes),\n",
    "            nn.Sigmoid()\n",
    "        )\n",
    "\n",
    "    def forward(self, inputs):\n",
    "        \n",
    "        new_size = max(inputs.shape[2:])\n",
    "        new_size = int(2**self.num_down_blocks * round(new_size / 2**self.num_down_blocks))\n",
    "        old_size = inputs.shape[2:]\n",
    "        \n",
    "        out = F.interpolate(inputs, new_size, mode='bilinear', align_corners=False, recompute_scale_factor=False)\n",
    "        \n",
    "        skips_list = []\n",
    "        \n",
    "        for conv in self.convs:\n",
    "            out = conv(out)\n",
    "            skips_list.append(out)                \n",
    "            out = self.pool(out)\n",
    "        \n",
    "        out = self.bottleneck(out)\n",
    "        \n",
    "        skips_list = skips_list[::-1]\n",
    "        \n",
    "        for i in range(0, len(self.ups), 2):\n",
    "                        \n",
    "            out = self.ups[i](out)\n",
    "            out = torch.cat((skips_list[i // 2], out), dim=1)       \n",
    "            out = self.ups[i+1](out)          \n",
    "        \n",
    "        out = self.last_layer(out)\n",
    "        \n",
    "        logits = F.interpolate(out, old_size, mode='bilinear', align_corners=False, recompute_scale_factor=False)\n",
    "        \n",
    "        assert logits.shape == (inputs.shape[0], self.num_classes, inputs.shape[2], inputs.shape[3]), 'Wrong shape of the logits'\n",
    "        return logits\n",
    "\n",
    "\n",
    "class DeepLab(nn.Module):\n",
    "    \"\"\"\n",
    "    TODO: 6 points\n",
    "\n",
    "    (simplified) DeepLab segmentation network.\n",
    "    \n",
    "    Args:\n",
    "      - backbone: ['resnet18', 'vgg11_bn', 'mobilenet_v3_small'],\n",
    "      - aspp: use aspp module\n",
    "      - num classes: num output classes\n",
    "\n",
    "    During forward pass:\n",
    "      - Pass inputs through the backbone to obtain features\n",
    "      - Apply ASPP (if needed)\n",
    "      - Apply head\n",
    "      - Upsample logits back to the shape of the inputs\n",
    "    \"\"\"\n",
    "    def __init__(self, backbone, aspp, num_classes):\n",
    "        super(DeepLab, self).__init__()\n",
    "        self.backbone = backbone\n",
    "        self.num_classes = num_classes\n",
    "        self.init_backbone()\n",
    "\n",
    "        if aspp:\n",
    "            self.aspp = ASPP(self.out_features, 256, [12, 24, 36])\n",
    "\n",
    "        self.head = DeepLabHead(self.out_features, num_classes)\n",
    "\n",
    "    def init_backbone(self):\n",
    "        if self.backbone == 'resnet18':\n",
    "            model = models.resnet18\n",
    "\n",
    "        elif self.backbone == 'vgg11_bn':\n",
    "            model = models.vgg11_bn\n",
    "\n",
    "        elif self.backbone == 'mobilenet_v3_small':\n",
    "            model = models.mobilenet_v3_small\n",
    "            \n",
    "        modules = list(model(pretrained=True).children())[:-2]\n",
    "        \n",
    "        self.backbone_model = nn.Sequential(*modules)    \n",
    "        self.out_features = list(self.backbone_model.parameters())[-1].shape[0]\n",
    "\n",
    "    def _forward(self, x):\n",
    "     \n",
    "        x = self.backbone_model(x)\n",
    "        \n",
    "        return x\n",
    "\n",
    "    def forward(self, inputs):\n",
    "        \n",
    "        old_size = inputs.shape[2:]\n",
    "        \n",
    "        logits = self._forward(inputs)\n",
    "        \n",
    "        if hasattr(self, 'aspp'):\n",
    "            logits = self.aspp(logits)\n",
    "        \n",
    "        logits = self.head(logits)\n",
    "        \n",
    "        logits = F.interpolate(logits, old_size, mode='bilinear', align_corners=False, recompute_scale_factor=False)\n",
    "\n",
    "        assert logits.shape == (inputs.shape[0], self.num_classes, inputs.shape[2], inputs.shape[3]), 'Wrong shape of the logits'\n",
    "        return logits\n",
    "\n",
    "\n",
    "class DeepLabHead(nn.Sequential):\n",
    "    def __init__(self, in_channels, num_classes):\n",
    "        super(DeepLabHead, self).__init__(\n",
    "            nn.Conv2d(in_channels, in_channels, 3, padding=1, bias=False),\n",
    "            nn.BatchNorm2d(in_channels),\n",
    "            nn.ReLU(),\n",
    "            nn.Conv2d(in_channels, num_classes, 1)\n",
    "        )\n",
    "\n",
    "\n",
    "class ASPP(nn.Module):\n",
    "    \"\"\"\n",
    "    TODO: 8 points\n",
    "\n",
    "    Atrous Spatial Pyramid Pooling module\n",
    "    with given atrous_rates and out_channels for each head\n",
    "    Description: https://paperswithcode.com/method/aspp\n",
    "    \n",
    "    Detailed scheme: materials/deeplabv3.png\n",
    "      - \"Rates\" are defined by atrous_rates\n",
    "      - \"Conv\" denotes a Conv-BN-ReLU block\n",
    "      - \"Image pooling\" denotes a global average pooling, followed by a 1x1 \"conv\" block and bilinear upsampling\n",
    "      - The last layer of ASPP block should be Dropout with p = 0.5\n",
    "\n",
    "    Args:\n",
    "      - in_channels: number of input and output channels\n",
    "      - num_channels: number of output channels in each intermediate \"conv\" block\n",
    "      - atrous_rates: a list with dilation values\n",
    "    \"\"\"\n",
    "    def __init__(self, in_channels, num_channels, atrous_rates):\n",
    "        super(ASPP, self).__init__()\n",
    "        \n",
    "        self.aspp = nn.ModuleList()\n",
    "        \n",
    "        self.aspp.append(\n",
    "            nn.Sequential(\n",
    "                nn.Conv2d(in_channels, num_channels, 1),\n",
    "                nn.BatchNorm2d(num_channels),\n",
    "                nn.ReLU()\n",
    "            )\n",
    "        )\n",
    "        \n",
    "        for at_rate in atrous_rates:\n",
    "            \n",
    "            tmp_layer = nn.Sequential(\n",
    "                nn.Conv2d(in_channels, num_channels, 1, dilation=at_rate),\n",
    "                nn.BatchNorm2d(num_channels),\n",
    "                nn.ReLU()\n",
    "            )\n",
    "            \n",
    "            self.aspp.append(tmp_layer)\n",
    "        \n",
    "        self.image_pool = nn.Conv2d(in_channels, num_channels, 1)\n",
    "        self.avg_pool = nn.AvgPool2d\n",
    "        self.last_conv = nn.Conv2d(5 * num_channels, in_channels, 1)\n",
    "        \n",
    "    def forward(self, x):        \n",
    "        res = self.aspp[0](x)\n",
    "        \n",
    "        for layer in self.aspp[1:]:\n",
    "            res = torch.cat((res, layer(x)), dim=1)\n",
    "            \n",
    "        tmp = nn.Sequential(\n",
    "            self.avg_pool(x.shape[2:]),\n",
    "            self.image_pool\n",
    "        )(x)\n",
    "        \n",
    "        tmp = F.interpolate(tmp, x.shape[2:], mode='bilinear', align_corners=False, recompute_scale_factor=False)\n",
    "            \n",
    "        res = torch.cat((res, tmp), dim=1)\n",
    "        res = self.last_conv(res)\n",
    "        res = nn.Dropout(p=0.5)(res)\n",
    "        \n",
    "        assert res.shape[1] == x.shape[1], 'Wrong number of output channels'\n",
    "        assert res.shape[2] == x.shape[2] and res.shape[3] == x.shape[3], 'Wrong spatial size'\n",
    "        return res"
   ]
  },
  {
   "cell_type": "markdown",
   "metadata": {
    "id": "8VDn5sE3N7hH"
   },
   "source": [
    "### `loss`\n",
    "**TODO: implement test losses.**\n",
    "\n",
    "For validation, we will use three metrics. \n",
    "- Mean intersection over union: **mIoU**,\n",
    "- Mean class accuracy: **classAcc**,\n",
    "- Accuracy: **Acc**.\n",
    "\n",
    "To calculate **IoU**, use this formula for binary segmentation masks for each class, and then average w.r.t. all classes:\n",
    "\n",
    "$$ \\text{IoU} = \\frac{ \\text{area of intersection} }{ \\text{area of union} } = \\frac{ \\| \\hat{m} \\cap m  \\| }{ \\| \\hat{m} \\cup m \\| }, \\quad \\text{$\\hat{m}$ — predicted binary mask},\\ \\text{$m$ — target binary mask}.$$\n",
    "\n",
    "Generally, we want our models to optimize accuracy since this implies that it makes little mistakes. However, most of the segmentation problems have imbalanced classes, and therefore the models tend to underfit the rare classes. Therefore, we also need to measure the mean performance of the model across all classes (mean IoU or mean class accuracy). In reality, these metrics (not the accuracy) are the go-to benchmarks for segmentation models."
   ]
  },
  {
   "cell_type": "code",
   "execution_count": 11,
   "metadata": {
    "id": "9Ekvzad5Ke39"
   },
   "outputs": [],
   "source": [
    "def calc_val_data(preds, masks, num_classes):\n",
    "    preds = torch.argmax(preds, dim=1)\n",
    "    \n",
    "    a = F.one_hot(preds, num_classes)\n",
    "    b = F.one_hot(masks, num_classes)\n",
    "    \n",
    "    intersection = torch.sum(torch.logical_and(a, b), dim=(1, 2))\n",
    "    union = torch.sum(torch.logical_or(a, b), dim=(1, 2))\n",
    "    target = torch.sum(b, dim=(1, 2))\n",
    "    # Output shapes: B x num_classes\n",
    "\n",
    "    assert isinstance(intersection, torch.Tensor), 'Output should be a tensor'\n",
    "    assert isinstance(union, torch.Tensor), 'Output should be a tensor'\n",
    "    assert isinstance(target, torch.Tensor), 'Output should be a tensor'\n",
    "\n",
    "    assert intersection.shape == union.shape == target.shape, 'Wrong output shape'\n",
    "    assert union.shape[0] == masks.shape[0] and union.shape[1] == num_classes, 'Wrong output shape'\n",
    "\n",
    "    return intersection, union, target\n",
    "\n",
    "def calc_val_loss(intersection, union, target, eps = 1e-7):\n",
    "    mean_iou = torch.mean(intersection / (union + eps))\n",
    "    mean_class_rec = torch.mean(intersection / (target + eps))\n",
    "    mean_acc = torch.sum(intersection, dim=1) / (torch.sum(target, dim=1) + eps)\n",
    "\n",
    "    return mean_iou, mean_class_rec, mean_acc"
   ]
  },
  {
   "cell_type": "markdown",
   "metadata": {
    "id": "aRiIQ1_5N7hH"
   },
   "source": [
    "### `train`\n",
    "**TODO: define optimizer and learning rate scheduler.**\n",
    "\n",
    "You need to experiment with different optimizers and schedulers and pick one of each which works the best. Since the grading will be partially based on the validation performance of your models, we strongly advise doing some preliminary experiments and pick the configuration with the best results."
   ]
  },
  {
   "cell_type": "code",
   "execution_count": 12,
   "metadata": {},
   "outputs": [],
   "source": [
    "# %%capture\n",
    "# !pip install pytorch_lightning"
   ]
  },
  {
   "cell_type": "code",
   "execution_count": 13,
   "metadata": {
    "id": "Ur5xGQ_wKzGp"
   },
   "outputs": [],
   "source": [
    "# Copyright The PyTorch Lightning team.\n",
    "#\n",
    "# Licensed under the Apache License, Version 2.0 (the \"License\");\n",
    "# you may not use this file except in compliance with the License.\n",
    "# You may obtain a copy of the License at\n",
    "#\n",
    "#     http://www.apache.org/licenses/LICENSE-2.0\n",
    "#\n",
    "# Modifications Copyright Skoltech Deep Learning Course.\n",
    "\n",
    "import torch\n",
    "import torch.nn.functional as F\n",
    "import pytorch_lightning as pl\n",
    "from torch.utils.data import DataLoader\n",
    "\n",
    "\n",
    "class SegModel(pl.LightningModule):\n",
    "    def __init__(\n",
    "        self,\n",
    "        model: str,\n",
    "        backbone: str,\n",
    "        aspp: bool,\n",
    "        augment_data: bool,\n",
    "        optimizer: str = 'default',\n",
    "        scheduler: str = 'default',\n",
    "        lr: float = None,\n",
    "        batch_size: int = 16,\n",
    "        data_path: str = 'datasets/tiny-floodnet-challenge',\n",
    "        image_size: int = 256,\n",
    "    ):\n",
    "        super(SegModel, self).__init__()\n",
    "        self.num_classes = 8\n",
    "\n",
    "        if model == 'unet':\n",
    "            self.net = UNet(self.num_classes)\n",
    "        elif model == 'deeplab':\n",
    "            self.net = DeepLab(backbone, aspp, self.num_classes)\n",
    "\n",
    "        self.train_dataset = FloodNet(data_path, 'train', augment_data, image_size)\n",
    "        self.test_dataset = FloodNet(data_path, 'test', augment_data, image_size)\n",
    "\n",
    "        self.batch_size = batch_size\n",
    "        self.optimizer = optimizer\n",
    "        self.scheduler = scheduler\n",
    "        self.lr = lr\n",
    "        self.eps = 1e-7\n",
    "\n",
    "        # Visualization\n",
    "        self.color_map = torch.FloatTensor(\n",
    "            [[0, 0, 0], [0, 0, 1], [0, 1, 0], [0, 1, 1],\n",
    "             [1, 0, 0], [1, 0, 1], [1, 1, 0], [1, 1, 1]])\n",
    "\n",
    "    def forward(self, x):\n",
    "        return self.net(x)\n",
    "\n",
    "    def training_step(self, batch, batch_idx):\n",
    "        img, mask = batch\n",
    "        pred = self.forward(img)\n",
    "\n",
    "        train_loss = F.cross_entropy(pred, mask)\n",
    "\n",
    "        self.log('train_loss', train_loss, prog_bar=True)\n",
    "\n",
    "        return train_loss\n",
    "\n",
    "    def validation_step(self, batch, batch_idx):\n",
    "        img, mask = batch\n",
    "        pred = self.forward(img)\n",
    "\n",
    "        intersection, union, target = calc_val_data(pred, mask, self.num_classes)\n",
    "\n",
    "        return {'intersection': intersection, 'union': union, 'target': target, 'img': img, 'pred': pred, 'mask': mask}\n",
    "\n",
    "    def validation_epoch_end(self, outputs):\n",
    "        intersection = torch.cat([x['intersection'] for x in outputs])\n",
    "        union = torch.cat([x['union'] for x in outputs])\n",
    "        target = torch.cat([x['target'] for x in outputs])\n",
    "\n",
    "        mean_iou, mean_class_rec, mean_acc = calc_val_loss(intersection, union, target, self.eps)\n",
    "\n",
    "        log_dict = {'mean_iou': mean_iou, 'mean_class_rec': mean_class_rec, 'mean_acc': mean_acc}\n",
    "\n",
    "        for k, v in log_dict.items():\n",
    "            self.log(k, v, prog_bar=True)\n",
    "\n",
    "        # Visualize results\n",
    "        img = torch.cat([x['img'] for x in outputs]).cpu()\n",
    "        pred = torch.cat([x['pred'] for x in outputs]).cpu()\n",
    "        mask = torch.cat([x['mask'] for x in outputs]).cpu()\n",
    "\n",
    "        pred_vis = self.visualize_mask(torch.argmax(pred, dim=1))\n",
    "        mask_vis = self.visualize_mask(mask)\n",
    "\n",
    "        results = torch.cat(torch.cat([img, pred_vis, mask_vis], dim=3).split(1, dim=0), dim=2)\n",
    "        results_thumbnail = F.interpolate(results, scale_factor=0.25, mode='bilinear')[0]\n",
    "\n",
    "        self.logger.experiment.add_image('results', results_thumbnail, self.current_epoch)\n",
    "\n",
    "    def visualize_mask(self, mask):\n",
    "        b, h, w = mask.shape\n",
    "        mask_ = mask.view(-1)\n",
    "\n",
    "        if self.color_map.device != mask.device:\n",
    "            self.color_map = self.color_map.to(mask.device)\n",
    "\n",
    "        mask_vis = self.color_map[mask_].view(b, h, w, 3).permute(0, 3, 1, 2).clone()\n",
    "\n",
    "        return mask_vis\n",
    "\n",
    "    def configure_optimizers(self):\n",
    "        \n",
    "        opt_dict = {\n",
    "            'adam': torch.optim.Adam(lr=float(self.lr), params=self.net.parameters())\n",
    "        }\n",
    "        \n",
    "        opt = opt_dict[self.optimizer]\n",
    "        \n",
    "        sch_dict = {\n",
    "            'step': torch.optim.lr_scheduler.StepLR(opt, 100, gamma=0.9)\n",
    "        }\n",
    "                                                   \n",
    "        sch = sch_dict[self.scheduler]\n",
    "        return [opt], [sch]\n",
    "\n",
    "    def train_dataloader(self):\n",
    "        return DataLoader(self.train_dataset, num_workers=8, batch_size=self.batch_size, shuffle=True)\n",
    "\n",
    "    def val_dataloader(self):\n",
    "        return DataLoader(self.test_dataset, num_workers=8, batch_size=1, shuffle=False)"
   ]
  },
  {
   "cell_type": "markdown",
   "metadata": {
    "id": "Hi3TDmYyN7hI"
   },
   "source": [
    "## Part 2. Train and benchmark\n",
    "\n",
    "In this part of the assignment, you need to train the following models and measure their training time:\n",
    "- **UNet** (with and without data augmentation),\n",
    "- **DeepLab** with **ResNet18** backbone (with **ASPP** = True and False),\n",
    "- **DeepLab** with the remaining backbones you implemented and **ASPP** = True).\n",
    "\n",
    "To get the full mark for this assignment, all the required models should be trained (and their checkpoints provided), and have at least 0.5 accuracies.\n",
    "\n",
    "After the models are trained, evaluate their inference time on both GPU and CPU.\n",
    "\n",
    "Example training and evaluation code are below."
   ]
  },
  {
   "cell_type": "code",
   "execution_count": 14,
   "metadata": {
    "id": "dFKHCO_DN7hJ"
   },
   "outputs": [],
   "source": [
    "import pytorch_lightning as pl\n",
    "import time\n",
    "import torch\n",
    "\n",
    "\n",
    "def define_model(model_name: str, \n",
    "                 backbone: str, \n",
    "                 aspp: bool, \n",
    "                 augment_data: bool, \n",
    "                 optimizer: str, \n",
    "                 scheduler: str, \n",
    "                 lr: float, \n",
    "                 checkpoint_name: str = '', \n",
    "                 batch_size: int = 16):\n",
    "    assignment_dir = 'semantic_segmentation'\n",
    "    experiment_name = f'{model_name}_{backbone}_augment={augment_data}_aspp={aspp}'\n",
    "    model_name = model_name.lower()\n",
    "    backbone = backbone.lower() if backbone is not None else backbone\n",
    "    \n",
    "    model = SegModel(\n",
    "        model_name, \n",
    "        backbone, \n",
    "        aspp, \n",
    "        augment_data,\n",
    "        optimizer,\n",
    "        scheduler,\n",
    "        lr,\n",
    "        batch_size, \n",
    "        data_path='datasets/tiny-floodnet-challenge', \n",
    "        image_size=256)\n",
    "\n",
    "    if checkpoint_name:\n",
    "        model.load_state_dict(torch.load(f'{assignment_dir}/logs/{experiment_name}/{checkpoint_name}')['state_dict'])\n",
    "    \n",
    "    return model, experiment_name\n",
    "\n",
    "def train(model, experiment_name, use_gpu):\n",
    "    assignment_dir = 'semantic_segmentation'\n",
    "\n",
    "    logger = pl.loggers.TensorBoardLogger(save_dir=f'{assignment_dir}/logs', name=experiment_name)\n",
    "\n",
    "    checkpoint_callback = pl.callbacks.ModelCheckpoint(\n",
    "        monitor='mean_iou',\n",
    "        dirpath=f'{assignment_dir}/logs/{experiment_name}',\n",
    "        filename='{epoch:02d}-{mean_iou:.3f}',\n",
    "        mode='max')\n",
    "    \n",
    "    trainer = pl.Trainer(\n",
    "        max_epochs=60,\n",
    "        gpus=1 if use_gpu else None,\n",
    "        benchmark=True, \n",
    "        check_val_every_n_epoch=5, \n",
    "        logger=logger, \n",
    "        callbacks=[checkpoint_callback])\n",
    "\n",
    "    time_start = time.time()\n",
    "    \n",
    "    trainer.fit(model)\n",
    "    \n",
    "    torch.cuda.synchronize()\n",
    "    time_end = time.time()\n",
    "    \n",
    "    training_time = (time_end - time_start) / 60\n",
    "    \n",
    "    return training_time"
   ]
  },
  {
   "cell_type": "code",
   "execution_count": 15,
   "metadata": {},
   "outputs": [],
   "source": [
    "# !echo ${NVIDIA_VISIBLE_DEVICES}"
   ]
  },
  {
   "cell_type": "code",
   "execution_count": 16,
   "metadata": {},
   "outputs": [],
   "source": [
    "# !echo ${CUDA_VISIBLE_DEVICES}"
   ]
  },
  {
   "cell_type": "code",
   "execution_count": 17,
   "metadata": {},
   "outputs": [],
   "source": [
    "# %%capture\n",
    "# !pip install ipywidgets"
   ]
  },
  {
   "cell_type": "code",
   "execution_count": 18,
   "metadata": {
    "id": "xj3nksa7N7hK"
   },
   "outputs": [
    {
     "name": "stderr",
     "output_type": "stream",
     "text": [
      "GPU available: True, used: True\n",
      "TPU available: False, using: 0 TPU cores\n",
      "IPU available: False, using: 0 IPUs\n",
      "HPU available: False, using: 0 HPUs\n",
      "/opt/conda/lib/python3.8/site-packages/pytorch_lightning/callbacks/model_checkpoint.py:608: UserWarning: Checkpoint directory /workspace/DL/semantic_segmentation/logs/deeplab_mobilenet_v3_small_augment=True_aspp=True exists and is not empty.\n",
      "  rank_zero_warn(f\"Checkpoint directory {dirpath} exists and is not empty.\")\n"
     ]
    },
    {
     "name": "stdout",
     "output_type": "stream",
     "text": [
      "Training time: 0.059 minutes\n"
     ]
    },
    {
     "name": "stderr",
     "output_type": "stream",
     "text": [
      "/opt/conda/lib/python3.8/site-packages/pytorch_lightning/trainer/trainer.py:724: UserWarning: Detected KeyboardInterrupt, attempting graceful shutdown...\n",
      "  rank_zero_warn(\"Detected KeyboardInterrupt, attempting graceful shutdown...\")\n"
     ]
    }
   ],
   "source": [
    "model, experiment_name = define_model(\n",
    "    model_name='deeplab',\n",
    "    backbone='mobilenet_v3_small',\n",
    "    aspp=True,\n",
    "    augment_data=True,\n",
    "    optimizer='adam',\n",
    "    scheduler='step',\n",
    "    lr=1e-3)\n",
    "training_time = train(model, experiment_name, use_gpu=True)\n",
    "\n",
    "print(f'Training time: {training_time:.3f} minutes')"
   ]
  },
  {
   "cell_type": "markdown",
   "metadata": {
    "id": "jhZ7Lxl1N7hK"
   },
   "source": [
    "After training, the loss curves and validation images with their segmentation masks can be viewed using the TensorBoard extension:"
   ]
  },
  {
   "cell_type": "code",
   "execution_count": 136,
   "metadata": {
    "id": "hk5ZiCKZN7hL"
   },
   "outputs": [
    {
     "data": {
      "text/html": [
       "\n",
       "      <iframe id=\"tensorboard-frame-5f30fcd9651a9053\" width=\"100%\" height=\"800\" frameborder=\"0\">\n",
       "      </iframe>\n",
       "      <script>\n",
       "        (function() {\n",
       "          const frame = document.getElementById(\"tensorboard-frame-5f30fcd9651a9053\");\n",
       "          const url = new URL(\"/\", window.location);\n",
       "          const port = 2223;\n",
       "          if (port) {\n",
       "            url.port = port;\n",
       "          }\n",
       "          frame.src = url;\n",
       "        })();\n",
       "      </script>\n",
       "    "
      ],
      "text/plain": [
       "<IPython.core.display.HTML object>"
      ]
     },
     "metadata": {},
     "output_type": "display_data"
    }
   ],
   "source": [
    "%reload_ext tensorboard\n",
    "%tensorboard --logdir semantic_segmentation/logs/ --port 2223"
   ]
  },
  {
   "cell_type": "markdown",
   "metadata": {
    "id": "u_fRLdGlN7hL"
   },
   "source": [
    "Inference time can be measured via the following function:"
   ]
  },
  {
   "cell_type": "code",
   "execution_count": 178,
   "metadata": {
    "id": "oiSMdtO4N7hM"
   },
   "outputs": [
    {
     "name": "stdout",
     "output_type": "stream",
     "text": [
      "Inferece time (per frame): 13.205 ms\n"
     ]
    }
   ],
   "source": [
    "def calc_inference_time(model, device, input_shape=(1000, 750), num_iters=100):\n",
    "    timings = []\n",
    "\n",
    "    for i in range(num_iters):\n",
    "        x = torch.randn(1, 3, *input_shape).to(device)\n",
    "        time_start = time.time()\n",
    "        \n",
    "        model(x)\n",
    "        \n",
    "        torch.cuda.synchronize()\n",
    "        time_end = time.time()\n",
    "        \n",
    "        timings.append(time_end - time_start)\n",
    "\n",
    "    return sum(timings) / len(timings) * 1e3\n",
    "\n",
    "\n",
    "model, _ = define_model(\n",
    "    model_name='deeplab',\n",
    "    backbone='mobilenet_v3_small',\n",
    "    aspp=True,\n",
    "    augment_data=True,\n",
    "    optimizer='adam', # use these options to experiment\n",
    "    scheduler='step', # with optimizers and schedulers\n",
    "    lr=1e-3,\n",
    "    checkpoint_name='epoch=59-mean_iou=0.293.ckpt')\n",
    "\n",
    "# inference_time = calc_inference_time(model.eval().cpu(), 'cpu')\n",
    "inference_time = calc_inference_time(model.eval().cuda(), 'cuda')\n",
    "\n",
    "print(f'Inferece time (per frame): {inference_time:.3f} ms')"
   ]
  },
  {
   "cell_type": "markdown",
   "metadata": {
    "id": "Lh2ilbnoJzJ0"
   },
   "source": [
    "Your trained weights are available in the `part1_semantic_segmentation/logs` folder. Inside, your experiment directory has a log file with the following mask: `{epoch:02d}-{mean_iou:.3f}.ckpt`. <font color='red'>**Make sure that you models satisfy the accuracy requirements, upload them to your personal Google Drive, and provide a link to google drive folder**."
   ]
  },
  {
   "cell_type": "code",
   "execution_count": 223,
   "metadata": {
    "id": "fVXnmnSDJ1Kf"
   },
   "outputs": [],
   "source": [
    "checkpoint_names = {\n",
    "    'UNet_None_augment=False_aspp=None.ckpt',\n",
    "    'UNet_None_augment=True_aspp=None.ckpt',\n",
    "    'DeepLab_ResNet18_augment=True_aspp=False.ckpt',\n",
    "    'DeepLab_ResNet18_augment=True_aspp=True.ckpt',\n",
    "    'DeepLab_VGG11_bn_augment=True_aspp=True.ckpt',\n",
    "    'DeepLab_MobileNet_v3_small_augment=True_aspp=True.ckpt',\n",
    "}"
   ]
  },
  {
   "cell_type": "markdown",
   "metadata": {
    "id": "_2oX5M2ZN7hM"
   },
   "source": [
    "## Part 3. Report\n",
    "\n",
    "You should have obtained 6 different models, which we will use for the comparison and evaluation. When asked to visualize specific loss curves, simply configure these plots in TensorBoard, screenshot, store them in the `report` folder, and load into Jupyter markdown:\n",
    "\n",
    "`<img src=\"./part1_semantic_segmentation/report/<screenshot_filename>\"/>`\n",
    "\n",
    "If you have problems loading these images, try uploading them [here](https://imgur.com) and using a link as `src`. Do not forget to include the raw files in the `report` folder anyways.\n",
    "\n",
    "You should make sure that your plots satisfy the following requirements:\n",
    "- Each plot has a title,\n",
    "- If there are multiple curves on one plot (or dots on the scatter plot), the plot legend should also be present,\n",
    "- If the plot is not obtained using TensorBoard (Task 3), the axis should have names and ticks."
   ]
  },
  {
   "cell_type": "markdown",
   "metadata": {
    "id": "ZyN709bbtEnk"
   },
   "source": [
    "<font color='red'>**In this task, it is obligatory to provide accuracy plots on the training and validation datasets obtained during training, as well as examples of the work of each of the models on the images. Without plots, your work will get 0 points. Writing a report is just as important as writing code.**</font>"
   ]
  },
  {
   "cell_type": "markdown",
   "metadata": {
    "id": "_-vODgPbN7hN"
   },
   "source": [
    "#### Task 1.\n",
    "Visualize training loss and validation loss curves for UNet trained with and without data augmentation. What are the differences in the behavior of these curves between these experiments, and what are the reasons?"
   ]
  },
  {
   "cell_type": "markdown",
   "metadata": {},
   "source": [
    "<img src=\"./report/1.png\" width=\"600\"/>\n",
    "\n",
    "Legend:\n",
    "<img src=\"./report/1_legend.png\" width=\"500\"/>"
   ]
  },
  {
   "cell_type": "markdown",
   "metadata": {},
   "source": [
    "We can see, that non-augumented version behaves in more stable way. Although we trained for 60 epochs the significant difference is not clear."
   ]
  },
  {
   "cell_type": "markdown",
   "metadata": {
    "id": "hL14-DsON7hN"
   },
   "source": [
    "#### Task 2.\n",
    "Visualize training and validation loss curves for ResNet18 trained with and without ASPP. Which model performs better?"
   ]
  },
  {
   "cell_type": "markdown",
   "metadata": {
    "id": "GdGq0hUbN7hO"
   },
   "source": [
    "<img src=\"./report/2.png\" width=\"600\"/>\n",
    "\n",
    "Legend:\n",
    "<img src=\"./report/2_legend.png\" width=\"500\"/>"
   ]
  },
  {
   "cell_type": "markdown",
   "metadata": {},
   "source": [
    "And again, its not obvious what is better, but i could assume that model with `ASPP` behaves in a more unstable way."
   ]
  },
  {
   "cell_type": "markdown",
   "metadata": {
    "id": "SCIs_q4WN7hO"
   },
   "source": [
    "#### Task 3.\n",
    "Compare **UNet** with augmentations and **DeepLab** with all backbones (only experiments with **ASPP**). To do that, put these models on three scatter plots. For the first plot, the x-axis is **training time** (in minutes), for the second plot, the x-axis is **inference time** (in milliseconds), and for the third plot, the x-axis is **model size** (in megabytes). The size of each model is printed by PyTorch Lightning. For all plots, the y-axis is the best **mIoU**. To clarify, each of the **4** requested models should be a single dot on each of these plots.\n",
    "\n",
    "Which models are the most efficient with respect to each metric on the x-axes? For each of the evaluated models, rate its performance using their validation metrics, training and inference time, and model size. Also for each model explain what are its advantages, and how its performance could be improved?"
   ]
  },
  {
   "cell_type": "code",
   "execution_count": 22,
   "metadata": {},
   "outputs": [],
   "source": [
    "names_list = [\n",
    "    'UNet_None_augment=False_aspp=None.ckpt',\n",
    "    'UNet_None_augment=True_aspp=None.ckpt',\n",
    "    'DeepLab_ResNet18_augment=True_aspp=False.ckpt',\n",
    "    'DeepLab_ResNet18_augment=True_aspp=True.ckpt',\n",
    "    'DeepLab_VGG11_bn_augment=True_aspp=True.ckpt',\n",
    "    'DeepLab_MobileNet_v3_small_augment=True_aspp=True.ckpt',\n",
    "]"
   ]
  },
  {
   "cell_type": "code",
   "execution_count": 23,
   "metadata": {},
   "outputs": [
    {
     "data": {
      "image/png": "[encoded data removed]",
      "text/plain": [
       "<Figure size 2160x576 with 3 Axes>"
      ]
     },
     "metadata": {
      "needs_background": "light"
     },
     "output_type": "display_data"
    }
   ],
   "source": [
    "import matplotlib.pyplot as plt\n",
    "\n",
    "\n",
    "model_size_list = [56.251, 56.251, 54.164, 59.422, 51.620, 21.589]\n",
    "train_time_list = [8.653, 9.694, 8.666, 8.100, 8.402, 8.187]\n",
    "inference_time_list = [29.691, 29.686, 5.984, 7.502, 15.962, 13.205]\n",
    "\n",
    "best_miou_list = [0.2411, 0.2218, 0.2247, 0.2058, 0.2367, 0.293]\n",
    "names_list = [x.split('.')[0] for x in names_list]\n",
    "\n",
    "\n",
    "_, axes = plt.subplots(figsize=(30, 8), ncols=3, sharey=True)\n",
    "\n",
    "for ax, (x_vals, x_lab) in zip(axes, [(model_size_list, 'MB'), (train_time_list, 'mins'), (inference_time_list, 'ms')]):\n",
    "    \n",
    "    for i, model_name in enumerate(names_list):\n",
    "    \n",
    "        m = '*' if best_miou_list[i] == max(best_miou_list) else 'o'\n",
    "        s = 500 if m == '*' else 100\n",
    "    \n",
    "        ax.scatter(x_vals[i], best_miou_list[i], label=model_name, s=s, marker=m)\n",
    "        \n",
    "        ax.set_xlabel(x_lab, fontsize=20)\n",
    "        ax.set_ylabel('MIoU', fontsize=20)\n",
    "        ax.tick_params(axis='both', which='major', labelsize=15)\n",
    "        ax.legend(fontsize=10)\n",
    "        ax.grid('on')"
   ]
  },
  {
   "cell_type": "markdown",
   "metadata": {},
   "source": [
    "- `DL-Resnet` with `ASPP` is promising in terms of its inference and training time(best among the rest of models)\n",
    "\n",
    "\n",
    "- `DL-Resnet` w/o `ASPP` performs better(than with `ASPP`) in all terms, except the training time \n",
    "\n",
    "\n",
    "- `UNet` w/o augumentation is better that `UNet` with augumentation because it has a better accuracy(**top-2**) and smaller training time. It may be that decreasing `lr` value could help in augumented case together with decreasing the depth and increasing the range between `in/out_channels`.\n",
    "\n",
    "\n",
    "- `DL-VGG11` with `ASPP` could compete with better `UNet` after some extra parameter tuning, for now its worse in MIoU and better in the rest of aspects.\n",
    "\n",
    "\n",
    "- `DL-MobileNet` with `ASPP` has the smallest size and the best MIoU, obviously best approach, inference time relatively good."
   ]
  },
  {
   "cell_type": "markdown",
   "metadata": {
    "id": "C6FyZ7wqN7hO"
   },
   "source": [
    "#### Task 4.\n",
    "\n",
    "Pick the best model according to **mIoU** and look at the visualized predictions on the validation set in the TensorBoard. For each segmentation class, find the good examples (if they are available), and the failure cases. Provide the zoomed-in examples and their analysis below. Please do not attach full validation images, only the areas of interest which you should crop manually."
   ]
  },
  {
   "cell_type": "markdown",
   "metadata": {},
   "source": [
    "---"
   ]
  },
  {
   "cell_type": "markdown",
   "metadata": {
    "id": "8YIv1z-aN7hP"
   },
   "source": [
    "***GREEN***\n",
    "\n",
    "**Good**, overall structure is pretty similar:\n",
    "\n",
    "<img src=\"./report/classes/green_good.png\" width=\"600\"/>\n",
    "\n",
    "\n",
    "**Bad**, structure is not rectangular, missing parts:\n",
    "\n",
    "<img src=\"./report/classes/green_bad.png\" width=\"600\"/>"
   ]
  },
  {
   "cell_type": "markdown",
   "metadata": {},
   "source": [
    "---"
   ]
  },
  {
   "cell_type": "markdown",
   "metadata": {},
   "source": [
    "***RED***\n",
    "\n",
    "**Good**, overall structure is pretty similar:\n",
    "\n",
    "<img src=\"./report/classes/red_good.png\" width=\"600\"/>\n",
    "\n",
    "\n",
    "**Bad**, structure is lost in the left up angle:\n",
    "\n",
    "<img src=\"./report/classes/red_bad.png\" width=\"600\"/>"
   ]
  },
  {
   "cell_type": "markdown",
   "metadata": {},
   "source": [
    "---"
   ]
  },
  {
   "cell_type": "markdown",
   "metadata": {},
   "source": [
    "***DARKBLUE***\n",
    "\n",
    "**Good**, overall structure is pretty similar:\n",
    "\n",
    "<img src=\"./report/classes/blue_good.png\" width=\"600\"/>\n",
    "\n",
    "\n",
    "**Bad**, structure is not rectangular, missing parts:\n",
    "\n",
    "<img src=\"./report/classes/blue_bad.png\" width=\"600\"/>"
   ]
  },
  {
   "cell_type": "markdown",
   "metadata": {},
   "source": [
    "---"
   ]
  },
  {
   "cell_type": "markdown",
   "metadata": {},
   "source": [
    "***YELLOW***\n",
    "\n",
    "**Good**, small structures guessed:\n",
    "\n",
    "<img src=\"./report/classes/yellow_good.png\" width=\"600\"/>\n",
    "\n",
    "\n",
    "**Bad**, wrong coloring:\n",
    "\n",
    "<img src=\"./report/classes/yellow_bad.png\" width=\"600\"/>"
   ]
  },
  {
   "cell_type": "markdown",
   "metadata": {},
   "source": [
    "---"
   ]
  },
  {
   "cell_type": "markdown",
   "metadata": {},
   "source": [
    "***WHITEBLUE***\n",
    "\n",
    "**Good**, overall structure is pretty similar, somewhere even more precise that the ground truth:\n",
    "\n",
    "<img src=\"./report/classes/wblue_good.png\" width=\"600\"/>\n",
    "\n",
    "\n",
    "**Bad**, obviously:\n",
    "\n",
    "<img src=\"./report/classes/wblue_bad.png\" width=\"600\"/>"
   ]
  },
  {
   "cell_type": "markdown",
   "metadata": {},
   "source": [
    "---"
   ]
  },
  {
   "cell_type": "markdown",
   "metadata": {},
   "source": [
    "***PINK***\n",
    "\n",
    "**Good**, small structures guessed:\n",
    "\n",
    "<img src=\"./report/classes/pink_good.png\" width=\"600\"/>\n",
    "\n",
    "\n",
    "**Bad**, structure lost completely:\n",
    "\n",
    "<img src=\"./report/classes/pink_bad.png\" width=\"600\"/>"
   ]
  },
  {
   "cell_type": "markdown",
   "metadata": {},
   "source": [
    "---"
   ]
  },
  {
   "cell_type": "markdown",
   "metadata": {
    "id": "kFf1lCsCS0ci"
   },
   "source": [
    "**<font color='red'>Before the submission please:**\n",
    "\n",
    "*   comment all strings that start with '!' symbol\n",
    "*   convert your notebook to .py file and check that it runs correctly.\n",
    "* upload both .ipynb and .py to Canvas\n",
    "\n",
    "\n",
    "  How to get .py file in Colab: File -> Download -> Download .py</font>"
   ]
  },
  {
   "cell_type": "code",
   "execution_count": null,
   "metadata": {
    "colab": {
     "base_uri": "https://localhost:8080/"
    },
    "executionInfo": {
     "elapsed": 387,
     "status": "ok",
     "timestamp": 1649407211998,
     "user": {
      "displayName": "Alexandra M",
      "userId": "17564968754756954472"
     },
     "user_tz": -300
    },
    "id": "10ffl_GbS758",
    "outputId": "0f7bfd1d-1e46-4fad-b0a9-9b7dc1baf155"
   },
   "outputs": [],
   "source": [
    "# #Left side menu in Colab -> Files -> Upload your script and then check.\n",
    "# !python hw2-semantic_segmentation-Chernyy-Vladimir-attempt-1.py\n",
    "# comment this block after checking\n",
    "# # You can replace TODO strings to None"
   ]
  }
 ],
 "metadata": {
  "colab": {
   "collapsed_sections": [],
   "name": "hw2-semantic_segmentation-Surname-Name-attempt-1.ipynb",
   "provenance": []
  },
  "kernelspec": {
   "display_name": "Python 3 (ipykernel)",
   "language": "python",
   "name": "python3"
  },
  "language_info": {
   "codemirror_mode": {
    "name": "ipython",
    "version": 3
   },
   "file_extension": ".py",
   "mimetype": "text/x-python",
   "name": "python",
   "nbconvert_exporter": "python",
   "pygments_lexer": "ipython3",
   "version": "3.9.13"
  }
 },
 "nbformat": 4,
 "nbformat_minor": 1
}
