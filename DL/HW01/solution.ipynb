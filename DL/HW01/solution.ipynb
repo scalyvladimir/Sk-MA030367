{
  "nbformat": 4,
  "nbformat_minor": 0,
  "metadata": {
    "colab": {
      "name": "solution.ipynb",
      "provenance": [],
      "collapsed_sections": []
    },
    "kernelspec": {
      "name": "python3",
      "display_name": "Python 3"
    },
    "language_info": {
      "name": "python"
    },
    "accelerator": "GPU"
  },
  "cells": [
    {
      "cell_type": "code",
      "source": [
        "# CHECKPOINT_PATH = '/content/drive/My Drive/SK_DL_2022/HW01'"
      ],
      "metadata": {
        "id": "7ofJZDKd3Jbh"
      },
      "execution_count": null,
      "outputs": []
    },
    {
      "cell_type": "code",
      "source": [
        "# DO_SAVE_CHECKPOINT = False"
      ],
      "metadata": {
        "id": "ja_lR0fkCH0H"
      },
      "execution_count": null,
      "outputs": []
    },
    {
      "cell_type": "code",
      "source": [
        "CHECKPOINT_PATH = 'https://drive.google.com/drive/folders/1MQfTlZkwVAoaK_9kzsyF1II9GWfLSQwB?usp=sharing'"
      ],
      "metadata": {
        "id": "FwtKRi4o4CQ_"
      },
      "execution_count": null,
      "outputs": []
    },
    {
      "cell_type": "code",
      "execution_count": null,
      "metadata": {
        "colab": {
          "base_uri": "https://localhost:8080/"
        },
        "id": "pfUhhw4SyOBM",
        "outputId": "cfe9d61f-962d-4dd1-cdfe-4bf203999ba2"
      },
      "outputs": [
        {
          "output_type": "stream",
          "name": "stdout",
          "text": [
            "cuda\n"
          ]
        }
      ],
      "source": [
        "# Don't erase the template code, except \"Your code here\" comments.\n",
        "\n",
        "import subprocess\n",
        "import sys\n",
        "\n",
        "# List any extra packages you need here\n",
        "PACKAGES_TO_INSTALL = [\"gdown==4.4.0\", \"wandb\"]\n",
        "subprocess.check_call([sys.executable, \"-m\", \"pip\", \"install\"] + PACKAGES_TO_INSTALL)\n",
        "\n",
        "from torchvision import datasets, transforms as TT\n",
        "import numpy as np\n",
        "import random\n",
        "import torch\n",
        "import os\n",
        "\n",
        "def set_random_seed(seed):\n",
        "    torch.backends.cudnn.deterministic = True\n",
        "    torch.manual_seed(seed)\n",
        "    torch.cuda.manual_seed(seed)\n",
        "    np.random.seed(seed)\n",
        "    random.seed(seed)\n",
        "\n",
        "set_random_seed(42)\n",
        "\n",
        "device = torch.device('cuda' if torch.cuda.is_available() else 'cpu')\n",
        "print(device)"
      ]
    },
    {
      "cell_type": "code",
      "source": [
        "def get_dataloader(path, kind):\n",
        "    \"\"\"\n",
        "    Return dataloader for a `kind` split of Tiny ImageNet.\n",
        "    If `kind` is 'val', the dataloader should be deterministic.\n",
        "\n",
        "    path:\n",
        "        `str`\n",
        "        Path to the dataset root - a directory which contains 'train' and 'val' folders.\n",
        "    kind:\n",
        "        `str`\n",
        "        'train' or 'val'\n",
        "\n",
        "    return:\n",
        "    dataloader:\n",
        "        `torch.utils.data.DataLoader` or an object with equivalent interface\n",
        "        For each batch, should yield a tuple `(preprocessed_images, labels)` where\n",
        "        `preprocessed_images` is a proper input for `predict()` and `labels` is a\n",
        "        `torch.int64` tensor of shape `(batch_size,)` with ground truth class labels.\n",
        "    \"\"\"\n",
        "\n",
        "    if kind != 'train' and kind != 'val':\n",
        "        raise ValueError\n",
        "\n",
        "    # Well-known ImageNet statistics\n",
        "    normalize = TT.Normalize(mean=[0.485, 0.456, 0.406], std=[0.229, 0.224, 0.225])\n",
        "    \n",
        "    transform_dict = {\n",
        "\n",
        "        'train': TT.Compose([\n",
        "                TT.RandomChoice([\n",
        "                    TT.ColorJitter(saturation=0.1, hue=0.2),\n",
        "                    TT.RandomRotation(30),\n",
        "                    TT.Compose([\n",
        "                        TT.Pad(24),\n",
        "                        TT.RandomCrop(64)\n",
        "                    ])\n",
        "                ]),\n",
        "            TT.ToTensor(),\n",
        "            normalize\n",
        "        ]),\n",
        "\n",
        "        'val': TT.Compose([\n",
        "            TT.ToTensor(),\n",
        "            normalize\n",
        "        ])\n",
        "    }\n",
        "\n",
        "    data = datasets.ImageFolder(root=path + '/' + kind, transform=transform_dict[kind])\n",
        "    dataloader = torch.utils.data.DataLoader(data, batch_size=256, shuffle= (kind == 'train'), pin_memory=True)\n",
        "    \n",
        "    return dataloader"
      ],
      "metadata": {
        "id": "sdMXTFZPyT-0"
      },
      "execution_count": null,
      "outputs": []
    },
    {
      "cell_type": "code",
      "source": [
        "from torchvision.models import resnet34\n",
        "\n",
        "def get_model():\n",
        "    \"\"\"\n",
        "    Create neural net object, initialize it with raw weights, upload it to GPU.\n",
        "\n",
        "    return:\n",
        "    model:\n",
        "        `torch.nn.Module`\n",
        "    \"\"\"\n",
        "\n",
        "    return resnet34().cuda()"
      ],
      "metadata": {
        "id": "iTswcXfhyWkd"
      },
      "execution_count": null,
      "outputs": []
    },
    {
      "cell_type": "code",
      "source": [
        "def get_optimizer(model):\n",
        "    \"\"\"\n",
        "    Create an optimizer object for `model`, tuned for `train_on_tinyimagenet()`.\n",
        "\n",
        "    return:\n",
        "    optimizer:\n",
        "        `torch.optim.Optimizer`\n",
        "    \"\"\"\n",
        "    \n",
        "    return torch.optim.Adam(model.parameters(), lr=1e-3)"
      ],
      "metadata": {
        "id": "ihhuTitayX3t"
      },
      "execution_count": null,
      "outputs": []
    },
    {
      "cell_type": "code",
      "source": [
        "def predict(model, batch):\n",
        "    \"\"\"\n",
        "    model:\n",
        "        `torch.nn.Module`\n",
        "        The neural net, as defined by `get_model()`.\n",
        "    batch:\n",
        "        unspecified\n",
        "        A batch of Tiny ImageNet images, as yielded by `get_dataloader(..., 'val')`\n",
        "        (with same preprocessing and device).\n",
        "\n",
        "    return:\n",
        "    prediction:\n",
        "        `torch.tensor`, shape == (N, 200), dtype == `torch.float32`\n",
        "        The scores of each input image to belong to each of the dataset classes.\n",
        "        Namely, `prediction[i, j]` is the score of `i`-th minibatch sample to\n",
        "        belong to `j`-th class.\n",
        "        These scores can be 0..1 probabilities, but for better numerical stability\n",
        "        they can also be raw class scores after the last (usually linear) layer,\n",
        "        i.e. BEFORE softmax.\n",
        "    \"\"\"\n",
        "    \n",
        "    preds = model(batch)\n",
        "    return preds"
      ],
      "metadata": {
        "id": "j8rbY3vayaWI"
      },
      "execution_count": null,
      "outputs": []
    },
    {
      "cell_type": "code",
      "source": [
        "def validate(dataloader, model):\n",
        "    \"\"\"\n",
        "    Run `model` through all samples in `dataloader`, compute accuracy and loss.\n",
        "\n",
        "    dataloader:\n",
        "        `torch.utils.data.DataLoader` or an object with equivalent interface\n",
        "        See `get_dataloader()`.\n",
        "    model:\n",
        "        `torch.nn.Module`\n",
        "        See `get_model()`.\n",
        "\n",
        "    return:\n",
        "    accuracy:\n",
        "        `float`\n",
        "        The fraction of samples from `dataloader` correctly classified by `model`\n",
        "        (top-1 accuracy). `0.0 <= accuracy <= 1.0`\n",
        "    loss:\n",
        "        `float`\n",
        "        Average loss over all `dataloader` samples.\n",
        "    \"\"\"\n",
        "    \n",
        "    criterion = torch.nn.CrossEntropyLoss()\n",
        "\n",
        "    model.eval()\n",
        "\n",
        "    avg_loss = 0\n",
        "    avg_acc = 0\n",
        "\n",
        "    for batch_id, (input, target) in enumerate(dataloader):\n",
        "\n",
        "        input, target = input.to(device), target.to(device) \n",
        "\n",
        "        output = model(input)\n",
        "\n",
        "        loss = criterion(output, target)\n",
        "\n",
        "        avg_loss += loss.item() * input.shape[0]\n",
        "\n",
        "        y_pred = torch.argmax(output, dim=1)\n",
        "        avg_acc += (y_pred == target).sum().item()\n",
        "\n",
        "    avg_loss /= len(dataloader.dataset)\n",
        "    avg_acc /= len(dataloader.dataset)\n",
        "\n",
        "    return avg_acc, avg_loss"
      ],
      "metadata": {
        "id": "t8UkxdWQyb6Y"
      },
      "execution_count": null,
      "outputs": []
    },
    {
      "cell_type": "code",
      "source": [
        "from tqdm import tqdm\n",
        "# import wandb"
      ],
      "metadata": {
        "id": "7_CHQHoYcixU"
      },
      "execution_count": null,
      "outputs": []
    },
    {
      "cell_type": "code",
      "source": [
        "def load_weights(model, checkpoint_path):\n",
        "    \"\"\"\n",
        "    Initialize `model`'s weights from `checkpoint_path` file.\n",
        "\n",
        "    model:\n",
        "        `torch.nn.Module`\n",
        "        See `get_model()`.\n",
        "    checkpoint_path:\n",
        "        `str`\n",
        "        Path to the checkpoint.\n",
        "    \"\"\"\n",
        "    \n",
        "    model.load_state_dict(torch.load(checkpoint_path))"
      ],
      "metadata": {
        "id": "86iMzGfLyfDe"
      },
      "execution_count": null,
      "outputs": []
    },
    {
      "cell_type": "code",
      "source": [
        "# if len(os.listdir(CHECKPOINT_PATH)) != 0:\n",
        "#     load_weights(model, CHECKPOINT_PATH + f'/{type(model).__name__}.pth')"
      ],
      "metadata": {
        "id": "P2hW4Hib6eAK"
      },
      "execution_count": null,
      "outputs": []
    },
    {
      "cell_type": "code",
      "source": [
        "# import wandb\n",
        "\n",
        "# wandb.init(project=f'tiny_image_net_on_{type(model).__name__}')\n",
        "\n",
        "# # define a metric we are interested in the minimum of\n",
        "# wandb.define_metric('train/loss', summary='min')\n",
        "# wandb.define_metric('val/loss', summary='min')\n",
        "\n",
        "# # define a metric we are interested in the maximum of\n",
        "# wandb.define_metric('train/acc', summary='max')\n",
        "# wandb.define_metric('val/acc', summary='max')\n",
        "\n",
        "# log_dict = {}"
      ],
      "metadata": {
        "id": "PXS3BkwiCVON"
      },
      "execution_count": null,
      "outputs": []
    },
    {
      "cell_type": "code",
      "source": [
        "def train_on_tinyimagenet(train_dataloader, val_dataloader, model, optimizer):\n",
        "    \"\"\"\n",
        "    Train `model` on `train_dataloader` using `optimizer`. Use best-accuracy settings.\n",
        "\n",
        "    train_dataloader:\n",
        "    val_dataloader:\n",
        "        See `get_dataloader()`.\n",
        "    model:\n",
        "        See `get_model()`.\n",
        "    optimizer:\n",
        "        See `get_optimizer()`.\n",
        "    \"\"\"\n",
        "\n",
        "    criterion = torch.nn.CrossEntropyLoss()\n",
        "    \n",
        "    for epoch in tqdm(range(200)):\n",
        "\n",
        "        model.train()\n",
        "\n",
        "        train_loss, train_acc = 0, 0\n",
        "        \n",
        "        for batch_id, (input, target) in enumerate(train_dataloader):\n",
        "            optimizer.zero_grad()\n",
        "\n",
        "            input, target = input.to(device), target.to(device) \n",
        "            \n",
        "            output = model(input)        \n",
        "            \n",
        "            loss = criterion(output, target)\n",
        "\n",
        "            loss.backward()\n",
        "            optimizer.step()\n",
        "\n",
        "            train_loss += loss.item() * input.shape[0]\n",
        "\n",
        "            y_pred = torch.argmax(output, dim=1)\n",
        "            train_acc += (y_pred == target).sum().item()\n",
        "\n",
        "        train_loss /= len(train_dataloader.dataset)\n",
        "        train_acc /= len(train_dataloader.dataset)      \n",
        "        \n",
        "        val_acc, val_loss = validate(val_dataloader, model)\n",
        "\n",
        "        print(f'[Epoch {epoch + 1}] train loss: {train_loss:.4f}; train acc: {train_acc:.4f}; ' + \n",
        "              f'test loss: {val_loss:.4f}; test acc: {val_acc:.4f}')\n",
        "        \n",
        "        # if DO_SAVE_CHECKPOINT and epoch % 5 == 0:\n",
        "            # torch.save(model.state_dict(), CHECKPOINT_PATH + f'/{type(model).__name__}.pth')\n",
        "\n",
        "        # log_dict['train/loss'] = train_loss\n",
        "        # log_dict['train/acc'] = train_acc\n",
        "\n",
        "        # log_dict['val/loss'] = val_loss\n",
        "        # log_dict['val/acc'] = val_acc\n",
        "\n",
        "        # wandb.log(log_dict)     "
      ],
      "metadata": {
        "id": "54DTatcAydzQ"
      },
      "execution_count": null,
      "outputs": []
    },
    {
      "cell_type": "code",
      "source": [
        "def get_checkpoint_metadata():\n",
        "    \"\"\"\n",
        "    Return hard-coded metadata for 'checkpoint.pth'.\n",
        "    Very important for grading.\n",
        "\n",
        "    return:\n",
        "    md5_checksum:\n",
        "        `str`\n",
        "        MD5 checksum for the submitted 'checkpoint.pth'.\n",
        "        On Linux (in Colab too), use `$ md5sum checkpoint.pth`.\n",
        "        On Windows, use `> CertUtil -hashfile checkpoint.pth MD5`.\n",
        "        On Mac, use `$ brew install md5sha1sum`.\n",
        "    google_drive_link:\n",
        "        `str`\n",
        "        View-only Google Drive link to the submitted 'checkpoint.pth'.\n",
        "        The file must have the same checksum as in `md5_checksum`.\n",
        "    \"\"\"\n",
        "    md5_checksum = \"188d032a7704c15938d7a913617174c4\"\n",
        "    google_drive_link = \"https://drive.google.com/file/d/1--hIiSBW3fUPQzi4PBz7mBHj0j2HEhmo/view?usp=sharing\"\n",
        "\n",
        "    return md5_checksum, google_drive_link"
      ],
      "metadata": {
        "id": "5nxgVRMSygnI"
      },
      "execution_count": null,
      "outputs": []
    }
  ]
}